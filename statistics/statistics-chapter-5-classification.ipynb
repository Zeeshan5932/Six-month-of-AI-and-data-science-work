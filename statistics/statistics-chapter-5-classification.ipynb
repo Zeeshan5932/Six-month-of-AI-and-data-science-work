{
 "cells": [
  {
   "cell_type": "markdown",
   "id": "6e470a6a",
   "metadata": {
    "papermill": {
     "duration": 0.010178,
     "end_time": "2024-04-21T15:33:53.024172",
     "exception": false,
     "start_time": "2024-04-21T15:33:53.013994",
     "status": "completed"
    },
    "tags": []
   },
   "source": [
    "## [Link to all chapters](https://www.kaggle.com/ustcer1984/statistics-with-python-for-data-science)"
   ]
  },
  {
   "cell_type": "code",
   "execution_count": 1,
   "id": "773bb4a9",
   "metadata": {
    "_kg_hide-input": true,
    "_kg_hide-output": true,
    "execution": {
     "iopub.execute_input": "2024-04-21T15:33:53.045651Z",
     "iopub.status.busy": "2024-04-21T15:33:53.045247Z",
     "iopub.status.idle": "2024-04-21T15:34:11.191706Z",
     "shell.execute_reply": "2024-04-21T15:34:11.190150Z"
    },
    "papermill": {
     "duration": 18.159916,
     "end_time": "2024-04-21T15:34:11.194349",
     "exception": false,
     "start_time": "2024-04-21T15:33:53.034433",
     "status": "completed"
    },
    "tags": []
   },
   "outputs": [
    {
     "name": "stdout",
     "output_type": "stream",
     "text": [
      "Requirement already satisfied: scikit-learn in /opt/conda/lib/python3.10/site-packages (1.2.2)\r\n",
      "Collecting scikit-learn\r\n",
      "  Downloading scikit_learn-1.4.2-cp310-cp310-manylinux_2_17_x86_64.manylinux2014_x86_64.whl.metadata (11 kB)\r\n",
      "Requirement already satisfied: numpy>=1.19.5 in /opt/conda/lib/python3.10/site-packages (from scikit-learn) (1.26.4)\r\n",
      "Requirement already satisfied: scipy>=1.6.0 in /opt/conda/lib/python3.10/site-packages (from scikit-learn) (1.11.4)\r\n",
      "Requirement already satisfied: joblib>=1.2.0 in /opt/conda/lib/python3.10/site-packages (from scikit-learn) (1.4.0)\r\n",
      "Requirement already satisfied: threadpoolctl>=2.0.0 in /opt/conda/lib/python3.10/site-packages (from scikit-learn) (3.2.0)\r\n",
      "Downloading scikit_learn-1.4.2-cp310-cp310-manylinux_2_17_x86_64.manylinux2014_x86_64.whl (12.1 MB)\r\n",
      "\u001b[2K   \u001b[90m━━━━━━━━━━━━━━━━━━━━━━━━━━━━━━━━━━━━━━━━\u001b[0m \u001b[32m12.1/12.1 MB\u001b[0m \u001b[31m76.9 MB/s\u001b[0m eta \u001b[36m0:00:00\u001b[0m\r\n",
      "\u001b[?25hInstalling collected packages: scikit-learn\r\n",
      "  Attempting uninstall: scikit-learn\r\n",
      "    Found existing installation: scikit-learn 1.2.2\r\n",
      "    Uninstalling scikit-learn-1.2.2:\r\n",
      "      Successfully uninstalled scikit-learn-1.2.2\r\n",
      "\u001b[31mERROR: pip's dependency resolver does not currently take into account all the packages that are installed. This behaviour is the source of the following dependency conflicts.\r\n",
      "spopt 0.6.0 requires shapely>=2.0.1, but you have shapely 1.8.5.post1 which is incompatible.\u001b[0m\u001b[31m\r\n",
      "\u001b[0mSuccessfully installed scikit-learn-1.4.2\r\n",
      "Note: you may need to restart the kernel to use updated packages.\n"
     ]
    }
   ],
   "source": [
    "%pip install scikit-learn --upgrade"
   ]
  },
  {
   "cell_type": "code",
   "execution_count": 2,
   "id": "d1c6355f",
   "metadata": {
    "execution": {
     "iopub.execute_input": "2024-04-21T15:34:11.217979Z",
     "iopub.status.busy": "2024-04-21T15:34:11.217564Z",
     "iopub.status.idle": "2024-04-21T15:34:14.354456Z",
     "shell.execute_reply": "2024-04-21T15:34:14.353250Z"
    },
    "papermill": {
     "duration": 3.151943,
     "end_time": "2024-04-21T15:34:14.357214",
     "exception": false,
     "start_time": "2024-04-21T15:34:11.205271",
     "status": "completed"
    },
    "tags": []
   },
   "outputs": [],
   "source": [
    "import numpy as np\n",
    "import pandas as pd\n",
    "\n",
    "from sklearn.naive_bayes import MultinomialNB\n",
    "from sklearn.discriminant_analysis import LinearDiscriminantAnalysis\n",
    "from sklearn.linear_model import LogisticRegression\n",
    "from sklearn import metrics\n",
    "\n",
    "import scikitplot as skplt\n",
    "\n",
    "import matplotlib.pyplot as plt\n",
    "import seaborn as sns\n",
    "sns.set_theme() # I like seaborn default theme\n",
    "\n",
    "import warnings\n",
    "warnings.filterwarnings('ignore')\n",
    "\n",
    "input_path = '/kaggle/input/practical-statistics-with-python-for-data-science/'\n",
    "loan_data = pd.read_csv(input_path + 'loan_data.csv')\n",
    "loan3000 = pd.read_csv(input_path + 'loan3000.csv')\n",
    "full_train_set = pd.read_csv(input_path + 'full_train_set.csv')"
   ]
  },
  {
   "cell_type": "markdown",
   "id": "947ec1f6",
   "metadata": {
    "papermill": {
     "duration": 0.010631,
     "end_time": "2024-04-21T15:34:14.379871",
     "exception": false,
     "start_time": "2024-04-21T15:34:14.369240",
     "status": "completed"
    },
    "tags": []
   },
   "source": [
    "# 5 Classification\n",
    "\n",
    "## 5.1 Naive Bayes\n",
    "\n",
    "#### <center>Key Terms for Naive Bayes</center>\n",
    "- ***Conditional probability***  \n",
    "The probability of observing some event (say, $X = i$) given some other event (say, $Y = i$), written as $P(X_i | Y_i)$.\n",
    "- ***Posterior probability***  \n",
    "The probability of an outcome after the predictor information has been incorporated (in contrast to the prior probability of outcomes, not taking predictor information into account)."
   ]
  },
  {
   "cell_type": "markdown",
   "id": "1ead12f4",
   "metadata": {
    "papermill": {
     "duration": 0.010605,
     "end_time": "2024-04-21T15:34:14.401687",
     "exception": false,
     "start_time": "2024-04-21T15:34:14.391082",
     "status": "completed"
    },
    "tags": []
   },
   "source": [
    "### Complete or exact Bayesian classification\n",
    "\n",
    "1. Find all the other records with the same predictor profile (i.e., where the predictor values are the same).\n",
    "2. Determine what classes those records belong to and which class is most prevalent (i.e., probable).\n",
    "3. Assign that class to the new record.\n",
    "\n",
    "Here is the full formula for calculating class probabilities using exact Bayes classification:\n",
    "$$\\begin{aligned}\n",
    "& P(Y=i|X_1,X_2,\\cdots,X_p)\\\\\n",
    "= & \\frac{P(Y=i)P(X_1,\\cdots,X_p|Y=i)}\n",
    "{P(Y=0)P(X_1,\\cdots,X_p|Y=0)+P(Y=1)P(X_1,\\cdots,X_p|Y=1)}\n",
    "\\end{aligned}$$\n",
    "\n",
    "Exact Bayesian classification is **impractical**.  \n",
    "- When the number of predictor variables exceeds a handful, many of the records to be classified will be without exact matches."
   ]
  },
  {
   "cell_type": "markdown",
   "id": "7d74c941",
   "metadata": {
    "papermill": {
     "duration": 0.010778,
     "end_time": "2024-04-21T15:34:14.423138",
     "exception": false,
     "start_time": "2024-04-21T15:34:14.412360",
     "status": "completed"
    },
    "tags": []
   },
   "source": [
    "### The Naive Solution\n",
    "\n",
    "In the naive Bayes solution, we no longer restrict the probability calculation to those records that match the record to be classified.  \n",
    "1. For a binary response $Y = i$ ($i = 0 \\text{ or } 1$), estimate the individual conditional probabilities for each predictor $P(X_j | Y = i)$; these are the probabilities that the predictor value is in the record when we observe $Y = i$. This probability is estimated by the proportion of $X_j$ values among the $Y = i$ records in the training set.\n",
    "2. Multiply these probabilities by each other, and then by the proportion of records belonging to $Y = i$.\n",
    "3. Repeat steps 1 and 2 for all the classes.\n",
    "4. Estimate a probability for outcome $i$ by taking the value calculated in step 2 for class $i$ and dividing it by the sum of such values for all classes.\n",
    "5. Assign the record to the class with the highest probability for this set of predictor values.\n",
    "\n",
    "Under the naive Bayes **assumption** of ***conditional independence***, this equation changes into:\n",
    "$$\\begin{aligned}\n",
    "& P(Y=i|X_1,X_2,\\cdots,X_p)\\\\\n",
    "= & \\frac{P(Y=i)\\prod_{j=1}^{p}P(X_j|Y=i)}\n",
    "{P(Y=0)\\prod_{j=1}^{p}P(X_j|Y=0)+P(Y=1)\\prod_{j=1}^{p}P(X_j|Y=1)}\n",
    "\\end{aligned}$$\n",
    "\n",
    "**NOTE**  \n",
    "- This formula is based a simplifying assumption that all the predictor variables are ***independent***. That's why it is called \"naive\".\n",
    "- The Bayesian classifier works only with **categorical** predictors. To apply naive Bayes to numerical predictors, one of the two approaches must be taken:\n",
    "    1. Bin and convert the numerical predictors to categorical predictors and apply the algorithm of the previous section.\n",
    "    2. Use a probability model (for example, the normal distribution) to estimate the conditional probability $P(X_j|Y=i)$."
   ]
  },
  {
   "cell_type": "markdown",
   "id": "b564b9b1",
   "metadata": {
    "papermill": {
     "duration": 0.010737,
     "end_time": "2024-04-21T15:34:14.444832",
     "exception": false,
     "start_time": "2024-04-21T15:34:14.434095",
     "status": "completed"
    },
    "tags": []
   },
   "source": [
    "### Example\n",
    "\n",
    "Naive Bayes model for the loan payment data."
   ]
  },
  {
   "cell_type": "code",
   "execution_count": 3,
   "id": "6dc5b2ac",
   "metadata": {
    "execution": {
     "iopub.execute_input": "2024-04-21T15:34:14.467706Z",
     "iopub.status.busy": "2024-04-21T15:34:14.467340Z",
     "iopub.status.idle": "2024-04-21T15:34:14.651453Z",
     "shell.execute_reply": "2024-04-21T15:34:14.650309Z"
    },
    "papermill": {
     "duration": 0.19821,
     "end_time": "2024-04-21T15:34:14.653742",
     "exception": false,
     "start_time": "2024-04-21T15:34:14.455532",
     "status": "completed"
    },
    "tags": []
   },
   "outputs": [
    {
     "data": {
      "text/html": [
       "<style>#sk-container-id-1 {\n",
       "  /* Definition of color scheme common for light and dark mode */\n",
       "  --sklearn-color-text: black;\n",
       "  --sklearn-color-line: gray;\n",
       "  /* Definition of color scheme for unfitted estimators */\n",
       "  --sklearn-color-unfitted-level-0: #fff5e6;\n",
       "  --sklearn-color-unfitted-level-1: #f6e4d2;\n",
       "  --sklearn-color-unfitted-level-2: #ffe0b3;\n",
       "  --sklearn-color-unfitted-level-3: chocolate;\n",
       "  /* Definition of color scheme for fitted estimators */\n",
       "  --sklearn-color-fitted-level-0: #f0f8ff;\n",
       "  --sklearn-color-fitted-level-1: #d4ebff;\n",
       "  --sklearn-color-fitted-level-2: #b3dbfd;\n",
       "  --sklearn-color-fitted-level-3: cornflowerblue;\n",
       "\n",
       "  /* Specific color for light theme */\n",
       "  --sklearn-color-text-on-default-background: var(--sg-text-color, var(--theme-code-foreground, var(--jp-content-font-color1, black)));\n",
       "  --sklearn-color-background: var(--sg-background-color, var(--theme-background, var(--jp-layout-color0, white)));\n",
       "  --sklearn-color-border-box: var(--sg-text-color, var(--theme-code-foreground, var(--jp-content-font-color1, black)));\n",
       "  --sklearn-color-icon: #696969;\n",
       "\n",
       "  @media (prefers-color-scheme: dark) {\n",
       "    /* Redefinition of color scheme for dark theme */\n",
       "    --sklearn-color-text-on-default-background: var(--sg-text-color, var(--theme-code-foreground, var(--jp-content-font-color1, white)));\n",
       "    --sklearn-color-background: var(--sg-background-color, var(--theme-background, var(--jp-layout-color0, #111)));\n",
       "    --sklearn-color-border-box: var(--sg-text-color, var(--theme-code-foreground, var(--jp-content-font-color1, white)));\n",
       "    --sklearn-color-icon: #878787;\n",
       "  }\n",
       "}\n",
       "\n",
       "#sk-container-id-1 {\n",
       "  color: var(--sklearn-color-text);\n",
       "}\n",
       "\n",
       "#sk-container-id-1 pre {\n",
       "  padding: 0;\n",
       "}\n",
       "\n",
       "#sk-container-id-1 input.sk-hidden--visually {\n",
       "  border: 0;\n",
       "  clip: rect(1px 1px 1px 1px);\n",
       "  clip: rect(1px, 1px, 1px, 1px);\n",
       "  height: 1px;\n",
       "  margin: -1px;\n",
       "  overflow: hidden;\n",
       "  padding: 0;\n",
       "  position: absolute;\n",
       "  width: 1px;\n",
       "}\n",
       "\n",
       "#sk-container-id-1 div.sk-dashed-wrapped {\n",
       "  border: 1px dashed var(--sklearn-color-line);\n",
       "  margin: 0 0.4em 0.5em 0.4em;\n",
       "  box-sizing: border-box;\n",
       "  padding-bottom: 0.4em;\n",
       "  background-color: var(--sklearn-color-background);\n",
       "}\n",
       "\n",
       "#sk-container-id-1 div.sk-container {\n",
       "  /* jupyter's `normalize.less` sets `[hidden] { display: none; }`\n",
       "     but bootstrap.min.css set `[hidden] { display: none !important; }`\n",
       "     so we also need the `!important` here to be able to override the\n",
       "     default hidden behavior on the sphinx rendered scikit-learn.org.\n",
       "     See: https://github.com/scikit-learn/scikit-learn/issues/21755 */\n",
       "  display: inline-block !important;\n",
       "  position: relative;\n",
       "}\n",
       "\n",
       "#sk-container-id-1 div.sk-text-repr-fallback {\n",
       "  display: none;\n",
       "}\n",
       "\n",
       "div.sk-parallel-item,\n",
       "div.sk-serial,\n",
       "div.sk-item {\n",
       "  /* draw centered vertical line to link estimators */\n",
       "  background-image: linear-gradient(var(--sklearn-color-text-on-default-background), var(--sklearn-color-text-on-default-background));\n",
       "  background-size: 2px 100%;\n",
       "  background-repeat: no-repeat;\n",
       "  background-position: center center;\n",
       "}\n",
       "\n",
       "/* Parallel-specific style estimator block */\n",
       "\n",
       "#sk-container-id-1 div.sk-parallel-item::after {\n",
       "  content: \"\";\n",
       "  width: 100%;\n",
       "  border-bottom: 2px solid var(--sklearn-color-text-on-default-background);\n",
       "  flex-grow: 1;\n",
       "}\n",
       "\n",
       "#sk-container-id-1 div.sk-parallel {\n",
       "  display: flex;\n",
       "  align-items: stretch;\n",
       "  justify-content: center;\n",
       "  background-color: var(--sklearn-color-background);\n",
       "  position: relative;\n",
       "}\n",
       "\n",
       "#sk-container-id-1 div.sk-parallel-item {\n",
       "  display: flex;\n",
       "  flex-direction: column;\n",
       "}\n",
       "\n",
       "#sk-container-id-1 div.sk-parallel-item:first-child::after {\n",
       "  align-self: flex-end;\n",
       "  width: 50%;\n",
       "}\n",
       "\n",
       "#sk-container-id-1 div.sk-parallel-item:last-child::after {\n",
       "  align-self: flex-start;\n",
       "  width: 50%;\n",
       "}\n",
       "\n",
       "#sk-container-id-1 div.sk-parallel-item:only-child::after {\n",
       "  width: 0;\n",
       "}\n",
       "\n",
       "/* Serial-specific style estimator block */\n",
       "\n",
       "#sk-container-id-1 div.sk-serial {\n",
       "  display: flex;\n",
       "  flex-direction: column;\n",
       "  align-items: center;\n",
       "  background-color: var(--sklearn-color-background);\n",
       "  padding-right: 1em;\n",
       "  padding-left: 1em;\n",
       "}\n",
       "\n",
       "\n",
       "/* Toggleable style: style used for estimator/Pipeline/ColumnTransformer box that is\n",
       "clickable and can be expanded/collapsed.\n",
       "- Pipeline and ColumnTransformer use this feature and define the default style\n",
       "- Estimators will overwrite some part of the style using the `sk-estimator` class\n",
       "*/\n",
       "\n",
       "/* Pipeline and ColumnTransformer style (default) */\n",
       "\n",
       "#sk-container-id-1 div.sk-toggleable {\n",
       "  /* Default theme specific background. It is overwritten whether we have a\n",
       "  specific estimator or a Pipeline/ColumnTransformer */\n",
       "  background-color: var(--sklearn-color-background);\n",
       "}\n",
       "\n",
       "/* Toggleable label */\n",
       "#sk-container-id-1 label.sk-toggleable__label {\n",
       "  cursor: pointer;\n",
       "  display: block;\n",
       "  width: 100%;\n",
       "  margin-bottom: 0;\n",
       "  padding: 0.5em;\n",
       "  box-sizing: border-box;\n",
       "  text-align: center;\n",
       "}\n",
       "\n",
       "#sk-container-id-1 label.sk-toggleable__label-arrow:before {\n",
       "  /* Arrow on the left of the label */\n",
       "  content: \"▸\";\n",
       "  float: left;\n",
       "  margin-right: 0.25em;\n",
       "  color: var(--sklearn-color-icon);\n",
       "}\n",
       "\n",
       "#sk-container-id-1 label.sk-toggleable__label-arrow:hover:before {\n",
       "  color: var(--sklearn-color-text);\n",
       "}\n",
       "\n",
       "/* Toggleable content - dropdown */\n",
       "\n",
       "#sk-container-id-1 div.sk-toggleable__content {\n",
       "  max-height: 0;\n",
       "  max-width: 0;\n",
       "  overflow: hidden;\n",
       "  text-align: left;\n",
       "  /* unfitted */\n",
       "  background-color: var(--sklearn-color-unfitted-level-0);\n",
       "}\n",
       "\n",
       "#sk-container-id-1 div.sk-toggleable__content.fitted {\n",
       "  /* fitted */\n",
       "  background-color: var(--sklearn-color-fitted-level-0);\n",
       "}\n",
       "\n",
       "#sk-container-id-1 div.sk-toggleable__content pre {\n",
       "  margin: 0.2em;\n",
       "  border-radius: 0.25em;\n",
       "  color: var(--sklearn-color-text);\n",
       "  /* unfitted */\n",
       "  background-color: var(--sklearn-color-unfitted-level-0);\n",
       "}\n",
       "\n",
       "#sk-container-id-1 div.sk-toggleable__content.fitted pre {\n",
       "  /* unfitted */\n",
       "  background-color: var(--sklearn-color-fitted-level-0);\n",
       "}\n",
       "\n",
       "#sk-container-id-1 input.sk-toggleable__control:checked~div.sk-toggleable__content {\n",
       "  /* Expand drop-down */\n",
       "  max-height: 200px;\n",
       "  max-width: 100%;\n",
       "  overflow: auto;\n",
       "}\n",
       "\n",
       "#sk-container-id-1 input.sk-toggleable__control:checked~label.sk-toggleable__label-arrow:before {\n",
       "  content: \"▾\";\n",
       "}\n",
       "\n",
       "/* Pipeline/ColumnTransformer-specific style */\n",
       "\n",
       "#sk-container-id-1 div.sk-label input.sk-toggleable__control:checked~label.sk-toggleable__label {\n",
       "  color: var(--sklearn-color-text);\n",
       "  background-color: var(--sklearn-color-unfitted-level-2);\n",
       "}\n",
       "\n",
       "#sk-container-id-1 div.sk-label.fitted input.sk-toggleable__control:checked~label.sk-toggleable__label {\n",
       "  background-color: var(--sklearn-color-fitted-level-2);\n",
       "}\n",
       "\n",
       "/* Estimator-specific style */\n",
       "\n",
       "/* Colorize estimator box */\n",
       "#sk-container-id-1 div.sk-estimator input.sk-toggleable__control:checked~label.sk-toggleable__label {\n",
       "  /* unfitted */\n",
       "  background-color: var(--sklearn-color-unfitted-level-2);\n",
       "}\n",
       "\n",
       "#sk-container-id-1 div.sk-estimator.fitted input.sk-toggleable__control:checked~label.sk-toggleable__label {\n",
       "  /* fitted */\n",
       "  background-color: var(--sklearn-color-fitted-level-2);\n",
       "}\n",
       "\n",
       "#sk-container-id-1 div.sk-label label.sk-toggleable__label,\n",
       "#sk-container-id-1 div.sk-label label {\n",
       "  /* The background is the default theme color */\n",
       "  color: var(--sklearn-color-text-on-default-background);\n",
       "}\n",
       "\n",
       "/* On hover, darken the color of the background */\n",
       "#sk-container-id-1 div.sk-label:hover label.sk-toggleable__label {\n",
       "  color: var(--sklearn-color-text);\n",
       "  background-color: var(--sklearn-color-unfitted-level-2);\n",
       "}\n",
       "\n",
       "/* Label box, darken color on hover, fitted */\n",
       "#sk-container-id-1 div.sk-label.fitted:hover label.sk-toggleable__label.fitted {\n",
       "  color: var(--sklearn-color-text);\n",
       "  background-color: var(--sklearn-color-fitted-level-2);\n",
       "}\n",
       "\n",
       "/* Estimator label */\n",
       "\n",
       "#sk-container-id-1 div.sk-label label {\n",
       "  font-family: monospace;\n",
       "  font-weight: bold;\n",
       "  display: inline-block;\n",
       "  line-height: 1.2em;\n",
       "}\n",
       "\n",
       "#sk-container-id-1 div.sk-label-container {\n",
       "  text-align: center;\n",
       "}\n",
       "\n",
       "/* Estimator-specific */\n",
       "#sk-container-id-1 div.sk-estimator {\n",
       "  font-family: monospace;\n",
       "  border: 1px dotted var(--sklearn-color-border-box);\n",
       "  border-radius: 0.25em;\n",
       "  box-sizing: border-box;\n",
       "  margin-bottom: 0.5em;\n",
       "  /* unfitted */\n",
       "  background-color: var(--sklearn-color-unfitted-level-0);\n",
       "}\n",
       "\n",
       "#sk-container-id-1 div.sk-estimator.fitted {\n",
       "  /* fitted */\n",
       "  background-color: var(--sklearn-color-fitted-level-0);\n",
       "}\n",
       "\n",
       "/* on hover */\n",
       "#sk-container-id-1 div.sk-estimator:hover {\n",
       "  /* unfitted */\n",
       "  background-color: var(--sklearn-color-unfitted-level-2);\n",
       "}\n",
       "\n",
       "#sk-container-id-1 div.sk-estimator.fitted:hover {\n",
       "  /* fitted */\n",
       "  background-color: var(--sklearn-color-fitted-level-2);\n",
       "}\n",
       "\n",
       "/* Specification for estimator info (e.g. \"i\" and \"?\") */\n",
       "\n",
       "/* Common style for \"i\" and \"?\" */\n",
       "\n",
       ".sk-estimator-doc-link,\n",
       "a:link.sk-estimator-doc-link,\n",
       "a:visited.sk-estimator-doc-link {\n",
       "  float: right;\n",
       "  font-size: smaller;\n",
       "  line-height: 1em;\n",
       "  font-family: monospace;\n",
       "  background-color: var(--sklearn-color-background);\n",
       "  border-radius: 1em;\n",
       "  height: 1em;\n",
       "  width: 1em;\n",
       "  text-decoration: none !important;\n",
       "  margin-left: 1ex;\n",
       "  /* unfitted */\n",
       "  border: var(--sklearn-color-unfitted-level-1) 1pt solid;\n",
       "  color: var(--sklearn-color-unfitted-level-1);\n",
       "}\n",
       "\n",
       ".sk-estimator-doc-link.fitted,\n",
       "a:link.sk-estimator-doc-link.fitted,\n",
       "a:visited.sk-estimator-doc-link.fitted {\n",
       "  /* fitted */\n",
       "  border: var(--sklearn-color-fitted-level-1) 1pt solid;\n",
       "  color: var(--sklearn-color-fitted-level-1);\n",
       "}\n",
       "\n",
       "/* On hover */\n",
       "div.sk-estimator:hover .sk-estimator-doc-link:hover,\n",
       ".sk-estimator-doc-link:hover,\n",
       "div.sk-label-container:hover .sk-estimator-doc-link:hover,\n",
       ".sk-estimator-doc-link:hover {\n",
       "  /* unfitted */\n",
       "  background-color: var(--sklearn-color-unfitted-level-3);\n",
       "  color: var(--sklearn-color-background);\n",
       "  text-decoration: none;\n",
       "}\n",
       "\n",
       "div.sk-estimator.fitted:hover .sk-estimator-doc-link.fitted:hover,\n",
       ".sk-estimator-doc-link.fitted:hover,\n",
       "div.sk-label-container:hover .sk-estimator-doc-link.fitted:hover,\n",
       ".sk-estimator-doc-link.fitted:hover {\n",
       "  /* fitted */\n",
       "  background-color: var(--sklearn-color-fitted-level-3);\n",
       "  color: var(--sklearn-color-background);\n",
       "  text-decoration: none;\n",
       "}\n",
       "\n",
       "/* Span, style for the box shown on hovering the info icon */\n",
       ".sk-estimator-doc-link span {\n",
       "  display: none;\n",
       "  z-index: 9999;\n",
       "  position: relative;\n",
       "  font-weight: normal;\n",
       "  right: .2ex;\n",
       "  padding: .5ex;\n",
       "  margin: .5ex;\n",
       "  width: min-content;\n",
       "  min-width: 20ex;\n",
       "  max-width: 50ex;\n",
       "  color: var(--sklearn-color-text);\n",
       "  box-shadow: 2pt 2pt 4pt #999;\n",
       "  /* unfitted */\n",
       "  background: var(--sklearn-color-unfitted-level-0);\n",
       "  border: .5pt solid var(--sklearn-color-unfitted-level-3);\n",
       "}\n",
       "\n",
       ".sk-estimator-doc-link.fitted span {\n",
       "  /* fitted */\n",
       "  background: var(--sklearn-color-fitted-level-0);\n",
       "  border: var(--sklearn-color-fitted-level-3);\n",
       "}\n",
       "\n",
       ".sk-estimator-doc-link:hover span {\n",
       "  display: block;\n",
       "}\n",
       "\n",
       "/* \"?\"-specific style due to the `<a>` HTML tag */\n",
       "\n",
       "#sk-container-id-1 a.estimator_doc_link {\n",
       "  float: right;\n",
       "  font-size: 1rem;\n",
       "  line-height: 1em;\n",
       "  font-family: monospace;\n",
       "  background-color: var(--sklearn-color-background);\n",
       "  border-radius: 1rem;\n",
       "  height: 1rem;\n",
       "  width: 1rem;\n",
       "  text-decoration: none;\n",
       "  /* unfitted */\n",
       "  color: var(--sklearn-color-unfitted-level-1);\n",
       "  border: var(--sklearn-color-unfitted-level-1) 1pt solid;\n",
       "}\n",
       "\n",
       "#sk-container-id-1 a.estimator_doc_link.fitted {\n",
       "  /* fitted */\n",
       "  border: var(--sklearn-color-fitted-level-1) 1pt solid;\n",
       "  color: var(--sklearn-color-fitted-level-1);\n",
       "}\n",
       "\n",
       "/* On hover */\n",
       "#sk-container-id-1 a.estimator_doc_link:hover {\n",
       "  /* unfitted */\n",
       "  background-color: var(--sklearn-color-unfitted-level-3);\n",
       "  color: var(--sklearn-color-background);\n",
       "  text-decoration: none;\n",
       "}\n",
       "\n",
       "#sk-container-id-1 a.estimator_doc_link.fitted:hover {\n",
       "  /* fitted */\n",
       "  background-color: var(--sklearn-color-fitted-level-3);\n",
       "}\n",
       "</style><div id=\"sk-container-id-1\" class=\"sk-top-container\"><div class=\"sk-text-repr-fallback\"><pre>MultinomialNB(alpha=0.01)</pre><b>In a Jupyter environment, please rerun this cell to show the HTML representation or trust the notebook. <br />On GitHub, the HTML representation is unable to render, please try loading this page with nbviewer.org.</b></div><div class=\"sk-container\" hidden><div class=\"sk-item\"><div class=\"sk-estimator fitted sk-toggleable\"><input class=\"sk-toggleable__control sk-hidden--visually\" id=\"sk-estimator-id-1\" type=\"checkbox\" checked><label for=\"sk-estimator-id-1\" class=\"sk-toggleable__label fitted sk-toggleable__label-arrow fitted\">&nbsp;&nbsp;MultinomialNB<a class=\"sk-estimator-doc-link fitted\" rel=\"noreferrer\" target=\"_blank\" href=\"https://scikit-learn.org/1.4/modules/generated/sklearn.naive_bayes.MultinomialNB.html\">?<span>Documentation for MultinomialNB</span></a><span class=\"sk-estimator-doc-link fitted\">i<span>Fitted</span></span></label><div class=\"sk-toggleable__content fitted\"><pre>MultinomialNB(alpha=0.01)</pre></div> </div></div></div></div>"
      ],
      "text/plain": [
       "MultinomialNB(alpha=0.01)"
      ]
     },
     "execution_count": 3,
     "metadata": {},
     "output_type": "execute_result"
    }
   ],
   "source": [
    "predictors = ['purpose_', 'home_', 'emp_len_']\n",
    "outcome = 'outcome'\n",
    "X = pd.get_dummies(loan_data[predictors], prefix='', prefix_sep='')\n",
    "y = loan_data[outcome]\n",
    "\n",
    "naive_model = MultinomialNB(alpha=0.01, fit_prior=True)\n",
    "naive_model.fit(X, y)"
   ]
  },
  {
   "cell_type": "markdown",
   "id": "03229381",
   "metadata": {
    "papermill": {
     "duration": 0.011252,
     "end_time": "2024-04-21T15:34:14.676686",
     "exception": false,
     "start_time": "2024-04-21T15:34:14.665434",
     "status": "completed"
    },
    "tags": []
   },
   "source": [
    "Below code shows the conditional probabilities $P(X_j|Y=i)$"
   ]
  },
  {
   "cell_type": "code",
   "execution_count": 4,
   "id": "d3986a1f",
   "metadata": {
    "execution": {
     "iopub.execute_input": "2024-04-21T15:34:14.701077Z",
     "iopub.status.busy": "2024-04-21T15:34:14.700703Z",
     "iopub.status.idle": "2024-04-21T15:34:14.722849Z",
     "shell.execute_reply": "2024-04-21T15:34:14.722104Z"
    },
    "papermill": {
     "duration": 0.036705,
     "end_time": "2024-04-21T15:34:14.724779",
     "exception": false,
     "start_time": "2024-04-21T15:34:14.688074",
     "status": "completed"
    },
    "tags": []
   },
   "outputs": [
    {
     "data": {
      "text/html": [
       "<div>\n",
       "<style scoped>\n",
       "    .dataframe tbody tr th:only-of-type {\n",
       "        vertical-align: middle;\n",
       "    }\n",
       "\n",
       "    .dataframe tbody tr th {\n",
       "        vertical-align: top;\n",
       "    }\n",
       "\n",
       "    .dataframe thead th {\n",
       "        text-align: right;\n",
       "    }\n",
       "</style>\n",
       "<table border=\"1\" class=\"dataframe\">\n",
       "  <thead>\n",
       "    <tr style=\"text-align: right;\">\n",
       "      <th></th>\n",
       "      <th>credit_card</th>\n",
       "      <th>debt_consolidation</th>\n",
       "      <th>home_improvement</th>\n",
       "      <th>major_purchase</th>\n",
       "      <th>medical</th>\n",
       "      <th>other</th>\n",
       "      <th>small_business</th>\n",
       "      <th>MORTGAGE</th>\n",
       "      <th>OWN</th>\n",
       "      <th>RENT</th>\n",
       "      <th>&lt; 1 Year</th>\n",
       "      <th>&gt; 1 Year</th>\n",
       "    </tr>\n",
       "  </thead>\n",
       "  <tbody>\n",
       "    <tr>\n",
       "      <th>default</th>\n",
       "      <td>0.151515</td>\n",
       "      <td>0.575713</td>\n",
       "      <td>0.059812</td>\n",
       "      <td>0.037273</td>\n",
       "      <td>0.014336</td>\n",
       "      <td>0.115610</td>\n",
       "      <td>0.045742</td>\n",
       "      <td>0.431344</td>\n",
       "      <td>0.083278</td>\n",
       "      <td>0.485377</td>\n",
       "      <td>0.047285</td>\n",
       "      <td>0.952714</td>\n",
       "    </tr>\n",
       "    <tr>\n",
       "      <th>paid off</th>\n",
       "      <td>0.187597</td>\n",
       "      <td>0.552159</td>\n",
       "      <td>0.071501</td>\n",
       "      <td>0.053593</td>\n",
       "      <td>0.014248</td>\n",
       "      <td>0.099908</td>\n",
       "      <td>0.020996</td>\n",
       "      <td>0.489480</td>\n",
       "      <td>0.080897</td>\n",
       "      <td>0.429623</td>\n",
       "      <td>0.031053</td>\n",
       "      <td>0.968946</td>\n",
       "    </tr>\n",
       "  </tbody>\n",
       "</table>\n",
       "</div>"
      ],
      "text/plain": [
       "          credit_card  debt_consolidation  home_improvement  major_purchase  \\\n",
       "default      0.151515            0.575713          0.059812        0.037273   \n",
       "paid off     0.187597            0.552159          0.071501        0.053593   \n",
       "\n",
       "           medical     other  small_business  MORTGAGE       OWN      RENT  \\\n",
       "default   0.014336  0.115610        0.045742  0.431344  0.083278  0.485377   \n",
       "paid off  0.014248  0.099908        0.020996  0.489480  0.080897  0.429623   \n",
       "\n",
       "           < 1 Year   > 1 Year  \n",
       "default    0.047285   0.952714  \n",
       "paid off   0.031053   0.968946  "
      ]
     },
     "execution_count": 4,
     "metadata": {},
     "output_type": "execute_result"
    }
   ],
   "source": [
    "pd.DataFrame(\n",
    "    np.exp(naive_model.feature_log_prob_)*3, # 3 variables there\n",
    "    naive_model.classes_,\n",
    "    naive_model.feature_names_in_\n",
    ")"
   ]
  },
  {
   "cell_type": "markdown",
   "id": "dc30305c",
   "metadata": {
    "papermill": {
     "duration": 0.01211,
     "end_time": "2024-04-21T15:34:14.748745",
     "exception": false,
     "start_time": "2024-04-21T15:34:14.736635",
     "status": "completed"
    },
    "tags": []
   },
   "source": [
    "The model can be used to predict the outcome of a new loan."
   ]
  },
  {
   "cell_type": "code",
   "execution_count": 5,
   "id": "b518f3f4",
   "metadata": {
    "execution": {
     "iopub.execute_input": "2024-04-21T15:34:14.774715Z",
     "iopub.status.busy": "2024-04-21T15:34:14.773641Z",
     "iopub.status.idle": "2024-04-21T15:34:14.788256Z",
     "shell.execute_reply": "2024-04-21T15:34:14.787426Z"
    },
    "papermill": {
     "duration": 0.029883,
     "end_time": "2024-04-21T15:34:14.790497",
     "exception": false,
     "start_time": "2024-04-21T15:34:14.760614",
     "status": "completed"
    },
    "tags": []
   },
   "outputs": [
    {
     "name": "stdout",
     "output_type": "stream",
     "text": [
      "predicted class:  default\n",
      "predicted probabilities\n",
      "    default  paid off\n",
      "0  0.653696  0.346304\n"
     ]
    }
   ],
   "source": [
    "# use the last value of the data set for testing\n",
    "new_loan = X.loc[146:146, :]\n",
    "\n",
    "print('predicted class: ', naive_model.predict(new_loan)[0])\n",
    "probabilities = pd.DataFrame(naive_model.predict_proba(new_loan),\n",
    "                             columns=loan_data[outcome].unique())\n",
    "print('predicted probabilities')\n",
    "print(probabilities)"
   ]
  },
  {
   "cell_type": "markdown",
   "id": "c3b81c22",
   "metadata": {
    "papermill": {
     "duration": 0.011497,
     "end_time": "2024-04-21T15:34:14.814057",
     "exception": false,
     "start_time": "2024-04-21T15:34:14.802560",
     "status": "completed"
    },
    "tags": []
   },
   "source": [
    "## 5.2 Discriminant Analysis\n",
    "\n",
    "#### <center>Key Terms for Discriminant Analysis</center>\n",
    "- ***Covariance***  \n",
    "A measure of the extent to which one variable varies in concert with another (i.e., similar magnitude and direction).\n",
    "- ***Discriminant function***  \n",
    "The function that, when applied to the predictor variables, maximizes the separation of the classes.\n",
    "- ***Discriminant weights***  \n",
    "The scores that result from the application of the discriminant function and are used to estimate probabilities of belonging to one class or another."
   ]
  },
  {
   "cell_type": "markdown",
   "id": "217e3966",
   "metadata": {
    "papermill": {
     "duration": 0.011464,
     "end_time": "2024-04-21T15:34:14.837449",
     "exception": false,
     "start_time": "2024-04-21T15:34:14.825985",
     "status": "completed"
    },
    "tags": []
   },
   "source": [
    "### Covariance Matrix\n",
    "\n",
    "The ***covariance*** $s_{x,z}$ between $x$ and $z$ is given by:\n",
    "$$s_{x,z}=\\frac{\\sum_{i=1}^{n}(x_i-\\bar{x})(z_i-\\bar{z})}{n-1}$$\n",
    "where $\\bar{x}$ & $\\bar{z}$ are the mean of each variable and $n$ is the number of records.\n",
    "\n",
    "Note the relationship between covariance and correlation coefficient:\n",
    "$$s_{x,z}=corr_{x,z} \\cdot \\sigma _x \\sigma _z$$\n",
    "where $\\sigma _x$ & $\\sigma _z$ are the standard deviation of each variable.\n",
    "\n",
    "The ***covariance matrix*** is:\n",
    "$$\\hat{\\Sigma}=\\begin{bmatrix}\n",
    "s_x^2 & s_{x,z} \\\\\n",
    "s_{z,x} & s_z^2\n",
    "\\end{bmatrix}$$\n",
    "\n",
    "You may expand it in the same way to more variables."
   ]
  },
  {
   "cell_type": "markdown",
   "id": "e58034c4",
   "metadata": {
    "papermill": {
     "duration": 0.011421,
     "end_time": "2024-04-21T15:34:14.860645",
     "exception": false,
     "start_time": "2024-04-21T15:34:14.849224",
     "status": "completed"
    },
    "tags": []
   },
   "source": [
    "### Fisher's Linear Discriminant\n",
    "\n",
    "The concept of **linear discriminant analysis** (LDA) is to find the linear combination of all predictor variables $\\sum_{i=0}^{p}w_i x_i$ (which is a plane in $p$ dimension variable space) that maximizes the sum of squares ratio:\n",
    "$$\\frac{SS_{\\text{between}}}{SS_{\\text{within}}}$$\n",
    "The between sum of squares is the squared distance between the two group means, and the within sum of squares is the spread around the means within each group, weighted by the covariance matrix. This measure is, in some sense, a measure of the signal-to-noise ratio for the class labelling."
   ]
  },
  {
   "cell_type": "markdown",
   "id": "a0377c4e",
   "metadata": {
    "papermill": {
     "duration": 0.012019,
     "end_time": "2024-04-21T15:34:14.884800",
     "exception": false,
     "start_time": "2024-04-21T15:34:14.872781",
     "status": "completed"
    },
    "tags": []
   },
   "source": [
    "### Example\n",
    "\n",
    "Below is the LDA model to fit loan data `outcome` using two predictor variables `borrower_score` and `payment_inc_ratio`."
   ]
  },
  {
   "cell_type": "code",
   "execution_count": 6,
   "id": "b980a970",
   "metadata": {
    "execution": {
     "iopub.execute_input": "2024-04-21T15:34:14.911238Z",
     "iopub.status.busy": "2024-04-21T15:34:14.910624Z",
     "iopub.status.idle": "2024-04-21T15:34:14.950047Z",
     "shell.execute_reply": "2024-04-21T15:34:14.949151Z"
    },
    "papermill": {
     "duration": 0.055227,
     "end_time": "2024-04-21T15:34:14.952303",
     "exception": false,
     "start_time": "2024-04-21T15:34:14.897076",
     "status": "completed"
    },
    "tags": []
   },
   "outputs": [
    {
     "data": {
      "text/html": [
       "<div>\n",
       "<style scoped>\n",
       "    .dataframe tbody tr th:only-of-type {\n",
       "        vertical-align: middle;\n",
       "    }\n",
       "\n",
       "    .dataframe tbody tr th {\n",
       "        vertical-align: top;\n",
       "    }\n",
       "\n",
       "    .dataframe thead th {\n",
       "        text-align: right;\n",
       "    }\n",
       "</style>\n",
       "<table border=\"1\" class=\"dataframe\">\n",
       "  <thead>\n",
       "    <tr style=\"text-align: right;\">\n",
       "      <th></th>\n",
       "      <th>LD weight</th>\n",
       "    </tr>\n",
       "  </thead>\n",
       "  <tbody>\n",
       "    <tr>\n",
       "      <th>borrower_score</th>\n",
       "      <td>7.175839</td>\n",
       "    </tr>\n",
       "    <tr>\n",
       "      <th>payment_inc_ratio</th>\n",
       "      <td>-0.099676</td>\n",
       "    </tr>\n",
       "  </tbody>\n",
       "</table>\n",
       "</div>"
      ],
      "text/plain": [
       "                   LD weight\n",
       "borrower_score      7.175839\n",
       "payment_inc_ratio  -0.099676"
      ]
     },
     "execution_count": 6,
     "metadata": {},
     "output_type": "execute_result"
    }
   ],
   "source": [
    "loan3000.outcome = loan3000.outcome.astype('category')\n",
    "\n",
    "predictors = ['borrower_score', 'payment_inc_ratio']\n",
    "outcome = 'outcome'\n",
    "\n",
    "X = loan3000[predictors]\n",
    "y = loan3000[outcome]\n",
    "\n",
    "loan_lda = LinearDiscriminantAnalysis()\n",
    "loan_lda.fit(X, y)\n",
    "pd.DataFrame(loan_lda.scalings_, index=X.columns,\n",
    "             columns=['LD weight'])"
   ]
  },
  {
   "cell_type": "markdown",
   "id": "ab6cb119",
   "metadata": {
    "papermill": {
     "duration": 0.012936,
     "end_time": "2024-04-21T15:34:14.977399",
     "exception": false,
     "start_time": "2024-04-21T15:34:14.964463",
     "status": "completed"
    },
    "tags": []
   },
   "source": [
    "We can use the model to predict `outcome`."
   ]
  },
  {
   "cell_type": "code",
   "execution_count": 7,
   "id": "6e9f265b",
   "metadata": {
    "execution": {
     "iopub.execute_input": "2024-04-21T15:34:15.004601Z",
     "iopub.status.busy": "2024-04-21T15:34:15.004182Z",
     "iopub.status.idle": "2024-04-21T15:34:15.018022Z",
     "shell.execute_reply": "2024-04-21T15:34:15.016772Z"
    },
    "papermill": {
     "duration": 0.03018,
     "end_time": "2024-04-21T15:34:15.020184",
     "exception": false,
     "start_time": "2024-04-21T15:34:14.990004",
     "status": "completed"
    },
    "tags": []
   },
   "outputs": [
    {
     "data": {
      "text/html": [
       "<div>\n",
       "<style scoped>\n",
       "    .dataframe tbody tr th:only-of-type {\n",
       "        vertical-align: middle;\n",
       "    }\n",
       "\n",
       "    .dataframe tbody tr th {\n",
       "        vertical-align: top;\n",
       "    }\n",
       "\n",
       "    .dataframe thead th {\n",
       "        text-align: right;\n",
       "    }\n",
       "</style>\n",
       "<table border=\"1\" class=\"dataframe\">\n",
       "  <thead>\n",
       "    <tr style=\"text-align: right;\">\n",
       "      <th></th>\n",
       "      <th>default</th>\n",
       "      <th>paid off</th>\n",
       "    </tr>\n",
       "  </thead>\n",
       "  <tbody>\n",
       "    <tr>\n",
       "      <th>0</th>\n",
       "      <td>0.553544</td>\n",
       "      <td>0.446456</td>\n",
       "    </tr>\n",
       "    <tr>\n",
       "      <th>1</th>\n",
       "      <td>0.558953</td>\n",
       "      <td>0.441047</td>\n",
       "    </tr>\n",
       "    <tr>\n",
       "      <th>2</th>\n",
       "      <td>0.272696</td>\n",
       "      <td>0.727304</td>\n",
       "    </tr>\n",
       "    <tr>\n",
       "      <th>3</th>\n",
       "      <td>0.506254</td>\n",
       "      <td>0.493746</td>\n",
       "    </tr>\n",
       "    <tr>\n",
       "      <th>4</th>\n",
       "      <td>0.609952</td>\n",
       "      <td>0.390048</td>\n",
       "    </tr>\n",
       "  </tbody>\n",
       "</table>\n",
       "</div>"
      ],
      "text/plain": [
       "    default  paid off\n",
       "0  0.553544  0.446456\n",
       "1  0.558953  0.441047\n",
       "2  0.272696  0.727304\n",
       "3  0.506254  0.493746\n",
       "4  0.609952  0.390048"
      ]
     },
     "execution_count": 7,
     "metadata": {},
     "output_type": "execute_result"
    }
   ],
   "source": [
    "pred = pd.DataFrame(loan_lda.predict_proba(loan3000[predictors]),\n",
    "                    columns=loan_lda.classes_)\n",
    "pred.head()"
   ]
  },
  {
   "cell_type": "code",
   "execution_count": 8,
   "id": "62e0949d",
   "metadata": {
    "execution": {
     "iopub.execute_input": "2024-04-21T15:34:15.046911Z",
     "iopub.status.busy": "2024-04-21T15:34:15.046544Z",
     "iopub.status.idle": "2024-04-21T15:34:15.520703Z",
     "shell.execute_reply": "2024-04-21T15:34:15.519458Z"
    },
    "papermill": {
     "duration": 0.494034,
     "end_time": "2024-04-21T15:34:15.527030",
     "exception": false,
     "start_time": "2024-04-21T15:34:15.032996",
     "status": "completed"
    },
    "tags": []
   },
   "outputs": [
    {
     "data": {
      "image/png": "[encoded data removed]",
      "text/plain": [
       "<Figure size 400x400 with 1 Axes>"
      ]
     },
     "metadata": {},
     "output_type": "display_data"
    }
   ],
   "source": [
    "# Use scalings and center of means to determine decision boundary\n",
    "center = np.mean(loan_lda.means_, axis=0)\n",
    "slope = - loan_lda.scalings_[0] / loan_lda.scalings_[1]\n",
    "intercept = center[1] - center[0] * slope\n",
    "\n",
    "# payment_inc_ratio for borrower_score of 0 and 20\n",
    "x_0 = (0 - intercept) / slope\n",
    "x_20 = (20 - intercept) / slope\n",
    "\n",
    "lda_df = pd.concat([loan3000, pred['default']], axis=1)\n",
    "lda_df.head()\n",
    "\n",
    "fig, ax = plt.subplots(figsize=(4, 4))\n",
    "sns.scatterplot(x='borrower_score', y='payment_inc_ratio',\n",
    "                hue='default', data=lda_df,\n",
    "                palette=sns.diverging_palette(10, 240, n=9, as_cmap=True),\n",
    "                ax=ax, legend=False)\n",
    "ax.set_ylim(0, 20)\n",
    "ax.set_xlim(0.15, 0.8)\n",
    "ax.plot((x_0, x_20), (0, 20), linewidth=3)\n",
    "ax.plot(*loan_lda.means_.transpose())\n",
    "plt.show()"
   ]
  },
  {
   "cell_type": "markdown",
   "id": "d1e06144",
   "metadata": {
    "papermill": {
     "duration": 0.013774,
     "end_time": "2024-04-21T15:34:15.555053",
     "exception": false,
     "start_time": "2024-04-21T15:34:15.541279",
     "status": "completed"
    },
    "tags": []
   },
   "source": [
    "Above plot of the predictions helps illustrate how LDA works. Data points on the left of the diagonal line are predicted to default (probability greater than 0.5).\n",
    "\n",
    "Using the discriminant function weights, LDA splits the predictor space into two regions, as shown by the solid line. The predictions farther away from the line in both directions have a higher level of confidence."
   ]
  },
  {
   "cell_type": "markdown",
   "id": "1f665af6",
   "metadata": {
    "papermill": {
     "duration": 0.074306,
     "end_time": "2024-04-21T15:34:15.643674",
     "exception": false,
     "start_time": "2024-04-21T15:34:15.569368",
     "status": "completed"
    },
    "tags": []
   },
   "source": [
    "## 5.3 Logistic Regression\n",
    "\n",
    "Logistic regression is analogous to multiple linear regression, except the outcome is binary.\n",
    "\n",
    "#### <center>Key Terms for Logistic Regression</center>\n",
    "- ***Logit***  \n",
    "The function that maps class membership probability to a range from ± ∞ (instead of 0 to 1).<br>  \n",
    "*Synonym*\n",
    "    - Log odds (see below)\n",
    "- ***Odds***  \n",
    "The ratio of “success” (1) to “not success” (0).\n",
    "- ***Log odds***  \n",
    "The response in the transformed model (now linear), which gets mapped back to a probability."
   ]
  },
  {
   "cell_type": "markdown",
   "id": "0d14fafb",
   "metadata": {
    "papermill": {
     "duration": 0.013501,
     "end_time": "2024-04-21T15:34:15.671149",
     "exception": false,
     "start_time": "2024-04-21T15:34:15.657648",
     "status": "completed"
    },
    "tags": []
   },
   "source": [
    "### Logistic Response Function and Logit\n",
    "$$\\begin{aligned}\n",
    "& p = \\frac{1}{1+e^{-(\\beta_0+\\beta_1x_1+\\beta_2x_2+\\cdots+\\beta_qx_q)}} \\\\\n",
    "& Odds(Y=1) = \\frac{p}{1-p} \\\\\n",
    "& p = \\frac{Odds}{1+Odds} \\\\\n",
    "& Odds(Y=1) = e^{\\beta_0+\\beta_1x_1+\\beta_2x_2+\\cdots+\\beta_qx_q} \\\\\n",
    "& \\log{(Odds(Y=1))} = \\beta_0+\\beta_1x_1+\\beta_2x_2+\\cdots+\\beta_qx_q\n",
    "\\end{aligned}$$\n",
    "\n",
    "The *log-odds* function, also known as the *logit* function, maps the probability *p* from (0, 1) to any value (− ∞, + ∞)"
   ]
  },
  {
   "cell_type": "markdown",
   "id": "d493e4aa",
   "metadata": {
    "papermill": {
     "duration": 0.014004,
     "end_time": "2024-04-21T15:34:15.698951",
     "exception": false,
     "start_time": "2024-04-21T15:34:15.684947",
     "status": "completed"
    },
    "tags": []
   },
   "source": [
    "### Logistic Regression\n",
    "\n",
    "Below is an example to build a logistic regression model for loan data `outcome`"
   ]
  },
  {
   "cell_type": "code",
   "execution_count": 9,
   "id": "4379a2f1",
   "metadata": {
    "execution": {
     "iopub.execute_input": "2024-04-21T15:34:15.728810Z",
     "iopub.status.busy": "2024-04-21T15:34:15.728445Z",
     "iopub.status.idle": "2024-04-21T15:34:16.327767Z",
     "shell.execute_reply": "2024-04-21T15:34:16.326596Z"
    },
    "papermill": {
     "duration": 0.617824,
     "end_time": "2024-04-21T15:34:16.330633",
     "exception": false,
     "start_time": "2024-04-21T15:34:15.712809",
     "status": "completed"
    },
    "tags": []
   },
   "outputs": [
    {
     "data": {
      "text/html": [
       "<style>#sk-container-id-2 {\n",
       "  /* Definition of color scheme common for light and dark mode */\n",
       "  --sklearn-color-text: black;\n",
       "  --sklearn-color-line: gray;\n",
       "  /* Definition of color scheme for unfitted estimators */\n",
       "  --sklearn-color-unfitted-level-0: #fff5e6;\n",
       "  --sklearn-color-unfitted-level-1: #f6e4d2;\n",
       "  --sklearn-color-unfitted-level-2: #ffe0b3;\n",
       "  --sklearn-color-unfitted-level-3: chocolate;\n",
       "  /* Definition of color scheme for fitted estimators */\n",
       "  --sklearn-color-fitted-level-0: #f0f8ff;\n",
       "  --sklearn-color-fitted-level-1: #d4ebff;\n",
       "  --sklearn-color-fitted-level-2: #b3dbfd;\n",
       "  --sklearn-color-fitted-level-3: cornflowerblue;\n",
       "\n",
       "  /* Specific color for light theme */\n",
       "  --sklearn-color-text-on-default-background: var(--sg-text-color, var(--theme-code-foreground, var(--jp-content-font-color1, black)));\n",
       "  --sklearn-color-background: var(--sg-background-color, var(--theme-background, var(--jp-layout-color0, white)));\n",
       "  --sklearn-color-border-box: var(--sg-text-color, var(--theme-code-foreground, var(--jp-content-font-color1, black)));\n",
       "  --sklearn-color-icon: #696969;\n",
       "\n",
       "  @media (prefers-color-scheme: dark) {\n",
       "    /* Redefinition of color scheme for dark theme */\n",
       "    --sklearn-color-text-on-default-background: var(--sg-text-color, var(--theme-code-foreground, var(--jp-content-font-color1, white)));\n",
       "    --sklearn-color-background: var(--sg-background-color, var(--theme-background, var(--jp-layout-color0, #111)));\n",
       "    --sklearn-color-border-box: var(--sg-text-color, var(--theme-code-foreground, var(--jp-content-font-color1, white)));\n",
       "    --sklearn-color-icon: #878787;\n",
       "  }\n",
       "}\n",
       "\n",
       "#sk-container-id-2 {\n",
       "  color: var(--sklearn-color-text);\n",
       "}\n",
       "\n",
       "#sk-container-id-2 pre {\n",
       "  padding: 0;\n",
       "}\n",
       "\n",
       "#sk-container-id-2 input.sk-hidden--visually {\n",
       "  border: 0;\n",
       "  clip: rect(1px 1px 1px 1px);\n",
       "  clip: rect(1px, 1px, 1px, 1px);\n",
       "  height: 1px;\n",
       "  margin: -1px;\n",
       "  overflow: hidden;\n",
       "  padding: 0;\n",
       "  position: absolute;\n",
       "  width: 1px;\n",
       "}\n",
       "\n",
       "#sk-container-id-2 div.sk-dashed-wrapped {\n",
       "  border: 1px dashed var(--sklearn-color-line);\n",
       "  margin: 0 0.4em 0.5em 0.4em;\n",
       "  box-sizing: border-box;\n",
       "  padding-bottom: 0.4em;\n",
       "  background-color: var(--sklearn-color-background);\n",
       "}\n",
       "\n",
       "#sk-container-id-2 div.sk-container {\n",
       "  /* jupyter's `normalize.less` sets `[hidden] { display: none; }`\n",
       "     but bootstrap.min.css set `[hidden] { display: none !important; }`\n",
       "     so we also need the `!important` here to be able to override the\n",
       "     default hidden behavior on the sphinx rendered scikit-learn.org.\n",
       "     See: https://github.com/scikit-learn/scikit-learn/issues/21755 */\n",
       "  display: inline-block !important;\n",
       "  position: relative;\n",
       "}\n",
       "\n",
       "#sk-container-id-2 div.sk-text-repr-fallback {\n",
       "  display: none;\n",
       "}\n",
       "\n",
       "div.sk-parallel-item,\n",
       "div.sk-serial,\n",
       "div.sk-item {\n",
       "  /* draw centered vertical line to link estimators */\n",
       "  background-image: linear-gradient(var(--sklearn-color-text-on-default-background), var(--sklearn-color-text-on-default-background));\n",
       "  background-size: 2px 100%;\n",
       "  background-repeat: no-repeat;\n",
       "  background-position: center center;\n",
       "}\n",
       "\n",
       "/* Parallel-specific style estimator block */\n",
       "\n",
       "#sk-container-id-2 div.sk-parallel-item::after {\n",
       "  content: \"\";\n",
       "  width: 100%;\n",
       "  border-bottom: 2px solid var(--sklearn-color-text-on-default-background);\n",
       "  flex-grow: 1;\n",
       "}\n",
       "\n",
       "#sk-container-id-2 div.sk-parallel {\n",
       "  display: flex;\n",
       "  align-items: stretch;\n",
       "  justify-content: center;\n",
       "  background-color: var(--sklearn-color-background);\n",
       "  position: relative;\n",
       "}\n",
       "\n",
       "#sk-container-id-2 div.sk-parallel-item {\n",
       "  display: flex;\n",
       "  flex-direction: column;\n",
       "}\n",
       "\n",
       "#sk-container-id-2 div.sk-parallel-item:first-child::after {\n",
       "  align-self: flex-end;\n",
       "  width: 50%;\n",
       "}\n",
       "\n",
       "#sk-container-id-2 div.sk-parallel-item:last-child::after {\n",
       "  align-self: flex-start;\n",
       "  width: 50%;\n",
       "}\n",
       "\n",
       "#sk-container-id-2 div.sk-parallel-item:only-child::after {\n",
       "  width: 0;\n",
       "}\n",
       "\n",
       "/* Serial-specific style estimator block */\n",
       "\n",
       "#sk-container-id-2 div.sk-serial {\n",
       "  display: flex;\n",
       "  flex-direction: column;\n",
       "  align-items: center;\n",
       "  background-color: var(--sklearn-color-background);\n",
       "  padding-right: 1em;\n",
       "  padding-left: 1em;\n",
       "}\n",
       "\n",
       "\n",
       "/* Toggleable style: style used for estimator/Pipeline/ColumnTransformer box that is\n",
       "clickable and can be expanded/collapsed.\n",
       "- Pipeline and ColumnTransformer use this feature and define the default style\n",
       "- Estimators will overwrite some part of the style using the `sk-estimator` class\n",
       "*/\n",
       "\n",
       "/* Pipeline and ColumnTransformer style (default) */\n",
       "\n",
       "#sk-container-id-2 div.sk-toggleable {\n",
       "  /* Default theme specific background. It is overwritten whether we have a\n",
       "  specific estimator or a Pipeline/ColumnTransformer */\n",
       "  background-color: var(--sklearn-color-background);\n",
       "}\n",
       "\n",
       "/* Toggleable label */\n",
       "#sk-container-id-2 label.sk-toggleable__label {\n",
       "  cursor: pointer;\n",
       "  display: block;\n",
       "  width: 100%;\n",
       "  margin-bottom: 0;\n",
       "  padding: 0.5em;\n",
       "  box-sizing: border-box;\n",
       "  text-align: center;\n",
       "}\n",
       "\n",
       "#sk-container-id-2 label.sk-toggleable__label-arrow:before {\n",
       "  /* Arrow on the left of the label */\n",
       "  content: \"▸\";\n",
       "  float: left;\n",
       "  margin-right: 0.25em;\n",
       "  color: var(--sklearn-color-icon);\n",
       "}\n",
       "\n",
       "#sk-container-id-2 label.sk-toggleable__label-arrow:hover:before {\n",
       "  color: var(--sklearn-color-text);\n",
       "}\n",
       "\n",
       "/* Toggleable content - dropdown */\n",
       "\n",
       "#sk-container-id-2 div.sk-toggleable__content {\n",
       "  max-height: 0;\n",
       "  max-width: 0;\n",
       "  overflow: hidden;\n",
       "  text-align: left;\n",
       "  /* unfitted */\n",
       "  background-color: var(--sklearn-color-unfitted-level-0);\n",
       "}\n",
       "\n",
       "#sk-container-id-2 div.sk-toggleable__content.fitted {\n",
       "  /* fitted */\n",
       "  background-color: var(--sklearn-color-fitted-level-0);\n",
       "}\n",
       "\n",
       "#sk-container-id-2 div.sk-toggleable__content pre {\n",
       "  margin: 0.2em;\n",
       "  border-radius: 0.25em;\n",
       "  color: var(--sklearn-color-text);\n",
       "  /* unfitted */\n",
       "  background-color: var(--sklearn-color-unfitted-level-0);\n",
       "}\n",
       "\n",
       "#sk-container-id-2 div.sk-toggleable__content.fitted pre {\n",
       "  /* unfitted */\n",
       "  background-color: var(--sklearn-color-fitted-level-0);\n",
       "}\n",
       "\n",
       "#sk-container-id-2 input.sk-toggleable__control:checked~div.sk-toggleable__content {\n",
       "  /* Expand drop-down */\n",
       "  max-height: 200px;\n",
       "  max-width: 100%;\n",
       "  overflow: auto;\n",
       "}\n",
       "\n",
       "#sk-container-id-2 input.sk-toggleable__control:checked~label.sk-toggleable__label-arrow:before {\n",
       "  content: \"▾\";\n",
       "}\n",
       "\n",
       "/* Pipeline/ColumnTransformer-specific style */\n",
       "\n",
       "#sk-container-id-2 div.sk-label input.sk-toggleable__control:checked~label.sk-toggleable__label {\n",
       "  color: var(--sklearn-color-text);\n",
       "  background-color: var(--sklearn-color-unfitted-level-2);\n",
       "}\n",
       "\n",
       "#sk-container-id-2 div.sk-label.fitted input.sk-toggleable__control:checked~label.sk-toggleable__label {\n",
       "  background-color: var(--sklearn-color-fitted-level-2);\n",
       "}\n",
       "\n",
       "/* Estimator-specific style */\n",
       "\n",
       "/* Colorize estimator box */\n",
       "#sk-container-id-2 div.sk-estimator input.sk-toggleable__control:checked~label.sk-toggleable__label {\n",
       "  /* unfitted */\n",
       "  background-color: var(--sklearn-color-unfitted-level-2);\n",
       "}\n",
       "\n",
       "#sk-container-id-2 div.sk-estimator.fitted input.sk-toggleable__control:checked~label.sk-toggleable__label {\n",
       "  /* fitted */\n",
       "  background-color: var(--sklearn-color-fitted-level-2);\n",
       "}\n",
       "\n",
       "#sk-container-id-2 div.sk-label label.sk-toggleable__label,\n",
       "#sk-container-id-2 div.sk-label label {\n",
       "  /* The background is the default theme color */\n",
       "  color: var(--sklearn-color-text-on-default-background);\n",
       "}\n",
       "\n",
       "/* On hover, darken the color of the background */\n",
       "#sk-container-id-2 div.sk-label:hover label.sk-toggleable__label {\n",
       "  color: var(--sklearn-color-text);\n",
       "  background-color: var(--sklearn-color-unfitted-level-2);\n",
       "}\n",
       "\n",
       "/* Label box, darken color on hover, fitted */\n",
       "#sk-container-id-2 div.sk-label.fitted:hover label.sk-toggleable__label.fitted {\n",
       "  color: var(--sklearn-color-text);\n",
       "  background-color: var(--sklearn-color-fitted-level-2);\n",
       "}\n",
       "\n",
       "/* Estimator label */\n",
       "\n",
       "#sk-container-id-2 div.sk-label label {\n",
       "  font-family: monospace;\n",
       "  font-weight: bold;\n",
       "  display: inline-block;\n",
       "  line-height: 1.2em;\n",
       "}\n",
       "\n",
       "#sk-container-id-2 div.sk-label-container {\n",
       "  text-align: center;\n",
       "}\n",
       "\n",
       "/* Estimator-specific */\n",
       "#sk-container-id-2 div.sk-estimator {\n",
       "  font-family: monospace;\n",
       "  border: 1px dotted var(--sklearn-color-border-box);\n",
       "  border-radius: 0.25em;\n",
       "  box-sizing: border-box;\n",
       "  margin-bottom: 0.5em;\n",
       "  /* unfitted */\n",
       "  background-color: var(--sklearn-color-unfitted-level-0);\n",
       "}\n",
       "\n",
       "#sk-container-id-2 div.sk-estimator.fitted {\n",
       "  /* fitted */\n",
       "  background-color: var(--sklearn-color-fitted-level-0);\n",
       "}\n",
       "\n",
       "/* on hover */\n",
       "#sk-container-id-2 div.sk-estimator:hover {\n",
       "  /* unfitted */\n",
       "  background-color: var(--sklearn-color-unfitted-level-2);\n",
       "}\n",
       "\n",
       "#sk-container-id-2 div.sk-estimator.fitted:hover {\n",
       "  /* fitted */\n",
       "  background-color: var(--sklearn-color-fitted-level-2);\n",
       "}\n",
       "\n",
       "/* Specification for estimator info (e.g. \"i\" and \"?\") */\n",
       "\n",
       "/* Common style for \"i\" and \"?\" */\n",
       "\n",
       ".sk-estimator-doc-link,\n",
       "a:link.sk-estimator-doc-link,\n",
       "a:visited.sk-estimator-doc-link {\n",
       "  float: right;\n",
       "  font-size: smaller;\n",
       "  line-height: 1em;\n",
       "  font-family: monospace;\n",
       "  background-color: var(--sklearn-color-background);\n",
       "  border-radius: 1em;\n",
       "  height: 1em;\n",
       "  width: 1em;\n",
       "  text-decoration: none !important;\n",
       "  margin-left: 1ex;\n",
       "  /* unfitted */\n",
       "  border: var(--sklearn-color-unfitted-level-1) 1pt solid;\n",
       "  color: var(--sklearn-color-unfitted-level-1);\n",
       "}\n",
       "\n",
       ".sk-estimator-doc-link.fitted,\n",
       "a:link.sk-estimator-doc-link.fitted,\n",
       "a:visited.sk-estimator-doc-link.fitted {\n",
       "  /* fitted */\n",
       "  border: var(--sklearn-color-fitted-level-1) 1pt solid;\n",
       "  color: var(--sklearn-color-fitted-level-1);\n",
       "}\n",
       "\n",
       "/* On hover */\n",
       "div.sk-estimator:hover .sk-estimator-doc-link:hover,\n",
       ".sk-estimator-doc-link:hover,\n",
       "div.sk-label-container:hover .sk-estimator-doc-link:hover,\n",
       ".sk-estimator-doc-link:hover {\n",
       "  /* unfitted */\n",
       "  background-color: var(--sklearn-color-unfitted-level-3);\n",
       "  color: var(--sklearn-color-background);\n",
       "  text-decoration: none;\n",
       "}\n",
       "\n",
       "div.sk-estimator.fitted:hover .sk-estimator-doc-link.fitted:hover,\n",
       ".sk-estimator-doc-link.fitted:hover,\n",
       "div.sk-label-container:hover .sk-estimator-doc-link.fitted:hover,\n",
       ".sk-estimator-doc-link.fitted:hover {\n",
       "  /* fitted */\n",
       "  background-color: var(--sklearn-color-fitted-level-3);\n",
       "  color: var(--sklearn-color-background);\n",
       "  text-decoration: none;\n",
       "}\n",
       "\n",
       "/* Span, style for the box shown on hovering the info icon */\n",
       ".sk-estimator-doc-link span {\n",
       "  display: none;\n",
       "  z-index: 9999;\n",
       "  position: relative;\n",
       "  font-weight: normal;\n",
       "  right: .2ex;\n",
       "  padding: .5ex;\n",
       "  margin: .5ex;\n",
       "  width: min-content;\n",
       "  min-width: 20ex;\n",
       "  max-width: 50ex;\n",
       "  color: var(--sklearn-color-text);\n",
       "  box-shadow: 2pt 2pt 4pt #999;\n",
       "  /* unfitted */\n",
       "  background: var(--sklearn-color-unfitted-level-0);\n",
       "  border: .5pt solid var(--sklearn-color-unfitted-level-3);\n",
       "}\n",
       "\n",
       ".sk-estimator-doc-link.fitted span {\n",
       "  /* fitted */\n",
       "  background: var(--sklearn-color-fitted-level-0);\n",
       "  border: var(--sklearn-color-fitted-level-3);\n",
       "}\n",
       "\n",
       ".sk-estimator-doc-link:hover span {\n",
       "  display: block;\n",
       "}\n",
       "\n",
       "/* \"?\"-specific style due to the `<a>` HTML tag */\n",
       "\n",
       "#sk-container-id-2 a.estimator_doc_link {\n",
       "  float: right;\n",
       "  font-size: 1rem;\n",
       "  line-height: 1em;\n",
       "  font-family: monospace;\n",
       "  background-color: var(--sklearn-color-background);\n",
       "  border-radius: 1rem;\n",
       "  height: 1rem;\n",
       "  width: 1rem;\n",
       "  text-decoration: none;\n",
       "  /* unfitted */\n",
       "  color: var(--sklearn-color-unfitted-level-1);\n",
       "  border: var(--sklearn-color-unfitted-level-1) 1pt solid;\n",
       "}\n",
       "\n",
       "#sk-container-id-2 a.estimator_doc_link.fitted {\n",
       "  /* fitted */\n",
       "  border: var(--sklearn-color-fitted-level-1) 1pt solid;\n",
       "  color: var(--sklearn-color-fitted-level-1);\n",
       "}\n",
       "\n",
       "/* On hover */\n",
       "#sk-container-id-2 a.estimator_doc_link:hover {\n",
       "  /* unfitted */\n",
       "  background-color: var(--sklearn-color-unfitted-level-3);\n",
       "  color: var(--sklearn-color-background);\n",
       "  text-decoration: none;\n",
       "}\n",
       "\n",
       "#sk-container-id-2 a.estimator_doc_link.fitted:hover {\n",
       "  /* fitted */\n",
       "  background-color: var(--sklearn-color-fitted-level-3);\n",
       "}\n",
       "</style><div id=\"sk-container-id-2\" class=\"sk-top-container\"><div class=\"sk-text-repr-fallback\"><pre>LogisticRegression()</pre><b>In a Jupyter environment, please rerun this cell to show the HTML representation or trust the notebook. <br />On GitHub, the HTML representation is unable to render, please try loading this page with nbviewer.org.</b></div><div class=\"sk-container\" hidden><div class=\"sk-item\"><div class=\"sk-estimator fitted sk-toggleable\"><input class=\"sk-toggleable__control sk-hidden--visually\" id=\"sk-estimator-id-2\" type=\"checkbox\" checked><label for=\"sk-estimator-id-2\" class=\"sk-toggleable__label fitted sk-toggleable__label-arrow fitted\">&nbsp;&nbsp;LogisticRegression<a class=\"sk-estimator-doc-link fitted\" rel=\"noreferrer\" target=\"_blank\" href=\"https://scikit-learn.org/1.4/modules/generated/sklearn.linear_model.LogisticRegression.html\">?<span>Documentation for LogisticRegression</span></a><span class=\"sk-estimator-doc-link fitted\">i<span>Fitted</span></span></label><div class=\"sk-toggleable__content fitted\"><pre>LogisticRegression()</pre></div> </div></div></div></div>"
      ],
      "text/plain": [
       "LogisticRegression()"
      ]
     },
     "execution_count": 9,
     "metadata": {},
     "output_type": "execute_result"
    }
   ],
   "source": [
    "predictors = ['payment_inc_ratio', 'purpose_', 'home_', 'emp_len_',\n",
    "              'borrower_score']\n",
    "outcome = 'outcome'\n",
    "X = pd.get_dummies(loan_data[predictors], prefix='', prefix_sep='',\n",
    "                   drop_first=True)\n",
    "y = loan_data[outcome]\n",
    "\n",
    "logit_reg = LogisticRegression()\n",
    "logit_reg.fit(X, y)"
   ]
  },
  {
   "cell_type": "markdown",
   "id": "29bd062d",
   "metadata": {
    "papermill": {
     "duration": 0.026371,
     "end_time": "2024-04-21T15:34:16.383317",
     "exception": false,
     "start_time": "2024-04-21T15:34:16.356946",
     "status": "completed"
    },
    "tags": []
   },
   "source": [
    "Below code shows the fitting coefficients.  \n",
    "- These coefficients are used to calculate the log-odds of the first prediction class `default`"
   ]
  },
  {
   "cell_type": "code",
   "execution_count": 10,
   "id": "3bb76a68",
   "metadata": {
    "execution": {
     "iopub.execute_input": "2024-04-21T15:34:16.434670Z",
     "iopub.status.busy": "2024-04-21T15:34:16.434096Z",
     "iopub.status.idle": "2024-04-21T15:34:16.448039Z",
     "shell.execute_reply": "2024-04-21T15:34:16.447242Z"
    },
    "papermill": {
     "duration": 0.042043,
     "end_time": "2024-04-21T15:34:16.450022",
     "exception": false,
     "start_time": "2024-04-21T15:34:16.407979",
     "status": "completed"
    },
    "tags": []
   },
   "outputs": [
    {
     "data": {
      "text/html": [
       "<div>\n",
       "<style scoped>\n",
       "    .dataframe tbody tr th:only-of-type {\n",
       "        vertical-align: middle;\n",
       "    }\n",
       "\n",
       "    .dataframe tbody tr th {\n",
       "        vertical-align: top;\n",
       "    }\n",
       "\n",
       "    .dataframe thead th {\n",
       "        text-align: right;\n",
       "    }\n",
       "</style>\n",
       "<table border=\"1\" class=\"dataframe\">\n",
       "  <thead>\n",
       "    <tr style=\"text-align: right;\">\n",
       "      <th></th>\n",
       "      <th>Coefficient</th>\n",
       "    </tr>\n",
       "  </thead>\n",
       "  <tbody>\n",
       "    <tr>\n",
       "      <th>Intercept</th>\n",
       "      <td>-1.620971</td>\n",
       "    </tr>\n",
       "    <tr>\n",
       "      <th>payment_inc_ratio</th>\n",
       "      <td>-0.079564</td>\n",
       "    </tr>\n",
       "    <tr>\n",
       "      <th>borrower_score</th>\n",
       "      <td>4.579133</td>\n",
       "    </tr>\n",
       "    <tr>\n",
       "      <th>debt_consolidation</th>\n",
       "      <td>-0.248960</td>\n",
       "    </tr>\n",
       "    <tr>\n",
       "      <th>home_improvement</th>\n",
       "      <td>-0.401284</td>\n",
       "    </tr>\n",
       "    <tr>\n",
       "      <th>major_purchase</th>\n",
       "      <td>-0.226736</td>\n",
       "    </tr>\n",
       "    <tr>\n",
       "      <th>medical</th>\n",
       "      <td>-0.516146</td>\n",
       "    </tr>\n",
       "    <tr>\n",
       "      <th>other</th>\n",
       "      <td>-0.617134</td>\n",
       "    </tr>\n",
       "    <tr>\n",
       "      <th>small_business</th>\n",
       "      <td>-1.208105</td>\n",
       "    </tr>\n",
       "    <tr>\n",
       "      <th>OWN</th>\n",
       "      <td>-0.049367</td>\n",
       "    </tr>\n",
       "    <tr>\n",
       "      <th>RENT</th>\n",
       "      <td>-0.155799</td>\n",
       "    </tr>\n",
       "    <tr>\n",
       "      <th>&gt; 1 Year</th>\n",
       "      <td>0.352897</td>\n",
       "    </tr>\n",
       "  </tbody>\n",
       "</table>\n",
       "</div>"
      ],
      "text/plain": [
       "                    Coefficient\n",
       "Intercept             -1.620971\n",
       "payment_inc_ratio     -0.079564\n",
       "borrower_score         4.579133\n",
       "debt_consolidation    -0.248960\n",
       "home_improvement      -0.401284\n",
       "major_purchase        -0.226736\n",
       "medical               -0.516146\n",
       "other                 -0.617134\n",
       "small_business        -1.208105\n",
       "OWN                   -0.049367\n",
       "RENT                  -0.155799\n",
       " > 1 Year              0.352897"
      ]
     },
     "execution_count": 10,
     "metadata": {},
     "output_type": "execute_result"
    }
   ],
   "source": [
    "pd.Series(\n",
    "    logit_reg.intercept_.tolist() + logit_reg.coef_.tolist()[0],\n",
    "    ['Intercept'] + logit_reg.feature_names_in_.tolist(),\n",
    "    name = 'Coefficient'\n",
    ").to_frame()"
   ]
  },
  {
   "cell_type": "markdown",
   "id": "face88e8",
   "metadata": {
    "papermill": {
     "duration": 0.014845,
     "end_time": "2024-04-21T15:34:16.479550",
     "exception": false,
     "start_time": "2024-04-21T15:34:16.464705",
     "status": "completed"
    },
    "tags": []
   },
   "source": [
    "We can make prediction using the model as below. The prediction is based on > 0.5 `predict_proba`, which is the default. In practice, a lower cutoff is often appropriate if the goal is to identify members of a rare class."
   ]
  },
  {
   "cell_type": "code",
   "execution_count": 11,
   "id": "0f0df10f",
   "metadata": {
    "execution": {
     "iopub.execute_input": "2024-04-21T15:34:16.512128Z",
     "iopub.status.busy": "2024-04-21T15:34:16.511429Z",
     "iopub.status.idle": "2024-04-21T15:34:16.541457Z",
     "shell.execute_reply": "2024-04-21T15:34:16.540079Z"
    },
    "papermill": {
     "duration": 0.050647,
     "end_time": "2024-04-21T15:34:16.544909",
     "exception": false,
     "start_time": "2024-04-21T15:34:16.494262",
     "status": "completed"
    },
    "tags": []
   },
   "outputs": [
    {
     "data": {
      "text/html": [
       "<div>\n",
       "<style scoped>\n",
       "    .dataframe tbody tr th:only-of-type {\n",
       "        vertical-align: middle;\n",
       "    }\n",
       "\n",
       "    .dataframe tbody tr th {\n",
       "        vertical-align: top;\n",
       "    }\n",
       "\n",
       "    .dataframe thead th {\n",
       "        text-align: right;\n",
       "    }\n",
       "</style>\n",
       "<table border=\"1\" class=\"dataframe\">\n",
       "  <thead>\n",
       "    <tr style=\"text-align: right;\">\n",
       "      <th></th>\n",
       "      <th>default</th>\n",
       "      <th>paid off</th>\n",
       "      <th>prediction</th>\n",
       "    </tr>\n",
       "  </thead>\n",
       "  <tbody>\n",
       "    <tr>\n",
       "      <th>0</th>\n",
       "      <td>0.243163</td>\n",
       "      <td>0.756837</td>\n",
       "      <td>paid off</td>\n",
       "    </tr>\n",
       "    <tr>\n",
       "      <th>1</th>\n",
       "      <td>0.315610</td>\n",
       "      <td>0.684390</td>\n",
       "      <td>paid off</td>\n",
       "    </tr>\n",
       "    <tr>\n",
       "      <th>2</th>\n",
       "      <td>0.516636</td>\n",
       "      <td>0.483364</td>\n",
       "      <td>default</td>\n",
       "    </tr>\n",
       "    <tr>\n",
       "      <th>3</th>\n",
       "      <td>0.587866</td>\n",
       "      <td>0.412134</td>\n",
       "      <td>default</td>\n",
       "    </tr>\n",
       "    <tr>\n",
       "      <th>4</th>\n",
       "      <td>0.458468</td>\n",
       "      <td>0.541532</td>\n",
       "      <td>paid off</td>\n",
       "    </tr>\n",
       "  </tbody>\n",
       "</table>\n",
       "</div>"
      ],
      "text/plain": [
       "    default  paid off prediction\n",
       "0  0.243163  0.756837   paid off\n",
       "1  0.315610  0.684390   paid off\n",
       "2  0.516636  0.483364    default\n",
       "3  0.587866  0.412134    default\n",
       "4  0.458468  0.541532   paid off"
      ]
     },
     "execution_count": 11,
     "metadata": {},
     "output_type": "execute_result"
    }
   ],
   "source": [
    "predict_proba = pd.DataFrame(logit_reg.predict_proba(X),\n",
    "                             columns=logit_reg.classes_)\n",
    "predict = pd.Series(logit_reg.predict(X), name='prediction')\n",
    "pd.concat((predict_proba, predict), axis=1).head()"
   ]
  },
  {
   "cell_type": "markdown",
   "id": "254b9212",
   "metadata": {
    "papermill": {
     "duration": 0.025685,
     "end_time": "2024-04-21T15:34:16.597060",
     "exception": false,
     "start_time": "2024-04-21T15:34:16.571375",
     "status": "completed"
    },
    "tags": []
   },
   "source": [
    "## 5.4 Evaluating Classification Models\n",
    "\n",
    "#### <center>Key Terms for Evaluating Classification Models</center>\n",
    "- ***Accuracy***  \n",
    "The percent (or proportion) of cases classified correctly.\n",
    "- ***Confusion matrix***  \n",
    "A tabular display (2×2 in the binary case) of the record counts by their predicted and actual classification status.\n",
    "- ***Sensitivity***  \n",
    "The percent (or proportion) of all 1s that are correctly classified as 1s.<br>  \n",
    "*Synonym*\n",
    "    - Recall\n",
    "- ***Specificity***  \n",
    "The percent (or proportion) of all 0s that are correctly classified as 0s.\n",
    "- ***Precision***  \n",
    "The percent (proportion) of predicted 1s that are actually 1s.\n",
    "- ***ROC curve***  \n",
    "A plot of sensitivity versus specificity.\n",
    "- ***Lift***  \n",
    "A measure of how effective the model is at identifying (comparatively rare) 1s at different probability cutoffs."
   ]
  },
  {
   "cell_type": "markdown",
   "id": "a94df309",
   "metadata": {
    "papermill": {
     "duration": 0.024631,
     "end_time": "2024-04-21T15:34:16.647206",
     "exception": false,
     "start_time": "2024-04-21T15:34:16.622575",
     "status": "completed"
    },
    "tags": []
   },
   "source": [
    "### Accuracy\n",
    "\n",
    "$$\\text{accuracy}=\\frac{\\sum \\text{TruePositive}+\\sum \\text{TrueNegative}}{\\text{SampleSize}}$$"
   ]
  },
  {
   "cell_type": "code",
   "execution_count": 12,
   "id": "35bdf937",
   "metadata": {
    "execution": {
     "iopub.execute_input": "2024-04-21T15:34:16.678926Z",
     "iopub.status.busy": "2024-04-21T15:34:16.678560Z",
     "iopub.status.idle": "2024-04-21T15:34:16.704761Z",
     "shell.execute_reply": "2024-04-21T15:34:16.703607Z"
    },
    "papermill": {
     "duration": 0.04571,
     "end_time": "2024-04-21T15:34:16.707979",
     "exception": false,
     "start_time": "2024-04-21T15:34:16.662269",
     "status": "completed"
    },
    "tags": []
   },
   "outputs": [
    {
     "name": "stdout",
     "output_type": "stream",
     "text": [
      "accuracy = 0.636341581756429\n"
     ]
    }
   ],
   "source": [
    "accuracy = metrics.accuracy_score(\n",
    "    y == 'default',\n",
    "    logit_reg.predict(X) == 'default'\n",
    ")\n",
    "print(f'accuracy = {accuracy}')"
   ]
  },
  {
   "cell_type": "markdown",
   "id": "51a45361",
   "metadata": {
    "papermill": {
     "duration": 0.02484,
     "end_time": "2024-04-21T15:34:16.758702",
     "exception": false,
     "start_time": "2024-04-21T15:34:16.733862",
     "status": "completed"
    },
    "tags": []
   },
   "source": [
    "Accuracy is NOT a perfect metric suitable to all cases. For example, if only 0.1% of the browsers at a web store end up purchasing, a model that predicts that each browser will leave without purchasing will be 99.9% accurate. However, it will be useless. Instead, we would be happy with a model that is less accurate overall but is good at picking out the purchasers, even if it misclassifies some nonpurchasers along the way."
   ]
  },
  {
   "cell_type": "markdown",
   "id": "03a3e3e3",
   "metadata": {
    "papermill": {
     "duration": 0.024697,
     "end_time": "2024-04-21T15:34:16.808905",
     "exception": false,
     "start_time": "2024-04-21T15:34:16.784208",
     "status": "completed"
    },
    "tags": []
   },
   "source": [
    "### Confusion Matrix"
   ]
  },
  {
   "cell_type": "code",
   "execution_count": 13,
   "id": "4ac615eb",
   "metadata": {
    "execution": {
     "iopub.execute_input": "2024-04-21T15:34:16.843011Z",
     "iopub.status.busy": "2024-04-21T15:34:16.841846Z",
     "iopub.status.idle": "2024-04-21T15:34:17.328479Z",
     "shell.execute_reply": "2024-04-21T15:34:17.327240Z"
    },
    "papermill": {
     "duration": 0.50572,
     "end_time": "2024-04-21T15:34:17.330941",
     "exception": false,
     "start_time": "2024-04-21T15:34:16.825221",
     "status": "completed"
    },
    "tags": []
   },
   "outputs": [
    {
     "data": {
      "image/png": "[encoded data removed]",
      "text/plain": [
       "<Figure size 640x480 with 2 Axes>"
      ]
     },
     "metadata": {},
     "output_type": "display_data"
    }
   ],
   "source": [
    "confusion_matrix = metrics.confusion_matrix(\n",
    "    y, logit_reg.predict(X),\n",
    "    labels = logit_reg.classes_\n",
    ")\n",
    "display = metrics.ConfusionMatrixDisplay(\n",
    "    confusion_matrix,\n",
    "    display_labels = logit_reg.classes_\n",
    ")\n",
    "display.plot(values_format=',d')\n",
    "plt.grid()\n",
    "plt.show()"
   ]
  },
  {
   "cell_type": "markdown",
   "id": "76ea5519",
   "metadata": {
    "papermill": {
     "duration": 0.01565,
     "end_time": "2024-04-21T15:34:17.362629",
     "exception": false,
     "start_time": "2024-04-21T15:34:17.346979",
     "status": "completed"
    },
    "tags": []
   },
   "source": [
    "### Precision, Recall, and F-score\n",
    "\n",
    "F-score (F1 score) is the harmonic mean of precision and recall:\n",
    "$$F_1=\\frac{2}{\\text{recall}^{-1}+\\text{precision}^{-1}}=\n",
    "2\\frac{\\text{precision}\\cdot\\text{recall}}{\\text{precision}+\\text{recall}}$$"
   ]
  },
  {
   "cell_type": "code",
   "execution_count": 14,
   "id": "5cd21785",
   "metadata": {
    "execution": {
     "iopub.execute_input": "2024-04-21T15:34:17.395986Z",
     "iopub.status.busy": "2024-04-21T15:34:17.395606Z",
     "iopub.status.idle": "2024-04-21T15:34:17.881599Z",
     "shell.execute_reply": "2024-04-21T15:34:17.880392Z"
    },
    "papermill": {
     "duration": 0.505868,
     "end_time": "2024-04-21T15:34:17.884320",
     "exception": false,
     "start_time": "2024-04-21T15:34:17.378452",
     "status": "completed"
    },
    "tags": []
   },
   "outputs": [
    {
     "data": {
      "text/html": [
       "<div>\n",
       "<style scoped>\n",
       "    .dataframe tbody tr th:only-of-type {\n",
       "        vertical-align: middle;\n",
       "    }\n",
       "\n",
       "    .dataframe tbody tr th {\n",
       "        vertical-align: top;\n",
       "    }\n",
       "\n",
       "    .dataframe thead th {\n",
       "        text-align: right;\n",
       "    }\n",
       "</style>\n",
       "<table border=\"1\" class=\"dataframe\">\n",
       "  <thead>\n",
       "    <tr style=\"text-align: right;\">\n",
       "      <th></th>\n",
       "      <th>default</th>\n",
       "      <th>paid off</th>\n",
       "    </tr>\n",
       "  </thead>\n",
       "  <tbody>\n",
       "    <tr>\n",
       "      <th>precision</th>\n",
       "      <td>0.637512</td>\n",
       "      <td>0.635191</td>\n",
       "    </tr>\n",
       "    <tr>\n",
       "      <th>recall</th>\n",
       "      <td>0.632085</td>\n",
       "      <td>0.640598</td>\n",
       "    </tr>\n",
       "    <tr>\n",
       "      <th>f_score</th>\n",
       "      <td>0.634787</td>\n",
       "      <td>0.637883</td>\n",
       "    </tr>\n",
       "    <tr>\n",
       "      <th>support</th>\n",
       "      <td>22671.000000</td>\n",
       "      <td>22671.000000</td>\n",
       "    </tr>\n",
       "  </tbody>\n",
       "</table>\n",
       "</div>"
      ],
      "text/plain": [
       "                default      paid off\n",
       "precision      0.637512      0.635191\n",
       "recall         0.632085      0.640598\n",
       "f_score        0.634787      0.637883\n",
       "support    22671.000000  22671.000000"
      ]
     },
     "execution_count": 14,
     "metadata": {},
     "output_type": "execute_result"
    }
   ],
   "source": [
    "pd.DataFrame(\n",
    "    metrics.precision_recall_fscore_support(\n",
    "        y, logit_reg.predict(X),\n",
    "        labels = logit_reg.classes_\n",
    "    ),\n",
    "    index=['precision', 'recall', 'f_score', 'support'],\n",
    "    columns=logit_reg.classes_\n",
    ")\n"
   ]
  },
  {
   "cell_type": "markdown",
   "id": "6a594ea4",
   "metadata": {
    "papermill": {
     "duration": 0.015738,
     "end_time": "2024-04-21T15:34:17.916003",
     "exception": false,
     "start_time": "2024-04-21T15:34:17.900265",
     "status": "completed"
    },
    "tags": []
   },
   "source": [
    "### ROC Curve & AUC Score\n",
    "\n",
    "You can see that there is a trade-off between recall and specificity. Capturing more 1s generally means misclassifying more 0s as 1s. The ideal classifier would do an excellent job of classifying the 1s, without misclassifying more 0s as 1s.\n",
    "\n",
    "The metric that captures this trade-off is the “Receiver Operating Characteristics” curve, usually referred to as the *ROC curve*."
   ]
  },
  {
   "cell_type": "code",
   "execution_count": 15,
   "id": "e5e77fff",
   "metadata": {
    "execution": {
     "iopub.execute_input": "2024-04-21T15:34:17.949932Z",
     "iopub.status.busy": "2024-04-21T15:34:17.949562Z",
     "iopub.status.idle": "2024-04-21T15:34:18.334084Z",
     "shell.execute_reply": "2024-04-21T15:34:18.333038Z"
    },
    "papermill": {
     "duration": 0.405319,
     "end_time": "2024-04-21T15:34:18.337172",
     "exception": false,
     "start_time": "2024-04-21T15:34:17.931853",
     "status": "completed"
    },
    "tags": []
   },
   "outputs": [
    {
     "data": {
      "image/png": "[encoded data removed]",
      "text/plain": [
       "<Figure size 640x480 with 1 Axes>"
      ]
     },
     "metadata": {},
     "output_type": "display_data"
    }
   ],
   "source": [
    "metrics.RocCurveDisplay.from_predictions(\n",
    "    y == 'default',\n",
    "    logit_reg.predict_proba(X)[:,0],\n",
    "#     plot_chance_level = True\n",
    ")\n",
    "plt.axline((0, 0), (1, 1), ls='--', color='black', label='Chance level (AUC = 0.5)')\n",
    "plt.legend(loc='lower right')\n",
    "plt.xlim(0, 1)\n",
    "plt.ylim(0, 1)\n",
    "plt.title('ROC curve for \"default\"')\n",
    "plt.show()"
   ]
  },
  {
   "cell_type": "markdown",
   "id": "22c691f4",
   "metadata": {
    "papermill": {
     "duration": 0.017072,
     "end_time": "2024-04-21T15:34:18.370876",
     "exception": false,
     "start_time": "2024-04-21T15:34:18.353804",
     "status": "completed"
    },
    "tags": []
   },
   "source": [
    "The area underneath the curve (AUC) is a metric showing the effectiveness of the classifier. An AUC of 1 indicates a perfect classifier. A completely ineffective classifier (the diagonal line) wil have an AUC of 0.5."
   ]
  },
  {
   "cell_type": "markdown",
   "id": "6e2194f4",
   "metadata": {
    "papermill": {
     "duration": 0.016966,
     "end_time": "2024-04-21T15:34:18.405130",
     "exception": false,
     "start_time": "2024-04-21T15:34:18.388164",
     "status": "completed"
    },
    "tags": []
   },
   "source": [
    "### Lift\n",
    "\n",
    "Using the AUC as a metric to evaluate a model is an improvement over simple accuracy, as it can assess how well a classifier handles the trade-off between overall accuracy and the need to identify the more important 1s. But it does not completely address the rare-case problem, where you need to lower the model’s probability cutoff below 0.5 to avoid having all records classified as 0. In such cases, for a record to be classified as a 1, it might be sufficient to have a probability of 0.4, 0.3, or lower. In effect, we end up overidentifying 1s, reflecting their greater importance.\n",
    "\n",
    "Changing this cutoff will improve your chances of catching the 1s (at the cost of misclassifying more 0s as 1s). But what is the optimum cutoff?\n",
    "\n",
    "The concept of lift lets you defer answering that question. Instead, you consider the records in order of their predicted probability of being 1s. Say, of the top 10% classified as 1s, how much better did the algorithm do, compared to the benchmark of simply picking blindly? If you can get 0.3% response in this top decile instead of the 0.1% you get overall by picking randomly, the algorithm is said to have a *lift* (also called *gains*) of 3 in the top decile. A lift chart (gains chart) quantifies this over the range of the data. It can be produced decile by decile, or continuously over the range of the data."
   ]
  },
  {
   "cell_type": "code",
   "execution_count": 16,
   "id": "683afb11",
   "metadata": {
    "execution": {
     "iopub.execute_input": "2024-04-21T15:34:18.440524Z",
     "iopub.status.busy": "2024-04-21T15:34:18.439780Z",
     "iopub.status.idle": "2024-04-21T15:34:18.968076Z",
     "shell.execute_reply": "2024-04-21T15:34:18.967004Z"
    },
    "papermill": {
     "duration": 0.54867,
     "end_time": "2024-04-21T15:34:18.970333",
     "exception": false,
     "start_time": "2024-04-21T15:34:18.421663",
     "status": "completed"
    },
    "tags": []
   },
   "outputs": [
    {
     "data": {
      "image/png": "[encoded data removed]",
      "text/plain": [
       "<Figure size 640x480 with 1 Axes>"
      ]
     },
     "metadata": {},
     "output_type": "display_data"
    }
   ],
   "source": [
    "skplt.metrics.plot_lift_curve(\n",
    "    y_true=y, \n",
    "    y_probas=logit_reg.predict_proba(X)\n",
    ")\n",
    "plt.legend(loc='upper right')\n",
    "plt.show()"
   ]
  },
  {
   "cell_type": "markdown",
   "id": "5933053b",
   "metadata": {
    "papermill": {
     "duration": 0.02208,
     "end_time": "2024-04-21T15:34:19.012653",
     "exception": false,
     "start_time": "2024-04-21T15:34:18.990573",
     "status": "completed"
    },
    "tags": []
   },
   "source": [
    "## 5.5 Strategies for Imbalanced Data\n",
    "\n",
    "#### <center>Key Terms for Imbalanced Data</center>\n",
    "- ***Undersample***  \n",
    "Use fewer of the prevalent class records in the classification model.<br>  \n",
    "*Synonym*\n",
    "    - Downsample\n",
    "- ***Oversample***  \n",
    "Use more of the rare class records in the classification model, bootstrapping if necessary.<br>  \n",
    "*Synonym*\n",
    "    - Upsample\n",
    "- ***Up weight or down weight***  \n",
    "Attach more (or less) weight to the rare (or prevalent) class in the model.\n",
    "- ***Data generation***  \n",
    "Like bootstrapping, except each new bootstrapped record is slightly different from its source.\n",
    "- ***z-score***  \n",
    "The value that results after standardization.\n",
    "- ***K***  \n",
    "The number of neighbors considered in the nearest neighbor calculation."
   ]
  },
  {
   "cell_type": "markdown",
   "id": "f3b874c8",
   "metadata": {
    "papermill": {
     "duration": 0.024685,
     "end_time": "2024-04-21T15:34:19.059341",
     "exception": false,
     "start_time": "2024-04-21T15:34:19.034656",
     "status": "completed"
    },
    "tags": []
   },
   "source": [
    "### Undersampling\n",
    "\n",
    "Previous `loan_data` is downsampled from full data set so that the numbers of 'default' and 'paid off' are equal. The model we built also predict roughly 50% of the loans to be in default.\n",
    "\n",
    "In the full data set, only about 19% of the loans were in default:"
   ]
  },
  {
   "cell_type": "code",
   "execution_count": 17,
   "id": "43689caf",
   "metadata": {
    "execution": {
     "iopub.execute_input": "2024-04-21T15:34:19.097439Z",
     "iopub.status.busy": "2024-04-21T15:34:19.096997Z",
     "iopub.status.idle": "2024-04-21T15:34:19.113224Z",
     "shell.execute_reply": "2024-04-21T15:34:19.111989Z"
    },
    "papermill": {
     "duration": 0.037454,
     "end_time": "2024-04-21T15:34:19.115542",
     "exception": false,
     "start_time": "2024-04-21T15:34:19.078088",
     "status": "completed"
    },
    "tags": []
   },
   "outputs": [
    {
     "name": "stdout",
     "output_type": "stream",
     "text": [
      "percentage of loans in default: 18.89%\n"
     ]
    }
   ],
   "source": [
    "print('percentage of loans in default: ' + \n",
    "      f'{np.mean(full_train_set.outcome == \"default\"):.2%}')"
   ]
  },
  {
   "cell_type": "markdown",
   "id": "057ee5f3",
   "metadata": {
    "papermill": {
     "duration": 0.016983,
     "end_time": "2024-04-21T15:34:19.151144",
     "exception": false,
     "start_time": "2024-04-21T15:34:19.134161",
     "status": "completed"
    },
    "tags": []
   },
   "source": [
    "What happens if we use the full data set to train the model?"
   ]
  },
  {
   "cell_type": "code",
   "execution_count": 18,
   "id": "9db4e360",
   "metadata": {
    "execution": {
     "iopub.execute_input": "2024-04-21T15:34:19.187208Z",
     "iopub.status.busy": "2024-04-21T15:34:19.186813Z",
     "iopub.status.idle": "2024-04-21T15:34:20.872975Z",
     "shell.execute_reply": "2024-04-21T15:34:20.871863Z"
    },
    "papermill": {
     "duration": 1.713983,
     "end_time": "2024-04-21T15:34:20.882224",
     "exception": false,
     "start_time": "2024-04-21T15:34:19.168241",
     "status": "completed"
    },
    "tags": []
   },
   "outputs": [
    {
     "name": "stdout",
     "output_type": "stream",
     "text": [
      "percentage of loans predicted to default: 0.88%\n"
     ]
    }
   ],
   "source": [
    "predictors = ['payment_inc_ratio', 'purpose_', 'home_', 'emp_len_',\n",
    "              'dti', 'revol_bal', 'revol_util']\n",
    "outcome = 'outcome'\n",
    "X = pd.get_dummies(full_train_set[predictors], prefix='', prefix_sep='',\n",
    "                   drop_first=True)\n",
    "y = full_train_set[outcome]\n",
    "\n",
    "full_model = LogisticRegression()\n",
    "full_model.fit(X, y)\n",
    "\n",
    "print('percentage of loans predicted to default: ' +\n",
    "      f\"{np.mean(full_model.predict(X) == 'default'):.2%}\")"
   ]
  },
  {
   "cell_type": "markdown",
   "id": "9a1585ac",
   "metadata": {
    "papermill": {
     "duration": 0.034609,
     "end_time": "2024-04-21T15:34:20.953949",
     "exception": false,
     "start_time": "2024-04-21T15:34:20.919340",
     "status": "completed"
    },
    "tags": []
   },
   "source": [
    "Only 0.88% of the loans are predicted to be in default, or less than 1/21 of the expected number.\n",
    "\n",
    "This is the effect of imbalanced data."
   ]
  },
  {
   "cell_type": "markdown",
   "id": "f5869f7a",
   "metadata": {
    "papermill": {
     "duration": 0.017898,
     "end_time": "2024-04-21T15:34:21.001807",
     "exception": false,
     "start_time": "2024-04-21T15:34:20.983909",
     "status": "completed"
    },
    "tags": []
   },
   "source": [
    "### Oversampling and Up/Down Weighting\n",
    "\n",
    "One criticism of the undersampling method is that it throws away data and is not using all the information at hand. If you have a relatively small data set, and the rarer class contains a few hundred or a few thousand records, then undersampling the dominant class has the risk of throwing out useful information. In this case, instead of downsampling the dominant case, you should oversample (upsample) the rarer class by drawing additional rows with replacement (bootstrapping).\n",
    "\n",
    "You can achieve a similar effect by weighting the data. Many classification algorithms take a weight argument that will allow you to up/down weight the data."
   ]
  },
  {
   "cell_type": "code",
   "execution_count": 19,
   "id": "bc358e14",
   "metadata": {
    "execution": {
     "iopub.execute_input": "2024-04-21T15:34:21.038628Z",
     "iopub.status.busy": "2024-04-21T15:34:21.038221Z",
     "iopub.status.idle": "2024-04-21T15:34:23.019927Z",
     "shell.execute_reply": "2024-04-21T15:34:23.018158Z"
    },
    "papermill": {
     "duration": 2.00503,
     "end_time": "2024-04-21T15:34:23.024415",
     "exception": false,
     "start_time": "2024-04-21T15:34:21.019385",
     "status": "completed"
    },
    "tags": []
   },
   "outputs": [
    {
     "name": "stdout",
     "output_type": "stream",
     "text": [
      "percentage of loans predicted to default (weighting): 44.07%\n"
     ]
    }
   ],
   "source": [
    "default_wt = 1 / np.mean(full_train_set.outcome == 'default')\n",
    "paid_wt = 1 / np.mean(full_train_set.outcome == 'paid off')\n",
    "wt = [default_wt if outcome == 'default' else paid_wt\n",
    "      for outcome in full_train_set.outcome]\n",
    "\n",
    "full_model = LogisticRegression()\n",
    "full_model.fit(X, y, sample_weight=wt)\n",
    "print('percentage of loans predicted to default (weighting): ' +\n",
    "      f\"{np.mean(full_model.predict(X) == 'default'):.2%}\")"
   ]
  },
  {
   "cell_type": "markdown",
   "id": "03faa80c",
   "metadata": {
    "papermill": {
     "duration": 0.053101,
     "end_time": "2024-04-21T15:34:23.131198",
     "exception": false,
     "start_time": "2024-04-21T15:34:23.078097",
     "status": "completed"
    },
    "tags": []
   },
   "source": [
    "The sums of the weights for the defaulting loans and nondefaulting loans are equal. Th mean of the predicted value is now abtout 44% instead of 0.88%."
   ]
  },
  {
   "cell_type": "markdown",
   "id": "e7014fad",
   "metadata": {
    "papermill": {
     "duration": 0.017366,
     "end_time": "2024-04-21T15:34:23.171261",
     "exception": false,
     "start_time": "2024-04-21T15:34:23.153895",
     "status": "completed"
    },
    "tags": []
   },
   "source": [
    "### Data Generation\n",
    "\n",
    "A variation of upsampling via bootstrapping is *data generation* by perturbing existing records to create new records. The intuition behind this idea is that since we observe only a limited set of instances, the algorithm doesn’t have a rich set of information to build classification “rules.” By creating new records that are similar but not identical to existing records, the algorithm has a chance to learn a more robust set of rules. This notion is similar in spirit to ensemble statistical models such as boosting and bagging.\n",
    "\n",
    "The idea gained traction with the publication of the *SMOTE* algorithm, which stands for “Synthetic Minority Oversampling Technique.” The SMOTE algorithm finds a record that is similar to the record being upsampled and creates a synthetic record that is a randomly weighted average of the original record and the neighboring record, where the weight is generated separately for each predictor. The number of synthetic oversampled records created depends on the oversampling ratio required to bring the data set into approximate balance with respect to outcome classes."
   ]
  },
  {
   "cell_type": "markdown",
   "id": "be348cc8",
   "metadata": {
    "papermill": {
     "duration": 0.017575,
     "end_time": "2024-04-21T15:34:23.206454",
     "exception": false,
     "start_time": "2024-04-21T15:34:23.188879",
     "status": "completed"
    },
    "tags": []
   },
   "source": [
    "### Cost-Based Classification\n",
    "\n",
    "Once we have the ROC of a classifier, how to choose the best cutoff value? Often, an estimated cost can be assigned to false positives versus false negatives, and it is more appropriate to incorporate these costs to determine the best cutoff when classifying 1s and 0s. So the task of finding the best cutoff is reduced to minimize cost of maximize return."
   ]
  }
 ],
 "metadata": {
  "kaggle": {
   "accelerator": "none",
   "dataSources": [
    {
     "datasetId": 4664006,
     "sourceId": 7934344,
     "sourceType": "datasetVersion"
    }
   ],
   "dockerImageVersionId": 30698,
   "isGpuEnabled": false,
   "isInternetEnabled": true,
   "language": "python",
   "sourceType": "notebook"
  },
  "kernelspec": {
   "display_name": "Python 3",
   "language": "python",
   "name": "python3"
  },
  "language_info": {
   "codemirror_mode": {
    "name": "ipython",
    "version": 3
   },
   "file_extension": ".py",
   "mimetype": "text/x-python",
   "name": "python",
   "nbconvert_exporter": "python",
   "pygments_lexer": "ipython3",
   "version": "3.10.13"
  },
  "papermill": {
   "default_parameters": {},
   "duration": 33.754954,
   "end_time": "2024-04-21T15:34:23.946484",
   "environment_variables": {},
   "exception": null,
   "input_path": "__notebook__.ipynb",
   "output_path": "__notebook__.ipynb",
   "parameters": {},
   "start_time": "2024-04-21T15:33:50.191530",
   "version": "2.5.0"
  }
 },
 "nbformat": 4,
 "nbformat_minor": 5
}
