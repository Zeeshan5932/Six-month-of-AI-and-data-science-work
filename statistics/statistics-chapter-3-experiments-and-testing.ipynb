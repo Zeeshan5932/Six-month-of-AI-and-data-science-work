{
 "cells": [
  {
   "cell_type": "markdown",
   "id": "22bc80e8",
   "metadata": {
    "papermill": {
     "duration": 0.009619,
     "end_time": "2024-04-16T15:51:15.930702",
     "exception": false,
     "start_time": "2024-04-16T15:51:15.921083",
     "status": "completed"
    },
    "tags": []
   },
   "source": [
    "## [Link to all chapters](https://www.kaggle.com/ustcer1984/statistics-with-python-for-data-science)"
   ]
  },
  {
   "cell_type": "code",
   "execution_count": 1,
   "id": "2af0f4b7",
   "metadata": {
    "execution": {
     "iopub.execute_input": "2024-04-16T15:51:15.951456Z",
     "iopub.status.busy": "2024-04-16T15:51:15.950716Z",
     "iopub.status.idle": "2024-04-16T15:51:19.616683Z",
     "shell.execute_reply": "2024-04-16T15:51:19.615785Z"
    },
    "papermill": {
     "duration": 3.679121,
     "end_time": "2024-04-16T15:51:19.619085",
     "exception": false,
     "start_time": "2024-04-16T15:51:15.939964",
     "status": "completed"
    },
    "tags": []
   },
   "outputs": [],
   "source": [
    "import numpy as np\n",
    "import pandas as pd\n",
    "from scipy import stats\n",
    "import statsmodels.api as sm\n",
    "import statsmodels.formula.api as smf\n",
    "import random\n",
    "\n",
    "import matplotlib.pyplot as plt\n",
    "import seaborn as sns\n",
    "sns.set_theme() # I like seaborn default theme\n",
    "\n",
    "import warnings\n",
    "warnings.filterwarnings('ignore')\n",
    "\n",
    "input_path = '/kaggle/input/practical-statistics-with-python-for-data-science/'\n",
    "session_times = pd.read_csv(input_path + 'web_page_data.csv')\n",
    "four_sessions = pd.read_csv(input_path + 'four_sessions.csv')\n",
    "click = pd.read_csv(input_path + 'click_rates.csv')"
   ]
  },
  {
   "cell_type": "markdown",
   "id": "15147ca2",
   "metadata": {
    "papermill": {
     "duration": 0.009199,
     "end_time": "2024-04-16T15:51:19.638078",
     "exception": false,
     "start_time": "2024-04-16T15:51:19.628879",
     "status": "completed"
    },
    "tags": []
   },
   "source": [
    "# 3 Statistical Experiments and Significance Testing\n",
    "\n",
    "Classical statistical inference \"pipeline\":  \n",
    "1. Formulate hypothesis\n",
    "2. Design experiment\n",
    "3. Collect data\n",
    "4. Inference / conclusions"
   ]
  },
  {
   "cell_type": "markdown",
   "id": "c2a15bc5",
   "metadata": {
    "papermill": {
     "duration": 0.010088,
     "end_time": "2024-04-16T15:51:19.657627",
     "exception": false,
     "start_time": "2024-04-16T15:51:19.647539",
     "status": "completed"
    },
    "tags": []
   },
   "source": [
    "## 3.1 A/B Testing\n",
    "\n",
    "#### <center>Key Terms for A/B Testing</center>\n",
    "- ***Treatment***  \n",
    "Something (drug, price, web headline) to which a subject is exposed.\n",
    "- ***Treatment group***  \n",
    "A group of subjects exposed to a specific treatment.\n",
    "- ***Control group***  \n",
    "A group of subjects exposed to no (or standard) treatment.\n",
    "- ***Randomization***  \n",
    "The process of randomly assigning subjects to treatments.\n",
    "- ***Subjects***  \n",
    "The items (web visitors, patients, etc.) that are exposed to treatments.\n",
    "- ***Test statistic***  \n",
    "The metric used to measure the effect of the treatment.\n",
    "\n",
    "#### <center>Key Ideas</center>\n",
    "- Subjects are assigned to two (or more) groups that are treated exactly alike, except that the treatment under study differs from one group to another.\n",
    "- Ideally, subjects are assigned randomly to the groups."
   ]
  },
  {
   "cell_type": "markdown",
   "id": "571e7536",
   "metadata": {
    "papermill": {
     "duration": 0.00881,
     "end_time": "2024-04-16T15:51:19.675729",
     "exception": false,
     "start_time": "2024-04-16T15:51:19.666919",
     "status": "completed"
    },
    "tags": []
   },
   "source": [
    "## 3.2 Hypothesis Tests\n",
    "\n",
    "#### <center>Key Terms for Hypothesis Tests</center>\n",
    "- ***Null hypothesis***  \n",
    "The hypothesis that chance is to blame.\n",
    "- ***Alternative hypothesis***  \n",
    "Counterpoint to the null (what you hope to prove).\n",
    "- ***One-way test***  \n",
    "Hypothesis test that counts chance results only in one direction.\n",
    "- ***Two-way test***  \n",
    "Hypothesis test that counts chance results in two directions."
   ]
  },
  {
   "cell_type": "markdown",
   "id": "d8602578",
   "metadata": {
    "papermill": {
     "duration": 0.008898,
     "end_time": "2024-04-16T15:51:19.694341",
     "exception": false,
     "start_time": "2024-04-16T15:51:19.685443",
     "status": "completed"
    },
    "tags": []
   },
   "source": [
    "## 3.2 Resampling\n",
    "\n",
    "#### <center>Key Terms for Resampling</center>\n",
    "- ***Permutation test***  \n",
    "The procedure of combining two or more samples together and randomly (or\n",
    "exhaustively) reallocating the observations to resamples.<br>  \n",
    "*Synonyms*\n",
    "    - Randomization test, random permutation test, exact test\n",
    "- ***Resampling***  \n",
    "Drawing additional samples (“resamples”) from an observed data set.\n",
    "- ***With or without replacement***  \n",
    "In sampling, whether or not an item is returned to the sample before the next draw."
   ]
  },
  {
   "cell_type": "markdown",
   "id": "34235ef9",
   "metadata": {
    "papermill": {
     "duration": 0.008987,
     "end_time": "2024-04-16T15:51:19.712418",
     "exception": false,
     "start_time": "2024-04-16T15:51:19.703431",
     "status": "completed"
    },
    "tags": []
   },
   "source": [
    "### Permutation Test\n",
    "\n",
    "To see if the statistics difference of A and B groups (can be more than 2 groups) is significant or not, we can combine the samples from all groups, randomly shuffle and assign to A, B groups (***permutation test***). Repeat it many times to see the permutation test distribution of the difference between A and B groups.  \n",
    "- If the original difference is within the distribution range, we cannot reject the null hypothesis.\n",
    "- If the original difference is far from the distribution range, we can reject the null hypothesis and conclude the difference between A/B groups is statistically significant."
   ]
  },
  {
   "cell_type": "markdown",
   "id": "a61a01de",
   "metadata": {
    "papermill": {
     "duration": 0.009011,
     "end_time": "2024-04-16T15:51:19.730482",
     "exception": false,
     "start_time": "2024-04-16T15:51:19.721471",
     "status": "completed"
    },
    "tags": []
   },
   "source": [
    "**Example: Web Stickness**\n",
    "\n",
    "Below data shows 2 webpage design and the amount of time people spend on them."
   ]
  },
  {
   "cell_type": "code",
   "execution_count": 2,
   "id": "ffaac26e",
   "metadata": {
    "execution": {
     "iopub.execute_input": "2024-04-16T15:51:19.750978Z",
     "iopub.status.busy": "2024-04-16T15:51:19.750293Z",
     "iopub.status.idle": "2024-04-16T15:51:19.767703Z",
     "shell.execute_reply": "2024-04-16T15:51:19.766496Z"
    },
    "papermill": {
     "duration": 0.030074,
     "end_time": "2024-04-16T15:51:19.769928",
     "exception": false,
     "start_time": "2024-04-16T15:51:19.739854",
     "status": "completed"
    },
    "tags": []
   },
   "outputs": [
    {
     "data": {
      "text/html": [
       "<div>\n",
       "<style scoped>\n",
       "    .dataframe tbody tr th:only-of-type {\n",
       "        vertical-align: middle;\n",
       "    }\n",
       "\n",
       "    .dataframe tbody tr th {\n",
       "        vertical-align: top;\n",
       "    }\n",
       "\n",
       "    .dataframe thead th {\n",
       "        text-align: right;\n",
       "    }\n",
       "</style>\n",
       "<table border=\"1\" class=\"dataframe\">\n",
       "  <thead>\n",
       "    <tr style=\"text-align: right;\">\n",
       "      <th></th>\n",
       "      <th>Page</th>\n",
       "      <th>Time</th>\n",
       "    </tr>\n",
       "  </thead>\n",
       "  <tbody>\n",
       "    <tr>\n",
       "      <th>0</th>\n",
       "      <td>Page A</td>\n",
       "      <td>0.21</td>\n",
       "    </tr>\n",
       "    <tr>\n",
       "      <th>1</th>\n",
       "      <td>Page B</td>\n",
       "      <td>2.53</td>\n",
       "    </tr>\n",
       "    <tr>\n",
       "      <th>2</th>\n",
       "      <td>Page A</td>\n",
       "      <td>0.35</td>\n",
       "    </tr>\n",
       "    <tr>\n",
       "      <th>3</th>\n",
       "      <td>Page B</td>\n",
       "      <td>0.71</td>\n",
       "    </tr>\n",
       "    <tr>\n",
       "      <th>4</th>\n",
       "      <td>Page A</td>\n",
       "      <td>0.67</td>\n",
       "    </tr>\n",
       "  </tbody>\n",
       "</table>\n",
       "</div>"
      ],
      "text/plain": [
       "     Page  Time\n",
       "0  Page A  0.21\n",
       "1  Page B  2.53\n",
       "2  Page A  0.35\n",
       "3  Page B  0.71\n",
       "4  Page A  0.67"
      ]
     },
     "execution_count": 2,
     "metadata": {},
     "output_type": "execute_result"
    }
   ],
   "source": [
    "session_times.head()"
   ]
  },
  {
   "cell_type": "code",
   "execution_count": 3,
   "id": "18c70d50",
   "metadata": {
    "execution": {
     "iopub.execute_input": "2024-04-16T15:51:19.790048Z",
     "iopub.status.busy": "2024-04-16T15:51:19.789655Z",
     "iopub.status.idle": "2024-04-16T15:51:20.089681Z",
     "shell.execute_reply": "2024-04-16T15:51:20.088654Z"
    },
    "papermill": {
     "duration": 0.313206,
     "end_time": "2024-04-16T15:51:20.092483",
     "exception": false,
     "start_time": "2024-04-16T15:51:19.779277",
     "status": "completed"
    },
    "tags": []
   },
   "outputs": [
    {
     "data": {
      "image/png": "[encoded data removed]",
      "text/plain": [
       "<Figure size 640x480 with 1 Axes>"
      ]
     },
     "metadata": {},
     "output_type": "display_data"
    }
   ],
   "source": [
    "ax = session_times.boxplot(by='Page', column='Time')\n",
    "ax.set_xlabel('')\n",
    "ax.set_ylabel('Time (in minutes)')\n",
    "plt.suptitle('')\n",
    "plt.show()"
   ]
  },
  {
   "cell_type": "markdown",
   "id": "29b39f1f",
   "metadata": {
    "papermill": {
     "duration": 0.009228,
     "end_time": "2024-04-16T15:51:20.113800",
     "exception": false,
     "start_time": "2024-04-16T15:51:20.104572",
     "status": "completed"
    },
    "tags": []
   },
   "source": [
    "From above boxplot, we can see page B leads to longer sessions than page A."
   ]
  },
  {
   "cell_type": "code",
   "execution_count": 4,
   "id": "33f5b03b",
   "metadata": {
    "execution": {
     "iopub.execute_input": "2024-04-16T15:51:20.134731Z",
     "iopub.status.busy": "2024-04-16T15:51:20.134372Z",
     "iopub.status.idle": "2024-04-16T15:51:20.145876Z",
     "shell.execute_reply": "2024-04-16T15:51:20.144879Z"
    },
    "papermill": {
     "duration": 0.024837,
     "end_time": "2024-04-16T15:51:20.148058",
     "exception": false,
     "start_time": "2024-04-16T15:51:20.123221",
     "status": "completed"
    },
    "tags": []
   },
   "outputs": [
    {
     "data": {
      "text/plain": [
       "0.3566666666666669"
      ]
     },
     "execution_count": 4,
     "metadata": {},
     "output_type": "execute_result"
    }
   ],
   "source": [
    "mean_a = session_times[session_times['Page']=='Page A']['Time'].mean()\n",
    "mean_b = session_times[session_times['Page']=='Page B']['Time'].mean()\n",
    "mean_b - mean_a"
   ]
  },
  {
   "cell_type": "markdown",
   "id": "6a405279",
   "metadata": {
    "papermill": {
     "duration": 0.009716,
     "end_time": "2024-04-16T15:51:20.167761",
     "exception": false,
     "start_time": "2024-04-16T15:51:20.158045",
     "status": "completed"
    },
    "tags": []
   },
   "source": [
    "On average page B session time is 0.36 minutes longer than page A. The question is whether this number is statistically significant. We can do permutation test as below:"
   ]
  },
  {
   "cell_type": "code",
   "execution_count": 5,
   "id": "bb04e047",
   "metadata": {
    "execution": {
     "iopub.execute_input": "2024-04-16T15:51:20.188750Z",
     "iopub.status.busy": "2024-04-16T15:51:20.188393Z",
     "iopub.status.idle": "2024-04-16T15:51:36.036266Z",
     "shell.execute_reply": "2024-04-16T15:51:36.035144Z"
    },
    "papermill": {
     "duration": 15.861341,
     "end_time": "2024-04-16T15:51:36.038816",
     "exception": false,
     "start_time": "2024-04-16T15:51:20.177475",
     "status": "completed"
    },
    "tags": []
   },
   "outputs": [
    {
     "data": {
      "image/png": "[encoded data removed]",
      "text/plain": [
       "<Figure size 640x480 with 1 Axes>"
      ]
     },
     "metadata": {},
     "output_type": "display_data"
    }
   ],
   "source": [
    "def perm_fun(session_times):\n",
    "    # generate a new dataframe with col 'Time' shuffled\n",
    "    df_new = pd.concat(\n",
    "        [\n",
    "            session_times['Page'], \n",
    "            session_times['Time']\\\n",
    "                .sample(frac=1, replace=False)\\\n",
    "                .reset_index(drop=True)\n",
    "        ],\n",
    "        axis = 1\n",
    "    )\n",
    "    mean_a = df_new[df_new['Page']=='Page A']['Time'].mean()\n",
    "    mean_b = df_new[df_new['Page']=='Page B']['Time'].mean()\n",
    "    return mean_b - mean_a\n",
    "\n",
    "# run permutation test 10000 times\n",
    "perm_diff = [perm_fun(session_times) for i in range(10000)]\n",
    "\n",
    "# plot histplot\n",
    "sns.histplot(perm_diff, bins=10)\n",
    "plt.axvline(mean_b - mean_a, \n",
    "            color='black', ls='--', label='Observed\\ndifference')\n",
    "plt.xlabel('Session time differences (in minutes)')\n",
    "plt.title('Permutation test result')\n",
    "plt.legend()\n",
    "plt.show()"
   ]
  },
  {
   "cell_type": "markdown",
   "id": "a1f60c54",
   "metadata": {
    "papermill": {
     "duration": 0.010008,
     "end_time": "2024-04-16T15:51:36.059413",
     "exception": false,
     "start_time": "2024-04-16T15:51:36.049405",
     "status": "completed"
    },
    "tags": []
   },
   "source": [
    "Above plot show that mean difference of random permutations often (more than 10%) exceeds the observed difference."
   ]
  },
  {
   "cell_type": "code",
   "execution_count": 6,
   "id": "faeced92",
   "metadata": {
    "execution": {
     "iopub.execute_input": "2024-04-16T15:51:36.081686Z",
     "iopub.status.busy": "2024-04-16T15:51:36.081304Z",
     "iopub.status.idle": "2024-04-16T15:51:36.088830Z",
     "shell.execute_reply": "2024-04-16T15:51:36.087737Z"
    },
    "papermill": {
     "duration": 0.021232,
     "end_time": "2024-04-16T15:51:36.090981",
     "exception": false,
     "start_time": "2024-04-16T15:51:36.069749",
     "status": "completed"
    },
    "tags": []
   },
   "outputs": [
    {
     "data": {
      "text/plain": [
       "0.1428"
      ]
     },
     "execution_count": 6,
     "metadata": {},
     "output_type": "execute_result"
    }
   ],
   "source": [
    "np.mean(perm_diff > mean_b - mean_a)"
   ]
  },
  {
   "cell_type": "markdown",
   "id": "c1263e3b",
   "metadata": {
    "papermill": {
     "duration": 0.010143,
     "end_time": "2024-04-16T15:51:36.111776",
     "exception": false,
     "start_time": "2024-04-16T15:51:36.101633",
     "status": "completed"
    },
    "tags": []
   },
   "source": [
    "This suggests that the observed difference in session time between page A and page B is well within the range of chance variation and thus is not statistically significant."
   ]
  },
  {
   "cell_type": "markdown",
   "id": "714dca23",
   "metadata": {
    "papermill": {
     "duration": 0.01053,
     "end_time": "2024-04-16T15:51:36.132855",
     "exception": false,
     "start_time": "2024-04-16T15:51:36.122325",
     "status": "completed"
    },
    "tags": []
   },
   "source": [
    "## 3.3 Statistical Significance and p-Values\n",
    "\n",
    "#### <center>Key Terms for Statistical Significance and p-Values</center>\n",
    "- ***p-value***  \n",
    "Given a chance model that embodies the null hypothesis, the p-value is the probability of obtaining results as unusual or extreme as the observed results.\n",
    "- ***Alpha***  \n",
    "The probability threshold of “unusualness” that chance results must surpass for actual outcomes to be deemed statistically significant.\n",
    "- ***Type 1 error***  \n",
    "Mistakenly concluding an effect is real (when it is due to chance).\n",
    "- ***Type 2 error***  \n",
    "Mistakenly concluding an effect is due to chance (when it is real)."
   ]
  },
  {
   "cell_type": "markdown",
   "id": "74d2a3e3",
   "metadata": {
    "papermill": {
     "duration": 0.010179,
     "end_time": "2024-04-16T15:51:36.153593",
     "exception": false,
     "start_time": "2024-04-16T15:51:36.143414",
     "status": "completed"
    },
    "tags": []
   },
   "source": [
    "## 3.4 t-Tests\n",
    "\n",
    "#### <center>Key Terms for t-Tests</center>\n",
    "- ***Test statistic***  \n",
    "A metric for the difference or effect of interest.\n",
    "- ***t-statistic***  \n",
    "A standardized version of common test statistics such as means.\n",
    "- ***t-distribution***  \n",
    "A reference distribution (in this case derived from the null hypothesis), to which the observed t-statistic can be compared."
   ]
  },
  {
   "cell_type": "code",
   "execution_count": 7,
   "id": "604e4f47",
   "metadata": {
    "execution": {
     "iopub.execute_input": "2024-04-16T15:51:36.176247Z",
     "iopub.status.busy": "2024-04-16T15:51:36.175826Z",
     "iopub.status.idle": "2024-04-16T15:51:36.186735Z",
     "shell.execute_reply": "2024-04-16T15:51:36.185934Z"
    },
    "papermill": {
     "duration": 0.025007,
     "end_time": "2024-04-16T15:51:36.189039",
     "exception": false,
     "start_time": "2024-04-16T15:51:36.164032",
     "status": "completed"
    },
    "tags": []
   },
   "outputs": [
    {
     "name": "stdout",
     "output_type": "stream",
     "text": [
      "p-value for single sided test: 0.1408\n"
     ]
    }
   ],
   "source": [
    "# t test statistics for above webpage example\n",
    "result = stats.ttest_ind(\n",
    "    session_times[session_times['Page']=='Page A']['Time'],\n",
    "    session_times[session_times['Page']=='Page B']['Time'],\n",
    "    equal_var=False\n",
    ")\n",
    "print(f'p-value for single sided test: {result.pvalue / 2:.4f}')"
   ]
  },
  {
   "cell_type": "markdown",
   "id": "d5d7cc5f",
   "metadata": {
    "papermill": {
     "duration": 0.010673,
     "end_time": "2024-04-16T15:51:36.210563",
     "exception": false,
     "start_time": "2024-04-16T15:51:36.199890",
     "status": "completed"
    },
    "tags": []
   },
   "source": [
    "This result is quite close to previous permutation testing result.\n",
    "\n",
    "**NOTE**: in above code we divide `result.pvalue` by 2. The reason is `stats.ttest_ind` null hypothesis is the 2 sample means are same (2 sides) while our null hypothesis is the 2nd sample means is not larger than 1st sample (1 side)."
   ]
  },
  {
   "cell_type": "markdown",
   "id": "15189577",
   "metadata": {
    "papermill": {
     "duration": 0.010537,
     "end_time": "2024-04-16T15:51:36.231893",
     "exception": false,
     "start_time": "2024-04-16T15:51:36.221356",
     "status": "completed"
    },
    "tags": []
   },
   "source": [
    "## 3.5 Multiple Testing\n",
    "\n",
    "#### <center>Key Terms for Multiple Testing</center>\n",
    "- ***Type 1 error***  \n",
    "Mistakenly concluding that an effect is statistically significant.\n",
    "- ***False discovery rate***  \n",
    "Across multiple tests, the rate of making a Type 1 error.\n",
    "- ***Alpha inflation***  \n",
    "The multiple testing phenomenon, in which alpha, the probability of making a Type 1 error, increases as you conduct more tests.\n",
    "- ***Adjustment of p-values***  \n",
    "Accounting for doing multiple tests on the same data.\n",
    "- ***Overfitting***  \n",
    "Fitting the noise.\n",
    "\n",
    "<br>\n",
    "\n",
    "**Explain**  \n",
    "- If you have 20 predictor variables and 1 outcome variable, all ***randomly*** generated. Then you do 20 significance tests at the alpha = 0.05 level.\n",
    "    - By right no test should show positive result (*Type 1 error*), but is that the case?\n",
    "- Since alpha = 0.05, the chance of true negative for each test is 0.95.\n",
    "- There are 20 independent tests, so the chance of getting true negatives for all of them is 0.95^20 = 0.36.\n",
    "- It means you have <span style=\"color:red\">**64%**</span> (1 - 0.36) chance of getting at least 1 false positive (*Type 1 error*) result.\n",
    "- This phenomenon is called ***alpha inflation***.\n",
    "\n",
    "<br>\n",
    "\n",
    "Bottom line for data scientists on multiplicity:  \n",
    "- For predictive modeling, the risk of getting an illusory model whose apparent efficacy is largely a product of random chance is mitigated by cross-validation and use of a holdout sample.\n",
    "- For other procedures without a labeled holdout set to check the model, you must rely on:\n",
    "    - Awareness that the more you query and manipulate the data, the greater the role that chance might play.\n",
    "    - Resampling and simulation heuristics to provide random chance benchmarks against which observed results can be compared."
   ]
  },
  {
   "cell_type": "markdown",
   "id": "4a9ab1da",
   "metadata": {
    "papermill": {
     "duration": 0.010972,
     "end_time": "2024-04-16T15:51:36.253951",
     "exception": false,
     "start_time": "2024-04-16T15:51:36.242979",
     "status": "completed"
    },
    "tags": []
   },
   "source": [
    "## 3.6 Degrees of Freedom\n",
    "\n",
    "For data science, most of the time we don't need to worry about it especially when the sample size is big enough.\n",
    "\n",
    "There is one context, though, in which it is relevant: the use of factored variables in regression (including logistic regression). Some regression algorithms choke if exactly redundant predictor variables are present. This most commonly occurs when factoring categorical variables into binary indicators (dummies). Consider the variable “day of week.” Although there are seven days of the week, there are only six degrees of freedom in specifying day of week. For example, once you know that day of week is not Monday through Saturday, you know it must be Sunday. Inclusion of the Mon–Sat indicators thus means that *also* including Sunday would cause the regression to fail, due to a ***multicollinearity*** error."
   ]
  },
  {
   "cell_type": "markdown",
   "id": "7234cd28",
   "metadata": {
    "papermill": {
     "duration": 0.010357,
     "end_time": "2024-04-16T15:51:36.275562",
     "exception": false,
     "start_time": "2024-04-16T15:51:36.265205",
     "status": "completed"
    },
    "tags": []
   },
   "source": [
    "## 3.7 ANOVA\n",
    "\n",
    "ANOVA stands for *analysis of variance*.\n",
    "\n",
    "#### <center>Key Terms for ANOVA</center>\n",
    "- ***Pairwise comparison***  \n",
    "A hypothesis test (e.g., of means) between two groups among multiple groups.\n",
    "- ***Omnibus test***  \n",
    "A single hypothesis test of the overall variance among multiple group means.\n",
    "- ***Decomposition of variance***  \n",
    "Separation of components contributing to an individual value (e.g., from the overall average, from a treatment mean, and from a residual error).\n",
    "- ***F-statistic***  \n",
    "A standardized statistic that measures the extent to which differences among group means exceed what might be expected in a chance model.\n",
    "- ***SS***  \n",
    "“Sum of squares,” referring to deviations from some average value.\n",
    "\n",
    "<br>\n",
    "\n",
    "**Example**\n",
    "\n",
    "Below table shows the stickness (in seconds) of four web pages:"
   ]
  },
  {
   "cell_type": "code",
   "execution_count": 8,
   "id": "5713f87e",
   "metadata": {
    "execution": {
     "iopub.execute_input": "2024-04-16T15:51:36.299198Z",
     "iopub.status.busy": "2024-04-16T15:51:36.298520Z",
     "iopub.status.idle": "2024-04-16T15:51:36.316969Z",
     "shell.execute_reply": "2024-04-16T15:51:36.315495Z"
    },
    "papermill": {
     "duration": 0.033095,
     "end_time": "2024-04-16T15:51:36.319468",
     "exception": false,
     "start_time": "2024-04-16T15:51:36.286373",
     "status": "completed"
    },
    "tags": []
   },
   "outputs": [
    {
     "data": {
      "text/html": [
       "<div>\n",
       "<style scoped>\n",
       "    .dataframe tbody tr th:only-of-type {\n",
       "        vertical-align: middle;\n",
       "    }\n",
       "\n",
       "    .dataframe tbody tr th {\n",
       "        vertical-align: top;\n",
       "    }\n",
       "\n",
       "    .dataframe thead th {\n",
       "        text-align: right;\n",
       "    }\n",
       "</style>\n",
       "<table border=\"1\" class=\"dataframe\">\n",
       "  <thead>\n",
       "    <tr style=\"text-align: right;\">\n",
       "      <th>Page</th>\n",
       "      <th>Page 1</th>\n",
       "      <th>Page 2</th>\n",
       "      <th>Page 3</th>\n",
       "      <th>Page 4</th>\n",
       "    </tr>\n",
       "    <tr>\n",
       "      <th>idx</th>\n",
       "      <th></th>\n",
       "      <th></th>\n",
       "      <th></th>\n",
       "      <th></th>\n",
       "    </tr>\n",
       "  </thead>\n",
       "  <tbody>\n",
       "    <tr>\n",
       "      <th>0</th>\n",
       "      <td>164</td>\n",
       "      <td>178</td>\n",
       "      <td>175</td>\n",
       "      <td>155</td>\n",
       "    </tr>\n",
       "    <tr>\n",
       "      <th>1</th>\n",
       "      <td>172</td>\n",
       "      <td>191</td>\n",
       "      <td>193</td>\n",
       "      <td>166</td>\n",
       "    </tr>\n",
       "    <tr>\n",
       "      <th>2</th>\n",
       "      <td>177</td>\n",
       "      <td>182</td>\n",
       "      <td>171</td>\n",
       "      <td>164</td>\n",
       "    </tr>\n",
       "    <tr>\n",
       "      <th>3</th>\n",
       "      <td>156</td>\n",
       "      <td>185</td>\n",
       "      <td>163</td>\n",
       "      <td>170</td>\n",
       "    </tr>\n",
       "    <tr>\n",
       "      <th>4</th>\n",
       "      <td>195</td>\n",
       "      <td>177</td>\n",
       "      <td>176</td>\n",
       "      <td>168</td>\n",
       "    </tr>\n",
       "  </tbody>\n",
       "</table>\n",
       "</div>"
      ],
      "text/plain": [
       "Page  Page 1  Page 2  Page 3  Page 4\n",
       "idx                                 \n",
       "0        164     178     175     155\n",
       "1        172     191     193     166\n",
       "2        177     182     171     164\n",
       "3        156     185     163     170\n",
       "4        195     177     176     168"
      ]
     },
     "execution_count": 8,
     "metadata": {},
     "output_type": "execute_result"
    }
   ],
   "source": [
    "df = four_sessions.copy()\n",
    "df['idx'] = df.groupby('Page').cumcount()\n",
    "df.pivot(index='idx', columns='Page', values='Time')"
   ]
  },
  {
   "cell_type": "markdown",
   "id": "9b8e961e",
   "metadata": {
    "papermill": {
     "duration": 0.010576,
     "end_time": "2024-04-16T15:51:36.341469",
     "exception": false,
     "start_time": "2024-04-16T15:51:36.330893",
     "status": "completed"
    },
    "tags": []
   },
   "source": [
    "If we want to study if their means are significant different, one way is to compare each 2 pages group (e.g. Page 1 vs. Page 2). We will have 6 groups in this case. \n",
    "\n",
    "However, the more *pairwise* comparisons we make, the greater potential to get at least one *Type 1 error* due to random chance as discussed in **Multiple Testing**. So we need a single overall test, which is what ANOVA does."
   ]
  },
  {
   "cell_type": "code",
   "execution_count": 9,
   "id": "df3976d7",
   "metadata": {
    "execution": {
     "iopub.execute_input": "2024-04-16T15:51:36.367986Z",
     "iopub.status.busy": "2024-04-16T15:51:36.367610Z",
     "iopub.status.idle": "2024-04-16T15:51:36.665241Z",
     "shell.execute_reply": "2024-04-16T15:51:36.663999Z"
    },
    "papermill": {
     "duration": 0.312422,
     "end_time": "2024-04-16T15:51:36.667559",
     "exception": false,
     "start_time": "2024-04-16T15:51:36.355137",
     "status": "completed"
    },
    "tags": []
   },
   "outputs": [
    {
     "data": {
      "image/png": "[encoded data removed]",
      "text/plain": [
       "<Figure size 640x480 with 1 Axes>"
      ]
     },
     "metadata": {},
     "output_type": "display_data"
    }
   ],
   "source": [
    "sns.boxplot(four_sessions, x='Page', y='Time')\n",
    "plt.show()"
   ]
  },
  {
   "cell_type": "markdown",
   "id": "6facef77",
   "metadata": {
    "papermill": {
     "duration": 0.011054,
     "end_time": "2024-04-16T15:51:36.690128",
     "exception": false,
     "start_time": "2024-04-16T15:51:36.679074",
     "status": "completed"
    },
    "tags": []
   },
   "source": [
    "Procedure of ANOVA by permutation testing for above example:  \n",
    "1. Combine all the data together in a single box.\n",
    "2. Shuffle and draw out four resamples of five values each.\n",
    "3. Record the mean of each of the four groups.\n",
    "4. Record the variance among the four group means.\n",
    "5. Repeat steps 2–4 many (say, 1,000) times."
   ]
  },
  {
   "cell_type": "code",
   "execution_count": 10,
   "id": "d35322b4",
   "metadata": {
    "execution": {
     "iopub.execute_input": "2024-04-16T15:51:36.715503Z",
     "iopub.status.busy": "2024-04-16T15:51:36.714472Z",
     "iopub.status.idle": "2024-04-16T15:51:50.310929Z",
     "shell.execute_reply": "2024-04-16T15:51:50.309817Z"
    },
    "papermill": {
     "duration": 13.613301,
     "end_time": "2024-04-16T15:51:50.314711",
     "exception": false,
     "start_time": "2024-04-16T15:51:36.701410",
     "status": "completed"
    },
    "tags": []
   },
   "outputs": [
    {
     "data": {
      "image/png": "[encoded data removed]",
      "text/plain": [
       "<Figure size 640x480 with 1 Axes>"
      ]
     },
     "metadata": {},
     "output_type": "display_data"
    },
    {
     "name": "stdout",
     "output_type": "stream",
     "text": [
      "p value = 0.0741\n"
     ]
    }
   ],
   "source": [
    "observed_variance = four_sessions.groupby('Page').mean().var().iloc[0]\n",
    "\n",
    "def perm_test(df):\n",
    "    df = df.copy()\n",
    "    df['Time'] = np.random.permutation(df['Time'].to_numpy())\n",
    "    return df.groupby('Page').mean().var().iloc[0]\n",
    "\n",
    "perm_variance = [perm_test(four_sessions) for i in range(10000)]\n",
    "\n",
    "# plot histgram\n",
    "sns.histplot(perm_variance)\n",
    "plt.axvline(observed_variance, ls='--', color='black', \n",
    "            label='Observed\\nvariance')\n",
    "plt.xlabel('Variance')\n",
    "plt.legend()\n",
    "plt.show()\n",
    "\n",
    "print(f'p value = {np.mean(perm_variance > observed_variance):.4f}')"
   ]
  },
  {
   "cell_type": "markdown",
   "id": "6bab7590",
   "metadata": {
    "papermill": {
     "duration": 0.011502,
     "end_time": "2024-04-16T15:51:50.338094",
     "exception": false,
     "start_time": "2024-04-16T15:51:50.326592",
     "status": "completed"
    },
    "tags": []
   },
   "source": [
    "If alpha = 0.05, then p value > alpha, so the difference is not statistically significant.\n",
    "\n",
    "<br>\n",
    "\n",
    "### F-statistic\n",
    "\n",
    "ANOVA can be calculated based on *F-statistic*. \n",
    "\n",
    "The F-statistic is based on the ratio of the variance across group means to the variance due to residual error. The higher thsi ratio, the more statistically significant the result. If the data follows a normal distribution, then statistical theory dictates that the statistic should have a certain distribution. Based on this, it is possible to compute a p-value."
   ]
  },
  {
   "cell_type": "code",
   "execution_count": 11,
   "id": "3f491437",
   "metadata": {
    "execution": {
     "iopub.execute_input": "2024-04-16T15:51:50.363836Z",
     "iopub.status.busy": "2024-04-16T15:51:50.363456Z",
     "iopub.status.idle": "2024-04-16T15:51:50.404853Z",
     "shell.execute_reply": "2024-04-16T15:51:50.403659Z"
    },
    "papermill": {
     "duration": 0.057506,
     "end_time": "2024-04-16T15:51:50.407327",
     "exception": false,
     "start_time": "2024-04-16T15:51:50.349821",
     "status": "completed"
    },
    "tags": []
   },
   "outputs": [
    {
     "data": {
      "text/html": [
       "<div>\n",
       "<style scoped>\n",
       "    .dataframe tbody tr th:only-of-type {\n",
       "        vertical-align: middle;\n",
       "    }\n",
       "\n",
       "    .dataframe tbody tr th {\n",
       "        vertical-align: top;\n",
       "    }\n",
       "\n",
       "    .dataframe thead th {\n",
       "        text-align: right;\n",
       "    }\n",
       "</style>\n",
       "<table border=\"1\" class=\"dataframe\">\n",
       "  <thead>\n",
       "    <tr style=\"text-align: right;\">\n",
       "      <th></th>\n",
       "      <th>df</th>\n",
       "      <th>sum_sq</th>\n",
       "      <th>mean_sq</th>\n",
       "      <th>F</th>\n",
       "      <th>PR(&gt;F)</th>\n",
       "    </tr>\n",
       "  </thead>\n",
       "  <tbody>\n",
       "    <tr>\n",
       "      <th>Page</th>\n",
       "      <td>3.0</td>\n",
       "      <td>831.4</td>\n",
       "      <td>277.133333</td>\n",
       "      <td>2.739825</td>\n",
       "      <td>0.077586</td>\n",
       "    </tr>\n",
       "    <tr>\n",
       "      <th>Residual</th>\n",
       "      <td>16.0</td>\n",
       "      <td>1618.4</td>\n",
       "      <td>101.150000</td>\n",
       "      <td>NaN</td>\n",
       "      <td>NaN</td>\n",
       "    </tr>\n",
       "  </tbody>\n",
       "</table>\n",
       "</div>"
      ],
      "text/plain": [
       "            df  sum_sq     mean_sq         F    PR(>F)\n",
       "Page       3.0   831.4  277.133333  2.739825  0.077586\n",
       "Residual  16.0  1618.4  101.150000       NaN       NaN"
      ]
     },
     "execution_count": 11,
     "metadata": {},
     "output_type": "execute_result"
    }
   ],
   "source": [
    "model = smf.ols('Time ~ Page', data=four_sessions).fit()\n",
    "sm.stats.anova_lm(model)"
   ]
  },
  {
   "cell_type": "markdown",
   "id": "0ab06e59",
   "metadata": {
    "papermill": {
     "duration": 0.013851,
     "end_time": "2024-04-16T15:51:50.436853",
     "exception": false,
     "start_time": "2024-04-16T15:51:50.423002",
     "status": "completed"
    },
    "tags": []
   },
   "source": [
    "p-value = 0.0776, which is close to previous permutation testing result."
   ]
  },
  {
   "cell_type": "markdown",
   "id": "78038245",
   "metadata": {
    "papermill": {
     "duration": 0.084834,
     "end_time": "2024-04-16T15:51:50.538666",
     "exception": false,
     "start_time": "2024-04-16T15:51:50.453832",
     "status": "completed"
    },
    "tags": []
   },
   "source": [
    "## 3.8 Chi-Square Test\n",
    "\n",
    "The chi-square test is used with count data to test how well it fits some expected distribution. The most common use of the chi-square statistic in statistical practice is with $r\\times c$ contingency tables, to assess whether the null hypothesis of independence among variables is reasonable.\n",
    "\n",
    "### Resampling Approach\n",
    "\n",
    "Below is the testing result on three different headlines on 1,000 visitors each."
   ]
  },
  {
   "cell_type": "code",
   "execution_count": 12,
   "id": "ce049f02",
   "metadata": {
    "execution": {
     "iopub.execute_input": "2024-04-16T15:51:50.564864Z",
     "iopub.status.busy": "2024-04-16T15:51:50.564213Z",
     "iopub.status.idle": "2024-04-16T15:51:50.576857Z",
     "shell.execute_reply": "2024-04-16T15:51:50.575738Z"
    },
    "papermill": {
     "duration": 0.028161,
     "end_time": "2024-04-16T15:51:50.578955",
     "exception": false,
     "start_time": "2024-04-16T15:51:50.550794",
     "status": "completed"
    },
    "tags": []
   },
   "outputs": [
    {
     "data": {
      "text/html": [
       "<div>\n",
       "<style scoped>\n",
       "    .dataframe tbody tr th:only-of-type {\n",
       "        vertical-align: middle;\n",
       "    }\n",
       "\n",
       "    .dataframe tbody tr th {\n",
       "        vertical-align: top;\n",
       "    }\n",
       "\n",
       "    .dataframe thead th {\n",
       "        text-align: right;\n",
       "    }\n",
       "</style>\n",
       "<table border=\"1\" class=\"dataframe\">\n",
       "  <thead>\n",
       "    <tr style=\"text-align: right;\">\n",
       "      <th>Headline</th>\n",
       "      <th>Headline A</th>\n",
       "      <th>Headline B</th>\n",
       "      <th>Headline C</th>\n",
       "    </tr>\n",
       "    <tr>\n",
       "      <th>Click</th>\n",
       "      <th></th>\n",
       "      <th></th>\n",
       "      <th></th>\n",
       "    </tr>\n",
       "  </thead>\n",
       "  <tbody>\n",
       "    <tr>\n",
       "      <th>Click</th>\n",
       "      <td>14</td>\n",
       "      <td>8</td>\n",
       "      <td>12</td>\n",
       "    </tr>\n",
       "    <tr>\n",
       "      <th>No-click</th>\n",
       "      <td>986</td>\n",
       "      <td>992</td>\n",
       "      <td>988</td>\n",
       "    </tr>\n",
       "  </tbody>\n",
       "</table>\n",
       "</div>"
      ],
      "text/plain": [
       "Headline  Headline A  Headline B  Headline C\n",
       "Click                                       \n",
       "Click             14           8          12\n",
       "No-click         986         992         988"
      ]
     },
     "execution_count": 12,
     "metadata": {},
     "output_type": "execute_result"
    }
   ],
   "source": [
    "observed = click.pivot(index='Click', columns='Headline', values='Rate')\n",
    "observed"
   ]
  },
  {
   "cell_type": "markdown",
   "id": "49d50a3e",
   "metadata": {
    "papermill": {
     "duration": 0.012103,
     "end_time": "2024-04-16T15:51:50.603189",
     "exception": false,
     "start_time": "2024-04-16T15:51:50.591086",
     "status": "completed"
    },
    "tags": []
   },
   "source": [
    "***Null hypothesis***  \n",
    "- All three headlines share the same click rate.\n",
    "- The \"expected\" click rate is 34/3,000\n",
    "\n",
    "Below table shows the expected values."
   ]
  },
  {
   "cell_type": "code",
   "execution_count": 13,
   "id": "46c32a46",
   "metadata": {
    "execution": {
     "iopub.execute_input": "2024-04-16T15:51:50.630507Z",
     "iopub.status.busy": "2024-04-16T15:51:50.629248Z",
     "iopub.status.idle": "2024-04-16T15:51:50.644064Z",
     "shell.execute_reply": "2024-04-16T15:51:50.642911Z"
    },
    "papermill": {
     "duration": 0.03073,
     "end_time": "2024-04-16T15:51:50.646361",
     "exception": false,
     "start_time": "2024-04-16T15:51:50.615631",
     "status": "completed"
    },
    "tags": []
   },
   "outputs": [
    {
     "data": {
      "text/html": [
       "<div>\n",
       "<style scoped>\n",
       "    .dataframe tbody tr th:only-of-type {\n",
       "        vertical-align: middle;\n",
       "    }\n",
       "\n",
       "    .dataframe tbody tr th {\n",
       "        vertical-align: top;\n",
       "    }\n",
       "\n",
       "    .dataframe thead th {\n",
       "        text-align: right;\n",
       "    }\n",
       "</style>\n",
       "<table border=\"1\" class=\"dataframe\">\n",
       "  <thead>\n",
       "    <tr style=\"text-align: right;\">\n",
       "      <th>Headline</th>\n",
       "      <th>Headline A</th>\n",
       "      <th>Headline B</th>\n",
       "      <th>Headline C</th>\n",
       "    </tr>\n",
       "    <tr>\n",
       "      <th>Click</th>\n",
       "      <th></th>\n",
       "      <th></th>\n",
       "      <th></th>\n",
       "    </tr>\n",
       "  </thead>\n",
       "  <tbody>\n",
       "    <tr>\n",
       "      <th>Click</th>\n",
       "      <td>11.333333</td>\n",
       "      <td>11.333333</td>\n",
       "      <td>11.333333</td>\n",
       "    </tr>\n",
       "    <tr>\n",
       "      <th>No-click</th>\n",
       "      <td>988.666667</td>\n",
       "      <td>988.666667</td>\n",
       "      <td>988.666667</td>\n",
       "    </tr>\n",
       "  </tbody>\n",
       "</table>\n",
       "</div>"
      ],
      "text/plain": [
       "Headline  Headline A  Headline B  Headline C\n",
       "Click                                       \n",
       "Click      11.333333   11.333333   11.333333\n",
       "No-click  988.666667  988.666667  988.666667"
      ]
     },
     "execution_count": 13,
     "metadata": {},
     "output_type": "execute_result"
    }
   ],
   "source": [
    "expected = observed.copy()\n",
    "expected.iloc[0, :] = [34/3] * 3\n",
    "expected.iloc[1, :] = [1000 - 34/3] *3\n",
    "expected"
   ]
  },
  {
   "cell_type": "markdown",
   "id": "4f3f6dff",
   "metadata": {
    "papermill": {
     "duration": 0.012152,
     "end_time": "2024-04-16T15:51:50.671020",
     "exception": false,
     "start_time": "2024-04-16T15:51:50.658868",
     "status": "completed"
    },
    "tags": []
   },
   "source": [
    "The *Pearson residual* is defined as:\n",
    "$$R=\\frac{\\text{Observed}-\\text{Expected}}{\\sqrt{\\text{Expected}}}$$\n",
    "\n",
    "Below table shows the Pearson residuals."
   ]
  },
  {
   "cell_type": "code",
   "execution_count": 14,
   "id": "1e17e392",
   "metadata": {
    "execution": {
     "iopub.execute_input": "2024-04-16T15:51:50.698434Z",
     "iopub.status.busy": "2024-04-16T15:51:50.697253Z",
     "iopub.status.idle": "2024-04-16T15:51:50.710030Z",
     "shell.execute_reply": "2024-04-16T15:51:50.708846Z"
    },
    "papermill": {
     "duration": 0.028787,
     "end_time": "2024-04-16T15:51:50.712319",
     "exception": false,
     "start_time": "2024-04-16T15:51:50.683532",
     "status": "completed"
    },
    "tags": []
   },
   "outputs": [
    {
     "data": {
      "text/html": [
       "<div>\n",
       "<style scoped>\n",
       "    .dataframe tbody tr th:only-of-type {\n",
       "        vertical-align: middle;\n",
       "    }\n",
       "\n",
       "    .dataframe tbody tr th {\n",
       "        vertical-align: top;\n",
       "    }\n",
       "\n",
       "    .dataframe thead th {\n",
       "        text-align: right;\n",
       "    }\n",
       "</style>\n",
       "<table border=\"1\" class=\"dataframe\">\n",
       "  <thead>\n",
       "    <tr style=\"text-align: right;\">\n",
       "      <th>Headline</th>\n",
       "      <th>Headline A</th>\n",
       "      <th>Headline B</th>\n",
       "      <th>Headline C</th>\n",
       "    </tr>\n",
       "    <tr>\n",
       "      <th>Click</th>\n",
       "      <th></th>\n",
       "      <th></th>\n",
       "      <th></th>\n",
       "    </tr>\n",
       "  </thead>\n",
       "  <tbody>\n",
       "    <tr>\n",
       "      <th>Click</th>\n",
       "      <td>0.792118</td>\n",
       "      <td>-0.990148</td>\n",
       "      <td>0.198030</td>\n",
       "    </tr>\n",
       "    <tr>\n",
       "      <th>No-click</th>\n",
       "      <td>-0.084809</td>\n",
       "      <td>0.106012</td>\n",
       "      <td>-0.021202</td>\n",
       "    </tr>\n",
       "  </tbody>\n",
       "</table>\n",
       "</div>"
      ],
      "text/plain": [
       "Headline  Headline A  Headline B  Headline C\n",
       "Click                                       \n",
       "Click       0.792118   -0.990148    0.198030\n",
       "No-click   -0.084809    0.106012   -0.021202"
      ]
     },
     "execution_count": 14,
     "metadata": {},
     "output_type": "execute_result"
    }
   ],
   "source": [
    "residuals = (observed-expected)/np.sqrt(expected)\n",
    "residuals"
   ]
  },
  {
   "cell_type": "markdown",
   "id": "6a61e971",
   "metadata": {
    "papermill": {
     "duration": 0.012493,
     "end_time": "2024-04-16T15:51:50.737373",
     "exception": false,
     "start_time": "2024-04-16T15:51:50.724880",
     "status": "completed"
    },
    "tags": []
   },
   "source": [
    "The chi-square statistic is defined as the sum of the squared Pearson residuals:\n",
    "$$X=\\sum_{i}^{r}\\sum_{j}^{c}R^2$$\n",
    "where $r$ and $c$ are the number of rows and columns, respectively."
   ]
  },
  {
   "cell_type": "code",
   "execution_count": 15,
   "id": "6f5172c5",
   "metadata": {
    "execution": {
     "iopub.execute_input": "2024-04-16T15:51:50.765244Z",
     "iopub.status.busy": "2024-04-16T15:51:50.764031Z",
     "iopub.status.idle": "2024-04-16T15:51:50.772278Z",
     "shell.execute_reply": "2024-04-16T15:51:50.770725Z"
    },
    "papermill": {
     "duration": 0.024459,
     "end_time": "2024-04-16T15:51:50.774543",
     "exception": false,
     "start_time": "2024-04-16T15:51:50.750084",
     "status": "completed"
    },
    "tags": []
   },
   "outputs": [
    {
     "name": "stdout",
     "output_type": "stream",
     "text": [
      "Chi-Square statistic = 1.666\n"
     ]
    }
   ],
   "source": [
    "print(f'Chi-Square statistic = {(residuals**2).sum().sum():.3f}')"
   ]
  },
  {
   "cell_type": "markdown",
   "id": "ff792b1f",
   "metadata": {
    "papermill": {
     "duration": 0.012413,
     "end_time": "2024-04-16T15:51:50.800742",
     "exception": false,
     "start_time": "2024-04-16T15:51:50.788329",
     "status": "completed"
    },
    "tags": []
   },
   "source": [
    "How to calculate p-value? We can test with resampling algorithm:  \n",
    "1. Constitute a box with 34 ones (clicks) and 2,966 zeros (no clicks).\n",
    "2. Shuffle, take three separate samples of 1,000, and count the clicks in each.\n",
    "3. Find the squared differences between the shuffled counts and the expected counts and sum them.\n",
    "4. Repeat steps 2 and 3, say, 1,000 times.\n",
    "5. How often does the resampled sum of squared deviations exceed the observed? That’s the p-value."
   ]
  },
  {
   "cell_type": "code",
   "execution_count": 16,
   "id": "5bbf0548",
   "metadata": {
    "execution": {
     "iopub.execute_input": "2024-04-16T15:51:50.828375Z",
     "iopub.status.busy": "2024-04-16T15:51:50.827717Z",
     "iopub.status.idle": "2024-04-16T15:51:54.367544Z",
     "shell.execute_reply": "2024-04-16T15:51:54.366280Z"
    },
    "papermill": {
     "duration": 3.557213,
     "end_time": "2024-04-16T15:51:54.370728",
     "exception": false,
     "start_time": "2024-04-16T15:51:50.813515",
     "status": "completed"
    },
    "tags": []
   },
   "outputs": [
    {
     "data": {
      "image/png": "[encoded data removed]",
      "text/plain": [
       "<Figure size 640x480 with 1 Axes>"
      ]
     },
     "metadata": {},
     "output_type": "display_data"
    },
    {
     "name": "stdout",
     "output_type": "stream",
     "text": [
      "p value = 0.4896\n"
     ]
    }
   ],
   "source": [
    "observed_chi2 = (residuals**2).sum().sum()\n",
    "\n",
    "box = np.array([True] * 34 + [False] * 2966)\n",
    "\n",
    "def perm_fun(box):\n",
    "    samples = [np.random.permutation(box)[:1000] for i in range(3)]\n",
    "    clicks = [np.sum(sample) for sample in samples]\n",
    "    noclicks = [1000 - click for click in clicks]\n",
    "    chi2 = 0\n",
    "    for click in clicks:\n",
    "        chi2 += (click - 34/3)**2/(34/3)\n",
    "    for noclick in noclicks:\n",
    "        chi2 += (noclick - 2966/3)**2/(2966/3)\n",
    "    return chi2\n",
    "\n",
    "perm_chi2 = [perm_fun(box) for i in range(10000)]\n",
    "\n",
    "# plot histgram\n",
    "sns.histplot(perm_chi2, bins=30)\n",
    "plt.axvline(observed_chi2, ls='--', color='black', \n",
    "            label='Observed_$X^2$')\n",
    "plt.xlabel('$X^2$')\n",
    "plt.legend()\n",
    "plt.show()\n",
    "\n",
    "print(f'p value = {np.mean(perm_chi2 > observed_chi2):.4f}')"
   ]
  },
  {
   "cell_type": "markdown",
   "id": "e48e58f2",
   "metadata": {
    "papermill": {
     "duration": 0.013463,
     "end_time": "2024-04-16T15:51:54.397734",
     "exception": false,
     "start_time": "2024-04-16T15:51:54.384271",
     "status": "completed"
    },
    "tags": []
   },
   "source": [
    "If alpha = 0.05, then p-value > alpha, indicating the click rates of the three different headlines are NOT statitically different.\n",
    "\n",
    "### Statistical Theory\n",
    "\n",
    "The chi-square statistic can be approximated by a *chi-square distribution*. For a contingency table, the degrees of freedom are related to the number of rows (r) and columns (c) as follows:\n",
    "$$\\text{degrees of freedom}=(r-1)\\times (c-1)$$"
   ]
  },
  {
   "cell_type": "code",
   "execution_count": 17,
   "id": "7c7b78d0",
   "metadata": {
    "execution": {
     "iopub.execute_input": "2024-04-16T15:51:54.427195Z",
     "iopub.status.busy": "2024-04-16T15:51:54.426763Z",
     "iopub.status.idle": "2024-04-16T15:51:54.434010Z",
     "shell.execute_reply": "2024-04-16T15:51:54.432813Z"
    },
    "papermill": {
     "duration": 0.024908,
     "end_time": "2024-04-16T15:51:54.436523",
     "exception": false,
     "start_time": "2024-04-16T15:51:54.411615",
     "status": "completed"
    },
    "tags": []
   },
   "outputs": [
    {
     "name": "stdout",
     "output_type": "stream",
     "text": [
      "Observed chi2: 1.6659\n",
      "p-value: 0.4348\n"
     ]
    }
   ],
   "source": [
    "chisq, pvalue, df, expected = stats.chi2_contingency(observed)\n",
    "print(f'Observed chi2: {chisq:.4f}')\n",
    "print(f'p-value: {pvalue:.4f}')"
   ]
  },
  {
   "cell_type": "markdown",
   "id": "0fc7450e",
   "metadata": {
    "papermill": {
     "duration": 0.01364,
     "end_time": "2024-04-16T15:51:54.464120",
     "exception": false,
     "start_time": "2024-04-16T15:51:54.450480",
     "status": "completed"
    },
    "tags": []
   },
   "source": [
    "The p-value is a little less than the resampling p-value; this is because the chi-square distribution is only an approximation of the actual distribution of the statistic."
   ]
  },
  {
   "cell_type": "markdown",
   "id": "ab67a180",
   "metadata": {
    "papermill": {
     "duration": 0.013146,
     "end_time": "2024-04-16T15:51:54.490965",
     "exception": false,
     "start_time": "2024-04-16T15:51:54.477819",
     "status": "completed"
    },
    "tags": []
   },
   "source": [
    "## 3.9 Multi-Arm Bandit Algorithm\n",
    "\n",
    "#### <center>Key Terms for Multi-Arm Bandits</center>\n",
    "- ***Multi-arm bandit***  \n",
    "An imaginary slot machine with multiple arms for the customer to choose from, each with different payoffs, here taken to be an analogy for a multitreatment experiment.\n",
    "- ***Arm***  \n",
    "A treatment in an experiment (e.g., “headline A in a web test”).\n",
    "- ***Win***  \n",
    "The experimental analog of a win at the slot machine (e.g., “customer clicks on the link”).\n",
    "\n",
    "<br>\n",
    "\n",
    "Epsilon-greedy algorithm for an A/B test:  \n",
    "1. Generate a uniformly distributed random number between 0 and 1.\n",
    "2. If the number lies between 0 and epsilon (where epsilon is a number between 0 and 1, typically fairly small), flip a fair coin (50/50 probability), and:  \n",
    "a. If the coin is heads, show offer A.  \n",
    "b. If the coin is tails, show offer B.  \n",
    "3. If the number is ≥ epsilon, show whichever offer has had the highest response rate to date.\n",
    "\n",
    "<br>\n",
    "\n",
    "#### <center>Key Ideas</center>\n",
    "- Traditional A/B tests envision a random sampling process, which can lead to excessive exposure to the inferior treatment.\n",
    "- Multi-arm bandits, in contrast, alter the sampling process to incorporate information learned during the experiment and reduce the frequency of the inferior treatment.\n",
    "- They also facilitate efficient treatment of more than two treatments.\n",
    "- There are different algorithms for shifting sampling probability away from the inferior treatment(s) and to the (presumed) superior one."
   ]
  },
  {
   "cell_type": "markdown",
   "id": "03773a5c",
   "metadata": {
    "papermill": {
     "duration": 0.013099,
     "end_time": "2024-04-16T15:51:54.517604",
     "exception": false,
     "start_time": "2024-04-16T15:51:54.504505",
     "status": "completed"
    },
    "tags": []
   },
   "source": [
    "## 3.10 Power and Sample Size\n",
    "\n",
    "#### <center>Key Terms for Power and Sample Size</center>\n",
    "- ***Effect size***  \n",
    "The minimum size of the effect that you hope to be able to detect in a statistical test, such as “a 20% improvement in click rates.”\n",
    "- ***Power***  \n",
    "The probability of detecting a given effect size with a given sample size.\n",
    "- ***Significance level***  \n",
    "The statistical significance level at which the test will be conducted.\n",
    "\n",
    "<br>\n",
    "\n",
    "Intuitive alternative approach to find necessary sample size:  \n",
    "1. Start with some hypothetical data that represents your best guess about the data that will result (perhaps based on prior data)—for example, a box with 20 ones and 80 zeros to represent a .200 hitter, or a box with some observations of “time spent on website.”\n",
    "2. Create a second sample simply by adding the desired effect size to the first sample—for example, a second box with 33 ones and 67 zeros, or a second box with 25 seconds added to each initial “time spent on website.”\n",
    "3. Draw a bootstrap sample of size n from each box.\n",
    "4. Conduct a permutation (or formula-based) hypothesis test on the two bootstrap samples and record whether the difference between them is statistically significant.\n",
    "5. Repeat the preceding two steps many times and determine how often the difference was significant—that’s the estimated power.\n",
    "\n",
    "<br>\n",
    "\n",
    "For calculating power or required sample size, there are four moving\n",
    "parts:  \n",
    "- Sample size\n",
    "- Effect size you want to detect\n",
    "- Significance level (alpha) at which the test will be conducted\n",
    "- Power\n",
    "\n",
    "Specify any three of them, and the fourth can be calculated."
   ]
  },
  {
   "cell_type": "markdown",
   "id": "c3d3cf62",
   "metadata": {
    "papermill": {
     "duration": 0.013086,
     "end_time": "2024-04-16T15:51:54.544104",
     "exception": false,
     "start_time": "2024-04-16T15:51:54.531018",
     "status": "completed"
    },
    "tags": []
   },
   "source": [
    "**Example**  \n",
    "- The impression rate of new ad is supposed to be 10% higher than original ad.\n",
    "    - Original ad impression rate: 1.1%\n",
    "    - New ad imporession rate (supposed): 1.21%\n",
    "- Find the sample size of a test with power of 80% and significance level 0.05."
   ]
  },
  {
   "cell_type": "code",
   "execution_count": 18,
   "id": "9ec6621f",
   "metadata": {
    "execution": {
     "iopub.execute_input": "2024-04-16T15:51:54.573130Z",
     "iopub.status.busy": "2024-04-16T15:51:54.572483Z",
     "iopub.status.idle": "2024-04-16T15:51:54.583722Z",
     "shell.execute_reply": "2024-04-16T15:51:54.582236Z"
    },
    "papermill": {
     "duration": 0.028564,
     "end_time": "2024-04-16T15:51:54.586076",
     "exception": false,
     "start_time": "2024-04-16T15:51:54.557512",
     "status": "completed"
    },
    "tags": []
   },
   "outputs": [
    {
     "name": "stdout",
     "output_type": "stream",
     "text": [
      "Sample size: 116602.393\n"
     ]
    }
   ],
   "source": [
    "effect_size = sm.stats.proportion_effectsize(0.0121, 0.011)\n",
    "analysis = sm.stats.TTestIndPower()\n",
    "result = analysis.solve_power(\n",
    "    effect_size = effect_size,\n",
    "    alpha = 0.05,\n",
    "    power = 0.8,\n",
    "    alternative = 'larger'\n",
    ")\n",
    "print(f'Sample size: {result:.3f}')"
   ]
  }
 ],
 "metadata": {
  "kaggle": {
   "accelerator": "none",
   "dataSources": [
    {
     "datasetId": 4664006,
     "sourceId": 7934344,
     "sourceType": "datasetVersion"
    }
   ],
   "dockerImageVersionId": 30684,
   "isGpuEnabled": false,
   "isInternetEnabled": true,
   "language": "python",
   "sourceType": "notebook"
  },
  "kernelspec": {
   "display_name": "Python 3",
   "language": "python",
   "name": "python3"
  },
  "language_info": {
   "codemirror_mode": {
    "name": "ipython",
    "version": 3
   },
   "file_extension": ".py",
   "mimetype": "text/x-python",
   "name": "python",
   "nbconvert_exporter": "python",
   "pygments_lexer": "ipython3",
   "version": "3.10.13"
  },
  "papermill": {
   "default_parameters": {},
   "duration": 42.425156,
   "end_time": "2024-04-16T15:51:55.320521",
   "environment_variables": {},
   "exception": null,
   "input_path": "__notebook__.ipynb",
   "output_path": "__notebook__.ipynb",
   "parameters": {},
   "start_time": "2024-04-16T15:51:12.895365",
   "version": "2.5.0"
  }
 },
 "nbformat": 4,
 "nbformat_minor": 5
}
