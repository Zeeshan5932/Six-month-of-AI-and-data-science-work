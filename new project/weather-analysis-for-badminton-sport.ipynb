{
 "cells": [
  {
   "cell_type": "markdown",
   "id": "77c45bf0",
   "metadata": {
    "papermill": {
     "duration": 0.020855,
     "end_time": "2024-05-23T17:08:13.003329",
     "exception": false,
     "start_time": "2024-05-23T17:08:12.982474",
     "status": "completed"
    },
    "tags": []
   },
   "source": [
    "<div style=\"width: 95%; height: 95%; display: flex; justify-content: center; align-items: center;\">\n",
    "    <img src=\"https://github.com/FahadUrRehman07/Badminton-Game-Analysis/blob/main/Animated%20Images/1a78.gif?raw=true\" style=\"margin: auto;\">\n",
    "</div>\n"
   ]
  },
  {
   "cell_type": "markdown",
   "id": "24b09842",
   "metadata": {
    "papermill": {
     "duration": 0.021051,
     "end_time": "2024-05-23T17:08:13.044718",
     "exception": false,
     "start_time": "2024-05-23T17:08:13.023667",
     "status": "completed"
    },
    "tags": []
   },
   "source": [
    "<center>\n",
    "<div style=\" border-top: 5px solid #ff758c; border-bottom: 5px dashed #ff758c; border-left: 5px double #ff758c; border-right: 5px dotted #ff758c; color: #19a01a; border-radius: 10px; margin: 5px; padding: 5px; width: 95%; font-family: 'Amiri', serif;\">\n",
    "    <h1 style=\"width: 90%; text-align: center; padding: 15px 30px; font-size: 22px; font-weight: bold; color: #000; border-radius: 25px; background:#f68084; background-size: 200%; position: relative; overflow: hidden; display: inline-block; width: 90%; vertical-align: middle;\">✧ ✧ WEATHER ANALYSIS FOR BADMINTON SPORT✧ ✧\n",
    "    </h1>\n",
    "</div>\n",
    "</center>\n"
   ]
  },
  {
   "cell_type": "markdown",
   "id": "4d81980f",
   "metadata": {
    "papermill": {
     "duration": 0.019869,
     "end_time": "2024-05-23T17:08:13.084678",
     "exception": false,
     "start_time": "2024-05-23T17:08:13.064809",
     "status": "completed"
    },
    "tags": []
   },
   "source": [
    "<div style=\"background-color:#2c3e50; padding:20px; border-radius:10px; color:white; font-family:Arial, sans-serif; width: 94%\">\n",
    "    <h1 style=\"color:white; font-size:25px;\">Author Name: Fahad Ur Rehman</h1>\n",
    "    <p style=\"color:yellow;\"><b>Email:</b> fahadrehmann07@gmail.com</p>\n",
    "    <p style=\"color:yellow;\"><b></b> <a href=\"https://github.com/FahadUrRehman07\" style=\"color:yellow;\">My GitHub Profile</a></p>\n",
    "    <p style=\"color:yellow;\"><b></b> <a href=\"https://www.linkedin.com/in/fahad-rehman-datascience/\" style=\"color:yellow;\">My linkdin Profile</a></p>\n",
    "</div>\n"
   ]
  },
  {
   "cell_type": "markdown",
   "id": "641a7a4f",
   "metadata": {
    "papermill": {
     "duration": 0.020237,
     "end_time": "2024-05-23T17:08:13.124961",
     "exception": false,
     "start_time": "2024-05-23T17:08:13.104724",
     "status": "completed"
    },
    "tags": []
   },
   "source": [
    "<center>\n",
    "<div style=\" border-top: 5px solid #ff758c; border-bottom: 5px dashed #ff758c; border-left: 5px double #ff758c; border-right: 5px dotted #ff758c; color: #19a01a; border-radius: 10px; margin: 5px; padding: 5px; width: 95%; font-family: 'Amiri', serif;\">\n",
    "    <h1 style=\"width: 90%; text-align: center; padding: 15px 30px; font-size: 22px; font-weight: bold; color: #000; border-radius: 25px; background: #f68084; background-size: 200%; position: relative; overflow: hidden; display: inline-block; width: 90%; vertical-align: middle;\">✧ ✧ About Data ✧ ✧\n",
    "    </h1>\n",
    "</div>\n",
    "</center>\n"
   ]
  },
  {
   "cell_type": "markdown",
   "id": "06147bb1",
   "metadata": {
    "papermill": {
     "duration": 0.019828,
     "end_time": "2024-05-23T17:08:13.164833",
     "exception": false,
     "start_time": "2024-05-23T17:08:13.145005",
     "status": "completed"
    },
    "tags": []
   },
   "source": [
    "This synthetic dataset contains information on the playability of badminton under different weather conditions. It includes features such as outlook (Sunny, Overcast, Rain), temperature (Hot, Mild, Cool), humidity (High, Normal), and wind (Weak, Strong). The target variable indicates whether badminton can be played ('Yes') or not ('No') based on these weather conditions. This dataset can be used for training machine learning models to predict the suitability of playing badminton given specific weather conditions.\n",
    "\n",
    "> ### [DATASET LINK](https://www.kaggle.com/datasets/aditya0kumar0tiwari/play-badminton)\n",
    "\n",
    "<h4 style = \"color:orange\">Columns in Dataset:</h4>\n",
    "\n",
    "1. `**OUTLOOK**` _Weather Outlook_\n",
    "2. `**TEMPERATURE**` _Weather Temprature_\n",
    "3. `**HUMIDITY**` _Weather Humidity_\n",
    "4. `**WIND**` _Weather Wind_\n",
    "5. `**PLAY_BADMINTON**` _Can play badminton in this weather or not._\n",
    "\n",
    "<a id='top'></a>\n",
    "\n",
    "<div class=\"list-group\" id=\"list-tab\" role=\"tablist\">\n",
    "<p style=\"background-color:#20B2AA; font-family:Arial, sans-serif; color:#FFFFFF; font-size:150%; text-align:center; padding:8px; border:2px solid #FFFFFF; width: 65%; border-top-right-radius: 60px; border-bottom-left-radius: 60px;\">\n",
    "    Life Cycle Of Machine Learning Project\n",
    "</p>\n",
    "\n",
    "   <ul style=\"font-size: 18px; font-family: 'Segoe UI';\">\n",
    "        <li><strong>Understanding the Problem Statement</strong></li>\n",
    "        <li><strong>Data Checks to Perform</strong></li>\n",
    "        <li><strong>Exploratory Data Analysis</strong></li>\n",
    "        <li><strong>Data Pre-Processing</strong></li>\n",
    "        <li><strong>Model Training</strong></li>\n",
    "        <li><strong>Choose Best Model</strong></li>\n",
    "        <li><strong>Model Evaluation</strong></li>\n",
    "    </ul>\n",
    "</div>\n"
   ]
  },
  {
   "cell_type": "markdown",
   "id": "44e75893",
   "metadata": {
    "papermill": {
     "duration": 0.019945,
     "end_time": "2024-05-23T17:08:13.204890",
     "exception": false,
     "start_time": "2024-05-23T17:08:13.184945",
     "status": "completed"
    },
    "tags": []
   },
   "source": [
    "<center>\n",
    "<div style=\"border-top: 5px solid #ff758c; border-bottom: 5px dashed #ff758c; border-left: 5px double #ff758c; border-right: 5px dotted #ff758c; color: #19a01a; border-radius: 10px; margin: 5px; padding: 20px; width: 95%; font-family: 'Georgia', serif; background: #E1AFD1;\">\n",
    "    <h1 style=\"text-align: center; padding: 15px 30px; font-size: 23px; font-weight: bold; color: #000; border-radius: 25px; background: #f68084; background-size: 200%; position: relative; overflow: hidden; display: inline-block; width: 90%; vertical-align: middle; margin-bottom: 20px;\">✧ ✧ Problem Statement ✧ ✧</h1>\n",
    "    <p style=\"font-size: 16px; color: #333; text-align: justify; line-height: 1.6;\">\n",
    "        In the past few years, people have loved to play badminton and badminton was the passion of the majority of people in the community, but somehow players of badminton have shown low interest in the game and are not playing badminton as that was their favorite sport for the players. Therefore, it is very necessary that we analyze the reasons that are the obstacles to players’ passion which are making them not play badminton sport, and to prevent badminton sport from vanishing as it is slowly dying in the community.\n",
    "    </p>\n",
    "</div>\n",
    "</center>\n"
   ]
  },
  {
   "cell_type": "markdown",
   "id": "30b8ae18",
   "metadata": {
    "papermill": {
     "duration": 0.019989,
     "end_time": "2024-05-23T17:08:13.245691",
     "exception": false,
     "start_time": "2024-05-23T17:08:13.225702",
     "status": "completed"
    },
    "tags": []
   },
   "source": [
    "<center><div style=\"background-color: #e8f8f5;width:90%; border-radius: 15px; padding: 20px; color: #4cbb17; text-align: center; font-family: Arial, sans-serif; font-size: 25px;\">\n",
    "    <p style=\"margin: 0;\">🥰🥰 Welcome to my Notebook! Enjoy the analysis! ✌️✌️✌️</p>\n",
    "\n",
    "<div style=\"background-color: #fff9e6; width:90%; border: 4px dashed #ffc014; border-radius: 15px; padding: 20px; color: #ff7f0e; text-align: center; font-family: Arial, sans-serif; font-size: 25px;\">\n",
    "    <p style=\"margin: 0;\"><b>🥰🥰 If you enjoyed this analysis, an Upvote would be the cherry on top! 🍒👍</b></p>\n",
    "    </div></center>\n"
   ]
  },
  {
   "cell_type": "markdown",
   "id": "d702e96a",
   "metadata": {
    "papermill": {
     "duration": 0.020326,
     "end_time": "2024-05-23T17:08:13.286071",
     "exception": false,
     "start_time": "2024-05-23T17:08:13.265745",
     "status": "completed"
    },
    "tags": []
   },
   "source": [
    "<center>\n",
    "<div style=\" border-top: 5px solid #ff758c; border-bottom: 5px dashed #ff758c; border-left: 5px double #ff758c; border-right: 5px dotted #ff758c; color: #19a01a; border-radius: 10px; margin: 5px; padding: 5px; width: 95%; font-family: 'Amiri', serif;\">\n",
    "    <h1 style=\"width: 90%; text-align: center; padding: 15px 30px; font-size: 23px; font-weight: bold; color: #000; border-radius: 25px; background:#f68084; background-size: 200%; position: relative; overflow: hidden; display: inline-block; width: 90%; vertical-align: middle;\">✧ ✧ Getting Started ✧ ✧\n",
    "    </h1>\n",
    "</div>\n",
    "</center>\n",
    "\n"
   ]
  },
  {
   "cell_type": "markdown",
   "id": "9114ad0c",
   "metadata": {
    "papermill": {
     "duration": 0.019784,
     "end_time": "2024-05-23T17:08:13.326032",
     "exception": false,
     "start_time": "2024-05-23T17:08:13.306248",
     "status": "completed"
    },
    "tags": []
   },
   "source": [
    "# <p  style= \"font-size: 40px;\">📚💡<span style=\"color: #ffffff;\">I</span><span style=\"color: #f9f9f9;\">M</span><span style=\"color: #ececec; font-weight: 900;\">P</span><span style=\"color: #dfdfdf;\">O</span><span style=\"color: #d2d2d2;\">R</span><span style=\"color: #c5c5c5;\">T</span><span style=\"color: #b8b8b8;\">I</span><span style=\"color: #ababab;\">N</span><span style=\"color: #9e9e9e;\">G</span> <span style=\"color: #848484;\">L</span><span style=\"color: #777777;\">I</span><span style=\"color: #6a6a6a; font-weight: 900;\">B</span><span style=\"color: #5d5d5d;\">R</span><span style=\"color: #505050;\">A</span><span style=\"color: #434343;\">R</span><span style=\"color: #363636;\">I</span><span style=\"color: #292929;\">E</span><span style=\"color: #1c1c1c;\">S</span>📚\n",
    "</p>\n"
   ]
  },
  {
   "cell_type": "code",
   "execution_count": 1,
   "id": "a0919e68",
   "metadata": {
    "execution": {
     "iopub.execute_input": "2024-05-23T17:08:13.368010Z",
     "iopub.status.busy": "2024-05-23T17:08:13.367655Z",
     "iopub.status.idle": "2024-05-23T17:08:15.502140Z",
     "shell.execute_reply": "2024-05-23T17:08:15.501335Z"
    },
    "papermill": {
     "duration": 2.158348,
     "end_time": "2024-05-23T17:08:15.504527",
     "exception": false,
     "start_time": "2024-05-23T17:08:13.346179",
     "status": "completed"
    },
    "tags": []
   },
   "outputs": [],
   "source": [
    "import pandas as pd\n",
    "import numpy as np\n",
    "\n",
    "import matplotlib.pyplot as plt # for visualization\n",
    "import seaborn as sns # for Visualization\n",
    "\n",
    "from itertools import combinations # For visualization columns combination.\n",
    "\n",
    "# For Chi Square test\n",
    "from scipy.stats import chi2_contingency\n",
    "\n",
    "# For spliting the dataset into Training and testing.\n",
    "from sklearn.model_selection import train_test_split\n",
    "\n",
    "# Naive Bayes ALgorithm\n",
    "from sklearn.naive_bayes import BernoulliNB\n",
    "\n",
    "# For Model Evaluation\n",
    "from sklearn.metrics import accuracy_score, precision_score, recall_score, f1_score, confusion_matrix\n",
    "\n",
    "from warnings import filterwarnings\n",
    "filterwarnings('ignore')\n"
   ]
  },
  {
   "cell_type": "markdown",
   "id": "7117daf0",
   "metadata": {
    "papermill": {
     "duration": 0.019993,
     "end_time": "2024-05-23T17:08:15.546032",
     "exception": false,
     "start_time": "2024-05-23T17:08:15.526039",
     "status": "completed"
    },
    "tags": []
   },
   "source": [
    "# <p  style= \"font-size: 40px;\">💾<span style=\"color: Orange;\">1. </span><span style=\"color: #ffffff;\">L</span><span style=\"color: #f9f9f9;\">O</span><span style=\"color: #ececec; font-weight: 900;\">A</span><span style=\"color: #dfdfdf;\">D</span><span style=\"color: #d2d2d2;\">I</span><span style=\"color: #c5c5c5;\">N</span><span style=\"color: #b8b8b8;\">G</span>  <span style=\"color: #ababab;\">D</span><span style=\"color: #9e9e9e;\">A</span><span style=\"color: #919191;\">T</span><span style=\"color: #848484;\">A</span><span style=\"color: #777777;\">S</span><span style=\"color: #6a6a6a; font-weight: 900;\">E</span><span style=\"color: #5d5d5d;\">T</span>💾\n",
    "</p>\n"
   ]
  },
  {
   "cell_type": "code",
   "execution_count": 2,
   "id": "48387f07",
   "metadata": {
    "execution": {
     "iopub.execute_input": "2024-05-23T17:08:15.587627Z",
     "iopub.status.busy": "2024-05-23T17:08:15.587163Z",
     "iopub.status.idle": "2024-05-23T17:08:15.606800Z",
     "shell.execute_reply": "2024-05-23T17:08:15.605886Z"
    },
    "papermill": {
     "duration": 0.042642,
     "end_time": "2024-05-23T17:08:15.608780",
     "exception": false,
     "start_time": "2024-05-23T17:08:15.566138",
     "status": "completed"
    },
    "tags": []
   },
   "outputs": [],
   "source": [
    "df = pd.read_csv(\"/kaggle/input/play-badminton/badminton_dataset.csv\")"
   ]
  },
  {
   "cell_type": "markdown",
   "id": "6dd69c85",
   "metadata": {
    "papermill": {
     "duration": 0.020123,
     "end_time": "2024-05-23T17:08:15.649821",
     "exception": false,
     "start_time": "2024-05-23T17:08:15.629698",
     "status": "completed"
    },
    "tags": []
   },
   "source": [
    "#  <p  style= \"font-size: 45px;\"> 📉<span style=\"color: #ffffff;\">T</span><span style=\"color: #f9f9f9;\">a</span><span style=\"color: #ececec; font-weight: 900;\">s</span><span style=\"color: #dfdfdf;\">k</span><span style=\"color: #d2d2d2;\">2</span>: <span style=\"color: #c5c5c5;\">E</span><span style=\"color: #b8b8b8;\">x</span><span style=\"color: #ababab;\">p</span><span style=\"color: #9e9e9e;\">l</span><span style=\"color: #919191;\">o</span><span style=\"color: #848484;\">r</span><span style=\"color: #777777;\">a</span><span style=\"color: #6a6a6a; font-weight: 900;\">t</span><span style=\"color: #5d5d5d;\">o</span><span style=\"color: #505050;\">r</span><span style=\"color: #434343;\">y</span> <span style=\"color: #363636;\">D</span><span style=\"color: #292929;\">a</span><span style=\"color: #1c1c1c;\">t</span><span style=\"color: #0f0f0f;\">a</span><span style=\"color: #ffffff;\">A</span><span style=\"color: #f9f9f9;\">n</span><span style=\"color: #ececec; font-weight: 900;\">a</span><span style=\"color: #dfdfdf;\">l</span><span style=\"color: #d2d2d2;\">y</span><span style=\"color: #c5c5c5;\">s</span><span style=\"color: #b8b8b8; font-weight: 900;\">i</span><span style=\"color: #ababab; font-weight: 900;\">s</span>📈\n",
    "</p>\n"
   ]
  },
  {
   "cell_type": "markdown",
   "id": "93056d81",
   "metadata": {
    "papermill": {
     "duration": 0.019909,
     "end_time": "2024-05-23T17:08:15.689761",
     "exception": false,
     "start_time": "2024-05-23T17:08:15.669852",
     "status": "completed"
    },
    "tags": []
   },
   "source": [
    "<div class=\"list-group\" id=\"list-tab\" role=\"tablist\">\n",
    "<p style=\"background-color:#20B2AA; font-family:Arial, sans-serif; color:#FFFFFF; font-size:150%; text-align:center; padding:8px; border:2px solid #FFFFFF; width: 55%; border-top-right-radius: 60px; border-bottom-left-radius: 60px;\">\n",
    "2.1: Displaying few rows of database\n",
    "</p>\n"
   ]
  },
  {
   "cell_type": "code",
   "execution_count": 3,
   "id": "528480f2",
   "metadata": {
    "execution": {
     "iopub.execute_input": "2024-05-23T17:08:15.732679Z",
     "iopub.status.busy": "2024-05-23T17:08:15.731865Z",
     "iopub.status.idle": "2024-05-23T17:08:15.751399Z",
     "shell.execute_reply": "2024-05-23T17:08:15.750550Z"
    },
    "papermill": {
     "duration": 0.042698,
     "end_time": "2024-05-23T17:08:15.753399",
     "exception": false,
     "start_time": "2024-05-23T17:08:15.710701",
     "status": "completed"
    },
    "tags": []
   },
   "outputs": [
    {
     "data": {
      "text/html": [
       "<div>\n",
       "<style scoped>\n",
       "    .dataframe tbody tr th:only-of-type {\n",
       "        vertical-align: middle;\n",
       "    }\n",
       "\n",
       "    .dataframe tbody tr th {\n",
       "        vertical-align: top;\n",
       "    }\n",
       "\n",
       "    .dataframe thead th {\n",
       "        text-align: right;\n",
       "    }\n",
       "</style>\n",
       "<table border=\"1\" class=\"dataframe\">\n",
       "  <thead>\n",
       "    <tr style=\"text-align: right;\">\n",
       "      <th></th>\n",
       "      <th>Outlook</th>\n",
       "      <th>Temperature</th>\n",
       "      <th>Humidity</th>\n",
       "      <th>Wind</th>\n",
       "      <th>Play_Badminton</th>\n",
       "    </tr>\n",
       "  </thead>\n",
       "  <tbody>\n",
       "    <tr>\n",
       "      <th>0</th>\n",
       "      <td>Overcast</td>\n",
       "      <td>Cool</td>\n",
       "      <td>High</td>\n",
       "      <td>Weak</td>\n",
       "      <td>Yes</td>\n",
       "    </tr>\n",
       "    <tr>\n",
       "      <th>1</th>\n",
       "      <td>Sunny</td>\n",
       "      <td>Mild</td>\n",
       "      <td>Normal</td>\n",
       "      <td>Strong</td>\n",
       "      <td>No</td>\n",
       "    </tr>\n",
       "    <tr>\n",
       "      <th>2</th>\n",
       "      <td>Rain</td>\n",
       "      <td>Mild</td>\n",
       "      <td>Normal</td>\n",
       "      <td>Strong</td>\n",
       "      <td>No</td>\n",
       "    </tr>\n",
       "    <tr>\n",
       "      <th>3</th>\n",
       "      <td>Sunny</td>\n",
       "      <td>Cool</td>\n",
       "      <td>High</td>\n",
       "      <td>Weak</td>\n",
       "      <td>Yes</td>\n",
       "    </tr>\n",
       "    <tr>\n",
       "      <th>4</th>\n",
       "      <td>Sunny</td>\n",
       "      <td>Cool</td>\n",
       "      <td>High</td>\n",
       "      <td>Strong</td>\n",
       "      <td>No</td>\n",
       "    </tr>\n",
       "    <tr>\n",
       "      <th>5</th>\n",
       "      <td>Sunny</td>\n",
       "      <td>Mild</td>\n",
       "      <td>High</td>\n",
       "      <td>Strong</td>\n",
       "      <td>No</td>\n",
       "    </tr>\n",
       "    <tr>\n",
       "      <th>6</th>\n",
       "      <td>Rain</td>\n",
       "      <td>Cool</td>\n",
       "      <td>Normal</td>\n",
       "      <td>Strong</td>\n",
       "      <td>No</td>\n",
       "    </tr>\n",
       "  </tbody>\n",
       "</table>\n",
       "</div>"
      ],
      "text/plain": [
       "    Outlook Temperature Humidity    Wind Play_Badminton\n",
       "0  Overcast        Cool     High    Weak            Yes\n",
       "1     Sunny        Mild   Normal  Strong             No\n",
       "2      Rain        Mild   Normal  Strong             No\n",
       "3     Sunny        Cool     High    Weak            Yes\n",
       "4     Sunny        Cool     High  Strong             No\n",
       "5     Sunny        Mild     High  Strong             No\n",
       "6      Rain        Cool   Normal  Strong             No"
      ]
     },
     "execution_count": 3,
     "metadata": {},
     "output_type": "execute_result"
    }
   ],
   "source": [
    "df.head(7)"
   ]
  },
  {
   "cell_type": "markdown",
   "id": "adbd5545",
   "metadata": {
    "papermill": {
     "duration": 0.020102,
     "end_time": "2024-05-23T17:08:15.794355",
     "exception": false,
     "start_time": "2024-05-23T17:08:15.774253",
     "status": "completed"
    },
    "tags": []
   },
   "source": [
    "<div class=\"list-group\" id=\"list-tab\" role=\"tablist\">\n",
    "<p style=\"background-color:#20B2AA; font-family:Arial, sans-serif; color:#FFFFFF; font-size:150%; text-align:center; padding:8px; border:2px solid #FFFFFF; width: 55%; border-top-right-radius: 60px; border-bottom-left-radius: 60px;\">\n",
    "    2.2: Columns in Dataset\n",
    "</p>\n"
   ]
  },
  {
   "cell_type": "code",
   "execution_count": 4,
   "id": "c6acb9a7",
   "metadata": {
    "execution": {
     "iopub.execute_input": "2024-05-23T17:08:15.836474Z",
     "iopub.status.busy": "2024-05-23T17:08:15.835891Z",
     "iopub.status.idle": "2024-05-23T17:08:15.841627Z",
     "shell.execute_reply": "2024-05-23T17:08:15.840785Z"
    },
    "papermill": {
     "duration": 0.028669,
     "end_time": "2024-05-23T17:08:15.843482",
     "exception": false,
     "start_time": "2024-05-23T17:08:15.814813",
     "status": "completed"
    },
    "tags": []
   },
   "outputs": [
    {
     "data": {
      "text/plain": [
       "Index(['Outlook', 'Temperature', 'Humidity', 'Wind', 'Play_Badminton'], dtype='object')"
      ]
     },
     "execution_count": 4,
     "metadata": {},
     "output_type": "execute_result"
    }
   ],
   "source": [
    "df.columns"
   ]
  },
  {
   "cell_type": "markdown",
   "id": "2463c0c6",
   "metadata": {
    "papermill": {
     "duration": 0.020368,
     "end_time": "2024-05-23T17:08:15.924731",
     "exception": false,
     "start_time": "2024-05-23T17:08:15.904363",
     "status": "completed"
    },
    "tags": []
   },
   "source": [
    "<div class=\"list-group\" id=\"list-tab\" role=\"tablist\">\n",
    "<p style=\"background-color:#20B2AA; font-family:Arial, sans-serif; color:#FFFFFF; font-size:150%; text-align:center; padding:8px; border:2px solid #FFFFFF; width: 70%; border-top-right-radius: 60px; border-bottom-left-radius: 60px;\">\n",
    "    2.3: what types of data do they contain (e.g., numerical, categorical)?\n",
    "</p>\n"
   ]
  },
  {
   "cell_type": "code",
   "execution_count": 5,
   "id": "48c2b2dd",
   "metadata": {
    "execution": {
     "iopub.execute_input": "2024-05-23T17:08:15.967501Z",
     "iopub.status.busy": "2024-05-23T17:08:15.966696Z",
     "iopub.status.idle": "2024-05-23T17:08:15.973776Z",
     "shell.execute_reply": "2024-05-23T17:08:15.972862Z"
    },
    "papermill": {
     "duration": 0.030567,
     "end_time": "2024-05-23T17:08:15.975813",
     "exception": false,
     "start_time": "2024-05-23T17:08:15.945246",
     "status": "completed"
    },
    "tags": []
   },
   "outputs": [
    {
     "data": {
      "text/plain": [
       "Outlook           object\n",
       "Temperature       object\n",
       "Humidity          object\n",
       "Wind              object\n",
       "Play_Badminton    object\n",
       "dtype: object"
      ]
     },
     "execution_count": 5,
     "metadata": {},
     "output_type": "execute_result"
    }
   ],
   "source": [
    "df.dtypes"
   ]
  },
  {
   "cell_type": "markdown",
   "id": "cbbb25fd",
   "metadata": {
    "papermill": {
     "duration": 0.020404,
     "end_time": "2024-05-23T17:08:16.016924",
     "exception": false,
     "start_time": "2024-05-23T17:08:15.996520",
     "status": "completed"
    },
    "tags": []
   },
   "source": [
    "> ### Is the dataset has the five columns and their datatype is object so the types of data that dataset contains are all categorical columns.\n"
   ]
  },
  {
   "cell_type": "markdown",
   "id": "3964defc",
   "metadata": {
    "papermill": {
     "duration": 0.020248,
     "end_time": "2024-05-23T17:08:16.057741",
     "exception": false,
     "start_time": "2024-05-23T17:08:16.037493",
     "status": "completed"
    },
    "tags": []
   },
   "source": [
    "<div class=\"list-group\" id=\"list-tab\" role=\"tablist\">\n",
    "<p style=\"background-color:#20B2AA; font-family:Arial, sans-serif; color:#FFFFFF; font-size:150%; text-align:center; padding:8px; border:2px solid #FFFFFF; width: 55%; border-top-right-radius: 60px; border-bottom-left-radius: 60px;\">\n",
    "    2.4 Summary Statistics of the dataset.\n",
    "</p>\n",
    "\n",
    "Provide a summary of the dataset, including the number of rows, columns, and basic statistics (mean, median, standard deviation, etc.) for numerical columns.\n",
    "\n",
    "This task can be achive by a simple method of pandas dataframe which is .describe but we have include the object datatype parameter or whatever it is because our dataset has categorical columns\n"
   ]
  },
  {
   "cell_type": "code",
   "execution_count": 6,
   "id": "10339388",
   "metadata": {
    "execution": {
     "iopub.execute_input": "2024-05-23T17:08:16.100387Z",
     "iopub.status.busy": "2024-05-23T17:08:16.099741Z",
     "iopub.status.idle": "2024-05-23T17:08:16.121345Z",
     "shell.execute_reply": "2024-05-23T17:08:16.120352Z"
    },
    "papermill": {
     "duration": 0.045087,
     "end_time": "2024-05-23T17:08:16.123355",
     "exception": false,
     "start_time": "2024-05-23T17:08:16.078268",
     "status": "completed"
    },
    "tags": []
   },
   "outputs": [
    {
     "name": "stdout",
     "output_type": "stream",
     "text": [
      "Number of rows: 36\n",
      "Number of columns: 5\n",
      "         Outlook Temperature Humidity  Wind Play_Badminton\n",
      "count         36          36       36    36             36\n",
      "unique         3           3        2     2              2\n",
      "top     Overcast        Cool     High  Weak             No\n",
      "freq          12          12       18    18             24\n"
     ]
    }
   ],
   "source": [
    "# Getting the number of rows and columns\n",
    "num_rows, num_columns = df.shape\n",
    "print(f'Number of rows: {num_rows}')\n",
    "print(f'Number of columns: {num_columns}')\n",
    "\n",
    "''' As the dataset has the categorical columns so let include the object datatype for summary statistic'''\n",
    "summary = df.describe(include='object')\n",
    "print(summary)\n"
   ]
  },
  {
   "cell_type": "markdown",
   "id": "50c4f2d6",
   "metadata": {
    "papermill": {
     "duration": 0.020448,
     "end_time": "2024-05-23T17:08:16.164774",
     "exception": false,
     "start_time": "2024-05-23T17:08:16.144326",
     "status": "completed"
    },
    "tags": []
   },
   "source": [
    "<div style=\"font-size: 25px; font-family: 'Roboto', sans-serif; background-color: #d5e8f9; padding: 10px; border-radius: 10px; border: 5px solid #3498db; width: 45%\">\n",
    "    <span style=\"color: #9b59b6; font-weight: 900; border: 3px solid grey;  border-radius:10px;\">I</span>\n",
    "    <span style=\"color: #e74c3c; font-weight: 900;\">n</span>\n",
    "    <span style=\"color: #1abc9c; font-weight: 900;\">s</span>\n",
    "    <span style=\"color: #8e44ad; font-weight: 900;\">i</span>\n",
    "    <span style=\"color: #f39c12; font-weight: 900;\">g</span>\n",
    "    <span style=\"color: #2ecc71; font-weight: 900;\">h</span>\n",
    "    <span style=\"color: #f1c40f; font-weight: 900;\">t</span>\n",
    "    <span style=\"color: #e67e22; font-weight: 900;\">s</span>\n",
    "</div>\n",
    "\n",
    "> The data has info about the weather and if people can play badminton. The dataset comprises 36 rows and 5 columns. The above output shows details include things like outlook (like sunny or rainy), temperature (like hot or cold), humidity (how damp it is), and wind strength. Most days are cloudy, the temperature is usually cool, and it's often humid. Weak winds are common. People usually don't play badminton, with 24 \"No\" and 12 \"Yes\" answers.\n",
    "\n",
    "> Notably, badminton is rarely played, with 24 occurrences of \"No\" compared to 12 \"Yes\" instances.\n"
   ]
  },
  {
   "cell_type": "markdown",
   "id": "a6f0abc2",
   "metadata": {
    "papermill": {
     "duration": 0.020414,
     "end_time": "2024-05-23T17:08:16.205887",
     "exception": false,
     "start_time": "2024-05-23T17:08:16.185473",
     "status": "completed"
    },
    "tags": []
   },
   "source": [
    "<div class=\"list-group\" id=\"list-tab\" role=\"tablist\">\n",
    "<p style=\"background-color:#20B2AA; font-family:Arial, sans-serif; color:#FFFFFF; font-size:150%; text-align:center; padding:8px; border:2px solid #FFFFFF; width: 55%; border-top-right-radius: 60px; border-bottom-left-radius: 60px;\">\n",
    "    2.5 Distribution of the categorical variables\n",
    "</p>\n",
    "\n",
    "> ### `Let's delve  deeper into the distribution of each categorical variable, by using the value_counts method:`\n"
   ]
  },
  {
   "cell_type": "code",
   "execution_count": 7,
   "id": "a3ffb062",
   "metadata": {
    "execution": {
     "iopub.execute_input": "2024-05-23T17:08:16.250911Z",
     "iopub.status.busy": "2024-05-23T17:08:16.250085Z",
     "iopub.status.idle": "2024-05-23T17:08:16.261167Z",
     "shell.execute_reply": "2024-05-23T17:08:16.260035Z"
    },
    "papermill": {
     "duration": 0.036541,
     "end_time": "2024-05-23T17:08:16.263377",
     "exception": false,
     "start_time": "2024-05-23T17:08:16.226836",
     "status": "completed"
    },
    "tags": []
   },
   "outputs": [
    {
     "name": "stdout",
     "output_type": "stream",
     "text": [
      "\n",
      "Value counts for Outlook:\n",
      "Outlook\n",
      "Overcast    12\n",
      "Sunny       12\n",
      "Rain        12\n",
      "Name: count, dtype: int64\n",
      "\n",
      "Value counts for Temperature:\n",
      "Temperature\n",
      "Cool    12\n",
      "Mild    12\n",
      "Hot     12\n",
      "Name: count, dtype: int64\n",
      "\n",
      "Value counts for Humidity:\n",
      "Humidity\n",
      "High      18\n",
      "Normal    18\n",
      "Name: count, dtype: int64\n",
      "\n",
      "Value counts for Wind:\n",
      "Wind\n",
      "Weak      18\n",
      "Strong    18\n",
      "Name: count, dtype: int64\n",
      "\n",
      "Value counts for Play_Badminton:\n",
      "Play_Badminton\n",
      "No     24\n",
      "Yes    12\n",
      "Name: count, dtype: int64\n"
     ]
    }
   ],
   "source": [
    "for column in df.select_dtypes(include=['object']).columns:\n",
    "    print(f'\\nValue counts for {column}:')\n",
    "    print(df[column].value_counts())\n"
   ]
  },
  {
   "cell_type": "markdown",
   "id": "c0ce85bf",
   "metadata": {
    "papermill": {
     "duration": 0.022045,
     "end_time": "2024-05-23T17:08:16.308426",
     "exception": false,
     "start_time": "2024-05-23T17:08:16.286381",
     "status": "completed"
    },
    "tags": []
   },
   "source": [
    "<div style=\"font-size: 25px; font-family: 'Roboto', sans-serif; background-color: #d5e8f9; padding: 10px; border-radius: 10px; border: 5px solid #3498db; width: 45%\">\n",
    "    <span style=\"color: #9b59b6; font-weight: 900; border: 3px solid grey;  border-radius:10px;\">I</span>\n",
    "    <span style=\"color: #e74c3c; font-weight: 900;\">n</span>\n",
    "    <span style=\"color: #1abc9c; font-weight: 900;\">s</span>\n",
    "    <span style=\"color: #8e44ad; font-weight: 900;\">i</span>\n",
    "    <span style=\"color: #f39c12; font-weight: 900;\">g</span>\n",
    "    <span style=\"color: #2ecc71; font-weight: 900;\">h</span>\n",
    "    <span style=\"color: #f1c40f; font-weight: 900;\">t</span>\n",
    "    <span style=\"color: #e67e22; font-weight: 900;\">s</span>\n",
    "</div>\n",
    "\n",
    "> ##### By analysing the above ouptut the dataset includes categorical variables such as Outlook, Temperature, Humidity, Wind, and Play_Badminton, each with balanced distributions. Outlook has 12 instances each of Overcast, Sunny, and Rain. Temperature is split evenly among Cool, Mild, and Hot, each with 12 occurrences. Humidity and Wind both have equal counts for their categories: 18 instances each of High and Normal humidity, and 18 instances each of Weak and Strong wind. The Play_Badminton outcome shows 24 'No' and 12 'Yes'.\n"
   ]
  },
  {
   "cell_type": "markdown",
   "id": "0da61d5f",
   "metadata": {
    "papermill": {
     "duration": 0.021359,
     "end_time": "2024-05-23T17:08:16.351096",
     "exception": false,
     "start_time": "2024-05-23T17:08:16.329737",
     "status": "completed"
    },
    "tags": []
   },
   "source": [
    "# <p  style= \"font-size: 40px;\">🔧🧹<span style=\"color: #ffffff;\">T</span><span style=\"color: #f9f9f9;\">a</span><span style=\"color: #ececec; font-weight: 900;\">s</span><span style=\"color: #dfdfdf;\">k</span> <span style=\"color: #d2d2d2;\">3</span>: <span style=\"color: #c5c5c5;\">D</span><span style=\"color: #b8b8b8;\">a</span><span style=\"color: #ababab;\">t</span><span style=\"color: #9e9e9e;\">a</span> <span style=\"color: #919191;\">C</span><span style=\"color: #848484;\">l</span><span style=\"color: #777777;\">e</span><span style=\"color: #6a6a6a; font-weight: 900;\">a</span><span style=\"color: #5d5d5d;\">n</span><span style=\"color: #505050;\">i</span><span style=\"color: #434343;\">n</span><span style=\"color: #363636;\">g</span> <span style=\"color: #292929;\">a</span><span style=\"color: #1c1c1c;\">n</span><span style=\"color: #0f0f0f;\">d</span> <span style=\"color: #ffffff;\">P</span><span style=\"color: #f9f9f9;\">r</span><span style=\"color: #ececec; font-weight: 900;\">e</span><span style=\"color: #dfdfdf;\">p</span><span style=\"color: #d2d2d2;\">r</span><span style=\"color: #c5c5c5;\">o</span><span style=\"color: #b8b8b8;\">c</span><span style=\"color: #ababab; font-weight: 900;\">e</span><span style=\"color: #9e9e9e; font-weight: 900;\">s</span><span style=\"color: #919191; font-weight: 900;\">s</span><span style=\"color: #848484; font-weight: 900;\">i</span><span style=\"color: #777777; font-weight: 900;\">n</span><span style=\"color: #6a6a6a; font-weight: 900;\">g</span>🧹🔧\n",
    "</p>\n"
   ]
  },
  {
   "cell_type": "markdown",
   "id": "f21e3db0",
   "metadata": {
    "papermill": {
     "duration": 0.022236,
     "end_time": "2024-05-23T17:08:16.394998",
     "exception": false,
     "start_time": "2024-05-23T17:08:16.372762",
     "status": "completed"
    },
    "tags": []
   },
   "source": [
    "<div class=\"list-group\" id=\"list-tab\" role=\"tablist\">\n",
    "<p style=\"background-color:#20B2AA; font-family:Arial, sans-serif; color:#FFFFFF; font-size:150%; text-align:center; padding:8px; border:2px solid #FFFFFF; width: 45%; border-top-right-radius: 60px; border-bottom-left-radius: 60px;\">\n",
    "3.1: Missing Values\n",
    "</p>\n",
    "\n",
    "> Check for missing values in the dataset. Which columns have missing values, and what is the proportion of missing data in each column?\n"
   ]
  },
  {
   "cell_type": "code",
   "execution_count": 8,
   "id": "cdcce137",
   "metadata": {
    "execution": {
     "iopub.execute_input": "2024-05-23T17:08:16.439340Z",
     "iopub.status.busy": "2024-05-23T17:08:16.438517Z",
     "iopub.status.idle": "2024-05-23T17:08:16.445750Z",
     "shell.execute_reply": "2024-05-23T17:08:16.444902Z"
    },
    "papermill": {
     "duration": 0.031562,
     "end_time": "2024-05-23T17:08:16.447759",
     "exception": false,
     "start_time": "2024-05-23T17:08:16.416197",
     "status": "completed"
    },
    "tags": []
   },
   "outputs": [
    {
     "data": {
      "text/plain": [
       "Outlook           0\n",
       "Temperature       0\n",
       "Humidity          0\n",
       "Wind              0\n",
       "Play_Badminton    0\n",
       "dtype: int64"
      ]
     },
     "execution_count": 8,
     "metadata": {},
     "output_type": "execute_result"
    }
   ],
   "source": [
    "df.isnull().sum()"
   ]
  },
  {
   "cell_type": "markdown",
   "id": "279f8a88",
   "metadata": {
    "papermill": {
     "duration": 0.020838,
     "end_time": "2024-05-23T17:08:16.490249",
     "exception": false,
     "start_time": "2024-05-23T17:08:16.469411",
     "status": "completed"
    },
    "tags": []
   },
   "source": [
    "> #### The dataset has no missing values it means that the dataset is complete, without any gaps in the recorded information.\n"
   ]
  },
  {
   "cell_type": "markdown",
   "id": "888ff7ec",
   "metadata": {
    "papermill": {
     "duration": 0.021097,
     "end_time": "2024-05-23T17:08:16.532342",
     "exception": false,
     "start_time": "2024-05-23T17:08:16.511245",
     "status": "completed"
    },
    "tags": []
   },
   "source": [
    "### `Describe the methods you used to handle missing data. Did you choose to remove, impute, or use another method for dealing with missing values? Justify your choice.- `\n",
    "\n",
    "> ### `Answer:`\n",
    ">\n",
    "> I utilized the \"isnull().sum()\" method to check for missing data in the DataFrame. Since the output indicated zero missing values for all columns, I did not need to employ any methods for handling missing data. There was no need for removal, imputation, or any other method, as the dataset was complete without any gaps in the recorded information.\n"
   ]
  },
  {
   "cell_type": "markdown",
   "id": "2ea510fa",
   "metadata": {
    "papermill": {
     "duration": 0.021054,
     "end_time": "2024-05-23T17:08:16.574349",
     "exception": false,
     "start_time": "2024-05-23T17:08:16.553295",
     "status": "completed"
    },
    "tags": []
   },
   "source": [
    "<div class=\"list-group\" id=\"list-tab\" role=\"tablist\">\n",
    "<p style=\"background-color:#20B2AA; font-family:Arial, sans-serif; color:#FFFFFF; font-size:150%; text-align:center; padding:8px; border:2px solid #FFFFFF; width: 45%; border-top-right-radius: 60px; border-bottom-left-radius: 60px;\">\n",
    "3.2: Handling Outliers\n",
    "</p>\n"
   ]
  },
  {
   "cell_type": "markdown",
   "id": "5b552af4",
   "metadata": {
    "papermill": {
     "duration": 0.020825,
     "end_time": "2024-05-23T17:08:16.616614",
     "exception": false,
     "start_time": "2024-05-23T17:08:16.595789",
     "status": "completed"
    },
    "tags": []
   },
   "source": [
    "### `Identify any outliers in the numerical columns. How did you detect them, and what method did you use to handle them?`\n"
   ]
  },
  {
   "cell_type": "markdown",
   "id": "220b51e8",
   "metadata": {
    "papermill": {
     "duration": 0.021064,
     "end_time": "2024-05-23T17:08:16.658774",
     "exception": false,
     "start_time": "2024-05-23T17:08:16.637710",
     "status": "completed"
    },
    "tags": []
   },
   "source": [
    "We have already checked that\n"
   ]
  },
  {
   "cell_type": "code",
   "execution_count": 9,
   "id": "65f69f8f",
   "metadata": {
    "execution": {
     "iopub.execute_input": "2024-05-23T17:08:16.704790Z",
     "iopub.status.busy": "2024-05-23T17:08:16.704340Z",
     "iopub.status.idle": "2024-05-23T17:08:16.719456Z",
     "shell.execute_reply": "2024-05-23T17:08:16.718590Z"
    },
    "papermill": {
     "duration": 0.041198,
     "end_time": "2024-05-23T17:08:16.722078",
     "exception": false,
     "start_time": "2024-05-23T17:08:16.680880",
     "status": "completed"
    },
    "tags": []
   },
   "outputs": [
    {
     "name": "stdout",
     "output_type": "stream",
     "text": [
      "<class 'pandas.core.frame.DataFrame'>\n",
      "RangeIndex: 36 entries, 0 to 35\n",
      "Data columns (total 5 columns):\n",
      " #   Column          Non-Null Count  Dtype \n",
      "---  ------          --------------  ----- \n",
      " 0   Outlook         36 non-null     object\n",
      " 1   Temperature     36 non-null     object\n",
      " 2   Humidity        36 non-null     object\n",
      " 3   Wind            36 non-null     object\n",
      " 4   Play_Badminton  36 non-null     object\n",
      "dtypes: object(5)\n",
      "memory usage: 1.5+ KB\n"
     ]
    }
   ],
   "source": [
    "df.info()"
   ]
  },
  {
   "cell_type": "markdown",
   "id": "6f0b15ff",
   "metadata": {
    "papermill": {
     "duration": 0.021375,
     "end_time": "2024-05-23T17:08:16.765875",
     "exception": false,
     "start_time": "2024-05-23T17:08:16.744500",
     "status": "completed"
    },
    "tags": []
   },
   "source": [
    "<div style=\"font-size: 25px; font-family: 'Roboto', sans-serif; background-color: #d5e8f9; padding: 10px; border-radius: 10px; border: 5px solid #3498db; width: 45%\">\n",
    "    <span style=\"color: #9b59b6; font-weight: 900; border: 3px solid grey;  border-radius:10px;\">I</span>\n",
    "    <span style=\"color: #e74c3c; font-weight: 900;\">n</span>\n",
    "    <span style=\"color: #1abc9c; font-weight: 900;\">s</span>\n",
    "    <span style=\"color: #8e44ad; font-weight: 900;\">i</span>\n",
    "    <span style=\"color: #f39c12; font-weight: 900;\">g</span>\n",
    "    <span style=\"color: #2ecc71; font-weight: 900;\">h</span>\n",
    "    <span style=\"color: #f1c40f; font-weight: 900;\">t</span>\n",
    "    <span style=\"color: #e67e22; font-weight: 900;\">s</span>\n",
    "</div>\n",
    "\n",
    "> #### The output shows that all columns are of type 'object', indicating that they contain categorical data rather than numerical data. Therefore, traditional methods for detecting outliers in numerical columns, such as calculating quartiles and identifying values outside a certain range, are not applicable in this case.\n"
   ]
  },
  {
   "cell_type": "markdown",
   "id": "1ea3170f",
   "metadata": {
    "papermill": {
     "duration": 0.020935,
     "end_time": "2024-05-23T17:08:16.807935",
     "exception": false,
     "start_time": "2024-05-23T17:08:16.787000",
     "status": "completed"
    },
    "tags": []
   },
   "source": [
    "#  <p  style= \"font-size: 40px;\">📊🔍<span style=\"color: #ffffff;\">T</span><span style=\"color: #f9f9f9;\">a</span><span style=\"color: #ececec; font-weight: 900;\">s</span><span style=\"color: #dfdfdf;\">k</span> <span style=\"color: #d2d2d2;\">4</span>:  <span style=\"color: #c5c5c5;\">D</span><span style=\"color: #b8b8b8;\">a</span><span style=\"color: #ababab;\">t</span><span style=\"color: #9e9e9e;\">a</span> <span style=\"color: #919191;\">V</span><span style=\"color: #848484;\">i</span><span style=\"color: #777777;\">s</span><span style=\"color: #6a6a6a; font-weight: 900;\">u</span><span style=\"color: #5d5d5d;\">a</span><span style=\"color: #505050;\">l</span><span style=\"color: #434343;\">i</span><span style=\"color: #363636;\">z</span><span style=\"color: #292929;\">a</span><span style=\"color: #1c1c1c;\">t</span><span style=\"color: #0f0f0f;\">i</span><span style=\"color: #ffffff;\">o</span><span style=\"color: #f9f9f9;\">n</span>📈🔍\n",
    "</p>\n",
    "\n",
    "1. Use bar plots or pie charts to visualize the distribution of categorical variables.\n",
    "2. Explore relationships between variables using scatter plots, or heatmaps. Discuss any interesting patterns or correlations you observe.\n"
   ]
  },
  {
   "cell_type": "markdown",
   "id": "c9911d61",
   "metadata": {
    "papermill": {
     "duration": 0.020992,
     "end_time": "2024-05-23T17:08:16.850039",
     "exception": false,
     "start_time": "2024-05-23T17:08:16.829047",
     "status": "completed"
    },
    "tags": []
   },
   "source": [
    "<div class=\"list-group\" id=\"list-tab\" role=\"tablist\">\n",
    "<p style=\"background-color:#20B2AA; font-family:Arial, sans-serif; color:#FFFFFF; font-size:150%; text-align:center; padding:8px; border:2px solid #FFFFFF; width: 55%; border-top-right-radius: 60px; border-bottom-left-radius: 60px;\">\n",
    "4.1: Function to visualize the distribution\n",
    "</p>\n",
    "\n",
    "### `Making a function for Using Bar plots to visualize the distribution of categorical variables`\n"
   ]
  },
  {
   "cell_type": "code",
   "execution_count": 10,
   "id": "3e64feb0",
   "metadata": {
    "execution": {
     "iopub.execute_input": "2024-05-23T17:08:16.894426Z",
     "iopub.status.busy": "2024-05-23T17:08:16.893697Z",
     "iopub.status.idle": "2024-05-23T17:08:16.901685Z",
     "shell.execute_reply": "2024-05-23T17:08:16.900818Z"
    },
    "papermill": {
     "duration": 0.032407,
     "end_time": "2024-05-23T17:08:16.903537",
     "exception": false,
     "start_time": "2024-05-23T17:08:16.871130",
     "status": "completed"
    },
    "tags": []
   },
   "outputs": [],
   "source": [
    "def plot_categorical_distribution(df, columns, colors=None, background_color=None, foreground_color=None):\n",
    "    if background_color:\n",
    "        plt.rcParams['figure.facecolor'] = background_color\n",
    "    if foreground_color:\n",
    "        plt.rcParams['axes.labelcolor'] = foreground_color\n",
    "        plt.rcParams['axes.edgecolor'] = foreground_color\n",
    "        plt.rcParams['xtick.color'] = foreground_color\n",
    "        plt.rcParams['ytick.color'] = foreground_color\n",
    "\n",
    "    for col in columns:\n",
    "        if col in df.columns:\n",
    "            color = colors[col] if colors and col in colors else None\n",
    "\n",
    "            df[col].value_counts().plot(kind='bar', color=color)\n",
    "            plt.title(f'Distribution of {col}')\n",
    "            plt.xlabel(col)\n",
    "            plt.ylabel('Frequency')\n",
    "            plt.show()\n",
    "        else:\n",
    "            print(f\"Column '{col}' not found in the DataFrame.\")\n",
    "\n",
    "\n",
    "custom_colors = {\n",
    "    'Outlook': 'lightblue',\n",
    "    'Temperature': 'lightgreen',\n",
    "    'Humidity': 'lightsalmon',\n",
    "    'Wind': 'lightcoral',\n",
    "    'Play_Badminton': 'lightgray'\n",
    "}\n"
   ]
  },
  {
   "cell_type": "markdown",
   "id": "3d237a36",
   "metadata": {
    "papermill": {
     "duration": 0.020947,
     "end_time": "2024-05-23T17:08:16.945740",
     "exception": false,
     "start_time": "2024-05-23T17:08:16.924793",
     "status": "completed"
    },
    "tags": []
   },
   "source": [
    "<p style=\"font-family: 'Inter', sans-serif; font-weight: 700; letter-spacing: 1px; color: orange; font-size: 2rem; text-align: left; padding-bottom: 10px; border-bottom: 5px double #F6F193 ; border: 10px double #A94438; background-color: orange; width:60%;\"><span style=\"color: red; background-color: yellow;\">Please Upvote my kernel If you like work</span></p>\n"
   ]
  },
  {
   "cell_type": "markdown",
   "id": "1c4e805f",
   "metadata": {
    "papermill": {
     "duration": 0.020897,
     "end_time": "2024-05-23T17:08:16.987690",
     "exception": false,
     "start_time": "2024-05-23T17:08:16.966793",
     "status": "completed"
    },
    "tags": []
   },
   "source": [
    "##### `Now let's Viusalize the columns one by one.`\n"
   ]
  },
  {
   "cell_type": "markdown",
   "id": "16c80971",
   "metadata": {
    "papermill": {
     "duration": 0.021941,
     "end_time": "2024-05-23T17:08:17.030686",
     "exception": false,
     "start_time": "2024-05-23T17:08:17.008745",
     "status": "completed"
    },
    "tags": []
   },
   "source": [
    "We can make a list of columns and apply function on it but will be hard get insight from all visualize at the same time.\n"
   ]
  },
  {
   "cell_type": "markdown",
   "id": "e55886ca",
   "metadata": {
    "papermill": {
     "duration": 0.022031,
     "end_time": "2024-05-23T17:08:17.075136",
     "exception": false,
     "start_time": "2024-05-23T17:08:17.053105",
     "status": "completed"
    },
    "tags": []
   },
   "source": [
    "<div class=\"list-group\" id=\"list-tab\" role=\"tablist\">\n",
    "<p style=\"background-color:#20B2AA; font-family:Arial, sans-serif; color:#FFFFFF; font-size:150%; text-align:center; padding:8px; border:2px solid #FFFFFF; width: 55%; border-top-right-radius: 60px; border-bottom-left-radius: 60px;\">\n",
    "4.2: OUTLOOK COLUMN VISUALIZATION:\n",
    "</p>\n"
   ]
  },
  {
   "cell_type": "code",
   "execution_count": 11,
   "id": "a29f5a64",
   "metadata": {
    "execution": {
     "iopub.execute_input": "2024-05-23T17:08:17.122092Z",
     "iopub.status.busy": "2024-05-23T17:08:17.121731Z",
     "iopub.status.idle": "2024-05-23T17:08:17.430765Z",
     "shell.execute_reply": "2024-05-23T17:08:17.429884Z"
    },
    "papermill": {
     "duration": 0.337156,
     "end_time": "2024-05-23T17:08:17.433440",
     "exception": false,
     "start_time": "2024-05-23T17:08:17.096284",
     "status": "completed"
    },
    "tags": []
   },
   "outputs": [
    {
     "data": {
      "image/png": "[encoded data removed]",
      "text/plain": [
       "<Figure size 640x480 with 1 Axes>"
      ]
     },
     "metadata": {},
     "output_type": "display_data"
    }
   ],
   "source": [
    "plot_categorical_distribution(df, ['Outlook'], colors=custom_colors, background_color='#FFEFD5', foreground_color='black')"
   ]
  },
  {
   "cell_type": "markdown",
   "id": "3fc6c97d",
   "metadata": {
    "papermill": {
     "duration": 0.021494,
     "end_time": "2024-05-23T17:08:17.479057",
     "exception": false,
     "start_time": "2024-05-23T17:08:17.457563",
     "status": "completed"
    },
    "tags": []
   },
   "source": [
    "<div style=\"font-size: 25px; font-family: 'Roboto', sans-serif; background-color: #d5e8f9; padding: 10px; border-radius: 10px; border: 5px solid #3498db; width: 45%\">\n",
    "    <span style=\"color: #9b59b6; font-weight: 900; border: 3px solid grey;  border-radius:10px;\">I</span>\n",
    "    <span style=\"color: #e74c3c; font-weight: 900;\">n</span>\n",
    "    <span style=\"color: #1abc9c; font-weight: 900;\">s</span>\n",
    "    <span style=\"color: #8e44ad; font-weight: 900;\">i</span>\n",
    "    <span style=\"color: #f39c12; font-weight: 900;\">g</span>\n",
    "    <span style=\"color: #2ecc71; font-weight: 900;\">h</span>\n",
    "    <span style=\"color: #f1c40f; font-weight: 900;\">t</span>\n",
    "    <span style=\"color: #e67e22; font-weight: 900;\">s</span>\n",
    "    <span style=\"color: #f1c40f; font-weight: 900;\">&nbsp;</span>\n",
    "    <span style=\"color: #9b59b6; font-weight: 900; border: 3px solid grey;  border-radius:10px;\">F</span>\n",
    "    <span style=\"color: #e74c3c; font-weight: 900;\">r</span>\n",
    "    <span style=\"color: #1abc9c; font-weight: 900;\">o</span>\n",
    "    <span style=\"color: #8e44ad; font-weight: 900;\">m</span>\n",
    "    <span style=\"color: #f1c40f; font-weight: 900;\">&nbsp;</span>\n",
    "    <span style=\"color: #9b59b6; font-weight: 900; border: 3px solid grey;  border-radius:10px;\">t</span>\n",
    "    <span style=\"color: #f39c12; font-weight: 900;\">h</span>\n",
    "    <span style=\"color: #2ecc71; font-weight: 900;\">e</span>\n",
    "    <span style=\"color: #f1c40f; font-weight: 900;\">&nbsp;</span>\n",
    "    <span style=\"color: #9b59b6; font-weight: 900; border: 3px solid grey;  border-radius:10px;\">P</span>\n",
    "    <span style=\"color: #f1c40f; font-weight: 900;\">l</span>\n",
    "    <span style=\"color: #e67e22; font-weight: 900;\">o</span>\n",
    "    <span style=\"color: #e67e22; font-weight: 900;\">t</span>\n",
    "</div>\n",
    "\n",
    "> the column `Outlook` represents three groups of data which are `Overcast`, `Sunny` and `Rain`. The column groups are equally frequancy distributed. the highest frequancy is `12`, which is same for every group of the column.\n"
   ]
  },
  {
   "cell_type": "markdown",
   "id": "4a185b73",
   "metadata": {
    "papermill": {
     "duration": 0.022866,
     "end_time": "2024-05-23T17:08:17.523573",
     "exception": false,
     "start_time": "2024-05-23T17:08:17.500707",
     "status": "completed"
    },
    "tags": []
   },
   "source": [
    "<div class=\"list-group\" id=\"list-tab\" role=\"tablist\">\n",
    "<p style=\"background-color:#20B2AA; font-family:Arial, sans-serif; color:#FFFFFF; font-size:150%; text-align:center; padding:8px; border:2px solid #FFFFFF; width: 55%; border-top-right-radius: 60px; border-bottom-left-radius: 60px;\">\n",
    "4.3: TEMPERATURE COLUMN VISUALIZATION:\n",
    "</p>\n"
   ]
  },
  {
   "cell_type": "code",
   "execution_count": 12,
   "id": "0e9471f7",
   "metadata": {
    "execution": {
     "iopub.execute_input": "2024-05-23T17:08:17.568681Z",
     "iopub.status.busy": "2024-05-23T17:08:17.568360Z",
     "iopub.status.idle": "2024-05-23T17:08:17.783406Z",
     "shell.execute_reply": "2024-05-23T17:08:17.782473Z"
    },
    "papermill": {
     "duration": 0.239988,
     "end_time": "2024-05-23T17:08:17.785513",
     "exception": false,
     "start_time": "2024-05-23T17:08:17.545525",
     "status": "completed"
    },
    "tags": []
   },
   "outputs": [
    {
     "data": {
      "image/png": "[encoded data removed]",
      "text/plain": [
       "<Figure size 640x480 with 1 Axes>"
      ]
     },
     "metadata": {},
     "output_type": "display_data"
    }
   ],
   "source": [
    "plot_categorical_distribution(df, ['Temperature'], colors=custom_colors, background_color='#FFEFD5', foreground_color='black')"
   ]
  },
  {
   "cell_type": "markdown",
   "id": "f4a7f54b",
   "metadata": {
    "papermill": {
     "duration": 0.03022,
     "end_time": "2024-05-23T17:08:17.843760",
     "exception": false,
     "start_time": "2024-05-23T17:08:17.813540",
     "status": "completed"
    },
    "tags": []
   },
   "source": [
    "<div style=\"font-size: 25px; font-family: 'Roboto', sans-serif; background-color: #d5e8f9; padding: 10px; border-radius: 10px; border: 5px solid #3498db; width: 45%\">\n",
    "    <span style=\"color: #9b59b6; font-weight: 900; border: 3px solid grey;  border-radius:10px;\">I</span>\n",
    "    <span style=\"color: #e74c3c; font-weight: 900;\">n</span>\n",
    "    <span style=\"color: #1abc9c; font-weight: 900;\">s</span>\n",
    "    <span style=\"color: #8e44ad; font-weight: 900;\">i</span>\n",
    "    <span style=\"color: #f39c12; font-weight: 900;\">g</span>\n",
    "    <span style=\"color: #2ecc71; font-weight: 900;\">h</span>\n",
    "    <span style=\"color: #f1c40f; font-weight: 900;\">t</span>\n",
    "    <span style=\"color: #e67e22; font-weight: 900;\">s</span>\n",
    "    <span style=\"color: #f1c40f; font-weight: 900;\">&nbsp;</span>\n",
    "    <span style=\"color: #9b59b6; font-weight: 900; border: 3px solid grey;  border-radius:10px;\">F</span>\n",
    "    <span style=\"color: #e74c3c; font-weight: 900;\">r</span>\n",
    "    <span style=\"color: #1abc9c; font-weight: 900;\">o</span>\n",
    "    <span style=\"color: #8e44ad; font-weight: 900;\">m</span>\n",
    "    <span style=\"color: #f1c40f; font-weight: 900;\">&nbsp;</span>\n",
    "    <span style=\"color: #9b59b6; font-weight: 900; border: 3px solid grey;  border-radius:10px;\">t</span>\n",
    "    <span style=\"color: #f39c12; font-weight: 900;\">h</span>\n",
    "    <span style=\"color: #2ecc71; font-weight: 900;\">e</span>\n",
    "    <span style=\"color: #f1c40f; font-weight: 900;\">&nbsp;</span>\n",
    "    <span style=\"color: #9b59b6; font-weight: 900; border: 3px solid grey;  border-radius:10px;\">P</span>\n",
    "    <span style=\"color: #f1c40f; font-weight: 900;\">l</span>\n",
    "    <span style=\"color: #e67e22; font-weight: 900;\">o</span>\n",
    "    <span style=\"color: #e67e22; font-weight: 900;\">t</span>\n",
    "</div>\n",
    "\n",
    "> The column `Temperature` represents three groups of data which are `COOL`, `MILD` and `HOT`. The column groups are equally frequancy distributed. the highest frequancy is `12`, which is same for every group of the column.\n"
   ]
  },
  {
   "cell_type": "markdown",
   "id": "74450a3c",
   "metadata": {
    "papermill": {
     "duration": 0.024723,
     "end_time": "2024-05-23T17:08:17.894204",
     "exception": false,
     "start_time": "2024-05-23T17:08:17.869481",
     "status": "completed"
    },
    "tags": []
   },
   "source": [
    "<div class=\"list-group\" id=\"list-tab\" role=\"tablist\">\n",
    "<p style=\"background-color:#20B2AA; font-family:Arial, sans-serif; color:#FFFFFF; font-size:150%; text-align:center; padding:8px; border:2px solid #FFFFFF; width: 55%; border-top-right-radius: 60px; border-bottom-left-radius: 60px;\">\n",
    "4.3: HUMIDITY COLUMN VISUALIZATION:\n",
    "</p>\n"
   ]
  },
  {
   "cell_type": "code",
   "execution_count": 13,
   "id": "faeca7ca",
   "metadata": {
    "execution": {
     "iopub.execute_input": "2024-05-23T17:08:17.942830Z",
     "iopub.status.busy": "2024-05-23T17:08:17.942483Z",
     "iopub.status.idle": "2024-05-23T17:08:18.198957Z",
     "shell.execute_reply": "2024-05-23T17:08:18.198048Z"
    },
    "papermill": {
     "duration": 0.2825,
     "end_time": "2024-05-23T17:08:18.200925",
     "exception": false,
     "start_time": "2024-05-23T17:08:17.918425",
     "status": "completed"
    },
    "tags": []
   },
   "outputs": [
    {
     "data": {
      "image/png": "[encoded data removed]",
      "text/plain": [
       "<Figure size 640x480 with 1 Axes>"
      ]
     },
     "metadata": {},
     "output_type": "display_data"
    }
   ],
   "source": [
    "plot_categorical_distribution(df, ['Humidity'], colors=custom_colors, background_color='#FFEFD5', foreground_color='black')"
   ]
  },
  {
   "cell_type": "markdown",
   "id": "9c442392",
   "metadata": {
    "papermill": {
     "duration": 0.02343,
     "end_time": "2024-05-23T17:08:18.247501",
     "exception": false,
     "start_time": "2024-05-23T17:08:18.224071",
     "status": "completed"
    },
    "tags": []
   },
   "source": [
    "<div style=\"font-size: 25px; font-family: 'Roboto', sans-serif; background-color: #d5e8f9; padding: 10px; border-radius: 10px; border: 5px solid #3498db; width: 45%\">\n",
    "    <span style=\"color: #9b59b6; font-weight: 900; border: 3px solid grey;  border-radius:10px;\">I</span>\n",
    "    <span style=\"color: #e74c3c; font-weight: 900;\">n</span>\n",
    "    <span style=\"color: #1abc9c; font-weight: 900;\">s</span>\n",
    "    <span style=\"color: #8e44ad; font-weight: 900;\">i</span>\n",
    "    <span style=\"color: #f39c12; font-weight: 900;\">g</span>\n",
    "    <span style=\"color: #2ecc71; font-weight: 900;\">h</span>\n",
    "    <span style=\"color: #f1c40f; font-weight: 900;\">t</span>\n",
    "    <span style=\"color: #e67e22; font-weight: 900;\">s</span>\n",
    "    <span style=\"color: #f1c40f; font-weight: 900;\">&nbsp;</span>\n",
    "    <span style=\"color: #9b59b6; font-weight: 900; border: 3px solid grey;  border-radius:10px;\">F</span>\n",
    "    <span style=\"color: #e74c3c; font-weight: 900;\">r</span>\n",
    "    <span style=\"color: #1abc9c; font-weight: 900;\">o</span>\n",
    "    <span style=\"color: #8e44ad; font-weight: 900;\">m</span>\n",
    "    <span style=\"color: #f1c40f; font-weight: 900;\">&nbsp;</span>\n",
    "    <span style=\"color: #9b59b6; font-weight: 900; border: 3px solid grey;  border-radius:10px;\">t</span>\n",
    "    <span style=\"color: #f39c12; font-weight: 900;\">h</span>\n",
    "    <span style=\"color: #2ecc71; font-weight: 900;\">e</span>\n",
    "    <span style=\"color: #f1c40f; font-weight: 900;\">&nbsp;</span>\n",
    "    <span style=\"color: #9b59b6; font-weight: 900; border: 3px solid grey;  border-radius:10px;\">P</span>\n",
    "    <span style=\"color: #f1c40f; font-weight: 900;\">l</span>\n",
    "    <span style=\"color: #e67e22; font-weight: 900;\">o</span>\n",
    "    <span style=\"color: #e67e22; font-weight: 900;\">t</span>\n",
    "</div>\n",
    "\n",
    "> The column `Humidity` represents two groups of data which are `High` and `Normal`. The column groups are equally frequancy distributed. the highest frequancy is `18`, which is same for both groups of the column.\n"
   ]
  },
  {
   "cell_type": "markdown",
   "id": "42620171",
   "metadata": {
    "papermill": {
     "duration": 0.025085,
     "end_time": "2024-05-23T17:08:18.295428",
     "exception": false,
     "start_time": "2024-05-23T17:08:18.270343",
     "status": "completed"
    },
    "tags": []
   },
   "source": [
    "<div class=\"list-group\" id=\"list-tab\" role=\"tablist\">\n",
    "<p style=\"background-color:#20B2AA; font-family:Arial, sans-serif; color:#FFFFFF; font-size:150%; text-align:center; padding:8px; border:2px solid #FFFFFF; width: 55%; border-top-right-radius: 60px; border-bottom-left-radius: 60px;\">\n",
    "4.4: WIND COLUMN VISUALIZATION:\n",
    "</p>\n"
   ]
  },
  {
   "cell_type": "code",
   "execution_count": 14,
   "id": "914c7117",
   "metadata": {
    "execution": {
     "iopub.execute_input": "2024-05-23T17:08:18.344353Z",
     "iopub.status.busy": "2024-05-23T17:08:18.343873Z",
     "iopub.status.idle": "2024-05-23T17:08:18.518419Z",
     "shell.execute_reply": "2024-05-23T17:08:18.517516Z"
    },
    "papermill": {
     "duration": 0.201726,
     "end_time": "2024-05-23T17:08:18.520872",
     "exception": false,
     "start_time": "2024-05-23T17:08:18.319146",
     "status": "completed"
    },
    "tags": []
   },
   "outputs": [
    {
     "data": {
      "image/png": "[encoded data removed]",
      "text/plain": [
       "<Figure size 640x480 with 1 Axes>"
      ]
     },
     "metadata": {},
     "output_type": "display_data"
    }
   ],
   "source": [
    "plot_categorical_distribution(df, ['Wind'], colors=custom_colors, background_color='#FFEFD5', foreground_color='black')"
   ]
  },
  {
   "cell_type": "markdown",
   "id": "932b0c3a",
   "metadata": {
    "papermill": {
     "duration": 0.022555,
     "end_time": "2024-05-23T17:08:18.566731",
     "exception": false,
     "start_time": "2024-05-23T17:08:18.544176",
     "status": "completed"
    },
    "tags": []
   },
   "source": [
    "<div style=\"font-size: 25px; font-family: 'Roboto', sans-serif; background-color: #d5e8f9; padding: 10px; border-radius: 10px; border: 5px solid #3498db; width: 45%\">\n",
    "    <span style=\"color: #9b59b6; font-weight: 900; border: 3px solid grey;  border-radius:10px;\">I</span>\n",
    "    <span style=\"color: #e74c3c; font-weight: 900;\">n</span>\n",
    "    <span style=\"color: #1abc9c; font-weight: 900;\">s</span>\n",
    "    <span style=\"color: #8e44ad; font-weight: 900;\">i</span>\n",
    "    <span style=\"color: #f39c12; font-weight: 900;\">g</span>\n",
    "    <span style=\"color: #2ecc71; font-weight: 900;\">h</span>\n",
    "    <span style=\"color: #f1c40f; font-weight: 900;\">t</span>\n",
    "    <span style=\"color: #e67e22; font-weight: 900;\">s</span>\n",
    "    <span style=\"color: #f1c40f; font-weight: 900;\">&nbsp;</span>\n",
    "    <span style=\"color: #9b59b6; font-weight: 900; border: 3px solid grey;  border-radius:10px;\">F</span>\n",
    "    <span style=\"color: #e74c3c; font-weight: 900;\">r</span>\n",
    "    <span style=\"color: #1abc9c; font-weight: 900;\">o</span>\n",
    "    <span style=\"color: #8e44ad; font-weight: 900;\">m</span>\n",
    "    <span style=\"color: #f1c40f; font-weight: 900;\">&nbsp;</span>\n",
    "    <span style=\"color: #9b59b6; font-weight: 900; border: 3px solid grey;  border-radius:10px;\">t</span>\n",
    "    <span style=\"color: #f39c12; font-weight: 900;\">h</span>\n",
    "    <span style=\"color: #2ecc71; font-weight: 900;\">e</span>\n",
    "    <span style=\"color: #f1c40f; font-weight: 900;\">&nbsp;</span>\n",
    "    <span style=\"color: #9b59b6; font-weight: 900; border: 3px solid grey;  border-radius:10px;\">P</span>\n",
    "    <span style=\"color: #f1c40f; font-weight: 900;\">l</span>\n",
    "    <span style=\"color: #e67e22; font-weight: 900;\">o</span>\n",
    "    <span style=\"color: #e67e22; font-weight: 900;\">t</span>\n",
    "</div>\n",
    "\n",
    "> The column `WIND` represents two groups of data which are `Weak` and `Strong`. The column groups are equally frequancy distributed. the highest frequancy is `18`, which is same for both groups of the column.\n"
   ]
  },
  {
   "cell_type": "markdown",
   "id": "4204b7c5",
   "metadata": {
    "papermill": {
     "duration": 0.02237,
     "end_time": "2024-05-23T17:08:18.611845",
     "exception": false,
     "start_time": "2024-05-23T17:08:18.589475",
     "status": "completed"
    },
    "tags": []
   },
   "source": [
    "<div class=\"list-group\" id=\"list-tab\" role=\"tablist\">\n",
    "<p style=\"background-color:#20B2AA; font-family:Arial, sans-serif; color:#FFFFFF; font-size:150%; text-align:center; padding:8px; border:2px solid #FFFFFF; width: 55%; border-top-right-radius: 60px; border-bottom-left-radius: 60px;\">\n",
    "4.5: PLAY_BADMINTON COLUMN VISUALIZATION:\n",
    "</p>\n"
   ]
  },
  {
   "cell_type": "code",
   "execution_count": 15,
   "id": "90184f80",
   "metadata": {
    "execution": {
     "iopub.execute_input": "2024-05-23T17:08:18.658759Z",
     "iopub.status.busy": "2024-05-23T17:08:18.657895Z",
     "iopub.status.idle": "2024-05-23T17:08:18.839045Z",
     "shell.execute_reply": "2024-05-23T17:08:18.838145Z"
    },
    "papermill": {
     "duration": 0.206775,
     "end_time": "2024-05-23T17:08:18.841146",
     "exception": false,
     "start_time": "2024-05-23T17:08:18.634371",
     "status": "completed"
    },
    "tags": []
   },
   "outputs": [
    {
     "data": {
      "image/png": "[encoded data removed]",
      "text/plain": [
       "<Figure size 640x480 with 1 Axes>"
      ]
     },
     "metadata": {},
     "output_type": "display_data"
    }
   ],
   "source": [
    "plot_categorical_distribution(df, ['Play_Badminton'], colors=custom_colors, background_color='#FFEFD5', foreground_color='black')"
   ]
  },
  {
   "cell_type": "markdown",
   "id": "64b72562",
   "metadata": {
    "papermill": {
     "duration": 0.022722,
     "end_time": "2024-05-23T17:08:18.887540",
     "exception": false,
     "start_time": "2024-05-23T17:08:18.864818",
     "status": "completed"
    },
    "tags": []
   },
   "source": [
    "<div style=\"font-size: 25px; font-family: 'Roboto', sans-serif; background-color: #d5e8f9; padding: 10px; border-radius: 10px; border: 5px solid #3498db; width: 45%\">\n",
    "    <span style=\"color: #9b59b6; font-weight: 900; border: 3px solid grey;  border-radius:10px;\">I</span>\n",
    "    <span style=\"color: #e74c3c; font-weight: 900;\">n</span>\n",
    "    <span style=\"color: #1abc9c; font-weight: 900;\">s</span>\n",
    "    <span style=\"color: #8e44ad; font-weight: 900;\">i</span>\n",
    "    <span style=\"color: #f39c12; font-weight: 900;\">g</span>\n",
    "    <span style=\"color: #2ecc71; font-weight: 900;\">h</span>\n",
    "    <span style=\"color: #f1c40f; font-weight: 900;\">t</span>\n",
    "    <span style=\"color: #e67e22; font-weight: 900;\">s</span>\n",
    "    <span style=\"color: #f1c40f; font-weight: 900;\">&nbsp;</span>\n",
    "    <span style=\"color: #9b59b6; font-weight: 900; border: 3px solid grey;  border-radius:10px;\">F</span>\n",
    "    <span style=\"color: #e74c3c; font-weight: 900;\">r</span>\n",
    "    <span style=\"color: #1abc9c; font-weight: 900;\">o</span>\n",
    "    <span style=\"color: #8e44ad; font-weight: 900;\">m</span>\n",
    "    <span style=\"color: #f1c40f; font-weight: 900;\">&nbsp;</span>\n",
    "    <span style=\"color: #9b59b6; font-weight: 900; border: 3px solid grey;  border-radius:10px;\">t</span>\n",
    "    <span style=\"color: #f39c12; font-weight: 900;\">h</span>\n",
    "    <span style=\"color: #2ecc71; font-weight: 900;\">e</span>\n",
    "    <span style=\"color: #f1c40f; font-weight: 900;\">&nbsp;</span>\n",
    "    <span style=\"color: #9b59b6; font-weight: 900; border: 3px solid grey;  border-radius:10px;\">P</span>\n",
    "    <span style=\"color: #f1c40f; font-weight: 900;\">l</span>\n",
    "    <span style=\"color: #e67e22; font-weight: 900;\">o</span>\n",
    "    <span style=\"color: #e67e22; font-weight: 900;\">t</span>\n",
    "</div>\n",
    "\n",
    "> The column `Play Badminton` represents two groups of data which are `No` and `Yes`. The column groups are not equally distributed. the no group of the column has the highest frequancy which is `24` , and the `yes` group of data frequancy is `13`. which reveal a shocking insight,\n",
    "\n",
    "<h1 style=\"width: 90%; text-align: center; padding: 15px 30px; font-size: 25px; font-weight: bold; color: #000; border-radius: 25px; background: linear-gradient(90deg, #a6c0fe, #f68084, #a6c0fe); background-size: 200%; position: relative; overflow: hidden; display: inline-block; width: 30%; vertical-align: middle;\">✧ ✧ Shocking Insight ✧ ✧\n",
    "</h1>\n",
    "\n",
    "> The visualization reveals that the nowadays due to `weather inconsistency` people `don't play badmintom` and we have to `analysis the weather condition` that on which conditions the people `avoid to play badminton`.\n"
   ]
  },
  {
   "cell_type": "markdown",
   "id": "f6eec9e6",
   "metadata": {
    "papermill": {
     "duration": 0.022609,
     "end_time": "2024-05-23T17:08:18.933241",
     "exception": false,
     "start_time": "2024-05-23T17:08:18.910632",
     "status": "completed"
    },
    "tags": []
   },
   "source": [
    "<div class=\"list-group\" id=\"list-tab\" role=\"tablist\">\n",
    "<p style=\"background-color:#20B2AA; font-family:Arial, sans-serif; color:#FFFFFF; font-size:150%; text-align:center; padding:8px; border:2px solid #FFFFFF; width: 65%; border-top-right-radius: 60px; border-bottom-left-radius: 60px;\">\n",
    "4.6: checking dependencies of columns over play Badminton feature\n",
    "</p>\n"
   ]
  },
  {
   "cell_type": "code",
   "execution_count": 16,
   "id": "b4f1871b",
   "metadata": {
    "execution": {
     "iopub.execute_input": "2024-05-23T17:08:18.980667Z",
     "iopub.status.busy": "2024-05-23T17:08:18.980335Z",
     "iopub.status.idle": "2024-05-23T17:08:19.018530Z",
     "shell.execute_reply": "2024-05-23T17:08:19.017463Z"
    },
    "papermill": {
     "duration": 0.064701,
     "end_time": "2024-05-23T17:08:19.020797",
     "exception": false,
     "start_time": "2024-05-23T17:08:18.956096",
     "status": "completed"
    },
    "tags": []
   },
   "outputs": [
    {
     "name": "stdout",
     "output_type": "stream",
     "text": [
      "Chi-square test for independence between Outlook and 'Play_Badminton':\n",
      "Chi2 value: 9.0, p-value: 0.011108996538242308\n",
      "The variable Outlook is likely not independent of 'Play_Badminton'.\n",
      "\n",
      "Chi-square test for independence between Temperature and 'Play_Badminton':\n",
      "Chi2 value: 0.0, p-value: 1.0\n",
      "The variable Temperature is likely independent of 'Play_Badminton'.\n",
      "\n",
      "Chi-square test for independence between Humidity and 'Play_Badminton':\n",
      "Chi2 value: 0.0, p-value: 1.0\n",
      "The variable Humidity is likely independent of 'Play_Badminton'.\n",
      "\n",
      "Chi-square test for independence between Wind and 'Play_Badminton':\n",
      "Chi2 value: 15.125, p-value: 0.00010062192211963679\n",
      "The variable Wind is likely not independent of 'Play_Badminton'.\n",
      "\n"
     ]
    }
   ],
   "source": [
    "for column in df.columns[:-1]:  # Exclude the target variable 'Play_Badminton'\n",
    "    contingency_table = pd.crosstab(df['Play_Badminton'], df[column])\n",
    "    chi2, p, _, _ = chi2_contingency(contingency_table)\n",
    "    print(f\"Chi-square test for independence between {column} and 'Play_Badminton':\")\n",
    "    print(f\"Chi2 value: {chi2}, p-value: {p}\")\n",
    "    if p < 0.05: \n",
    "        print(f\"The variable {column} is likely not independent of 'Play_Badminton'.\")\n",
    "    else:\n",
    "        print(f\"The variable {column} is likely independent of 'Play_Badminton'.\")\n",
    "    print()"
   ]
  },
  {
   "cell_type": "markdown",
   "id": "ba831eb0",
   "metadata": {
    "papermill": {
     "duration": 0.022874,
     "end_time": "2024-05-23T17:08:19.067959",
     "exception": false,
     "start_time": "2024-05-23T17:08:19.045085",
     "status": "completed"
    },
    "tags": []
   },
   "source": [
    "> #### `The weather has the dependencies on playing badminton`\n"
   ]
  },
  {
   "cell_type": "markdown",
   "id": "2767074a",
   "metadata": {
    "papermill": {
     "duration": 0.022715,
     "end_time": "2024-05-23T17:08:19.113680",
     "exception": false,
     "start_time": "2024-05-23T17:08:19.090965",
     "status": "completed"
    },
    "tags": []
   },
   "source": [
    "<div class=\"list-group\" id=\"list-tab\" role=\"tablist\">\n",
    "<p style=\"background-color:#20B2AA; font-family:Arial, sans-serif; color:#FFFFFF; font-size:150%; text-align:center; padding:8px; border:2px solid #FFFFFF; width: 55%; border-top-right-radius: 60px; border-bottom-left-radius: 60px;\">\n",
    "4.7: FInding Relations Between Columns\n",
    "</p>\n"
   ]
  },
  {
   "cell_type": "markdown",
   "id": "71966ff5",
   "metadata": {
    "papermill": {
     "duration": 0.022813,
     "end_time": "2024-05-23T17:08:19.159568",
     "exception": false,
     "start_time": "2024-05-23T17:08:19.136755",
     "status": "completed"
    },
    "tags": []
   },
   "source": [
    "### `making Function for finding relationships between columns`\n"
   ]
  },
  {
   "cell_type": "code",
   "execution_count": 17,
   "id": "c38890f4",
   "metadata": {
    "execution": {
     "iopub.execute_input": "2024-05-23T17:08:19.207990Z",
     "iopub.status.busy": "2024-05-23T17:08:19.207139Z",
     "iopub.status.idle": "2024-05-23T17:08:19.214097Z",
     "shell.execute_reply": "2024-05-23T17:08:19.213197Z"
    },
    "papermill": {
     "duration": 0.033059,
     "end_time": "2024-05-23T17:08:19.216064",
     "exception": false,
     "start_time": "2024-05-23T17:08:19.183005",
     "status": "completed"
    },
    "tags": []
   },
   "outputs": [],
   "source": [
    "def plot_categorical_relationships(df, columns):\n",
    "    for col1, col2 in combinations(columns, 2):\n",
    "        if col1 in df.columns and col2 in df.columns:\n",
    "            plt.figure(figsize=(6, 4))\n",
    "            crosstab = pd.crosstab(df[col1], df[col2], normalize='index') * 100  # Normalize to get percentages\n",
    "            sns.heatmap(crosstab, annot=True, cmap='coolwarm', fmt='.2f')  # Format to display two decimal places\n",
    "            plt.title(f'Heatmap of {col1} vs {col2}')\n",
    "            plt.xlabel(col2)\n",
    "            plt.ylabel(col1)\n",
    "            plt.show()\n",
    "        else:\n",
    "            print(f\"One of the columns '{col1}' or '{col2}' not found in the DataFrame.\")"
   ]
  },
  {
   "cell_type": "markdown",
   "id": "dcb7f9d9",
   "metadata": {
    "papermill": {
     "duration": 0.023009,
     "end_time": "2024-05-23T17:08:19.262120",
     "exception": false,
     "start_time": "2024-05-23T17:08:19.239111",
     "status": "completed"
    },
    "tags": []
   },
   "source": [
    "<div class=\"list-group\" id=\"list-tab\" role=\"tablist\">\n",
    "<p style=\"background-color:#20B2AA; font-family:Arial, sans-serif; color:#FFFFFF; font-size:150%; text-align:center; padding:8px; border:2px solid #FFFFFF; width: 55%; border-top-right-radius: 60px; border-bottom-left-radius: 60px;\">\n",
    " Outlook and Play_Badminton Relation\n",
    "</p>\n"
   ]
  },
  {
   "cell_type": "code",
   "execution_count": 18,
   "id": "a8fc0525",
   "metadata": {
    "execution": {
     "iopub.execute_input": "2024-05-23T17:08:19.309674Z",
     "iopub.status.busy": "2024-05-23T17:08:19.309345Z",
     "iopub.status.idle": "2024-05-23T17:08:19.589270Z",
     "shell.execute_reply": "2024-05-23T17:08:19.588397Z"
    },
    "papermill": {
     "duration": 0.306107,
     "end_time": "2024-05-23T17:08:19.591459",
     "exception": false,
     "start_time": "2024-05-23T17:08:19.285352",
     "status": "completed"
    },
    "tags": []
   },
   "outputs": [
    {
     "data": {
      "image/png": "[encoded data removed]",
      "text/plain": [
       "<Figure size 600x400 with 2 Axes>"
      ]
     },
     "metadata": {},
     "output_type": "display_data"
    }
   ],
   "source": [
    "columns_to_plot = ['Outlook', 'Play_Badminton']\n",
    "plot_categorical_relationships(df, columns_to_plot)"
   ]
  },
  {
   "cell_type": "markdown",
   "id": "39af09cb",
   "metadata": {
    "papermill": {
     "duration": 0.023508,
     "end_time": "2024-05-23T17:08:19.639097",
     "exception": false,
     "start_time": "2024-05-23T17:08:19.615589",
     "status": "completed"
    },
    "tags": []
   },
   "source": [
    "<div style=\"font-size: 25px; font-family: 'Roboto', sans-serif; background-color: #d5e8f9; padding: 10px; border-radius: 10px; border: 5px solid #3498db; width: 45%\">\n",
    "    <span style=\"color: #9b59b6; font-weight: 900; border: 3px solid grey;  border-radius:10px;\">I</span>\n",
    "    <span style=\"color: #e74c3c; font-weight: 900;\">n</span>\n",
    "    <span style=\"color: #1abc9c; font-weight: 900;\">s</span>\n",
    "    <span style=\"color: #8e44ad; font-weight: 900;\">i</span>\n",
    "    <span style=\"color: #f39c12; font-weight: 900;\">g</span>\n",
    "    <span style=\"color: #2ecc71; font-weight: 900;\">h</span>\n",
    "    <span style=\"color: #f1c40f; font-weight: 900;\">t</span>\n",
    "    <span style=\"color: #e67e22; font-weight: 900;\">s</span>\n",
    "    <span style=\"color: #f1c40f; font-weight: 900;\">&nbsp;</span>\n",
    "    <span style=\"color: #9b59b6; font-weight: 900; border: 3px solid grey;  border-radius:10px;\">F</span>\n",
    "    <span style=\"color: #e74c3c; font-weight: 900;\">r</span>\n",
    "    <span style=\"color: #1abc9c; font-weight: 900;\">o</span>\n",
    "    <span style=\"color: #8e44ad; font-weight: 900;\">m</span>\n",
    "    <span style=\"color: #f1c40f; font-weight: 900;\">&nbsp;</span>\n",
    "    <span style=\"color: #9b59b6; font-weight: 900; border: 3px solid grey;  border-radius:10px;\">t</span>\n",
    "    <span style=\"color: #f39c12; font-weight: 900;\">h</span>\n",
    "    <span style=\"color: #2ecc71; font-weight: 900;\">e</span>\n",
    "    <span style=\"color: #f1c40f; font-weight: 900;\">&nbsp;</span>\n",
    "    <span style=\"color: #9b59b6; font-weight: 900; border: 3px solid grey;  border-radius:10px;\">P</span>\n",
    "    <span style=\"color: #f1c40f; font-weight: 900;\">l</span>\n",
    "    <span style=\"color: #e67e22; font-weight: 900;\">o</span>\n",
    "    <span style=\"color: #e67e22; font-weight: 900;\">t</span>\n",
    "</div>\n",
    "\n",
    "> `The column Outlook seems to have a relationship with the badminton playing, the plot shows that:\n",
    ">\n",
    "> 1. when it's `overcast` then there is `50%`chances of playing bedminton and `50%` chances of not playing bedminton.\n",
    "> 2. When It's `Raining` then there is`0%` chances of plying bedminton and `100%` chances of not playing bedminton.\n",
    "> 3. When it's `Sunny` then there is `50%` chances of `both` playing and not playing bedminton.\n"
   ]
  },
  {
   "cell_type": "markdown",
   "id": "f36fefa7",
   "metadata": {
    "papermill": {
     "duration": 0.025268,
     "end_time": "2024-05-23T17:08:19.688139",
     "exception": false,
     "start_time": "2024-05-23T17:08:19.662871",
     "status": "completed"
    },
    "tags": []
   },
   "source": [
    "<div class=\"list-group\" id=\"list-tab\" role=\"tablist\">\n",
    "<p style=\"background-color:#20B2AA; font-family:Arial, sans-serif; color:#FFFFFF; font-size:150%; text-align:center; padding:8px; border:2px solid #FFFFFF; width: 55%; border-top-right-radius: 60px; border-bottom-left-radius: 60px;\">\n",
    " Temperature and Play_Badminton Relation\n",
    "</p>\n"
   ]
  },
  {
   "cell_type": "code",
   "execution_count": 19,
   "id": "c4cd755f",
   "metadata": {
    "execution": {
     "iopub.execute_input": "2024-05-23T17:08:19.738474Z",
     "iopub.status.busy": "2024-05-23T17:08:19.738116Z",
     "iopub.status.idle": "2024-05-23T17:08:20.021839Z",
     "shell.execute_reply": "2024-05-23T17:08:20.020896Z"
    },
    "papermill": {
     "duration": 0.311891,
     "end_time": "2024-05-23T17:08:20.023906",
     "exception": false,
     "start_time": "2024-05-23T17:08:19.712015",
     "status": "completed"
    },
    "tags": []
   },
   "outputs": [
    {
     "data": {
      "image/png": "[encoded data removed]",
      "text/plain": [
       "<Figure size 600x400 with 2 Axes>"
      ]
     },
     "metadata": {},
     "output_type": "display_data"
    }
   ],
   "source": [
    "columns_to_plot = ['Temperature', 'Play_Badminton']\n",
    "\n",
    "plot_categorical_relationships(df, columns_to_plot)"
   ]
  },
  {
   "cell_type": "markdown",
   "id": "6778cbee",
   "metadata": {
    "papermill": {
     "duration": 0.023944,
     "end_time": "2024-05-23T17:08:20.072532",
     "exception": false,
     "start_time": "2024-05-23T17:08:20.048588",
     "status": "completed"
    },
    "tags": []
   },
   "source": [
    "<div style=\"font-size: 25px; font-family: 'Roboto', sans-serif; background-color: #d5e8f9; padding: 10px; border-radius: 10px; border: 5px solid #3498db; width: 45%\">\n",
    "    <span style=\"color: #9b59b6; font-weight: 900; border: 3px solid grey;  border-radius:10px;\">I</span>\n",
    "    <span style=\"color: #e74c3c; font-weight: 900;\">n</span>\n",
    "    <span style=\"color: #1abc9c; font-weight: 900;\">s</span>\n",
    "    <span style=\"color: #8e44ad; font-weight: 900;\">i</span>\n",
    "    <span style=\"color: #f39c12; font-weight: 900;\">g</span>\n",
    "    <span style=\"color: #2ecc71; font-weight: 900;\">h</span>\n",
    "    <span style=\"color: #f1c40f; font-weight: 900;\">t</span>\n",
    "    <span style=\"color: #e67e22; font-weight: 900;\">s</span>\n",
    "    <span style=\"color: #f1c40f; font-weight: 900;\">&nbsp;</span>\n",
    "    <span style=\"color: #9b59b6; font-weight: 900; border: 3px solid grey;  border-radius:10px;\">F</span>\n",
    "    <span style=\"color: #e74c3c; font-weight: 900;\">r</span>\n",
    "    <span style=\"color: #1abc9c; font-weight: 900;\">o</span>\n",
    "    <span style=\"color: #8e44ad; font-weight: 900;\">m</span>\n",
    "    <span style=\"color: #f1c40f; font-weight: 900;\">&nbsp;</span>\n",
    "    <span style=\"color: #9b59b6; font-weight: 900; border: 3px solid grey;  border-radius:10px;\">t</span>\n",
    "    <span style=\"color: #f39c12; font-weight: 900;\">h</span>\n",
    "    <span style=\"color: #2ecc71; font-weight: 900;\">e</span>\n",
    "    <span style=\"color: #f1c40f; font-weight: 900;\">&nbsp;</span>\n",
    "    <span style=\"color: #9b59b6; font-weight: 900; border: 3px solid grey;  border-radius:10px;\">P</span>\n",
    "    <span style=\"color: #f1c40f; font-weight: 900;\">l</span>\n",
    "    <span style=\"color: #e67e22; font-weight: 900;\">o</span>\n",
    "    <span style=\"color: #e67e22; font-weight: 900;\">t</span>\n",
    "</div>\n",
    "\n",
    "> The column `Temperature` seems to have a relationship with the badminton playing column, the plot shows that:\n",
    ">\n",
    "> 1. when it's `Cool` then there is `66.67%` chances of not playing bedminton and `33.33%` chances of playing bedminton.\n",
    "> 2. When It's `Hot` then there is `66.67%` chances of not plying bedminton and `33.33%` chances of playing bedminton.\n",
    "> 3. When It's `Mild` then there is `66.67%` chances of not plying bedminton and `33.33%` chances of playing bedminton.\n"
   ]
  },
  {
   "cell_type": "markdown",
   "id": "af9728d2",
   "metadata": {
    "papermill": {
     "duration": 0.024331,
     "end_time": "2024-05-23T17:08:20.121061",
     "exception": false,
     "start_time": "2024-05-23T17:08:20.096730",
     "status": "completed"
    },
    "tags": []
   },
   "source": [
    "<div class=\"list-group\" id=\"list-tab\" role=\"tablist\">\n",
    "<p style=\"background-color:#20B2AA; font-family:Arial, sans-serif; color:#FFFFFF; font-size:150%; text-align:center; padding:8px; border:2px solid #FFFFFF; width: 55%; border-top-right-radius: 60px; border-bottom-left-radius: 60px;\">\n",
    " Humidity and Play_Badminton Relation\n",
    "</p>\n"
   ]
  },
  {
   "cell_type": "code",
   "execution_count": 20,
   "id": "4215cbe8",
   "metadata": {
    "execution": {
     "iopub.execute_input": "2024-05-23T17:08:20.170511Z",
     "iopub.status.busy": "2024-05-23T17:08:20.169897Z",
     "iopub.status.idle": "2024-05-23T17:08:20.381512Z",
     "shell.execute_reply": "2024-05-23T17:08:20.380576Z"
    },
    "papermill": {
     "duration": 0.238536,
     "end_time": "2024-05-23T17:08:20.383499",
     "exception": false,
     "start_time": "2024-05-23T17:08:20.144963",
     "status": "completed"
    },
    "tags": []
   },
   "outputs": [
    {
     "data": {
      "image/png": "[encoded data removed]",
      "text/plain": [
       "<Figure size 600x400 with 2 Axes>"
      ]
     },
     "metadata": {},
     "output_type": "display_data"
    }
   ],
   "source": [
    "# List of columns to plot\n",
    "columns_to_plot = ['Humidity', 'Play_Badminton']\n",
    "\n",
    "plot_categorical_relationships(df, columns_to_plot)"
   ]
  },
  {
   "cell_type": "markdown",
   "id": "4f6177db",
   "metadata": {
    "papermill": {
     "duration": 0.024447,
     "end_time": "2024-05-23T17:08:20.433182",
     "exception": false,
     "start_time": "2024-05-23T17:08:20.408735",
     "status": "completed"
    },
    "tags": []
   },
   "source": [
    "<div style=\"font-size: 25px; font-family: 'Roboto', sans-serif; background-color: #d5e8f9; padding: 10px; border-radius: 10px; border: 5px solid #3498db; width: 45%\">\n",
    "    <span style=\"color: #9b59b6; font-weight: 900; border: 3px solid grey;  border-radius:10px;\">I</span>\n",
    "    <span style=\"color: #e74c3c; font-weight: 900;\">n</span>\n",
    "    <span style=\"color: #1abc9c; font-weight: 900;\">s</span>\n",
    "    <span style=\"color: #8e44ad; font-weight: 900;\">i</span>\n",
    "    <span style=\"color: #f39c12; font-weight: 900;\">g</span>\n",
    "    <span style=\"color: #2ecc71; font-weight: 900;\">h</span>\n",
    "    <span style=\"color: #f1c40f; font-weight: 900;\">t</span>\n",
    "    <span style=\"color: #e67e22; font-weight: 900;\">s</span>\n",
    "    <span style=\"color: #f1c40f; font-weight: 900;\">&nbsp;</span>\n",
    "    <span style=\"color: #9b59b6; font-weight: 900; border: 3px solid grey;  border-radius:10px;\">F</span>\n",
    "    <span style=\"color: #e74c3c; font-weight: 900;\">r</span>\n",
    "    <span style=\"color: #1abc9c; font-weight: 900;\">o</span>\n",
    "    <span style=\"color: #8e44ad; font-weight: 900;\">m</span>\n",
    "    <span style=\"color: #f1c40f; font-weight: 900;\">&nbsp;</span>\n",
    "    <span style=\"color: #9b59b6; font-weight: 900; border: 3px solid grey;  border-radius:10px;\">t</span>\n",
    "    <span style=\"color: #f39c12; font-weight: 900;\">h</span>\n",
    "    <span style=\"color: #2ecc71; font-weight: 900;\">e</span>\n",
    "    <span style=\"color: #f1c40f; font-weight: 900;\">&nbsp;</span>\n",
    "    <span style=\"color: #9b59b6; font-weight: 900; border: 3px solid grey;  border-radius:10px;\">P</span>\n",
    "    <span style=\"color: #f1c40f; font-weight: 900;\">l</span>\n",
    "    <span style=\"color: #e67e22; font-weight: 900;\">o</span>\n",
    "    <span style=\"color: #e67e22; font-weight: 900;\">t</span>\n",
    "</div>\n",
    "\n",
    "> The column `Humidity` seems to have a relationship with the badminton playing column, the plot shows that:\n",
    ">\n",
    "> 1. when it's `HIGH` then there is `66.67%` chances of not playing bedminton and `33.33%` chances of playing bedminton.\n",
    "> 2. When It's `NORMAL` then there is `66.67%` chances of not plying bedminton and `33.33%` chances of playing bedminton.\n"
   ]
  },
  {
   "cell_type": "markdown",
   "id": "5ae067d2",
   "metadata": {
    "papermill": {
     "duration": 0.024192,
     "end_time": "2024-05-23T17:08:20.482273",
     "exception": false,
     "start_time": "2024-05-23T17:08:20.458081",
     "status": "completed"
    },
    "tags": []
   },
   "source": [
    "<div class=\"list-group\" id=\"list-tab\" role=\"tablist\">\n",
    "<p style=\"background-color:#20B2AA; font-family:Arial, sans-serif; color:#FFFFFF; font-size:150%; text-align:center; padding:8px; border:2px solid #FFFFFF; width: 55%; border-top-right-radius: 60px; border-bottom-left-radius: 60px;\">\n",
    " Wind and Play_Badminton Relation\n",
    "</p>\n"
   ]
  },
  {
   "cell_type": "code",
   "execution_count": 21,
   "id": "980ba7b3",
   "metadata": {
    "execution": {
     "iopub.execute_input": "2024-05-23T17:08:20.532741Z",
     "iopub.status.busy": "2024-05-23T17:08:20.532395Z",
     "iopub.status.idle": "2024-05-23T17:08:20.734153Z",
     "shell.execute_reply": "2024-05-23T17:08:20.733212Z"
    },
    "papermill": {
     "duration": 0.229621,
     "end_time": "2024-05-23T17:08:20.736469",
     "exception": false,
     "start_time": "2024-05-23T17:08:20.506848",
     "status": "completed"
    },
    "tags": []
   },
   "outputs": [
    {
     "data": {
      "image/png": "[encoded data removed]",
      "text/plain": [
       "<Figure size 600x400 with 2 Axes>"
      ]
     },
     "metadata": {},
     "output_type": "display_data"
    }
   ],
   "source": [
    "# List of columns to plot\n",
    "columns_to_plot = ['Wind', 'Play_Badminton']\n",
    "\n",
    "plot_categorical_relationships(df, columns_to_plot)"
   ]
  },
  {
   "cell_type": "markdown",
   "id": "f50d4334",
   "metadata": {
    "papermill": {
     "duration": 0.025099,
     "end_time": "2024-05-23T17:08:20.787419",
     "exception": false,
     "start_time": "2024-05-23T17:08:20.762320",
     "status": "completed"
    },
    "tags": []
   },
   "source": [
    "<div style=\"font-size: 25px; font-family: 'Roboto', sans-serif; background-color: #d5e8f9; padding: 10px; border-radius: 10px; border: 5px solid #3498db; width: 45%\">\n",
    "    <span style=\"color: #9b59b6; font-weight: 900; border: 3px solid grey;  border-radius:10px;\">I</span>\n",
    "    <span style=\"color: #e74c3c; font-weight: 900;\">n</span>\n",
    "    <span style=\"color: #1abc9c; font-weight: 900;\">s</span>\n",
    "    <span style=\"color: #8e44ad; font-weight: 900;\">i</span>\n",
    "    <span style=\"color: #f39c12; font-weight: 900;\">g</span>\n",
    "    <span style=\"color: #2ecc71; font-weight: 900;\">h</span>\n",
    "    <span style=\"color: #f1c40f; font-weight: 900;\">t</span>\n",
    "    <span style=\"color: #e67e22; font-weight: 900;\">s</span>\n",
    "    <span style=\"color: #f1c40f; font-weight: 900;\">&nbsp;</span>\n",
    "    <span style=\"color: #9b59b6; font-weight: 900; border: 3px solid grey;  border-radius:10px;\">F</span>\n",
    "    <span style=\"color: #e74c3c; font-weight: 900;\">r</span>\n",
    "    <span style=\"color: #1abc9c; font-weight: 900;\">o</span>\n",
    "    <span style=\"color: #8e44ad; font-weight: 900;\">m</span>\n",
    "    <span style=\"color: #f1c40f; font-weight: 900;\">&nbsp;</span>\n",
    "    <span style=\"color: #9b59b6; font-weight: 900; border: 3px solid grey;  border-radius:10px;\">t</span>\n",
    "    <span style=\"color: #f39c12; font-weight: 900;\">h</span>\n",
    "    <span style=\"color: #2ecc71; font-weight: 900;\">e</span>\n",
    "    <span style=\"color: #f1c40f; font-weight: 900;\">&nbsp;</span>\n",
    "    <span style=\"color: #9b59b6; font-weight: 900; border: 3px solid grey;  border-radius:10px;\">P</span>\n",
    "    <span style=\"color: #f1c40f; font-weight: 900;\">l</span>\n",
    "    <span style=\"color: #e67e22; font-weight: 900;\">o</span>\n",
    "    <span style=\"color: #e67e22; font-weight: 900;\">t</span>\n",
    "</div>\n",
    "\n",
    "> The column `WIND` seems to have a relationship with the badminton playing column, the plot shows that:\n",
    ">\n",
    "> 1. When it's `Strong` then there is `100%` chances of not playing bedminton and `0%` chances of playing bedminton.\n",
    "> 2. When It's `Weak` then there is `33.33%` chances of not plying bedminton and `66.67%` chances of playing bedminton.\n"
   ]
  },
  {
   "cell_type": "markdown",
   "id": "d8a149b6",
   "metadata": {
    "papermill": {
     "duration": 0.024868,
     "end_time": "2024-05-23T17:08:20.837331",
     "exception": false,
     "start_time": "2024-05-23T17:08:20.812463",
     "status": "completed"
    },
    "tags": []
   },
   "source": [
    "# <p  style= \"font-size: 40px;\"> 📚💡<span style=\"color: #ffffff;\">T</span><span style=\"color: #f9f9f9;\">a</span><span style=\"color: #ececec; font-weight: 900;\">s</span><span style=\"color: #dfdfdf;\">k</span> <span style=\"color: #d2d2d2;\">5</span>:  <span style=\"color: #c5c5c5;\">A</span><span style=\"color: #b8b8b8;\">p</span><span style=\"color: #ababab;\">p</span><span style=\"color: #9e9e9e;\">l</span><span style=\"color: #919191;\">y</span><span style=\"color: #848484;\">i</span><span style=\"color: #777777;\">n</span><span style=\"color: #6a6a6a; font-weight: 900;\">g</span> <span style=\"color: #5d5d5d;\">N</span><span style=\"color: #505050;\">a</span><span style=\"color: #434343;\">i</span><span style=\"color: #363636;\">v</span><span style=\"color: #292929;\">e</span><span style=\"color: #1c1c1c;\"> </span><span style=\"color: #0f0f0f;\">B</span><span style=\"color: #ffffff;\">a</span><span style=\"color: #f9f9f9;\">y</span><span style=\"color: #ececec; font-weight: 900;\">e</span><span style=\"color: #dfdfdf;\">s</span> <span style=\"color: #d2d2d2;\">A</span><span style=\"color: #c5c5c5;\">l</span><span style=\"color: #b8b8b8;\">g</span><span style=\"color: #ababab;\">o</span><span style=\"color: #9e9e9e;\">r</span><span style=\"color: #919191;\">i</span><span style=\"color: #848484;\">t</span><span style=\"color: #777777;\">h</span><span style=\"color: #6a6a6a; font-weight: 900;\">m</span>📚💡\n",
    "</p>\n"
   ]
  },
  {
   "cell_type": "markdown",
   "id": "a7913486",
   "metadata": {
    "papermill": {
     "duration": 0.024851,
     "end_time": "2024-05-23T17:08:20.887106",
     "exception": false,
     "start_time": "2024-05-23T17:08:20.862255",
     "status": "completed"
    },
    "tags": []
   },
   "source": [
    "<div class=\"list-group\" id=\"list-tab\" role=\"tablist\">\n",
    "<p style=\"background-color:#20B2AA; font-family:Arial, sans-serif; color:#FFFFFF; font-size:150%; text-align:center; padding:8px; border:2px solid #FFFFFF; width: 55%; border-top-right-radius: 60px; border-bottom-left-radius: 60px;\">\n",
    "5.1: Data Preparation for Naive Bayes\n",
    "</p>\n"
   ]
  },
  {
   "cell_type": "markdown",
   "id": "7678dbc7",
   "metadata": {
    "papermill": {
     "duration": 0.024651,
     "end_time": "2024-05-23T17:08:20.936617",
     "exception": false,
     "start_time": "2024-05-23T17:08:20.911966",
     "status": "completed"
    },
    "tags": []
   },
   "source": [
    "`Following steps will be followed for the Data Prearation for Naive Bayes phase:`\n",
    "\n",
    "1. If the dataset contains categorical variables, encode them to prepare for the Naive Bayes algorithm.\n",
    "\n",
    "2. Split the dataset into training and testing sets.\n"
   ]
  },
  {
   "cell_type": "markdown",
   "id": "aca036f7",
   "metadata": {
    "papermill": {
     "duration": 0.024759,
     "end_time": "2024-05-23T17:08:20.986309",
     "exception": false,
     "start_time": "2024-05-23T17:08:20.961550",
     "status": "completed"
    },
    "tags": []
   },
   "source": [
    "<div class=\"list-group\" id=\"list-tab\" role=\"tablist\">\n",
    "<p style=\"background-color:#20B2AA; font-family:Arial, sans-serif; color:#FFFFFF; font-size:150%; text-align:center; padding:8px; border:2px solid #FFFFFF; width: 55%; border-top-right-radius: 60px; border-bottom-left-radius: 60px;\">\n",
    "5.2: Encoding the Categorical Columns\n",
    "</p>\n"
   ]
  },
  {
   "cell_type": "code",
   "execution_count": 22,
   "id": "d29e8877",
   "metadata": {
    "execution": {
     "iopub.execute_input": "2024-05-23T17:08:21.037820Z",
     "iopub.status.busy": "2024-05-23T17:08:21.037060Z",
     "iopub.status.idle": "2024-05-23T17:08:21.043079Z",
     "shell.execute_reply": "2024-05-23T17:08:21.042194Z"
    },
    "papermill": {
     "duration": 0.034176,
     "end_time": "2024-05-23T17:08:21.045198",
     "exception": false,
     "start_time": "2024-05-23T17:08:21.011022",
     "status": "completed"
    },
    "tags": []
   },
   "outputs": [
    {
     "data": {
      "text/plain": [
       "(36, 5)"
      ]
     },
     "execution_count": 22,
     "metadata": {},
     "output_type": "execute_result"
    }
   ],
   "source": [
    "df.shape"
   ]
  },
  {
   "cell_type": "markdown",
   "id": "9e1fc4b5",
   "metadata": {
    "papermill": {
     "duration": 0.024895,
     "end_time": "2024-05-23T17:08:21.095307",
     "exception": false,
     "start_time": "2024-05-23T17:08:21.070412",
     "status": "completed"
    },
    "tags": []
   },
   "source": [
    "> `Since the dataset all columns are categorical, so we can directly give the whole dataset in the parameter of get dummies functions, and there is no need to find and making a new list of columns that are only categorical`\n"
   ]
  },
  {
   "cell_type": "code",
   "execution_count": 23,
   "id": "9f7cd7a1",
   "metadata": {
    "execution": {
     "iopub.execute_input": "2024-05-23T17:08:21.147092Z",
     "iopub.status.busy": "2024-05-23T17:08:21.146488Z",
     "iopub.status.idle": "2024-05-23T17:08:21.155335Z",
     "shell.execute_reply": "2024-05-23T17:08:21.154561Z"
    },
    "papermill": {
     "duration": 0.036931,
     "end_time": "2024-05-23T17:08:21.157316",
     "exception": false,
     "start_time": "2024-05-23T17:08:21.120385",
     "status": "completed"
    },
    "tags": []
   },
   "outputs": [],
   "source": [
    "df_encoded = pd.get_dummies(df)"
   ]
  },
  {
   "cell_type": "code",
   "execution_count": 24,
   "id": "930595c5",
   "metadata": {
    "execution": {
     "iopub.execute_input": "2024-05-23T17:08:21.209285Z",
     "iopub.status.busy": "2024-05-23T17:08:21.209003Z",
     "iopub.status.idle": "2024-05-23T17:08:21.214331Z",
     "shell.execute_reply": "2024-05-23T17:08:21.213547Z"
    },
    "papermill": {
     "duration": 0.033361,
     "end_time": "2024-05-23T17:08:21.216176",
     "exception": false,
     "start_time": "2024-05-23T17:08:21.182815",
     "status": "completed"
    },
    "tags": []
   },
   "outputs": [
    {
     "data": {
      "text/plain": [
       "(36, 12)"
      ]
     },
     "execution_count": 24,
     "metadata": {},
     "output_type": "execute_result"
    }
   ],
   "source": [
    "df_encoded.shape"
   ]
  },
  {
   "cell_type": "markdown",
   "id": "b59c005d",
   "metadata": {
    "papermill": {
     "duration": 0.024921,
     "end_time": "2024-05-23T17:08:21.266317",
     "exception": false,
     "start_time": "2024-05-23T17:08:21.241396",
     "status": "completed"
    },
    "tags": []
   },
   "source": [
    "> #### `The categorical Columns are encoded and the shape of the dataset has changed.`\n"
   ]
  },
  {
   "cell_type": "markdown",
   "id": "694ab806",
   "metadata": {
    "papermill": {
     "duration": 0.024856,
     "end_time": "2024-05-23T17:08:21.316658",
     "exception": false,
     "start_time": "2024-05-23T17:08:21.291802",
     "status": "completed"
    },
    "tags": []
   },
   "source": [
    "<div class=\"list-group\" id=\"list-tab\" role=\"tablist\">\n",
    "<p style=\"background-color:#20B2AA; font-family:Arial, sans-serif; color:#FFFFFF; font-size:150%; text-align:center; padding:8px; border:2px solid #FFFFFF; width: 50%; border-top-right-radius: 60px; border-bottom-left-radius: 60px;\">\n",
    "5.3: Spliting Dataset\n",
    "</p>\n"
   ]
  },
  {
   "cell_type": "code",
   "execution_count": 25,
   "id": "80b3b230",
   "metadata": {
    "execution": {
     "iopub.execute_input": "2024-05-23T17:08:21.368958Z",
     "iopub.status.busy": "2024-05-23T17:08:21.368129Z",
     "iopub.status.idle": "2024-05-23T17:08:21.377024Z",
     "shell.execute_reply": "2024-05-23T17:08:21.376192Z"
    },
    "papermill": {
     "duration": 0.03713,
     "end_time": "2024-05-23T17:08:21.378866",
     "exception": false,
     "start_time": "2024-05-23T17:08:21.341736",
     "status": "completed"
    },
    "tags": []
   },
   "outputs": [],
   "source": [
    "from sklearn.model_selection import train_test_split\n",
    "\n",
    "X = df_encoded.iloc[:, :-1]\n",
    "y = df_encoded.iloc[:, -1]\n",
    "\n",
    "X_train, X_test, y_train, y_test = train_test_split(X, y, test_size=0.2, random_state=42)"
   ]
  },
  {
   "cell_type": "markdown",
   "id": "c2d626c4",
   "metadata": {
    "papermill": {
     "duration": 0.02495,
     "end_time": "2024-05-23T17:08:21.429403",
     "exception": false,
     "start_time": "2024-05-23T17:08:21.404453",
     "status": "completed"
    },
    "tags": []
   },
   "source": [
    "<div class=\"list-group\" id=\"list-tab\" role=\"tablist\">\n",
    "<p style=\"background-color:#20B2AA; font-family:Arial, sans-serif; color:#FFFFFF; font-size:150%; text-align:center; padding:8px; border:2px solid #FFFFFF; width: 50%; border-top-right-radius: 60px; border-bottom-left-radius: 60px;\">\n",
    "5.4: Model Implementation and Training\n",
    "</p>\n"
   ]
  },
  {
   "cell_type": "markdown",
   "id": "398d0576",
   "metadata": {
    "papermill": {
     "duration": 0.02528,
     "end_time": "2024-05-23T17:08:21.479755",
     "exception": false,
     "start_time": "2024-05-23T17:08:21.454475",
     "status": "completed"
    },
    "tags": []
   },
   "source": [
    "> Implement the Naive Bayes algorithm using your preferred library (e.g., Scikit-learn in Python). Describe the type of Naive Bayes model you chose (e.g., Gaussian, Multinomial, Bernoulli) and why it is appropriate for your dataset.\n",
    ">\n",
    "> Train the Naive Bayes model on the training data. Provide the code and describe the key steps.\n"
   ]
  },
  {
   "cell_type": "markdown",
   "id": "0c558a55",
   "metadata": {
    "papermill": {
     "duration": 0.024846,
     "end_time": "2024-05-23T17:08:21.529799",
     "exception": false,
     "start_time": "2024-05-23T17:08:21.504953",
     "status": "completed"
    },
    "tags": []
   },
   "source": [
    "<div class=\"list-group\" id=\"list-tab\" role=\"tablist\">\n",
    "<p style=\"background-color:#20B2AA; font-family:Arial, sans-serif; color:#FFFFFF; font-size:150%; text-align:center; padding:8px; border:2px solid #FFFFFF; width: 50%; border-top-right-radius: 60px; border-bottom-left-radius: 60px;\">\n",
    "5.5: Choosing the Naive bayes Algorithm:\n",
    "</p>\n"
   ]
  },
  {
   "cell_type": "markdown",
   "id": "9a73e4e5",
   "metadata": {
    "papermill": {
     "duration": 0.024966,
     "end_time": "2024-05-23T17:08:21.579861",
     "exception": false,
     "start_time": "2024-05-23T17:08:21.554895",
     "status": "completed"
    },
    "tags": []
   },
   "source": [
    "The choice of which Naive Bayes algorithm is best for a dataset depends on several factors, including the nature of the dataset and the assumptions we're willing to make about the data.\n",
    "\n",
    "Since our dataset contains categorical features related to weather conditions and a binary target variable ('Play_Badminton'), we may consider using either Multinomial Naive Bayes or Bernoulli Naive Bayes.\n",
    "\n",
    "> However, since our features represent categories rather than word counts or frequencies (as in text classification), `Bernoulli Naive Bayes` may be more suitable for this dataset. It treats each feature as a binary variable indicating the presence or absence of a category (e.g., 'Sunny', 'Overcast', 'Rain' for 'Outlook'). Therefore, Bernoulli Naive Bayes may be the best choice for your dataset.\n"
   ]
  },
  {
   "cell_type": "markdown",
   "id": "7315ced1",
   "metadata": {
    "papermill": {
     "duration": 0.024994,
     "end_time": "2024-05-23T17:08:21.630037",
     "exception": false,
     "start_time": "2024-05-23T17:08:21.605043",
     "status": "completed"
    },
    "tags": []
   },
   "source": [
    "<div class=\"list-group\" id=\"list-tab\" role=\"tablist\">\n",
    "<p style=\"background-color:#20B2AA; font-family:Arial, sans-serif; color:#FFFFFF; font-size:150%; text-align:center; padding:8px; border:2px solid #FFFFFF; width: 50%; border-top-right-radius: 60px; border-bottom-left-radius: 60px;\">\n",
    "5.6: Model Training\n",
    "</p>\n"
   ]
  },
  {
   "cell_type": "code",
   "execution_count": 26,
   "id": "32c41da9",
   "metadata": {
    "execution": {
     "iopub.execute_input": "2024-05-23T17:08:21.682476Z",
     "iopub.status.busy": "2024-05-23T17:08:21.681506Z",
     "iopub.status.idle": "2024-05-23T17:08:21.693470Z",
     "shell.execute_reply": "2024-05-23T17:08:21.692747Z"
    },
    "papermill": {
     "duration": 0.040509,
     "end_time": "2024-05-23T17:08:21.695642",
     "exception": false,
     "start_time": "2024-05-23T17:08:21.655133",
     "status": "completed"
    },
    "tags": []
   },
   "outputs": [],
   "source": [
    "bnb_classifier = BernoulliNB()\n",
    "\n",
    "bnb_classifier.fit(X_train, y_train)\n",
    "\n",
    "y_pred = bnb_classifier.predict(X_test)\n"
   ]
  },
  {
   "cell_type": "markdown",
   "id": "46f5e847",
   "metadata": {
    "papermill": {
     "duration": 0.025126,
     "end_time": "2024-05-23T17:08:21.748472",
     "exception": false,
     "start_time": "2024-05-23T17:08:21.723346",
     "status": "completed"
    },
    "tags": []
   },
   "source": [
    "#  <p  style= \"font-size: 40px;\"> 📚💡<span style=\"color: #ffffff;\">6</span>:  <span style=\"color: #c5c5c5;\">M</span><span style=\"color: #b8b8b8;\">o</span><span style=\"color: #ababab;\">d</span><span style=\"color: #9e9e9e;\">e</span><span style=\"color: #919191;\">l</span> <span style=\"color: #848484;\">E</span><span style=\"color: #777777;\">v</span><span style=\"color: #6a6a6a; font-weight: 900;\">a</span><span style=\"color: #5d5d5d;\">l</span><span style=\"color: #505050;\">u</span><span style=\"color: #434343;\">a</span><span style=\"color: #363636;\">t</span><span style=\"color: #292929;\">i</span><span style=\"color: #1c1c1c;\">o</span><span style=\"color: #0f0f0f;\">n</span>\n",
    "</p>\n",
    "\n",
    "> Evaluate the performance of the Naive Bayes model on the test set. Use appropriate metrics such as accuracy, precision, recall, F1 score, and confusion matrix. Interpret these metrics.\n"
   ]
  },
  {
   "cell_type": "markdown",
   "id": "bcc5077c",
   "metadata": {
    "papermill": {
     "duration": 0.025041,
     "end_time": "2024-05-23T17:08:21.799036",
     "exception": false,
     "start_time": "2024-05-23T17:08:21.773995",
     "status": "completed"
    },
    "tags": []
   },
   "source": [
    "<div class=\"list-group\" id=\"list-tab\" role=\"tablist\">\n",
    "<p style=\"background-color:#20B2AA; font-family:Arial, sans-serif; color:#FFFFFF; font-size:150%; text-align:center; padding:8px; border:2px solid #FFFFFF; width: 50%; border-top-right-radius: 60px; border-bottom-left-radius: 60px;\">\n",
    "6.1: Confusion Metrics\n",
    "</p>\n"
   ]
  },
  {
   "cell_type": "code",
   "execution_count": 27,
   "id": "a821d376",
   "metadata": {
    "execution": {
     "iopub.execute_input": "2024-05-23T17:08:21.851351Z",
     "iopub.status.busy": "2024-05-23T17:08:21.850966Z",
     "iopub.status.idle": "2024-05-23T17:08:21.868810Z",
     "shell.execute_reply": "2024-05-23T17:08:21.867648Z"
    },
    "papermill": {
     "duration": 0.046308,
     "end_time": "2024-05-23T17:08:21.870718",
     "exception": false,
     "start_time": "2024-05-23T17:08:21.824410",
     "status": "completed"
    },
    "tags": []
   },
   "outputs": [
    {
     "name": "stdout",
     "output_type": "stream",
     "text": [
      "Accuracy: 1.0\n",
      "Precision: 1.0\n",
      "Recall: 1.0\n",
      "F1 Score: 1.0\n",
      "Confusion Matrix:\n",
      "[[5 0]\n",
      " [0 3]]\n"
     ]
    }
   ],
   "source": [
    "# Calculate accuracy\n",
    "accuracy = accuracy_score(y_test, y_pred)\n",
    "print(\"Accuracy:\", accuracy)\n",
    "\n",
    "# Calculate precision\n",
    "precision = precision_score(y_test, y_pred)\n",
    "print(\"Precision:\", precision)\n",
    "\n",
    "# Calculate recall\n",
    "recall = recall_score(y_test, y_pred)\n",
    "print(\"Recall:\", recall)\n",
    "\n",
    "# Calculate F1 score\n",
    "f1 = f1_score(y_test, y_pred)\n",
    "print(\"F1 Score:\", f1)\n",
    "\n",
    "# Calculate confusion matrix\n",
    "conf_matrix = confusion_matrix(y_test, y_pred)\n",
    "print(\"Confusion Matrix:\")\n",
    "print(conf_matrix)\n"
   ]
  },
  {
   "cell_type": "markdown",
   "id": "59dbdd8c",
   "metadata": {
    "papermill": {
     "duration": 0.025605,
     "end_time": "2024-05-23T17:08:21.922442",
     "exception": false,
     "start_time": "2024-05-23T17:08:21.896837",
     "status": "completed"
    },
    "tags": []
   },
   "source": [
    "<div class=\"list-group\" id=\"list-tab\" role=\"tablist\">\n",
    "<p style=\"background-color:#20B2AA; font-family:Arial, sans-serif; color:#FFFFFF; font-size:150%; text-align:center; padding:8px; border:2px solid #FFFFFF; width: 50%; border-top-right-radius: 60px; border-bottom-left-radius: 60px;\">\n",
    "6.2: Printing confusion metrics\n",
    "</p>\n"
   ]
  },
  {
   "cell_type": "code",
   "execution_count": 28,
   "id": "75acc3aa",
   "metadata": {
    "execution": {
     "iopub.execute_input": "2024-05-23T17:08:21.975277Z",
     "iopub.status.busy": "2024-05-23T17:08:21.974587Z",
     "iopub.status.idle": "2024-05-23T17:08:22.170629Z",
     "shell.execute_reply": "2024-05-23T17:08:22.169416Z"
    },
    "papermill": {
     "duration": 0.226698,
     "end_time": "2024-05-23T17:08:22.174675",
     "exception": false,
     "start_time": "2024-05-23T17:08:21.947977",
     "status": "completed"
    },
    "tags": []
   },
   "outputs": [
    {
     "data": {
      "image/png": "[encoded data removed]",
      "text/plain": [
       "<Figure size 600x400 with 2 Axes>"
      ]
     },
     "metadata": {},
     "output_type": "display_data"
    }
   ],
   "source": [
    "plt.figure(figsize=(6, 4))\n",
    "sns.heatmap(conf_matrix, annot=True, cmap=\"Blues\", fmt=\"d\",\n",
    "            xticklabels=['Predicted 0', 'Predicted 1'], yticklabels=['Actual 0', 'Actual 1'])\n",
    "plt.xlabel('Predicted Label')\n",
    "plt.ylabel('True Label')\n",
    "plt.title('Confusion Matrix')\n",
    "plt.show()"
   ]
  },
  {
   "cell_type": "markdown",
   "id": "10debb87",
   "metadata": {
    "papermill": {
     "duration": 0.028468,
     "end_time": "2024-05-23T17:08:22.231032",
     "exception": false,
     "start_time": "2024-05-23T17:08:22.202564",
     "status": "completed"
    },
    "tags": []
   },
   "source": [
    "<div class=\"list-group\" id=\"list-tab\" role=\"tablist\">\n",
    "<p style=\"background-color:#20B2AA; font-family:Arial, sans-serif; color:#FFFFFF; font-size:150%; text-align:center; padding:8px; border:2px solid #FFFFFF; width: 50%; border-top-right-radius: 60px; border-bottom-left-radius: 60px;\">\n",
    "6.3: Interpretations of the Metrics:\n",
    "</p>\n",
    "\n",
    "The evaluation metrics for the model are exceptional, with all metrics (accuracy, precision, recall, and F1 score) achieving perfect scores of 1.0. This indicates that the model has successfully classified all instances in the test set without any errors.\n",
    "\n",
    "The confusion matrix further confirms this outstanding performance, showing that there are no misclassifications. Specifically, there are 5 instances correctly classified as negative (True Negatives) and 3 instances correctly classified as positive (True Positives), with no false positives or false negatives.\n",
    "\n",
    "> In summary, the model demonstrates flawless performance on the test data, achieving perfect accuracy, precision, recall, and F1 score. This suggests that the model has learned the underlying patterns in the data extremely well and can make highly accurate predictions across both positive and negative classes.\n"
   ]
  },
  {
   "cell_type": "markdown",
   "id": "b673e705",
   "metadata": {
    "papermill": {
     "duration": 0.030713,
     "end_time": "2024-05-23T17:08:22.292204",
     "exception": false,
     "start_time": "2024-05-23T17:08:22.261491",
     "status": "completed"
    },
    "tags": []
   },
   "source": [
    "<center>\n",
    "<div style=\" margin-top: 20px; padding: 20px; background:#f68084; border-radius: 15px; width: 60%;\">\n",
    "    🤞🤞🤞<p style=\"font-size: 20px; color: black; font-weight: bold; margin-bottom: 10px;text-align: center;\">\n",
    "       🥰🥰 Thank you for exploring my Analysis🥰🥰\n",
    "    </p>\n",
    "    <p style=\"font-size: 20px; color: #fff; font-weight: bold;text-align: center;\">\n",
    "        🥰🥰Please honor me by Upvoting the kernel🥰🥰\n",
    "    </p>🤞🤞🤞\n",
    "</div>\n",
    "</center>\n"
   ]
  }
 ],
 "metadata": {
  "kaggle": {
   "accelerator": "gpu",
   "dataSources": [
    {
     "datasetId": 3759,
     "sourceId": 5944,
     "sourceType": "datasetVersion"
    },
    {
     "datasetId": 6087,
     "sourceId": 8975,
     "sourceType": "datasetVersion"
    },
    {
     "datasetId": 9873,
     "sourceId": 18705,
     "sourceType": "datasetVersion"
    },
    {
     "datasetId": 482792,
     "sourceId": 901570,
     "sourceType": "datasetVersion"
    },
    {
     "datasetId": 1868601,
     "sourceId": 3051857,
     "sourceType": "datasetVersion"
    },
    {
     "datasetId": 2184323,
     "sourceId": 3647717,
     "sourceType": "datasetVersion"
    },
    {
     "datasetId": 3601135,
     "sourceId": 6406758,
     "sourceType": "datasetVersion"
    },
    {
     "datasetId": 845794,
     "sourceId": 6881116,
     "sourceType": "datasetVersion"
    },
    {
     "datasetId": 2459900,
     "sourceId": 7809995,
     "sourceType": "datasetVersion"
    },
    {
     "datasetId": 4702869,
     "sourceId": 7988898,
     "sourceType": "datasetVersion"
    },
    {
     "datasetId": 4735977,
     "sourceId": 8034311,
     "sourceType": "datasetVersion"
    }
   ],
   "dockerImageVersionId": 30699,
   "isGpuEnabled": true,
   "isInternetEnabled": true,
   "language": "python",
   "sourceType": "notebook"
  },
  "kernelspec": {
   "display_name": "Python 3",
   "language": "python",
   "name": "python3"
  },
  "language_info": {
   "codemirror_mode": {
    "name": "ipython",
    "version": 3
   },
   "file_extension": ".py",
   "mimetype": "text/x-python",
   "name": "python",
   "nbconvert_exporter": "python",
   "pygments_lexer": "ipython3",
   "version": "3.10.13"
  },
  "papermill": {
   "default_parameters": {},
   "duration": 12.524245,
   "end_time": "2024-05-23T17:08:22.741647",
   "environment_variables": {},
   "exception": null,
   "input_path": "__notebook__.ipynb",
   "output_path": "__notebook__.ipynb",
   "parameters": {},
   "start_time": "2024-05-23T17:08:10.217402",
   "version": "2.5.0"
  }
 },
 "nbformat": 4,
 "nbformat_minor": 5
}
