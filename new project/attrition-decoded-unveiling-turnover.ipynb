{
 "cells": [
  {
   "cell_type": "markdown",
   "id": "273099da",
   "metadata": {
    "papermill": {
     "duration": 0.009871,
     "end_time": "2024-04-28T09:11:50.003098",
     "exception": false,
     "start_time": "2024-04-28T09:11:49.993227",
     "status": "completed"
    },
    "tags": []
   },
   "source": [
    "<div style=\"\n",
    "  background-color: #0D0D0D;\n",
    "  color: #FFFFFF;\n",
    "  font-family: 'Roboto', sans-serif;\n",
    "  font-size: 26px;\n",
    "  padding: 10px;\n",
    "  margin: 0px 0 0 0px;\n",
    "  border-radius: 15px;\n",
    "  border: none;\n",
    "  box-shadow: 0 0 20px rgba(255, 255, 255, 0.2);\n",
    "  width: 550px;\n",
    "  text-align: center;\n",
    "\">\n",
    "  <h2 style=\"margin: 0;\">HR Analytics Analysis</h2>\n",
    "</div>\n"
   ]
  },
  {
   "cell_type": "markdown",
   "id": "795901b3",
   "metadata": {
    "papermill": {
     "duration": 0.00977,
     "end_time": "2024-04-28T09:11:50.023420",
     "exception": false,
     "start_time": "2024-04-28T09:11:50.013650",
     "status": "completed"
    },
    "tags": []
   },
   "source": [
    "<div style=\"\n",
    "  background-color: #0D0D0D;\n",
    "  color: #FFFFFF;\n",
    "  font-family: 'Roboto', sans-serif;\n",
    "  font-size: 20px;\n",
    "  padding: 10px;\n",
    "  margin: 0px 0 0 0px;\n",
    "  border-radius: 15px;\n",
    "  border: none;\n",
    "  box-shadow: 0 0 20px rgba(255, 255, 255, 0.2);\n",
    "  width: 740px;\n",
    "  text-align: center;\n",
    "\">\n",
    "  <h2 style=\"margin: 0;\"> 🌟 Welcome to My Notebook! 📓Dive into the Journey of Knowledge 🚀 </h2>\n",
    "</div>\n"
   ]
  },
  {
   "cell_type": "markdown",
   "id": "191fadd5",
   "metadata": {
    "papermill": {
     "duration": 0.008945,
     "end_time": "2024-04-28T09:11:50.041852",
     "exception": false,
     "start_time": "2024-04-28T09:11:50.032907",
     "status": "completed"
    },
    "tags": []
   },
   "source": [
    "<div style=\"\n",
    "  background-color: #0D0D0D;\n",
    "  color: #FFFFFF;\n",
    "  font-family: 'Roboto', sans-serif;\n",
    "  font-size: 18px;\n",
    "  padding: 10px;\n",
    "  margin: 0px 0 0 0px;\n",
    "  border-radius: 15px;\n",
    "  border: none;\n",
    "  box-shadow: 0 0 20px rgba(255, 255, 255, 0.2);\n",
    "  width: 740px;\n",
    "  text-align: left;\n",
    "\">\n",
    "  <h2 style=\"margin: 0;\">If you find this notebook helpful please appreciate it</h2>\n",
    "</div>\n"
   ]
  },
  {
   "cell_type": "code",
   "execution_count": 1,
   "id": "30b8935a",
   "metadata": {
    "execution": {
     "iopub.execute_input": "2024-04-28T09:11:50.066128Z",
     "iopub.status.busy": "2024-04-28T09:11:50.065223Z",
     "iopub.status.idle": "2024-04-28T09:11:54.936378Z",
     "shell.execute_reply": "2024-04-28T09:11:54.934757Z"
    },
    "papermill": {
     "duration": 4.88768,
     "end_time": "2024-04-28T09:11:54.939740",
     "exception": false,
     "start_time": "2024-04-28T09:11:50.052060",
     "status": "completed"
    },
    "tags": []
   },
   "outputs": [],
   "source": [
    "import plotly.express as px\n",
    "import plotly.graph_objects as go\n",
    "from plotly.offline import iplot\n",
    "from sklearn.linear_model import LinearRegression\n",
    "from sklearn.model_selection import train_test_split\n",
    "from sklearn.preprocessing import LabelEncoder\n",
    "from sklearn.cluster import KMeans\n",
    "from plotly.subplots import make_subplots\n",
    "import pandas as pd\n",
    "import numpy as np"
   ]
  },
  {
   "cell_type": "code",
   "execution_count": 2,
   "id": "67a3d43b",
   "metadata": {
    "execution": {
     "iopub.execute_input": "2024-04-28T09:11:54.962299Z",
     "iopub.status.busy": "2024-04-28T09:11:54.961532Z",
     "iopub.status.idle": "2024-04-28T09:11:55.048579Z",
     "shell.execute_reply": "2024-04-28T09:11:55.047107Z"
    },
    "papermill": {
     "duration": 0.100897,
     "end_time": "2024-04-28T09:11:55.051213",
     "exception": false,
     "start_time": "2024-04-28T09:11:54.950316",
     "status": "completed"
    },
    "tags": []
   },
   "outputs": [
    {
     "data": {
      "text/html": [
       "<div>\n",
       "<style scoped>\n",
       "    .dataframe tbody tr th:only-of-type {\n",
       "        vertical-align: middle;\n",
       "    }\n",
       "\n",
       "    .dataframe tbody tr th {\n",
       "        vertical-align: top;\n",
       "    }\n",
       "\n",
       "    .dataframe thead th {\n",
       "        text-align: right;\n",
       "    }\n",
       "</style>\n",
       "<table border=\"1\" class=\"dataframe\">\n",
       "  <thead>\n",
       "    <tr style=\"text-align: right;\">\n",
       "      <th></th>\n",
       "      <th>Age</th>\n",
       "      <th>Attrition</th>\n",
       "      <th>BusinessTravel</th>\n",
       "      <th>DailyRate</th>\n",
       "      <th>Department</th>\n",
       "      <th>DistanceFromHome</th>\n",
       "      <th>Education</th>\n",
       "      <th>EducationField</th>\n",
       "      <th>EmployeeCount</th>\n",
       "      <th>EmployeeNumber</th>\n",
       "      <th>...</th>\n",
       "      <th>RelationshipSatisfaction</th>\n",
       "      <th>StandardHours</th>\n",
       "      <th>StockOptionLevel</th>\n",
       "      <th>TotalWorkingYears</th>\n",
       "      <th>TrainingTimesLastYear</th>\n",
       "      <th>WorkLifeBalance</th>\n",
       "      <th>YearsAtCompany</th>\n",
       "      <th>YearsInCurrentRole</th>\n",
       "      <th>YearsSinceLastPromotion</th>\n",
       "      <th>YearsWithCurrManager</th>\n",
       "    </tr>\n",
       "  </thead>\n",
       "  <tbody>\n",
       "    <tr>\n",
       "      <th>0</th>\n",
       "      <td>41</td>\n",
       "      <td>Yes</td>\n",
       "      <td>Travel_Rarely</td>\n",
       "      <td>1102</td>\n",
       "      <td>Sales</td>\n",
       "      <td>1</td>\n",
       "      <td>2</td>\n",
       "      <td>Life Sciences</td>\n",
       "      <td>1</td>\n",
       "      <td>1</td>\n",
       "      <td>...</td>\n",
       "      <td>1</td>\n",
       "      <td>80</td>\n",
       "      <td>0</td>\n",
       "      <td>8</td>\n",
       "      <td>0</td>\n",
       "      <td>1</td>\n",
       "      <td>6</td>\n",
       "      <td>4</td>\n",
       "      <td>0</td>\n",
       "      <td>5</td>\n",
       "    </tr>\n",
       "    <tr>\n",
       "      <th>1</th>\n",
       "      <td>49</td>\n",
       "      <td>No</td>\n",
       "      <td>Travel_Frequently</td>\n",
       "      <td>279</td>\n",
       "      <td>Research &amp; Development</td>\n",
       "      <td>8</td>\n",
       "      <td>1</td>\n",
       "      <td>Life Sciences</td>\n",
       "      <td>1</td>\n",
       "      <td>2</td>\n",
       "      <td>...</td>\n",
       "      <td>4</td>\n",
       "      <td>80</td>\n",
       "      <td>1</td>\n",
       "      <td>10</td>\n",
       "      <td>3</td>\n",
       "      <td>3</td>\n",
       "      <td>10</td>\n",
       "      <td>7</td>\n",
       "      <td>1</td>\n",
       "      <td>7</td>\n",
       "    </tr>\n",
       "    <tr>\n",
       "      <th>2</th>\n",
       "      <td>37</td>\n",
       "      <td>Yes</td>\n",
       "      <td>Travel_Rarely</td>\n",
       "      <td>1373</td>\n",
       "      <td>Research &amp; Development</td>\n",
       "      <td>2</td>\n",
       "      <td>2</td>\n",
       "      <td>Other</td>\n",
       "      <td>1</td>\n",
       "      <td>4</td>\n",
       "      <td>...</td>\n",
       "      <td>2</td>\n",
       "      <td>80</td>\n",
       "      <td>0</td>\n",
       "      <td>7</td>\n",
       "      <td>3</td>\n",
       "      <td>3</td>\n",
       "      <td>0</td>\n",
       "      <td>0</td>\n",
       "      <td>0</td>\n",
       "      <td>0</td>\n",
       "    </tr>\n",
       "    <tr>\n",
       "      <th>3</th>\n",
       "      <td>33</td>\n",
       "      <td>No</td>\n",
       "      <td>Travel_Frequently</td>\n",
       "      <td>1392</td>\n",
       "      <td>Research &amp; Development</td>\n",
       "      <td>3</td>\n",
       "      <td>4</td>\n",
       "      <td>Life Sciences</td>\n",
       "      <td>1</td>\n",
       "      <td>5</td>\n",
       "      <td>...</td>\n",
       "      <td>3</td>\n",
       "      <td>80</td>\n",
       "      <td>0</td>\n",
       "      <td>8</td>\n",
       "      <td>3</td>\n",
       "      <td>3</td>\n",
       "      <td>8</td>\n",
       "      <td>7</td>\n",
       "      <td>3</td>\n",
       "      <td>0</td>\n",
       "    </tr>\n",
       "    <tr>\n",
       "      <th>4</th>\n",
       "      <td>27</td>\n",
       "      <td>No</td>\n",
       "      <td>Travel_Rarely</td>\n",
       "      <td>591</td>\n",
       "      <td>Research &amp; Development</td>\n",
       "      <td>2</td>\n",
       "      <td>1</td>\n",
       "      <td>Medical</td>\n",
       "      <td>1</td>\n",
       "      <td>7</td>\n",
       "      <td>...</td>\n",
       "      <td>4</td>\n",
       "      <td>80</td>\n",
       "      <td>1</td>\n",
       "      <td>6</td>\n",
       "      <td>3</td>\n",
       "      <td>3</td>\n",
       "      <td>2</td>\n",
       "      <td>2</td>\n",
       "      <td>2</td>\n",
       "      <td>2</td>\n",
       "    </tr>\n",
       "  </tbody>\n",
       "</table>\n",
       "<p>5 rows × 35 columns</p>\n",
       "</div>"
      ],
      "text/plain": [
       "   Age Attrition     BusinessTravel  DailyRate              Department  \\\n",
       "0   41       Yes      Travel_Rarely       1102                   Sales   \n",
       "1   49        No  Travel_Frequently        279  Research & Development   \n",
       "2   37       Yes      Travel_Rarely       1373  Research & Development   \n",
       "3   33        No  Travel_Frequently       1392  Research & Development   \n",
       "4   27        No      Travel_Rarely        591  Research & Development   \n",
       "\n",
       "   DistanceFromHome  Education EducationField  EmployeeCount  EmployeeNumber  \\\n",
       "0                 1          2  Life Sciences              1               1   \n",
       "1                 8          1  Life Sciences              1               2   \n",
       "2                 2          2          Other              1               4   \n",
       "3                 3          4  Life Sciences              1               5   \n",
       "4                 2          1        Medical              1               7   \n",
       "\n",
       "   ...  RelationshipSatisfaction StandardHours  StockOptionLevel  \\\n",
       "0  ...                         1            80                 0   \n",
       "1  ...                         4            80                 1   \n",
       "2  ...                         2            80                 0   \n",
       "3  ...                         3            80                 0   \n",
       "4  ...                         4            80                 1   \n",
       "\n",
       "   TotalWorkingYears  TrainingTimesLastYear WorkLifeBalance  YearsAtCompany  \\\n",
       "0                  8                      0               1               6   \n",
       "1                 10                      3               3              10   \n",
       "2                  7                      3               3               0   \n",
       "3                  8                      3               3               8   \n",
       "4                  6                      3               3               2   \n",
       "\n",
       "  YearsInCurrentRole  YearsSinceLastPromotion  YearsWithCurrManager  \n",
       "0                  4                        0                     5  \n",
       "1                  7                        1                     7  \n",
       "2                  0                        0                     0  \n",
       "3                  7                        3                     0  \n",
       "4                  2                        2                     2  \n",
       "\n",
       "[5 rows x 35 columns]"
      ]
     },
     "execution_count": 2,
     "metadata": {},
     "output_type": "execute_result"
    }
   ],
   "source": [
    "df = pd.read_csv('/kaggle/input/ibm-hr-analytics-attrition-dataset/WA_Fn-UseC_-HR-Employee-Attrition.csv')\n",
    "df.head()"
   ]
  },
  {
   "cell_type": "code",
   "execution_count": 3,
   "id": "f2764bc1",
   "metadata": {
    "execution": {
     "iopub.execute_input": "2024-04-28T09:11:55.072880Z",
     "iopub.status.busy": "2024-04-28T09:11:55.072225Z",
     "iopub.status.idle": "2024-04-28T09:11:55.082510Z",
     "shell.execute_reply": "2024-04-28T09:11:55.080684Z"
    },
    "papermill": {
     "duration": 0.024607,
     "end_time": "2024-04-28T09:11:55.085349",
     "exception": false,
     "start_time": "2024-04-28T09:11:55.060742",
     "status": "completed"
    },
    "tags": []
   },
   "outputs": [
    {
     "data": {
      "text/plain": [
       "Index(['Age', 'Attrition', 'BusinessTravel', 'DailyRate', 'Department',\n",
       "       'DistanceFromHome', 'Education', 'EducationField', 'EmployeeCount',\n",
       "       'EmployeeNumber', 'EnvironmentSatisfaction', 'Gender', 'HourlyRate',\n",
       "       'JobInvolvement', 'JobLevel', 'JobRole', 'JobSatisfaction',\n",
       "       'MaritalStatus', 'MonthlyIncome', 'MonthlyRate', 'NumCompaniesWorked',\n",
       "       'Over18', 'OverTime', 'PercentSalaryHike', 'PerformanceRating',\n",
       "       'RelationshipSatisfaction', 'StandardHours', 'StockOptionLevel',\n",
       "       'TotalWorkingYears', 'TrainingTimesLastYear', 'WorkLifeBalance',\n",
       "       'YearsAtCompany', 'YearsInCurrentRole', 'YearsSinceLastPromotion',\n",
       "       'YearsWithCurrManager'],\n",
       "      dtype='object')"
      ]
     },
     "execution_count": 3,
     "metadata": {},
     "output_type": "execute_result"
    }
   ],
   "source": [
    "df.columns"
   ]
  },
  {
   "cell_type": "code",
   "execution_count": 4,
   "id": "e069cac7",
   "metadata": {
    "execution": {
     "iopub.execute_input": "2024-04-28T09:11:55.107718Z",
     "iopub.status.busy": "2024-04-28T09:11:55.107310Z",
     "iopub.status.idle": "2024-04-28T09:11:55.120818Z",
     "shell.execute_reply": "2024-04-28T09:11:55.118031Z"
    },
    "papermill": {
     "duration": 0.029181,
     "end_time": "2024-04-28T09:11:55.124257",
     "exception": false,
     "start_time": "2024-04-28T09:11:55.095076",
     "status": "completed"
    },
    "tags": []
   },
   "outputs": [
    {
     "name": "stdout",
     "output_type": "stream",
     "text": [
      "Columns with null values and their counts:\n",
      "Series([], dtype: int64)\n"
     ]
    }
   ],
   "source": [
    "null_counts = df.isnull().sum()\n",
    "\n",
    "columns_with_null = null_counts[null_counts > 0]        \n",
    "\n",
    "print(\"Columns with null values and their counts:\")\n",
    "print(columns_with_null)"
   ]
  },
  {
   "cell_type": "markdown",
   "id": "3d3092ad",
   "metadata": {
    "papermill": {
     "duration": 0.010014,
     "end_time": "2024-04-28T09:11:55.144829",
     "exception": false,
     "start_time": "2024-04-28T09:11:55.134815",
     "status": "completed"
    },
    "tags": []
   },
   "source": [
    "<div style=\"\n",
    "  background-color: #0D0D0D;\n",
    "  color: #FFFFFF;\n",
    "  font-family: 'Roboto', sans-serif;\n",
    "  font-size: 22px;\n",
    "  padding: 10px;\n",
    "  margin: 0px 0 0 0px;\n",
    "  border-radius: 15px;\n",
    "  border: none;\n",
    "  box-shadow: 0 0 20px rgba(255, 255, 255, 0.2);\n",
    "  width: 865px;\n",
    "  text-align: left;\n",
    "\">\n",
    "  <h2 style=\"margin: 0;\">Attrition rate among departments of different ages</h2>\n",
    "</div>\n"
   ]
  },
  {
   "cell_type": "code",
   "execution_count": 5,
   "id": "312bed0c",
   "metadata": {
    "execution": {
     "iopub.execute_input": "2024-04-28T09:11:55.169365Z",
     "iopub.status.busy": "2024-04-28T09:11:55.168845Z",
     "iopub.status.idle": "2024-04-28T09:11:55.786598Z",
     "shell.execute_reply": "2024-04-28T09:11:55.784944Z"
    },
    "papermill": {
     "duration": 0.633659,
     "end_time": "2024-04-28T09:11:55.790295",
     "exception": false,
     "start_time": "2024-04-28T09:11:55.156636",
     "status": "completed"
    },
    "tags": []
   },
   "outputs": [
    {
     "data": {
      "text/html": [
       "        <script type=\"text/javascript\">\n",
       "        window.PlotlyConfig = {MathJaxConfig: 'local'};\n",
       "        if (window.MathJax && window.MathJax.Hub && window.MathJax.Hub.Config) {window.MathJax.Hub.Config({SVG: {font: \"STIX-Web\"}});}\n",
       "        if (typeof require !== 'undefined') {\n",
       "        require.undef(\"plotly\");\n",
       "        requirejs.config({\n",
       "            paths: {\n",
       "                'plotly': ['https://cdn.plot.ly/plotly-2.27.0.min']\n",
       "            }\n",
       "        });\n",
       "        require(['plotly'], function(Plotly) {\n",
       "            window._Plotly = Plotly;\n",
       "        });\n",
       "        }\n",
       "        </script>\n",
       "        "
      ]
     },
     "metadata": {},
     "output_type": "display_data"
    },
    {
     "data": {
      "text/html": [
       "<div>                            <div id=\"2d3d9dfe-50ab-48d5-a41b-37705512e5a4\" class=\"plotly-graph-div\" style=\"height:525px; width:100%;\"></div>            <script type=\"text/javascript\">                require([\"plotly\"], function(Plotly) {                    window.PLOTLYENV=window.PLOTLYENV || {};                                    if (document.getElementById(\"2d3d9dfe-50ab-48d5-a41b-37705512e5a4\")) {                    Plotly.newPlot(                        \"2d3d9dfe-50ab-48d5-a41b-37705512e5a4\",                        [{\"hovertemplate\":\"\\u003cb\\u003eAge\\u003c\\u002fb\\u003e: %{x} \\u003cbr\\u003e \\u003cb\\u003eDepartment\\u003c\\u002fb\\u003e: %{y} \\u003cbr\\u003e \\u003cb\\u003eAttrition\\u003c\\u002fb\\u003e: %{z}\",\"marker\":{\"color\":[41,49,37,33,27,32,59,30,38,36,35,29,31,34,28,29,32,22,53,38,24,36,34,21,34,53,32,42,44,46,33,44,30,39,24,43,50,35,36,33,35,27,26,27,30,41,34,37,46,35,48,28,44,35,26,33,35,35,31,37,32,38,50,59,36,55,36,45,35,36,59,29,31,32,36,31,35,45,37,46,30,35,55,38,34,56,23,51,30,46,40,51,30,46,32,54,24,28,58,44,37,32,20,34,37,59,50,25,25,22,51,34,54,24,34,37,34,36,36,43,30,33,56,51,31,26,58,19,22,49,43,50,31,41,26,36,51,39,25,30,32,45,38,30,32,30,30,41,41,19,40,35,53,45,32,29,51,58,40,34,22,27,28,57,27,50,41,30,38,32,27,19,36,30,45,56,33,19,46,38,31,34,41,50,53,33,40,55,34,51,52,27,35,43,45,37,35,42,38,38,27,49,34,40,38,29,22,36,40,46,32,30,27,51,30,41,30,29,45,54,36,33,37,38,31,59,37,29,35,29,52,42,59,50,33,43,33,52,32,32,39,32,41,40,45,31,33,34,37,45,37,39,29,42,29,25,42,40,51,31,32,38,32,46,28,29,31,25,45,36,55,47,28,37,21,37,35,38,26,50,53,42,29,55,26,37,44,38,26,28,49,36,31,26,37,42,18,35,36,51,41,18,28,31,39,36,32,38,58,31,31,45,31,33,39,43,49,52,27,32,27,31,32,28,30,31,39,39,33,47,43,27,54,43,45,40,29,29,30,27,37,38,31,29,35,23,41,47,42,29,42,32,48,37,30,26,42,21,36,36,57,40,21,33,37,46,41,50,40,31,21,29,35,27,28,49,51,36,34,55,24,30,26,22,36,30,37,40,42,37,43,40,54,34,31,43,43,25,37,31,39,56,30,41,28,25,52,45,52,42,30,60,46,42,24,34,38,40,26,30,29,29,19,30,57,50,30,60,47,46,35,54,34,46,31,33,33,30,35,31,34,42,36,22,48,55,41,35,40,39,31,42,45,26,29,33,31,18,40,41,26,35,34,26,37,46,41,37,52,32,24,38,37,49,24,26,24,50,25,24,30,34,31,35,31,27,37,20,42,43,38,43,48,44,34,27,21,44,22,33,32,30,53,34,45,26,37,29,35,33,54,36,27,20,33,35,23,25,38,29,48,27,37,50,34,24,39,32,50,38,27,32,47,40,53,41,60,27,41,50,28,36,38,44,47,30,29,42,43,34,23,39,56,40,27,29,53,35,32,38,34,52,33,25,45,23,47,34,55,36,52,26,29,26,34,54,27,37,38,34,35,30,40,34,42,23,24,52,50,29,33,33,47,36,29,58,35,42,28,36,32,40,30,45,42,38,34,49,55,43,27,35,28,34,26,27,51,44,25,33,35,36,32,30,53,45,32,52,37,28,22,44,42,36,25,35,35,32,25,49,24,32,38,42,31,29,53,35,37,53,43,47,37,50,39,33,32,29,44,28,58,43,20,21,36,47,22,41,28,39,27,34,42,33,58,31,35,49,48,31,36,38,32,25,40,26,41,36,19,20,31,40,32,36,33,37,45,29,35,52,58,53,30,38,35,39,40,47,36,31,33,29,33,45,50,33,41,27,45,47,30,50,38,46,24,35,31,18,54,35,30,20,30,26,22,48,48,41,39,27,35,42,50,59,37,55,41,38,26,52,44,50,36,39,33,45,32,34,59,45,53,36,26,34,28,38,50,37,40,26,46,54,56,36,55,43,20,21,46,51,28,26,30,41,38,40,27,55,28,44,33,35,33,28,34,37,25,26,33,42,28,50,33,34,48,45,52,38,29,28,46,38,43,39,40,21,39,36,31,28,35,49,34,29,42,29,38,28,18,33,41,31,37,27,34,35,29,40,42,42,35,24,28,26,30,40,35,34,35,43,32,56,29,19,45,37,20,44,53,29,22,46,44,33,41,30,40,50,28,46,35,24,33,36,30,44,20,46,42,60,32,32,36,33,40,25,30,42,35,27,54,44,19,29,54,31,31,59,43,49,36,48,27,29,48,29,34,44,33,19,23,25,26,45,55,21,46,34,51,59,34,28,44,34,35,42,43,36,44,28,51,30,29,28,25,32,45,39,58,32,39,30,36,46,28,50,40,52,30,39,31,41,31,44,42,55,56,40,34,40,41,35,51,38,34,25,58,40,36,48,27,51,18,35,27,55,56,34,40,34,31,35,38,34,28,31,39,51,41,37,33,32,39,25,52,43,27,27,26,42,52,37,35,25,26,29,49,29,54,58,55,36,31,30,31,34,31,27,36,36,47,25,37,56,47,24,32,34,41,40,31,46,39,31,45,31,31,45,48,34,40,28,44,53,49,40,44,33,34,30,42,44,30,57,49,34,28,29,34,35,24,24,44,29,30,55,33,47,28,28,28,49,29,28,33,32,54,29,44,39,46,35,23,40,34,31,50,34,42,37,29,33,45,42,40,33,40,24,40,45,35,32,36,48,29,33,30,38,35,30,35,53,38,32,48,34,55,34,26,38,38,36,29,35,39,29,50,23,36,42,35,34,40,43,35,46,28,22,50,32,44,30,45,45,31,36,34,49,39,27,35,28,21,18,47,39,40,35,37,39,45,38,35,37,40,44,48,35,24,27,27,40,29,36,25,39,49,50,20,34,36,49,36,36,54,43,35,38,29,33,32,31,49,38,47,49,41,20,33,36,44,23,38,53,48,32,26,55,34,60,33,37,34,23,44,35,43,24,41,29,36,45,24,47,26,45,32,31,41,40,24,46,35,30,47,46,36,32,23,31,39,32,40,45,30,24,30,31,27,29,29,30,34,33,49,33,38,31,29,30,32,38,43,42,55,33,41,34,53,43,34,21,38,22,31,51,37,46,36,44,37,35,33,28,39,46,40,42,35,38,34,37,39,43,41,41,30,26,46,40,34,58,35,47,40,54,31,28,38,26,58,18,31,29,45,36,43,27,29,32,42,47,46,28,29,42,32,46,27,29,43,48,29,46,27,39,55,28,30,22,36,31,34,29,37,35,45,36,40,26,27,48,44,34,56,36,41,42,31,34,31,26,45,33,28,29,39,27,34,28,47,56,39,38,58,32,38,49,42,27,35,28,31,36,34,34,26,29,32,31,28,38,35,27,32,31,53,54,33,43,38,55,31,39,42,31,54,24,23,40,40,25,30,25,47,33,38,31,38,42,41,47,35,22,35,33,32,40,32,39,38,32,37,25,52,44,21,39,23,36,36,56,29,42,56,41,34,36,41,32,35,38,50,36,45,40,35,40,35,29,29,50,39,31,26,36,39,27,49,34],\"colorscale\":[[0.0,\"#440154\"],[0.1111111111111111,\"#482878\"],[0.2222222222222222,\"#3e4989\"],[0.3333333333333333,\"#31688e\"],[0.4444444444444444,\"#26828e\"],[0.5555555555555556,\"#1f9e89\"],[0.6666666666666666,\"#35b779\"],[0.7777777777777778,\"#6ece58\"],[0.8888888888888888,\"#b5de2b\"],[1.0,\"#fde725\"]],\"opacity\":0.8,\"size\":12},\"mode\":\"markers\",\"x\":[41,49,37,33,27,32,59,30,38,36,35,29,31,34,28,29,32,22,53,38,24,36,34,21,34,53,32,42,44,46,33,44,30,39,24,43,50,35,36,33,35,27,26,27,30,41,34,37,46,35,48,28,44,35,26,33,35,35,31,37,32,38,50,59,36,55,36,45,35,36,59,29,31,32,36,31,35,45,37,46,30,35,55,38,34,56,23,51,30,46,40,51,30,46,32,54,24,28,58,44,37,32,20,34,37,59,50,25,25,22,51,34,54,24,34,37,34,36,36,43,30,33,56,51,31,26,58,19,22,49,43,50,31,41,26,36,51,39,25,30,32,45,38,30,32,30,30,41,41,19,40,35,53,45,32,29,51,58,40,34,22,27,28,57,27,50,41,30,38,32,27,19,36,30,45,56,33,19,46,38,31,34,41,50,53,33,40,55,34,51,52,27,35,43,45,37,35,42,38,38,27,49,34,40,38,29,22,36,40,46,32,30,27,51,30,41,30,29,45,54,36,33,37,38,31,59,37,29,35,29,52,42,59,50,33,43,33,52,32,32,39,32,41,40,45,31,33,34,37,45,37,39,29,42,29,25,42,40,51,31,32,38,32,46,28,29,31,25,45,36,55,47,28,37,21,37,35,38,26,50,53,42,29,55,26,37,44,38,26,28,49,36,31,26,37,42,18,35,36,51,41,18,28,31,39,36,32,38,58,31,31,45,31,33,39,43,49,52,27,32,27,31,32,28,30,31,39,39,33,47,43,27,54,43,45,40,29,29,30,27,37,38,31,29,35,23,41,47,42,29,42,32,48,37,30,26,42,21,36,36,57,40,21,33,37,46,41,50,40,31,21,29,35,27,28,49,51,36,34,55,24,30,26,22,36,30,37,40,42,37,43,40,54,34,31,43,43,25,37,31,39,56,30,41,28,25,52,45,52,42,30,60,46,42,24,34,38,40,26,30,29,29,19,30,57,50,30,60,47,46,35,54,34,46,31,33,33,30,35,31,34,42,36,22,48,55,41,35,40,39,31,42,45,26,29,33,31,18,40,41,26,35,34,26,37,46,41,37,52,32,24,38,37,49,24,26,24,50,25,24,30,34,31,35,31,27,37,20,42,43,38,43,48,44,34,27,21,44,22,33,32,30,53,34,45,26,37,29,35,33,54,36,27,20,33,35,23,25,38,29,48,27,37,50,34,24,39,32,50,38,27,32,47,40,53,41,60,27,41,50,28,36,38,44,47,30,29,42,43,34,23,39,56,40,27,29,53,35,32,38,34,52,33,25,45,23,47,34,55,36,52,26,29,26,34,54,27,37,38,34,35,30,40,34,42,23,24,52,50,29,33,33,47,36,29,58,35,42,28,36,32,40,30,45,42,38,34,49,55,43,27,35,28,34,26,27,51,44,25,33,35,36,32,30,53,45,32,52,37,28,22,44,42,36,25,35,35,32,25,49,24,32,38,42,31,29,53,35,37,53,43,47,37,50,39,33,32,29,44,28,58,43,20,21,36,47,22,41,28,39,27,34,42,33,58,31,35,49,48,31,36,38,32,25,40,26,41,36,19,20,31,40,32,36,33,37,45,29,35,52,58,53,30,38,35,39,40,47,36,31,33,29,33,45,50,33,41,27,45,47,30,50,38,46,24,35,31,18,54,35,30,20,30,26,22,48,48,41,39,27,35,42,50,59,37,55,41,38,26,52,44,50,36,39,33,45,32,34,59,45,53,36,26,34,28,38,50,37,40,26,46,54,56,36,55,43,20,21,46,51,28,26,30,41,38,40,27,55,28,44,33,35,33,28,34,37,25,26,33,42,28,50,33,34,48,45,52,38,29,28,46,38,43,39,40,21,39,36,31,28,35,49,34,29,42,29,38,28,18,33,41,31,37,27,34,35,29,40,42,42,35,24,28,26,30,40,35,34,35,43,32,56,29,19,45,37,20,44,53,29,22,46,44,33,41,30,40,50,28,46,35,24,33,36,30,44,20,46,42,60,32,32,36,33,40,25,30,42,35,27,54,44,19,29,54,31,31,59,43,49,36,48,27,29,48,29,34,44,33,19,23,25,26,45,55,21,46,34,51,59,34,28,44,34,35,42,43,36,44,28,51,30,29,28,25,32,45,39,58,32,39,30,36,46,28,50,40,52,30,39,31,41,31,44,42,55,56,40,34,40,41,35,51,38,34,25,58,40,36,48,27,51,18,35,27,55,56,34,40,34,31,35,38,34,28,31,39,51,41,37,33,32,39,25,52,43,27,27,26,42,52,37,35,25,26,29,49,29,54,58,55,36,31,30,31,34,31,27,36,36,47,25,37,56,47,24,32,34,41,40,31,46,39,31,45,31,31,45,48,34,40,28,44,53,49,40,44,33,34,30,42,44,30,57,49,34,28,29,34,35,24,24,44,29,30,55,33,47,28,28,28,49,29,28,33,32,54,29,44,39,46,35,23,40,34,31,50,34,42,37,29,33,45,42,40,33,40,24,40,45,35,32,36,48,29,33,30,38,35,30,35,53,38,32,48,34,55,34,26,38,38,36,29,35,39,29,50,23,36,42,35,34,40,43,35,46,28,22,50,32,44,30,45,45,31,36,34,49,39,27,35,28,21,18,47,39,40,35,37,39,45,38,35,37,40,44,48,35,24,27,27,40,29,36,25,39,49,50,20,34,36,49,36,36,54,43,35,38,29,33,32,31,49,38,47,49,41,20,33,36,44,23,38,53,48,32,26,55,34,60,33,37,34,23,44,35,43,24,41,29,36,45,24,47,26,45,32,31,41,40,24,46,35,30,47,46,36,32,23,31,39,32,40,45,30,24,30,31,27,29,29,30,34,33,49,33,38,31,29,30,32,38,43,42,55,33,41,34,53,43,34,21,38,22,31,51,37,46,36,44,37,35,33,28,39,46,40,42,35,38,34,37,39,43,41,41,30,26,46,40,34,58,35,47,40,54,31,28,38,26,58,18,31,29,45,36,43,27,29,32,42,47,46,28,29,42,32,46,27,29,43,48,29,46,27,39,55,28,30,22,36,31,34,29,37,35,45,36,40,26,27,48,44,34,56,36,41,42,31,34,31,26,45,33,28,29,39,27,34,28,47,56,39,38,58,32,38,49,42,27,35,28,31,36,34,34,26,29,32,31,28,38,35,27,32,31,53,54,33,43,38,55,31,39,42,31,54,24,23,40,40,25,30,25,47,33,38,31,38,42,41,47,35,22,35,33,32,40,32,39,38,32,37,25,52,44,21,39,23,36,36,56,29,42,56,41,34,36,41,32,35,38,50,36,45,40,35,40,35,29,29,50,39,31,26,36,39,27,49,34],\"y\":[\"Sales\",\"Research & Development\",\"Research & Development\",\"Research & Development\",\"Research & Development\",\"Research & Development\",\"Research & Development\",\"Research & Development\",\"Research & Development\",\"Research & Development\",\"Research & Development\",\"Research & Development\",\"Research & Development\",\"Research & Development\",\"Research & Development\",\"Research & Development\",\"Research & Development\",\"Research & Development\",\"Sales\",\"Research & Development\",\"Research & Development\",\"Sales\",\"Research & Development\",\"Research & Development\",\"Research & Development\",\"Research & Development\",\"Research & Development\",\"Sales\",\"Research & Development\",\"Sales\",\"Research & Development\",\"Research & Development\",\"Research & Development\",\"Sales\",\"Research & Development\",\"Research & Development\",\"Sales\",\"Sales\",\"Research & Development\",\"Sales\",\"Research & Development\",\"Research & Development\",\"Research & Development\",\"Sales\",\"Research & Development\",\"Research & Development\",\"Sales\",\"Research & Development\",\"Sales\",\"Research & Development\",\"Research & Development\",\"Research & Development\",\"Sales\",\"Research & Development\",\"Sales\",\"Research & Development\",\"Sales\",\"Research & Development\",\"Research & Development\",\"Research & Development\",\"Research & Development\",\"Research & Development\",\"Research & Development\",\"Sales\",\"Research & Development\",\"Research & Development\",\"Research & Development\",\"Research & Development\",\"Research & Development\",\"Research & Development\",\"Sales\",\"Research & Development\",\"Research & Development\",\"Research & Development\",\"Research & Development\",\"Research & Development\",\"Sales\",\"Research & Development\",\"Research & Development\",\"Human Resources\",\"Research & Development\",\"Research & Development\",\"Sales\",\"Research & Development\",\"Research & Development\",\"Research & Development\",\"Sales\",\"Research & Development\",\"Research & Development\",\"Sales\",\"Research & Development\",\"Sales\",\"Sales\",\"Research & Development\",\"Sales\",\"Research & Development\",\"Sales\",\"Sales\",\"Sales\",\"Research & Development\",\"Human Resources\",\"Research & Development\",\"Research & Development\",\"Research & Development\",\"Research & Development\",\"Human Resources\",\"Research & Development\",\"Sales\",\"Research & Development\",\"Research & Development\",\"Research & Development\",\"Research & Development\",\"Human Resources\",\"Research & Development\",\"Research & Development\",\"Sales\",\"Research & Development\",\"Sales\",\"Research & Development\",\"Sales\",\"Research & Development\",\"Sales\",\"Research & Development\",\"Research & Development\",\"Sales\",\"Research & Development\",\"Research & Development\",\"Sales\",\"Research & Development\",\"Research & Development\",\"Research & Development\",\"Sales\",\"Sales\",\"Sales\",\"Human Resources\",\"Research & Development\",\"Research & Development\",\"Sales\",\"Sales\",\"Human Resources\",\"Research & Development\",\"Research & Development\",\"Research & Development\",\"Research & Development\",\"Sales\",\"Research & Development\",\"Research & Development\",\"Research & Development\",\"Research & Development\",\"Research & Development\",\"Research & Development\",\"Sales\",\"Sales\",\"Research & Development\",\"Sales\",\"Research & Development\",\"Research & Development\",\"Research & Development\",\"Sales\",\"Sales\",\"Research & Development\",\"Research & Development\",\"Research & Development\",\"Research & Development\",\"Research & Development\",\"Research & Development\",\"Research & Development\",\"Sales\",\"Sales\",\"Research & Development\",\"Research & Development\",\"Sales\",\"Research & Development\",\"Research & Development\",\"Sales\",\"Research & Development\",\"Research & Development\",\"Research & Development\",\"Sales\",\"Research & Development\",\"Research & Development\",\"Research & Development\",\"Sales\",\"Research & Development\",\"Research & Development\",\"Research & Development\",\"Research & Development\",\"Research & Development\",\"Research & Development\",\"Research & Development\",\"Research & Development\",\"Research & Development\",\"Research & Development\",\"Research & Development\",\"Research & Development\",\"Research & Development\",\"Research & Development\",\"Research & Development\",\"Research & Development\",\"Research & Development\",\"Research & Development\",\"Research & Development\",\"Research & Development\",\"Research & Development\",\"Research & Development\",\"Sales\",\"Research & Development\",\"Research & Development\",\"Research & Development\",\"Research & Development\",\"Sales\",\"Research & Development\",\"Sales\",\"Research & Development\",\"Research & Development\",\"Sales\",\"Sales\",\"Research & Development\",\"Sales\",\"Sales\",\"Research & Development\",\"Research & Development\",\"Research & Development\",\"Sales\",\"Research & Development\",\"Research & Development\",\"Sales\",\"Sales\",\"Sales\",\"Research & Development\",\"Research & Development\",\"Research & Development\",\"Human Resources\",\"Sales\",\"Research & Development\",\"Sales\",\"Research & Development\",\"Sales\",\"Sales\",\"Research & Development\",\"Research & Development\",\"Sales\",\"Research & Development\",\"Research & Development\",\"Research & Development\",\"Research & Development\",\"Research & Development\",\"Research & Development\",\"Research & Development\",\"Research & Development\",\"Research & Development\",\"Research & Development\",\"Research & Development\",\"Research & Development\",\"Sales\",\"Research & Development\",\"Research & Development\",\"Research & Development\",\"Research & Development\",\"Research & Development\",\"Research & Development\",\"Sales\",\"Research & Development\",\"Sales\",\"Research & Development\",\"Sales\",\"Research & Development\",\"Research & Development\",\"Research & Development\",\"Research & Development\",\"Research & Development\",\"Research & Development\",\"Research & Development\",\"Sales\",\"Research & Development\",\"Research & Development\",\"Research & Development\",\"Sales\",\"Research & Development\",\"Research & Development\",\"Research & Development\",\"Sales\",\"Sales\",\"Research & Development\",\"Research & Development\",\"Research & Development\",\"Research & Development\",\"Research & Development\",\"Research & Development\",\"Research & Development\",\"Research & Development\",\"Research & Development\",\"Sales\",\"Sales\",\"Research & Development\",\"Sales\",\"Research & Development\",\"Sales\",\"Research & Development\",\"Research & Development\",\"Sales\",\"Sales\",\"Research & Development\",\"Sales\",\"Research & Development\",\"Research & Development\",\"Sales\",\"Research & Development\",\"Research & Development\",\"Research & Development\",\"Human Resources\",\"Research & Development\",\"Research & Development\",\"Research & Development\",\"Research & Development\",\"Research & Development\",\"Research & Development\",\"Research & Development\",\"Research & Development\",\"Sales\",\"Sales\",\"Sales\",\"Research & Development\",\"Research & Development\",\"Research & Development\",\"Research & Development\",\"Research & Development\",\"Sales\",\"Sales\",\"Research & Development\",\"Research & Development\",\"Sales\",\"Research & Development\",\"Research & Development\",\"Research & Development\",\"Sales\",\"Research & Development\",\"Research & Development\",\"Sales\",\"Sales\",\"Research & Development\",\"Research & Development\",\"Research & Development\",\"Sales\",\"Research & Development\",\"Research & Development\",\"Research & Development\",\"Sales\",\"Research & Development\",\"Sales\",\"Human Resources\",\"Research & Development\",\"Sales\",\"Research & Development\",\"Sales\",\"Sales\",\"Research & Development\",\"Sales\",\"Sales\",\"Sales\",\"Research & Development\",\"Research & Development\",\"Sales\",\"Sales\",\"Research & Development\",\"Research & Development\",\"Sales\",\"Research & Development\",\"Sales\",\"Research & Development\",\"Sales\",\"Research & Development\",\"Research & Development\",\"Research & Development\",\"Sales\",\"Research & Development\",\"Sales\",\"Research & Development\",\"Sales\",\"Research & Development\",\"Sales\",\"Sales\",\"Research & Development\",\"Research & Development\",\"Sales\",\"Research & Development\",\"Research & Development\",\"Sales\",\"Research & Development\",\"Research & Development\",\"Research & Development\",\"Research & Development\",\"Research & Development\",\"Sales\",\"Research & Development\",\"Research & Development\",\"Research & Development\",\"Sales\",\"Research & Development\",\"Research & Development\",\"Research & Development\",\"Sales\",\"Sales\",\"Sales\",\"Research & Development\",\"Research & Development\",\"Research & Development\",\"Research & Development\",\"Research & Development\",\"Research & Development\",\"Research & Development\",\"Research & Development\",\"Research & Development\",\"Research & Development\",\"Sales\",\"Sales\",\"Research & Development\",\"Sales\",\"Research & Development\",\"Research & Development\",\"Research & Development\",\"Research & Development\",\"Human Resources\",\"Sales\",\"Sales\",\"Research & Development\",\"Research & Development\",\"Sales\",\"Research & Development\",\"Research & Development\",\"Research & Development\",\"Research & Development\",\"Research & Development\",\"Sales\",\"Research & Development\",\"Research & Development\",\"Research & Development\",\"Sales\",\"Research & Development\",\"Research & Development\",\"Human Resources\",\"Research & Development\",\"Sales\",\"Research & Development\",\"Sales\",\"Sales\",\"Sales\",\"Sales\",\"Research & Development\",\"Research & Development\",\"Sales\",\"Research & Development\",\"Sales\",\"Human Resources\",\"Research & Development\",\"Research & Development\",\"Sales\",\"Sales\",\"Sales\",\"Research & Development\",\"Sales\",\"Sales\",\"Sales\",\"Research & Development\",\"Research & Development\",\"Research & Development\",\"Sales\",\"Sales\",\"Research & Development\",\"Sales\",\"Sales\",\"Research & Development\",\"Research & Development\",\"Research & Development\",\"Research & Development\",\"Sales\",\"Research & Development\",\"Human Resources\",\"Sales\",\"Research & Development\",\"Sales\",\"Research & Development\",\"Sales\",\"Research & Development\",\"Sales\",\"Research & Development\",\"Sales\",\"Research & Development\",\"Research & Development\",\"Research & Development\",\"Research & Development\",\"Research & Development\",\"Research & Development\",\"Human Resources\",\"Sales\",\"Sales\",\"Sales\",\"Research & Development\",\"Research & Development\",\"Sales\",\"Research & Development\",\"Research & Development\",\"Sales\",\"Research & Development\",\"Sales\",\"Research & Development\",\"Research & Development\",\"Sales\",\"Research & Development\",\"Research & Development\",\"Human Resources\",\"Research & Development\",\"Research & Development\",\"Research & Development\",\"Research & Development\",\"Research & Development\",\"Research & Development\",\"Sales\",\"Sales\",\"Research & Development\",\"Sales\",\"Sales\",\"Research & Development\",\"Research & Development\",\"Research & Development\",\"Sales\",\"Research & Development\",\"Sales\",\"Sales\",\"Research & Development\",\"Research & Development\",\"Research & Development\",\"Sales\",\"Sales\",\"Research & Development\",\"Human Resources\",\"Sales\",\"Research & Development\",\"Human Resources\",\"Sales\",\"Research & Development\",\"Research & Development\",\"Research & Development\",\"Research & Development\",\"Sales\",\"Sales\",\"Sales\",\"Research & Development\",\"Sales\",\"Research & Development\",\"Research & Development\",\"Human Resources\",\"Research & Development\",\"Research & Development\",\"Research & Development\",\"Sales\",\"Research & Development\",\"Research & Development\",\"Research & Development\",\"Research & Development\",\"Research & Development\",\"Sales\",\"Research & Development\",\"Sales\",\"Sales\",\"Research & Development\",\"Sales\",\"Sales\",\"Research & Development\",\"Sales\",\"Research & Development\",\"Research & Development\",\"Research & Development\",\"Sales\",\"Research & Development\",\"Research & Development\",\"Sales\",\"Research & Development\",\"Research & Development\",\"Research & Development\",\"Sales\",\"Research & Development\",\"Research & Development\",\"Sales\",\"Research & Development\",\"Research & Development\",\"Research & Development\",\"Research & Development\",\"Research & Development\",\"Research & Development\",\"Research & Development\",\"Sales\",\"Research & Development\",\"Research & Development\",\"Research & Development\",\"Research & Development\",\"Research & Development\",\"Research & Development\",\"Research & Development\",\"Human Resources\",\"Research & Development\",\"Research & Development\",\"Research & Development\",\"Research & Development\",\"Research & Development\",\"Research & Development\",\"Research & Development\",\"Sales\",\"Sales\",\"Research & Development\",\"Research & Development\",\"Research & Development\",\"Sales\",\"Human Resources\",\"Research & Development\",\"Research & Development\",\"Sales\",\"Research & Development\",\"Research & Development\",\"Sales\",\"Research & Development\",\"Sales\",\"Sales\",\"Research & Development\",\"Sales\",\"Sales\",\"Research & Development\",\"Research & Development\",\"Sales\",\"Human Resources\",\"Research & Development\",\"Research & Development\",\"Research & Development\",\"Human Resources\",\"Sales\",\"Research & Development\",\"Research & Development\",\"Research & Development\",\"Sales\",\"Research & Development\",\"Research & Development\",\"Sales\",\"Sales\",\"Research & Development\",\"Research & Development\",\"Sales\",\"Sales\",\"Research & Development\",\"Sales\",\"Research & Development\",\"Research & Development\",\"Sales\",\"Sales\",\"Research & Development\",\"Human Resources\",\"Human Resources\",\"Research & Development\",\"Research & Development\",\"Research & Development\",\"Sales\",\"Research & Development\",\"Research & Development\",\"Sales\",\"Research & Development\",\"Research & Development\",\"Sales\",\"Research & Development\",\"Research & Development\",\"Research & Development\",\"Research & Development\",\"Research & Development\",\"Research & Development\",\"Sales\",\"Research & Development\",\"Research & Development\",\"Sales\",\"Research & Development\",\"Research & Development\",\"Research & Development\",\"Sales\",\"Research & Development\",\"Research & Development\",\"Research & Development\",\"Sales\",\"Sales\",\"Sales\",\"Research & Development\",\"Research & Development\",\"Sales\",\"Research & Development\",\"Research & Development\",\"Research & Development\",\"Research & Development\",\"Sales\",\"Research & Development\",\"Sales\",\"Research & Development\",\"Sales\",\"Sales\",\"Research & Development\",\"Research & Development\",\"Sales\",\"Sales\",\"Sales\",\"Sales\",\"Sales\",\"Sales\",\"Research & Development\",\"Sales\",\"Research & Development\",\"Sales\",\"Research & Development\",\"Research & Development\",\"Research & Development\",\"Research & Development\",\"Research & Development\",\"Research & Development\",\"Research & Development\",\"Research & Development\",\"Sales\",\"Research & Development\",\"Research & Development\",\"Research & Development\",\"Research & Development\",\"Research & Development\",\"Research & Development\",\"Research & Development\",\"Research & Development\",\"Research & Development\",\"Research & Development\",\"Research & Development\",\"Research & Development\",\"Research & Development\",\"Research & Development\",\"Research & Development\",\"Research & Development\",\"Research & Development\",\"Research & Development\",\"Research & Development\",\"Research & Development\",\"Research & Development\",\"Sales\",\"Research & Development\",\"Research & Development\",\"Research & Development\",\"Research & Development\",\"Research & Development\",\"Sales\",\"Sales\",\"Sales\",\"Sales\",\"Sales\",\"Research & Development\",\"Research & Development\",\"Sales\",\"Sales\",\"Research & Development\",\"Sales\",\"Sales\",\"Human Resources\",\"Sales\",\"Research & Development\",\"Research & Development\",\"Sales\",\"Sales\",\"Research & Development\",\"Research & Development\",\"Research & Development\",\"Sales\",\"Research & Development\",\"Research & Development\",\"Sales\",\"Research & Development\",\"Research & Development\",\"Research & Development\",\"Sales\",\"Sales\",\"Research & Development\",\"Research & Development\",\"Research & Development\",\"Research & Development\",\"Research & Development\",\"Research & Development\",\"Research & Development\",\"Research & Development\",\"Research & Development\",\"Research & Development\",\"Research & Development\",\"Research & Development\",\"Human Resources\",\"Research & Development\",\"Sales\",\"Research & Development\",\"Research & Development\",\"Research & Development\",\"Sales\",\"Research & Development\",\"Research & Development\",\"Research & Development\",\"Research & Development\",\"Research & Development\",\"Sales\",\"Sales\",\"Research & Development\",\"Research & Development\",\"Sales\",\"Research & Development\",\"Sales\",\"Research & Development\",\"Research & Development\",\"Sales\",\"Sales\",\"Research & Development\",\"Research & Development\",\"Research & Development\",\"Research & Development\",\"Research & Development\",\"Research & Development\",\"Sales\",\"Research & Development\",\"Sales\",\"Sales\",\"Research & Development\",\"Research & Development\",\"Research & Development\",\"Research & Development\",\"Human Resources\",\"Research & Development\",\"Research & Development\",\"Sales\",\"Research & Development\",\"Research & Development\",\"Research & Development\",\"Research & Development\",\"Sales\",\"Human Resources\",\"Sales\",\"Research & Development\",\"Sales\",\"Sales\",\"Research & Development\",\"Research & Development\",\"Research & Development\",\"Research & Development\",\"Sales\",\"Research & Development\",\"Research & Development\",\"Research & Development\",\"Research & Development\",\"Sales\",\"Sales\",\"Research & Development\",\"Research & Development\",\"Research & Development\",\"Research & Development\",\"Research & Development\",\"Research & Development\",\"Research & Development\",\"Research & Development\",\"Research & Development\",\"Research & Development\",\"Sales\",\"Research & Development\",\"Human Resources\",\"Research & Development\",\"Sales\",\"Sales\",\"Research & Development\",\"Research & Development\",\"Research & Development\",\"Sales\",\"Research & Development\",\"Sales\",\"Research & Development\",\"Research & Development\",\"Research & Development\",\"Sales\",\"Research & Development\",\"Human Resources\",\"Sales\",\"Research & Development\",\"Research & Development\",\"Research & Development\",\"Research & Development\",\"Sales\",\"Sales\",\"Research & Development\",\"Research & Development\",\"Sales\",\"Research & Development\",\"Research & Development\",\"Research & Development\",\"Research & Development\",\"Research & Development\",\"Research & Development\",\"Research & Development\",\"Research & Development\",\"Sales\",\"Research & Development\",\"Research & Development\",\"Research & Development\",\"Research & Development\",\"Research & Development\",\"Research & Development\",\"Research & Development\",\"Research & Development\",\"Research & Development\",\"Sales\",\"Sales\",\"Research & Development\",\"Research & Development\",\"Sales\",\"Research & Development\",\"Sales\",\"Research & Development\",\"Research & Development\",\"Sales\",\"Sales\",\"Sales\",\"Research & Development\",\"Research & Development\",\"Research & Development\",\"Research & Development\",\"Human Resources\",\"Research & Development\",\"Research & Development\",\"Sales\",\"Research & Development\",\"Research & Development\",\"Research & Development\",\"Research & Development\",\"Research & Development\",\"Research & Development\",\"Research & Development\",\"Research & Development\",\"Sales\",\"Research & Development\",\"Research & Development\",\"Research & Development\",\"Research & Development\",\"Research & Development\",\"Research & Development\",\"Research & Development\",\"Human Resources\",\"Research & Development\",\"Research & Development\",\"Sales\",\"Sales\",\"Research & Development\",\"Research & Development\",\"Sales\",\"Sales\",\"Sales\",\"Research & Development\",\"Research & Development\",\"Research & Development\",\"Human Resources\",\"Research & Development\",\"Research & Development\",\"Research & Development\",\"Sales\",\"Research & Development\",\"Human Resources\",\"Sales\",\"Sales\",\"Research & Development\",\"Research & Development\",\"Research & Development\",\"Sales\",\"Research & Development\",\"Sales\",\"Research & Development\",\"Research & Development\",\"Research & Development\",\"Sales\",\"Sales\",\"Research & Development\",\"Research & Development\",\"Research & Development\",\"Research & Development\",\"Sales\",\"Sales\",\"Research & Development\",\"Research & Development\",\"Sales\",\"Research & Development\",\"Sales\",\"Sales\",\"Research & Development\",\"Research & Development\",\"Sales\",\"Sales\",\"Research & Development\",\"Sales\",\"Research & Development\",\"Research & Development\",\"Sales\",\"Research & Development\",\"Research & Development\",\"Human Resources\",\"Research & Development\",\"Research & Development\",\"Research & Development\",\"Research & Development\",\"Research & Development\",\"Human Resources\",\"Research & Development\",\"Research & Development\",\"Research & Development\",\"Research & Development\",\"Research & Development\",\"Sales\",\"Sales\",\"Sales\",\"Research & Development\",\"Research & Development\",\"Research & Development\",\"Research & Development\",\"Research & Development\",\"Sales\",\"Research & Development\",\"Sales\",\"Research & Development\",\"Research & Development\",\"Research & Development\",\"Sales\",\"Sales\",\"Research & Development\",\"Research & Development\",\"Research & Development\",\"Sales\",\"Sales\",\"Research & Development\",\"Research & Development\",\"Research & Development\",\"Human Resources\",\"Research & Development\",\"Research & Development\",\"Sales\",\"Human Resources\",\"Research & Development\",\"Sales\",\"Research & Development\",\"Research & Development\",\"Research & Development\",\"Research & Development\",\"Research & Development\",\"Sales\",\"Sales\",\"Sales\",\"Research & Development\",\"Sales\",\"Research & Development\",\"Research & Development\",\"Research & Development\",\"Research & Development\",\"Sales\",\"Sales\",\"Sales\",\"Sales\",\"Research & Development\",\"Sales\",\"Research & Development\",\"Sales\",\"Human Resources\",\"Research & Development\",\"Research & Development\",\"Sales\",\"Research & Development\",\"Research & Development\",\"Sales\",\"Research & Development\",\"Research & Development\",\"Research & Development\",\"Research & Development\",\"Research & Development\",\"Research & Development\",\"Research & Development\",\"Research & Development\",\"Research & Development\",\"Sales\",\"Research & Development\",\"Research & Development\",\"Research & Development\",\"Sales\",\"Research & Development\",\"Research & Development\",\"Sales\",\"Research & Development\",\"Research & Development\",\"Research & Development\",\"Research & Development\",\"Research & Development\",\"Research & Development\",\"Sales\",\"Research & Development\",\"Human Resources\",\"Research & Development\",\"Research & Development\",\"Research & Development\",\"Sales\",\"Research & Development\",\"Sales\",\"Sales\",\"Research & Development\",\"Sales\",\"Sales\",\"Human Resources\",\"Research & Development\",\"Sales\",\"Research & Development\",\"Research & Development\",\"Research & Development\",\"Research & Development\",\"Research & Development\",\"Research & Development\",\"Sales\",\"Research & Development\",\"Research & Development\",\"Sales\",\"Sales\",\"Sales\",\"Research & Development\",\"Research & Development\",\"Sales\",\"Research & Development\",\"Sales\",\"Research & Development\",\"Research & Development\",\"Research & Development\",\"Research & Development\",\"Research & Development\",\"Sales\",\"Research & Development\",\"Research & Development\",\"Sales\",\"Research & Development\",\"Research & Development\",\"Research & Development\",\"Research & Development\",\"Research & Development\",\"Research & Development\",\"Research & Development\",\"Sales\",\"Sales\",\"Research & Development\",\"Research & Development\",\"Research & Development\",\"Research & Development\",\"Research & Development\",\"Research & Development\",\"Research & Development\",\"Research & Development\",\"Sales\",\"Human Resources\",\"Research & Development\",\"Research & Development\",\"Research & Development\",\"Research & Development\",\"Research & Development\",\"Research & Development\",\"Research & Development\",\"Sales\",\"Research & Development\",\"Research & Development\",\"Human Resources\",\"Research & Development\",\"Sales\",\"Research & Development\",\"Research & Development\",\"Research & Development\",\"Research & Development\",\"Sales\",\"Research & Development\",\"Research & Development\",\"Research & Development\",\"Research & Development\",\"Research & Development\",\"Sales\",\"Research & Development\",\"Research & Development\",\"Research & Development\",\"Research & Development\",\"Research & Development\",\"Research & Development\",\"Research & Development\",\"Sales\",\"Research & Development\",\"Sales\",\"Sales\",\"Research & Development\",\"Sales\",\"Research & Development\",\"Research & Development\",\"Sales\",\"Research & Development\",\"Sales\",\"Sales\",\"Sales\",\"Research & Development\",\"Human Resources\",\"Research & Development\",\"Research & Development\",\"Research & Development\",\"Sales\",\"Research & Development\",\"Research & Development\",\"Research & Development\",\"Research & Development\",\"Research & Development\",\"Research & Development\",\"Sales\",\"Research & Development\",\"Sales\",\"Research & Development\",\"Research & Development\",\"Sales\",\"Research & Development\",\"Sales\",\"Research & Development\",\"Sales\",\"Research & Development\",\"Human Resources\",\"Sales\",\"Research & Development\",\"Research & Development\",\"Research & Development\",\"Research & Development\",\"Human Resources\",\"Research & Development\",\"Research & Development\",\"Research & Development\",\"Research & Development\",\"Research & Development\",\"Sales\",\"Sales\",\"Sales\",\"Sales\",\"Research & Development\",\"Research & Development\",\"Research & Development\",\"Sales\",\"Sales\",\"Human Resources\",\"Research & Development\",\"Human Resources\",\"Human Resources\",\"Sales\",\"Research & Development\",\"Sales\",\"Research & Development\",\"Sales\",\"Research & Development\",\"Sales\",\"Sales\",\"Sales\",\"Research & Development\",\"Sales\",\"Research & Development\",\"Research & Development\",\"Research & Development\",\"Research & Development\",\"Research & Development\",\"Research & Development\",\"Research & Development\",\"Research & Development\",\"Research & Development\",\"Sales\",\"Research & Development\",\"Human Resources\",\"Sales\",\"Sales\",\"Research & Development\",\"Research & Development\",\"Sales\",\"Research & Development\",\"Sales\",\"Research & Development\",\"Research & Development\",\"Research & Development\",\"Human Resources\",\"Sales\",\"Research & Development\",\"Research & Development\",\"Research & Development\",\"Sales\",\"Research & Development\",\"Research & Development\",\"Research & Development\",\"Human Resources\",\"Research & Development\",\"Research & Development\",\"Sales\",\"Research & Development\",\"Research & Development\",\"Sales\",\"Research & Development\",\"Human Resources\",\"Research & Development\",\"Research & Development\",\"Sales\",\"Sales\",\"Research & Development\",\"Research & Development\",\"Research & Development\",\"Research & Development\",\"Sales\",\"Research & Development\",\"Sales\",\"Sales\",\"Research & Development\",\"Research & Development\",\"Human Resources\",\"Human Resources\",\"Sales\",\"Research & Development\",\"Sales\",\"Research & Development\",\"Research & Development\",\"Sales\",\"Research & Development\",\"Research & Development\",\"Research & Development\",\"Human Resources\",\"Research & Development\",\"Research & Development\",\"Sales\",\"Sales\",\"Sales\",\"Human Resources\",\"Research & Development\",\"Research & Development\",\"Research & Development\",\"Sales\",\"Research & Development\",\"Research & Development\",\"Research & Development\",\"Sales\",\"Sales\",\"Research & Development\",\"Sales\",\"Research & Development\",\"Sales\",\"Research & Development\",\"Research & Development\",\"Research & Development\",\"Research & Development\",\"Human Resources\",\"Research & Development\",\"Research & Development\",\"Sales\",\"Research & Development\",\"Research & Development\",\"Research & Development\",\"Research & Development\",\"Sales\",\"Sales\",\"Research & Development\",\"Sales\",\"Sales\",\"Research & Development\",\"Research & Development\",\"Research & Development\",\"Sales\",\"Sales\",\"Sales\",\"Sales\",\"Research & Development\",\"Research & Development\",\"Sales\",\"Research & Development\",\"Sales\",\"Research & Development\",\"Research & Development\",\"Sales\",\"Research & Development\",\"Research & Development\",\"Research & Development\",\"Sales\",\"Human Resources\",\"Sales\",\"Research & Development\",\"Research & Development\",\"Research & Development\",\"Sales\",\"Sales\",\"Research & Development\",\"Research & Development\",\"Research & Development\",\"Research & Development\",\"Research & Development\",\"Sales\",\"Sales\",\"Sales\",\"Research & Development\",\"Sales\",\"Sales\",\"Research & Development\",\"Research & Development\",\"Research & Development\",\"Human Resources\",\"Human Resources\",\"Research & Development\",\"Sales\",\"Research & Development\",\"Research & Development\",\"Research & Development\",\"Research & Development\",\"Research & Development\",\"Research & Development\",\"Sales\",\"Human Resources\",\"Research & Development\",\"Research & Development\",\"Research & Development\",\"Research & Development\",\"Sales\",\"Sales\",\"Research & Development\",\"Research & Development\",\"Research & Development\",\"Research & Development\",\"Research & Development\",\"Research & Development\",\"Research & Development\",\"Research & Development\",\"Research & Development\",\"Research & Development\",\"Sales\",\"Research & Development\",\"Research & Development\",\"Sales\",\"Research & Development\",\"Sales\",\"Sales\",\"Research & Development\",\"Sales\",\"Research & Development\",\"Sales\",\"Sales\",\"Research & Development\",\"Research & Development\",\"Research & Development\",\"Research & Development\",\"Research & Development\",\"Research & Development\",\"Sales\",\"Sales\",\"Sales\",\"Research & Development\",\"Human Resources\",\"Sales\",\"Sales\",\"Sales\",\"Sales\",\"Research & Development\",\"Research & Development\",\"Research & Development\",\"Research & Development\",\"Research & Development\",\"Research & Development\",\"Sales\",\"Sales\",\"Research & Development\",\"Sales\",\"Research & Development\",\"Research & Development\",\"Research & Development\",\"Sales\",\"Research & Development\"],\"z\":[\"Yes\",\"No\",\"Yes\",\"No\",\"No\",\"No\",\"No\",\"No\",\"No\",\"No\",\"No\",\"No\",\"No\",\"No\",\"Yes\",\"No\",\"No\",\"No\",\"No\",\"No\",\"No\",\"Yes\",\"No\",\"No\",\"Yes\",\"No\",\"Yes\",\"No\",\"No\",\"No\",\"No\",\"No\",\"No\",\"Yes\",\"Yes\",\"No\",\"Yes\",\"No\",\"No\",\"No\",\"No\",\"No\",\"Yes\",\"No\",\"No\",\"Yes\",\"No\",\"No\",\"No\",\"No\",\"Yes\",\"Yes\",\"No\",\"No\",\"No\",\"No\",\"No\",\"No\",\"No\",\"No\",\"No\",\"No\",\"No\",\"No\",\"No\",\"No\",\"No\",\"No\",\"No\",\"Yes\",\"No\",\"No\",\"No\",\"No\",\"No\",\"No\",\"No\",\"No\",\"No\",\"No\",\"No\",\"No\",\"No\",\"No\",\"No\",\"No\",\"No\",\"No\",\"No\",\"Yes\",\"No\",\"No\",\"No\",\"No\",\"No\",\"No\",\"No\",\"No\",\"No\",\"No\",\"Yes\",\"No\",\"Yes\",\"No\",\"No\",\"No\",\"No\",\"Yes\",\"No\",\"No\",\"No\",\"Yes\",\"No\",\"No\",\"No\",\"No\",\"No\",\"No\",\"No\",\"No\",\"No\",\"No\",\"Yes\",\"No\",\"Yes\",\"No\",\"Yes\",\"Yes\",\"No\",\"No\",\"No\",\"No\",\"Yes\",\"No\",\"No\",\"No\",\"Yes\",\"No\",\"No\",\"No\",\"Yes\",\"No\",\"No\",\"No\",\"No\",\"No\",\"No\",\"No\",\"No\",\"No\",\"No\",\"No\",\"No\",\"No\",\"No\",\"No\",\"No\",\"No\",\"No\",\"No\",\"No\",\"No\",\"No\",\"No\",\"No\",\"No\",\"No\",\"No\",\"No\",\"No\",\"No\",\"Yes\",\"No\",\"No\",\"No\",\"No\",\"No\",\"Yes\",\"No\",\"No\",\"No\",\"No\",\"Yes\",\"No\",\"No\",\"No\",\"No\",\"No\",\"No\",\"No\",\"No\",\"No\",\"Yes\",\"No\",\"No\",\"No\",\"No\",\"No\",\"No\",\"No\",\"No\",\"No\",\"No\",\"No\",\"Yes\",\"Yes\",\"No\",\"No\",\"No\",\"No\",\"Yes\",\"No\",\"No\",\"No\",\"Yes\",\"No\",\"Yes\",\"Yes\",\"No\",\"No\",\"No\",\"No\",\"No\",\"No\",\"No\",\"No\",\"No\",\"No\",\"No\",\"Yes\",\"No\",\"No\",\"No\",\"No\",\"Yes\",\"No\",\"Yes\",\"No\",\"No\",\"Yes\",\"No\",\"No\",\"No\",\"No\",\"No\",\"No\",\"No\",\"No\",\"No\",\"No\",\"Yes\",\"No\",\"No\",\"No\",\"No\",\"No\",\"No\",\"No\",\"No\",\"Yes\",\"No\",\"No\",\"No\",\"No\",\"Yes\",\"No\",\"No\",\"No\",\"No\",\"No\",\"No\",\"Yes\",\"No\",\"No\",\"No\",\"No\",\"No\",\"No\",\"No\",\"No\",\"No\",\"No\",\"No\",\"No\",\"No\",\"No\",\"Yes\",\"No\",\"Yes\",\"No\",\"No\",\"No\",\"No\",\"Yes\",\"No\",\"No\",\"Yes\",\"No\",\"No\",\"No\",\"No\",\"No\",\"No\",\"No\",\"No\",\"No\",\"No\",\"No\",\"No\",\"No\",\"No\",\"No\",\"No\",\"No\",\"No\",\"No\",\"No\",\"Yes\",\"No\",\"No\",\"No\",\"No\",\"No\",\"Yes\",\"No\",\"No\",\"No\",\"Yes\",\"No\",\"No\",\"No\",\"No\",\"No\",\"No\",\"No\",\"No\",\"Yes\",\"No\",\"No\",\"No\",\"No\",\"No\",\"No\",\"No\",\"No\",\"No\",\"No\",\"No\",\"No\",\"No\",\"No\",\"No\",\"No\",\"No\",\"No\",\"No\",\"No\",\"Yes\",\"No\",\"No\",\"No\",\"No\",\"No\",\"Yes\",\"No\",\"No\",\"Yes\",\"No\",\"Yes\",\"No\",\"Yes\",\"No\",\"No\",\"No\",\"No\",\"No\",\"No\",\"No\",\"Yes\",\"No\",\"No\",\"No\",\"Yes\",\"No\",\"No\",\"Yes\",\"No\",\"No\",\"No\",\"No\",\"No\",\"No\",\"No\",\"No\",\"No\",\"No\",\"No\",\"No\",\"No\",\"No\",\"No\",\"No\",\"No\",\"No\",\"No\",\"Yes\",\"No\",\"No\",\"No\",\"No\",\"No\",\"No\",\"No\",\"No\",\"Yes\",\"Yes\",\"No\",\"No\",\"No\",\"No\",\"No\",\"Yes\",\"Yes\",\"No\",\"No\",\"No\",\"No\",\"No\",\"No\",\"No\",\"No\",\"No\",\"No\",\"No\",\"No\",\"Yes\",\"Yes\",\"No\",\"No\",\"Yes\",\"Yes\",\"No\",\"No\",\"Yes\",\"No\",\"No\",\"No\",\"No\",\"No\",\"No\",\"No\",\"No\",\"No\",\"Yes\",\"No\",\"No\",\"No\",\"Yes\",\"No\",\"No\",\"No\",\"No\",\"No\",\"Yes\",\"No\",\"No\",\"No\",\"No\",\"No\",\"Yes\",\"No\",\"No\",\"No\",\"No\",\"No\",\"No\",\"No\",\"No\",\"No\",\"Yes\",\"Yes\",\"No\",\"Yes\",\"No\",\"No\",\"No\",\"No\",\"No\",\"No\",\"No\",\"No\",\"No\",\"No\",\"No\",\"No\",\"Yes\",\"No\",\"No\",\"No\",\"No\",\"No\",\"No\",\"No\",\"No\",\"Yes\",\"No\",\"No\",\"No\",\"No\",\"No\",\"No\",\"No\",\"No\",\"Yes\",\"Yes\",\"No\",\"No\",\"No\",\"No\",\"No\",\"No\",\"No\",\"No\",\"No\",\"No\",\"Yes\",\"No\",\"No\",\"Yes\",\"No\",\"No\",\"No\",\"No\",\"No\",\"No\",\"No\",\"No\",\"No\",\"No\",\"No\",\"Yes\",\"No\",\"No\",\"No\",\"No\",\"No\",\"No\",\"Yes\",\"No\",\"No\",\"No\",\"No\",\"No\",\"No\",\"No\",\"No\",\"No\",\"No\",\"No\",\"No\",\"No\",\"No\",\"Yes\",\"No\",\"No\",\"No\",\"Yes\",\"No\",\"Yes\",\"No\",\"No\",\"No\",\"No\",\"Yes\",\"No\",\"No\",\"No\",\"No\",\"No\",\"No\",\"No\",\"No\",\"No\",\"No\",\"No\",\"Yes\",\"No\",\"No\",\"No\",\"Yes\",\"No\",\"Yes\",\"No\",\"No\",\"No\",\"Yes\",\"No\",\"No\",\"Yes\",\"No\",\"No\",\"No\",\"No\",\"No\",\"No\",\"No\",\"No\",\"Yes\",\"Yes\",\"No\",\"No\",\"No\",\"No\",\"No\",\"Yes\",\"No\",\"No\",\"No\",\"No\",\"No\",\"No\",\"No\",\"No\",\"No\",\"No\",\"No\",\"No\",\"No\",\"No\",\"No\",\"No\",\"No\",\"No\",\"No\",\"No\",\"No\",\"Yes\",\"No\",\"No\",\"No\",\"No\",\"No\",\"No\",\"No\",\"No\",\"Yes\",\"No\",\"No\",\"No\",\"No\",\"No\",\"No\",\"No\",\"No\",\"No\",\"No\",\"Yes\",\"No\",\"No\",\"No\",\"Yes\",\"No\",\"Yes\",\"Yes\",\"No\",\"No\",\"Yes\",\"Yes\",\"No\",\"Yes\",\"No\",\"No\",\"No\",\"No\",\"No\",\"No\",\"No\",\"No\",\"No\",\"No\",\"No\",\"No\",\"No\",\"Yes\",\"No\",\"No\",\"No\",\"No\",\"Yes\",\"Yes\",\"No\",\"No\",\"No\",\"Yes\",\"No\",\"Yes\",\"No\",\"No\",\"No\",\"No\",\"Yes\",\"No\",\"No\",\"No\",\"No\",\"No\",\"Yes\",\"No\",\"No\",\"Yes\",\"No\",\"Yes\",\"No\",\"No\",\"No\",\"No\",\"No\",\"No\",\"No\",\"No\",\"Yes\",\"No\",\"No\",\"No\",\"No\",\"Yes\",\"No\",\"No\",\"No\",\"No\",\"No\",\"Yes\",\"Yes\",\"No\",\"No\",\"No\",\"No\",\"No\",\"No\",\"No\",\"No\",\"No\",\"No\",\"No\",\"Yes\",\"No\",\"No\",\"No\",\"Yes\",\"Yes\",\"No\",\"No\",\"Yes\",\"No\",\"No\",\"No\",\"No\",\"No\",\"No\",\"No\",\"No\",\"Yes\",\"Yes\",\"No\",\"No\",\"No\",\"No\",\"No\",\"No\",\"No\",\"No\",\"No\",\"No\",\"No\",\"No\",\"No\",\"Yes\",\"Yes\",\"No\",\"Yes\",\"Yes\",\"No\",\"No\",\"No\",\"No\",\"No\",\"No\",\"No\",\"No\",\"Yes\",\"No\",\"Yes\",\"Yes\",\"No\",\"No\",\"No\",\"Yes\",\"Yes\",\"Yes\",\"No\",\"Yes\",\"Yes\",\"No\",\"No\",\"No\",\"No\",\"No\",\"No\",\"No\",\"No\",\"No\",\"No\",\"No\",\"Yes\",\"No\",\"No\",\"No\",\"No\",\"No\",\"No\",\"No\",\"No\",\"No\",\"No\",\"No\",\"No\",\"No\",\"No\",\"Yes\",\"Yes\",\"No\",\"Yes\",\"No\",\"No\",\"No\",\"No\",\"Yes\",\"No\",\"Yes\",\"No\",\"No\",\"No\",\"Yes\",\"No\",\"No\",\"No\",\"No\",\"No\",\"No\",\"Yes\",\"No\",\"No\",\"No\",\"No\",\"No\",\"No\",\"No\",\"Yes\",\"No\",\"No\",\"Yes\",\"No\",\"No\",\"No\",\"Yes\",\"No\",\"No\",\"No\",\"No\",\"No\",\"No\",\"Yes\",\"No\",\"No\",\"No\",\"No\",\"No\",\"No\",\"No\",\"No\",\"No\",\"No\",\"No\",\"No\",\"No\",\"No\",\"No\",\"No\",\"No\",\"No\",\"No\",\"No\",\"Yes\",\"No\",\"No\",\"No\",\"No\",\"No\",\"No\",\"No\",\"No\",\"No\",\"No\",\"No\",\"No\",\"No\",\"No\",\"No\",\"No\",\"No\",\"No\",\"Yes\",\"No\",\"Yes\",\"No\",\"Yes\",\"No\",\"No\",\"No\",\"No\",\"No\",\"No\",\"No\",\"No\",\"No\",\"No\",\"No\",\"No\",\"Yes\",\"No\",\"No\",\"No\",\"Yes\",\"No\",\"No\",\"No\",\"No\",\"No\",\"No\",\"Yes\",\"Yes\",\"No\",\"No\",\"No\",\"No\",\"No\",\"Yes\",\"Yes\",\"No\",\"No\",\"No\",\"No\",\"Yes\",\"Yes\",\"No\",\"No\",\"No\",\"No\",\"No\",\"No\",\"No\",\"No\",\"No\",\"No\",\"No\",\"No\",\"Yes\",\"No\",\"No\",\"No\",\"No\",\"No\",\"No\",\"No\",\"No\",\"Yes\",\"No\",\"No\",\"No\",\"No\",\"Yes\",\"Yes\",\"No\",\"No\",\"No\",\"Yes\",\"No\",\"No\",\"No\",\"No\",\"No\",\"No\",\"No\",\"No\",\"No\",\"No\",\"No\",\"Yes\",\"No\",\"No\",\"No\",\"No\",\"No\",\"No\",\"No\",\"No\",\"Yes\",\"Yes\",\"No\",\"No\",\"No\",\"No\",\"Yes\",\"No\",\"No\",\"No\",\"Yes\",\"No\",\"No\",\"No\",\"No\",\"Yes\",\"No\",\"No\",\"No\",\"No\",\"No\",\"No\",\"No\",\"No\",\"No\",\"Yes\",\"Yes\",\"Yes\",\"No\",\"No\",\"Yes\",\"No\",\"No\",\"Yes\",\"No\",\"No\",\"No\",\"No\",\"No\",\"No\",\"No\",\"No\",\"No\",\"No\",\"No\",\"No\",\"No\",\"No\",\"No\",\"No\",\"Yes\",\"Yes\",\"Yes\",\"No\",\"Yes\",\"No\",\"No\",\"No\",\"No\",\"No\",\"No\",\"No\",\"Yes\",\"No\",\"No\",\"No\",\"No\",\"No\",\"No\",\"No\",\"No\",\"Yes\",\"No\",\"No\",\"No\",\"No\",\"No\",\"Yes\",\"No\",\"Yes\",\"No\",\"No\",\"No\",\"No\",\"No\",\"No\",\"No\",\"No\",\"No\",\"No\",\"No\",\"No\",\"No\",\"No\",\"No\",\"No\",\"No\",\"No\",\"No\",\"No\",\"Yes\",\"No\",\"No\",\"No\",\"Yes\",\"Yes\",\"Yes\",\"No\",\"No\",\"No\",\"No\",\"No\",\"No\",\"No\",\"No\",\"No\",\"No\",\"No\",\"No\",\"No\",\"No\",\"No\",\"No\",\"No\",\"No\",\"No\",\"No\",\"No\",\"No\",\"No\",\"Yes\",\"No\",\"No\",\"No\",\"No\",\"No\",\"No\",\"No\",\"No\",\"No\",\"No\",\"No\",\"No\",\"No\",\"No\",\"No\",\"No\",\"Yes\",\"No\",\"No\",\"No\",\"No\",\"No\",\"No\",\"No\",\"No\",\"Yes\",\"No\",\"No\",\"No\",\"No\",\"Yes\",\"No\",\"No\",\"No\",\"Yes\",\"No\",\"No\",\"No\",\"No\",\"No\",\"No\",\"No\",\"No\",\"No\",\"No\",\"No\",\"No\",\"No\",\"No\",\"Yes\",\"No\",\"No\",\"No\",\"No\",\"No\",\"No\",\"No\",\"No\",\"No\",\"No\",\"No\",\"No\",\"No\",\"No\",\"Yes\",\"No\",\"No\",\"Yes\",\"Yes\",\"No\",\"No\",\"No\",\"No\",\"No\",\"No\",\"No\",\"Yes\",\"No\",\"No\",\"No\",\"No\",\"No\",\"No\",\"No\",\"No\",\"Yes\",\"Yes\",\"No\",\"No\",\"No\",\"No\",\"No\",\"No\",\"No\",\"No\",\"No\",\"No\",\"No\",\"No\",\"Yes\",\"Yes\",\"No\",\"No\",\"No\",\"No\",\"No\",\"No\",\"No\",\"No\",\"Yes\",\"No\",\"No\",\"Yes\",\"No\",\"No\",\"No\",\"No\",\"No\",\"Yes\",\"No\",\"Yes\",\"No\",\"No\",\"No\",\"No\",\"Yes\",\"No\",\"No\",\"No\",\"No\",\"No\",\"No\",\"No\",\"No\",\"Yes\",\"No\",\"Yes\",\"No\",\"No\",\"No\",\"No\",\"No\",\"Yes\",\"No\",\"Yes\",\"No\",\"No\",\"No\",\"No\",\"No\",\"No\",\"No\",\"No\",\"Yes\",\"Yes\",\"No\",\"No\",\"No\",\"No\",\"No\",\"Yes\",\"Yes\",\"No\",\"No\",\"No\",\"No\",\"No\",\"No\",\"No\",\"No\",\"No\",\"No\",\"No\",\"No\",\"No\",\"Yes\",\"Yes\",\"No\",\"No\",\"No\",\"No\",\"No\",\"No\",\"No\",\"No\",\"No\",\"No\",\"No\",\"No\",\"Yes\",\"No\",\"No\",\"No\",\"No\",\"No\",\"Yes\",\"Yes\",\"No\",\"No\",\"No\",\"No\",\"Yes\",\"Yes\",\"No\",\"No\",\"No\",\"No\",\"No\",\"No\",\"No\",\"No\",\"No\",\"No\",\"No\",\"No\",\"No\",\"Yes\",\"Yes\",\"No\",\"No\",\"No\",\"No\",\"No\",\"No\",\"No\",\"No\",\"No\",\"No\",\"Yes\",\"No\",\"No\",\"No\",\"Yes\",\"No\",\"No\",\"No\",\"No\",\"No\",\"Yes\",\"No\",\"No\",\"No\",\"Yes\",\"No\",\"No\",\"No\",\"No\",\"No\",\"No\",\"No\",\"No\",\"No\",\"No\",\"Yes\",\"No\",\"No\",\"No\",\"No\",\"Yes\",\"Yes\",\"No\",\"No\",\"No\",\"No\",\"No\",\"No\",\"No\",\"No\",\"No\",\"No\",\"No\",\"No\",\"No\",\"No\",\"No\",\"No\",\"No\",\"No\",\"No\",\"No\",\"No\",\"No\",\"No\",\"No\",\"No\",\"No\",\"No\",\"No\",\"No\",\"No\",\"No\",\"No\",\"No\",\"No\",\"No\",\"No\",\"No\",\"No\",\"No\",\"No\",\"No\",\"Yes\",\"No\",\"No\",\"No\",\"Yes\",\"No\",\"Yes\",\"No\",\"No\",\"No\",\"No\",\"No\",\"No\",\"No\",\"Yes\",\"No\",\"No\",\"No\",\"No\",\"No\",\"No\",\"No\",\"No\",\"Yes\",\"No\",\"No\",\"No\",\"No\",\"No\",\"No\",\"No\",\"No\"],\"type\":\"scatter3d\"}],                        {\"template\":{\"data\":{\"histogram2dcontour\":[{\"type\":\"histogram2dcontour\",\"colorbar\":{\"outlinewidth\":0,\"ticks\":\"\"},\"colorscale\":[[0.0,\"#0d0887\"],[0.1111111111111111,\"#46039f\"],[0.2222222222222222,\"#7201a8\"],[0.3333333333333333,\"#9c179e\"],[0.4444444444444444,\"#bd3786\"],[0.5555555555555556,\"#d8576b\"],[0.6666666666666666,\"#ed7953\"],[0.7777777777777778,\"#fb9f3a\"],[0.8888888888888888,\"#fdca26\"],[1.0,\"#f0f921\"]]}],\"choropleth\":[{\"type\":\"choropleth\",\"colorbar\":{\"outlinewidth\":0,\"ticks\":\"\"}}],\"histogram2d\":[{\"type\":\"histogram2d\",\"colorbar\":{\"outlinewidth\":0,\"ticks\":\"\"},\"colorscale\":[[0.0,\"#0d0887\"],[0.1111111111111111,\"#46039f\"],[0.2222222222222222,\"#7201a8\"],[0.3333333333333333,\"#9c179e\"],[0.4444444444444444,\"#bd3786\"],[0.5555555555555556,\"#d8576b\"],[0.6666666666666666,\"#ed7953\"],[0.7777777777777778,\"#fb9f3a\"],[0.8888888888888888,\"#fdca26\"],[1.0,\"#f0f921\"]]}],\"heatmap\":[{\"type\":\"heatmap\",\"colorbar\":{\"outlinewidth\":0,\"ticks\":\"\"},\"colorscale\":[[0.0,\"#0d0887\"],[0.1111111111111111,\"#46039f\"],[0.2222222222222222,\"#7201a8\"],[0.3333333333333333,\"#9c179e\"],[0.4444444444444444,\"#bd3786\"],[0.5555555555555556,\"#d8576b\"],[0.6666666666666666,\"#ed7953\"],[0.7777777777777778,\"#fb9f3a\"],[0.8888888888888888,\"#fdca26\"],[1.0,\"#f0f921\"]]}],\"heatmapgl\":[{\"type\":\"heatmapgl\",\"colorbar\":{\"outlinewidth\":0,\"ticks\":\"\"},\"colorscale\":[[0.0,\"#0d0887\"],[0.1111111111111111,\"#46039f\"],[0.2222222222222222,\"#7201a8\"],[0.3333333333333333,\"#9c179e\"],[0.4444444444444444,\"#bd3786\"],[0.5555555555555556,\"#d8576b\"],[0.6666666666666666,\"#ed7953\"],[0.7777777777777778,\"#fb9f3a\"],[0.8888888888888888,\"#fdca26\"],[1.0,\"#f0f921\"]]}],\"contourcarpet\":[{\"type\":\"contourcarpet\",\"colorbar\":{\"outlinewidth\":0,\"ticks\":\"\"}}],\"contour\":[{\"type\":\"contour\",\"colorbar\":{\"outlinewidth\":0,\"ticks\":\"\"},\"colorscale\":[[0.0,\"#0d0887\"],[0.1111111111111111,\"#46039f\"],[0.2222222222222222,\"#7201a8\"],[0.3333333333333333,\"#9c179e\"],[0.4444444444444444,\"#bd3786\"],[0.5555555555555556,\"#d8576b\"],[0.6666666666666666,\"#ed7953\"],[0.7777777777777778,\"#fb9f3a\"],[0.8888888888888888,\"#fdca26\"],[1.0,\"#f0f921\"]]}],\"surface\":[{\"type\":\"surface\",\"colorbar\":{\"outlinewidth\":0,\"ticks\":\"\"},\"colorscale\":[[0.0,\"#0d0887\"],[0.1111111111111111,\"#46039f\"],[0.2222222222222222,\"#7201a8\"],[0.3333333333333333,\"#9c179e\"],[0.4444444444444444,\"#bd3786\"],[0.5555555555555556,\"#d8576b\"],[0.6666666666666666,\"#ed7953\"],[0.7777777777777778,\"#fb9f3a\"],[0.8888888888888888,\"#fdca26\"],[1.0,\"#f0f921\"]]}],\"mesh3d\":[{\"type\":\"mesh3d\",\"colorbar\":{\"outlinewidth\":0,\"ticks\":\"\"}}],\"scatter\":[{\"fillpattern\":{\"fillmode\":\"overlay\",\"size\":10,\"solidity\":0.2},\"type\":\"scatter\"}],\"parcoords\":[{\"type\":\"parcoords\",\"line\":{\"colorbar\":{\"outlinewidth\":0,\"ticks\":\"\"}}}],\"scatterpolargl\":[{\"type\":\"scatterpolargl\",\"marker\":{\"colorbar\":{\"outlinewidth\":0,\"ticks\":\"\"}}}],\"bar\":[{\"error_x\":{\"color\":\"#2a3f5f\"},\"error_y\":{\"color\":\"#2a3f5f\"},\"marker\":{\"line\":{\"color\":\"#E5ECF6\",\"width\":0.5},\"pattern\":{\"fillmode\":\"overlay\",\"size\":10,\"solidity\":0.2}},\"type\":\"bar\"}],\"scattergeo\":[{\"type\":\"scattergeo\",\"marker\":{\"colorbar\":{\"outlinewidth\":0,\"ticks\":\"\"}}}],\"scatterpolar\":[{\"type\":\"scatterpolar\",\"marker\":{\"colorbar\":{\"outlinewidth\":0,\"ticks\":\"\"}}}],\"histogram\":[{\"marker\":{\"pattern\":{\"fillmode\":\"overlay\",\"size\":10,\"solidity\":0.2}},\"type\":\"histogram\"}],\"scattergl\":[{\"type\":\"scattergl\",\"marker\":{\"colorbar\":{\"outlinewidth\":0,\"ticks\":\"\"}}}],\"scatter3d\":[{\"type\":\"scatter3d\",\"line\":{\"colorbar\":{\"outlinewidth\":0,\"ticks\":\"\"}},\"marker\":{\"colorbar\":{\"outlinewidth\":0,\"ticks\":\"\"}}}],\"scattermapbox\":[{\"type\":\"scattermapbox\",\"marker\":{\"colorbar\":{\"outlinewidth\":0,\"ticks\":\"\"}}}],\"scatterternary\":[{\"type\":\"scatterternary\",\"marker\":{\"colorbar\":{\"outlinewidth\":0,\"ticks\":\"\"}}}],\"scattercarpet\":[{\"type\":\"scattercarpet\",\"marker\":{\"colorbar\":{\"outlinewidth\":0,\"ticks\":\"\"}}}],\"carpet\":[{\"aaxis\":{\"endlinecolor\":\"#2a3f5f\",\"gridcolor\":\"white\",\"linecolor\":\"white\",\"minorgridcolor\":\"white\",\"startlinecolor\":\"#2a3f5f\"},\"baxis\":{\"endlinecolor\":\"#2a3f5f\",\"gridcolor\":\"white\",\"linecolor\":\"white\",\"minorgridcolor\":\"white\",\"startlinecolor\":\"#2a3f5f\"},\"type\":\"carpet\"}],\"table\":[{\"cells\":{\"fill\":{\"color\":\"#EBF0F8\"},\"line\":{\"color\":\"white\"}},\"header\":{\"fill\":{\"color\":\"#C8D4E3\"},\"line\":{\"color\":\"white\"}},\"type\":\"table\"}],\"barpolar\":[{\"marker\":{\"line\":{\"color\":\"#E5ECF6\",\"width\":0.5},\"pattern\":{\"fillmode\":\"overlay\",\"size\":10,\"solidity\":0.2}},\"type\":\"barpolar\"}],\"pie\":[{\"automargin\":true,\"type\":\"pie\"}]},\"layout\":{\"autotypenumbers\":\"strict\",\"colorway\":[\"#636efa\",\"#EF553B\",\"#00cc96\",\"#ab63fa\",\"#FFA15A\",\"#19d3f3\",\"#FF6692\",\"#B6E880\",\"#FF97FF\",\"#FECB52\"],\"font\":{\"color\":\"#2a3f5f\"},\"hovermode\":\"closest\",\"hoverlabel\":{\"align\":\"left\"},\"paper_bgcolor\":\"white\",\"plot_bgcolor\":\"#E5ECF6\",\"polar\":{\"bgcolor\":\"#E5ECF6\",\"angularaxis\":{\"gridcolor\":\"white\",\"linecolor\":\"white\",\"ticks\":\"\"},\"radialaxis\":{\"gridcolor\":\"white\",\"linecolor\":\"white\",\"ticks\":\"\"}},\"ternary\":{\"bgcolor\":\"#E5ECF6\",\"aaxis\":{\"gridcolor\":\"white\",\"linecolor\":\"white\",\"ticks\":\"\"},\"baxis\":{\"gridcolor\":\"white\",\"linecolor\":\"white\",\"ticks\":\"\"},\"caxis\":{\"gridcolor\":\"white\",\"linecolor\":\"white\",\"ticks\":\"\"}},\"coloraxis\":{\"colorbar\":{\"outlinewidth\":0,\"ticks\":\"\"}},\"colorscale\":{\"sequential\":[[0.0,\"#0d0887\"],[0.1111111111111111,\"#46039f\"],[0.2222222222222222,\"#7201a8\"],[0.3333333333333333,\"#9c179e\"],[0.4444444444444444,\"#bd3786\"],[0.5555555555555556,\"#d8576b\"],[0.6666666666666666,\"#ed7953\"],[0.7777777777777778,\"#fb9f3a\"],[0.8888888888888888,\"#fdca26\"],[1.0,\"#f0f921\"]],\"sequentialminus\":[[0.0,\"#0d0887\"],[0.1111111111111111,\"#46039f\"],[0.2222222222222222,\"#7201a8\"],[0.3333333333333333,\"#9c179e\"],[0.4444444444444444,\"#bd3786\"],[0.5555555555555556,\"#d8576b\"],[0.6666666666666666,\"#ed7953\"],[0.7777777777777778,\"#fb9f3a\"],[0.8888888888888888,\"#fdca26\"],[1.0,\"#f0f921\"]],\"diverging\":[[0,\"#8e0152\"],[0.1,\"#c51b7d\"],[0.2,\"#de77ae\"],[0.3,\"#f1b6da\"],[0.4,\"#fde0ef\"],[0.5,\"#f7f7f7\"],[0.6,\"#e6f5d0\"],[0.7,\"#b8e186\"],[0.8,\"#7fbc41\"],[0.9,\"#4d9221\"],[1,\"#276419\"]]},\"xaxis\":{\"gridcolor\":\"white\",\"linecolor\":\"white\",\"ticks\":\"\",\"title\":{\"standoff\":15},\"zerolinecolor\":\"white\",\"automargin\":true,\"zerolinewidth\":2},\"yaxis\":{\"gridcolor\":\"white\",\"linecolor\":\"white\",\"ticks\":\"\",\"title\":{\"standoff\":15},\"zerolinecolor\":\"white\",\"automargin\":true,\"zerolinewidth\":2},\"scene\":{\"xaxis\":{\"backgroundcolor\":\"#E5ECF6\",\"gridcolor\":\"white\",\"linecolor\":\"white\",\"showbackground\":true,\"ticks\":\"\",\"zerolinecolor\":\"white\",\"gridwidth\":2},\"yaxis\":{\"backgroundcolor\":\"#E5ECF6\",\"gridcolor\":\"white\",\"linecolor\":\"white\",\"showbackground\":true,\"ticks\":\"\",\"zerolinecolor\":\"white\",\"gridwidth\":2},\"zaxis\":{\"backgroundcolor\":\"#E5ECF6\",\"gridcolor\":\"white\",\"linecolor\":\"white\",\"showbackground\":true,\"ticks\":\"\",\"zerolinecolor\":\"white\",\"gridwidth\":2}},\"shapedefaults\":{\"line\":{\"color\":\"#2a3f5f\"}},\"annotationdefaults\":{\"arrowcolor\":\"#2a3f5f\",\"arrowhead\":0,\"arrowwidth\":1},\"geo\":{\"bgcolor\":\"white\",\"landcolor\":\"#E5ECF6\",\"subunitcolor\":\"white\",\"showland\":true,\"showlakes\":true,\"lakecolor\":\"white\"},\"title\":{\"x\":0.05},\"mapbox\":{\"style\":\"light\"}}},\"title\":{\"font\":{\"size\":24,\"family\":\"Comic Sans MS\"},\"text\":\"Attrition Rate among departments of different ages\"},\"scene\":{\"xaxis\":{\"title\":{\"font\":{\"size\":18,\"family\":\"Courier New\"},\"text\":\"Age\"},\"tickfont\":{\"color\":\"#663300\"},\"showgrid\":false},\"yaxis\":{\"title\":{\"font\":{\"size\":18,\"family\":\"Courier New\"},\"text\":\"Department\"},\"tickfont\":{\"color\":\"#663300\"},\"showgrid\":false},\"zaxis\":{\"title\":{\"font\":{\"size\":18,\"family\":\"Courier New\"},\"text\":\"Attrition\"},\"tickfont\":{\"color\":\"#663300\"},\"showgrid\":false}},\"plot_bgcolor\":\"#F2F2F2\",\"paper_bgcolor\":\"#F2F2F2\"},                        {\"responsive\": true}                    ).then(function(){\n",
       "                            \n",
       "var gd = document.getElementById('2d3d9dfe-50ab-48d5-a41b-37705512e5a4');\n",
       "var x = new MutationObserver(function (mutations, observer) {{\n",
       "        var display = window.getComputedStyle(gd).display;\n",
       "        if (!display || display === 'none') {{\n",
       "            console.log([gd, 'removed!']);\n",
       "            Plotly.purge(gd);\n",
       "            observer.disconnect();\n",
       "        }}\n",
       "}});\n",
       "\n",
       "// Listen for the removal of the full notebook cells\n",
       "var notebookContainer = gd.closest('#notebook-container');\n",
       "if (notebookContainer) {{\n",
       "    x.observe(notebookContainer, {childList: true});\n",
       "}}\n",
       "\n",
       "// Listen for the clearing of the current output cell\n",
       "var outputEl = gd.closest('.output');\n",
       "if (outputEl) {{\n",
       "    x.observe(outputEl, {childList: true});\n",
       "}}\n",
       "\n",
       "                        })                };                });            </script>        </div>"
      ]
     },
     "metadata": {},
     "output_type": "display_data"
    }
   ],
   "source": [
    "fig = go.Figure(data=[go.Scatter3d(\n",
    "    x=df['Age'],\n",
    "    y=df['Department'],\n",
    "    z=df['Attrition'],\n",
    "    mode='markers',\n",
    "    hovertemplate='<b>Age</b>: %{x} <br> <b>Department</b>: %{y} <br> <b>Attrition</b>: %{z}',\n",
    "    marker=dict(\n",
    "        size=12,\n",
    "        color=df['Age'],\n",
    "        colorscale='Viridis',\n",
    "        opacity=0.8\n",
    "    )\n",
    ")])\n",
    "\n",
    "fig.update_layout(\n",
    "    title={'text': 'Attrition Rate among departments of different ages', 'font_size': 24, 'font_family': 'Comic Sans MS'},\n",
    "    scene=dict(\n",
    "        xaxis=dict(title={'text': 'Age', 'font_size': 18, 'font_family': 'Courier New'}),\n",
    "        yaxis=dict(title={'text': 'Department', 'font_size': 18, 'font_family': 'Courier New'}),\n",
    "        zaxis=dict(title={'text': 'Attrition', 'font_size': 18, 'font_family': 'Courier New'}),\n",
    "        xaxis_tickfont=dict(color='#663300'),\n",
    "        yaxis_tickfont=dict(color='#663300'),\n",
    "        zaxis_tickfont=dict(color='#663300'),\n",
    "        xaxis_showgrid=False,\n",
    "        yaxis_showgrid=False,\n",
    "        zaxis_showgrid=False,\n",
    "    ),\n",
    "    plot_bgcolor='#F2F2F2',\n",
    "    paper_bgcolor='#F2F2F2'\n",
    ")\n",
    "\n",
    "fig.show()"
   ]
  },
  {
   "cell_type": "markdown",
   "id": "e9add0e2",
   "metadata": {
    "papermill": {
     "duration": 0.010975,
     "end_time": "2024-04-28T09:11:55.812790",
     "exception": false,
     "start_time": "2024-04-28T09:11:55.801815",
     "status": "completed"
    },
    "tags": []
   },
   "source": [
    "<div style=\"\n",
    "  background-color: #0D0D0D;\n",
    "  color: #FFFFFF;\n",
    "  font-family: 'Roboto', sans-serif;\n",
    "  font-size: 22px;\n",
    "  padding: 10px;\n",
    "  margin: 0px 0 0 0px;\n",
    "  border-radius: 15px;\n",
    "  border: none;\n",
    "  box-shadow: 0 0 20px rgba(255, 255, 255, 0.2);\n",
    "  width: 540px;\n",
    "  text-align: left;\n",
    "\">\n",
    "  <h2 style=\"margin: 0;\">Travel Frequency with Attrition</h2>\n",
    "</div>\n"
   ]
  },
  {
   "cell_type": "code",
   "execution_count": 6,
   "id": "c94a877a",
   "metadata": {
    "execution": {
     "iopub.execute_input": "2024-04-28T09:11:55.838724Z",
     "iopub.status.busy": "2024-04-28T09:11:55.838262Z",
     "iopub.status.idle": "2024-04-28T09:11:56.127052Z",
     "shell.execute_reply": "2024-04-28T09:11:56.125368Z"
    },
    "papermill": {
     "duration": 0.3073,
     "end_time": "2024-04-28T09:11:56.131486",
     "exception": false,
     "start_time": "2024-04-28T09:11:55.824186",
     "status": "completed"
    },
    "tags": []
   },
   "outputs": [
    {
     "data": {
      "text/html": [
       "<div>                            <div id=\"57193069-1df6-4502-ac55-314185c63869\" class=\"plotly-graph-div\" style=\"height:525px; width:100%;\"></div>            <script type=\"text/javascript\">                require([\"plotly\"], function(Plotly) {                    window.PLOTLYENV=window.PLOTLYENV || {};                                    if (document.getElementById(\"57193069-1df6-4502-ac55-314185c63869\")) {                    Plotly.newPlot(                        \"57193069-1df6-4502-ac55-314185c63869\",                        [{\"hovertemplate\":\"\\u003cb\\u003eBusiness Travel\\u003c\\u002fb\\u003e: %{x} \\u003cbr\\u003e\\u003cb\\u003eAttrition\\u003c\\u002fb\\u003e: %{y}\",\"marker\":{\"color\":[\"#00698F\",\"#FF8C00\",\"#00698F\",\"#FF8C00\",\"#00698F\",\"#FF8C00\",\"#00698F\",\"#00698F\",\"#FF8C00\",\"#00698F\",\"#00698F\",\"#00698F\",\"#00698F\",\"#00698F\",\"#00698F\",\"#00698F\",\"#00698F\",\"#8B0A1A\",\"#00698F\",\"#00698F\",\"#8B0A1A\",\"#00698F\",\"#00698F\",\"#00698F\",\"#00698F\",\"#00698F\",\"#FF8C00\",\"#00698F\",\"#00698F\",\"#00698F\",\"#00698F\",\"#00698F\",\"#00698F\",\"#00698F\",\"#00698F\",\"#00698F\",\"#00698F\",\"#00698F\",\"#00698F\",\"#FF8C00\",\"#00698F\",\"#00698F\",\"#00698F\",\"#FF8C00\",\"#FF8C00\",\"#00698F\",\"#8B0A1A\",\"#00698F\",\"#FF8C00\",\"#00698F\",\"#00698F\",\"#00698F\",\"#00698F\",\"#8B0A1A\",\"#00698F\",\"#FF8C00\",\"#FF8C00\",\"#00698F\",\"#00698F\",\"#00698F\",\"#00698F\",\"#FF8C00\",\"#00698F\",\"#00698F\",\"#00698F\",\"#00698F\",\"#FF8C00\",\"#00698F\",\"#FF8C00\",\"#00698F\",\"#FF8C00\",\"#00698F\",\"#00698F\",\"#00698F\",\"#00698F\",\"#00698F\",\"#00698F\",\"#00698F\",\"#00698F\",\"#00698F\",\"#00698F\",\"#00698F\",\"#00698F\",\"#8B0A1A\",\"#00698F\",\"#00698F\",\"#00698F\",\"#00698F\",\"#00698F\",\"#00698F\",\"#FF8C00\",\"#00698F\",\"#00698F\",\"#FF8C00\",\"#00698F\",\"#00698F\",\"#00698F\",\"#8B0A1A\",\"#00698F\",\"#8B0A1A\",\"#00698F\",\"#00698F\",\"#FF8C00\",\"#00698F\",\"#8B0A1A\",\"#8B0A1A\",\"#FF8C00\",\"#00698F\",\"#00698F\",\"#00698F\",\"#FF8C00\",\"#FF8C00\",\"#8B0A1A\",\"#00698F\",\"#00698F\",\"#00698F\",\"#00698F\",\"#FF8C00\",\"#00698F\",\"#FF8C00\",\"#FF8C00\",\"#8B0A1A\",\"#00698F\",\"#00698F\",\"#00698F\",\"#00698F\",\"#00698F\",\"#00698F\",\"#00698F\",\"#00698F\",\"#FF8C00\",\"#FF8C00\",\"#00698F\",\"#00698F\",\"#00698F\",\"#00698F\",\"#FF8C00\",\"#00698F\",\"#00698F\",\"#00698F\",\"#00698F\",\"#00698F\",\"#00698F\",\"#00698F\",\"#FF8C00\",\"#00698F\",\"#00698F\",\"#FF8C00\",\"#00698F\",\"#00698F\",\"#FF8C00\",\"#00698F\",\"#00698F\",\"#00698F\",\"#FF8C00\",\"#8B0A1A\",\"#00698F\",\"#00698F\",\"#00698F\",\"#FF8C00\",\"#00698F\",\"#8B0A1A\",\"#00698F\",\"#00698F\",\"#8B0A1A\",\"#00698F\",\"#00698F\",\"#00698F\",\"#00698F\",\"#00698F\",\"#00698F\",\"#FF8C00\",\"#FF8C00\",\"#8B0A1A\",\"#00698F\",\"#00698F\",\"#00698F\",\"#00698F\",\"#00698F\",\"#00698F\",\"#00698F\",\"#00698F\",\"#00698F\",\"#00698F\",\"#00698F\",\"#00698F\",\"#00698F\",\"#00698F\",\"#FF8C00\",\"#00698F\",\"#00698F\",\"#00698F\",\"#00698F\",\"#8B0A1A\",\"#8B0A1A\",\"#00698F\",\"#FF8C00\",\"#8B0A1A\",\"#00698F\",\"#00698F\",\"#FF8C00\",\"#8B0A1A\",\"#FF8C00\",\"#00698F\",\"#00698F\",\"#00698F\",\"#00698F\",\"#FF8C00\",\"#8B0A1A\",\"#00698F\",\"#00698F\",\"#8B0A1A\",\"#FF8C00\",\"#00698F\",\"#00698F\",\"#00698F\",\"#FF8C00\",\"#00698F\",\"#8B0A1A\",\"#00698F\",\"#00698F\",\"#00698F\",\"#FF8C00\",\"#00698F\",\"#8B0A1A\",\"#00698F\",\"#FF8C00\",\"#FF8C00\",\"#FF8C00\",\"#00698F\",\"#00698F\",\"#00698F\",\"#00698F\",\"#00698F\",\"#00698F\",\"#00698F\",\"#00698F\",\"#8B0A1A\",\"#00698F\",\"#00698F\",\"#00698F\",\"#8B0A1A\",\"#00698F\",\"#00698F\",\"#00698F\",\"#FF8C00\",\"#00698F\",\"#00698F\",\"#00698F\",\"#FF8C00\",\"#FF8C00\",\"#FF8C00\",\"#00698F\",\"#00698F\",\"#00698F\",\"#00698F\",\"#00698F\",\"#00698F\",\"#00698F\",\"#FF8C00\",\"#FF8C00\",\"#8B0A1A\",\"#00698F\",\"#00698F\",\"#00698F\",\"#00698F\",\"#00698F\",\"#8B0A1A\",\"#00698F\",\"#00698F\",\"#00698F\",\"#8B0A1A\",\"#00698F\",\"#00698F\",\"#00698F\",\"#8B0A1A\",\"#00698F\",\"#00698F\",\"#FF8C00\",\"#00698F\",\"#00698F\",\"#00698F\",\"#FF8C00\",\"#00698F\",\"#FF8C00\",\"#00698F\",\"#FF8C00\",\"#00698F\",\"#00698F\",\"#00698F\",\"#FF8C00\",\"#00698F\",\"#FF8C00\",\"#00698F\",\"#FF8C00\",\"#FF8C00\",\"#00698F\",\"#00698F\",\"#FF8C00\",\"#00698F\",\"#00698F\",\"#00698F\",\"#00698F\",\"#00698F\",\"#00698F\",\"#8B0A1A\",\"#00698F\",\"#00698F\",\"#8B0A1A\",\"#00698F\",\"#00698F\",\"#FF8C00\",\"#00698F\",\"#FF8C00\",\"#00698F\",\"#FF8C00\",\"#00698F\",\"#00698F\",\"#00698F\",\"#00698F\",\"#00698F\",\"#00698F\",\"#00698F\",\"#00698F\",\"#00698F\",\"#FF8C00\",\"#FF8C00\",\"#00698F\",\"#FF8C00\",\"#00698F\",\"#FF8C00\",\"#8B0A1A\",\"#FF8C00\",\"#00698F\",\"#00698F\",\"#00698F\",\"#00698F\",\"#00698F\",\"#00698F\",\"#00698F\",\"#00698F\",\"#00698F\",\"#00698F\",\"#00698F\",\"#00698F\",\"#00698F\",\"#00698F\",\"#FF8C00\",\"#00698F\",\"#8B0A1A\",\"#00698F\",\"#00698F\",\"#00698F\",\"#00698F\",\"#8B0A1A\",\"#00698F\",\"#00698F\",\"#FF8C00\",\"#8B0A1A\",\"#FF8C00\",\"#00698F\",\"#00698F\",\"#8B0A1A\",\"#00698F\",\"#00698F\",\"#8B0A1A\",\"#FF8C00\",\"#00698F\",\"#00698F\",\"#00698F\",\"#00698F\",\"#00698F\",\"#00698F\",\"#00698F\",\"#00698F\",\"#00698F\",\"#00698F\",\"#00698F\",\"#8B0A1A\",\"#00698F\",\"#00698F\",\"#00698F\",\"#FF8C00\",\"#00698F\",\"#00698F\",\"#FF8C00\",\"#00698F\",\"#00698F\",\"#00698F\",\"#00698F\",\"#00698F\",\"#00698F\",\"#00698F\",\"#8B0A1A\",\"#00698F\",\"#FF8C00\",\"#00698F\",\"#00698F\",\"#8B0A1A\",\"#00698F\",\"#FF8C00\",\"#FF8C00\",\"#00698F\",\"#00698F\",\"#00698F\",\"#00698F\",\"#00698F\",\"#00698F\",\"#00698F\",\"#FF8C00\",\"#00698F\",\"#00698F\",\"#00698F\",\"#FF8C00\",\"#00698F\",\"#FF8C00\",\"#FF8C00\",\"#00698F\",\"#00698F\",\"#8B0A1A\",\"#00698F\",\"#00698F\",\"#00698F\",\"#8B0A1A\",\"#00698F\",\"#00698F\",\"#8B0A1A\",\"#FF8C00\",\"#00698F\",\"#00698F\",\"#00698F\",\"#00698F\",\"#00698F\",\"#00698F\",\"#00698F\",\"#00698F\",\"#00698F\",\"#00698F\",\"#00698F\",\"#FF8C00\",\"#FF8C00\",\"#FF8C00\",\"#8B0A1A\",\"#FF8C00\",\"#00698F\",\"#00698F\",\"#8B0A1A\",\"#00698F\",\"#00698F\",\"#FF8C00\",\"#00698F\",\"#00698F\",\"#00698F\",\"#FF8C00\",\"#00698F\",\"#00698F\",\"#00698F\",\"#FF8C00\",\"#8B0A1A\",\"#8B0A1A\",\"#00698F\",\"#00698F\",\"#00698F\",\"#00698F\",\"#00698F\",\"#FF8C00\",\"#00698F\",\"#8B0A1A\",\"#00698F\",\"#8B0A1A\",\"#FF8C00\",\"#00698F\",\"#00698F\",\"#00698F\",\"#00698F\",\"#00698F\",\"#00698F\",\"#FF8C00\",\"#00698F\",\"#FF8C00\",\"#FF8C00\",\"#00698F\",\"#00698F\",\"#00698F\",\"#00698F\",\"#00698F\",\"#00698F\",\"#00698F\",\"#00698F\",\"#00698F\",\"#00698F\",\"#FF8C00\",\"#00698F\",\"#00698F\",\"#00698F\",\"#00698F\",\"#00698F\",\"#00698F\",\"#00698F\",\"#00698F\",\"#00698F\",\"#FF8C00\",\"#00698F\",\"#00698F\",\"#FF8C00\",\"#00698F\",\"#00698F\",\"#00698F\",\"#00698F\",\"#FF8C00\",\"#00698F\",\"#00698F\",\"#00698F\",\"#00698F\",\"#FF8C00\",\"#8B0A1A\",\"#00698F\",\"#00698F\",\"#00698F\",\"#FF8C00\",\"#00698F\",\"#FF8C00\",\"#00698F\",\"#00698F\",\"#00698F\",\"#00698F\",\"#00698F\",\"#00698F\",\"#FF8C00\",\"#00698F\",\"#00698F\",\"#00698F\",\"#00698F\",\"#FF8C00\",\"#00698F\",\"#00698F\",\"#00698F\",\"#FF8C00\",\"#00698F\",\"#00698F\",\"#00698F\",\"#8B0A1A\",\"#00698F\",\"#8B0A1A\",\"#FF8C00\",\"#00698F\",\"#00698F\",\"#FF8C00\",\"#FF8C00\",\"#00698F\",\"#00698F\",\"#00698F\",\"#00698F\",\"#00698F\",\"#00698F\",\"#00698F\",\"#00698F\",\"#8B0A1A\",\"#FF8C00\",\"#00698F\",\"#00698F\",\"#00698F\",\"#00698F\",\"#00698F\",\"#00698F\",\"#00698F\",\"#FF8C00\",\"#00698F\",\"#00698F\",\"#8B0A1A\",\"#8B0A1A\",\"#FF8C00\",\"#00698F\",\"#00698F\",\"#00698F\",\"#00698F\",\"#FF8C00\",\"#00698F\",\"#FF8C00\",\"#00698F\",\"#00698F\",\"#00698F\",\"#FF8C00\",\"#00698F\",\"#FF8C00\",\"#00698F\",\"#8B0A1A\",\"#00698F\",\"#00698F\",\"#00698F\",\"#00698F\",\"#00698F\",\"#00698F\",\"#00698F\",\"#00698F\",\"#00698F\",\"#00698F\",\"#00698F\",\"#00698F\",\"#00698F\",\"#00698F\",\"#FF8C00\",\"#00698F\",\"#00698F\",\"#00698F\",\"#FF8C00\",\"#FF8C00\",\"#00698F\",\"#00698F\",\"#00698F\",\"#00698F\",\"#00698F\",\"#00698F\",\"#00698F\",\"#FF8C00\",\"#8B0A1A\",\"#00698F\",\"#00698F\",\"#00698F\",\"#00698F\",\"#00698F\",\"#00698F\",\"#00698F\",\"#FF8C00\",\"#00698F\",\"#00698F\",\"#00698F\",\"#FF8C00\",\"#00698F\",\"#00698F\",\"#00698F\",\"#00698F\",\"#FF8C00\",\"#00698F\",\"#00698F\",\"#00698F\",\"#FF8C00\",\"#8B0A1A\",\"#00698F\",\"#00698F\",\"#8B0A1A\",\"#FF8C00\",\"#00698F\",\"#00698F\",\"#00698F\",\"#00698F\",\"#00698F\",\"#00698F\",\"#FF8C00\",\"#00698F\",\"#FF8C00\",\"#00698F\",\"#8B0A1A\",\"#8B0A1A\",\"#00698F\",\"#00698F\",\"#00698F\",\"#00698F\",\"#00698F\",\"#00698F\",\"#FF8C00\",\"#00698F\",\"#00698F\",\"#00698F\",\"#00698F\",\"#00698F\",\"#00698F\",\"#00698F\",\"#00698F\",\"#00698F\",\"#00698F\",\"#00698F\",\"#00698F\",\"#00698F\",\"#00698F\",\"#00698F\",\"#00698F\",\"#00698F\",\"#00698F\",\"#8B0A1A\",\"#00698F\",\"#00698F\",\"#8B0A1A\",\"#00698F\",\"#00698F\",\"#FF8C00\",\"#00698F\",\"#00698F\",\"#00698F\",\"#00698F\",\"#00698F\",\"#FF8C00\",\"#00698F\",\"#00698F\",\"#00698F\",\"#00698F\",\"#8B0A1A\",\"#FF8C00\",\"#00698F\",\"#00698F\",\"#00698F\",\"#00698F\",\"#00698F\",\"#8B0A1A\",\"#00698F\",\"#00698F\",\"#8B0A1A\",\"#FF8C00\",\"#8B0A1A\",\"#8B0A1A\",\"#8B0A1A\",\"#00698F\",\"#00698F\",\"#00698F\",\"#00698F\",\"#FF8C00\",\"#FF8C00\",\"#00698F\",\"#8B0A1A\",\"#00698F\",\"#00698F\",\"#00698F\",\"#FF8C00\",\"#00698F\",\"#00698F\",\"#00698F\",\"#FF8C00\",\"#8B0A1A\",\"#00698F\",\"#00698F\",\"#00698F\",\"#00698F\",\"#FF8C00\",\"#00698F\",\"#00698F\",\"#00698F\",\"#00698F\",\"#00698F\",\"#00698F\",\"#00698F\",\"#00698F\",\"#00698F\",\"#00698F\",\"#00698F\",\"#00698F\",\"#FF8C00\",\"#8B0A1A\",\"#00698F\",\"#8B0A1A\",\"#00698F\",\"#00698F\",\"#8B0A1A\",\"#00698F\",\"#FF8C00\",\"#8B0A1A\",\"#00698F\",\"#8B0A1A\",\"#00698F\",\"#00698F\",\"#00698F\",\"#FF8C00\",\"#00698F\",\"#FF8C00\",\"#00698F\",\"#00698F\",\"#FF8C00\",\"#00698F\",\"#00698F\",\"#00698F\",\"#FF8C00\",\"#00698F\",\"#00698F\",\"#FF8C00\",\"#00698F\",\"#8B0A1A\",\"#00698F\",\"#FF8C00\",\"#00698F\",\"#00698F\",\"#00698F\",\"#8B0A1A\",\"#00698F\",\"#00698F\",\"#00698F\",\"#00698F\",\"#00698F\",\"#8B0A1A\",\"#FF8C00\",\"#00698F\",\"#00698F\",\"#00698F\",\"#00698F\",\"#FF8C00\",\"#00698F\",\"#FF8C00\",\"#00698F\",\"#00698F\",\"#00698F\",\"#00698F\",\"#00698F\",\"#FF8C00\",\"#FF8C00\",\"#FF8C00\",\"#8B0A1A\",\"#8B0A1A\",\"#8B0A1A\",\"#00698F\",\"#00698F\",\"#00698F\",\"#00698F\",\"#00698F\",\"#00698F\",\"#FF8C00\",\"#FF8C00\",\"#00698F\",\"#00698F\",\"#8B0A1A\",\"#8B0A1A\",\"#FF8C00\",\"#00698F\",\"#FF8C00\",\"#00698F\",\"#FF8C00\",\"#FF8C00\",\"#00698F\",\"#00698F\",\"#00698F\",\"#FF8C00\",\"#8B0A1A\",\"#00698F\",\"#00698F\",\"#FF8C00\",\"#00698F\",\"#00698F\",\"#00698F\",\"#00698F\",\"#00698F\",\"#FF8C00\",\"#FF8C00\",\"#00698F\",\"#00698F\",\"#00698F\",\"#00698F\",\"#00698F\",\"#00698F\",\"#FF8C00\",\"#00698F\",\"#FF8C00\",\"#FF8C00\",\"#00698F\",\"#8B0A1A\",\"#00698F\",\"#00698F\",\"#00698F\",\"#00698F\",\"#00698F\",\"#00698F\",\"#00698F\",\"#00698F\",\"#00698F\",\"#FF8C00\",\"#00698F\",\"#8B0A1A\",\"#00698F\",\"#8B0A1A\",\"#00698F\",\"#FF8C00\",\"#FF8C00\",\"#00698F\",\"#00698F\",\"#00698F\",\"#00698F\",\"#FF8C00\",\"#00698F\",\"#00698F\",\"#00698F\",\"#00698F\",\"#00698F\",\"#8B0A1A\",\"#00698F\",\"#FF8C00\",\"#FF8C00\",\"#00698F\",\"#00698F\",\"#00698F\",\"#00698F\",\"#00698F\",\"#FF8C00\",\"#8B0A1A\",\"#00698F\",\"#FF8C00\",\"#00698F\",\"#8B0A1A\",\"#00698F\",\"#00698F\",\"#00698F\",\"#00698F\",\"#00698F\",\"#00698F\",\"#00698F\",\"#FF8C00\",\"#00698F\",\"#00698F\",\"#00698F\",\"#00698F\",\"#00698F\",\"#00698F\",\"#00698F\",\"#00698F\",\"#00698F\",\"#00698F\",\"#FF8C00\",\"#00698F\",\"#00698F\",\"#8B0A1A\",\"#FF8C00\",\"#00698F\",\"#00698F\",\"#FF8C00\",\"#00698F\",\"#FF8C00\",\"#FF8C00\",\"#00698F\",\"#FF8C00\",\"#00698F\",\"#00698F\",\"#00698F\",\"#00698F\",\"#00698F\",\"#FF8C00\",\"#FF8C00\",\"#8B0A1A\",\"#00698F\",\"#00698F\",\"#00698F\",\"#00698F\",\"#FF8C00\",\"#00698F\",\"#00698F\",\"#00698F\",\"#00698F\",\"#00698F\",\"#00698F\",\"#00698F\",\"#8B0A1A\",\"#00698F\",\"#00698F\",\"#00698F\",\"#00698F\",\"#00698F\",\"#8B0A1A\",\"#8B0A1A\",\"#FF8C00\",\"#00698F\",\"#8B0A1A\",\"#00698F\",\"#00698F\",\"#8B0A1A\",\"#00698F\",\"#00698F\",\"#FF8C00\",\"#FF8C00\",\"#00698F\",\"#00698F\",\"#00698F\",\"#00698F\",\"#00698F\",\"#00698F\",\"#FF8C00\",\"#00698F\",\"#00698F\",\"#00698F\",\"#8B0A1A\",\"#00698F\",\"#FF8C00\",\"#00698F\",\"#00698F\",\"#8B0A1A\",\"#00698F\",\"#00698F\",\"#FF8C00\",\"#FF8C00\",\"#FF8C00\",\"#00698F\",\"#00698F\",\"#00698F\",\"#00698F\",\"#FF8C00\",\"#FF8C00\",\"#00698F\",\"#FF8C00\",\"#00698F\",\"#8B0A1A\",\"#00698F\",\"#FF8C00\",\"#00698F\",\"#00698F\",\"#00698F\",\"#00698F\",\"#00698F\",\"#00698F\",\"#00698F\",\"#FF8C00\",\"#00698F\",\"#00698F\",\"#00698F\",\"#FF8C00\",\"#FF8C00\",\"#00698F\",\"#00698F\",\"#00698F\",\"#00698F\",\"#FF8C00\",\"#00698F\",\"#00698F\",\"#FF8C00\",\"#00698F\",\"#00698F\",\"#00698F\",\"#00698F\",\"#00698F\",\"#00698F\",\"#8B0A1A\",\"#00698F\",\"#00698F\",\"#00698F\",\"#00698F\",\"#00698F\",\"#00698F\",\"#8B0A1A\",\"#00698F\",\"#00698F\",\"#8B0A1A\",\"#FF8C00\",\"#00698F\",\"#00698F\",\"#FF8C00\",\"#00698F\",\"#00698F\",\"#00698F\",\"#8B0A1A\",\"#00698F\",\"#8B0A1A\",\"#00698F\",\"#00698F\",\"#00698F\",\"#00698F\",\"#FF8C00\",\"#00698F\",\"#00698F\",\"#FF8C00\",\"#FF8C00\",\"#8B0A1A\",\"#00698F\",\"#00698F\",\"#FF8C00\",\"#FF8C00\",\"#FF8C00\",\"#00698F\",\"#00698F\",\"#FF8C00\",\"#8B0A1A\",\"#FF8C00\",\"#00698F\",\"#00698F\",\"#00698F\",\"#00698F\",\"#00698F\",\"#FF8C00\",\"#00698F\",\"#FF8C00\",\"#00698F\",\"#FF8C00\",\"#00698F\",\"#00698F\",\"#00698F\",\"#FF8C00\",\"#00698F\",\"#00698F\",\"#00698F\",\"#00698F\",\"#00698F\",\"#00698F\",\"#00698F\",\"#00698F\",\"#FF8C00\",\"#FF8C00\",\"#00698F\",\"#00698F\",\"#00698F\",\"#00698F\",\"#00698F\",\"#00698F\",\"#FF8C00\",\"#00698F\",\"#00698F\",\"#00698F\",\"#00698F\",\"#8B0A1A\",\"#00698F\",\"#00698F\",\"#00698F\",\"#00698F\",\"#00698F\",\"#00698F\",\"#00698F\",\"#00698F\",\"#FF8C00\",\"#00698F\",\"#00698F\",\"#00698F\",\"#00698F\",\"#00698F\",\"#8B0A1A\",\"#00698F\",\"#00698F\",\"#00698F\",\"#00698F\",\"#00698F\",\"#00698F\",\"#00698F\",\"#00698F\",\"#00698F\",\"#00698F\",\"#00698F\",\"#FF8C00\",\"#00698F\",\"#00698F\",\"#FF8C00\",\"#00698F\",\"#00698F\",\"#FF8C00\",\"#00698F\",\"#00698F\",\"#00698F\",\"#00698F\",\"#00698F\",\"#8B0A1A\",\"#FF8C00\",\"#00698F\",\"#00698F\",\"#00698F\",\"#00698F\",\"#8B0A1A\",\"#FF8C00\",\"#00698F\",\"#FF8C00\",\"#00698F\",\"#00698F\",\"#00698F\",\"#00698F\",\"#00698F\",\"#00698F\",\"#FF8C00\",\"#00698F\",\"#00698F\",\"#00698F\",\"#8B0A1A\",\"#00698F\",\"#FF8C00\",\"#00698F\",\"#00698F\",\"#00698F\",\"#00698F\",\"#00698F\",\"#FF8C00\",\"#FF8C00\",\"#00698F\",\"#FF8C00\",\"#00698F\",\"#FF8C00\",\"#00698F\",\"#00698F\",\"#00698F\",\"#FF8C00\",\"#00698F\",\"#00698F\",\"#00698F\",\"#00698F\",\"#00698F\",\"#00698F\",\"#00698F\",\"#8B0A1A\",\"#00698F\",\"#00698F\",\"#00698F\",\"#FF8C00\",\"#FF8C00\",\"#00698F\",\"#00698F\",\"#00698F\",\"#00698F\",\"#00698F\",\"#FF8C00\",\"#00698F\",\"#00698F\",\"#00698F\",\"#00698F\",\"#8B0A1A\",\"#00698F\",\"#00698F\",\"#00698F\",\"#00698F\",\"#00698F\",\"#FF8C00\",\"#00698F\",\"#8B0A1A\",\"#00698F\",\"#00698F\",\"#00698F\",\"#00698F\",\"#FF8C00\",\"#00698F\",\"#00698F\",\"#00698F\",\"#FF8C00\",\"#00698F\",\"#00698F\",\"#00698F\",\"#00698F\",\"#00698F\",\"#8B0A1A\",\"#00698F\",\"#FF8C00\",\"#00698F\",\"#00698F\",\"#FF8C00\",\"#00698F\",\"#8B0A1A\",\"#00698F\",\"#00698F\",\"#00698F\",\"#00698F\",\"#00698F\",\"#8B0A1A\",\"#00698F\",\"#00698F\",\"#00698F\",\"#00698F\",\"#FF8C00\",\"#8B0A1A\",\"#00698F\",\"#00698F\",\"#00698F\",\"#FF8C00\",\"#FF8C00\",\"#FF8C00\",\"#00698F\",\"#00698F\",\"#00698F\",\"#FF8C00\",\"#00698F\",\"#00698F\",\"#8B0A1A\",\"#00698F\",\"#00698F\",\"#FF8C00\",\"#00698F\",\"#00698F\",\"#00698F\",\"#8B0A1A\",\"#00698F\",\"#FF8C00\",\"#00698F\",\"#00698F\",\"#8B0A1A\",\"#00698F\",\"#8B0A1A\",\"#8B0A1A\",\"#00698F\",\"#00698F\",\"#00698F\",\"#00698F\",\"#00698F\",\"#00698F\",\"#00698F\",\"#00698F\",\"#00698F\",\"#00698F\",\"#FF8C00\",\"#00698F\",\"#00698F\",\"#00698F\",\"#00698F\",\"#00698F\",\"#8B0A1A\",\"#00698F\",\"#00698F\",\"#8B0A1A\",\"#8B0A1A\",\"#FF8C00\",\"#00698F\",\"#FF8C00\",\"#8B0A1A\",\"#00698F\",\"#00698F\",\"#00698F\",\"#00698F\",\"#00698F\",\"#00698F\",\"#00698F\",\"#8B0A1A\",\"#00698F\",\"#00698F\",\"#00698F\",\"#00698F\",\"#FF8C00\",\"#00698F\",\"#00698F\",\"#00698F\",\"#FF8C00\",\"#8B0A1A\",\"#00698F\",\"#00698F\",\"#8B0A1A\",\"#00698F\",\"#FF8C00\",\"#FF8C00\",\"#FF8C00\",\"#FF8C00\",\"#8B0A1A\",\"#00698F\",\"#00698F\",\"#8B0A1A\",\"#00698F\",\"#00698F\",\"#00698F\",\"#00698F\",\"#00698F\",\"#00698F\",\"#00698F\",\"#00698F\",\"#FF8C00\",\"#00698F\",\"#FF8C00\",\"#00698F\",\"#00698F\",\"#00698F\",\"#00698F\",\"#00698F\",\"#00698F\",\"#00698F\",\"#00698F\",\"#00698F\",\"#00698F\",\"#00698F\",\"#00698F\",\"#FF8C00\",\"#00698F\",\"#00698F\",\"#00698F\",\"#FF8C00\",\"#00698F\",\"#8B0A1A\",\"#00698F\",\"#00698F\",\"#00698F\",\"#00698F\",\"#00698F\",\"#00698F\",\"#00698F\",\"#FF8C00\",\"#FF8C00\",\"#00698F\",\"#FF8C00\",\"#FF8C00\",\"#8B0A1A\",\"#00698F\",\"#FF8C00\",\"#00698F\",\"#8B0A1A\",\"#00698F\",\"#00698F\",\"#FF8C00\",\"#00698F\",\"#FF8C00\",\"#00698F\",\"#FF8C00\",\"#00698F\",\"#FF8C00\",\"#00698F\",\"#8B0A1A\",\"#8B0A1A\",\"#8B0A1A\",\"#00698F\",\"#00698F\",\"#00698F\",\"#00698F\",\"#8B0A1A\",\"#FF8C00\",\"#00698F\",\"#00698F\",\"#00698F\",\"#00698F\",\"#00698F\",\"#FF8C00\",\"#00698F\",\"#00698F\",\"#FF8C00\",\"#00698F\",\"#FF8C00\",\"#00698F\",\"#00698F\",\"#00698F\",\"#8B0A1A\",\"#8B0A1A\",\"#00698F\",\"#00698F\",\"#00698F\",\"#FF8C00\",\"#00698F\",\"#00698F\",\"#00698F\",\"#00698F\",\"#00698F\",\"#8B0A1A\",\"#00698F\",\"#00698F\",\"#FF8C00\",\"#00698F\",\"#00698F\",\"#8B0A1A\",\"#00698F\",\"#00698F\",\"#00698F\",\"#00698F\",\"#00698F\",\"#00698F\",\"#00698F\",\"#00698F\",\"#00698F\",\"#00698F\",\"#00698F\",\"#00698F\",\"#8B0A1A\",\"#00698F\",\"#00698F\",\"#8B0A1A\",\"#FF8C00\",\"#00698F\",\"#FF8C00\",\"#8B0A1A\",\"#00698F\",\"#00698F\",\"#00698F\",\"#00698F\",\"#00698F\",\"#8B0A1A\",\"#00698F\",\"#00698F\",\"#00698F\",\"#00698F\",\"#FF8C00\",\"#00698F\",\"#00698F\",\"#00698F\",\"#FF8C00\",\"#00698F\",\"#00698F\",\"#00698F\",\"#00698F\",\"#00698F\",\"#00698F\",\"#8B0A1A\",\"#00698F\",\"#FF8C00\",\"#00698F\",\"#00698F\",\"#FF8C00\",\"#00698F\"]},\"x\":[\"Travel_Rarely\",\"Travel_Frequently\",\"Travel_Rarely\",\"Travel_Frequently\",\"Travel_Rarely\",\"Travel_Frequently\",\"Travel_Rarely\",\"Travel_Rarely\",\"Travel_Frequently\",\"Travel_Rarely\",\"Travel_Rarely\",\"Travel_Rarely\",\"Travel_Rarely\",\"Travel_Rarely\",\"Travel_Rarely\",\"Travel_Rarely\",\"Travel_Rarely\",\"Non-Travel\",\"Travel_Rarely\",\"Travel_Rarely\",\"Non-Travel\",\"Travel_Rarely\",\"Travel_Rarely\",\"Travel_Rarely\",\"Travel_Rarely\",\"Travel_Rarely\",\"Travel_Frequently\",\"Travel_Rarely\",\"Travel_Rarely\",\"Travel_Rarely\",\"Travel_Rarely\",\"Travel_Rarely\",\"Travel_Rarely\",\"Travel_Rarely\",\"Travel_Rarely\",\"Travel_Rarely\",\"Travel_Rarely\",\"Travel_Rarely\",\"Travel_Rarely\",\"Travel_Frequently\",\"Travel_Rarely\",\"Travel_Rarely\",\"Travel_Rarely\",\"Travel_Frequently\",\"Travel_Frequently\",\"Travel_Rarely\",\"Non-Travel\",\"Travel_Rarely\",\"Travel_Frequently\",\"Travel_Rarely\",\"Travel_Rarely\",\"Travel_Rarely\",\"Travel_Rarely\",\"Non-Travel\",\"Travel_Rarely\",\"Travel_Frequently\",\"Travel_Frequently\",\"Travel_Rarely\",\"Travel_Rarely\",\"Travel_Rarely\",\"Travel_Rarely\",\"Travel_Frequently\",\"Travel_Rarely\",\"Travel_Rarely\",\"Travel_Rarely\",\"Travel_Rarely\",\"Travel_Frequently\",\"Travel_Rarely\",\"Travel_Frequently\",\"Travel_Rarely\",\"Travel_Frequently\",\"Travel_Rarely\",\"Travel_Rarely\",\"Travel_Rarely\",\"Travel_Rarely\",\"Travel_Rarely\",\"Travel_Rarely\",\"Travel_Rarely\",\"Travel_Rarely\",\"Travel_Rarely\",\"Travel_Rarely\",\"Travel_Rarely\",\"Travel_Rarely\",\"Non-Travel\",\"Travel_Rarely\",\"Travel_Rarely\",\"Travel_Rarely\",\"Travel_Rarely\",\"Travel_Rarely\",\"Travel_Rarely\",\"Travel_Frequently\",\"Travel_Rarely\",\"Travel_Rarely\",\"Travel_Frequently\",\"Travel_Rarely\",\"Travel_Rarely\",\"Travel_Rarely\",\"Non-Travel\",\"Travel_Rarely\",\"Non-Travel\",\"Travel_Rarely\",\"Travel_Rarely\",\"Travel_Frequently\",\"Travel_Rarely\",\"Non-Travel\",\"Non-Travel\",\"Travel_Frequently\",\"Travel_Rarely\",\"Travel_Rarely\",\"Travel_Rarely\",\"Travel_Frequently\",\"Travel_Frequently\",\"Non-Travel\",\"Travel_Rarely\",\"Travel_Rarely\",\"Travel_Rarely\",\"Travel_Rarely\",\"Travel_Frequently\",\"Travel_Rarely\",\"Travel_Frequently\",\"Travel_Frequently\",\"Non-Travel\",\"Travel_Rarely\",\"Travel_Rarely\",\"Travel_Rarely\",\"Travel_Rarely\",\"Travel_Rarely\",\"Travel_Rarely\",\"Travel_Rarely\",\"Travel_Rarely\",\"Travel_Frequently\",\"Travel_Frequently\",\"Travel_Rarely\",\"Travel_Rarely\",\"Travel_Rarely\",\"Travel_Rarely\",\"Travel_Frequently\",\"Travel_Rarely\",\"Travel_Rarely\",\"Travel_Rarely\",\"Travel_Rarely\",\"Travel_Rarely\",\"Travel_Rarely\",\"Travel_Rarely\",\"Travel_Frequently\",\"Travel_Rarely\",\"Travel_Rarely\",\"Travel_Frequently\",\"Travel_Rarely\",\"Travel_Rarely\",\"Travel_Frequently\",\"Travel_Rarely\",\"Travel_Rarely\",\"Travel_Rarely\",\"Travel_Frequently\",\"Non-Travel\",\"Travel_Rarely\",\"Travel_Rarely\",\"Travel_Rarely\",\"Travel_Frequently\",\"Travel_Rarely\",\"Non-Travel\",\"Travel_Rarely\",\"Travel_Rarely\",\"Non-Travel\",\"Travel_Rarely\",\"Travel_Rarely\",\"Travel_Rarely\",\"Travel_Rarely\",\"Travel_Rarely\",\"Travel_Rarely\",\"Travel_Frequently\",\"Travel_Frequently\",\"Non-Travel\",\"Travel_Rarely\",\"Travel_Rarely\",\"Travel_Rarely\",\"Travel_Rarely\",\"Travel_Rarely\",\"Travel_Rarely\",\"Travel_Rarely\",\"Travel_Rarely\",\"Travel_Rarely\",\"Travel_Rarely\",\"Travel_Rarely\",\"Travel_Rarely\",\"Travel_Rarely\",\"Travel_Rarely\",\"Travel_Frequently\",\"Travel_Rarely\",\"Travel_Rarely\",\"Travel_Rarely\",\"Travel_Rarely\",\"Non-Travel\",\"Non-Travel\",\"Travel_Rarely\",\"Travel_Frequently\",\"Non-Travel\",\"Travel_Rarely\",\"Travel_Rarely\",\"Travel_Frequently\",\"Non-Travel\",\"Travel_Frequently\",\"Travel_Rarely\",\"Travel_Rarely\",\"Travel_Rarely\",\"Travel_Rarely\",\"Travel_Frequently\",\"Non-Travel\",\"Travel_Rarely\",\"Travel_Rarely\",\"Non-Travel\",\"Travel_Frequently\",\"Travel_Rarely\",\"Travel_Rarely\",\"Travel_Rarely\",\"Travel_Frequently\",\"Travel_Rarely\",\"Non-Travel\",\"Travel_Rarely\",\"Travel_Rarely\",\"Travel_Rarely\",\"Travel_Frequently\",\"Travel_Rarely\",\"Non-Travel\",\"Travel_Rarely\",\"Travel_Frequently\",\"Travel_Frequently\",\"Travel_Frequently\",\"Travel_Rarely\",\"Travel_Rarely\",\"Travel_Rarely\",\"Travel_Rarely\",\"Travel_Rarely\",\"Travel_Rarely\",\"Travel_Rarely\",\"Travel_Rarely\",\"Non-Travel\",\"Travel_Rarely\",\"Travel_Rarely\",\"Travel_Rarely\",\"Non-Travel\",\"Travel_Rarely\",\"Travel_Rarely\",\"Travel_Rarely\",\"Travel_Frequently\",\"Travel_Rarely\",\"Travel_Rarely\",\"Travel_Rarely\",\"Travel_Frequently\",\"Travel_Frequently\",\"Travel_Frequently\",\"Travel_Rarely\",\"Travel_Rarely\",\"Travel_Rarely\",\"Travel_Rarely\",\"Travel_Rarely\",\"Travel_Rarely\",\"Travel_Rarely\",\"Travel_Frequently\",\"Travel_Frequently\",\"Non-Travel\",\"Travel_Rarely\",\"Travel_Rarely\",\"Travel_Rarely\",\"Travel_Rarely\",\"Travel_Rarely\",\"Non-Travel\",\"Travel_Rarely\",\"Travel_Rarely\",\"Travel_Rarely\",\"Non-Travel\",\"Travel_Rarely\",\"Travel_Rarely\",\"Travel_Rarely\",\"Non-Travel\",\"Travel_Rarely\",\"Travel_Rarely\",\"Travel_Frequently\",\"Travel_Rarely\",\"Travel_Rarely\",\"Travel_Rarely\",\"Travel_Frequently\",\"Travel_Rarely\",\"Travel_Frequently\",\"Travel_Rarely\",\"Travel_Frequently\",\"Travel_Rarely\",\"Travel_Rarely\",\"Travel_Rarely\",\"Travel_Frequently\",\"Travel_Rarely\",\"Travel_Frequently\",\"Travel_Rarely\",\"Travel_Frequently\",\"Travel_Frequently\",\"Travel_Rarely\",\"Travel_Rarely\",\"Travel_Frequently\",\"Travel_Rarely\",\"Travel_Rarely\",\"Travel_Rarely\",\"Travel_Rarely\",\"Travel_Rarely\",\"Travel_Rarely\",\"Non-Travel\",\"Travel_Rarely\",\"Travel_Rarely\",\"Non-Travel\",\"Travel_Rarely\",\"Travel_Rarely\",\"Travel_Frequently\",\"Travel_Rarely\",\"Travel_Frequently\",\"Travel_Rarely\",\"Travel_Frequently\",\"Travel_Rarely\",\"Travel_Rarely\",\"Travel_Rarely\",\"Travel_Rarely\",\"Travel_Rarely\",\"Travel_Rarely\",\"Travel_Rarely\",\"Travel_Rarely\",\"Travel_Rarely\",\"Travel_Frequently\",\"Travel_Frequently\",\"Travel_Rarely\",\"Travel_Frequently\",\"Travel_Rarely\",\"Travel_Frequently\",\"Non-Travel\",\"Travel_Frequently\",\"Travel_Rarely\",\"Travel_Rarely\",\"Travel_Rarely\",\"Travel_Rarely\",\"Travel_Rarely\",\"Travel_Rarely\",\"Travel_Rarely\",\"Travel_Rarely\",\"Travel_Rarely\",\"Travel_Rarely\",\"Travel_Rarely\",\"Travel_Rarely\",\"Travel_Rarely\",\"Travel_Rarely\",\"Travel_Frequently\",\"Travel_Rarely\",\"Non-Travel\",\"Travel_Rarely\",\"Travel_Rarely\",\"Travel_Rarely\",\"Travel_Rarely\",\"Non-Travel\",\"Travel_Rarely\",\"Travel_Rarely\",\"Travel_Frequently\",\"Non-Travel\",\"Travel_Frequently\",\"Travel_Rarely\",\"Travel_Rarely\",\"Non-Travel\",\"Travel_Rarely\",\"Travel_Rarely\",\"Non-Travel\",\"Travel_Frequently\",\"Travel_Rarely\",\"Travel_Rarely\",\"Travel_Rarely\",\"Travel_Rarely\",\"Travel_Rarely\",\"Travel_Rarely\",\"Travel_Rarely\",\"Travel_Rarely\",\"Travel_Rarely\",\"Travel_Rarely\",\"Travel_Rarely\",\"Non-Travel\",\"Travel_Rarely\",\"Travel_Rarely\",\"Travel_Rarely\",\"Travel_Frequently\",\"Travel_Rarely\",\"Travel_Rarely\",\"Travel_Frequently\",\"Travel_Rarely\",\"Travel_Rarely\",\"Travel_Rarely\",\"Travel_Rarely\",\"Travel_Rarely\",\"Travel_Rarely\",\"Travel_Rarely\",\"Non-Travel\",\"Travel_Rarely\",\"Travel_Frequently\",\"Travel_Rarely\",\"Travel_Rarely\",\"Non-Travel\",\"Travel_Rarely\",\"Travel_Frequently\",\"Travel_Frequently\",\"Travel_Rarely\",\"Travel_Rarely\",\"Travel_Rarely\",\"Travel_Rarely\",\"Travel_Rarely\",\"Travel_Rarely\",\"Travel_Rarely\",\"Travel_Frequently\",\"Travel_Rarely\",\"Travel_Rarely\",\"Travel_Rarely\",\"Travel_Frequently\",\"Travel_Rarely\",\"Travel_Frequently\",\"Travel_Frequently\",\"Travel_Rarely\",\"Travel_Rarely\",\"Non-Travel\",\"Travel_Rarely\",\"Travel_Rarely\",\"Travel_Rarely\",\"Non-Travel\",\"Travel_Rarely\",\"Travel_Rarely\",\"Non-Travel\",\"Travel_Frequently\",\"Travel_Rarely\",\"Travel_Rarely\",\"Travel_Rarely\",\"Travel_Rarely\",\"Travel_Rarely\",\"Travel_Rarely\",\"Travel_Rarely\",\"Travel_Rarely\",\"Travel_Rarely\",\"Travel_Rarely\",\"Travel_Rarely\",\"Travel_Frequently\",\"Travel_Frequently\",\"Travel_Frequently\",\"Non-Travel\",\"Travel_Frequently\",\"Travel_Rarely\",\"Travel_Rarely\",\"Non-Travel\",\"Travel_Rarely\",\"Travel_Rarely\",\"Travel_Frequently\",\"Travel_Rarely\",\"Travel_Rarely\",\"Travel_Rarely\",\"Travel_Frequently\",\"Travel_Rarely\",\"Travel_Rarely\",\"Travel_Rarely\",\"Travel_Frequently\",\"Non-Travel\",\"Non-Travel\",\"Travel_Rarely\",\"Travel_Rarely\",\"Travel_Rarely\",\"Travel_Rarely\",\"Travel_Rarely\",\"Travel_Frequently\",\"Travel_Rarely\",\"Non-Travel\",\"Travel_Rarely\",\"Non-Travel\",\"Travel_Frequently\",\"Travel_Rarely\",\"Travel_Rarely\",\"Travel_Rarely\",\"Travel_Rarely\",\"Travel_Rarely\",\"Travel_Rarely\",\"Travel_Frequently\",\"Travel_Rarely\",\"Travel_Frequently\",\"Travel_Frequently\",\"Travel_Rarely\",\"Travel_Rarely\",\"Travel_Rarely\",\"Travel_Rarely\",\"Travel_Rarely\",\"Travel_Rarely\",\"Travel_Rarely\",\"Travel_Rarely\",\"Travel_Rarely\",\"Travel_Rarely\",\"Travel_Frequently\",\"Travel_Rarely\",\"Travel_Rarely\",\"Travel_Rarely\",\"Travel_Rarely\",\"Travel_Rarely\",\"Travel_Rarely\",\"Travel_Rarely\",\"Travel_Rarely\",\"Travel_Rarely\",\"Travel_Frequently\",\"Travel_Rarely\",\"Travel_Rarely\",\"Travel_Frequently\",\"Travel_Rarely\",\"Travel_Rarely\",\"Travel_Rarely\",\"Travel_Rarely\",\"Travel_Frequently\",\"Travel_Rarely\",\"Travel_Rarely\",\"Travel_Rarely\",\"Travel_Rarely\",\"Travel_Frequently\",\"Non-Travel\",\"Travel_Rarely\",\"Travel_Rarely\",\"Travel_Rarely\",\"Travel_Frequently\",\"Travel_Rarely\",\"Travel_Frequently\",\"Travel_Rarely\",\"Travel_Rarely\",\"Travel_Rarely\",\"Travel_Rarely\",\"Travel_Rarely\",\"Travel_Rarely\",\"Travel_Frequently\",\"Travel_Rarely\",\"Travel_Rarely\",\"Travel_Rarely\",\"Travel_Rarely\",\"Travel_Frequently\",\"Travel_Rarely\",\"Travel_Rarely\",\"Travel_Rarely\",\"Travel_Frequently\",\"Travel_Rarely\",\"Travel_Rarely\",\"Travel_Rarely\",\"Non-Travel\",\"Travel_Rarely\",\"Non-Travel\",\"Travel_Frequently\",\"Travel_Rarely\",\"Travel_Rarely\",\"Travel_Frequently\",\"Travel_Frequently\",\"Travel_Rarely\",\"Travel_Rarely\",\"Travel_Rarely\",\"Travel_Rarely\",\"Travel_Rarely\",\"Travel_Rarely\",\"Travel_Rarely\",\"Travel_Rarely\",\"Non-Travel\",\"Travel_Frequently\",\"Travel_Rarely\",\"Travel_Rarely\",\"Travel_Rarely\",\"Travel_Rarely\",\"Travel_Rarely\",\"Travel_Rarely\",\"Travel_Rarely\",\"Travel_Frequently\",\"Travel_Rarely\",\"Travel_Rarely\",\"Non-Travel\",\"Non-Travel\",\"Travel_Frequently\",\"Travel_Rarely\",\"Travel_Rarely\",\"Travel_Rarely\",\"Travel_Rarely\",\"Travel_Frequently\",\"Travel_Rarely\",\"Travel_Frequently\",\"Travel_Rarely\",\"Travel_Rarely\",\"Travel_Rarely\",\"Travel_Frequently\",\"Travel_Rarely\",\"Travel_Frequently\",\"Travel_Rarely\",\"Non-Travel\",\"Travel_Rarely\",\"Travel_Rarely\",\"Travel_Rarely\",\"Travel_Rarely\",\"Travel_Rarely\",\"Travel_Rarely\",\"Travel_Rarely\",\"Travel_Rarely\",\"Travel_Rarely\",\"Travel_Rarely\",\"Travel_Rarely\",\"Travel_Rarely\",\"Travel_Rarely\",\"Travel_Rarely\",\"Travel_Frequently\",\"Travel_Rarely\",\"Travel_Rarely\",\"Travel_Rarely\",\"Travel_Frequently\",\"Travel_Frequently\",\"Travel_Rarely\",\"Travel_Rarely\",\"Travel_Rarely\",\"Travel_Rarely\",\"Travel_Rarely\",\"Travel_Rarely\",\"Travel_Rarely\",\"Travel_Frequently\",\"Non-Travel\",\"Travel_Rarely\",\"Travel_Rarely\",\"Travel_Rarely\",\"Travel_Rarely\",\"Travel_Rarely\",\"Travel_Rarely\",\"Travel_Rarely\",\"Travel_Frequently\",\"Travel_Rarely\",\"Travel_Rarely\",\"Travel_Rarely\",\"Travel_Frequently\",\"Travel_Rarely\",\"Travel_Rarely\",\"Travel_Rarely\",\"Travel_Rarely\",\"Travel_Frequently\",\"Travel_Rarely\",\"Travel_Rarely\",\"Travel_Rarely\",\"Travel_Frequently\",\"Non-Travel\",\"Travel_Rarely\",\"Travel_Rarely\",\"Non-Travel\",\"Travel_Frequently\",\"Travel_Rarely\",\"Travel_Rarely\",\"Travel_Rarely\",\"Travel_Rarely\",\"Travel_Rarely\",\"Travel_Rarely\",\"Travel_Frequently\",\"Travel_Rarely\",\"Travel_Frequently\",\"Travel_Rarely\",\"Non-Travel\",\"Non-Travel\",\"Travel_Rarely\",\"Travel_Rarely\",\"Travel_Rarely\",\"Travel_Rarely\",\"Travel_Rarely\",\"Travel_Rarely\",\"Travel_Frequently\",\"Travel_Rarely\",\"Travel_Rarely\",\"Travel_Rarely\",\"Travel_Rarely\",\"Travel_Rarely\",\"Travel_Rarely\",\"Travel_Rarely\",\"Travel_Rarely\",\"Travel_Rarely\",\"Travel_Rarely\",\"Travel_Rarely\",\"Travel_Rarely\",\"Travel_Rarely\",\"Travel_Rarely\",\"Travel_Rarely\",\"Travel_Rarely\",\"Travel_Rarely\",\"Travel_Rarely\",\"Non-Travel\",\"Travel_Rarely\",\"Travel_Rarely\",\"Non-Travel\",\"Travel_Rarely\",\"Travel_Rarely\",\"Travel_Frequently\",\"Travel_Rarely\",\"Travel_Rarely\",\"Travel_Rarely\",\"Travel_Rarely\",\"Travel_Rarely\",\"Travel_Frequently\",\"Travel_Rarely\",\"Travel_Rarely\",\"Travel_Rarely\",\"Travel_Rarely\",\"Non-Travel\",\"Travel_Frequently\",\"Travel_Rarely\",\"Travel_Rarely\",\"Travel_Rarely\",\"Travel_Rarely\",\"Travel_Rarely\",\"Non-Travel\",\"Travel_Rarely\",\"Travel_Rarely\",\"Non-Travel\",\"Travel_Frequently\",\"Non-Travel\",\"Non-Travel\",\"Non-Travel\",\"Travel_Rarely\",\"Travel_Rarely\",\"Travel_Rarely\",\"Travel_Rarely\",\"Travel_Frequently\",\"Travel_Frequently\",\"Travel_Rarely\",\"Non-Travel\",\"Travel_Rarely\",\"Travel_Rarely\",\"Travel_Rarely\",\"Travel_Frequently\",\"Travel_Rarely\",\"Travel_Rarely\",\"Travel_Rarely\",\"Travel_Frequently\",\"Non-Travel\",\"Travel_Rarely\",\"Travel_Rarely\",\"Travel_Rarely\",\"Travel_Rarely\",\"Travel_Frequently\",\"Travel_Rarely\",\"Travel_Rarely\",\"Travel_Rarely\",\"Travel_Rarely\",\"Travel_Rarely\",\"Travel_Rarely\",\"Travel_Rarely\",\"Travel_Rarely\",\"Travel_Rarely\",\"Travel_Rarely\",\"Travel_Rarely\",\"Travel_Rarely\",\"Travel_Frequently\",\"Non-Travel\",\"Travel_Rarely\",\"Non-Travel\",\"Travel_Rarely\",\"Travel_Rarely\",\"Non-Travel\",\"Travel_Rarely\",\"Travel_Frequently\",\"Non-Travel\",\"Travel_Rarely\",\"Non-Travel\",\"Travel_Rarely\",\"Travel_Rarely\",\"Travel_Rarely\",\"Travel_Frequently\",\"Travel_Rarely\",\"Travel_Frequently\",\"Travel_Rarely\",\"Travel_Rarely\",\"Travel_Frequently\",\"Travel_Rarely\",\"Travel_Rarely\",\"Travel_Rarely\",\"Travel_Frequently\",\"Travel_Rarely\",\"Travel_Rarely\",\"Travel_Frequently\",\"Travel_Rarely\",\"Non-Travel\",\"Travel_Rarely\",\"Travel_Frequently\",\"Travel_Rarely\",\"Travel_Rarely\",\"Travel_Rarely\",\"Non-Travel\",\"Travel_Rarely\",\"Travel_Rarely\",\"Travel_Rarely\",\"Travel_Rarely\",\"Travel_Rarely\",\"Non-Travel\",\"Travel_Frequently\",\"Travel_Rarely\",\"Travel_Rarely\",\"Travel_Rarely\",\"Travel_Rarely\",\"Travel_Frequently\",\"Travel_Rarely\",\"Travel_Frequently\",\"Travel_Rarely\",\"Travel_Rarely\",\"Travel_Rarely\",\"Travel_Rarely\",\"Travel_Rarely\",\"Travel_Frequently\",\"Travel_Frequently\",\"Travel_Frequently\",\"Non-Travel\",\"Non-Travel\",\"Non-Travel\",\"Travel_Rarely\",\"Travel_Rarely\",\"Travel_Rarely\",\"Travel_Rarely\",\"Travel_Rarely\",\"Travel_Rarely\",\"Travel_Frequently\",\"Travel_Frequently\",\"Travel_Rarely\",\"Travel_Rarely\",\"Non-Travel\",\"Non-Travel\",\"Travel_Frequently\",\"Travel_Rarely\",\"Travel_Frequently\",\"Travel_Rarely\",\"Travel_Frequently\",\"Travel_Frequently\",\"Travel_Rarely\",\"Travel_Rarely\",\"Travel_Rarely\",\"Travel_Frequently\",\"Non-Travel\",\"Travel_Rarely\",\"Travel_Rarely\",\"Travel_Frequently\",\"Travel_Rarely\",\"Travel_Rarely\",\"Travel_Rarely\",\"Travel_Rarely\",\"Travel_Rarely\",\"Travel_Frequently\",\"Travel_Frequently\",\"Travel_Rarely\",\"Travel_Rarely\",\"Travel_Rarely\",\"Travel_Rarely\",\"Travel_Rarely\",\"Travel_Rarely\",\"Travel_Frequently\",\"Travel_Rarely\",\"Travel_Frequently\",\"Travel_Frequently\",\"Travel_Rarely\",\"Non-Travel\",\"Travel_Rarely\",\"Travel_Rarely\",\"Travel_Rarely\",\"Travel_Rarely\",\"Travel_Rarely\",\"Travel_Rarely\",\"Travel_Rarely\",\"Travel_Rarely\",\"Travel_Rarely\",\"Travel_Frequently\",\"Travel_Rarely\",\"Non-Travel\",\"Travel_Rarely\",\"Non-Travel\",\"Travel_Rarely\",\"Travel_Frequently\",\"Travel_Frequently\",\"Travel_Rarely\",\"Travel_Rarely\",\"Travel_Rarely\",\"Travel_Rarely\",\"Travel_Frequently\",\"Travel_Rarely\",\"Travel_Rarely\",\"Travel_Rarely\",\"Travel_Rarely\",\"Travel_Rarely\",\"Non-Travel\",\"Travel_Rarely\",\"Travel_Frequently\",\"Travel_Frequently\",\"Travel_Rarely\",\"Travel_Rarely\",\"Travel_Rarely\",\"Travel_Rarely\",\"Travel_Rarely\",\"Travel_Frequently\",\"Non-Travel\",\"Travel_Rarely\",\"Travel_Frequently\",\"Travel_Rarely\",\"Non-Travel\",\"Travel_Rarely\",\"Travel_Rarely\",\"Travel_Rarely\",\"Travel_Rarely\",\"Travel_Rarely\",\"Travel_Rarely\",\"Travel_Rarely\",\"Travel_Frequently\",\"Travel_Rarely\",\"Travel_Rarely\",\"Travel_Rarely\",\"Travel_Rarely\",\"Travel_Rarely\",\"Travel_Rarely\",\"Travel_Rarely\",\"Travel_Rarely\",\"Travel_Rarely\",\"Travel_Rarely\",\"Travel_Frequently\",\"Travel_Rarely\",\"Travel_Rarely\",\"Non-Travel\",\"Travel_Frequently\",\"Travel_Rarely\",\"Travel_Rarely\",\"Travel_Frequently\",\"Travel_Rarely\",\"Travel_Frequently\",\"Travel_Frequently\",\"Travel_Rarely\",\"Travel_Frequently\",\"Travel_Rarely\",\"Travel_Rarely\",\"Travel_Rarely\",\"Travel_Rarely\",\"Travel_Rarely\",\"Travel_Frequently\",\"Travel_Frequently\",\"Non-Travel\",\"Travel_Rarely\",\"Travel_Rarely\",\"Travel_Rarely\",\"Travel_Rarely\",\"Travel_Frequently\",\"Travel_Rarely\",\"Travel_Rarely\",\"Travel_Rarely\",\"Travel_Rarely\",\"Travel_Rarely\",\"Travel_Rarely\",\"Travel_Rarely\",\"Non-Travel\",\"Travel_Rarely\",\"Travel_Rarely\",\"Travel_Rarely\",\"Travel_Rarely\",\"Travel_Rarely\",\"Non-Travel\",\"Non-Travel\",\"Travel_Frequently\",\"Travel_Rarely\",\"Non-Travel\",\"Travel_Rarely\",\"Travel_Rarely\",\"Non-Travel\",\"Travel_Rarely\",\"Travel_Rarely\",\"Travel_Frequently\",\"Travel_Frequently\",\"Travel_Rarely\",\"Travel_Rarely\",\"Travel_Rarely\",\"Travel_Rarely\",\"Travel_Rarely\",\"Travel_Rarely\",\"Travel_Frequently\",\"Travel_Rarely\",\"Travel_Rarely\",\"Travel_Rarely\",\"Non-Travel\",\"Travel_Rarely\",\"Travel_Frequently\",\"Travel_Rarely\",\"Travel_Rarely\",\"Non-Travel\",\"Travel_Rarely\",\"Travel_Rarely\",\"Travel_Frequently\",\"Travel_Frequently\",\"Travel_Frequently\",\"Travel_Rarely\",\"Travel_Rarely\",\"Travel_Rarely\",\"Travel_Rarely\",\"Travel_Frequently\",\"Travel_Frequently\",\"Travel_Rarely\",\"Travel_Frequently\",\"Travel_Rarely\",\"Non-Travel\",\"Travel_Rarely\",\"Travel_Frequently\",\"Travel_Rarely\",\"Travel_Rarely\",\"Travel_Rarely\",\"Travel_Rarely\",\"Travel_Rarely\",\"Travel_Rarely\",\"Travel_Rarely\",\"Travel_Frequently\",\"Travel_Rarely\",\"Travel_Rarely\",\"Travel_Rarely\",\"Travel_Frequently\",\"Travel_Frequently\",\"Travel_Rarely\",\"Travel_Rarely\",\"Travel_Rarely\",\"Travel_Rarely\",\"Travel_Frequently\",\"Travel_Rarely\",\"Travel_Rarely\",\"Travel_Frequently\",\"Travel_Rarely\",\"Travel_Rarely\",\"Travel_Rarely\",\"Travel_Rarely\",\"Travel_Rarely\",\"Travel_Rarely\",\"Non-Travel\",\"Travel_Rarely\",\"Travel_Rarely\",\"Travel_Rarely\",\"Travel_Rarely\",\"Travel_Rarely\",\"Travel_Rarely\",\"Non-Travel\",\"Travel_Rarely\",\"Travel_Rarely\",\"Non-Travel\",\"Travel_Frequently\",\"Travel_Rarely\",\"Travel_Rarely\",\"Travel_Frequently\",\"Travel_Rarely\",\"Travel_Rarely\",\"Travel_Rarely\",\"Non-Travel\",\"Travel_Rarely\",\"Non-Travel\",\"Travel_Rarely\",\"Travel_Rarely\",\"Travel_Rarely\",\"Travel_Rarely\",\"Travel_Frequently\",\"Travel_Rarely\",\"Travel_Rarely\",\"Travel_Frequently\",\"Travel_Frequently\",\"Non-Travel\",\"Travel_Rarely\",\"Travel_Rarely\",\"Travel_Frequently\",\"Travel_Frequently\",\"Travel_Frequently\",\"Travel_Rarely\",\"Travel_Rarely\",\"Travel_Frequently\",\"Non-Travel\",\"Travel_Frequently\",\"Travel_Rarely\",\"Travel_Rarely\",\"Travel_Rarely\",\"Travel_Rarely\",\"Travel_Rarely\",\"Travel_Frequently\",\"Travel_Rarely\",\"Travel_Frequently\",\"Travel_Rarely\",\"Travel_Frequently\",\"Travel_Rarely\",\"Travel_Rarely\",\"Travel_Rarely\",\"Travel_Frequently\",\"Travel_Rarely\",\"Travel_Rarely\",\"Travel_Rarely\",\"Travel_Rarely\",\"Travel_Rarely\",\"Travel_Rarely\",\"Travel_Rarely\",\"Travel_Rarely\",\"Travel_Frequently\",\"Travel_Frequently\",\"Travel_Rarely\",\"Travel_Rarely\",\"Travel_Rarely\",\"Travel_Rarely\",\"Travel_Rarely\",\"Travel_Rarely\",\"Travel_Frequently\",\"Travel_Rarely\",\"Travel_Rarely\",\"Travel_Rarely\",\"Travel_Rarely\",\"Non-Travel\",\"Travel_Rarely\",\"Travel_Rarely\",\"Travel_Rarely\",\"Travel_Rarely\",\"Travel_Rarely\",\"Travel_Rarely\",\"Travel_Rarely\",\"Travel_Rarely\",\"Travel_Frequently\",\"Travel_Rarely\",\"Travel_Rarely\",\"Travel_Rarely\",\"Travel_Rarely\",\"Travel_Rarely\",\"Non-Travel\",\"Travel_Rarely\",\"Travel_Rarely\",\"Travel_Rarely\",\"Travel_Rarely\",\"Travel_Rarely\",\"Travel_Rarely\",\"Travel_Rarely\",\"Travel_Rarely\",\"Travel_Rarely\",\"Travel_Rarely\",\"Travel_Rarely\",\"Travel_Frequently\",\"Travel_Rarely\",\"Travel_Rarely\",\"Travel_Frequently\",\"Travel_Rarely\",\"Travel_Rarely\",\"Travel_Frequently\",\"Travel_Rarely\",\"Travel_Rarely\",\"Travel_Rarely\",\"Travel_Rarely\",\"Travel_Rarely\",\"Non-Travel\",\"Travel_Frequently\",\"Travel_Rarely\",\"Travel_Rarely\",\"Travel_Rarely\",\"Travel_Rarely\",\"Non-Travel\",\"Travel_Frequently\",\"Travel_Rarely\",\"Travel_Frequently\",\"Travel_Rarely\",\"Travel_Rarely\",\"Travel_Rarely\",\"Travel_Rarely\",\"Travel_Rarely\",\"Travel_Rarely\",\"Travel_Frequently\",\"Travel_Rarely\",\"Travel_Rarely\",\"Travel_Rarely\",\"Non-Travel\",\"Travel_Rarely\",\"Travel_Frequently\",\"Travel_Rarely\",\"Travel_Rarely\",\"Travel_Rarely\",\"Travel_Rarely\",\"Travel_Rarely\",\"Travel_Frequently\",\"Travel_Frequently\",\"Travel_Rarely\",\"Travel_Frequently\",\"Travel_Rarely\",\"Travel_Frequently\",\"Travel_Rarely\",\"Travel_Rarely\",\"Travel_Rarely\",\"Travel_Frequently\",\"Travel_Rarely\",\"Travel_Rarely\",\"Travel_Rarely\",\"Travel_Rarely\",\"Travel_Rarely\",\"Travel_Rarely\",\"Travel_Rarely\",\"Non-Travel\",\"Travel_Rarely\",\"Travel_Rarely\",\"Travel_Rarely\",\"Travel_Frequently\",\"Travel_Frequently\",\"Travel_Rarely\",\"Travel_Rarely\",\"Travel_Rarely\",\"Travel_Rarely\",\"Travel_Rarely\",\"Travel_Frequently\",\"Travel_Rarely\",\"Travel_Rarely\",\"Travel_Rarely\",\"Travel_Rarely\",\"Non-Travel\",\"Travel_Rarely\",\"Travel_Rarely\",\"Travel_Rarely\",\"Travel_Rarely\",\"Travel_Rarely\",\"Travel_Frequently\",\"Travel_Rarely\",\"Non-Travel\",\"Travel_Rarely\",\"Travel_Rarely\",\"Travel_Rarely\",\"Travel_Rarely\",\"Travel_Frequently\",\"Travel_Rarely\",\"Travel_Rarely\",\"Travel_Rarely\",\"Travel_Frequently\",\"Travel_Rarely\",\"Travel_Rarely\",\"Travel_Rarely\",\"Travel_Rarely\",\"Travel_Rarely\",\"Non-Travel\",\"Travel_Rarely\",\"Travel_Frequently\",\"Travel_Rarely\",\"Travel_Rarely\",\"Travel_Frequently\",\"Travel_Rarely\",\"Non-Travel\",\"Travel_Rarely\",\"Travel_Rarely\",\"Travel_Rarely\",\"Travel_Rarely\",\"Travel_Rarely\",\"Non-Travel\",\"Travel_Rarely\",\"Travel_Rarely\",\"Travel_Rarely\",\"Travel_Rarely\",\"Travel_Frequently\",\"Non-Travel\",\"Travel_Rarely\",\"Travel_Rarely\",\"Travel_Rarely\",\"Travel_Frequently\",\"Travel_Frequently\",\"Travel_Frequently\",\"Travel_Rarely\",\"Travel_Rarely\",\"Travel_Rarely\",\"Travel_Frequently\",\"Travel_Rarely\",\"Travel_Rarely\",\"Non-Travel\",\"Travel_Rarely\",\"Travel_Rarely\",\"Travel_Frequently\",\"Travel_Rarely\",\"Travel_Rarely\",\"Travel_Rarely\",\"Non-Travel\",\"Travel_Rarely\",\"Travel_Frequently\",\"Travel_Rarely\",\"Travel_Rarely\",\"Non-Travel\",\"Travel_Rarely\",\"Non-Travel\",\"Non-Travel\",\"Travel_Rarely\",\"Travel_Rarely\",\"Travel_Rarely\",\"Travel_Rarely\",\"Travel_Rarely\",\"Travel_Rarely\",\"Travel_Rarely\",\"Travel_Rarely\",\"Travel_Rarely\",\"Travel_Rarely\",\"Travel_Frequently\",\"Travel_Rarely\",\"Travel_Rarely\",\"Travel_Rarely\",\"Travel_Rarely\",\"Travel_Rarely\",\"Non-Travel\",\"Travel_Rarely\",\"Travel_Rarely\",\"Non-Travel\",\"Non-Travel\",\"Travel_Frequently\",\"Travel_Rarely\",\"Travel_Frequently\",\"Non-Travel\",\"Travel_Rarely\",\"Travel_Rarely\",\"Travel_Rarely\",\"Travel_Rarely\",\"Travel_Rarely\",\"Travel_Rarely\",\"Travel_Rarely\",\"Non-Travel\",\"Travel_Rarely\",\"Travel_Rarely\",\"Travel_Rarely\",\"Travel_Rarely\",\"Travel_Frequently\",\"Travel_Rarely\",\"Travel_Rarely\",\"Travel_Rarely\",\"Travel_Frequently\",\"Non-Travel\",\"Travel_Rarely\",\"Travel_Rarely\",\"Non-Travel\",\"Travel_Rarely\",\"Travel_Frequently\",\"Travel_Frequently\",\"Travel_Frequently\",\"Travel_Frequently\",\"Non-Travel\",\"Travel_Rarely\",\"Travel_Rarely\",\"Non-Travel\",\"Travel_Rarely\",\"Travel_Rarely\",\"Travel_Rarely\",\"Travel_Rarely\",\"Travel_Rarely\",\"Travel_Rarely\",\"Travel_Rarely\",\"Travel_Rarely\",\"Travel_Frequently\",\"Travel_Rarely\",\"Travel_Frequently\",\"Travel_Rarely\",\"Travel_Rarely\",\"Travel_Rarely\",\"Travel_Rarely\",\"Travel_Rarely\",\"Travel_Rarely\",\"Travel_Rarely\",\"Travel_Rarely\",\"Travel_Rarely\",\"Travel_Rarely\",\"Travel_Rarely\",\"Travel_Rarely\",\"Travel_Frequently\",\"Travel_Rarely\",\"Travel_Rarely\",\"Travel_Rarely\",\"Travel_Frequently\",\"Travel_Rarely\",\"Non-Travel\",\"Travel_Rarely\",\"Travel_Rarely\",\"Travel_Rarely\",\"Travel_Rarely\",\"Travel_Rarely\",\"Travel_Rarely\",\"Travel_Rarely\",\"Travel_Frequently\",\"Travel_Frequently\",\"Travel_Rarely\",\"Travel_Frequently\",\"Travel_Frequently\",\"Non-Travel\",\"Travel_Rarely\",\"Travel_Frequently\",\"Travel_Rarely\",\"Non-Travel\",\"Travel_Rarely\",\"Travel_Rarely\",\"Travel_Frequently\",\"Travel_Rarely\",\"Travel_Frequently\",\"Travel_Rarely\",\"Travel_Frequently\",\"Travel_Rarely\",\"Travel_Frequently\",\"Travel_Rarely\",\"Non-Travel\",\"Non-Travel\",\"Non-Travel\",\"Travel_Rarely\",\"Travel_Rarely\",\"Travel_Rarely\",\"Travel_Rarely\",\"Non-Travel\",\"Travel_Frequently\",\"Travel_Rarely\",\"Travel_Rarely\",\"Travel_Rarely\",\"Travel_Rarely\",\"Travel_Rarely\",\"Travel_Frequently\",\"Travel_Rarely\",\"Travel_Rarely\",\"Travel_Frequently\",\"Travel_Rarely\",\"Travel_Frequently\",\"Travel_Rarely\",\"Travel_Rarely\",\"Travel_Rarely\",\"Non-Travel\",\"Non-Travel\",\"Travel_Rarely\",\"Travel_Rarely\",\"Travel_Rarely\",\"Travel_Frequently\",\"Travel_Rarely\",\"Travel_Rarely\",\"Travel_Rarely\",\"Travel_Rarely\",\"Travel_Rarely\",\"Non-Travel\",\"Travel_Rarely\",\"Travel_Rarely\",\"Travel_Frequently\",\"Travel_Rarely\",\"Travel_Rarely\",\"Non-Travel\",\"Travel_Rarely\",\"Travel_Rarely\",\"Travel_Rarely\",\"Travel_Rarely\",\"Travel_Rarely\",\"Travel_Rarely\",\"Travel_Rarely\",\"Travel_Rarely\",\"Travel_Rarely\",\"Travel_Rarely\",\"Travel_Rarely\",\"Travel_Rarely\",\"Non-Travel\",\"Travel_Rarely\",\"Travel_Rarely\",\"Non-Travel\",\"Travel_Frequently\",\"Travel_Rarely\",\"Travel_Frequently\",\"Non-Travel\",\"Travel_Rarely\",\"Travel_Rarely\",\"Travel_Rarely\",\"Travel_Rarely\",\"Travel_Rarely\",\"Non-Travel\",\"Travel_Rarely\",\"Travel_Rarely\",\"Travel_Rarely\",\"Travel_Rarely\",\"Travel_Frequently\",\"Travel_Rarely\",\"Travel_Rarely\",\"Travel_Rarely\",\"Travel_Frequently\",\"Travel_Rarely\",\"Travel_Rarely\",\"Travel_Rarely\",\"Travel_Rarely\",\"Travel_Rarely\",\"Travel_Rarely\",\"Non-Travel\",\"Travel_Rarely\",\"Travel_Frequently\",\"Travel_Rarely\",\"Travel_Rarely\",\"Travel_Frequently\",\"Travel_Rarely\"],\"y\":[1,0,1,0,0,0,0,0,0,0,0,0,0,0,1,0,0,0,0,0,0,1,0,0,1,0,1,0,0,0,0,0,0,1,1,0,1,0,0,0,0,0,1,0,0,1,0,0,0,0,1,1,0,0,0,0,0,0,0,0,0,0,0,0,0,0,0,0,0,1,0,0,0,0,0,0,0,0,0,0,0,0,0,0,0,0,0,0,0,1,0,0,0,0,0,0,0,0,0,0,1,0,1,0,0,0,0,1,0,0,0,1,0,0,0,0,0,0,0,0,0,0,1,0,1,0,1,1,0,0,0,0,1,0,0,0,1,0,0,0,1,0,0,0,0,0,0,0,0,0,0,0,0,0,0,0,0,0,0,0,0,0,0,0,0,0,0,0,0,0,0,1,0,0,0,0,0,1,0,0,0,0,1,0,0,0,0,0,0,0,0,0,1,0,0,0,0,0,0,0,0,0,0,0,1,1,0,0,0,0,1,0,0,0,1,0,1,1,0,0,0,0,0,0,0,0,0,0,0,1,0,0,0,0,1,0,1,0,0,1,0,0,0,0,0,0,0,0,0,0,1,0,0,0,0,0,0,0,0,1,0,0,0,0,1,0,0,0,0,0,0,1,0,0,0,0,0,0,0,0,0,0,0,0,0,0,1,0,1,0,0,0,0,1,0,0,1,0,0,0,0,0,0,0,0,0,0,0,0,0,0,0,0,0,0,0,0,1,0,0,0,0,0,1,0,0,0,1,0,0,0,0,0,0,0,0,1,0,0,0,0,0,0,0,0,0,0,0,0,0,0,0,0,0,0,0,0,1,0,0,0,0,0,1,0,0,1,0,1,0,1,0,0,0,0,0,0,0,1,0,0,0,1,0,0,1,0,0,0,0,0,0,0,0,0,0,0,0,0,0,0,0,0,0,0,1,0,0,0,0,0,0,0,0,1,1,0,0,0,0,0,1,1,0,0,0,0,0,0,0,0,0,0,0,0,1,1,0,0,1,1,0,0,1,0,0,0,0,0,0,0,0,0,1,0,0,0,1,0,0,0,0,0,1,0,0,0,0,0,1,0,0,0,0,0,0,0,0,0,1,1,0,1,0,0,0,0,0,0,0,0,0,0,0,0,1,0,0,0,0,0,0,0,0,1,0,0,0,0,0,0,0,0,1,1,0,0,0,0,0,0,0,0,0,0,1,0,0,1,0,0,0,0,0,0,0,0,0,0,0,1,0,0,0,0,0,0,1,0,0,0,0,0,0,0,0,0,0,0,0,0,0,1,0,0,0,1,0,1,0,0,0,0,1,0,0,0,0,0,0,0,0,0,0,0,1,0,0,0,1,0,1,0,0,0,1,0,0,1,0,0,0,0,0,0,0,0,1,1,0,0,0,0,0,1,0,0,0,0,0,0,0,0,0,0,0,0,0,0,0,0,0,0,0,0,0,1,0,0,0,0,0,0,0,0,1,0,0,0,0,0,0,0,0,0,0,1,0,0,0,1,0,1,1,0,0,1,1,0,1,0,0,0,0,0,0,0,0,0,0,0,0,0,1,0,0,0,0,1,1,0,0,0,1,0,1,0,0,0,0,1,0,0,0,0,0,1,0,0,1,0,1,0,0,0,0,0,0,0,0,1,0,0,0,0,1,0,0,0,0,0,1,1,0,0,0,0,0,0,0,0,0,0,0,1,0,0,0,1,1,0,0,1,0,0,0,0,0,0,0,0,1,1,0,0,0,0,0,0,0,0,0,0,0,0,0,1,1,0,1,1,0,0,0,0,0,0,0,0,1,0,1,1,0,0,0,1,1,1,0,1,1,0,0,0,0,0,0,0,0,0,0,0,1,0,0,0,0,0,0,0,0,0,0,0,0,0,0,1,1,0,1,0,0,0,0,1,0,1,0,0,0,1,0,0,0,0,0,0,1,0,0,0,0,0,0,0,1,0,0,1,0,0,0,1,0,0,0,0,0,0,1,0,0,0,0,0,0,0,0,0,0,0,0,0,0,0,0,0,0,0,0,1,0,0,0,0,0,0,0,0,0,0,0,0,0,0,0,0,0,0,1,0,1,0,1,0,0,0,0,0,0,0,0,0,0,0,0,1,0,0,0,1,0,0,0,0,0,0,1,1,0,0,0,0,0,1,1,0,0,0,0,1,1,0,0,0,0,0,0,0,0,0,0,0,0,1,0,0,0,0,0,0,0,0,1,0,0,0,0,1,1,0,0,0,1,0,0,0,0,0,0,0,0,0,0,0,1,0,0,0,0,0,0,0,0,1,1,0,0,0,0,1,0,0,0,1,0,0,0,0,1,0,0,0,0,0,0,0,0,0,1,1,1,0,0,1,0,0,1,0,0,0,0,0,0,0,0,0,0,0,0,0,0,0,0,1,1,1,0,1,0,0,0,0,0,0,0,1,0,0,0,0,0,0,0,0,1,0,0,0,0,0,1,0,1,0,0,0,0,0,0,0,0,0,0,0,0,0,0,0,0,0,0,0,0,1,0,0,0,1,1,1,0,0,0,0,0,0,0,0,0,0,0,0,0,0,0,0,0,0,0,0,0,0,0,1,0,0,0,0,0,0,0,0,0,0,0,0,0,0,0,0,1,0,0,0,0,0,0,0,0,1,0,0,0,0,1,0,0,0,1,0,0,0,0,0,0,0,0,0,0,0,0,0,0,1,0,0,0,0,0,0,0,0,0,0,0,0,0,0,1,0,0,1,1,0,0,0,0,0,0,0,1,0,0,0,0,0,0,0,0,1,1,0,0,0,0,0,0,0,0,0,0,0,0,1,1,0,0,0,0,0,0,0,0,1,0,0,1,0,0,0,0,0,1,0,1,0,0,0,0,1,0,0,0,0,0,0,0,0,1,0,1,0,0,0,0,0,1,0,1,0,0,0,0,0,0,0,0,1,1,0,0,0,0,0,1,1,0,0,0,0,0,0,0,0,0,0,0,0,0,1,1,0,0,0,0,0,0,0,0,0,0,0,0,1,0,0,0,0,0,1,1,0,0,0,0,1,1,0,0,0,0,0,0,0,0,0,0,0,0,0,1,1,0,0,0,0,0,0,0,0,0,0,1,0,0,0,1,0,0,0,0,0,1,0,0,0,1,0,0,0,0,0,0,0,0,0,0,1,0,0,0,0,1,1,0,0,0,0,0,0,0,0,0,0,0,0,0,0,0,0,0,0,0,0,0,0,0,0,0,0,0,0,0,0,0,0,0,0,0,0,0,0,0,0,0,1,0,0,0,1,0,1,0,0,0,0,0,0,0,1,0,0,0,0,0,0,0,0,1,0,0,0,0,0,0,0,0],\"type\":\"bar\"}],                        {\"template\":{\"data\":{\"histogram2dcontour\":[{\"type\":\"histogram2dcontour\",\"colorbar\":{\"outlinewidth\":0,\"ticks\":\"\"},\"colorscale\":[[0.0,\"#0d0887\"],[0.1111111111111111,\"#46039f\"],[0.2222222222222222,\"#7201a8\"],[0.3333333333333333,\"#9c179e\"],[0.4444444444444444,\"#bd3786\"],[0.5555555555555556,\"#d8576b\"],[0.6666666666666666,\"#ed7953\"],[0.7777777777777778,\"#fb9f3a\"],[0.8888888888888888,\"#fdca26\"],[1.0,\"#f0f921\"]]}],\"choropleth\":[{\"type\":\"choropleth\",\"colorbar\":{\"outlinewidth\":0,\"ticks\":\"\"}}],\"histogram2d\":[{\"type\":\"histogram2d\",\"colorbar\":{\"outlinewidth\":0,\"ticks\":\"\"},\"colorscale\":[[0.0,\"#0d0887\"],[0.1111111111111111,\"#46039f\"],[0.2222222222222222,\"#7201a8\"],[0.3333333333333333,\"#9c179e\"],[0.4444444444444444,\"#bd3786\"],[0.5555555555555556,\"#d8576b\"],[0.6666666666666666,\"#ed7953\"],[0.7777777777777778,\"#fb9f3a\"],[0.8888888888888888,\"#fdca26\"],[1.0,\"#f0f921\"]]}],\"heatmap\":[{\"type\":\"heatmap\",\"colorbar\":{\"outlinewidth\":0,\"ticks\":\"\"},\"colorscale\":[[0.0,\"#0d0887\"],[0.1111111111111111,\"#46039f\"],[0.2222222222222222,\"#7201a8\"],[0.3333333333333333,\"#9c179e\"],[0.4444444444444444,\"#bd3786\"],[0.5555555555555556,\"#d8576b\"],[0.6666666666666666,\"#ed7953\"],[0.7777777777777778,\"#fb9f3a\"],[0.8888888888888888,\"#fdca26\"],[1.0,\"#f0f921\"]]}],\"heatmapgl\":[{\"type\":\"heatmapgl\",\"colorbar\":{\"outlinewidth\":0,\"ticks\":\"\"},\"colorscale\":[[0.0,\"#0d0887\"],[0.1111111111111111,\"#46039f\"],[0.2222222222222222,\"#7201a8\"],[0.3333333333333333,\"#9c179e\"],[0.4444444444444444,\"#bd3786\"],[0.5555555555555556,\"#d8576b\"],[0.6666666666666666,\"#ed7953\"],[0.7777777777777778,\"#fb9f3a\"],[0.8888888888888888,\"#fdca26\"],[1.0,\"#f0f921\"]]}],\"contourcarpet\":[{\"type\":\"contourcarpet\",\"colorbar\":{\"outlinewidth\":0,\"ticks\":\"\"}}],\"contour\":[{\"type\":\"contour\",\"colorbar\":{\"outlinewidth\":0,\"ticks\":\"\"},\"colorscale\":[[0.0,\"#0d0887\"],[0.1111111111111111,\"#46039f\"],[0.2222222222222222,\"#7201a8\"],[0.3333333333333333,\"#9c179e\"],[0.4444444444444444,\"#bd3786\"],[0.5555555555555556,\"#d8576b\"],[0.6666666666666666,\"#ed7953\"],[0.7777777777777778,\"#fb9f3a\"],[0.8888888888888888,\"#fdca26\"],[1.0,\"#f0f921\"]]}],\"surface\":[{\"type\":\"surface\",\"colorbar\":{\"outlinewidth\":0,\"ticks\":\"\"},\"colorscale\":[[0.0,\"#0d0887\"],[0.1111111111111111,\"#46039f\"],[0.2222222222222222,\"#7201a8\"],[0.3333333333333333,\"#9c179e\"],[0.4444444444444444,\"#bd3786\"],[0.5555555555555556,\"#d8576b\"],[0.6666666666666666,\"#ed7953\"],[0.7777777777777778,\"#fb9f3a\"],[0.8888888888888888,\"#fdca26\"],[1.0,\"#f0f921\"]]}],\"mesh3d\":[{\"type\":\"mesh3d\",\"colorbar\":{\"outlinewidth\":0,\"ticks\":\"\"}}],\"scatter\":[{\"fillpattern\":{\"fillmode\":\"overlay\",\"size\":10,\"solidity\":0.2},\"type\":\"scatter\"}],\"parcoords\":[{\"type\":\"parcoords\",\"line\":{\"colorbar\":{\"outlinewidth\":0,\"ticks\":\"\"}}}],\"scatterpolargl\":[{\"type\":\"scatterpolargl\",\"marker\":{\"colorbar\":{\"outlinewidth\":0,\"ticks\":\"\"}}}],\"bar\":[{\"error_x\":{\"color\":\"#2a3f5f\"},\"error_y\":{\"color\":\"#2a3f5f\"},\"marker\":{\"line\":{\"color\":\"#E5ECF6\",\"width\":0.5},\"pattern\":{\"fillmode\":\"overlay\",\"size\":10,\"solidity\":0.2}},\"type\":\"bar\"}],\"scattergeo\":[{\"type\":\"scattergeo\",\"marker\":{\"colorbar\":{\"outlinewidth\":0,\"ticks\":\"\"}}}],\"scatterpolar\":[{\"type\":\"scatterpolar\",\"marker\":{\"colorbar\":{\"outlinewidth\":0,\"ticks\":\"\"}}}],\"histogram\":[{\"marker\":{\"pattern\":{\"fillmode\":\"overlay\",\"size\":10,\"solidity\":0.2}},\"type\":\"histogram\"}],\"scattergl\":[{\"type\":\"scattergl\",\"marker\":{\"colorbar\":{\"outlinewidth\":0,\"ticks\":\"\"}}}],\"scatter3d\":[{\"type\":\"scatter3d\",\"line\":{\"colorbar\":{\"outlinewidth\":0,\"ticks\":\"\"}},\"marker\":{\"colorbar\":{\"outlinewidth\":0,\"ticks\":\"\"}}}],\"scattermapbox\":[{\"type\":\"scattermapbox\",\"marker\":{\"colorbar\":{\"outlinewidth\":0,\"ticks\":\"\"}}}],\"scatterternary\":[{\"type\":\"scatterternary\",\"marker\":{\"colorbar\":{\"outlinewidth\":0,\"ticks\":\"\"}}}],\"scattercarpet\":[{\"type\":\"scattercarpet\",\"marker\":{\"colorbar\":{\"outlinewidth\":0,\"ticks\":\"\"}}}],\"carpet\":[{\"aaxis\":{\"endlinecolor\":\"#2a3f5f\",\"gridcolor\":\"white\",\"linecolor\":\"white\",\"minorgridcolor\":\"white\",\"startlinecolor\":\"#2a3f5f\"},\"baxis\":{\"endlinecolor\":\"#2a3f5f\",\"gridcolor\":\"white\",\"linecolor\":\"white\",\"minorgridcolor\":\"white\",\"startlinecolor\":\"#2a3f5f\"},\"type\":\"carpet\"}],\"table\":[{\"cells\":{\"fill\":{\"color\":\"#EBF0F8\"},\"line\":{\"color\":\"white\"}},\"header\":{\"fill\":{\"color\":\"#C8D4E3\"},\"line\":{\"color\":\"white\"}},\"type\":\"table\"}],\"barpolar\":[{\"marker\":{\"line\":{\"color\":\"#E5ECF6\",\"width\":0.5},\"pattern\":{\"fillmode\":\"overlay\",\"size\":10,\"solidity\":0.2}},\"type\":\"barpolar\"}],\"pie\":[{\"automargin\":true,\"type\":\"pie\"}]},\"layout\":{\"autotypenumbers\":\"strict\",\"colorway\":[\"#636efa\",\"#EF553B\",\"#00cc96\",\"#ab63fa\",\"#FFA15A\",\"#19d3f3\",\"#FF6692\",\"#B6E880\",\"#FF97FF\",\"#FECB52\"],\"font\":{\"color\":\"#2a3f5f\"},\"hovermode\":\"closest\",\"hoverlabel\":{\"align\":\"left\"},\"paper_bgcolor\":\"white\",\"plot_bgcolor\":\"#E5ECF6\",\"polar\":{\"bgcolor\":\"#E5ECF6\",\"angularaxis\":{\"gridcolor\":\"white\",\"linecolor\":\"white\",\"ticks\":\"\"},\"radialaxis\":{\"gridcolor\":\"white\",\"linecolor\":\"white\",\"ticks\":\"\"}},\"ternary\":{\"bgcolor\":\"#E5ECF6\",\"aaxis\":{\"gridcolor\":\"white\",\"linecolor\":\"white\",\"ticks\":\"\"},\"baxis\":{\"gridcolor\":\"white\",\"linecolor\":\"white\",\"ticks\":\"\"},\"caxis\":{\"gridcolor\":\"white\",\"linecolor\":\"white\",\"ticks\":\"\"}},\"coloraxis\":{\"colorbar\":{\"outlinewidth\":0,\"ticks\":\"\"}},\"colorscale\":{\"sequential\":[[0.0,\"#0d0887\"],[0.1111111111111111,\"#46039f\"],[0.2222222222222222,\"#7201a8\"],[0.3333333333333333,\"#9c179e\"],[0.4444444444444444,\"#bd3786\"],[0.5555555555555556,\"#d8576b\"],[0.6666666666666666,\"#ed7953\"],[0.7777777777777778,\"#fb9f3a\"],[0.8888888888888888,\"#fdca26\"],[1.0,\"#f0f921\"]],\"sequentialminus\":[[0.0,\"#0d0887\"],[0.1111111111111111,\"#46039f\"],[0.2222222222222222,\"#7201a8\"],[0.3333333333333333,\"#9c179e\"],[0.4444444444444444,\"#bd3786\"],[0.5555555555555556,\"#d8576b\"],[0.6666666666666666,\"#ed7953\"],[0.7777777777777778,\"#fb9f3a\"],[0.8888888888888888,\"#fdca26\"],[1.0,\"#f0f921\"]],\"diverging\":[[0,\"#8e0152\"],[0.1,\"#c51b7d\"],[0.2,\"#de77ae\"],[0.3,\"#f1b6da\"],[0.4,\"#fde0ef\"],[0.5,\"#f7f7f7\"],[0.6,\"#e6f5d0\"],[0.7,\"#b8e186\"],[0.8,\"#7fbc41\"],[0.9,\"#4d9221\"],[1,\"#276419\"]]},\"xaxis\":{\"gridcolor\":\"white\",\"linecolor\":\"white\",\"ticks\":\"\",\"title\":{\"standoff\":15},\"zerolinecolor\":\"white\",\"automargin\":true,\"zerolinewidth\":2},\"yaxis\":{\"gridcolor\":\"white\",\"linecolor\":\"white\",\"ticks\":\"\",\"title\":{\"standoff\":15},\"zerolinecolor\":\"white\",\"automargin\":true,\"zerolinewidth\":2},\"scene\":{\"xaxis\":{\"backgroundcolor\":\"#E5ECF6\",\"gridcolor\":\"white\",\"linecolor\":\"white\",\"showbackground\":true,\"ticks\":\"\",\"zerolinecolor\":\"white\",\"gridwidth\":2},\"yaxis\":{\"backgroundcolor\":\"#E5ECF6\",\"gridcolor\":\"white\",\"linecolor\":\"white\",\"showbackground\":true,\"ticks\":\"\",\"zerolinecolor\":\"white\",\"gridwidth\":2},\"zaxis\":{\"backgroundcolor\":\"#E5ECF6\",\"gridcolor\":\"white\",\"linecolor\":\"white\",\"showbackground\":true,\"ticks\":\"\",\"zerolinecolor\":\"white\",\"gridwidth\":2}},\"shapedefaults\":{\"line\":{\"color\":\"#2a3f5f\"}},\"annotationdefaults\":{\"arrowcolor\":\"#2a3f5f\",\"arrowhead\":0,\"arrowwidth\":1},\"geo\":{\"bgcolor\":\"white\",\"landcolor\":\"#E5ECF6\",\"subunitcolor\":\"white\",\"showland\":true,\"showlakes\":true,\"lakecolor\":\"white\"},\"title\":{\"x\":0.05},\"mapbox\":{\"style\":\"light\"}}},\"title\":{\"font\":{\"size\":24,\"family\":\"Comic Sans MS\",\"color\":\"#454545\"},\"text\":\"Business Travel Frequency with Attrition\"},\"xaxis\":{\"title\":{\"font\":{\"size\":18,\"family\":\"Courier New\",\"color\":\"#454545\"},\"text\":\"Business Travel\"},\"tickfont\":{\"color\":\"#663300\"}},\"yaxis\":{\"title\":{\"font\":{\"size\":18,\"family\":\"Lucida Console\",\"color\":\"#454545\"},\"text\":\"Attrition Rate\"},\"tickfont\":{\"color\":\"#663300\"}},\"plot_bgcolor\":\"#F2F2F2\",\"paper_bgcolor\":\"#F2F2F2\"},                        {\"responsive\": true}                    ).then(function(){\n",
       "                            \n",
       "var gd = document.getElementById('57193069-1df6-4502-ac55-314185c63869');\n",
       "var x = new MutationObserver(function (mutations, observer) {{\n",
       "        var display = window.getComputedStyle(gd).display;\n",
       "        if (!display || display === 'none') {{\n",
       "            console.log([gd, 'removed!']);\n",
       "            Plotly.purge(gd);\n",
       "            observer.disconnect();\n",
       "        }}\n",
       "}});\n",
       "\n",
       "// Listen for the removal of the full notebook cells\n",
       "var notebookContainer = gd.closest('#notebook-container');\n",
       "if (notebookContainer) {{\n",
       "    x.observe(notebookContainer, {childList: true});\n",
       "}}\n",
       "\n",
       "// Listen for the clearing of the current output cell\n",
       "var outputEl = gd.closest('.output');\n",
       "if (outputEl) {{\n",
       "    x.observe(outputEl, {childList: true});\n",
       "}}\n",
       "\n",
       "                        })                };                });            </script>        </div>"
      ]
     },
     "metadata": {},
     "output_type": "display_data"
    }
   ],
   "source": [
    "fig = go.Figure(\n",
    "    go.Bar(\n",
    "        x=df['BusinessTravel'],\n",
    "        y=df['Attrition'].map({'Yes': 1, 'No': 0}),\n",
    "        marker_color=['#00698F' if x == 'Travel_Rarely' \n",
    "                    else '#FF8C00' if x == 'Travel_Frequently' \n",
    "                    else '#8B0A1A' for x in df['BusinessTravel']],\n",
    "        hovertemplate='<b>Business Travel</b>: %{x} <br><b>Attrition</b>: %{y}'\n",
    "    )\n",
    ")\n",
    "\n",
    "fig.update_layout(\n",
    "    title={'text': 'Business Travel Frequency with Attrition', 'font_size': 24, 'font_family': 'Comic Sans MS', 'font_color': '#454545'},\n",
    "    xaxis_title={'text': 'Business Travel', 'font_size': 18, 'font_family': 'Courier New', 'font_color': '#454545'},\n",
    "    yaxis_title={'text': 'Attrition Rate', 'font_size': 18, 'font_family': 'Lucida Console', 'font_color': '#454545'},\n",
    "    xaxis_tickfont=dict(color='#663300'),\n",
    "    yaxis_tickfont=dict(color='#663300'),\n",
    "    plot_bgcolor='#F2F2F2',\n",
    "    paper_bgcolor='#F2F2F2'\n",
    ")\n",
    "fig.update_layout(\n",
    "    plot_bgcolor='#F2F2F2',\n",
    "    paper_bgcolor='#F2F2F2'\n",
    ")\n",
    "\n",
    "fig.show()"
   ]
  },
  {
   "cell_type": "markdown",
   "id": "f5c5f740",
   "metadata": {
    "papermill": {
     "duration": 0.01181,
     "end_time": "2024-04-28T09:11:56.155870",
     "exception": false,
     "start_time": "2024-04-28T09:11:56.144060",
     "status": "completed"
    },
    "tags": []
   },
   "source": [
    "## **Revenue Loss and Attrition Rate of each Department**"
   ]
  },
  {
   "cell_type": "markdown",
   "id": "3a80a705",
   "metadata": {
    "papermill": {
     "duration": 0.011937,
     "end_time": "2024-04-28T09:11:56.180752",
     "exception": false,
     "start_time": "2024-04-28T09:11:56.168815",
     "status": "completed"
    },
    "tags": []
   },
   "source": [
    "<div style=\"\n",
    "  background-color: #0D0D0D;\n",
    "  color: #FFFFFF;\n",
    "  font-family: 'Roboto', sans-serif;\n",
    "  font-size: 21px;\n",
    "  padding: 10px;\n",
    "  margin: 0px 0 0 0px;\n",
    "  border-radius: 15px;\n",
    "  border: none;\n",
    "  box-shadow: 0 0 20px rgba(255, 255, 255, 0.2);\n",
    "  width: 880px;\n",
    "  text-align: left;\n",
    "\">\n",
    "  <h2 style=\"margin: 0;\">Revenue Loss and Attrition Rate of each Department</h2>\n",
    "</div>\n"
   ]
  },
  {
   "cell_type": "code",
   "execution_count": 7,
   "id": "289087ba",
   "metadata": {
    "execution": {
     "iopub.execute_input": "2024-04-28T09:11:56.207834Z",
     "iopub.status.busy": "2024-04-28T09:11:56.207160Z",
     "iopub.status.idle": "2024-04-28T09:11:56.294939Z",
     "shell.execute_reply": "2024-04-28T09:11:56.293676Z"
    },
    "papermill": {
     "duration": 0.104576,
     "end_time": "2024-04-28T09:11:56.297914",
     "exception": false,
     "start_time": "2024-04-28T09:11:56.193338",
     "status": "completed"
    },
    "tags": []
   },
   "outputs": [
    {
     "data": {
      "text/html": [
       "<div>                            <div id=\"5e3d33e2-ebbf-4cf0-a381-a008d462328c\" class=\"plotly-graph-div\" style=\"height:525px; width:100%;\"></div>            <script type=\"text/javascript\">                require([\"plotly\"], function(Plotly) {                    window.PLOTLYENV=window.PLOTLYENV || {};                                    if (document.getElementById(\"5e3d33e2-ebbf-4cf0-a381-a008d462328c\")) {                    Plotly.newPlot(                        \"5e3d33e2-ebbf-4cf0-a381-a008d462328c\",                        [{\"hoverinfo\":\"text+y\",\"hovertemplate\":\"\\u003cb\\u003eDepartment: %{x}\\u003c\\u002fb\\u003e\\u003cbr\\u003e\\u003cb\\u003eAttrition Rate:\\u003c\\u002fb\\u003e %{hovertext:.2f}\\u003cbr\\u003e\\u003cb\\u003eRevenue Loss:\\u003c\\u002fb\\u003e %{y:.2f}\",\"hovertext\":[0.19047619047619047,0.1383975026014568,0.2062780269058296],\"marker\":{\"color\":[\"#6A5ACD\",\"#473C64\",\"#8B9467\"]},\"x\":[\"Human Resources\",\"Research & Development\",\"Sales\"],\"y\":[35256723.820408165,507639165.4530612,261022488.83265308],\"type\":\"bar\"}],                        {\"template\":{\"data\":{\"histogram2dcontour\":[{\"type\":\"histogram2dcontour\",\"colorbar\":{\"outlinewidth\":0,\"ticks\":\"\"},\"colorscale\":[[0.0,\"#0d0887\"],[0.1111111111111111,\"#46039f\"],[0.2222222222222222,\"#7201a8\"],[0.3333333333333333,\"#9c179e\"],[0.4444444444444444,\"#bd3786\"],[0.5555555555555556,\"#d8576b\"],[0.6666666666666666,\"#ed7953\"],[0.7777777777777778,\"#fb9f3a\"],[0.8888888888888888,\"#fdca26\"],[1.0,\"#f0f921\"]]}],\"choropleth\":[{\"type\":\"choropleth\",\"colorbar\":{\"outlinewidth\":0,\"ticks\":\"\"}}],\"histogram2d\":[{\"type\":\"histogram2d\",\"colorbar\":{\"outlinewidth\":0,\"ticks\":\"\"},\"colorscale\":[[0.0,\"#0d0887\"],[0.1111111111111111,\"#46039f\"],[0.2222222222222222,\"#7201a8\"],[0.3333333333333333,\"#9c179e\"],[0.4444444444444444,\"#bd3786\"],[0.5555555555555556,\"#d8576b\"],[0.6666666666666666,\"#ed7953\"],[0.7777777777777778,\"#fb9f3a\"],[0.8888888888888888,\"#fdca26\"],[1.0,\"#f0f921\"]]}],\"heatmap\":[{\"type\":\"heatmap\",\"colorbar\":{\"outlinewidth\":0,\"ticks\":\"\"},\"colorscale\":[[0.0,\"#0d0887\"],[0.1111111111111111,\"#46039f\"],[0.2222222222222222,\"#7201a8\"],[0.3333333333333333,\"#9c179e\"],[0.4444444444444444,\"#bd3786\"],[0.5555555555555556,\"#d8576b\"],[0.6666666666666666,\"#ed7953\"],[0.7777777777777778,\"#fb9f3a\"],[0.8888888888888888,\"#fdca26\"],[1.0,\"#f0f921\"]]}],\"heatmapgl\":[{\"type\":\"heatmapgl\",\"colorbar\":{\"outlinewidth\":0,\"ticks\":\"\"},\"colorscale\":[[0.0,\"#0d0887\"],[0.1111111111111111,\"#46039f\"],[0.2222222222222222,\"#7201a8\"],[0.3333333333333333,\"#9c179e\"],[0.4444444444444444,\"#bd3786\"],[0.5555555555555556,\"#d8576b\"],[0.6666666666666666,\"#ed7953\"],[0.7777777777777778,\"#fb9f3a\"],[0.8888888888888888,\"#fdca26\"],[1.0,\"#f0f921\"]]}],\"contourcarpet\":[{\"type\":\"contourcarpet\",\"colorbar\":{\"outlinewidth\":0,\"ticks\":\"\"}}],\"contour\":[{\"type\":\"contour\",\"colorbar\":{\"outlinewidth\":0,\"ticks\":\"\"},\"colorscale\":[[0.0,\"#0d0887\"],[0.1111111111111111,\"#46039f\"],[0.2222222222222222,\"#7201a8\"],[0.3333333333333333,\"#9c179e\"],[0.4444444444444444,\"#bd3786\"],[0.5555555555555556,\"#d8576b\"],[0.6666666666666666,\"#ed7953\"],[0.7777777777777778,\"#fb9f3a\"],[0.8888888888888888,\"#fdca26\"],[1.0,\"#f0f921\"]]}],\"surface\":[{\"type\":\"surface\",\"colorbar\":{\"outlinewidth\":0,\"ticks\":\"\"},\"colorscale\":[[0.0,\"#0d0887\"],[0.1111111111111111,\"#46039f\"],[0.2222222222222222,\"#7201a8\"],[0.3333333333333333,\"#9c179e\"],[0.4444444444444444,\"#bd3786\"],[0.5555555555555556,\"#d8576b\"],[0.6666666666666666,\"#ed7953\"],[0.7777777777777778,\"#fb9f3a\"],[0.8888888888888888,\"#fdca26\"],[1.0,\"#f0f921\"]]}],\"mesh3d\":[{\"type\":\"mesh3d\",\"colorbar\":{\"outlinewidth\":0,\"ticks\":\"\"}}],\"scatter\":[{\"fillpattern\":{\"fillmode\":\"overlay\",\"size\":10,\"solidity\":0.2},\"type\":\"scatter\"}],\"parcoords\":[{\"type\":\"parcoords\",\"line\":{\"colorbar\":{\"outlinewidth\":0,\"ticks\":\"\"}}}],\"scatterpolargl\":[{\"type\":\"scatterpolargl\",\"marker\":{\"colorbar\":{\"outlinewidth\":0,\"ticks\":\"\"}}}],\"bar\":[{\"error_x\":{\"color\":\"#2a3f5f\"},\"error_y\":{\"color\":\"#2a3f5f\"},\"marker\":{\"line\":{\"color\":\"#E5ECF6\",\"width\":0.5},\"pattern\":{\"fillmode\":\"overlay\",\"size\":10,\"solidity\":0.2}},\"type\":\"bar\"}],\"scattergeo\":[{\"type\":\"scattergeo\",\"marker\":{\"colorbar\":{\"outlinewidth\":0,\"ticks\":\"\"}}}],\"scatterpolar\":[{\"type\":\"scatterpolar\",\"marker\":{\"colorbar\":{\"outlinewidth\":0,\"ticks\":\"\"}}}],\"histogram\":[{\"marker\":{\"pattern\":{\"fillmode\":\"overlay\",\"size\":10,\"solidity\":0.2}},\"type\":\"histogram\"}],\"scattergl\":[{\"type\":\"scattergl\",\"marker\":{\"colorbar\":{\"outlinewidth\":0,\"ticks\":\"\"}}}],\"scatter3d\":[{\"type\":\"scatter3d\",\"line\":{\"colorbar\":{\"outlinewidth\":0,\"ticks\":\"\"}},\"marker\":{\"colorbar\":{\"outlinewidth\":0,\"ticks\":\"\"}}}],\"scattermapbox\":[{\"type\":\"scattermapbox\",\"marker\":{\"colorbar\":{\"outlinewidth\":0,\"ticks\":\"\"}}}],\"scatterternary\":[{\"type\":\"scatterternary\",\"marker\":{\"colorbar\":{\"outlinewidth\":0,\"ticks\":\"\"}}}],\"scattercarpet\":[{\"type\":\"scattercarpet\",\"marker\":{\"colorbar\":{\"outlinewidth\":0,\"ticks\":\"\"}}}],\"carpet\":[{\"aaxis\":{\"endlinecolor\":\"#2a3f5f\",\"gridcolor\":\"white\",\"linecolor\":\"white\",\"minorgridcolor\":\"white\",\"startlinecolor\":\"#2a3f5f\"},\"baxis\":{\"endlinecolor\":\"#2a3f5f\",\"gridcolor\":\"white\",\"linecolor\":\"white\",\"minorgridcolor\":\"white\",\"startlinecolor\":\"#2a3f5f\"},\"type\":\"carpet\"}],\"table\":[{\"cells\":{\"fill\":{\"color\":\"#EBF0F8\"},\"line\":{\"color\":\"white\"}},\"header\":{\"fill\":{\"color\":\"#C8D4E3\"},\"line\":{\"color\":\"white\"}},\"type\":\"table\"}],\"barpolar\":[{\"marker\":{\"line\":{\"color\":\"#E5ECF6\",\"width\":0.5},\"pattern\":{\"fillmode\":\"overlay\",\"size\":10,\"solidity\":0.2}},\"type\":\"barpolar\"}],\"pie\":[{\"automargin\":true,\"type\":\"pie\"}]},\"layout\":{\"autotypenumbers\":\"strict\",\"colorway\":[\"#636efa\",\"#EF553B\",\"#00cc96\",\"#ab63fa\",\"#FFA15A\",\"#19d3f3\",\"#FF6692\",\"#B6E880\",\"#FF97FF\",\"#FECB52\"],\"font\":{\"color\":\"#2a3f5f\"},\"hovermode\":\"closest\",\"hoverlabel\":{\"align\":\"left\"},\"paper_bgcolor\":\"white\",\"plot_bgcolor\":\"#E5ECF6\",\"polar\":{\"bgcolor\":\"#E5ECF6\",\"angularaxis\":{\"gridcolor\":\"white\",\"linecolor\":\"white\",\"ticks\":\"\"},\"radialaxis\":{\"gridcolor\":\"white\",\"linecolor\":\"white\",\"ticks\":\"\"}},\"ternary\":{\"bgcolor\":\"#E5ECF6\",\"aaxis\":{\"gridcolor\":\"white\",\"linecolor\":\"white\",\"ticks\":\"\"},\"baxis\":{\"gridcolor\":\"white\",\"linecolor\":\"white\",\"ticks\":\"\"},\"caxis\":{\"gridcolor\":\"white\",\"linecolor\":\"white\",\"ticks\":\"\"}},\"coloraxis\":{\"colorbar\":{\"outlinewidth\":0,\"ticks\":\"\"}},\"colorscale\":{\"sequential\":[[0.0,\"#0d0887\"],[0.1111111111111111,\"#46039f\"],[0.2222222222222222,\"#7201a8\"],[0.3333333333333333,\"#9c179e\"],[0.4444444444444444,\"#bd3786\"],[0.5555555555555556,\"#d8576b\"],[0.6666666666666666,\"#ed7953\"],[0.7777777777777778,\"#fb9f3a\"],[0.8888888888888888,\"#fdca26\"],[1.0,\"#f0f921\"]],\"sequentialminus\":[[0.0,\"#0d0887\"],[0.1111111111111111,\"#46039f\"],[0.2222222222222222,\"#7201a8\"],[0.3333333333333333,\"#9c179e\"],[0.4444444444444444,\"#bd3786\"],[0.5555555555555556,\"#d8576b\"],[0.6666666666666666,\"#ed7953\"],[0.7777777777777778,\"#fb9f3a\"],[0.8888888888888888,\"#fdca26\"],[1.0,\"#f0f921\"]],\"diverging\":[[0,\"#8e0152\"],[0.1,\"#c51b7d\"],[0.2,\"#de77ae\"],[0.3,\"#f1b6da\"],[0.4,\"#fde0ef\"],[0.5,\"#f7f7f7\"],[0.6,\"#e6f5d0\"],[0.7,\"#b8e186\"],[0.8,\"#7fbc41\"],[0.9,\"#4d9221\"],[1,\"#276419\"]]},\"xaxis\":{\"gridcolor\":\"white\",\"linecolor\":\"white\",\"ticks\":\"\",\"title\":{\"standoff\":15},\"zerolinecolor\":\"white\",\"automargin\":true,\"zerolinewidth\":2},\"yaxis\":{\"gridcolor\":\"white\",\"linecolor\":\"white\",\"ticks\":\"\",\"title\":{\"standoff\":15},\"zerolinecolor\":\"white\",\"automargin\":true,\"zerolinewidth\":2},\"scene\":{\"xaxis\":{\"backgroundcolor\":\"#E5ECF6\",\"gridcolor\":\"white\",\"linecolor\":\"white\",\"showbackground\":true,\"ticks\":\"\",\"zerolinecolor\":\"white\",\"gridwidth\":2},\"yaxis\":{\"backgroundcolor\":\"#E5ECF6\",\"gridcolor\":\"white\",\"linecolor\":\"white\",\"showbackground\":true,\"ticks\":\"\",\"zerolinecolor\":\"white\",\"gridwidth\":2},\"zaxis\":{\"backgroundcolor\":\"#E5ECF6\",\"gridcolor\":\"white\",\"linecolor\":\"white\",\"showbackground\":true,\"ticks\":\"\",\"zerolinecolor\":\"white\",\"gridwidth\":2}},\"shapedefaults\":{\"line\":{\"color\":\"#2a3f5f\"}},\"annotationdefaults\":{\"arrowcolor\":\"#2a3f5f\",\"arrowhead\":0,\"arrowwidth\":1},\"geo\":{\"bgcolor\":\"white\",\"landcolor\":\"#E5ECF6\",\"subunitcolor\":\"white\",\"showland\":true,\"showlakes\":true,\"lakecolor\":\"white\"},\"title\":{\"x\":0.05},\"mapbox\":{\"style\":\"light\"}}},\"yaxis2\":{\"overlaying\":\"y\",\"side\":\"right\",\"range\":[0,1],\"title\":{\"font\":{\"size\":18,\"family\":\"TimesNewRoman\"},\"text\":\"Attrition Rate\"}},\"title\":{\"font\":{\"size\":24,\"family\":\"TimesNewRoman\"},\"text\":\"Revenue Loss and Attrition Rate of each Department\"},\"xaxis\":{\"title\":{\"font\":{\"size\":18,\"family\":\"TimesNewRoman\"},\"text\":\"Department\"}},\"yaxis\":{\"title\":{\"font\":{\"size\":18,\"family\":\"TimesNewRoman\"},\"text\":\"Revenue Loss\"}},\"font\":{\"family\":\"TimesNewRoman\",\"size\":16}},                        {\"responsive\": true}                    ).then(function(){\n",
       "                            \n",
       "var gd = document.getElementById('5e3d33e2-ebbf-4cf0-a381-a008d462328c');\n",
       "var x = new MutationObserver(function (mutations, observer) {{\n",
       "        var display = window.getComputedStyle(gd).display;\n",
       "        if (!display || display === 'none') {{\n",
       "            console.log([gd, 'removed!']);\n",
       "            Plotly.purge(gd);\n",
       "            observer.disconnect();\n",
       "        }}\n",
       "}});\n",
       "\n",
       "// Listen for the removal of the full notebook cells\n",
       "var notebookContainer = gd.closest('#notebook-container');\n",
       "if (notebookContainer) {{\n",
       "    x.observe(notebookContainer, {childList: true});\n",
       "}}\n",
       "\n",
       "// Listen for the clearing of the current output cell\n",
       "var outputEl = gd.closest('.output');\n",
       "if (outputEl) {{\n",
       "    x.observe(outputEl, {childList: true});\n",
       "}}\n",
       "\n",
       "                        })                };                });            </script>        </div>"
      ]
     },
     "metadata": {},
     "output_type": "display_data"
    }
   ],
   "source": [
    "df[\"RevenueLoss\"] = df[\"MonthlyIncome\"] * 12 * df['YearsAtCompany'].mean()\n",
    "\n",
    "revenue_loss_by_dept = df.groupby(\"Department\")[\"RevenueLoss\"].sum()\n",
    "\n",
    "attrition_rate_by_dept = df.groupby(\"Department\")[\"Attrition\"].apply(lambda x: (x == \"Yes\").mean())\n",
    "\n",
    "fig = go.Figure(\n",
    "    go.Bar(\n",
    "        x=revenue_loss_by_dept.index,\n",
    "        y=revenue_loss_by_dept.values,\n",
    "        hovertext=attrition_rate_by_dept.values,\n",
    "        hoverinfo=\"text+y\",\n",
    "        hovertemplate=\"<b>Department: %{x}</b><br><b>Attrition Rate:</b> %{hovertext:.2f}<br><b>Revenue Loss:</b> %{y:.2f}\",\n",
    "        marker_color=revenue_loss_by_dept.index.map(lambda x: \"#8B9467\" if x == \"Sales\" else \"#473C64\" if x == \"Research & Development\" else \"#6A5ACD\")\n",
    "))\n",
    "\n",
    "fig.update_layout(\n",
    "    yaxis2=dict(\n",
    "        overlaying=\"y\",\n",
    "        side=\"right\",\n",
    "        range=[0, 1]\n",
    "    )\n",
    ")\n",
    "\n",
    "fig.update_layout(\n",
    "    title={\"text\": \"Revenue Loss and Attrition Rate of each Department\", \"font_size\": 24, \"font_family\": \"TimesNewRoman\"},\n",
    "    xaxis_title={\"text\": \"Department\", \"font_size\": 18, \"font_family\": \"TimesNewRoman\"},\n",
    "    yaxis_title={\"text\": \"Revenue Loss\", \"font_size\": 18, \"font_family\": \"TimesNewRoman\"},\n",
    "    yaxis2_title={\"text\": \"Attrition Rate\", \"font_size\": 18, \"font_family\": \"TimesNewRoman\"},\n",
    "    font_family=\"TimesNewRoman\",\n",
    "    font_size=16\n",
    ")\n",
    "fig.show()"
   ]
  },
  {
   "cell_type": "markdown",
   "id": "37d36308",
   "metadata": {
    "papermill": {
     "duration": 0.01338,
     "end_time": "2024-04-28T09:11:56.324160",
     "exception": false,
     "start_time": "2024-04-28T09:11:56.310780",
     "status": "completed"
    },
    "tags": []
   },
   "source": [
    "## **Predicting employee attrition based on job satisfaction, job involvement, and performance ratings**"
   ]
  },
  {
   "cell_type": "markdown",
   "id": "665e9d35",
   "metadata": {
    "papermill": {
     "duration": 0.012373,
     "end_time": "2024-04-28T09:11:56.349519",
     "exception": false,
     "start_time": "2024-04-28T09:11:56.337146",
     "status": "completed"
    },
    "tags": []
   },
   "source": [
    "<div style=\"\n",
    "  background-color: #0D0D0D;\n",
    "  color: #FFFFFF;\n",
    "  font-family: 'Roboto', sans-serif;\n",
    "  font-size: 22px;\n",
    "  padding: 10px;\n",
    "  margin: 0px 0 0 0px;\n",
    "  border-radius: 15px;\n",
    "  border: none;\n",
    "  box-shadow: 0 0 20px rgba(255, 255, 255, 0.2);\n",
    "  width: 510px;\n",
    "  text-align: left;\n",
    "\">\n",
    "  <h2 style=\"margin: 0;\">Predicting employee attrition</h2>\n",
    "</div>\n"
   ]
  },
  {
   "cell_type": "code",
   "execution_count": 8,
   "id": "a590847e",
   "metadata": {
    "execution": {
     "iopub.execute_input": "2024-04-28T09:11:56.378815Z",
     "iopub.status.busy": "2024-04-28T09:11:56.378358Z",
     "iopub.status.idle": "2024-04-28T09:11:56.385602Z",
     "shell.execute_reply": "2024-04-28T09:11:56.384218Z"
    },
    "papermill": {
     "duration": 0.024923,
     "end_time": "2024-04-28T09:11:56.388342",
     "exception": false,
     "start_time": "2024-04-28T09:11:56.363419",
     "status": "completed"
    },
    "tags": []
   },
   "outputs": [],
   "source": [
    "le = LabelEncoder()\n",
    "df['Attrition'] = le.fit_transform(df['Attrition'])"
   ]
  },
  {
   "cell_type": "code",
   "execution_count": 9,
   "id": "0dee9f83",
   "metadata": {
    "execution": {
     "iopub.execute_input": "2024-04-28T09:11:56.416621Z",
     "iopub.status.busy": "2024-04-28T09:11:56.415660Z",
     "iopub.status.idle": "2024-04-28T09:11:56.429359Z",
     "shell.execute_reply": "2024-04-28T09:11:56.428160Z"
    },
    "papermill": {
     "duration": 0.03162,
     "end_time": "2024-04-28T09:11:56.432541",
     "exception": false,
     "start_time": "2024-04-28T09:11:56.400921",
     "status": "completed"
    },
    "tags": []
   },
   "outputs": [],
   "source": [
    "X = df[['JobSatisfaction', 'JobInvolvement', 'PerformanceRating']]\n",
    "y = df['Attrition']\n",
    "X_train, X_test, y_train, y_test = train_test_split(X, y, test_size=0.2, random_state=42)"
   ]
  },
  {
   "cell_type": "code",
   "execution_count": 10,
   "id": "80ff8a8f",
   "metadata": {
    "execution": {
     "iopub.execute_input": "2024-04-28T09:11:56.461538Z",
     "iopub.status.busy": "2024-04-28T09:11:56.460727Z",
     "iopub.status.idle": "2024-04-28T09:11:56.500410Z",
     "shell.execute_reply": "2024-04-28T09:11:56.499067Z"
    },
    "papermill": {
     "duration": 0.057781,
     "end_time": "2024-04-28T09:11:56.503110",
     "exception": false,
     "start_time": "2024-04-28T09:11:56.445329",
     "status": "completed"
    },
    "tags": []
   },
   "outputs": [
    {
     "data": {
      "text/html": [
       "<style>#sk-container-id-1 {color: black;background-color: white;}#sk-container-id-1 pre{padding: 0;}#sk-container-id-1 div.sk-toggleable {background-color: white;}#sk-container-id-1 label.sk-toggleable__label {cursor: pointer;display: block;width: 100%;margin-bottom: 0;padding: 0.3em;box-sizing: border-box;text-align: center;}#sk-container-id-1 label.sk-toggleable__label-arrow:before {content: \"▸\";float: left;margin-right: 0.25em;color: #696969;}#sk-container-id-1 label.sk-toggleable__label-arrow:hover:before {color: black;}#sk-container-id-1 div.sk-estimator:hover label.sk-toggleable__label-arrow:before {color: black;}#sk-container-id-1 div.sk-toggleable__content {max-height: 0;max-width: 0;overflow: hidden;text-align: left;background-color: #f0f8ff;}#sk-container-id-1 div.sk-toggleable__content pre {margin: 0.2em;color: black;border-radius: 0.25em;background-color: #f0f8ff;}#sk-container-id-1 input.sk-toggleable__control:checked~div.sk-toggleable__content {max-height: 200px;max-width: 100%;overflow: auto;}#sk-container-id-1 input.sk-toggleable__control:checked~label.sk-toggleable__label-arrow:before {content: \"▾\";}#sk-container-id-1 div.sk-estimator input.sk-toggleable__control:checked~label.sk-toggleable__label {background-color: #d4ebff;}#sk-container-id-1 div.sk-label input.sk-toggleable__control:checked~label.sk-toggleable__label {background-color: #d4ebff;}#sk-container-id-1 input.sk-hidden--visually {border: 0;clip: rect(1px 1px 1px 1px);clip: rect(1px, 1px, 1px, 1px);height: 1px;margin: -1px;overflow: hidden;padding: 0;position: absolute;width: 1px;}#sk-container-id-1 div.sk-estimator {font-family: monospace;background-color: #f0f8ff;border: 1px dotted black;border-radius: 0.25em;box-sizing: border-box;margin-bottom: 0.5em;}#sk-container-id-1 div.sk-estimator:hover {background-color: #d4ebff;}#sk-container-id-1 div.sk-parallel-item::after {content: \"\";width: 100%;border-bottom: 1px solid gray;flex-grow: 1;}#sk-container-id-1 div.sk-label:hover label.sk-toggleable__label {background-color: #d4ebff;}#sk-container-id-1 div.sk-serial::before {content: \"\";position: absolute;border-left: 1px solid gray;box-sizing: border-box;top: 0;bottom: 0;left: 50%;z-index: 0;}#sk-container-id-1 div.sk-serial {display: flex;flex-direction: column;align-items: center;background-color: white;padding-right: 0.2em;padding-left: 0.2em;position: relative;}#sk-container-id-1 div.sk-item {position: relative;z-index: 1;}#sk-container-id-1 div.sk-parallel {display: flex;align-items: stretch;justify-content: center;background-color: white;position: relative;}#sk-container-id-1 div.sk-item::before, #sk-container-id-1 div.sk-parallel-item::before {content: \"\";position: absolute;border-left: 1px solid gray;box-sizing: border-box;top: 0;bottom: 0;left: 50%;z-index: -1;}#sk-container-id-1 div.sk-parallel-item {display: flex;flex-direction: column;z-index: 1;position: relative;background-color: white;}#sk-container-id-1 div.sk-parallel-item:first-child::after {align-self: flex-end;width: 50%;}#sk-container-id-1 div.sk-parallel-item:last-child::after {align-self: flex-start;width: 50%;}#sk-container-id-1 div.sk-parallel-item:only-child::after {width: 0;}#sk-container-id-1 div.sk-dashed-wrapped {border: 1px dashed gray;margin: 0 0.4em 0.5em 0.4em;box-sizing: border-box;padding-bottom: 0.4em;background-color: white;}#sk-container-id-1 div.sk-label label {font-family: monospace;font-weight: bold;display: inline-block;line-height: 1.2em;}#sk-container-id-1 div.sk-label-container {text-align: center;}#sk-container-id-1 div.sk-container {/* jupyter's `normalize.less` sets `[hidden] { display: none; }` but bootstrap.min.css set `[hidden] { display: none !important; }` so we also need the `!important` here to be able to override the default hidden behavior on the sphinx rendered scikit-learn.org. See: https://github.com/scikit-learn/scikit-learn/issues/21755 */display: inline-block !important;position: relative;}#sk-container-id-1 div.sk-text-repr-fallback {display: none;}</style><div id=\"sk-container-id-1\" class=\"sk-top-container\"><div class=\"sk-text-repr-fallback\"><pre>LinearRegression()</pre><b>In a Jupyter environment, please rerun this cell to show the HTML representation or trust the notebook. <br />On GitHub, the HTML representation is unable to render, please try loading this page with nbviewer.org.</b></div><div class=\"sk-container\" hidden><div class=\"sk-item\"><div class=\"sk-estimator sk-toggleable\"><input class=\"sk-toggleable__control sk-hidden--visually\" id=\"sk-estimator-id-1\" type=\"checkbox\" checked><label for=\"sk-estimator-id-1\" class=\"sk-toggleable__label sk-toggleable__label-arrow\">LinearRegression</label><div class=\"sk-toggleable__content\"><pre>LinearRegression()</pre></div></div></div></div></div>"
      ],
      "text/plain": [
       "LinearRegression()"
      ]
     },
     "execution_count": 10,
     "metadata": {},
     "output_type": "execute_result"
    }
   ],
   "source": [
    "model = LinearRegression()\n",
    "model.fit(X_train, y_train)"
   ]
  },
  {
   "cell_type": "code",
   "execution_count": 11,
   "id": "3e4f90ea",
   "metadata": {
    "execution": {
     "iopub.execute_input": "2024-04-28T09:11:56.536251Z",
     "iopub.status.busy": "2024-04-28T09:11:56.535332Z",
     "iopub.status.idle": "2024-04-28T09:12:01.049007Z",
     "shell.execute_reply": "2024-04-28T09:12:01.047664Z"
    },
    "papermill": {
     "duration": 4.53554,
     "end_time": "2024-04-28T09:12:01.051979",
     "exception": false,
     "start_time": "2024-04-28T09:11:56.516439",
     "status": "completed"
    },
    "tags": []
   },
   "outputs": [
    {
     "data": {
      "text/html": [
       "<div>                            <div id=\"dd08432d-166a-4eda-ba12-d724c124163e\" class=\"plotly-graph-div\" style=\"height:525px; width:100%;\"></div>            <script type=\"text/javascript\">                require([\"plotly\"], function(Plotly) {                    window.PLOTLYENV=window.PLOTLYENV || {};                                    if (document.getElementById(\"dd08432d-166a-4eda-ba12-d724c124163e\")) {                    Plotly.newPlot(                        \"dd08432d-166a-4eda-ba12-d724c124163e\",                        [{\"hovertemplate\":\"JobSatisfaction=%{x}\\u003cbr\\u003eAttrition=%{y}\\u003cextra\\u003e\\u003c\\u002fextra\\u003e\",\"legendgroup\":\"\",\"marker\":{\"color\":\"#636efa\",\"symbol\":\"circle\"},\"mode\":\"markers\",\"name\":\"\",\"showlegend\":false,\"x\":[4,2,3,3,2,4,1,3,3,3,2,3,3,4,3,1,2,4,4,4,3,1,2,4,1,3,1,2,4,1,4,4,3,4,4,3,3,4,1,1,4,1,3,3,4,3,3,2,4,4,3,3,1,1,4,4,1,1,4,3,4,4,3,1,3,3,2,1,1,3,3,2,2,2,4,4,1,1,3,2,4,3,4,4,2,4,1,4,4,4,2,4,2,1,3,3,3,3,3,2,1,1,4,3,4,4,2,3,4,4,1,3,4,3,2,4,1,4,4,4,3,2,2,3,3,2,4,3,4,1,3,4,3,3,3,2,4,3,3,4,1,4,3,3,4,1,4,1,1,2,2,2,3,2,4,3,3,2,4,3,4,2,4,4,3,2,3,4,4,3,2,1,2,1,1,1,4,4,1,4,4,2,2,3,1,2,3,2,3,2,3,2,3,4,4,1,2,3,3,4,1,4,3,4,1,4,2,4,4,1,4,3,3,2,1,4,1,3,4,1,2,2,4,3,3,4,4,4,3,4,4,4,3,4,4,4,1,3,2,3,3,4,1,4,4,3,4,1,1,3,3,3,4,1,4,3,1,3,4,2,2,4,1,2,3,2,4,1,4,4,1,2,4,4,3,4,2,1,2,2,3,3,4,4,1,4,3,4,2,4,1,2,2,4,4,2,3,2,4,2,2,3,1,4,4,2,3,2,3,4,1,1,4,2,1,4,3,2,2,2,3,4,4,4,4,3,4,3,4,3,3,2,3,1,4,4,1,4,3,2,4,4,4,2,2,4,2,3,4,3,3,2,3,1,3,3,4,2,4,4,3,3,4,3,1,3,2,4,3,2,2,4,2,2,4,3,4,3,4,4,3,2,1,2,3,4,1,2,1,2,2,3,1,3,1,4,3,4,3,1,3,1,3,1,1,1,3,4,4,3,4,1,3,4,2,3,4,3,4,4,3,2,4,1,4,3,4,1,4,3,3,3,3,4,2,3,4,2,3,3,1,3,4,3,4,2,4,3,3,3,4,1,2,3,4,3,4,2,1,3,3,3,4,4,4,3,1,2,1,3,4,3,2,3,4,2,2,2,3,3,1,4,1,4,4,3,3,2,4,4,1,3,1,3,3,1,3,4,3,3,4,3,1,4,1,4,3,3,4,4,2,2,4,3,1,3,1,2,4,4,2,4,4,3,2,3,3,4,3,4,1,4,1,1,3,4,1,1,3,2,2,1,3,3,3,4,3,3,4,3,1,2,4,4,1,2,4,1,4,3,1,1,4,4,3,3,3,4,1,1,4,4,3,1,4,1,4,1,1,1,4,3,2,1,4,1,2,3,3,1,3,1,4,2,3,2,3,4,3,2,3,3,4,3,2,1,4,4,4,1,4,3,2,4,3,4,3,2,1,1,1,4,4,4,4,1,3,4,3,4,4,4,4,1,1,3,2,4,1,1,4,2,2,4,4,3,4,2,4,4,4,4,2,1,4,2,4,4,1,4,4,2,3,4,4,4,3,4,3,1,3,2,3,1,2,3,4,2,3,3,4,1,2,2,2,1,1,3,2,1,4,2,1,4,4,3,2,4,3,4,3,3,3,4,4,3,2,3,4,1,3,1,4,4,4,2,3,2,1,4,3,3,3,3,3,2,1,4,3,3,1,1,2,4,1,3,3,3,4,4,4,3,4,4,2,2,3,4,1,4,4,3,1,1,4,4,3,4,4,2,2,3,1,3,2,3,3,2,1,3,4,3,3,4,1,4,4,1,1,3,1,1,1,3,3,4,3,2,3,1,4,1,3,3,4,4,4,3,2,1,2,3,2,4,4,3,2,3,4,2,3,2,1,4,3,2,2,4,4,2,4,2,3,2,4,4,3,3,3,1,4,3,4,3,3,3,1,3,1,1,3,2,4,4,3,4,2,1,4,3,1,1,4,1,3,4,3,3,3,4,4,1,3,3,1,1,2,1,1,2,1,2,3,3,3,4,4,4,1,4,2,3,1,4,2,4,2,1,4,1,3,4,2,4,4,1,1,4,4,3,2,2,3,4,4,4,3,2,3,4,3,4,4,2,2,3,2,1,2,4,2,3,1,2,3,2,4,2,4,4,3,3,3,1,2,4,2,2,3,3,1,4,3,1,4,1,2,2,1,3,3,2,2,1,3,3,2,3,4,4,1,3,2,1,1,4,1,2,1,4,4,2,4,4,4,3,2,3,3,3,4,3,3,4,1,3,4,2,4,3,4,2,3,3,3,3,4,3,4,1,1,3,4,4,1,1,1,4,4,1,4,2,3,1,2,1,2,1,4,1,4,1,3,1,3,3,4,2,3,3,4,4,1,2,1,2,4,4,1,3,2,1,3,2,3,3,2,1,1,3,4,3,3,3,2,1,3,2,2,3,1,2,3,3,3,3,2,3,1,3,1,1,2,2,3,4,4,1,1,2,2,2,3,1,3,3,4,3,2,4,1,2,4,4,1,3,4,1,4,2,3,2,4,3,3,1,1,3,1,2,1,4,2,1,1,4,4,4,4,2,2,3,1,3,3,4,3,3,1,4,3,3,1,2,4,1,2,3,3,4,4,2,1,1,1,3,4,1,1,1,1,1,4,4,3,3,3,3,3,3,4,3,1,2,4,4,4,4,4,3,4,1,3,1,3,2,2,1,3,2,2,3,3,1,3,3,4,4,2,4,2,4,1,2,2,3,3,1,4,3,4,3,3,4,3,2,4,2,4,4,2,4,4,4,4,4,4,3,3,3,4,3,3,3,3,2,3,3,2,1,1,2,3,4,2,4,1,2,2,4,4,3,2,3,1,4,4,3,4,2,3,1,4,2,4,1,2,3,1,3,2,4,3,2,1,2,1,3,3,4,4,2,3,1,4,3,2,4,1,2,2,4,1,4,3,2,1,1,4,2,1,1,4,3,2,3,3,2,2,4,3,2,3,2,1,4,1,1,4,4,3,3,1,1,3,2,4,4,4,4,3,3,4,4,3,3,2,1,3,2,3,2,4,2,1,4,4,2,4,2,3,3,4,1,1,2,4,4,1,3,3,4,1,1,4,2,2,1,4,4,3,4,3,3,4,1,3,2,4,3,2,1,1,2,4,3,4,4,4,2,1,3,1,2,4,3,1,1,4,1,4,1,4,4,4,4,1,3,3,3,2,2,4,1,3,3,1,3,4,3,2,2,2,3,3,3,2,3,3,1,4,2,3,3,3,4,2,4,2,4,3,4,4,3,4,4,1,4,1,4,2,3,4,3,3,2,3,4,2,1,4,4,3,4,3,3,3,3,4,2,1,1,4,1,3,4,1,2,2,3],\"xaxis\":\"x\",\"y\":[1,0,1,0,0,0,0,0,0,0,0,0,0,0,1,0,0,0,0,0,0,1,0,0,1,0,1,0,0,0,0,0,0,1,1,0,1,0,0,0,0,0,1,0,0,1,0,0,0,0,1,1,0,0,0,0,0,0,0,0,0,0,0,0,0,0,0,0,0,1,0,0,0,0,0,0,0,0,0,0,0,0,0,0,0,0,0,0,0,1,0,0,0,0,0,0,0,0,0,0,1,0,1,0,0,0,0,1,0,0,0,1,0,0,0,0,0,0,0,0,0,0,1,0,1,0,1,1,0,0,0,0,1,0,0,0,1,0,0,0,1,0,0,0,0,0,0,0,0,0,0,0,0,0,0,0,0,0,0,0,0,0,0,0,0,0,0,0,0,0,0,1,0,0,0,0,0,1,0,0,0,0,1,0,0,0,0,0,0,0,0,0,1,0,0,0,0,0,0,0,0,0,0,0,1,1,0,0,0,0,1,0,0,0,1,0,1,1,0,0,0,0,0,0,0,0,0,0,0,1,0,0,0,0,1,0,1,0,0,1,0,0,0,0,0,0,0,0,0,0,1,0,0,0,0,0,0,0,0,1,0,0,0,0,1,0,0,0,0,0,0,1,0,0,0,0,0,0,0,0,0,0,0,0,0,0,1,0,1,0,0,0,0,1,0,0,1,0,0,0,0,0,0,0,0,0,0,0,0,0,0,0,0,0,0,0,0,1,0,0,0,0,0,1,0,0,0,1,0,0,0,0,0,0,0,0,1,0,0,0,0,0,0,0,0,0,0,0,0,0,0,0,0,0,0,0,0,1,0,0,0,0,0,1,0,0,1,0,1,0,1,0,0,0,0,0,0,0,1,0,0,0,1,0,0,1,0,0,0,0,0,0,0,0,0,0,0,0,0,0,0,0,0,0,0,1,0,0,0,0,0,0,0,0,1,1,0,0,0,0,0,1,1,0,0,0,0,0,0,0,0,0,0,0,0,1,1,0,0,1,1,0,0,1,0,0,0,0,0,0,0,0,0,1,0,0,0,1,0,0,0,0,0,1,0,0,0,0,0,1,0,0,0,0,0,0,0,0,0,1,1,0,1,0,0,0,0,0,0,0,0,0,0,0,0,1,0,0,0,0,0,0,0,0,1,0,0,0,0,0,0,0,0,1,1,0,0,0,0,0,0,0,0,0,0,1,0,0,1,0,0,0,0,0,0,0,0,0,0,0,1,0,0,0,0,0,0,1,0,0,0,0,0,0,0,0,0,0,0,0,0,0,1,0,0,0,1,0,1,0,0,0,0,1,0,0,0,0,0,0,0,0,0,0,0,1,0,0,0,1,0,1,0,0,0,1,0,0,1,0,0,0,0,0,0,0,0,1,1,0,0,0,0,0,1,0,0,0,0,0,0,0,0,0,0,0,0,0,0,0,0,0,0,0,0,0,1,0,0,0,0,0,0,0,0,1,0,0,0,0,0,0,0,0,0,0,1,0,0,0,1,0,1,1,0,0,1,1,0,1,0,0,0,0,0,0,0,0,0,0,0,0,0,1,0,0,0,0,1,1,0,0,0,1,0,1,0,0,0,0,1,0,0,0,0,0,1,0,0,1,0,1,0,0,0,0,0,0,0,0,1,0,0,0,0,1,0,0,0,0,0,1,1,0,0,0,0,0,0,0,0,0,0,0,1,0,0,0,1,1,0,0,1,0,0,0,0,0,0,0,0,1,1,0,0,0,0,0,0,0,0,0,0,0,0,0,1,1,0,1,1,0,0,0,0,0,0,0,0,1,0,1,1,0,0,0,1,1,1,0,1,1,0,0,0,0,0,0,0,0,0,0,0,1,0,0,0,0,0,0,0,0,0,0,0,0,0,0,1,1,0,1,0,0,0,0,1,0,1,0,0,0,1,0,0,0,0,0,0,1,0,0,0,0,0,0,0,1,0,0,1,0,0,0,1,0,0,0,0,0,0,1,0,0,0,0,0,0,0,0,0,0,0,0,0,0,0,0,0,0,0,0,1,0,0,0,0,0,0,0,0,0,0,0,0,0,0,0,0,0,0,1,0,1,0,1,0,0,0,0,0,0,0,0,0,0,0,0,1,0,0,0,1,0,0,0,0,0,0,1,1,0,0,0,0,0,1,1,0,0,0,0,1,1,0,0,0,0,0,0,0,0,0,0,0,0,1,0,0,0,0,0,0,0,0,1,0,0,0,0,1,1,0,0,0,1,0,0,0,0,0,0,0,0,0,0,0,1,0,0,0,0,0,0,0,0,1,1,0,0,0,0,1,0,0,0,1,0,0,0,0,1,0,0,0,0,0,0,0,0,0,1,1,1,0,0,1,0,0,1,0,0,0,0,0,0,0,0,0,0,0,0,0,0,0,0,1,1,1,0,1,0,0,0,0,0,0,0,1,0,0,0,0,0,0,0,0,1,0,0,0,0,0,1,0,1,0,0,0,0,0,0,0,0,0,0,0,0,0,0,0,0,0,0,0,0,1,0,0,0,1,1,1,0,0,0,0,0,0,0,0,0,0,0,0,0,0,0,0,0,0,0,0,0,0,0,1,0,0,0,0,0,0,0,0,0,0,0,0,0,0,0,0,1,0,0,0,0,0,0,0,0,1,0,0,0,0,1,0,0,0,1,0,0,0,0,0,0,0,0,0,0,0,0,0,0,1,0,0,0,0,0,0,0,0,0,0,0,0,0,0,1,0,0,1,1,0,0,0,0,0,0,0,1,0,0,0,0,0,0,0,0,1,1,0,0,0,0,0,0,0,0,0,0,0,0,1,1,0,0,0,0,0,0,0,0,1,0,0,1,0,0,0,0,0,1,0,1,0,0,0,0,1,0,0,0,0,0,0,0,0,1,0,1,0,0,0,0,0,1,0,1,0,0,0,0,0,0,0,0,1,1,0,0,0,0,0,1,1,0,0,0,0,0,0,0,0,0,0,0,0,0,1,1,0,0,0,0,0,0,0,0,0,0,0,0,1,0,0,0,0,0,1,1,0,0,0,0,1,1,0,0,0,0,0,0,0,0,0,0,0,0,0,1,1,0,0,0,0,0,0,0,0,0,0,1,0,0,0,1,0,0,0,0,0,1,0,0,0,1,0,0,0,0,0,0,0,0,0,0,1,0,0,0,0,1,1,0,0,0,0,0,0,0,0,0,0,0,0,0,0,0,0,0,0,0,0,0,0,0,0,0,0,0,0,0,0,0,0,0,0,0,0,0,0,0,0,0,1,0,0,0,1,0,1,0,0,0,0,0,0,0,1,0,0,0,0,0,0,0,0,1,0,0,0,0,0,0,0,0],\"yaxis\":\"y\",\"type\":\"scattergl\"},{\"hovertemplate\":\"\\u003cb\\u003eOLS trendline\\u003c\\u002fb\\u003e\\u003cbr\\u003eAttrition = -0.0345169 * JobSatisfaction + 0.255406\\u003cbr\\u003eR\\u003csup\\u003e2\\u003c\\u002fsup\\u003e=0.010708\\u003cbr\\u003e\\u003cbr\\u003eJobSatisfaction=%{x}\\u003cbr\\u003eAttrition=%{y} \\u003cb\\u003e(trend)\\u003c\\u002fb\\u003e\\u003cextra\\u003e\\u003c\\u002fextra\\u003e\",\"legendgroup\":\"\",\"marker\":{\"color\":\"#636efa\",\"symbol\":\"circle\"},\"mode\":\"lines\",\"name\":\"\",\"showlegend\":false,\"x\":[1,1,1,1,1,1,1,1,1,1,1,1,1,1,1,1,1,1,1,1,1,1,1,1,1,1,1,1,1,1,1,1,1,1,1,1,1,1,1,1,1,1,1,1,1,1,1,1,1,1,1,1,1,1,1,1,1,1,1,1,1,1,1,1,1,1,1,1,1,1,1,1,1,1,1,1,1,1,1,1,1,1,1,1,1,1,1,1,1,1,1,1,1,1,1,1,1,1,1,1,1,1,1,1,1,1,1,1,1,1,1,1,1,1,1,1,1,1,1,1,1,1,1,1,1,1,1,1,1,1,1,1,1,1,1,1,1,1,1,1,1,1,1,1,1,1,1,1,1,1,1,1,1,1,1,1,1,1,1,1,1,1,1,1,1,1,1,1,1,1,1,1,1,1,1,1,1,1,1,1,1,1,1,1,1,1,1,1,1,1,1,1,1,1,1,1,1,1,1,1,1,1,1,1,1,1,1,1,1,1,1,1,1,1,1,1,1,1,1,1,1,1,1,1,1,1,1,1,1,1,1,1,1,1,1,1,1,1,1,1,1,1,1,1,1,1,1,1,1,1,1,1,1,1,1,1,1,1,1,1,1,1,1,1,1,1,1,1,1,1,1,1,1,1,1,1,1,1,1,1,1,1,1,1,1,1,1,1,1,2,2,2,2,2,2,2,2,2,2,2,2,2,2,2,2,2,2,2,2,2,2,2,2,2,2,2,2,2,2,2,2,2,2,2,2,2,2,2,2,2,2,2,2,2,2,2,2,2,2,2,2,2,2,2,2,2,2,2,2,2,2,2,2,2,2,2,2,2,2,2,2,2,2,2,2,2,2,2,2,2,2,2,2,2,2,2,2,2,2,2,2,2,2,2,2,2,2,2,2,2,2,2,2,2,2,2,2,2,2,2,2,2,2,2,2,2,2,2,2,2,2,2,2,2,2,2,2,2,2,2,2,2,2,2,2,2,2,2,2,2,2,2,2,2,2,2,2,2,2,2,2,2,2,2,2,2,2,2,2,2,2,2,2,2,2,2,2,2,2,2,2,2,2,2,2,2,2,2,2,2,2,2,2,2,2,2,2,2,2,2,2,2,2,2,2,2,2,2,2,2,2,2,2,2,2,2,2,2,2,2,2,2,2,2,2,2,2,2,2,2,2,2,2,2,2,2,2,2,2,2,2,2,2,2,2,2,2,2,2,2,2,2,2,2,2,2,2,2,2,2,2,2,2,2,2,2,2,2,2,2,2,2,2,2,2,2,2,2,2,2,2,2,2,2,2,2,2,2,2,3,3,3,3,3,3,3,3,3,3,3,3,3,3,3,3,3,3,3,3,3,3,3,3,3,3,3,3,3,3,3,3,3,3,3,3,3,3,3,3,3,3,3,3,3,3,3,3,3,3,3,3,3,3,3,3,3,3,3,3,3,3,3,3,3,3,3,3,3,3,3,3,3,3,3,3,3,3,3,3,3,3,3,3,3,3,3,3,3,3,3,3,3,3,3,3,3,3,3,3,3,3,3,3,3,3,3,3,3,3,3,3,3,3,3,3,3,3,3,3,3,3,3,3,3,3,3,3,3,3,3,3,3,3,3,3,3,3,3,3,3,3,3,3,3,3,3,3,3,3,3,3,3,3,3,3,3,3,3,3,3,3,3,3,3,3,3,3,3,3,3,3,3,3,3,3,3,3,3,3,3,3,3,3,3,3,3,3,3,3,3,3,3,3,3,3,3,3,3,3,3,3,3,3,3,3,3,3,3,3,3,3,3,3,3,3,3,3,3,3,3,3,3,3,3,3,3,3,3,3,3,3,3,3,3,3,3,3,3,3,3,3,3,3,3,3,3,3,3,3,3,3,3,3,3,3,3,3,3,3,3,3,3,3,3,3,3,3,3,3,3,3,3,3,3,3,3,3,3,3,3,3,3,3,3,3,3,3,3,3,3,3,3,3,3,3,3,3,3,3,3,3,3,3,3,3,3,3,3,3,3,3,3,3,3,3,3,3,3,3,3,3,3,3,3,3,3,3,3,3,3,3,3,3,3,3,3,3,3,3,3,3,3,3,3,3,3,3,3,3,3,3,3,3,3,3,3,3,3,3,3,3,3,3,3,3,3,3,3,3,3,3,3,3,3,3,3,3,3,3,3,3,3,3,3,3,3,3,3,3,3,3,3,3,3,3,3,3,3,3,3,3,3,3,3,3,3,3,3,3,3,3,3,3,3,3,3,3,3,3,3,3,3,3,3,3,3,3,3,3,3,3,3,3,3,3,3,3,3,3,3,3,4,4,4,4,4,4,4,4,4,4,4,4,4,4,4,4,4,4,4,4,4,4,4,4,4,4,4,4,4,4,4,4,4,4,4,4,4,4,4,4,4,4,4,4,4,4,4,4,4,4,4,4,4,4,4,4,4,4,4,4,4,4,4,4,4,4,4,4,4,4,4,4,4,4,4,4,4,4,4,4,4,4,4,4,4,4,4,4,4,4,4,4,4,4,4,4,4,4,4,4,4,4,4,4,4,4,4,4,4,4,4,4,4,4,4,4,4,4,4,4,4,4,4,4,4,4,4,4,4,4,4,4,4,4,4,4,4,4,4,4,4,4,4,4,4,4,4,4,4,4,4,4,4,4,4,4,4,4,4,4,4,4,4,4,4,4,4,4,4,4,4,4,4,4,4,4,4,4,4,4,4,4,4,4,4,4,4,4,4,4,4,4,4,4,4,4,4,4,4,4,4,4,4,4,4,4,4,4,4,4,4,4,4,4,4,4,4,4,4,4,4,4,4,4,4,4,4,4,4,4,4,4,4,4,4,4,4,4,4,4,4,4,4,4,4,4,4,4,4,4,4,4,4,4,4,4,4,4,4,4,4,4,4,4,4,4,4,4,4,4,4,4,4,4,4,4,4,4,4,4,4,4,4,4,4,4,4,4,4,4,4,4,4,4,4,4,4,4,4,4,4,4,4,4,4,4,4,4,4,4,4,4,4,4,4,4,4,4,4,4,4,4,4,4,4,4,4,4,4,4,4,4,4,4,4,4,4,4,4,4,4,4,4,4,4,4,4,4,4,4,4,4,4,4,4,4,4,4,4,4,4,4,4,4,4,4,4,4,4,4,4,4,4,4,4,4,4,4,4,4,4,4,4,4,4,4,4,4,4,4,4,4,4,4,4,4,4,4,4,4,4,4,4,4,4,4,4,4,4,4,4,4,4,4,4,4,4,4,4,4,4,4,4,4,4,4,4,4,4,4,4,4,4,4,4,4,4,4,4,4,4,4,4,4,4,4,4,4,4,4,4,4,4,4,4,4,4,4,4],\"xaxis\":\"x\",\"y\":[0.22088949756877213,0.22088949756877213,0.22088949756877213,0.22088949756877213,0.22088949756877213,0.22088949756877213,0.22088949756877213,0.22088949756877213,0.22088949756877213,0.22088949756877213,0.22088949756877213,0.22088949756877213,0.22088949756877213,0.22088949756877213,0.22088949756877213,0.22088949756877213,0.22088949756877213,0.22088949756877213,0.22088949756877213,0.22088949756877213,0.22088949756877213,0.22088949756877213,0.22088949756877213,0.22088949756877213,0.22088949756877213,0.22088949756877213,0.22088949756877213,0.22088949756877213,0.22088949756877213,0.22088949756877213,0.22088949756877213,0.22088949756877213,0.22088949756877213,0.22088949756877213,0.22088949756877213,0.22088949756877213,0.22088949756877213,0.22088949756877213,0.22088949756877213,0.22088949756877213,0.22088949756877213,0.22088949756877213,0.22088949756877213,0.22088949756877213,0.22088949756877213,0.22088949756877213,0.22088949756877213,0.22088949756877213,0.22088949756877213,0.22088949756877213,0.22088949756877213,0.22088949756877213,0.22088949756877213,0.22088949756877213,0.22088949756877213,0.22088949756877213,0.22088949756877213,0.22088949756877213,0.22088949756877213,0.22088949756877213,0.22088949756877213,0.22088949756877213,0.22088949756877213,0.22088949756877213,0.22088949756877213,0.22088949756877213,0.22088949756877213,0.22088949756877213,0.22088949756877213,0.22088949756877213,0.22088949756877213,0.22088949756877213,0.22088949756877213,0.22088949756877213,0.22088949756877213,0.22088949756877213,0.22088949756877213,0.22088949756877213,0.22088949756877213,0.22088949756877213,0.22088949756877213,0.22088949756877213,0.22088949756877213,0.22088949756877213,0.22088949756877213,0.22088949756877213,0.22088949756877213,0.22088949756877213,0.22088949756877213,0.22088949756877213,0.22088949756877213,0.22088949756877213,0.22088949756877213,0.22088949756877213,0.22088949756877213,0.22088949756877213,0.22088949756877213,0.22088949756877213,0.22088949756877213,0.22088949756877213,0.22088949756877213,0.22088949756877213,0.22088949756877213,0.22088949756877213,0.22088949756877213,0.22088949756877213,0.22088949756877213,0.22088949756877213,0.22088949756877213,0.22088949756877213,0.22088949756877213,0.22088949756877213,0.22088949756877213,0.22088949756877213,0.22088949756877213,0.22088949756877213,0.22088949756877213,0.22088949756877213,0.22088949756877213,0.22088949756877213,0.22088949756877213,0.22088949756877213,0.22088949756877213,0.22088949756877213,0.22088949756877213,0.22088949756877213,0.22088949756877213,0.22088949756877213,0.22088949756877213,0.22088949756877213,0.22088949756877213,0.22088949756877213,0.22088949756877213,0.22088949756877213,0.22088949756877213,0.22088949756877213,0.22088949756877213,0.22088949756877213,0.22088949756877213,0.22088949756877213,0.22088949756877213,0.22088949756877213,0.22088949756877213,0.22088949756877213,0.22088949756877213,0.22088949756877213,0.22088949756877213,0.22088949756877213,0.22088949756877213,0.22088949756877213,0.22088949756877213,0.22088949756877213,0.22088949756877213,0.22088949756877213,0.22088949756877213,0.22088949756877213,0.22088949756877213,0.22088949756877213,0.22088949756877213,0.22088949756877213,0.22088949756877213,0.22088949756877213,0.22088949756877213,0.22088949756877213,0.22088949756877213,0.22088949756877213,0.22088949756877213,0.22088949756877213,0.22088949756877213,0.22088949756877213,0.22088949756877213,0.22088949756877213,0.22088949756877213,0.22088949756877213,0.22088949756877213,0.22088949756877213,0.22088949756877213,0.22088949756877213,0.22088949756877213,0.22088949756877213,0.22088949756877213,0.22088949756877213,0.22088949756877213,0.22088949756877213,0.22088949756877213,0.22088949756877213,0.22088949756877213,0.22088949756877213,0.22088949756877213,0.22088949756877213,0.22088949756877213,0.22088949756877213,0.22088949756877213,0.22088949756877213,0.22088949756877213,0.22088949756877213,0.22088949756877213,0.22088949756877213,0.22088949756877213,0.22088949756877213,0.22088949756877213,0.22088949756877213,0.22088949756877213,0.22088949756877213,0.22088949756877213,0.22088949756877213,0.22088949756877213,0.22088949756877213,0.22088949756877213,0.22088949756877213,0.22088949756877213,0.22088949756877213,0.22088949756877213,0.22088949756877213,0.22088949756877213,0.22088949756877213,0.22088949756877213,0.22088949756877213,0.22088949756877213,0.22088949756877213,0.22088949756877213,0.22088949756877213,0.22088949756877213,0.22088949756877213,0.22088949756877213,0.22088949756877213,0.22088949756877213,0.22088949756877213,0.22088949756877213,0.22088949756877213,0.22088949756877213,0.22088949756877213,0.22088949756877213,0.22088949756877213,0.22088949756877213,0.22088949756877213,0.22088949756877213,0.22088949756877213,0.22088949756877213,0.22088949756877213,0.22088949756877213,0.22088949756877213,0.22088949756877213,0.22088949756877213,0.22088949756877213,0.22088949756877213,0.22088949756877213,0.22088949756877213,0.22088949756877213,0.22088949756877213,0.22088949756877213,0.22088949756877213,0.22088949756877213,0.22088949756877213,0.22088949756877213,0.22088949756877213,0.22088949756877213,0.22088949756877213,0.22088949756877213,0.22088949756877213,0.22088949756877213,0.22088949756877213,0.22088949756877213,0.22088949756877213,0.22088949756877213,0.22088949756877213,0.22088949756877213,0.22088949756877213,0.22088949756877213,0.22088949756877213,0.22088949756877213,0.22088949756877213,0.22088949756877213,0.22088949756877213,0.22088949756877213,0.22088949756877213,0.22088949756877213,0.22088949756877213,0.22088949756877213,0.22088949756877213,0.22088949756877213,0.22088949756877213,0.22088949756877213,0.22088949756877213,0.22088949756877213,0.22088949756877213,0.22088949756877213,0.22088949756877213,0.22088949756877213,0.18637255092331984,0.18637255092331984,0.18637255092331984,0.18637255092331984,0.18637255092331984,0.18637255092331984,0.18637255092331984,0.18637255092331984,0.18637255092331984,0.18637255092331984,0.18637255092331984,0.18637255092331984,0.18637255092331984,0.18637255092331984,0.18637255092331984,0.18637255092331984,0.18637255092331984,0.18637255092331984,0.18637255092331984,0.18637255092331984,0.18637255092331984,0.18637255092331984,0.18637255092331984,0.18637255092331984,0.18637255092331984,0.18637255092331984,0.18637255092331984,0.18637255092331984,0.18637255092331984,0.18637255092331984,0.18637255092331984,0.18637255092331984,0.18637255092331984,0.18637255092331984,0.18637255092331984,0.18637255092331984,0.18637255092331984,0.18637255092331984,0.18637255092331984,0.18637255092331984,0.18637255092331984,0.18637255092331984,0.18637255092331984,0.18637255092331984,0.18637255092331984,0.18637255092331984,0.18637255092331984,0.18637255092331984,0.18637255092331984,0.18637255092331984,0.18637255092331984,0.18637255092331984,0.18637255092331984,0.18637255092331984,0.18637255092331984,0.18637255092331984,0.18637255092331984,0.18637255092331984,0.18637255092331984,0.18637255092331984,0.18637255092331984,0.18637255092331984,0.18637255092331984,0.18637255092331984,0.18637255092331984,0.18637255092331984,0.18637255092331984,0.18637255092331984,0.18637255092331984,0.18637255092331984,0.18637255092331984,0.18637255092331984,0.18637255092331984,0.18637255092331984,0.18637255092331984,0.18637255092331984,0.18637255092331984,0.18637255092331984,0.18637255092331984,0.18637255092331984,0.18637255092331984,0.18637255092331984,0.18637255092331984,0.18637255092331984,0.18637255092331984,0.18637255092331984,0.18637255092331984,0.18637255092331984,0.18637255092331984,0.18637255092331984,0.18637255092331984,0.18637255092331984,0.18637255092331984,0.18637255092331984,0.18637255092331984,0.18637255092331984,0.18637255092331984,0.18637255092331984,0.18637255092331984,0.18637255092331984,0.18637255092331984,0.18637255092331984,0.18637255092331984,0.18637255092331984,0.18637255092331984,0.18637255092331984,0.18637255092331984,0.18637255092331984,0.18637255092331984,0.18637255092331984,0.18637255092331984,0.18637255092331984,0.18637255092331984,0.18637255092331984,0.18637255092331984,0.18637255092331984,0.18637255092331984,0.18637255092331984,0.18637255092331984,0.18637255092331984,0.18637255092331984,0.18637255092331984,0.18637255092331984,0.18637255092331984,0.18637255092331984,0.18637255092331984,0.18637255092331984,0.18637255092331984,0.18637255092331984,0.18637255092331984,0.18637255092331984,0.18637255092331984,0.18637255092331984,0.18637255092331984,0.18637255092331984,0.18637255092331984,0.18637255092331984,0.18637255092331984,0.18637255092331984,0.18637255092331984,0.18637255092331984,0.18637255092331984,0.18637255092331984,0.18637255092331984,0.18637255092331984,0.18637255092331984,0.18637255092331984,0.18637255092331984,0.18637255092331984,0.18637255092331984,0.18637255092331984,0.18637255092331984,0.18637255092331984,0.18637255092331984,0.18637255092331984,0.18637255092331984,0.18637255092331984,0.18637255092331984,0.18637255092331984,0.18637255092331984,0.18637255092331984,0.18637255092331984,0.18637255092331984,0.18637255092331984,0.18637255092331984,0.18637255092331984,0.18637255092331984,0.18637255092331984,0.18637255092331984,0.18637255092331984,0.18637255092331984,0.18637255092331984,0.18637255092331984,0.18637255092331984,0.18637255092331984,0.18637255092331984,0.18637255092331984,0.18637255092331984,0.18637255092331984,0.18637255092331984,0.18637255092331984,0.18637255092331984,0.18637255092331984,0.18637255092331984,0.18637255092331984,0.18637255092331984,0.18637255092331984,0.18637255092331984,0.18637255092331984,0.18637255092331984,0.18637255092331984,0.18637255092331984,0.18637255092331984,0.18637255092331984,0.18637255092331984,0.18637255092331984,0.18637255092331984,0.18637255092331984,0.18637255092331984,0.18637255092331984,0.18637255092331984,0.18637255092331984,0.18637255092331984,0.18637255092331984,0.18637255092331984,0.18637255092331984,0.18637255092331984,0.18637255092331984,0.18637255092331984,0.18637255092331984,0.18637255092331984,0.18637255092331984,0.18637255092331984,0.18637255092331984,0.18637255092331984,0.18637255092331984,0.18637255092331984,0.18637255092331984,0.18637255092331984,0.18637255092331984,0.18637255092331984,0.18637255092331984,0.18637255092331984,0.18637255092331984,0.18637255092331984,0.18637255092331984,0.18637255092331984,0.18637255092331984,0.18637255092331984,0.18637255092331984,0.18637255092331984,0.18637255092331984,0.18637255092331984,0.18637255092331984,0.18637255092331984,0.18637255092331984,0.18637255092331984,0.18637255092331984,0.18637255092331984,0.18637255092331984,0.18637255092331984,0.18637255092331984,0.18637255092331984,0.18637255092331984,0.18637255092331984,0.18637255092331984,0.18637255092331984,0.18637255092331984,0.18637255092331984,0.18637255092331984,0.18637255092331984,0.18637255092331984,0.18637255092331984,0.18637255092331984,0.18637255092331984,0.18637255092331984,0.18637255092331984,0.18637255092331984,0.18637255092331984,0.18637255092331984,0.18637255092331984,0.18637255092331984,0.18637255092331984,0.18637255092331984,0.18637255092331984,0.18637255092331984,0.18637255092331984,0.18637255092331984,0.18637255092331984,0.18637255092331984,0.18637255092331984,0.18637255092331984,0.18637255092331984,0.18637255092331984,0.18637255092331984,0.18637255092331984,0.18637255092331984,0.18637255092331984,0.18637255092331984,0.18637255092331984,0.15185560427786757,0.15185560427786757,0.15185560427786757,0.15185560427786757,0.15185560427786757,0.15185560427786757,0.15185560427786757,0.15185560427786757,0.15185560427786757,0.15185560427786757,0.15185560427786757,0.15185560427786757,0.15185560427786757,0.15185560427786757,0.15185560427786757,0.15185560427786757,0.15185560427786757,0.15185560427786757,0.15185560427786757,0.15185560427786757,0.15185560427786757,0.15185560427786757,0.15185560427786757,0.15185560427786757,0.15185560427786757,0.15185560427786757,0.15185560427786757,0.15185560427786757,0.15185560427786757,0.15185560427786757,0.15185560427786757,0.15185560427786757,0.15185560427786757,0.15185560427786757,0.15185560427786757,0.15185560427786757,0.15185560427786757,0.15185560427786757,0.15185560427786757,0.15185560427786757,0.15185560427786757,0.15185560427786757,0.15185560427786757,0.15185560427786757,0.15185560427786757,0.15185560427786757,0.15185560427786757,0.15185560427786757,0.15185560427786757,0.15185560427786757,0.15185560427786757,0.15185560427786757,0.15185560427786757,0.15185560427786757,0.15185560427786757,0.15185560427786757,0.15185560427786757,0.15185560427786757,0.15185560427786757,0.15185560427786757,0.15185560427786757,0.15185560427786757,0.15185560427786757,0.15185560427786757,0.15185560427786757,0.15185560427786757,0.15185560427786757,0.15185560427786757,0.15185560427786757,0.15185560427786757,0.15185560427786757,0.15185560427786757,0.15185560427786757,0.15185560427786757,0.15185560427786757,0.15185560427786757,0.15185560427786757,0.15185560427786757,0.15185560427786757,0.15185560427786757,0.15185560427786757,0.15185560427786757,0.15185560427786757,0.15185560427786757,0.15185560427786757,0.15185560427786757,0.15185560427786757,0.15185560427786757,0.15185560427786757,0.15185560427786757,0.15185560427786757,0.15185560427786757,0.15185560427786757,0.15185560427786757,0.15185560427786757,0.15185560427786757,0.15185560427786757,0.15185560427786757,0.15185560427786757,0.15185560427786757,0.15185560427786757,0.15185560427786757,0.15185560427786757,0.15185560427786757,0.15185560427786757,0.15185560427786757,0.15185560427786757,0.15185560427786757,0.15185560427786757,0.15185560427786757,0.15185560427786757,0.15185560427786757,0.15185560427786757,0.15185560427786757,0.15185560427786757,0.15185560427786757,0.15185560427786757,0.15185560427786757,0.15185560427786757,0.15185560427786757,0.15185560427786757,0.15185560427786757,0.15185560427786757,0.15185560427786757,0.15185560427786757,0.15185560427786757,0.15185560427786757,0.15185560427786757,0.15185560427786757,0.15185560427786757,0.15185560427786757,0.15185560427786757,0.15185560427786757,0.15185560427786757,0.15185560427786757,0.15185560427786757,0.15185560427786757,0.15185560427786757,0.15185560427786757,0.15185560427786757,0.15185560427786757,0.15185560427786757,0.15185560427786757,0.15185560427786757,0.15185560427786757,0.15185560427786757,0.15185560427786757,0.15185560427786757,0.15185560427786757,0.15185560427786757,0.15185560427786757,0.15185560427786757,0.15185560427786757,0.15185560427786757,0.15185560427786757,0.15185560427786757,0.15185560427786757,0.15185560427786757,0.15185560427786757,0.15185560427786757,0.15185560427786757,0.15185560427786757,0.15185560427786757,0.15185560427786757,0.15185560427786757,0.15185560427786757,0.15185560427786757,0.15185560427786757,0.15185560427786757,0.15185560427786757,0.15185560427786757,0.15185560427786757,0.15185560427786757,0.15185560427786757,0.15185560427786757,0.15185560427786757,0.15185560427786757,0.15185560427786757,0.15185560427786757,0.15185560427786757,0.15185560427786757,0.15185560427786757,0.15185560427786757,0.15185560427786757,0.15185560427786757,0.15185560427786757,0.15185560427786757,0.15185560427786757,0.15185560427786757,0.15185560427786757,0.15185560427786757,0.15185560427786757,0.15185560427786757,0.15185560427786757,0.15185560427786757,0.15185560427786757,0.15185560427786757,0.15185560427786757,0.15185560427786757,0.15185560427786757,0.15185560427786757,0.15185560427786757,0.15185560427786757,0.15185560427786757,0.15185560427786757,0.15185560427786757,0.15185560427786757,0.15185560427786757,0.15185560427786757,0.15185560427786757,0.15185560427786757,0.15185560427786757,0.15185560427786757,0.15185560427786757,0.15185560427786757,0.15185560427786757,0.15185560427786757,0.15185560427786757,0.15185560427786757,0.15185560427786757,0.15185560427786757,0.15185560427786757,0.15185560427786757,0.15185560427786757,0.15185560427786757,0.15185560427786757,0.15185560427786757,0.15185560427786757,0.15185560427786757,0.15185560427786757,0.15185560427786757,0.15185560427786757,0.15185560427786757,0.15185560427786757,0.15185560427786757,0.15185560427786757,0.15185560427786757,0.15185560427786757,0.15185560427786757,0.15185560427786757,0.15185560427786757,0.15185560427786757,0.15185560427786757,0.15185560427786757,0.15185560427786757,0.15185560427786757,0.15185560427786757,0.15185560427786757,0.15185560427786757,0.15185560427786757,0.15185560427786757,0.15185560427786757,0.15185560427786757,0.15185560427786757,0.15185560427786757,0.15185560427786757,0.15185560427786757,0.15185560427786757,0.15185560427786757,0.15185560427786757,0.15185560427786757,0.15185560427786757,0.15185560427786757,0.15185560427786757,0.15185560427786757,0.15185560427786757,0.15185560427786757,0.15185560427786757,0.15185560427786757,0.15185560427786757,0.15185560427786757,0.15185560427786757,0.15185560427786757,0.15185560427786757,0.15185560427786757,0.15185560427786757,0.15185560427786757,0.15185560427786757,0.15185560427786757,0.15185560427786757,0.15185560427786757,0.15185560427786757,0.15185560427786757,0.15185560427786757,0.15185560427786757,0.15185560427786757,0.15185560427786757,0.15185560427786757,0.15185560427786757,0.15185560427786757,0.15185560427786757,0.15185560427786757,0.15185560427786757,0.15185560427786757,0.15185560427786757,0.15185560427786757,0.15185560427786757,0.15185560427786757,0.15185560427786757,0.15185560427786757,0.15185560427786757,0.15185560427786757,0.15185560427786757,0.15185560427786757,0.15185560427786757,0.15185560427786757,0.15185560427786757,0.15185560427786757,0.15185560427786757,0.15185560427786757,0.15185560427786757,0.15185560427786757,0.15185560427786757,0.15185560427786757,0.15185560427786757,0.15185560427786757,0.15185560427786757,0.15185560427786757,0.15185560427786757,0.15185560427786757,0.15185560427786757,0.15185560427786757,0.15185560427786757,0.15185560427786757,0.15185560427786757,0.15185560427786757,0.15185560427786757,0.15185560427786757,0.15185560427786757,0.15185560427786757,0.15185560427786757,0.15185560427786757,0.15185560427786757,0.15185560427786757,0.15185560427786757,0.15185560427786757,0.15185560427786757,0.15185560427786757,0.15185560427786757,0.15185560427786757,0.15185560427786757,0.15185560427786757,0.15185560427786757,0.15185560427786757,0.15185560427786757,0.15185560427786757,0.15185560427786757,0.15185560427786757,0.15185560427786757,0.15185560427786757,0.15185560427786757,0.15185560427786757,0.15185560427786757,0.15185560427786757,0.15185560427786757,0.15185560427786757,0.15185560427786757,0.15185560427786757,0.15185560427786757,0.15185560427786757,0.15185560427786757,0.15185560427786757,0.15185560427786757,0.15185560427786757,0.15185560427786757,0.15185560427786757,0.15185560427786757,0.15185560427786757,0.15185560427786757,0.15185560427786757,0.15185560427786757,0.15185560427786757,0.15185560427786757,0.15185560427786757,0.15185560427786757,0.15185560427786757,0.15185560427786757,0.15185560427786757,0.15185560427786757,0.15185560427786757,0.15185560427786757,0.15185560427786757,0.15185560427786757,0.15185560427786757,0.15185560427786757,0.15185560427786757,0.15185560427786757,0.15185560427786757,0.15185560427786757,0.15185560427786757,0.15185560427786757,0.15185560427786757,0.15185560427786757,0.15185560427786757,0.15185560427786757,0.15185560427786757,0.15185560427786757,0.15185560427786757,0.15185560427786757,0.15185560427786757,0.15185560427786757,0.15185560427786757,0.15185560427786757,0.15185560427786757,0.15185560427786757,0.15185560427786757,0.15185560427786757,0.15185560427786757,0.15185560427786757,0.15185560427786757,0.15185560427786757,0.15185560427786757,0.15185560427786757,0.15185560427786757,0.15185560427786757,0.15185560427786757,0.15185560427786757,0.15185560427786757,0.15185560427786757,0.15185560427786757,0.15185560427786757,0.15185560427786757,0.15185560427786757,0.15185560427786757,0.15185560427786757,0.15185560427786757,0.15185560427786757,0.15185560427786757,0.15185560427786757,0.15185560427786757,0.15185560427786757,0.15185560427786757,0.15185560427786757,0.15185560427786757,0.15185560427786757,0.15185560427786757,0.15185560427786757,0.15185560427786757,0.15185560427786757,0.15185560427786757,0.15185560427786757,0.15185560427786757,0.11733865763241527,0.11733865763241527,0.11733865763241527,0.11733865763241527,0.11733865763241527,0.11733865763241527,0.11733865763241527,0.11733865763241527,0.11733865763241527,0.11733865763241527,0.11733865763241527,0.11733865763241527,0.11733865763241527,0.11733865763241527,0.11733865763241527,0.11733865763241527,0.11733865763241527,0.11733865763241527,0.11733865763241527,0.11733865763241527,0.11733865763241527,0.11733865763241527,0.11733865763241527,0.11733865763241527,0.11733865763241527,0.11733865763241527,0.11733865763241527,0.11733865763241527,0.11733865763241527,0.11733865763241527,0.11733865763241527,0.11733865763241527,0.11733865763241527,0.11733865763241527,0.11733865763241527,0.11733865763241527,0.11733865763241527,0.11733865763241527,0.11733865763241527,0.11733865763241527,0.11733865763241527,0.11733865763241527,0.11733865763241527,0.11733865763241527,0.11733865763241527,0.11733865763241527,0.11733865763241527,0.11733865763241527,0.11733865763241527,0.11733865763241527,0.11733865763241527,0.11733865763241527,0.11733865763241527,0.11733865763241527,0.11733865763241527,0.11733865763241527,0.11733865763241527,0.11733865763241527,0.11733865763241527,0.11733865763241527,0.11733865763241527,0.11733865763241527,0.11733865763241527,0.11733865763241527,0.11733865763241527,0.11733865763241527,0.11733865763241527,0.11733865763241527,0.11733865763241527,0.11733865763241527,0.11733865763241527,0.11733865763241527,0.11733865763241527,0.11733865763241527,0.11733865763241527,0.11733865763241527,0.11733865763241527,0.11733865763241527,0.11733865763241527,0.11733865763241527,0.11733865763241527,0.11733865763241527,0.11733865763241527,0.11733865763241527,0.11733865763241527,0.11733865763241527,0.11733865763241527,0.11733865763241527,0.11733865763241527,0.11733865763241527,0.11733865763241527,0.11733865763241527,0.11733865763241527,0.11733865763241527,0.11733865763241527,0.11733865763241527,0.11733865763241527,0.11733865763241527,0.11733865763241527,0.11733865763241527,0.11733865763241527,0.11733865763241527,0.11733865763241527,0.11733865763241527,0.11733865763241527,0.11733865763241527,0.11733865763241527,0.11733865763241527,0.11733865763241527,0.11733865763241527,0.11733865763241527,0.11733865763241527,0.11733865763241527,0.11733865763241527,0.11733865763241527,0.11733865763241527,0.11733865763241527,0.11733865763241527,0.11733865763241527,0.11733865763241527,0.11733865763241527,0.11733865763241527,0.11733865763241527,0.11733865763241527,0.11733865763241527,0.11733865763241527,0.11733865763241527,0.11733865763241527,0.11733865763241527,0.11733865763241527,0.11733865763241527,0.11733865763241527,0.11733865763241527,0.11733865763241527,0.11733865763241527,0.11733865763241527,0.11733865763241527,0.11733865763241527,0.11733865763241527,0.11733865763241527,0.11733865763241527,0.11733865763241527,0.11733865763241527,0.11733865763241527,0.11733865763241527,0.11733865763241527,0.11733865763241527,0.11733865763241527,0.11733865763241527,0.11733865763241527,0.11733865763241527,0.11733865763241527,0.11733865763241527,0.11733865763241527,0.11733865763241527,0.11733865763241527,0.11733865763241527,0.11733865763241527,0.11733865763241527,0.11733865763241527,0.11733865763241527,0.11733865763241527,0.11733865763241527,0.11733865763241527,0.11733865763241527,0.11733865763241527,0.11733865763241527,0.11733865763241527,0.11733865763241527,0.11733865763241527,0.11733865763241527,0.11733865763241527,0.11733865763241527,0.11733865763241527,0.11733865763241527,0.11733865763241527,0.11733865763241527,0.11733865763241527,0.11733865763241527,0.11733865763241527,0.11733865763241527,0.11733865763241527,0.11733865763241527,0.11733865763241527,0.11733865763241527,0.11733865763241527,0.11733865763241527,0.11733865763241527,0.11733865763241527,0.11733865763241527,0.11733865763241527,0.11733865763241527,0.11733865763241527,0.11733865763241527,0.11733865763241527,0.11733865763241527,0.11733865763241527,0.11733865763241527,0.11733865763241527,0.11733865763241527,0.11733865763241527,0.11733865763241527,0.11733865763241527,0.11733865763241527,0.11733865763241527,0.11733865763241527,0.11733865763241527,0.11733865763241527,0.11733865763241527,0.11733865763241527,0.11733865763241527,0.11733865763241527,0.11733865763241527,0.11733865763241527,0.11733865763241527,0.11733865763241527,0.11733865763241527,0.11733865763241527,0.11733865763241527,0.11733865763241527,0.11733865763241527,0.11733865763241527,0.11733865763241527,0.11733865763241527,0.11733865763241527,0.11733865763241527,0.11733865763241527,0.11733865763241527,0.11733865763241527,0.11733865763241527,0.11733865763241527,0.11733865763241527,0.11733865763241527,0.11733865763241527,0.11733865763241527,0.11733865763241527,0.11733865763241527,0.11733865763241527,0.11733865763241527,0.11733865763241527,0.11733865763241527,0.11733865763241527,0.11733865763241527,0.11733865763241527,0.11733865763241527,0.11733865763241527,0.11733865763241527,0.11733865763241527,0.11733865763241527,0.11733865763241527,0.11733865763241527,0.11733865763241527,0.11733865763241527,0.11733865763241527,0.11733865763241527,0.11733865763241527,0.11733865763241527,0.11733865763241527,0.11733865763241527,0.11733865763241527,0.11733865763241527,0.11733865763241527,0.11733865763241527,0.11733865763241527,0.11733865763241527,0.11733865763241527,0.11733865763241527,0.11733865763241527,0.11733865763241527,0.11733865763241527,0.11733865763241527,0.11733865763241527,0.11733865763241527,0.11733865763241527,0.11733865763241527,0.11733865763241527,0.11733865763241527,0.11733865763241527,0.11733865763241527,0.11733865763241527,0.11733865763241527,0.11733865763241527,0.11733865763241527,0.11733865763241527,0.11733865763241527,0.11733865763241527,0.11733865763241527,0.11733865763241527,0.11733865763241527,0.11733865763241527,0.11733865763241527,0.11733865763241527,0.11733865763241527,0.11733865763241527,0.11733865763241527,0.11733865763241527,0.11733865763241527,0.11733865763241527,0.11733865763241527,0.11733865763241527,0.11733865763241527,0.11733865763241527,0.11733865763241527,0.11733865763241527,0.11733865763241527,0.11733865763241527,0.11733865763241527,0.11733865763241527,0.11733865763241527,0.11733865763241527,0.11733865763241527,0.11733865763241527,0.11733865763241527,0.11733865763241527,0.11733865763241527,0.11733865763241527,0.11733865763241527,0.11733865763241527,0.11733865763241527,0.11733865763241527,0.11733865763241527,0.11733865763241527,0.11733865763241527,0.11733865763241527,0.11733865763241527,0.11733865763241527,0.11733865763241527,0.11733865763241527,0.11733865763241527,0.11733865763241527,0.11733865763241527,0.11733865763241527,0.11733865763241527,0.11733865763241527,0.11733865763241527,0.11733865763241527,0.11733865763241527,0.11733865763241527,0.11733865763241527,0.11733865763241527,0.11733865763241527,0.11733865763241527,0.11733865763241527,0.11733865763241527,0.11733865763241527,0.11733865763241527,0.11733865763241527,0.11733865763241527,0.11733865763241527,0.11733865763241527,0.11733865763241527,0.11733865763241527,0.11733865763241527,0.11733865763241527,0.11733865763241527,0.11733865763241527,0.11733865763241527,0.11733865763241527,0.11733865763241527,0.11733865763241527,0.11733865763241527,0.11733865763241527,0.11733865763241527,0.11733865763241527,0.11733865763241527,0.11733865763241527,0.11733865763241527,0.11733865763241527,0.11733865763241527,0.11733865763241527,0.11733865763241527,0.11733865763241527,0.11733865763241527,0.11733865763241527,0.11733865763241527,0.11733865763241527,0.11733865763241527,0.11733865763241527,0.11733865763241527,0.11733865763241527,0.11733865763241527,0.11733865763241527,0.11733865763241527,0.11733865763241527,0.11733865763241527,0.11733865763241527,0.11733865763241527,0.11733865763241527,0.11733865763241527,0.11733865763241527,0.11733865763241527,0.11733865763241527,0.11733865763241527,0.11733865763241527,0.11733865763241527,0.11733865763241527,0.11733865763241527,0.11733865763241527,0.11733865763241527,0.11733865763241527,0.11733865763241527,0.11733865763241527,0.11733865763241527,0.11733865763241527,0.11733865763241527,0.11733865763241527,0.11733865763241527,0.11733865763241527,0.11733865763241527,0.11733865763241527,0.11733865763241527,0.11733865763241527,0.11733865763241527,0.11733865763241527,0.11733865763241527,0.11733865763241527,0.11733865763241527,0.11733865763241527,0.11733865763241527,0.11733865763241527,0.11733865763241527,0.11733865763241527,0.11733865763241527,0.11733865763241527,0.11733865763241527,0.11733865763241527,0.11733865763241527,0.11733865763241527,0.11733865763241527,0.11733865763241527,0.11733865763241527,0.11733865763241527,0.11733865763241527,0.11733865763241527,0.11733865763241527,0.11733865763241527,0.11733865763241527,0.11733865763241527,0.11733865763241527,0.11733865763241527,0.11733865763241527,0.11733865763241527,0.11733865763241527,0.11733865763241527,0.11733865763241527,0.11733865763241527,0.11733865763241527,0.11733865763241527,0.11733865763241527,0.11733865763241527,0.11733865763241527,0.11733865763241527,0.11733865763241527,0.11733865763241527,0.11733865763241527,0.11733865763241527,0.11733865763241527,0.11733865763241527,0.11733865763241527],\"yaxis\":\"y\",\"type\":\"scattergl\"}],                        {\"legend\":{\"tracegroupgap\":0},\"margin\":{\"t\":60},\"paper_bgcolor\":\"#F7F7F7\",\"plot_bgcolor\":\"#F7F7F7\",\"template\":{\"data\":{\"barpolar\":[{\"marker\":{\"line\":{\"color\":\"#E5ECF6\",\"width\":0.5},\"pattern\":{\"fillmode\":\"overlay\",\"size\":10,\"solidity\":0.2}},\"type\":\"barpolar\"}],\"bar\":[{\"error_x\":{\"color\":\"#2a3f5f\"},\"error_y\":{\"color\":\"#2a3f5f\"},\"marker\":{\"line\":{\"color\":\"#E5ECF6\",\"width\":0.5},\"pattern\":{\"fillmode\":\"overlay\",\"size\":10,\"solidity\":0.2}},\"type\":\"bar\"}],\"carpet\":[{\"aaxis\":{\"endlinecolor\":\"#2a3f5f\",\"gridcolor\":\"white\",\"linecolor\":\"white\",\"minorgridcolor\":\"white\",\"startlinecolor\":\"#2a3f5f\"},\"baxis\":{\"endlinecolor\":\"#2a3f5f\",\"gridcolor\":\"white\",\"linecolor\":\"white\",\"minorgridcolor\":\"white\",\"startlinecolor\":\"#2a3f5f\"},\"type\":\"carpet\"}],\"choropleth\":[{\"colorbar\":{\"outlinewidth\":0,\"ticks\":\"\"},\"type\":\"choropleth\"}],\"contourcarpet\":[{\"colorbar\":{\"outlinewidth\":0,\"ticks\":\"\"},\"type\":\"contourcarpet\"}],\"contour\":[{\"colorbar\":{\"outlinewidth\":0,\"ticks\":\"\"},\"colorscale\":[[0.0,\"#0d0887\"],[0.1111111111111111,\"#46039f\"],[0.2222222222222222,\"#7201a8\"],[0.3333333333333333,\"#9c179e\"],[0.4444444444444444,\"#bd3786\"],[0.5555555555555556,\"#d8576b\"],[0.6666666666666666,\"#ed7953\"],[0.7777777777777778,\"#fb9f3a\"],[0.8888888888888888,\"#fdca26\"],[1.0,\"#f0f921\"]],\"type\":\"contour\"}],\"heatmapgl\":[{\"colorbar\":{\"outlinewidth\":0,\"ticks\":\"\"},\"colorscale\":[[0.0,\"#0d0887\"],[0.1111111111111111,\"#46039f\"],[0.2222222222222222,\"#7201a8\"],[0.3333333333333333,\"#9c179e\"],[0.4444444444444444,\"#bd3786\"],[0.5555555555555556,\"#d8576b\"],[0.6666666666666666,\"#ed7953\"],[0.7777777777777778,\"#fb9f3a\"],[0.8888888888888888,\"#fdca26\"],[1.0,\"#f0f921\"]],\"type\":\"heatmapgl\"}],\"heatmap\":[{\"colorbar\":{\"outlinewidth\":0,\"ticks\":\"\"},\"colorscale\":[[0.0,\"#0d0887\"],[0.1111111111111111,\"#46039f\"],[0.2222222222222222,\"#7201a8\"],[0.3333333333333333,\"#9c179e\"],[0.4444444444444444,\"#bd3786\"],[0.5555555555555556,\"#d8576b\"],[0.6666666666666666,\"#ed7953\"],[0.7777777777777778,\"#fb9f3a\"],[0.8888888888888888,\"#fdca26\"],[1.0,\"#f0f921\"]],\"type\":\"heatmap\"}],\"histogram2dcontour\":[{\"colorbar\":{\"outlinewidth\":0,\"ticks\":\"\"},\"colorscale\":[[0.0,\"#0d0887\"],[0.1111111111111111,\"#46039f\"],[0.2222222222222222,\"#7201a8\"],[0.3333333333333333,\"#9c179e\"],[0.4444444444444444,\"#bd3786\"],[0.5555555555555556,\"#d8576b\"],[0.6666666666666666,\"#ed7953\"],[0.7777777777777778,\"#fb9f3a\"],[0.8888888888888888,\"#fdca26\"],[1.0,\"#f0f921\"]],\"type\":\"histogram2dcontour\"}],\"histogram2d\":[{\"colorbar\":{\"outlinewidth\":0,\"ticks\":\"\"},\"colorscale\":[[0.0,\"#0d0887\"],[0.1111111111111111,\"#46039f\"],[0.2222222222222222,\"#7201a8\"],[0.3333333333333333,\"#9c179e\"],[0.4444444444444444,\"#bd3786\"],[0.5555555555555556,\"#d8576b\"],[0.6666666666666666,\"#ed7953\"],[0.7777777777777778,\"#fb9f3a\"],[0.8888888888888888,\"#fdca26\"],[1.0,\"#f0f921\"]],\"type\":\"histogram2d\"}],\"histogram\":[{\"marker\":{\"pattern\":{\"fillmode\":\"overlay\",\"size\":10,\"solidity\":0.2}},\"type\":\"histogram\"}],\"mesh3d\":[{\"colorbar\":{\"outlinewidth\":0,\"ticks\":\"\"},\"type\":\"mesh3d\"}],\"parcoords\":[{\"line\":{\"colorbar\":{\"outlinewidth\":0,\"ticks\":\"\"}},\"type\":\"parcoords\"}],\"pie\":[{\"automargin\":true,\"type\":\"pie\"}],\"scatter3d\":[{\"line\":{\"colorbar\":{\"outlinewidth\":0,\"ticks\":\"\"}},\"marker\":{\"colorbar\":{\"outlinewidth\":0,\"ticks\":\"\"}},\"type\":\"scatter3d\"}],\"scattercarpet\":[{\"marker\":{\"colorbar\":{\"outlinewidth\":0,\"ticks\":\"\"}},\"type\":\"scattercarpet\"}],\"scattergeo\":[{\"marker\":{\"colorbar\":{\"outlinewidth\":0,\"ticks\":\"\"}},\"type\":\"scattergeo\"}],\"scattergl\":[{\"marker\":{\"colorbar\":{\"outlinewidth\":0,\"ticks\":\"\"}},\"type\":\"scattergl\"}],\"scattermapbox\":[{\"marker\":{\"colorbar\":{\"outlinewidth\":0,\"ticks\":\"\"}},\"type\":\"scattermapbox\"}],\"scatterpolargl\":[{\"marker\":{\"colorbar\":{\"outlinewidth\":0,\"ticks\":\"\"}},\"type\":\"scatterpolargl\"}],\"scatterpolar\":[{\"marker\":{\"colorbar\":{\"outlinewidth\":0,\"ticks\":\"\"}},\"type\":\"scatterpolar\"}],\"scatter\":[{\"fillpattern\":{\"fillmode\":\"overlay\",\"size\":10,\"solidity\":0.2},\"type\":\"scatter\"}],\"scatterternary\":[{\"marker\":{\"colorbar\":{\"outlinewidth\":0,\"ticks\":\"\"}},\"type\":\"scatterternary\"}],\"surface\":[{\"colorbar\":{\"outlinewidth\":0,\"ticks\":\"\"},\"colorscale\":[[0.0,\"#0d0887\"],[0.1111111111111111,\"#46039f\"],[0.2222222222222222,\"#7201a8\"],[0.3333333333333333,\"#9c179e\"],[0.4444444444444444,\"#bd3786\"],[0.5555555555555556,\"#d8576b\"],[0.6666666666666666,\"#ed7953\"],[0.7777777777777778,\"#fb9f3a\"],[0.8888888888888888,\"#fdca26\"],[1.0,\"#f0f921\"]],\"type\":\"surface\"}],\"table\":[{\"cells\":{\"fill\":{\"color\":\"#EBF0F8\"},\"line\":{\"color\":\"white\"}},\"header\":{\"fill\":{\"color\":\"#C8D4E3\"},\"line\":{\"color\":\"white\"}},\"type\":\"table\"}]},\"layout\":{\"annotationdefaults\":{\"arrowcolor\":\"#2a3f5f\",\"arrowhead\":0,\"arrowwidth\":1},\"autotypenumbers\":\"strict\",\"coloraxis\":{\"colorbar\":{\"outlinewidth\":0,\"ticks\":\"\"}},\"colorscale\":{\"diverging\":[[0,\"#8e0152\"],[0.1,\"#c51b7d\"],[0.2,\"#de77ae\"],[0.3,\"#f1b6da\"],[0.4,\"#fde0ef\"],[0.5,\"#f7f7f7\"],[0.6,\"#e6f5d0\"],[0.7,\"#b8e186\"],[0.8,\"#7fbc41\"],[0.9,\"#4d9221\"],[1,\"#276419\"]],\"sequential\":[[0.0,\"#0d0887\"],[0.1111111111111111,\"#46039f\"],[0.2222222222222222,\"#7201a8\"],[0.3333333333333333,\"#9c179e\"],[0.4444444444444444,\"#bd3786\"],[0.5555555555555556,\"#d8576b\"],[0.6666666666666666,\"#ed7953\"],[0.7777777777777778,\"#fb9f3a\"],[0.8888888888888888,\"#fdca26\"],[1.0,\"#f0f921\"]],\"sequentialminus\":[[0.0,\"#0d0887\"],[0.1111111111111111,\"#46039f\"],[0.2222222222222222,\"#7201a8\"],[0.3333333333333333,\"#9c179e\"],[0.4444444444444444,\"#bd3786\"],[0.5555555555555556,\"#d8576b\"],[0.6666666666666666,\"#ed7953\"],[0.7777777777777778,\"#fb9f3a\"],[0.8888888888888888,\"#fdca26\"],[1.0,\"#f0f921\"]]},\"colorway\":[\"#636efa\",\"#EF553B\",\"#00cc96\",\"#ab63fa\",\"#FFA15A\",\"#19d3f3\",\"#FF6692\",\"#B6E880\",\"#FF97FF\",\"#FECB52\"],\"font\":{\"color\":\"#2a3f5f\"},\"geo\":{\"bgcolor\":\"white\",\"lakecolor\":\"white\",\"landcolor\":\"#E5ECF6\",\"showlakes\":true,\"showland\":true,\"subunitcolor\":\"white\"},\"hoverlabel\":{\"align\":\"left\"},\"hovermode\":\"closest\",\"mapbox\":{\"style\":\"light\"},\"paper_bgcolor\":\"white\",\"plot_bgcolor\":\"#E5ECF6\",\"polar\":{\"angularaxis\":{\"gridcolor\":\"white\",\"linecolor\":\"white\",\"ticks\":\"\"},\"bgcolor\":\"#E5ECF6\",\"radialaxis\":{\"gridcolor\":\"white\",\"linecolor\":\"white\",\"ticks\":\"\"}},\"scene\":{\"xaxis\":{\"backgroundcolor\":\"#E5ECF6\",\"gridcolor\":\"white\",\"gridwidth\":2,\"linecolor\":\"white\",\"showbackground\":true,\"ticks\":\"\",\"zerolinecolor\":\"white\"},\"yaxis\":{\"backgroundcolor\":\"#E5ECF6\",\"gridcolor\":\"white\",\"gridwidth\":2,\"linecolor\":\"white\",\"showbackground\":true,\"ticks\":\"\",\"zerolinecolor\":\"white\"},\"zaxis\":{\"backgroundcolor\":\"#E5ECF6\",\"gridcolor\":\"white\",\"gridwidth\":2,\"linecolor\":\"white\",\"showbackground\":true,\"ticks\":\"\",\"zerolinecolor\":\"white\"}},\"shapedefaults\":{\"line\":{\"color\":\"#2a3f5f\"}},\"ternary\":{\"aaxis\":{\"gridcolor\":\"white\",\"linecolor\":\"white\",\"ticks\":\"\"},\"baxis\":{\"gridcolor\":\"white\",\"linecolor\":\"white\",\"ticks\":\"\"},\"bgcolor\":\"#E5ECF6\",\"caxis\":{\"gridcolor\":\"white\",\"linecolor\":\"white\",\"ticks\":\"\"}},\"title\":{\"x\":0.05},\"xaxis\":{\"automargin\":true,\"gridcolor\":\"white\",\"linecolor\":\"white\",\"ticks\":\"\",\"title\":{\"standoff\":15},\"zerolinecolor\":\"white\",\"zerolinewidth\":2},\"yaxis\":{\"automargin\":true,\"gridcolor\":\"white\",\"linecolor\":\"white\",\"ticks\":\"\",\"title\":{\"standoff\":15},\"zerolinecolor\":\"white\",\"zerolinewidth\":2}}},\"title\":{\"font\":{\"family\":\"Arial Black\",\"size\":24},\"text\":\"Employee Attrition Prediction\"},\"updatemenus\":[{\"active\":0,\"buttons\":[{\"args\":[{\"x\":\"JobInvolvement\",\"y\":\"Attrition\"}],\"label\":\"Job Involvement\",\"method\":\"update\"},{\"args\":[{\"x\":\"PerformanceRating\",\"y\":\"Attrition\"}],\"label\":\"Performance Rating\",\"method\":\"update\"},{\"args\":[{\"x\":\"JobSatisfaction\",\"y\":\"Attrition\"}],\"label\":\"Job Satisfaction\",\"method\":\"update\"}]}],\"xaxis\":{\"anchor\":\"y\",\"domain\":[0.0,1.0],\"title\":{\"font\":{\"family\":\"Calibri\",\"size\":18},\"text\":\"Job Satisfaction\"}},\"yaxis\":{\"anchor\":\"x\",\"domain\":[0.0,1.0],\"title\":{\"font\":{\"family\":\"Calibri\",\"size\":18},\"text\":\"Attrition\"}}},                        {\"responsive\": true}                    ).then(function(){\n",
       "                            \n",
       "var gd = document.getElementById('dd08432d-166a-4eda-ba12-d724c124163e');\n",
       "var x = new MutationObserver(function (mutations, observer) {{\n",
       "        var display = window.getComputedStyle(gd).display;\n",
       "        if (!display || display === 'none') {{\n",
       "            console.log([gd, 'removed!']);\n",
       "            Plotly.purge(gd);\n",
       "            observer.disconnect();\n",
       "        }}\n",
       "}});\n",
       "\n",
       "// Listen for the removal of the full notebook cells\n",
       "var notebookContainer = gd.closest('#notebook-container');\n",
       "if (notebookContainer) {{\n",
       "    x.observe(notebookContainer, {childList: true});\n",
       "}}\n",
       "\n",
       "// Listen for the clearing of the current output cell\n",
       "var outputEl = gd.closest('.output');\n",
       "if (outputEl) {{\n",
       "    x.observe(outputEl, {childList: true});\n",
       "}}\n",
       "\n",
       "                        })                };                });            </script>        </div>"
      ]
     },
     "metadata": {},
     "output_type": "display_data"
    }
   ],
   "source": [
    "fig = px.scatter(df, x='JobSatisfaction', y='Attrition', trendline='ols')\n",
    "\n",
    "fig.update_layout(\n",
    "    updatemenus=[\n",
    "        dict(\n",
    "            active=0,\n",
    "            buttons=list([\n",
    "                dict(label='Job Involvement',\n",
    "                    method='update',\n",
    "                    args=[{'x': 'JobInvolvement', 'y': 'Attrition'}]),\n",
    "                dict(label='Performance Rating',\n",
    "                    method='update',\n",
    "                    args=[{'x': 'PerformanceRating', 'y': 'Attrition'}]),\n",
    "                dict(label='Job Satisfaction',\n",
    "                    method='update',\n",
    "                    args=[{'x': 'JobSatisfaction', 'y': 'Attrition'}])\n",
    "            ])\n",
    "        )\n",
    "    ]\n",
    ")\n",
    "fig.update_layout(\n",
    "    title={\n",
    "        'text': 'Employee Attrition Prediction',\n",
    "        'font_size': 24,\n",
    "        'font_family': 'Arial Black',\n",
    "    },\n",
    "    xaxis_title={\n",
    "        'text': 'Job Satisfaction',\n",
    "        'font_size': 18,\n",
    "        'font_family': 'Calibri',\n",
    "    },\n",
    "    yaxis_title={\n",
    "        'text': 'Attrition',\n",
    "        'font_size': 18,\n",
    "        'font_family': 'Calibri',\n",
    "    },\n",
    "    plot_bgcolor='#F7F7F7',\n",
    "    paper_bgcolor='#F7F7F7'\n",
    ")\n",
    "\n",
    "iplot(fig)"
   ]
  },
  {
   "cell_type": "markdown",
   "id": "8b50294d",
   "metadata": {
    "papermill": {
     "duration": 0.014133,
     "end_time": "2024-04-28T09:12:01.080329",
     "exception": false,
     "start_time": "2024-04-28T09:12:01.066196",
     "status": "completed"
    },
    "tags": []
   },
   "source": [
    "<div style=\"\n",
    "  background-color: #0D0D0D;\n",
    "  color: #FFFFFF;\n",
    "  font-family: 'Roboto', sans-serif;\n",
    "  font-size: 22px;\n",
    "  padding: 10px;\n",
    "  margin: 0px 0 0 0px;\n",
    "  border-radius: 15px;\n",
    "  border: none;\n",
    "  box-shadow: 0 0 20px rgba(255, 255, 255, 0.2);\n",
    "  width: 670px;\n",
    "  text-align: left;\n",
    "\">\n",
    "  <h2 style=\"margin: 0;\">Optimal Employee Retention Strategy</h2>\n",
    "</div>\n"
   ]
  },
  {
   "cell_type": "code",
   "execution_count": 12,
   "id": "a9bb04e7",
   "metadata": {
    "execution": {
     "iopub.execute_input": "2024-04-28T09:12:01.111851Z",
     "iopub.status.busy": "2024-04-28T09:12:01.111067Z",
     "iopub.status.idle": "2024-04-28T09:12:01.186595Z",
     "shell.execute_reply": "2024-04-28T09:12:01.185632Z"
    },
    "papermill": {
     "duration": 0.094338,
     "end_time": "2024-04-28T09:12:01.189247",
     "exception": false,
     "start_time": "2024-04-28T09:12:01.094909",
     "status": "completed"
    },
    "tags": []
   },
   "outputs": [
    {
     "data": {
      "text/html": [
       "<div>                            <div id=\"9c2ec498-09aa-454e-b59d-5bf8429a9e60\" class=\"plotly-graph-div\" style=\"height:525px; width:100%;\"></div>            <script type=\"text/javascript\">                require([\"plotly\"], function(Plotly) {                    window.PLOTLYENV=window.PLOTLYENV || {};                                    if (document.getElementById(\"9c2ec498-09aa-454e-b59d-5bf8429a9e60\")) {                    Plotly.newPlot(                        \"9c2ec498-09aa-454e-b59d-5bf8429a9e60\",                        [{\"colorscale\":[[0.0,\"#440154\"],[0.1111111111111111,\"#482878\"],[0.2222222222222222,\"#3e4989\"],[0.3333333333333333,\"#31688e\"],[0.4444444444444444,\"#26828e\"],[0.5555555555555556,\"#1f9e89\"],[0.6666666666666666,\"#35b779\"],[0.7777777777777778,\"#6ece58\"],[0.8888888888888888,\"#b5de2b\"],[1.0,\"#fde725\"]],\"hovertemplate\":\"\\u003cb\\u003eJob Role: %{y}\\u003c\\u002fb\\u003e\\u003cbr\\u003e\\u003cb\\u003eDepartment: %{x}\\u003c\\u002fb\\u003e\\u003cbr\\u003e\\u003cb\\u003eAverage Years at Company: %{z:.2f}\\u003c\\u002fb\\u003e\",\"x\":[\"Human Resources\",\"Research & Development\",\"Sales\"],\"y\":[\"Healthcare Representative\",\"Human Resources\",\"Laboratory Technician\",\"Manager\",\"Manufacturing Director\",\"Research Director\",\"Research Scientist\",\"Sales Executive\",\"Sales Representative\"],\"z\":[[null,8.374045801526718,null],[5.326923076923077,null,null],[null,5.019305019305019,null],[16.272727272727273,13.518518518518519,15.216216216216216],[null,7.6,null],[null,10.9375,null],[null,5.113013698630137,null],[null,null,7.4969325153374236],[null,null,2.9156626506024095]],\"zmax\":null,\"zmin\":0,\"type\":\"heatmap\"}],                        {\"template\":{\"data\":{\"histogram2dcontour\":[{\"type\":\"histogram2dcontour\",\"colorbar\":{\"outlinewidth\":0,\"ticks\":\"\"},\"colorscale\":[[0.0,\"#0d0887\"],[0.1111111111111111,\"#46039f\"],[0.2222222222222222,\"#7201a8\"],[0.3333333333333333,\"#9c179e\"],[0.4444444444444444,\"#bd3786\"],[0.5555555555555556,\"#d8576b\"],[0.6666666666666666,\"#ed7953\"],[0.7777777777777778,\"#fb9f3a\"],[0.8888888888888888,\"#fdca26\"],[1.0,\"#f0f921\"]]}],\"choropleth\":[{\"type\":\"choropleth\",\"colorbar\":{\"outlinewidth\":0,\"ticks\":\"\"}}],\"histogram2d\":[{\"type\":\"histogram2d\",\"colorbar\":{\"outlinewidth\":0,\"ticks\":\"\"},\"colorscale\":[[0.0,\"#0d0887\"],[0.1111111111111111,\"#46039f\"],[0.2222222222222222,\"#7201a8\"],[0.3333333333333333,\"#9c179e\"],[0.4444444444444444,\"#bd3786\"],[0.5555555555555556,\"#d8576b\"],[0.6666666666666666,\"#ed7953\"],[0.7777777777777778,\"#fb9f3a\"],[0.8888888888888888,\"#fdca26\"],[1.0,\"#f0f921\"]]}],\"heatmap\":[{\"type\":\"heatmap\",\"colorbar\":{\"outlinewidth\":0,\"ticks\":\"\"},\"colorscale\":[[0.0,\"#0d0887\"],[0.1111111111111111,\"#46039f\"],[0.2222222222222222,\"#7201a8\"],[0.3333333333333333,\"#9c179e\"],[0.4444444444444444,\"#bd3786\"],[0.5555555555555556,\"#d8576b\"],[0.6666666666666666,\"#ed7953\"],[0.7777777777777778,\"#fb9f3a\"],[0.8888888888888888,\"#fdca26\"],[1.0,\"#f0f921\"]]}],\"heatmapgl\":[{\"type\":\"heatmapgl\",\"colorbar\":{\"outlinewidth\":0,\"ticks\":\"\"},\"colorscale\":[[0.0,\"#0d0887\"],[0.1111111111111111,\"#46039f\"],[0.2222222222222222,\"#7201a8\"],[0.3333333333333333,\"#9c179e\"],[0.4444444444444444,\"#bd3786\"],[0.5555555555555556,\"#d8576b\"],[0.6666666666666666,\"#ed7953\"],[0.7777777777777778,\"#fb9f3a\"],[0.8888888888888888,\"#fdca26\"],[1.0,\"#f0f921\"]]}],\"contourcarpet\":[{\"type\":\"contourcarpet\",\"colorbar\":{\"outlinewidth\":0,\"ticks\":\"\"}}],\"contour\":[{\"type\":\"contour\",\"colorbar\":{\"outlinewidth\":0,\"ticks\":\"\"},\"colorscale\":[[0.0,\"#0d0887\"],[0.1111111111111111,\"#46039f\"],[0.2222222222222222,\"#7201a8\"],[0.3333333333333333,\"#9c179e\"],[0.4444444444444444,\"#bd3786\"],[0.5555555555555556,\"#d8576b\"],[0.6666666666666666,\"#ed7953\"],[0.7777777777777778,\"#fb9f3a\"],[0.8888888888888888,\"#fdca26\"],[1.0,\"#f0f921\"]]}],\"surface\":[{\"type\":\"surface\",\"colorbar\":{\"outlinewidth\":0,\"ticks\":\"\"},\"colorscale\":[[0.0,\"#0d0887\"],[0.1111111111111111,\"#46039f\"],[0.2222222222222222,\"#7201a8\"],[0.3333333333333333,\"#9c179e\"],[0.4444444444444444,\"#bd3786\"],[0.5555555555555556,\"#d8576b\"],[0.6666666666666666,\"#ed7953\"],[0.7777777777777778,\"#fb9f3a\"],[0.8888888888888888,\"#fdca26\"],[1.0,\"#f0f921\"]]}],\"mesh3d\":[{\"type\":\"mesh3d\",\"colorbar\":{\"outlinewidth\":0,\"ticks\":\"\"}}],\"scatter\":[{\"fillpattern\":{\"fillmode\":\"overlay\",\"size\":10,\"solidity\":0.2},\"type\":\"scatter\"}],\"parcoords\":[{\"type\":\"parcoords\",\"line\":{\"colorbar\":{\"outlinewidth\":0,\"ticks\":\"\"}}}],\"scatterpolargl\":[{\"type\":\"scatterpolargl\",\"marker\":{\"colorbar\":{\"outlinewidth\":0,\"ticks\":\"\"}}}],\"bar\":[{\"error_x\":{\"color\":\"#2a3f5f\"},\"error_y\":{\"color\":\"#2a3f5f\"},\"marker\":{\"line\":{\"color\":\"#E5ECF6\",\"width\":0.5},\"pattern\":{\"fillmode\":\"overlay\",\"size\":10,\"solidity\":0.2}},\"type\":\"bar\"}],\"scattergeo\":[{\"type\":\"scattergeo\",\"marker\":{\"colorbar\":{\"outlinewidth\":0,\"ticks\":\"\"}}}],\"scatterpolar\":[{\"type\":\"scatterpolar\",\"marker\":{\"colorbar\":{\"outlinewidth\":0,\"ticks\":\"\"}}}],\"histogram\":[{\"marker\":{\"pattern\":{\"fillmode\":\"overlay\",\"size\":10,\"solidity\":0.2}},\"type\":\"histogram\"}],\"scattergl\":[{\"type\":\"scattergl\",\"marker\":{\"colorbar\":{\"outlinewidth\":0,\"ticks\":\"\"}}}],\"scatter3d\":[{\"type\":\"scatter3d\",\"line\":{\"colorbar\":{\"outlinewidth\":0,\"ticks\":\"\"}},\"marker\":{\"colorbar\":{\"outlinewidth\":0,\"ticks\":\"\"}}}],\"scattermapbox\":[{\"type\":\"scattermapbox\",\"marker\":{\"colorbar\":{\"outlinewidth\":0,\"ticks\":\"\"}}}],\"scatterternary\":[{\"type\":\"scatterternary\",\"marker\":{\"colorbar\":{\"outlinewidth\":0,\"ticks\":\"\"}}}],\"scattercarpet\":[{\"type\":\"scattercarpet\",\"marker\":{\"colorbar\":{\"outlinewidth\":0,\"ticks\":\"\"}}}],\"carpet\":[{\"aaxis\":{\"endlinecolor\":\"#2a3f5f\",\"gridcolor\":\"white\",\"linecolor\":\"white\",\"minorgridcolor\":\"white\",\"startlinecolor\":\"#2a3f5f\"},\"baxis\":{\"endlinecolor\":\"#2a3f5f\",\"gridcolor\":\"white\",\"linecolor\":\"white\",\"minorgridcolor\":\"white\",\"startlinecolor\":\"#2a3f5f\"},\"type\":\"carpet\"}],\"table\":[{\"cells\":{\"fill\":{\"color\":\"#EBF0F8\"},\"line\":{\"color\":\"white\"}},\"header\":{\"fill\":{\"color\":\"#C8D4E3\"},\"line\":{\"color\":\"white\"}},\"type\":\"table\"}],\"barpolar\":[{\"marker\":{\"line\":{\"color\":\"#E5ECF6\",\"width\":0.5},\"pattern\":{\"fillmode\":\"overlay\",\"size\":10,\"solidity\":0.2}},\"type\":\"barpolar\"}],\"pie\":[{\"automargin\":true,\"type\":\"pie\"}]},\"layout\":{\"autotypenumbers\":\"strict\",\"colorway\":[\"#636efa\",\"#EF553B\",\"#00cc96\",\"#ab63fa\",\"#FFA15A\",\"#19d3f3\",\"#FF6692\",\"#B6E880\",\"#FF97FF\",\"#FECB52\"],\"font\":{\"color\":\"#2a3f5f\"},\"hovermode\":\"closest\",\"hoverlabel\":{\"align\":\"left\"},\"paper_bgcolor\":\"white\",\"plot_bgcolor\":\"#E5ECF6\",\"polar\":{\"bgcolor\":\"#E5ECF6\",\"angularaxis\":{\"gridcolor\":\"white\",\"linecolor\":\"white\",\"ticks\":\"\"},\"radialaxis\":{\"gridcolor\":\"white\",\"linecolor\":\"white\",\"ticks\":\"\"}},\"ternary\":{\"bgcolor\":\"#E5ECF6\",\"aaxis\":{\"gridcolor\":\"white\",\"linecolor\":\"white\",\"ticks\":\"\"},\"baxis\":{\"gridcolor\":\"white\",\"linecolor\":\"white\",\"ticks\":\"\"},\"caxis\":{\"gridcolor\":\"white\",\"linecolor\":\"white\",\"ticks\":\"\"}},\"coloraxis\":{\"colorbar\":{\"outlinewidth\":0,\"ticks\":\"\"}},\"colorscale\":{\"sequential\":[[0.0,\"#0d0887\"],[0.1111111111111111,\"#46039f\"],[0.2222222222222222,\"#7201a8\"],[0.3333333333333333,\"#9c179e\"],[0.4444444444444444,\"#bd3786\"],[0.5555555555555556,\"#d8576b\"],[0.6666666666666666,\"#ed7953\"],[0.7777777777777778,\"#fb9f3a\"],[0.8888888888888888,\"#fdca26\"],[1.0,\"#f0f921\"]],\"sequentialminus\":[[0.0,\"#0d0887\"],[0.1111111111111111,\"#46039f\"],[0.2222222222222222,\"#7201a8\"],[0.3333333333333333,\"#9c179e\"],[0.4444444444444444,\"#bd3786\"],[0.5555555555555556,\"#d8576b\"],[0.6666666666666666,\"#ed7953\"],[0.7777777777777778,\"#fb9f3a\"],[0.8888888888888888,\"#fdca26\"],[1.0,\"#f0f921\"]],\"diverging\":[[0,\"#8e0152\"],[0.1,\"#c51b7d\"],[0.2,\"#de77ae\"],[0.3,\"#f1b6da\"],[0.4,\"#fde0ef\"],[0.5,\"#f7f7f7\"],[0.6,\"#e6f5d0\"],[0.7,\"#b8e186\"],[0.8,\"#7fbc41\"],[0.9,\"#4d9221\"],[1,\"#276419\"]]},\"xaxis\":{\"gridcolor\":\"white\",\"linecolor\":\"white\",\"ticks\":\"\",\"title\":{\"standoff\":15},\"zerolinecolor\":\"white\",\"automargin\":true,\"zerolinewidth\":2},\"yaxis\":{\"gridcolor\":\"white\",\"linecolor\":\"white\",\"ticks\":\"\",\"title\":{\"standoff\":15},\"zerolinecolor\":\"white\",\"automargin\":true,\"zerolinewidth\":2},\"scene\":{\"xaxis\":{\"backgroundcolor\":\"#E5ECF6\",\"gridcolor\":\"white\",\"linecolor\":\"white\",\"showbackground\":true,\"ticks\":\"\",\"zerolinecolor\":\"white\",\"gridwidth\":2},\"yaxis\":{\"backgroundcolor\":\"#E5ECF6\",\"gridcolor\":\"white\",\"linecolor\":\"white\",\"showbackground\":true,\"ticks\":\"\",\"zerolinecolor\":\"white\",\"gridwidth\":2},\"zaxis\":{\"backgroundcolor\":\"#E5ECF6\",\"gridcolor\":\"white\",\"linecolor\":\"white\",\"showbackground\":true,\"ticks\":\"\",\"zerolinecolor\":\"white\",\"gridwidth\":2}},\"shapedefaults\":{\"line\":{\"color\":\"#2a3f5f\"}},\"annotationdefaults\":{\"arrowcolor\":\"#2a3f5f\",\"arrowhead\":0,\"arrowwidth\":1},\"geo\":{\"bgcolor\":\"white\",\"landcolor\":\"#E5ECF6\",\"subunitcolor\":\"white\",\"showland\":true,\"showlakes\":true,\"lakecolor\":\"white\"},\"title\":{\"x\":0.05},\"mapbox\":{\"style\":\"light\"}}},\"title\":{\"font\":{\"size\":24,\"family\":\"Playfair Display\"},\"text\":\"Optimal Employee Retention Strategy\"},\"xaxis\":{\"title\":{\"font\":{\"size\":18,\"family\":\"Merriweather\"},\"text\":\"Department\"},\"tickfont\":{\"size\":12}},\"yaxis\":{\"title\":{\"font\":{\"size\":18,\"family\":\"Merriweather\"},\"text\":\"Job Role\"},\"tickfont\":{\"size\":12}},\"font\":{\"family\":\"Open Sans\",\"color\":\"#333333\",\"size\":14},\"plot_bgcolor\":\"#F2F2F2\",\"paper_bgcolor\":\"#F2F2F2\"},                        {\"responsive\": true}                    ).then(function(){\n",
       "                            \n",
       "var gd = document.getElementById('9c2ec498-09aa-454e-b59d-5bf8429a9e60');\n",
       "var x = new MutationObserver(function (mutations, observer) {{\n",
       "        var display = window.getComputedStyle(gd).display;\n",
       "        if (!display || display === 'none') {{\n",
       "            console.log([gd, 'removed!']);\n",
       "            Plotly.purge(gd);\n",
       "            observer.disconnect();\n",
       "        }}\n",
       "}});\n",
       "\n",
       "// Listen for the removal of the full notebook cells\n",
       "var notebookContainer = gd.closest('#notebook-container');\n",
       "if (notebookContainer) {{\n",
       "    x.observe(notebookContainer, {childList: true});\n",
       "}}\n",
       "\n",
       "// Listen for the clearing of the current output cell\n",
       "var outputEl = gd.closest('.output');\n",
       "if (outputEl) {{\n",
       "    x.observe(outputEl, {childList: true});\n",
       "}}\n",
       "\n",
       "                        })                };                });            </script>        </div>"
      ]
     },
     "metadata": {},
     "output_type": "display_data"
    }
   ],
   "source": [
    "pivot_df = df.pivot_table(index='JobRole', columns='Department', values='YearsAtCompany', aggfunc='mean')\n",
    "\n",
    "fig = go.Figure(data=go.Heatmap(\n",
    "    z=pivot_df.values.tolist(),\n",
    "    x=pivot_df.columns.tolist(),\n",
    "    y=pivot_df.index.tolist(),\n",
    "    colorscale='Viridis',\n",
    "    zmin=0,\n",
    "    zmax=pivot_df.values.max(),\n",
    "    hovertemplate=\"<b>Job Role: %{y}</b><br><b>Department: %{x}</b><br><b>Average Years at Company: %{z:.2f}</b>\"\n",
    "))\n",
    "\n",
    "fig.update_layout(\n",
    "    title={\n",
    "        'text': 'Optimal Employee Retention Strategy',\n",
    "        'font_size': 24,\n",
    "        'font_family': 'Playfair Display',\n",
    "    },\n",
    "    xaxis_title={\n",
    "        'text': 'Department',\n",
    "        'font_size': 18,\n",
    "        'font_family': 'Merriweather',\n",
    "    },\n",
    "    yaxis_title={\n",
    "        'text': 'Job Role',\n",
    "        'font_size': 18,\n",
    "        'font_family': 'Merriweather',\n",
    "    },\n",
    "    plot_bgcolor='#F2F2F2',\n",
    "    paper_bgcolor='#F2F2F2',\n",
    "    font_family='Open Sans',\n",
    "    font_color='#333333',\n",
    "    font_size=14,\n",
    "    xaxis=dict(\n",
    "        tickfont=dict(size=12)\n",
    "    ),\n",
    "    yaxis=dict(\n",
    "        tickfont=dict(size=12)\n",
    "    )\n",
    ")\n",
    "\n",
    "fig.show()"
   ]
  },
  {
   "cell_type": "markdown",
   "id": "cdc9a3d8",
   "metadata": {
    "papermill": {
     "duration": 0.014212,
     "end_time": "2024-04-28T09:12:01.217888",
     "exception": false,
     "start_time": "2024-04-28T09:12:01.203676",
     "status": "completed"
    },
    "tags": []
   },
   "source": [
    "<div style=\"\n",
    "  background-color: #0D0D0D;\n",
    "  color: #FFFFFF;\n",
    "  font-family: 'Roboto', sans-serif;\n",
    "  font-size: 21px;\n",
    "  padding: 10px;\n",
    "  margin: 0px 0 0 0px;\n",
    "  border-radius: 15px;\n",
    "  border: none;\n",
    "  box-shadow: 0 0 20px rgba(255, 255, 255, 0.2);\n",
    "  width: 859px;\n",
    "  text-align: left;\n",
    "\">\n",
    "  <h2 style=\"margin: 0;\">Employee Productivity by Department and Job Role</h2>\n",
    "</div>\n"
   ]
  },
  {
   "cell_type": "code",
   "execution_count": 13,
   "id": "7163a730",
   "metadata": {
    "execution": {
     "iopub.execute_input": "2024-04-28T09:12:01.249256Z",
     "iopub.status.busy": "2024-04-28T09:12:01.248320Z",
     "iopub.status.idle": "2024-04-28T09:12:01.483356Z",
     "shell.execute_reply": "2024-04-28T09:12:01.481905Z"
    },
    "papermill": {
     "duration": 0.253866,
     "end_time": "2024-04-28T09:12:01.486197",
     "exception": false,
     "start_time": "2024-04-28T09:12:01.232331",
     "status": "completed"
    },
    "tags": []
   },
   "outputs": [
    {
     "data": {
      "text/html": [
       "<div>                            <div id=\"db2d76d5-2356-4def-8c0e-a41bed517b0e\" class=\"plotly-graph-div\" style=\"height:525px; width:100%;\"></div>            <script type=\"text/javascript\">                require([\"plotly\"], function(Plotly) {                    window.PLOTLYENV=window.PLOTLYENV || {};                                    if (document.getElementById(\"db2d76d5-2356-4def-8c0e-a41bed517b0e\")) {                    Plotly.newPlot(                        \"db2d76d5-2356-4def-8c0e-a41bed517b0e\",                        [{\"branchvalues\":\"total\",\"customdata\":[[358.0,2.7960893854748603,2.7960893854748603],[141.0,2.5390070921985815,2.5390070921985815],[698.0,2.677650429799427,2.677650429799427],[32.0,2.75,2.75],[151.0,2.6490066225165565,2.6490066225165565],[100.0,2.71,2.71],[389.0,2.652956298200514,2.652956298200514],[222.0,2.6621621621621623,2.6621621621621623],[817.0,2.7870257037943698,2.7870257037943698],[885.0,2.7480225988700564,2.7480225988700564],[220.0,2.7545454545454544,2.7545454545454544],[173.0,2.578034682080925,2.578034682080925],[2635.0,2.7210626185958255,2.7210626185958255],[1205.0,2.746058091286307,2.746058091286307]],\"domain\":{\"x\":[0.0,1.0],\"y\":[0.0,1.0]},\"hovertemplate\":\"\\u003cb\\u003eDepartment\\u003c\\u002fb\\u003e: %{label}\\u003cbr\\u003e\\u003cb\\u003eJob Role\\u003c\\u002fb\\u003e: %{hovertext}\\u003cbr\\u003e\\u003cb\\u003eJob Involvement\\u003c\\u002fb\\u003e: %{customdata[0]}\",\"hovertext\":[\"Healthcare Representative\",\"Human Resources\",\"Laboratory Technician\",\"Manager\",\"Manager\",\"Manager\",\"Manufacturing Director\",\"Research Director\",\"Research Scientist\",\"Sales Executive\",\"Sales Representative\",\"(?)\",\"(?)\",\"(?)\"],\"ids\":[\"Research & Development\\u002fHealthcare Representative\",\"Human Resources\\u002fHuman Resources\",\"Research & Development\\u002fLaboratory Technician\",\"Human Resources\\u002fManager\",\"Research & Development\\u002fManager\",\"Sales\\u002fManager\",\"Research & Development\\u002fManufacturing Director\",\"Research & Development\\u002fResearch Director\",\"Research & Development\\u002fResearch Scientist\",\"Sales\\u002fSales Executive\",\"Sales\\u002fSales Representative\",\"Human Resources\",\"Research & Development\",\"Sales\"],\"labels\":[\"Healthcare Representative\",\"Human Resources\",\"Laboratory Technician\",\"Manager\",\"Manager\",\"Manager\",\"Manufacturing Director\",\"Research Director\",\"Research Scientist\",\"Sales Executive\",\"Sales Representative\",\"Human Resources\",\"Research & Development\",\"Sales\"],\"marker\":{\"coloraxis\":\"coloraxis\",\"colors\":[2.7960893854748603,2.5390070921985815,2.677650429799427,2.75,2.6490066225165565,2.71,2.652956298200514,2.6621621621621623,2.7870257037943698,2.7480225988700564,2.7545454545454544,2.578034682080925,2.7210626185958255,2.746058091286307]},\"name\":\"\",\"parents\":[\"Research & Development\",\"Human Resources\",\"Research & Development\",\"Human Resources\",\"Research & Development\",\"Sales\",\"Research & Development\",\"Research & Development\",\"Research & Development\",\"Sales\",\"Sales\",\"\",\"\",\"\"],\"values\":[358,141,698,32,151,100,389,222,817,885,220,173,2635,1205],\"type\":\"treemap\"}],                        {\"template\":{\"data\":{\"histogram2dcontour\":[{\"type\":\"histogram2dcontour\",\"colorbar\":{\"outlinewidth\":0,\"ticks\":\"\"},\"colorscale\":[[0.0,\"#0d0887\"],[0.1111111111111111,\"#46039f\"],[0.2222222222222222,\"#7201a8\"],[0.3333333333333333,\"#9c179e\"],[0.4444444444444444,\"#bd3786\"],[0.5555555555555556,\"#d8576b\"],[0.6666666666666666,\"#ed7953\"],[0.7777777777777778,\"#fb9f3a\"],[0.8888888888888888,\"#fdca26\"],[1.0,\"#f0f921\"]]}],\"choropleth\":[{\"type\":\"choropleth\",\"colorbar\":{\"outlinewidth\":0,\"ticks\":\"\"}}],\"histogram2d\":[{\"type\":\"histogram2d\",\"colorbar\":{\"outlinewidth\":0,\"ticks\":\"\"},\"colorscale\":[[0.0,\"#0d0887\"],[0.1111111111111111,\"#46039f\"],[0.2222222222222222,\"#7201a8\"],[0.3333333333333333,\"#9c179e\"],[0.4444444444444444,\"#bd3786\"],[0.5555555555555556,\"#d8576b\"],[0.6666666666666666,\"#ed7953\"],[0.7777777777777778,\"#fb9f3a\"],[0.8888888888888888,\"#fdca26\"],[1.0,\"#f0f921\"]]}],\"heatmap\":[{\"type\":\"heatmap\",\"colorbar\":{\"outlinewidth\":0,\"ticks\":\"\"},\"colorscale\":[[0.0,\"#0d0887\"],[0.1111111111111111,\"#46039f\"],[0.2222222222222222,\"#7201a8\"],[0.3333333333333333,\"#9c179e\"],[0.4444444444444444,\"#bd3786\"],[0.5555555555555556,\"#d8576b\"],[0.6666666666666666,\"#ed7953\"],[0.7777777777777778,\"#fb9f3a\"],[0.8888888888888888,\"#fdca26\"],[1.0,\"#f0f921\"]]}],\"heatmapgl\":[{\"type\":\"heatmapgl\",\"colorbar\":{\"outlinewidth\":0,\"ticks\":\"\"},\"colorscale\":[[0.0,\"#0d0887\"],[0.1111111111111111,\"#46039f\"],[0.2222222222222222,\"#7201a8\"],[0.3333333333333333,\"#9c179e\"],[0.4444444444444444,\"#bd3786\"],[0.5555555555555556,\"#d8576b\"],[0.6666666666666666,\"#ed7953\"],[0.7777777777777778,\"#fb9f3a\"],[0.8888888888888888,\"#fdca26\"],[1.0,\"#f0f921\"]]}],\"contourcarpet\":[{\"type\":\"contourcarpet\",\"colorbar\":{\"outlinewidth\":0,\"ticks\":\"\"}}],\"contour\":[{\"type\":\"contour\",\"colorbar\":{\"outlinewidth\":0,\"ticks\":\"\"},\"colorscale\":[[0.0,\"#0d0887\"],[0.1111111111111111,\"#46039f\"],[0.2222222222222222,\"#7201a8\"],[0.3333333333333333,\"#9c179e\"],[0.4444444444444444,\"#bd3786\"],[0.5555555555555556,\"#d8576b\"],[0.6666666666666666,\"#ed7953\"],[0.7777777777777778,\"#fb9f3a\"],[0.8888888888888888,\"#fdca26\"],[1.0,\"#f0f921\"]]}],\"surface\":[{\"type\":\"surface\",\"colorbar\":{\"outlinewidth\":0,\"ticks\":\"\"},\"colorscale\":[[0.0,\"#0d0887\"],[0.1111111111111111,\"#46039f\"],[0.2222222222222222,\"#7201a8\"],[0.3333333333333333,\"#9c179e\"],[0.4444444444444444,\"#bd3786\"],[0.5555555555555556,\"#d8576b\"],[0.6666666666666666,\"#ed7953\"],[0.7777777777777778,\"#fb9f3a\"],[0.8888888888888888,\"#fdca26\"],[1.0,\"#f0f921\"]]}],\"mesh3d\":[{\"type\":\"mesh3d\",\"colorbar\":{\"outlinewidth\":0,\"ticks\":\"\"}}],\"scatter\":[{\"fillpattern\":{\"fillmode\":\"overlay\",\"size\":10,\"solidity\":0.2},\"type\":\"scatter\"}],\"parcoords\":[{\"type\":\"parcoords\",\"line\":{\"colorbar\":{\"outlinewidth\":0,\"ticks\":\"\"}}}],\"scatterpolargl\":[{\"type\":\"scatterpolargl\",\"marker\":{\"colorbar\":{\"outlinewidth\":0,\"ticks\":\"\"}}}],\"bar\":[{\"error_x\":{\"color\":\"#2a3f5f\"},\"error_y\":{\"color\":\"#2a3f5f\"},\"marker\":{\"line\":{\"color\":\"#E5ECF6\",\"width\":0.5},\"pattern\":{\"fillmode\":\"overlay\",\"size\":10,\"solidity\":0.2}},\"type\":\"bar\"}],\"scattergeo\":[{\"type\":\"scattergeo\",\"marker\":{\"colorbar\":{\"outlinewidth\":0,\"ticks\":\"\"}}}],\"scatterpolar\":[{\"type\":\"scatterpolar\",\"marker\":{\"colorbar\":{\"outlinewidth\":0,\"ticks\":\"\"}}}],\"histogram\":[{\"marker\":{\"pattern\":{\"fillmode\":\"overlay\",\"size\":10,\"solidity\":0.2}},\"type\":\"histogram\"}],\"scattergl\":[{\"type\":\"scattergl\",\"marker\":{\"colorbar\":{\"outlinewidth\":0,\"ticks\":\"\"}}}],\"scatter3d\":[{\"type\":\"scatter3d\",\"line\":{\"colorbar\":{\"outlinewidth\":0,\"ticks\":\"\"}},\"marker\":{\"colorbar\":{\"outlinewidth\":0,\"ticks\":\"\"}}}],\"scattermapbox\":[{\"type\":\"scattermapbox\",\"marker\":{\"colorbar\":{\"outlinewidth\":0,\"ticks\":\"\"}}}],\"scatterternary\":[{\"type\":\"scatterternary\",\"marker\":{\"colorbar\":{\"outlinewidth\":0,\"ticks\":\"\"}}}],\"scattercarpet\":[{\"type\":\"scattercarpet\",\"marker\":{\"colorbar\":{\"outlinewidth\":0,\"ticks\":\"\"}}}],\"carpet\":[{\"aaxis\":{\"endlinecolor\":\"#2a3f5f\",\"gridcolor\":\"white\",\"linecolor\":\"white\",\"minorgridcolor\":\"white\",\"startlinecolor\":\"#2a3f5f\"},\"baxis\":{\"endlinecolor\":\"#2a3f5f\",\"gridcolor\":\"white\",\"linecolor\":\"white\",\"minorgridcolor\":\"white\",\"startlinecolor\":\"#2a3f5f\"},\"type\":\"carpet\"}],\"table\":[{\"cells\":{\"fill\":{\"color\":\"#EBF0F8\"},\"line\":{\"color\":\"white\"}},\"header\":{\"fill\":{\"color\":\"#C8D4E3\"},\"line\":{\"color\":\"white\"}},\"type\":\"table\"}],\"barpolar\":[{\"marker\":{\"line\":{\"color\":\"#E5ECF6\",\"width\":0.5},\"pattern\":{\"fillmode\":\"overlay\",\"size\":10,\"solidity\":0.2}},\"type\":\"barpolar\"}],\"pie\":[{\"automargin\":true,\"type\":\"pie\"}]},\"layout\":{\"autotypenumbers\":\"strict\",\"colorway\":[\"#636efa\",\"#EF553B\",\"#00cc96\",\"#ab63fa\",\"#FFA15A\",\"#19d3f3\",\"#FF6692\",\"#B6E880\",\"#FF97FF\",\"#FECB52\"],\"font\":{\"color\":\"#2a3f5f\"},\"hovermode\":\"closest\",\"hoverlabel\":{\"align\":\"left\"},\"paper_bgcolor\":\"white\",\"plot_bgcolor\":\"#E5ECF6\",\"polar\":{\"bgcolor\":\"#E5ECF6\",\"angularaxis\":{\"gridcolor\":\"white\",\"linecolor\":\"white\",\"ticks\":\"\"},\"radialaxis\":{\"gridcolor\":\"white\",\"linecolor\":\"white\",\"ticks\":\"\"}},\"ternary\":{\"bgcolor\":\"#E5ECF6\",\"aaxis\":{\"gridcolor\":\"white\",\"linecolor\":\"white\",\"ticks\":\"\"},\"baxis\":{\"gridcolor\":\"white\",\"linecolor\":\"white\",\"ticks\":\"\"},\"caxis\":{\"gridcolor\":\"white\",\"linecolor\":\"white\",\"ticks\":\"\"}},\"coloraxis\":{\"colorbar\":{\"outlinewidth\":0,\"ticks\":\"\"}},\"colorscale\":{\"sequential\":[[0.0,\"#0d0887\"],[0.1111111111111111,\"#46039f\"],[0.2222222222222222,\"#7201a8\"],[0.3333333333333333,\"#9c179e\"],[0.4444444444444444,\"#bd3786\"],[0.5555555555555556,\"#d8576b\"],[0.6666666666666666,\"#ed7953\"],[0.7777777777777778,\"#fb9f3a\"],[0.8888888888888888,\"#fdca26\"],[1.0,\"#f0f921\"]],\"sequentialminus\":[[0.0,\"#0d0887\"],[0.1111111111111111,\"#46039f\"],[0.2222222222222222,\"#7201a8\"],[0.3333333333333333,\"#9c179e\"],[0.4444444444444444,\"#bd3786\"],[0.5555555555555556,\"#d8576b\"],[0.6666666666666666,\"#ed7953\"],[0.7777777777777778,\"#fb9f3a\"],[0.8888888888888888,\"#fdca26\"],[1.0,\"#f0f921\"]],\"diverging\":[[0,\"#8e0152\"],[0.1,\"#c51b7d\"],[0.2,\"#de77ae\"],[0.3,\"#f1b6da\"],[0.4,\"#fde0ef\"],[0.5,\"#f7f7f7\"],[0.6,\"#e6f5d0\"],[0.7,\"#b8e186\"],[0.8,\"#7fbc41\"],[0.9,\"#4d9221\"],[1,\"#276419\"]]},\"xaxis\":{\"gridcolor\":\"white\",\"linecolor\":\"white\",\"ticks\":\"\",\"title\":{\"standoff\":15},\"zerolinecolor\":\"white\",\"automargin\":true,\"zerolinewidth\":2},\"yaxis\":{\"gridcolor\":\"white\",\"linecolor\":\"white\",\"ticks\":\"\",\"title\":{\"standoff\":15},\"zerolinecolor\":\"white\",\"automargin\":true,\"zerolinewidth\":2},\"scene\":{\"xaxis\":{\"backgroundcolor\":\"#E5ECF6\",\"gridcolor\":\"white\",\"linecolor\":\"white\",\"showbackground\":true,\"ticks\":\"\",\"zerolinecolor\":\"white\",\"gridwidth\":2},\"yaxis\":{\"backgroundcolor\":\"#E5ECF6\",\"gridcolor\":\"white\",\"linecolor\":\"white\",\"showbackground\":true,\"ticks\":\"\",\"zerolinecolor\":\"white\",\"gridwidth\":2},\"zaxis\":{\"backgroundcolor\":\"#E5ECF6\",\"gridcolor\":\"white\",\"linecolor\":\"white\",\"showbackground\":true,\"ticks\":\"\",\"zerolinecolor\":\"white\",\"gridwidth\":2}},\"shapedefaults\":{\"line\":{\"color\":\"#2a3f5f\"}},\"annotationdefaults\":{\"arrowcolor\":\"#2a3f5f\",\"arrowhead\":0,\"arrowwidth\":1},\"geo\":{\"bgcolor\":\"white\",\"landcolor\":\"#E5ECF6\",\"subunitcolor\":\"white\",\"showland\":true,\"showlakes\":true,\"lakecolor\":\"white\"},\"title\":{\"x\":0.05},\"mapbox\":{\"style\":\"light\"}}},\"coloraxis\":{\"colorbar\":{\"title\":{\"text\":\"JobSatisfaction\"}},\"colorscale\":[[0.0,\"rgb(165,0,38)\"],[0.1,\"rgb(215,48,39)\"],[0.2,\"rgb(244,109,67)\"],[0.3,\"rgb(253,174,97)\"],[0.4,\"rgb(254,224,139)\"],[0.5,\"rgb(255,255,191)\"],[0.6,\"rgb(217,239,139)\"],[0.7,\"rgb(166,217,106)\"],[0.8,\"rgb(102,189,99)\"],[0.9,\"rgb(26,152,80)\"],[1.0,\"rgb(0,104,55)\"]]},\"legend\":{\"tracegroupgap\":0},\"margin\":{\"t\":50,\"l\":20,\"r\":20,\"b\":20},\"title\":{\"font\":{\"size\":20,\"family\":\"Arial Black\"},\"text\":\"Employee Productivity by Department and Job Role\"},\"font\":{\"family\":\"Open Sans\",\"size\":14},\"plot_bgcolor\":\"#F7F7F7\",\"paper_bgcolor\":\"#F7F7F7\"},                        {\"responsive\": true}                    ).then(function(){\n",
       "                            \n",
       "var gd = document.getElementById('db2d76d5-2356-4def-8c0e-a41bed517b0e');\n",
       "var x = new MutationObserver(function (mutations, observer) {{\n",
       "        var display = window.getComputedStyle(gd).display;\n",
       "        if (!display || display === 'none') {{\n",
       "            console.log([gd, 'removed!']);\n",
       "            Plotly.purge(gd);\n",
       "            observer.disconnect();\n",
       "        }}\n",
       "}});\n",
       "\n",
       "// Listen for the removal of the full notebook cells\n",
       "var notebookContainer = gd.closest('#notebook-container');\n",
       "if (notebookContainer) {{\n",
       "    x.observe(notebookContainer, {childList: true});\n",
       "}}\n",
       "\n",
       "// Listen for the clearing of the current output cell\n",
       "var outputEl = gd.closest('.output');\n",
       "if (outputEl) {{\n",
       "    x.observe(outputEl, {childList: true});\n",
       "}}\n",
       "\n",
       "                        })                };                });            </script>        </div>"
      ]
     },
     "metadata": {},
     "output_type": "display_data"
    }
   ],
   "source": [
    "fig = px.treemap(\n",
    "    df,\n",
    "    path=['Department', 'JobRole'],\n",
    "    values='JobInvolvement',\n",
    "    color='JobSatisfaction',\n",
    "    color_continuous_scale='RdYlGn',\n",
    "    hover_data=['JobInvolvement', 'JobSatisfaction'],\n",
    "    hover_name='JobRole'\n",
    ")\n",
    "\n",
    "\n",
    "fig.update_layout(\n",
    "    title={\n",
    "        'text': 'Employee Productivity by Department and Job Role',\n",
    "        'font_size': 20,\n",
    "        'font_family': 'Arial Black',\n",
    "    },\n",
    "    font_family='Open Sans',\n",
    "    font_size=14,\n",
    "    plot_bgcolor='#F7F7F7',\n",
    "    paper_bgcolor='#F7F7F7',\n",
    "    margin=dict(l=20, r=20, t=50, b=20)\n",
    ")\n",
    "fig.update_traces(\n",
    "    hovertemplate='<b>Department</b>: %{label}<br>'\n",
    "                '<b>Job Role</b>: %{hovertext}<br>'\n",
    "                '<b>Job Involvement</b>: %{customdata[0]}')\n",
    "\n",
    "fig.show()"
   ]
  },
  {
   "cell_type": "markdown",
   "id": "d18b29c6",
   "metadata": {
    "papermill": {
     "duration": 0.014346,
     "end_time": "2024-04-28T09:12:01.515827",
     "exception": false,
     "start_time": "2024-04-28T09:12:01.501481",
     "status": "completed"
    },
    "tags": []
   },
   "source": [
    "<div style=\"\n",
    "  background-color: #0D0D0D;\n",
    "  color: #FFFFFF;\n",
    "  font-family: 'Roboto', sans-serif;\n",
    "  font-size: 22px;\n",
    "  padding: 10px;\n",
    "  margin: 0px 0 0 0px;\n",
    "  border-radius: 15px;\n",
    "  border: none;\n",
    "  box-shadow: 0 0 20px rgba(255, 255, 255, 0.2);\n",
    "  width: 780px;\n",
    "  text-align: left;\n",
    "\">\n",
    "  <h2 style=\"margin: 0;\">Clustering Analysis of Employee Productivity</h2>\n",
    "</div>\n"
   ]
  },
  {
   "cell_type": "code",
   "execution_count": 14,
   "id": "f1939911",
   "metadata": {
    "execution": {
     "iopub.execute_input": "2024-04-28T09:12:01.547756Z",
     "iopub.status.busy": "2024-04-28T09:12:01.547333Z",
     "iopub.status.idle": "2024-04-28T09:12:01.727528Z",
     "shell.execute_reply": "2024-04-28T09:12:01.725903Z"
    },
    "papermill": {
     "duration": 0.199092,
     "end_time": "2024-04-28T09:12:01.730284",
     "exception": false,
     "start_time": "2024-04-28T09:12:01.531192",
     "status": "completed"
    },
    "tags": []
   },
   "outputs": [
    {
     "data": {
      "text/html": [
       "<div>                            <div id=\"8ff51f33-0b1f-43d3-b96e-8abfe495b5e7\" class=\"plotly-graph-div\" style=\"height:525px; width:100%;\"></div>            <script type=\"text/javascript\">                require([\"plotly\"], function(Plotly) {                    window.PLOTLYENV=window.PLOTLYENV || {};                                    if (document.getElementById(\"8ff51f33-0b1f-43d3-b96e-8abfe495b5e7\")) {                    Plotly.newPlot(                        \"8ff51f33-0b1f-43d3-b96e-8abfe495b5e7\",                        [{\"hovertemplate\":\"\\u003cb\\u003eJob Involvement: %{x}\\u003c\\u002fb\\u003e\\u003cbr\\u003e\\u003cb\\u003eJob Satisfaction: %{y}\\u003c\\u002fb\\u003e\\u003cbr\\u003e\\u003cb\\u003eCluster: %{marker.color}\\u003c\\u002fb\\u003e\",\"marker\":{\"color\":[1,0,3,1,0,1,4,1,3,1,0,3,1,1,3,4,0,1,3,1,1,2,0,1,4,1,2,0,3,4,1,1,3,1,1,1,3,1,2,4,1,4,3,1,1,1,1,0,1,1,3,1,4,2,3,1,4,4,1,3,1,1,3,4,1,1,0,4,4,3,3,0,0,0,1,1,2,4,1,0,3,3,1,3,0,3,4,1,3,3,0,1,0,2,1,1,1,1,1,0,4,4,3,1,3,3,0,3,3,1,2,3,1,1,0,1,2,1,1,1,3,0,0,1,3,0,1,1,1,4,1,1,3,1,1,0,3,3,3,1,4,1,1,1,3,4,3,2,4,0,0,0,1,0,1,1,3,0,3,1,1,0,1,1,3,0,1,1,3,1,0,2,0,4,4,4,1,3,4,1,1,0,0,3,4,0,1,0,3,0,3,0,3,1,3,4,0,1,1,1,2,1,1,1,4,1,0,1,3,4,3,3,1,0,4,1,2,1,3,4,0,0,1,1,3,3,1,1,1,3,3,1,1,1,1,1,4,3,0,3,1,1,4,1,1,1,3,2,2,1,1,1,1,4,1,1,2,1,1,0,0,3,2,2,1,0,3,4,1,1,4,0,1,1,3,1,0,4,0,0,1,1,1,1,4,1,1,1,0,1,4,0,0,3,1,0,1,0,1,2,0,3,4,1,1,0,3,0,3,1,2,4,1,0,4,1,3,0,0,0,1,1,1,3,1,3,3,1,3,1,3,0,1,4,1,3,2,3,3,0,1,3,1,0,0,1,0,1,1,1,1,0,1,4,1,1,3,0,1,3,1,1,1,1,4,1,0,3,3,0,0,1,0,0,1,3,1,1,1,1,1,0,4,0,3,1,4,0,4,0,0,3,4,1,4,1,1,3,1,2,1,4,1,4,4,4,3,1,1,1,3,4,1,3,0,3,1,1,1,1,3,0,3,4,3,3,1,2,1,1,3,1,3,3,0,1,3,0,1,1,4,1,1,3,1,0,1,1,1,1,1,4,0,1,1,1,3,0,2,3,1,1,1,3,1,1,4,0,4,1,1,1,0,3,1,0,0,0,1,1,2,3,4,3,1,3,1,0,1,3,4,1,2,3,1,4,1,1,1,1,1,1,4,1,4,1,1,1,3,1,0,0,3,1,4,3,4,0,3,3,0,1,1,1,0,1,3,1,1,1,4,1,4,2,1,3,4,4,3,0,2,4,1,3,1,1,1,1,3,1,4,0,1,3,2,0,1,4,1,1,4,2,1,1,3,1,1,1,4,2,1,3,1,2,1,4,1,4,4,2,1,3,0,4,1,4,0,1,1,2,1,4,1,0,1,0,1,3,1,0,3,3,3,3,0,2,3,1,1,4,3,1,0,1,3,1,1,0,4,4,2,1,1,3,3,4,1,3,3,3,3,1,1,2,4,3,0,1,2,4,3,0,0,1,1,3,1,0,1,1,1,1,0,4,3,0,1,3,4,1,3,0,3,1,1,3,1,3,1,4,1,0,3,2,0,3,1,0,1,1,1,4,0,0,0,2,4,1,0,4,1,0,4,3,3,3,0,1,1,1,1,1,1,1,1,1,0,1,1,2,1,2,1,1,1,0,1,0,4,1,1,1,1,1,3,0,4,1,1,1,4,2,0,1,2,3,3,1,3,1,1,1,1,3,2,0,3,1,2,3,1,1,4,4,3,1,1,1,1,0,0,1,4,1,0,1,1,0,4,3,1,3,1,3,2,3,1,2,2,1,2,2,4,1,3,1,3,0,1,2,3,4,3,1,1,3,1,1,0,4,0,1,0,3,1,3,0,3,1,0,1,0,4,1,3,0,0,1,1,0,1,0,1,0,3,3,1,3,1,4,1,1,3,3,1,1,2,1,4,4,3,0,1,1,3,3,0,2,3,3,4,4,1,4,1,3,3,1,1,3,3,4,3,1,2,4,0,4,2,0,4,0,1,3,1,1,1,1,4,1,0,1,2,1,0,1,0,4,3,4,1,1,0,1,1,4,2,3,3,3,0,0,1,1,3,3,1,0,1,1,1,3,1,2,0,3,0,4,0,1,0,1,4,0,1,0,3,0,1,3,3,1,1,4,0,1,0,0,1,1,4,3,1,4,3,4,0,0,4,1,1,2,0,4,1,3,0,1,1,1,4,1,0,4,4,1,2,0,4,1,1,0,1,3,3,1,0,3,1,1,3,1,1,1,2,1,3,0,1,1,1,0,1,1,1,3,3,1,3,4,4,1,1,1,4,2,2,1,1,4,1,0,3,4,0,4,0,4,3,2,1,2,1,4,1,1,1,0,1,1,1,1,2,0,2,0,1,1,4,1,0,4,3,0,1,1,0,4,2,1,1,1,1,1,0,4,1,0,0,1,4,0,1,3,1,1,0,1,2,3,4,2,0,2,1,1,1,2,4,0,0,0,1,4,3,1,3,1,0,1,2,0,1,1,4,1,1,2,1,0,3,0,1,1,1,4,2,1,2,0,4,3,0,4,4,1,3,1,1,0,0,1,4,1,1,1,1,1,4,3,1,3,4,0,3,4,0,3,1,1,1,0,2,2,4,1,1,4,4,2,4,2,1,1,1,3,3,1,1,1,3,3,2,0,1,1,3,3,1,1,1,4,3,4,1,0,0,2,1,0,0,3,3,4,1,3,1,1,0,1,0,1,4,0,0,1,1,4,1,1,1,3,1,1,1,0,1,0,3,3,0,3,3,1,1,3,1,1,1,1,1,3,3,3,3,0,1,1,2,4,4,0,1,1,0,1,2,2,0,1,1,3,0,3,2,1,3,1,1,2,1,2,1,0,1,4,0,1,2,1,0,3,3,0,2,0,4,1,3,1,3,0,3,4,3,1,0,1,4,0,0,1,4,1,1,0,4,4,1,0,4,4,1,1,0,1,1,0,0,1,1,0,3,0,4,1,4,4,3,1,1,1,4,2,1,0,1,1,1,1,1,1,1,1,3,1,0,4,3,0,3,0,3,0,2,1,3,0,1,0,3,1,1,4,4,0,3,3,4,3,1,1,4,2,1,0,0,4,1,3,1,1,1,1,3,4,3,0,3,1,0,2,4,0,1,1,1,1,1,0,4,1,4,0,1,1,4,4,1,2,3,2,1,1,3,1,4,1,1,1,0,0,3,4,3,1,4,3,1,1,0,0,0,1,1,3,0,1,3,4,1,0,1,1,1,1,0,1,0,1,3,1,1,1,1,1,4,1,4,3,0,1,1,1,1,0,3,3,0,4,1,1,1,3,1,3,1,1,3,0,2,2,3,4,3,1,2,0,0,1]},\"mode\":\"markers\",\"name\":\"Cluster\",\"x\":[3,2,2,3,3,3,4,3,2,3,4,2,3,3,2,4,4,4,2,3,4,2,3,3,3,3,1,3,2,3,3,3,2,3,3,4,2,3,2,4,3,3,1,3,3,3,3,3,3,4,2,3,3,2,2,3,3,3,3,2,3,3,2,3,3,3,2,3,3,2,2,3,3,3,4,3,2,3,3,3,2,2,3,1,3,1,3,3,2,2,2,3,2,2,3,3,3,3,3,3,3,3,2,3,2,2,3,2,2,3,2,1,4,3,2,3,2,3,3,3,1,3,3,3,1,2,3,3,3,3,4,3,1,3,3,3,1,2,2,3,3,3,3,3,1,3,2,2,3,3,3,3,3,3,3,3,2,2,2,3,3,3,3,4,2,3,3,3,2,3,3,1,3,3,3,3,3,2,3,3,3,3,3,2,4,3,3,4,2,3,2,3,2,4,2,4,3,3,3,3,2,3,3,3,3,3,4,3,2,3,1,2,3,2,3,3,2,3,2,3,3,2,3,3,1,2,3,3,3,2,2,3,3,3,3,3,3,2,3,2,3,3,3,3,4,3,2,2,2,4,3,3,3,4,3,3,2,3,3,2,4,2,2,1,3,2,2,4,3,3,3,3,3,3,2,3,4,4,3,3,3,3,3,3,3,3,3,3,3,3,3,3,3,2,3,3,3,3,4,1,3,2,4,4,4,3,2,2,1,3,2,3,3,3,3,3,2,2,3,2,3,3,4,1,3,2,2,3,2,3,2,3,3,3,3,1,1,2,2,3,3,2,3,2,3,3,2,3,3,3,3,3,3,4,3,3,2,2,3,2,3,4,3,3,3,3,3,2,2,2,4,3,2,3,3,2,3,3,4,3,3,3,3,3,2,3,3,3,3,3,2,2,3,3,3,3,3,2,3,2,3,4,3,4,3,3,2,3,3,3,1,3,3,2,3,1,3,3,3,3,2,2,2,3,2,2,3,2,3,3,1,3,2,2,3,3,1,3,3,3,3,3,3,2,3,3,3,3,3,3,3,3,3,3,3,4,2,3,1,2,3,3,4,1,3,3,3,3,3,4,3,3,3,2,4,3,2,3,3,3,2,2,3,2,4,2,3,2,3,2,3,3,2,2,3,3,3,3,3,3,3,3,3,3,3,3,3,3,1,3,3,2,2,3,3,2,4,4,2,1,4,4,4,4,2,3,2,3,3,4,3,3,3,2,4,2,3,3,2,3,1,4,3,1,3,3,3,4,2,3,3,4,3,2,2,3,3,3,3,3,3,2,3,3,1,4,4,3,3,2,3,1,3,2,4,3,3,3,4,2,3,1,4,3,3,4,2,3,3,2,3,3,3,3,4,3,4,2,3,3,2,2,2,2,3,2,2,3,3,3,2,3,3,3,2,3,3,3,4,4,2,3,3,2,2,3,4,2,2,2,2,4,3,2,3,2,3,3,2,3,2,3,2,4,3,2,3,2,3,3,3,3,3,3,2,3,3,2,3,3,2,3,2,3,3,2,3,1,3,3,3,3,2,2,2,2,3,3,3,3,3,3,2,2,2,2,3,3,2,3,3,3,3,2,2,2,3,3,3,3,3,3,3,3,3,4,4,4,3,2,3,2,3,3,3,4,3,3,3,3,3,3,3,3,2,2,3,3,3,3,4,2,3,4,1,2,2,3,2,3,3,3,3,2,1,3,1,3,1,1,4,3,4,3,2,3,3,4,3,3,2,3,3,3,3,3,3,3,3,2,3,2,3,2,2,2,3,2,2,3,2,2,3,4,2,3,1,3,3,2,2,3,2,3,3,2,3,3,2,3,2,3,3,2,4,2,3,2,3,3,3,3,3,3,2,2,3,3,4,2,3,2,3,3,1,2,4,2,3,3,3,3,2,2,3,3,2,3,3,3,2,3,3,4,2,2,2,2,2,1,3,3,3,3,3,2,2,3,3,1,2,3,1,3,2,3,3,3,2,3,3,3,3,1,3,3,4,3,4,4,2,3,1,3,2,3,3,3,2,3,3,4,2,3,3,3,2,2,1,2,3,4,3,3,2,2,4,3,4,4,3,1,3,1,2,2,2,3,3,3,3,3,4,2,3,4,2,3,3,2,2,3,3,3,3,4,3,2,3,3,3,2,3,3,1,3,2,3,3,3,3,1,3,3,3,1,3,3,3,3,3,3,3,3,3,3,2,3,4,3,4,2,3,2,1,4,3,2,4,3,2,3,4,3,2,3,2,3,3,3,3,3,3,4,4,2,2,3,2,3,3,3,3,3,4,2,2,3,3,3,4,3,1,3,3,3,2,3,2,2,3,2,4,3,3,3,3,2,4,3,3,3,2,4,1,4,3,3,3,3,2,3,2,4,3,3,3,3,1,3,3,3,3,4,3,3,3,3,2,3,3,3,3,2,3,3,2,3,2,2,3,2,3,1,3,3,3,2,3,3,3,2,3,3,2,3,1,3,2,3,1,2,3,3,3,3,3,2,3,3,2,2,3,3,4,3,2,3,2,3,3,2,3,3,3,3,2,3,3,3,3,3,3,3,4,3,3,4,4,2,4,2,3,4,2,4,3,2,3,4,3,2,1,2,3,3,4,3,3,2,4,1,3,3,3,2,2,3,3,3,2,2,2,3,3,3,2,1,3,4,3,3,2,3,4,3,3,2,3,3,3,2,2,4,3,2,3,3,2,3,3,3,3,2,4,3,3,3,3,3,3,2,3,4,3,3,3,2,2,1,4,1,2,3,4,2,3,4,3,3,3,2,1,1,1,2,3,3,1,3,3,3,3,3,3,3,2,1,3,3,3,1,3,1,2,3,2,3,3,1,4,2,4,3,3,3,2,3,2,4,3,1,2,3,2,3,3,3,2,3,1,3,2,3,2,3,2,3,3,3,3,3,4,3,3,2,3,4,3,3,3,3,3,3,4,3,3,3,3,3,4,3,1,2,3,3,3,3,1,3,3,3,4,2,3,3,3,3,3,3,3,3,3,3,1,3,2,4,2,2,2,2,2,3,2,3,2,3,3,3,2,3,3,3,3,2,2,2,3,2,4,3,4,1,3,2,3,3,3,2,4,4,3,3,2,4,1,3,2,3,3,2,3,2,3,4,3,3,3,2,3,3,3,4,3,3,3,3,3,1,2,2,3,3,2,3,3,3,3,3,3,4,1,3,2,3,3,2,3,3,3,3,3,3,3,2,3,3,2,3,3,3,3,3,3,3,2,3,2,3,1,3,4,3,3,3,3,3,3,2,3,3,3,3,3,2,2,1,2,3,3,3,3,2,3,2,3,3,1,2,2,2,2,3,2,4,2,4,2,4],\"y\":[4,2,3,3,2,4,1,3,3,3,2,3,3,4,3,1,2,4,4,4,3,1,2,4,1,3,1,2,4,1,4,4,3,4,4,3,3,4,1,1,4,1,3,3,4,3,3,2,4,4,3,3,1,1,4,4,1,1,4,3,4,4,3,1,3,3,2,1,1,3,3,2,2,2,4,4,1,1,3,2,4,3,4,4,2,4,1,4,4,4,2,4,2,1,3,3,3,3,3,2,1,1,4,3,4,4,2,3,4,4,1,3,4,3,2,4,1,4,4,4,3,2,2,3,3,2,4,3,4,1,3,4,3,3,3,2,4,3,3,4,1,4,3,3,4,1,4,1,1,2,2,2,3,2,4,3,3,2,4,3,4,2,4,4,3,2,3,4,4,3,2,1,2,1,1,1,4,4,1,4,4,2,2,3,1,2,3,2,3,2,3,2,3,4,4,1,2,3,3,4,1,4,3,4,1,4,2,4,4,1,4,3,3,2,1,4,1,3,4,1,2,2,4,3,3,4,4,4,3,4,4,4,3,4,4,4,1,3,2,3,3,4,1,4,4,3,4,1,1,3,3,3,4,1,4,3,1,3,4,2,2,4,1,2,3,2,4,1,4,4,1,2,4,4,3,4,2,1,2,2,3,3,4,4,1,4,3,4,2,4,1,2,2,4,4,2,3,2,4,2,2,3,1,4,4,2,3,2,3,4,1,1,4,2,1,4,3,2,2,2,3,4,4,4,4,3,4,3,4,3,3,2,3,1,4,4,1,4,3,2,4,4,4,2,2,4,2,3,4,3,3,2,3,1,3,3,4,2,4,4,3,3,4,3,1,3,2,4,3,2,2,4,2,2,4,3,4,3,4,4,3,2,1,2,3,4,1,2,1,2,2,3,1,3,1,4,3,4,3,1,3,1,3,1,1,1,3,4,4,3,4,1,3,4,2,3,4,3,4,4,3,2,4,1,4,3,4,1,4,3,3,3,3,4,2,3,4,2,3,3,1,3,4,3,4,2,4,3,3,3,4,1,2,3,4,3,4,2,1,3,3,3,4,4,4,3,1,2,1,3,4,3,2,3,4,2,2,2,3,3,1,4,1,4,4,3,3,2,4,4,1,3,1,3,3,1,3,4,3,3,4,3,1,4,1,4,3,3,4,4,2,2,4,3,1,3,1,2,4,4,2,4,4,3,2,3,3,4,3,4,1,4,1,1,3,4,1,1,3,2,2,1,3,3,3,4,3,3,4,3,1,2,4,4,1,2,4,1,4,3,1,1,4,4,3,3,3,4,1,1,4,4,3,1,4,1,4,1,1,1,4,3,2,1,4,1,2,3,3,1,3,1,4,2,3,2,3,4,3,2,3,3,4,3,2,1,4,4,4,1,4,3,2,4,3,4,3,2,1,1,1,4,4,4,4,1,3,4,3,4,4,4,4,1,1,3,2,4,1,1,4,2,2,4,4,3,4,2,4,4,4,4,2,1,4,2,4,4,1,4,4,2,3,4,4,4,3,4,3,1,3,2,3,1,2,3,4,2,3,3,4,1,2,2,2,1,1,3,2,1,4,2,1,4,4,3,2,4,3,4,3,3,3,4,4,3,2,3,4,1,3,1,4,4,4,2,3,2,1,4,3,3,3,3,3,2,1,4,3,3,1,1,2,4,1,3,3,3,4,4,4,3,4,4,2,2,3,4,1,4,4,3,1,1,4,4,3,4,4,2,2,3,1,3,2,3,3,2,1,3,4,3,3,4,1,4,4,1,1,3,1,1,1,3,3,4,3,2,3,1,4,1,3,3,4,4,4,3,2,1,2,3,2,4,4,3,2,3,4,2,3,2,1,4,3,2,2,4,4,2,4,2,3,2,4,4,3,3,3,1,4,3,4,3,3,3,1,3,1,1,3,2,4,4,3,4,2,1,4,3,1,1,4,1,3,4,3,3,3,4,4,1,3,3,1,1,2,1,1,2,1,2,3,3,3,4,4,4,1,4,2,3,1,4,2,4,2,1,4,1,3,4,2,4,4,1,1,4,4,3,2,2,3,4,4,4,3,2,3,4,3,4,4,2,2,3,2,1,2,4,2,3,1,2,3,2,4,2,4,4,3,3,3,1,2,4,2,2,3,3,1,4,3,1,4,1,2,2,1,3,3,2,2,1,3,3,2,3,4,4,1,3,2,1,1,4,1,2,1,4,4,2,4,4,4,3,2,3,3,3,4,3,3,4,1,3,4,2,4,3,4,2,3,3,3,3,4,3,4,1,1,3,4,4,1,1,1,4,4,1,4,2,3,1,2,1,2,1,4,1,4,1,3,1,3,3,4,2,3,3,4,4,1,2,1,2,4,4,1,3,2,1,3,2,3,3,2,1,1,3,4,3,3,3,2,1,3,2,2,3,1,2,3,3,3,3,2,3,1,3,1,1,2,2,3,4,4,1,1,2,2,2,3,1,3,3,4,3,2,4,1,2,4,4,1,3,4,1,4,2,3,2,4,3,3,1,1,3,1,2,1,4,2,1,1,4,4,4,4,2,2,3,1,3,3,4,3,3,1,4,3,3,1,2,4,1,2,3,3,4,4,2,1,1,1,3,4,1,1,1,1,1,4,4,3,3,3,3,3,3,4,3,1,2,4,4,4,4,4,3,4,1,3,1,3,2,2,1,3,2,2,3,3,1,3,3,4,4,2,4,2,4,1,2,2,3,3,1,4,3,4,3,3,4,3,2,4,2,4,4,2,4,4,4,4,4,4,3,3,3,4,3,3,3,3,2,3,3,2,1,1,2,3,4,2,4,1,2,2,4,4,3,2,3,1,4,4,3,4,2,3,1,4,2,4,1,2,3,1,3,2,4,3,2,1,2,1,3,3,4,4,2,3,1,4,3,2,4,1,2,2,4,1,4,3,2,1,1,4,2,1,1,4,3,2,3,3,2,2,4,3,2,3,2,1,4,1,1,4,4,3,3,1,1,3,2,4,4,4,4,3,3,4,4,3,3,2,1,3,2,3,2,4,2,1,4,4,2,4,2,3,3,4,1,1,2,4,4,1,3,3,4,1,1,4,2,2,1,4,4,3,4,3,3,4,1,3,2,4,3,2,1,1,2,4,3,4,4,4,2,1,3,1,2,4,3,1,1,4,1,4,1,4,4,4,4,1,3,3,3,2,2,4,1,3,3,1,3,4,3,2,2,2,3,3,3,2,3,3,1,4,2,3,3,3,4,2,4,2,4,3,4,4,3,4,4,1,4,1,4,2,3,4,3,3,2,3,4,2,1,4,4,3,4,3,3,3,3,4,2,1,1,4,1,3,4,1,2,2,3],\"type\":\"scatter\",\"xaxis\":\"x\",\"yaxis\":\"y\"},{\"hovertemplate\":\"\\u003cb\\u003eCluster: %{x}\\u003c\\u002fb\\u003e\\u003cbr\\u003e\\u003cb\\u003eCount: %{y}\\u003c\\u002fb\\u003e\",\"name\":\"Cluster Size\",\"x\":[1,0,3,4,2],\"y\":[623,278,270,200,99],\"type\":\"bar\",\"xaxis\":\"x2\",\"yaxis\":\"y2\"},{\"hovertemplate\":\"\\u003cb\\u003eCluster: %{x}\\u003c\\u002fb\\u003e\\u003cbr\\u003e\\u003cb\\u003eAverage Job Involvement: %{y:.2f}\\u003c\\u002fb\\u003e\",\"name\":\"Average Job Involvement\",\"x\":[1,0,3,4,2],\"y\":[2.7925925925925927,3.1364365971107544,1.7575757575757576,1.7877697841726619,3.17],\"type\":\"bar\",\"xaxis\":\"x3\",\"yaxis\":\"y3\"},{\"hovertemplate\":\"\\u003cb\\u003eCluster: %{x}\\u003c\\u002fb\\u003e\\u003cbr\\u003e\\u003cb\\u003eAverage Job Satisfaction: %{y:.2f}\\u003c\\u002fb\\u003e\",\"name\":\"Average Job Satisfaction\",\"x\":[1,0,3,4,2],\"y\":[2.0,3.508828250401284,1.101010101010101,3.5107913669064748,1.0],\"type\":\"bar\",\"xaxis\":\"x4\",\"yaxis\":\"y4\"}],                        {\"template\":{\"data\":{\"histogram2dcontour\":[{\"type\":\"histogram2dcontour\",\"colorbar\":{\"outlinewidth\":0,\"ticks\":\"\"},\"colorscale\":[[0.0,\"#0d0887\"],[0.1111111111111111,\"#46039f\"],[0.2222222222222222,\"#7201a8\"],[0.3333333333333333,\"#9c179e\"],[0.4444444444444444,\"#bd3786\"],[0.5555555555555556,\"#d8576b\"],[0.6666666666666666,\"#ed7953\"],[0.7777777777777778,\"#fb9f3a\"],[0.8888888888888888,\"#fdca26\"],[1.0,\"#f0f921\"]]}],\"choropleth\":[{\"type\":\"choropleth\",\"colorbar\":{\"outlinewidth\":0,\"ticks\":\"\"}}],\"histogram2d\":[{\"type\":\"histogram2d\",\"colorbar\":{\"outlinewidth\":0,\"ticks\":\"\"},\"colorscale\":[[0.0,\"#0d0887\"],[0.1111111111111111,\"#46039f\"],[0.2222222222222222,\"#7201a8\"],[0.3333333333333333,\"#9c179e\"],[0.4444444444444444,\"#bd3786\"],[0.5555555555555556,\"#d8576b\"],[0.6666666666666666,\"#ed7953\"],[0.7777777777777778,\"#fb9f3a\"],[0.8888888888888888,\"#fdca26\"],[1.0,\"#f0f921\"]]}],\"heatmap\":[{\"type\":\"heatmap\",\"colorbar\":{\"outlinewidth\":0,\"ticks\":\"\"},\"colorscale\":[[0.0,\"#0d0887\"],[0.1111111111111111,\"#46039f\"],[0.2222222222222222,\"#7201a8\"],[0.3333333333333333,\"#9c179e\"],[0.4444444444444444,\"#bd3786\"],[0.5555555555555556,\"#d8576b\"],[0.6666666666666666,\"#ed7953\"],[0.7777777777777778,\"#fb9f3a\"],[0.8888888888888888,\"#fdca26\"],[1.0,\"#f0f921\"]]}],\"heatmapgl\":[{\"type\":\"heatmapgl\",\"colorbar\":{\"outlinewidth\":0,\"ticks\":\"\"},\"colorscale\":[[0.0,\"#0d0887\"],[0.1111111111111111,\"#46039f\"],[0.2222222222222222,\"#7201a8\"],[0.3333333333333333,\"#9c179e\"],[0.4444444444444444,\"#bd3786\"],[0.5555555555555556,\"#d8576b\"],[0.6666666666666666,\"#ed7953\"],[0.7777777777777778,\"#fb9f3a\"],[0.8888888888888888,\"#fdca26\"],[1.0,\"#f0f921\"]]}],\"contourcarpet\":[{\"type\":\"contourcarpet\",\"colorbar\":{\"outlinewidth\":0,\"ticks\":\"\"}}],\"contour\":[{\"type\":\"contour\",\"colorbar\":{\"outlinewidth\":0,\"ticks\":\"\"},\"colorscale\":[[0.0,\"#0d0887\"],[0.1111111111111111,\"#46039f\"],[0.2222222222222222,\"#7201a8\"],[0.3333333333333333,\"#9c179e\"],[0.4444444444444444,\"#bd3786\"],[0.5555555555555556,\"#d8576b\"],[0.6666666666666666,\"#ed7953\"],[0.7777777777777778,\"#fb9f3a\"],[0.8888888888888888,\"#fdca26\"],[1.0,\"#f0f921\"]]}],\"surface\":[{\"type\":\"surface\",\"colorbar\":{\"outlinewidth\":0,\"ticks\":\"\"},\"colorscale\":[[0.0,\"#0d0887\"],[0.1111111111111111,\"#46039f\"],[0.2222222222222222,\"#7201a8\"],[0.3333333333333333,\"#9c179e\"],[0.4444444444444444,\"#bd3786\"],[0.5555555555555556,\"#d8576b\"],[0.6666666666666666,\"#ed7953\"],[0.7777777777777778,\"#fb9f3a\"],[0.8888888888888888,\"#fdca26\"],[1.0,\"#f0f921\"]]}],\"mesh3d\":[{\"type\":\"mesh3d\",\"colorbar\":{\"outlinewidth\":0,\"ticks\":\"\"}}],\"scatter\":[{\"fillpattern\":{\"fillmode\":\"overlay\",\"size\":10,\"solidity\":0.2},\"type\":\"scatter\"}],\"parcoords\":[{\"type\":\"parcoords\",\"line\":{\"colorbar\":{\"outlinewidth\":0,\"ticks\":\"\"}}}],\"scatterpolargl\":[{\"type\":\"scatterpolargl\",\"marker\":{\"colorbar\":{\"outlinewidth\":0,\"ticks\":\"\"}}}],\"bar\":[{\"error_x\":{\"color\":\"#2a3f5f\"},\"error_y\":{\"color\":\"#2a3f5f\"},\"marker\":{\"line\":{\"color\":\"#E5ECF6\",\"width\":0.5},\"pattern\":{\"fillmode\":\"overlay\",\"size\":10,\"solidity\":0.2}},\"type\":\"bar\"}],\"scattergeo\":[{\"type\":\"scattergeo\",\"marker\":{\"colorbar\":{\"outlinewidth\":0,\"ticks\":\"\"}}}],\"scatterpolar\":[{\"type\":\"scatterpolar\",\"marker\":{\"colorbar\":{\"outlinewidth\":0,\"ticks\":\"\"}}}],\"histogram\":[{\"marker\":{\"pattern\":{\"fillmode\":\"overlay\",\"size\":10,\"solidity\":0.2}},\"type\":\"histogram\"}],\"scattergl\":[{\"type\":\"scattergl\",\"marker\":{\"colorbar\":{\"outlinewidth\":0,\"ticks\":\"\"}}}],\"scatter3d\":[{\"type\":\"scatter3d\",\"line\":{\"colorbar\":{\"outlinewidth\":0,\"ticks\":\"\"}},\"marker\":{\"colorbar\":{\"outlinewidth\":0,\"ticks\":\"\"}}}],\"scattermapbox\":[{\"type\":\"scattermapbox\",\"marker\":{\"colorbar\":{\"outlinewidth\":0,\"ticks\":\"\"}}}],\"scatterternary\":[{\"type\":\"scatterternary\",\"marker\":{\"colorbar\":{\"outlinewidth\":0,\"ticks\":\"\"}}}],\"scattercarpet\":[{\"type\":\"scattercarpet\",\"marker\":{\"colorbar\":{\"outlinewidth\":0,\"ticks\":\"\"}}}],\"carpet\":[{\"aaxis\":{\"endlinecolor\":\"#2a3f5f\",\"gridcolor\":\"white\",\"linecolor\":\"white\",\"minorgridcolor\":\"white\",\"startlinecolor\":\"#2a3f5f\"},\"baxis\":{\"endlinecolor\":\"#2a3f5f\",\"gridcolor\":\"white\",\"linecolor\":\"white\",\"minorgridcolor\":\"white\",\"startlinecolor\":\"#2a3f5f\"},\"type\":\"carpet\"}],\"table\":[{\"cells\":{\"fill\":{\"color\":\"#EBF0F8\"},\"line\":{\"color\":\"white\"}},\"header\":{\"fill\":{\"color\":\"#C8D4E3\"},\"line\":{\"color\":\"white\"}},\"type\":\"table\"}],\"barpolar\":[{\"marker\":{\"line\":{\"color\":\"#E5ECF6\",\"width\":0.5},\"pattern\":{\"fillmode\":\"overlay\",\"size\":10,\"solidity\":0.2}},\"type\":\"barpolar\"}],\"pie\":[{\"automargin\":true,\"type\":\"pie\"}]},\"layout\":{\"autotypenumbers\":\"strict\",\"colorway\":[\"#636efa\",\"#EF553B\",\"#00cc96\",\"#ab63fa\",\"#FFA15A\",\"#19d3f3\",\"#FF6692\",\"#B6E880\",\"#FF97FF\",\"#FECB52\"],\"font\":{\"color\":\"#2a3f5f\"},\"hovermode\":\"closest\",\"hoverlabel\":{\"align\":\"left\"},\"paper_bgcolor\":\"white\",\"plot_bgcolor\":\"#E5ECF6\",\"polar\":{\"bgcolor\":\"#E5ECF6\",\"angularaxis\":{\"gridcolor\":\"white\",\"linecolor\":\"white\",\"ticks\":\"\"},\"radialaxis\":{\"gridcolor\":\"white\",\"linecolor\":\"white\",\"ticks\":\"\"}},\"ternary\":{\"bgcolor\":\"#E5ECF6\",\"aaxis\":{\"gridcolor\":\"white\",\"linecolor\":\"white\",\"ticks\":\"\"},\"baxis\":{\"gridcolor\":\"white\",\"linecolor\":\"white\",\"ticks\":\"\"},\"caxis\":{\"gridcolor\":\"white\",\"linecolor\":\"white\",\"ticks\":\"\"}},\"coloraxis\":{\"colorbar\":{\"outlinewidth\":0,\"ticks\":\"\"}},\"colorscale\":{\"sequential\":[[0.0,\"#0d0887\"],[0.1111111111111111,\"#46039f\"],[0.2222222222222222,\"#7201a8\"],[0.3333333333333333,\"#9c179e\"],[0.4444444444444444,\"#bd3786\"],[0.5555555555555556,\"#d8576b\"],[0.6666666666666666,\"#ed7953\"],[0.7777777777777778,\"#fb9f3a\"],[0.8888888888888888,\"#fdca26\"],[1.0,\"#f0f921\"]],\"sequentialminus\":[[0.0,\"#0d0887\"],[0.1111111111111111,\"#46039f\"],[0.2222222222222222,\"#7201a8\"],[0.3333333333333333,\"#9c179e\"],[0.4444444444444444,\"#bd3786\"],[0.5555555555555556,\"#d8576b\"],[0.6666666666666666,\"#ed7953\"],[0.7777777777777778,\"#fb9f3a\"],[0.8888888888888888,\"#fdca26\"],[1.0,\"#f0f921\"]],\"diverging\":[[0,\"#8e0152\"],[0.1,\"#c51b7d\"],[0.2,\"#de77ae\"],[0.3,\"#f1b6da\"],[0.4,\"#fde0ef\"],[0.5,\"#f7f7f7\"],[0.6,\"#e6f5d0\"],[0.7,\"#b8e186\"],[0.8,\"#7fbc41\"],[0.9,\"#4d9221\"],[1,\"#276419\"]]},\"xaxis\":{\"gridcolor\":\"white\",\"linecolor\":\"white\",\"ticks\":\"\",\"title\":{\"standoff\":15},\"zerolinecolor\":\"white\",\"automargin\":true,\"zerolinewidth\":2},\"yaxis\":{\"gridcolor\":\"white\",\"linecolor\":\"white\",\"ticks\":\"\",\"title\":{\"standoff\":15},\"zerolinecolor\":\"white\",\"automargin\":true,\"zerolinewidth\":2},\"scene\":{\"xaxis\":{\"backgroundcolor\":\"#E5ECF6\",\"gridcolor\":\"white\",\"linecolor\":\"white\",\"showbackground\":true,\"ticks\":\"\",\"zerolinecolor\":\"white\",\"gridwidth\":2},\"yaxis\":{\"backgroundcolor\":\"#E5ECF6\",\"gridcolor\":\"white\",\"linecolor\":\"white\",\"showbackground\":true,\"ticks\":\"\",\"zerolinecolor\":\"white\",\"gridwidth\":2},\"zaxis\":{\"backgroundcolor\":\"#E5ECF6\",\"gridcolor\":\"white\",\"linecolor\":\"white\",\"showbackground\":true,\"ticks\":\"\",\"zerolinecolor\":\"white\",\"gridwidth\":2}},\"shapedefaults\":{\"line\":{\"color\":\"#2a3f5f\"}},\"annotationdefaults\":{\"arrowcolor\":\"#2a3f5f\",\"arrowhead\":0,\"arrowwidth\":1},\"geo\":{\"bgcolor\":\"white\",\"landcolor\":\"#E5ECF6\",\"subunitcolor\":\"white\",\"showland\":true,\"showlakes\":true,\"lakecolor\":\"white\"},\"title\":{\"x\":0.05},\"mapbox\":{\"style\":\"light\"}}},\"xaxis\":{\"anchor\":\"y\",\"domain\":[0.0,0.45]},\"yaxis\":{\"anchor\":\"x\",\"domain\":[0.625,1.0]},\"xaxis2\":{\"anchor\":\"y2\",\"domain\":[0.55,1.0]},\"yaxis2\":{\"anchor\":\"x2\",\"domain\":[0.625,1.0]},\"xaxis3\":{\"anchor\":\"y3\",\"domain\":[0.0,0.45]},\"yaxis3\":{\"anchor\":\"x3\",\"domain\":[0.0,0.375]},\"xaxis4\":{\"anchor\":\"y4\",\"domain\":[0.55,1.0]},\"yaxis4\":{\"anchor\":\"x4\",\"domain\":[0.0,0.375]},\"annotations\":[{\"font\":{\"size\":16},\"showarrow\":false,\"text\":\"Scatter Plot\",\"x\":0.225,\"xanchor\":\"center\",\"xref\":\"paper\",\"y\":1.0,\"yanchor\":\"bottom\",\"yref\":\"paper\"},{\"font\":{\"size\":16},\"showarrow\":false,\"text\":\"Bar Chart\",\"x\":0.775,\"xanchor\":\"center\",\"xref\":\"paper\",\"y\":1.0,\"yanchor\":\"bottom\",\"yref\":\"paper\"},{\"font\":{\"size\":16},\"showarrow\":false,\"text\":\"Bar Chart\",\"x\":0.225,\"xanchor\":\"center\",\"xref\":\"paper\",\"y\":0.375,\"yanchor\":\"bottom\",\"yref\":\"paper\"},{\"font\":{\"size\":16},\"showarrow\":false,\"text\":\"Bar Chart\",\"x\":0.775,\"xanchor\":\"center\",\"xref\":\"paper\",\"y\":0.375,\"yanchor\":\"bottom\",\"yref\":\"paper\"}],\"title\":{\"font\":{\"size\":24,\"family\":\"Arial Black\"},\"text\":\"Clustering Analysis\"}},                        {\"responsive\": true}                    ).then(function(){\n",
       "                            \n",
       "var gd = document.getElementById('8ff51f33-0b1f-43d3-b96e-8abfe495b5e7');\n",
       "var x = new MutationObserver(function (mutations, observer) {{\n",
       "        var display = window.getComputedStyle(gd).display;\n",
       "        if (!display || display === 'none') {{\n",
       "            console.log([gd, 'removed!']);\n",
       "            Plotly.purge(gd);\n",
       "            observer.disconnect();\n",
       "        }}\n",
       "}});\n",
       "\n",
       "// Listen for the removal of the full notebook cells\n",
       "var notebookContainer = gd.closest('#notebook-container');\n",
       "if (notebookContainer) {{\n",
       "    x.observe(notebookContainer, {childList: true});\n",
       "}}\n",
       "\n",
       "// Listen for the clearing of the current output cell\n",
       "var outputEl = gd.closest('.output');\n",
       "if (outputEl) {{\n",
       "    x.observe(outputEl, {childList: true});\n",
       "}}\n",
       "\n",
       "                        })                };                });            </script>        </div>"
      ]
     },
     "metadata": {},
     "output_type": "display_data"
    }
   ],
   "source": [
    "clustering_cols = ['JobInvolvement', 'JobSatisfaction']\n",
    "kmeans = KMeans(n_clusters=5, n_init='auto')\n",
    "kmeans.fit(df[clustering_cols])\n",
    "\n",
    "df['Cluster'] = kmeans.labels_\n",
    "\n",
    "fig = make_subplots(rows=2, cols=2, subplot_titles=['Scatter Plot', 'Bar Chart', 'Bar Chart', 'Bar Chart'])\n",
    "\n",
    "fig.add_trace(go.Scatter(x=df['JobInvolvement'], \n",
    "                        y=df['JobSatisfaction'], \n",
    "                        mode='markers', \n",
    "                        marker=dict(color=kmeans.labels_), \n",
    "                        name='Cluster', \n",
    "                        hovertemplate=\"<b>Job Involvement: %{x}</b><br><b>Job Satisfaction: %{y}</b><br><b>Cluster: %{marker.color}</b>\"), \n",
    "                        row=1, \n",
    "                        col=1)\n",
    "\n",
    "fig.add_trace(go.Bar(x=df['Cluster'].unique(), \n",
    "                    y=df['Cluster'].value_counts(), \n",
    "                    name='Cluster Size', \n",
    "                    hovertemplate=\"<b>Cluster: %{x}</b><br><b>Count: %{y}</b>\"), \n",
    "                    row=1, \n",
    "                    col=2)\n",
    "\n",
    "fig.add_trace(go.Bar(x=df['Cluster'].unique(), \n",
    "                    y=df.groupby('Cluster')['JobInvolvement'].mean(), \n",
    "                    name='Average Job Involvement', \n",
    "                    hovertemplate=\"<b>Cluster: %{x}</b><br><b>Average Job Involvement: %{y:.2f}</b>\"), \n",
    "                    row=2, \n",
    "                    col=1)\n",
    "\n",
    "fig.add_trace(go.Bar(x=df['Cluster'].unique(), \n",
    "                    y=df.groupby('Cluster')['JobSatisfaction'].mean(), \n",
    "                    name='Average Job Satisfaction', \n",
    "                    hovertemplate=\"<b>Cluster: %{x}</b><br><b>Average Job Satisfaction: %{y:.2f}</b>\"), \n",
    "                    row=2, \n",
    "                    col=2)\n",
    "\n",
    "fig.update_layout(\n",
    "    title={\n",
    "        'text': 'Clustering Analysis',\n",
    "        'font_size': 24,\n",
    "        'font_family': 'Arial Black',\n",
    "    }\n",
    ")\n",
    "\n",
    "fig.show()"
   ]
  },
  {
   "cell_type": "markdown",
   "id": "4b291d49",
   "metadata": {
    "papermill": {
     "duration": 0.014774,
     "end_time": "2024-04-28T09:12:01.760367",
     "exception": false,
     "start_time": "2024-04-28T09:12:01.745593",
     "status": "completed"
    },
    "tags": []
   },
   "source": [
    "<div style=\"\n",
    "  background-color: #0D0D0D;\n",
    "  color: #FFFFFF;\n",
    "  font-family: 'Roboto', sans-serif;\n",
    "  font-size: 22px;\n",
    "  padding: 10px;\n",
    "  margin: 0px 0 0 0px;\n",
    "  border-radius: 15px;\n",
    "  border: none;\n",
    "  box-shadow: 0 0 20px rgba(255, 255, 255, 0.2);\n",
    "  width: 600px;\n",
    "  text-align: left;\n",
    "\">\n",
    "  <h2 style=\"margin: 0;\">Optimal Employee Development</h2>\n",
    "</div>\n"
   ]
  },
  {
   "cell_type": "code",
   "execution_count": 15,
   "id": "041ee781",
   "metadata": {
    "execution": {
     "iopub.execute_input": "2024-04-28T09:12:01.791964Z",
     "iopub.status.busy": "2024-04-28T09:12:01.791578Z",
     "iopub.status.idle": "2024-04-28T09:12:01.824037Z",
     "shell.execute_reply": "2024-04-28T09:12:01.822829Z"
    },
    "papermill": {
     "duration": 0.051353,
     "end_time": "2024-04-28T09:12:01.826865",
     "exception": false,
     "start_time": "2024-04-28T09:12:01.775512",
     "status": "completed"
    },
    "tags": []
   },
   "outputs": [
    {
     "data": {
      "text/html": [
       "<div>                            <div id=\"fd50550e-4fd1-4061-9722-84928f9a424f\" class=\"plotly-graph-div\" style=\"height:525px; width:100%;\"></div>            <script type=\"text/javascript\">                require([\"plotly\"], function(Plotly) {                    window.PLOTLYENV=window.PLOTLYENV || {};                                    if (document.getElementById(\"fd50550e-4fd1-4061-9722-84928f9a424f\")) {                    Plotly.newPlot(                        \"fd50550e-4fd1-4061-9722-84928f9a424f\",                        [{\"colorscale\":[[0.0,\"#440154\"],[0.1111111111111111,\"#482878\"],[0.2222222222222222,\"#3e4989\"],[0.3333333333333333,\"#31688e\"],[0.4444444444444444,\"#26828e\"],[0.5555555555555556,\"#1f9e89\"],[0.6666666666666666,\"#35b779\"],[0.7777777777777778,\"#6ece58\"],[0.8888888888888888,\"#b5de2b\"],[1.0,\"#fde725\"]],\"hovertemplate\":\"\\u003cb\\u003eJob Role:\\u003c\\u002fb\\u003e %{y}\\u003cbr\\u003e\\u003cb\\u003eDepartment:\\u003c\\u002fb\\u003e %{x}\\u003cbr\\u003e\\u003cb\\u003eAverage Years at Company:\\u003c\\u002fb\\u003e %{z:.2f} years\",\"x\":[\"Human Resources\",\"Research & Development\",\"Sales\"],\"y\":[\"Healthcare Representative\",\"Human Resources\",\"Laboratory Technician\",\"Manager\",\"Manufacturing Director\",\"Research Director\",\"Research Scientist\",\"Sales Executive\",\"Sales Representative\"],\"z\":[[null,8.374045801526718,null],[5.326923076923077,null,null],[null,5.019305019305019,null],[16.272727272727273,13.518518518518519,15.216216216216216],[null,7.6,null],[null,10.9375,null],[null,5.113013698630137,null],[null,null,7.4969325153374236],[null,null,2.9156626506024095]],\"type\":\"heatmap\"}],                        {\"template\":{\"data\":{\"histogram2dcontour\":[{\"type\":\"histogram2dcontour\",\"colorbar\":{\"outlinewidth\":0,\"ticks\":\"\"},\"colorscale\":[[0.0,\"#0d0887\"],[0.1111111111111111,\"#46039f\"],[0.2222222222222222,\"#7201a8\"],[0.3333333333333333,\"#9c179e\"],[0.4444444444444444,\"#bd3786\"],[0.5555555555555556,\"#d8576b\"],[0.6666666666666666,\"#ed7953\"],[0.7777777777777778,\"#fb9f3a\"],[0.8888888888888888,\"#fdca26\"],[1.0,\"#f0f921\"]]}],\"choropleth\":[{\"type\":\"choropleth\",\"colorbar\":{\"outlinewidth\":0,\"ticks\":\"\"}}],\"histogram2d\":[{\"type\":\"histogram2d\",\"colorbar\":{\"outlinewidth\":0,\"ticks\":\"\"},\"colorscale\":[[0.0,\"#0d0887\"],[0.1111111111111111,\"#46039f\"],[0.2222222222222222,\"#7201a8\"],[0.3333333333333333,\"#9c179e\"],[0.4444444444444444,\"#bd3786\"],[0.5555555555555556,\"#d8576b\"],[0.6666666666666666,\"#ed7953\"],[0.7777777777777778,\"#fb9f3a\"],[0.8888888888888888,\"#fdca26\"],[1.0,\"#f0f921\"]]}],\"heatmap\":[{\"type\":\"heatmap\",\"colorbar\":{\"outlinewidth\":0,\"ticks\":\"\"},\"colorscale\":[[0.0,\"#0d0887\"],[0.1111111111111111,\"#46039f\"],[0.2222222222222222,\"#7201a8\"],[0.3333333333333333,\"#9c179e\"],[0.4444444444444444,\"#bd3786\"],[0.5555555555555556,\"#d8576b\"],[0.6666666666666666,\"#ed7953\"],[0.7777777777777778,\"#fb9f3a\"],[0.8888888888888888,\"#fdca26\"],[1.0,\"#f0f921\"]]}],\"heatmapgl\":[{\"type\":\"heatmapgl\",\"colorbar\":{\"outlinewidth\":0,\"ticks\":\"\"},\"colorscale\":[[0.0,\"#0d0887\"],[0.1111111111111111,\"#46039f\"],[0.2222222222222222,\"#7201a8\"],[0.3333333333333333,\"#9c179e\"],[0.4444444444444444,\"#bd3786\"],[0.5555555555555556,\"#d8576b\"],[0.6666666666666666,\"#ed7953\"],[0.7777777777777778,\"#fb9f3a\"],[0.8888888888888888,\"#fdca26\"],[1.0,\"#f0f921\"]]}],\"contourcarpet\":[{\"type\":\"contourcarpet\",\"colorbar\":{\"outlinewidth\":0,\"ticks\":\"\"}}],\"contour\":[{\"type\":\"contour\",\"colorbar\":{\"outlinewidth\":0,\"ticks\":\"\"},\"colorscale\":[[0.0,\"#0d0887\"],[0.1111111111111111,\"#46039f\"],[0.2222222222222222,\"#7201a8\"],[0.3333333333333333,\"#9c179e\"],[0.4444444444444444,\"#bd3786\"],[0.5555555555555556,\"#d8576b\"],[0.6666666666666666,\"#ed7953\"],[0.7777777777777778,\"#fb9f3a\"],[0.8888888888888888,\"#fdca26\"],[1.0,\"#f0f921\"]]}],\"surface\":[{\"type\":\"surface\",\"colorbar\":{\"outlinewidth\":0,\"ticks\":\"\"},\"colorscale\":[[0.0,\"#0d0887\"],[0.1111111111111111,\"#46039f\"],[0.2222222222222222,\"#7201a8\"],[0.3333333333333333,\"#9c179e\"],[0.4444444444444444,\"#bd3786\"],[0.5555555555555556,\"#d8576b\"],[0.6666666666666666,\"#ed7953\"],[0.7777777777777778,\"#fb9f3a\"],[0.8888888888888888,\"#fdca26\"],[1.0,\"#f0f921\"]]}],\"mesh3d\":[{\"type\":\"mesh3d\",\"colorbar\":{\"outlinewidth\":0,\"ticks\":\"\"}}],\"scatter\":[{\"fillpattern\":{\"fillmode\":\"overlay\",\"size\":10,\"solidity\":0.2},\"type\":\"scatter\"}],\"parcoords\":[{\"type\":\"parcoords\",\"line\":{\"colorbar\":{\"outlinewidth\":0,\"ticks\":\"\"}}}],\"scatterpolargl\":[{\"type\":\"scatterpolargl\",\"marker\":{\"colorbar\":{\"outlinewidth\":0,\"ticks\":\"\"}}}],\"bar\":[{\"error_x\":{\"color\":\"#2a3f5f\"},\"error_y\":{\"color\":\"#2a3f5f\"},\"marker\":{\"line\":{\"color\":\"#E5ECF6\",\"width\":0.5},\"pattern\":{\"fillmode\":\"overlay\",\"size\":10,\"solidity\":0.2}},\"type\":\"bar\"}],\"scattergeo\":[{\"type\":\"scattergeo\",\"marker\":{\"colorbar\":{\"outlinewidth\":0,\"ticks\":\"\"}}}],\"scatterpolar\":[{\"type\":\"scatterpolar\",\"marker\":{\"colorbar\":{\"outlinewidth\":0,\"ticks\":\"\"}}}],\"histogram\":[{\"marker\":{\"pattern\":{\"fillmode\":\"overlay\",\"size\":10,\"solidity\":0.2}},\"type\":\"histogram\"}],\"scattergl\":[{\"type\":\"scattergl\",\"marker\":{\"colorbar\":{\"outlinewidth\":0,\"ticks\":\"\"}}}],\"scatter3d\":[{\"type\":\"scatter3d\",\"line\":{\"colorbar\":{\"outlinewidth\":0,\"ticks\":\"\"}},\"marker\":{\"colorbar\":{\"outlinewidth\":0,\"ticks\":\"\"}}}],\"scattermapbox\":[{\"type\":\"scattermapbox\",\"marker\":{\"colorbar\":{\"outlinewidth\":0,\"ticks\":\"\"}}}],\"scatterternary\":[{\"type\":\"scatterternary\",\"marker\":{\"colorbar\":{\"outlinewidth\":0,\"ticks\":\"\"}}}],\"scattercarpet\":[{\"type\":\"scattercarpet\",\"marker\":{\"colorbar\":{\"outlinewidth\":0,\"ticks\":\"\"}}}],\"carpet\":[{\"aaxis\":{\"endlinecolor\":\"#2a3f5f\",\"gridcolor\":\"white\",\"linecolor\":\"white\",\"minorgridcolor\":\"white\",\"startlinecolor\":\"#2a3f5f\"},\"baxis\":{\"endlinecolor\":\"#2a3f5f\",\"gridcolor\":\"white\",\"linecolor\":\"white\",\"minorgridcolor\":\"white\",\"startlinecolor\":\"#2a3f5f\"},\"type\":\"carpet\"}],\"table\":[{\"cells\":{\"fill\":{\"color\":\"#EBF0F8\"},\"line\":{\"color\":\"white\"}},\"header\":{\"fill\":{\"color\":\"#C8D4E3\"},\"line\":{\"color\":\"white\"}},\"type\":\"table\"}],\"barpolar\":[{\"marker\":{\"line\":{\"color\":\"#E5ECF6\",\"width\":0.5},\"pattern\":{\"fillmode\":\"overlay\",\"size\":10,\"solidity\":0.2}},\"type\":\"barpolar\"}],\"pie\":[{\"automargin\":true,\"type\":\"pie\"}]},\"layout\":{\"autotypenumbers\":\"strict\",\"colorway\":[\"#636efa\",\"#EF553B\",\"#00cc96\",\"#ab63fa\",\"#FFA15A\",\"#19d3f3\",\"#FF6692\",\"#B6E880\",\"#FF97FF\",\"#FECB52\"],\"font\":{\"color\":\"#2a3f5f\"},\"hovermode\":\"closest\",\"hoverlabel\":{\"align\":\"left\"},\"paper_bgcolor\":\"white\",\"plot_bgcolor\":\"#E5ECF6\",\"polar\":{\"bgcolor\":\"#E5ECF6\",\"angularaxis\":{\"gridcolor\":\"white\",\"linecolor\":\"white\",\"ticks\":\"\"},\"radialaxis\":{\"gridcolor\":\"white\",\"linecolor\":\"white\",\"ticks\":\"\"}},\"ternary\":{\"bgcolor\":\"#E5ECF6\",\"aaxis\":{\"gridcolor\":\"white\",\"linecolor\":\"white\",\"ticks\":\"\"},\"baxis\":{\"gridcolor\":\"white\",\"linecolor\":\"white\",\"ticks\":\"\"},\"caxis\":{\"gridcolor\":\"white\",\"linecolor\":\"white\",\"ticks\":\"\"}},\"coloraxis\":{\"colorbar\":{\"outlinewidth\":0,\"ticks\":\"\"}},\"colorscale\":{\"sequential\":[[0.0,\"#0d0887\"],[0.1111111111111111,\"#46039f\"],[0.2222222222222222,\"#7201a8\"],[0.3333333333333333,\"#9c179e\"],[0.4444444444444444,\"#bd3786\"],[0.5555555555555556,\"#d8576b\"],[0.6666666666666666,\"#ed7953\"],[0.7777777777777778,\"#fb9f3a\"],[0.8888888888888888,\"#fdca26\"],[1.0,\"#f0f921\"]],\"sequentialminus\":[[0.0,\"#0d0887\"],[0.1111111111111111,\"#46039f\"],[0.2222222222222222,\"#7201a8\"],[0.3333333333333333,\"#9c179e\"],[0.4444444444444444,\"#bd3786\"],[0.5555555555555556,\"#d8576b\"],[0.6666666666666666,\"#ed7953\"],[0.7777777777777778,\"#fb9f3a\"],[0.8888888888888888,\"#fdca26\"],[1.0,\"#f0f921\"]],\"diverging\":[[0,\"#8e0152\"],[0.1,\"#c51b7d\"],[0.2,\"#de77ae\"],[0.3,\"#f1b6da\"],[0.4,\"#fde0ef\"],[0.5,\"#f7f7f7\"],[0.6,\"#e6f5d0\"],[0.7,\"#b8e186\"],[0.8,\"#7fbc41\"],[0.9,\"#4d9221\"],[1,\"#276419\"]]},\"xaxis\":{\"gridcolor\":\"white\",\"linecolor\":\"white\",\"ticks\":\"\",\"title\":{\"standoff\":15},\"zerolinecolor\":\"white\",\"automargin\":true,\"zerolinewidth\":2},\"yaxis\":{\"gridcolor\":\"white\",\"linecolor\":\"white\",\"ticks\":\"\",\"title\":{\"standoff\":15},\"zerolinecolor\":\"white\",\"automargin\":true,\"zerolinewidth\":2},\"scene\":{\"xaxis\":{\"backgroundcolor\":\"#E5ECF6\",\"gridcolor\":\"white\",\"linecolor\":\"white\",\"showbackground\":true,\"ticks\":\"\",\"zerolinecolor\":\"white\",\"gridwidth\":2},\"yaxis\":{\"backgroundcolor\":\"#E5ECF6\",\"gridcolor\":\"white\",\"linecolor\":\"white\",\"showbackground\":true,\"ticks\":\"\",\"zerolinecolor\":\"white\",\"gridwidth\":2},\"zaxis\":{\"backgroundcolor\":\"#E5ECF6\",\"gridcolor\":\"white\",\"linecolor\":\"white\",\"showbackground\":true,\"ticks\":\"\",\"zerolinecolor\":\"white\",\"gridwidth\":2}},\"shapedefaults\":{\"line\":{\"color\":\"#2a3f5f\"}},\"annotationdefaults\":{\"arrowcolor\":\"#2a3f5f\",\"arrowhead\":0,\"arrowwidth\":1},\"geo\":{\"bgcolor\":\"white\",\"landcolor\":\"#E5ECF6\",\"subunitcolor\":\"white\",\"showland\":true,\"showlakes\":true,\"lakecolor\":\"white\"},\"title\":{\"x\":0.05},\"mapbox\":{\"style\":\"light\"}}},\"font\":{\"size\":14,\"family\":\"TimesNewRoman\"},\"margin\":{\"l\":20,\"r\":20,\"t\":50,\"b\":20},\"title\":{\"text\":\"Employee Development Strategy\"},\"xaxis\":{\"title\":{\"text\":\"Department\"}},\"yaxis\":{\"title\":{\"text\":\"Job Role\"}},\"plot_bgcolor\":\"#F7F7F7\",\"paper_bgcolor\":\"#F7F7F7\"},                        {\"responsive\": true}                    ).then(function(){\n",
       "                            \n",
       "var gd = document.getElementById('fd50550e-4fd1-4061-9722-84928f9a424f');\n",
       "var x = new MutationObserver(function (mutations, observer) {{\n",
       "        var display = window.getComputedStyle(gd).display;\n",
       "        if (!display || display === 'none') {{\n",
       "            console.log([gd, 'removed!']);\n",
       "            Plotly.purge(gd);\n",
       "            observer.disconnect();\n",
       "        }}\n",
       "}});\n",
       "\n",
       "// Listen for the removal of the full notebook cells\n",
       "var notebookContainer = gd.closest('#notebook-container');\n",
       "if (notebookContainer) {{\n",
       "    x.observe(notebookContainer, {childList: true});\n",
       "}}\n",
       "\n",
       "// Listen for the clearing of the current output cell\n",
       "var outputEl = gd.closest('.output');\n",
       "if (outputEl) {{\n",
       "    x.observe(outputEl, {childList: true});\n",
       "}}\n",
       "\n",
       "                        })                };                });            </script>        </div>"
      ]
     },
     "metadata": {},
     "output_type": "display_data"
    }
   ],
   "source": [
    "pivot_df = df.pivot_table(index='JobRole', columns='Department', values='YearsAtCompany', aggfunc='mean')\n",
    "\n",
    "fig = go.Figure(data=go.Heatmap(z=pivot_df.values.tolist(), \n",
    "                                x=pivot_df.columns.tolist(), \n",
    "                                y=pivot_df.index.tolist(), \n",
    "                                colorscale='Viridis',\n",
    "                                hovertemplate=\"<b>Job Role:</b> %{y}<br><b>Department:</b> %{x}<br><b>Average Years at Company:</b> %{z:.2f} years\"\n",
    "))\n",
    "\n",
    "fig.update_layout(\n",
    "    title='Employee Development Strategy',\n",
    "    xaxis_title='Department',\n",
    "    yaxis_title='Job Role',\n",
    "    font_size=14,\n",
    "    font_family='TimesNewRoman',\n",
    "    plot_bgcolor='#F7F7F7',\n",
    "    paper_bgcolor='#F7F7F7',\n",
    "    margin=dict(l=20, r=20, t=50, b=20)\n",
    ")\n",
    "\n",
    "fig.show()"
   ]
  }
 ],
 "metadata": {
  "kaggle": {
   "accelerator": "none",
   "dataSources": [
    {
     "datasetId": 1067,
     "sourceId": 1925,
     "sourceType": "datasetVersion"
    }
   ],
   "dockerImageVersionId": 30698,
   "isGpuEnabled": false,
   "isInternetEnabled": true,
   "language": "python",
   "sourceType": "notebook"
  },
  "kernelspec": {
   "display_name": "Python 3",
   "language": "python",
   "name": "python3"
  },
  "language_info": {
   "codemirror_mode": {
    "name": "ipython",
    "version": 3
   },
   "file_extension": ".py",
   "mimetype": "text/x-python",
   "name": "python",
   "nbconvert_exporter": "python",
   "pygments_lexer": "ipython3",
   "version": "3.10.13"
  },
  "papermill": {
   "default_parameters": {},
   "duration": 17.055405,
   "end_time": "2024-04-28T09:12:02.768949",
   "environment_variables": {},
   "exception": null,
   "input_path": "__notebook__.ipynb",
   "output_path": "__notebook__.ipynb",
   "parameters": {},
   "start_time": "2024-04-28T09:11:45.713544",
   "version": "2.5.0"
  }
 },
 "nbformat": 4,
 "nbformat_minor": 5
}
