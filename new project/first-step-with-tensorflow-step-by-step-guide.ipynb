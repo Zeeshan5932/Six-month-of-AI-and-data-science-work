{
 "cells": [
  {
   "cell_type": "markdown",
   "id": "5a2172c6",
   "metadata": {
    "papermill": {
     "duration": 0.013899,
     "end_time": "2024-05-26T17:58:53.346998",
     "exception": false,
     "start_time": "2024-05-26T17:58:53.333099",
     "status": "completed"
    },
    "tags": []
   },
   "source": [
    "<a id = \"1\"></a>\n",
    "<h1 style=\"padding:10px;background-color:rgb(70, 130, 180);opacity: 0.8;margin:0;color:white;font-family:calibri; font-size:200%;text-align:center;border-radius: 30px 50px;overflow:hidden;font-weight:500\">TensorFlow Mastery Guide</h1>"
   ]
  },
  {
   "cell_type": "markdown",
   "id": "e2dfae5a",
   "metadata": {
    "papermill": {
     "duration": 0.012844,
     "end_time": "2024-05-26T17:58:53.373065",
     "exception": false,
     "start_time": "2024-05-26T17:58:53.360221",
     "status": "completed"
    },
    "tags": []
   },
   "source": [
    "Welcome to this comprehensive guide to mastering TensorFlow on Kaggle! This notebook is designed for beginners and will take you from the basics to advanced topics in TensorFlow, helping you to efficiently utilize TensorFlow principles in your Kaggle projects."
   ]
  },
  {
   "cell_type": "markdown",
   "id": "0e6b899f",
   "metadata": {
    "papermill": {
     "duration": 0.012805,
     "end_time": "2024-05-26T17:58:53.398967",
     "exception": false,
     "start_time": "2024-05-26T17:58:53.386162",
     "status": "completed"
    },
    "tags": []
   },
   "source": [
    "If you found this TensorFlow guide helpful and informative, please consider upvoting it, Your upvote helps others discover useful resources like this and supports me in creating more content."
   ]
  },
  {
   "cell_type": "markdown",
   "id": "aaa9c55f",
   "metadata": {
    "papermill": {
     "duration": 0.014072,
     "end_time": "2024-05-26T17:58:53.427611",
     "exception": false,
     "start_time": "2024-05-26T17:58:53.413539",
     "status": "completed"
    },
    "tags": []
   },
   "source": [
    "<div class=\"inner_cell\">\n",
    "<div class=\"text_cell_render border-box-sizing rendered_html\">\n",
    "<div class=\"list-group\" id=\"list-tab\" role=\"tablist\">\n",
    "  <h3 class=\"list-group-item list-group-item-action active\" data-toggle=\"list\" role=\"tab\" aria-controls=\"home\" style = \"border:2px solid 'white';background-color:rgb(70, 130, 180)\n",
    ";opacity:0.8; color:white; font-family:Verdana;text-align: center; font-size:100%;\">Notebook Content</h3>\n",
    "  <a class=\"list-group-item list-group-item-action\" data-toggle=\"list\" href=\"#1\" role=\"tab\" aria-controls=\"profile\" target=\"_self\" style = \"color:grey; font-family:Verdana;text-align: left; font-size:100%;\"><b>Introduction to TensorFlow</b><span class=\"badge badge-primary badge-pill\">1</span></a>\n",
    "  <a class=\"list-group-item list-group-item-action\" data-toggle=\"list\" href=\"#2\" role=\"tab\" aria-controls=\"messages\" target=\"_self\" style = \"color:grey; font-family:Verdana;text-align: left; font-size:100%;\"><b>Setting Up TensorFlow</b><span class=\"badge badge-primary badge-pill\">2</span></a>\n",
    "  <a class=\"list-group-item list-group-item-action\" data-toggle=\"list\" href=\"#3\" role=\"tab\" aria-controls=\"settings\" target=\"_self\" style = \"color:grey; font-family:Verdana;text-align: left; font-size:100%;\"><b>Basic Concepts</b><span class=\"badge badge-primary badge-pill\">3</span></a>\n",
    "  <a class=\"list-group-item list-group-item-action\" data-toggle=\"list\" href=\"#3.1\" role=\"tab\" aria-controls=\"settings\" target=\"_self\" style = \"color:grey; font-family:Verdana;text-align: left; font-size:100%;\"></t>Tensors<span class=\"badge badge-primary badge-pill\">3.1</span></a> \n",
    "    <a class=\"list-group-item list-group-item-action\" data-toggle=\"list\" href=\"#3.2\" role=\"tab\" aria-controls=\"settings\" target=\"_self\" style = \"color:grey; font-family:Verdana;text-align: left; font-size:100%;\"></t>Operations<span class=\"badge badge-primary badge-pill\">3.2</span></a> \n",
    "        <a class=\"list-group-item list-group-item-action\" data-toggle=\"list\" href=\"#4\" role=\"tab\" aria-controls=\"settings\" target=\"_self\" style = \"color:grey; font-family:Verdana;text-align: left; font-size:100%;\"><b>Building Neural Networks with Keras</b><span class=\"badge badge-primary badge-pill\">4</span></a> \n",
    "        <a class=\"list-group-item list-group-item-action\" data-toggle=\"list\" href=\"#4.1\" role=\"tab\" aria-controls=\"settings\" target=\"_self\" style = \"color:grey; font-family:Verdana;text-align: left; font-size:100%;\"></t>Sequential API<span class=\"badge badge-primary badge-pill\">4.1</span></a> \n",
    "        <a class=\"list-group-item list-group-item-action\" data-toggle=\"list\" href=\"#4.2\" role=\"tab\" aria-controls=\"settings\" target=\"_self\" style = \"color:grey; font-family:Verdana;text-align: left; font-size:100%;\"></t>Functional API<span class=\"badge badge-primary badge-pill\">4.2</span></a> \n",
    "        <a class=\"list-group-item list-group-item-action\" data-toggle=\"list\" href=\"#5\" role=\"tab\" aria-controls=\"settings\" target=\"_self\" style = \"color:grey; font-family:Verdana;text-align: left; font-size:100%;\"><b>Training and Evaluation</b><span class=\"badge badge-primary badge-pill\">5</span></a> \n",
    "        <a class=\"list-group-item list-group-item-action\" data-toggle=\"list\" href=\"#5.1\" role=\"tab\" aria-controls=\"settings\" target=\"_self\" style = \"color:grey; font-family:Verdana;text-align: left; font-size:100%;\"></t>Compiling Models<span class=\"badge badge-primary badge-pill\">5.1</span></a> \n",
    "        <a class=\"list-group-item list-group-item-action\" data-toggle=\"list\" href=\"#5.2\" role=\"tab\" aria-controls=\"settings\" target=\"_self\" style = \"color:grey; font-family:Verdana;text-align: left; font-size:100%;\"></t>Training Models<span class=\"badge badge-primary badge-pill\">5.2</span></a> \n",
    "        <a class=\"list-group-item list-group-item-action\" data-toggle=\"list\" href=\"#5.3\" role=\"tab\" aria-controls=\"settings\" target=\"_self\" style = \"color:grey; font-family:Verdana;text-align: left; font-size:100%;\"></t>Evaluating Models<span class=\"badge badge-primary badge-pill\">5.3</span></a> \n",
    "          <a class=\"list-group-item list-group-item-action\" data-toggle=\"list\" href=\"#6\" role=\"tab\" aria-controls=\"settings\" target=\"_self\" style = \"color:grey; font-family:Verdana;text-align: left; font-size:100%;\"><b>Advanced Topics</b><span class=\"badge badge-primary badge-pill\">6</span></a> \n",
    "      <a class=\"list-group-item list-group-item-action\" data-toggle=\"list\" href=\"#6.1\" role=\"tab\" aria-controls=\"settings\" target=\"_self\" style = \"color:grey; font-family:Verdana;text-align: left; font-size:100%;\"></t>Custom Layers and Models<span class=\"badge badge-primary badge-pill\">6.1</span></a> \n",
    "      <a class=\"list-group-item list-group-item-action\" data-toggle=\"list\" href=\"#6.2\" role=\"tab\" aria-controls=\"settings\" target=\"_self\" style = \"color:grey; font-family:Verdana;text-align: left; font-size:100%;\"></t>Callbacks<span class=\"badge badge-primary badge-pill\">6.2</span></a> \n",
    "    <a class=\"list-group-item list-group-item-action\" data-toggle=\"list\" href=\"#7\" role=\"tab\" aria-controls=\"settings\" target=\"_self\" style = \"color:grey; font-family:Verdana;text-align: left; font-size:100%;\"><b>Practical Kaggle Projects</b><span class=\"badge badge-primary badge-pill\">7</span></a> \n",
    "    <a class=\"list-group-item list-group-item-action\" data-toggle=\"list\" href=\"#7.1\" role=\"tab\" aria-controls=\"settings\" target=\"_self\" style = \"color:grey; font-family:Verdana;text-align: left; font-size:100%;\"></t>Project 1: Image Classification<span class=\"badge badge-primary badge-pill\">7.1</span></a> \n",
    "    <a class=\"list-group-item list-group-item-action\" data-toggle=\"list\" href=\"#7.2\" role=\"tab\" aria-controls=\"settings\" target=\"_self\" style = \"color:grey; font-family:Verdana;text-align: left; font-size:100%;\"></t>Project 2: Text Classification<span class=\"badge badge-primary badge-pill\">7.2</span></a> \n",
    "<a class=\"list-group-item list-group-item-action\" data-toggle=\"list\" href=\"#8\" role=\"tab\" aria-controls=\"settings\" target=\"_self\" style = \"color:grey; font-family:Verdana;text-align: left; font-size:100%;\"><b>Conclusion</b><span class=\"badge badge-primary badge-pill\">8</span></a>\n",
    "</div>\n",
    "</div>\n",
    "</div>\n"
   ]
  },
  {
   "cell_type": "markdown",
   "id": "fdbb44af",
   "metadata": {
    "papermill": {
     "duration": 0.012893,
     "end_time": "2024-05-26T17:58:53.453643",
     "exception": false,
     "start_time": "2024-05-26T17:58:53.440750",
     "status": "completed"
    },
    "tags": []
   },
   "source": [
    "<a id = \"1\"></a>\n",
    "<h1 style=\"padding:10px;background-color:rgb(152, 255, 152);opacity: 0.8;margin:0;color:black;font-family:courier; font-size:200%;text-align:center;border-radius: 30px 50px;overflow:hidden;font-weight:500\">1.Introduction to TensorFlow</h1>"
   ]
  },
  {
   "cell_type": "markdown",
   "id": "368baf0b",
   "metadata": {
    "papermill": {
     "duration": 0.012741,
     "end_time": "2024-05-26T17:58:53.479611",
     "exception": false,
     "start_time": "2024-05-26T17:58:53.466870",
     "status": "completed"
    },
    "tags": []
   },
   "source": [
    "TensorFlow is an open-source deep learning framework developed by Google.<br> It's widely used for machine learning tasks such as neural networks and can run on multiple CPUs and GPUs."
   ]
  },
  {
   "cell_type": "markdown",
   "id": "5a6b7db1",
   "metadata": {
    "papermill": {
     "duration": 0.012932,
     "end_time": "2024-05-26T17:58:53.505631",
     "exception": false,
     "start_time": "2024-05-26T17:58:53.492699",
     "status": "completed"
    },
    "tags": []
   },
   "source": [
    "<a id = \"2\"></a>\n",
    "<h1 style=\"padding:10px;background-color:rgb(152, 255, 152);opacity: 0.8;margin:0;color:black;font-family:courier; font-size:200%;text-align:center;border-radius: 30px 50px;overflow:hidden;font-weight:500\">2.Setting Up TensorFlow</h1>"
   ]
  },
  {
   "cell_type": "markdown",
   "id": "10f52697",
   "metadata": {
    "papermill": {
     "duration": 0.012834,
     "end_time": "2024-05-26T17:58:53.531625",
     "exception": false,
     "start_time": "2024-05-26T17:58:53.518791",
     "status": "completed"
    },
    "tags": []
   },
   "source": [
    "Kaggle kernels come pre-installed with TensorFlow. You can check the version of TensorFlow installed by running the following code:"
   ]
  },
  {
   "cell_type": "code",
   "execution_count": 1,
   "id": "47161032",
   "metadata": {
    "execution": {
     "iopub.execute_input": "2024-05-26T17:58:53.560370Z",
     "iopub.status.busy": "2024-05-26T17:58:53.559890Z",
     "iopub.status.idle": "2024-05-26T17:59:09.947026Z",
     "shell.execute_reply": "2024-05-26T17:59:09.945435Z"
    },
    "papermill": {
     "duration": 16.40571,
     "end_time": "2024-05-26T17:59:09.950547",
     "exception": false,
     "start_time": "2024-05-26T17:58:53.544837",
     "status": "completed"
    },
    "tags": []
   },
   "outputs": [
    {
     "name": "stderr",
     "output_type": "stream",
     "text": [
      "2024-05-26 17:58:55.968950: E external/local_xla/xla/stream_executor/cuda/cuda_dnn.cc:9261] Unable to register cuDNN factory: Attempting to register factory for plugin cuDNN when one has already been registered\n",
      "2024-05-26 17:58:55.969136: E external/local_xla/xla/stream_executor/cuda/cuda_fft.cc:607] Unable to register cuFFT factory: Attempting to register factory for plugin cuFFT when one has already been registered\n",
      "2024-05-26 17:58:56.141486: E external/local_xla/xla/stream_executor/cuda/cuda_blas.cc:1515] Unable to register cuBLAS factory: Attempting to register factory for plugin cuBLAS when one has already been registered\n"
     ]
    },
    {
     "name": "stdout",
     "output_type": "stream",
     "text": [
      "2.15.0\n"
     ]
    }
   ],
   "source": [
    "import tensorflow as tf\n",
    "print(tf.__version__)"
   ]
  },
  {
   "cell_type": "markdown",
   "id": "ea375d91",
   "metadata": {
    "papermill": {
     "duration": 0.013326,
     "end_time": "2024-05-26T17:59:09.977777",
     "exception": false,
     "start_time": "2024-05-26T17:59:09.964451",
     "status": "completed"
    },
    "tags": []
   },
   "source": [
    "<a id = \"3\"></a>\n",
    "<h1 style=\"padding:10px;background-color:rgb(152, 255, 152);opacity: 0.8;margin:0;color:black;font-family:courier; font-size:200%;text-align:center;border-radius: 30px 50px;overflow:hidden;font-weight:500\">3.Basic Concepts</h1>"
   ]
  },
  {
   "cell_type": "markdown",
   "id": "d6e1add9",
   "metadata": {
    "papermill": {
     "duration": 0.013463,
     "end_time": "2024-05-26T17:59:10.004967",
     "exception": false,
     "start_time": "2024-05-26T17:59:09.991504",
     "status": "completed"
    },
    "tags": []
   },
   "source": [
    "<a id=\"3.1\"></a>\n",
    "<h2 style=\"display:inline-block;padding:5px 20px;background-color:rgb(152, 255, 152);opacity:0.8;margin:0;color:black;font-family:courier;font-size:150%;text-align:center;border-radius:15px 25px;overflow:hidden;font-weight:500\">3.1.Tensors</h2>\n"
   ]
  },
  {
   "cell_type": "markdown",
   "id": "eedca764",
   "metadata": {
    "papermill": {
     "duration": 0.013457,
     "end_time": "2024-05-26T17:59:10.032097",
     "exception": false,
     "start_time": "2024-05-26T17:59:10.018640",
     "status": "completed"
    },
    "tags": []
   },
   "source": [
    "Tensors are the core data structure of TensorFlow. They are multi-dimensional arrays with a uniform type."
   ]
  },
  {
   "cell_type": "code",
   "execution_count": 2,
   "id": "d3486377",
   "metadata": {
    "execution": {
     "iopub.execute_input": "2024-05-26T17:59:10.061835Z",
     "iopub.status.busy": "2024-05-26T17:59:10.060983Z",
     "iopub.status.idle": "2024-05-26T17:59:10.104107Z",
     "shell.execute_reply": "2024-05-26T17:59:10.102807Z"
    },
    "papermill": {
     "duration": 0.061095,
     "end_time": "2024-05-26T17:59:10.106776",
     "exception": false,
     "start_time": "2024-05-26T17:59:10.045681",
     "status": "completed"
    },
    "tags": []
   },
   "outputs": [
    {
     "name": "stdout",
     "output_type": "stream",
     "text": [
      "Scalar: tf.Tensor(7, shape=(), dtype=int32)\n",
      "--------------------\n",
      "Vector: tf.Tensor([10 10], shape=(2,), dtype=int32)\n",
      "--------------------\n",
      "Matrix: tf.Tensor(\n",
      "[[1 2]\n",
      " [3 4]], shape=(2, 2), dtype=int32)\n",
      "--------------------\n",
      "Tensor: tf.Tensor(\n",
      "[[[ 1  2  3]\n",
      "  [ 4  5  6]]\n",
      "\n",
      " [[ 7  8  9]\n",
      "  [10 11 12]]], shape=(2, 2, 3), dtype=int32)\n"
     ]
    }
   ],
   "source": [
    "# Creating Tensors\n",
    "import tensorflow as tf\n",
    "\n",
    "# Scalar\n",
    "scalar = tf.constant(7)\n",
    "print(\"Scalar:\", scalar)\n",
    "print('-'*20)\n",
    "# Vector\n",
    "vector = tf.constant([10, 10])\n",
    "print(\"Vector:\", vector)\n",
    "print('-'*20)\n",
    "# Matrix\n",
    "matrix = tf.constant([[1, 2], [3, 4]])\n",
    "print(\"Matrix:\", matrix)\n",
    "print('-'*20)\n",
    "# Tensor\n",
    "tensor = tf.constant([[[1, 2, 3], [4, 5, 6]], [[7, 8, 9], [10, 11, 12]]])\n",
    "print(\"Tensor:\", tensor)"
   ]
  },
  {
   "cell_type": "markdown",
   "id": "e403c6df",
   "metadata": {
    "papermill": {
     "duration": 0.013443,
     "end_time": "2024-05-26T17:59:10.133990",
     "exception": false,
     "start_time": "2024-05-26T17:59:10.120547",
     "status": "completed"
    },
    "tags": []
   },
   "source": [
    "<a id=\"3.2\"></a>\n",
    "<h2 style=\"display:inline-block;padding:5px 20px;background-color:rgb(152, 255, 152);opacity:0.8;margin:0;color:black;font-family:courier;font-size:150%;text-align:center;border-radius:15px 25px;overflow:hidden;font-weight:500\">3.2. Operations</h2>\n"
   ]
  },
  {
   "cell_type": "markdown",
   "id": "606fb518",
   "metadata": {
    "papermill": {
     "duration": 0.013418,
     "end_time": "2024-05-26T17:59:10.161525",
     "exception": false,
     "start_time": "2024-05-26T17:59:10.148107",
     "status": "completed"
    },
    "tags": []
   },
   "source": [
    "TensorFlow provides a rich set of operations for manipulating tensors."
   ]
  },
  {
   "cell_type": "code",
   "execution_count": 3,
   "id": "00cc30ce",
   "metadata": {
    "execution": {
     "iopub.execute_input": "2024-05-26T17:59:10.192833Z",
     "iopub.status.busy": "2024-05-26T17:59:10.191730Z",
     "iopub.status.idle": "2024-05-26T17:59:10.217731Z",
     "shell.execute_reply": "2024-05-26T17:59:10.216407Z"
    },
    "papermill": {
     "duration": 0.044663,
     "end_time": "2024-05-26T17:59:10.220679",
     "exception": false,
     "start_time": "2024-05-26T17:59:10.176016",
     "status": "completed"
    },
    "tags": []
   },
   "outputs": [
    {
     "name": "stdout",
     "output_type": "stream",
     "text": [
      "Addition:\n",
      " tf.Tensor(\n",
      "[[ 6  8]\n",
      " [10 12]], shape=(2, 2), dtype=int32)\n",
      "--------------------\n",
      "Multiplication:\n",
      " tf.Tensor(\n",
      "[[19 22]\n",
      " [43 50]], shape=(2, 2), dtype=int32)\n",
      "--------------------\n",
      "Element-wise multiplication:\n",
      " tf.Tensor(\n",
      "[[ 5 12]\n",
      " [21 32]], shape=(2, 2), dtype=int32)\n"
     ]
    }
   ],
   "source": [
    "a = tf.constant([[1, 2], [3, 4]])\n",
    "b = tf.constant([[5, 6], [7, 8]])\n",
    "\n",
    "# Addition\n",
    "add = tf.add(a, b)\n",
    "print(\"Addition:\\n\", add)\n",
    "print('-'*20)\n",
    "# Multiplication\n",
    "mul = tf.matmul(a, b)\n",
    "print(\"Multiplication:\\n\", mul)\n",
    "print('-'*20)\n",
    "# Element-wise multiplication\n",
    "element_wise_mul = tf.multiply(a, b)\n",
    "print(\"Element-wise multiplication:\\n\", element_wise_mul)\n"
   ]
  },
  {
   "cell_type": "markdown",
   "id": "ece3ddc9",
   "metadata": {
    "papermill": {
     "duration": 0.013507,
     "end_time": "2024-05-26T17:59:10.249034",
     "exception": false,
     "start_time": "2024-05-26T17:59:10.235527",
     "status": "completed"
    },
    "tags": []
   },
   "source": [
    "<a id = \"4\"></a>\n",
    "<h1 style=\"padding:10px;background-color:rgb(152, 255, 152);opacity: 0.8;margin:0;color:black;font-family:courier; font-size:200%;text-align:center;border-radius: 30px 50px;overflow:hidden;font-weight:500\">4.Building Neural Networks with Keras</h1>"
   ]
  },
  {
   "cell_type": "markdown",
   "id": "1c2f863f",
   "metadata": {
    "papermill": {
     "duration": 0.013055,
     "end_time": "2024-05-26T17:59:10.275632",
     "exception": false,
     "start_time": "2024-05-26T17:59:10.262577",
     "status": "completed"
    },
    "tags": []
   },
   "source": [
    "Keras is TensorFlow's high-level API for building and training deep learning models."
   ]
  },
  {
   "cell_type": "markdown",
   "id": "2f0dc827",
   "metadata": {
    "papermill": {
     "duration": 0.013176,
     "end_time": "2024-05-26T17:59:10.302419",
     "exception": false,
     "start_time": "2024-05-26T17:59:10.289243",
     "status": "completed"
    },
    "tags": []
   },
   "source": [
    "<a id=\"4.1\"></a>\n",
    "<h2 style=\"display:inline-block;padding:5px 20px;background-color:rgb(152, 255, 152);opacity:0.8;margin:0;color:black;font-family:courier;font-size:150%;text-align:center;border-radius:15px 25px;overflow:hidden;font-weight:500\">4.1. Sequential API</h2>\n"
   ]
  },
  {
   "cell_type": "markdown",
   "id": "bc5d8c7e",
   "metadata": {
    "papermill": {
     "duration": 0.013067,
     "end_time": "2024-05-26T17:59:10.329011",
     "exception": false,
     "start_time": "2024-05-26T17:59:10.315944",
     "status": "completed"
    },
    "tags": []
   },
   "source": [
    "<b>Sequential API:</b><br>\n",
    "The Sequential API is a simple and straightforward way to build models in Keras. It allows you to create models layer-by-layer in a linear stack. This is best suited for plain stacks of layers where each layer has exactly one input tensor and one output tensor.<br>\n",
    "<b>Key Points:</b><br>\n",
    "* Ease of use: Very easy to use for simple, linear architectures.<br>\n",
    "* Layer-by-layer construction: Layers are added sequentially.<br>\n",
    "* Limitation: Not suitable for models with complex topologies (e.g., multi-input, multi-output models, or layers sharing outputs)."
   ]
  },
  {
   "cell_type": "code",
   "execution_count": 4,
   "id": "2429a9fe",
   "metadata": {
    "execution": {
     "iopub.execute_input": "2024-05-26T17:59:10.359633Z",
     "iopub.status.busy": "2024-05-26T17:59:10.358800Z",
     "iopub.status.idle": "2024-05-26T17:59:10.445215Z",
     "shell.execute_reply": "2024-05-26T17:59:10.444058Z"
    },
    "papermill": {
     "duration": 0.105072,
     "end_time": "2024-05-26T17:59:10.447742",
     "exception": false,
     "start_time": "2024-05-26T17:59:10.342670",
     "status": "completed"
    },
    "tags": []
   },
   "outputs": [
    {
     "name": "stderr",
     "output_type": "stream",
     "text": [
      "/opt/conda/lib/python3.10/site-packages/keras/src/layers/core/dense.py:86: UserWarning: Do not pass an `input_shape`/`input_dim` argument to a layer. When using Sequential models, prefer using an `Input(shape)` object as the first layer in the model instead.\n",
      "  super().__init__(activity_regularizer=activity_regularizer, **kwargs)\n"
     ]
    },
    {
     "data": {
      "text/html": [
       "<pre style=\"white-space:pre;overflow-x:auto;line-height:normal;font-family:Menlo,'DejaVu Sans Mono',consolas,'Courier New',monospace\"><span style=\"font-weight: bold\">Model: \"sequential\"</span>\n",
       "</pre>\n"
      ],
      "text/plain": [
       "\u001b[1mModel: \"sequential\"\u001b[0m\n"
      ]
     },
     "metadata": {},
     "output_type": "display_data"
    },
    {
     "data": {
      "text/html": [
       "<pre style=\"white-space:pre;overflow-x:auto;line-height:normal;font-family:Menlo,'DejaVu Sans Mono',consolas,'Courier New',monospace\">┏━━━━━━━━━━━━━━━━━━━━━━━━━━━━━━━━━┳━━━━━━━━━━━━━━━━━━━━━━━━┳━━━━━━━━━━━━━━━┓\n",
       "┃<span style=\"font-weight: bold\"> Layer (type)                    </span>┃<span style=\"font-weight: bold\"> Output Shape           </span>┃<span style=\"font-weight: bold\">       Param # </span>┃\n",
       "┡━━━━━━━━━━━━━━━━━━━━━━━━━━━━━━━━━╇━━━━━━━━━━━━━━━━━━━━━━━━╇━━━━━━━━━━━━━━━┩\n",
       "│ dense (<span style=\"color: #0087ff; text-decoration-color: #0087ff\">Dense</span>)                   │ (<span style=\"color: #00d7ff; text-decoration-color: #00d7ff\">None</span>, <span style=\"color: #00af00; text-decoration-color: #00af00\">128</span>)            │       <span style=\"color: #00af00; text-decoration-color: #00af00\">100,480</span> │\n",
       "├─────────────────────────────────┼────────────────────────┼───────────────┤\n",
       "│ dense_1 (<span style=\"color: #0087ff; text-decoration-color: #0087ff\">Dense</span>)                 │ (<span style=\"color: #00d7ff; text-decoration-color: #00d7ff\">None</span>, <span style=\"color: #00af00; text-decoration-color: #00af00\">64</span>)             │         <span style=\"color: #00af00; text-decoration-color: #00af00\">8,256</span> │\n",
       "├─────────────────────────────────┼────────────────────────┼───────────────┤\n",
       "│ dense_2 (<span style=\"color: #0087ff; text-decoration-color: #0087ff\">Dense</span>)                 │ (<span style=\"color: #00d7ff; text-decoration-color: #00d7ff\">None</span>, <span style=\"color: #00af00; text-decoration-color: #00af00\">10</span>)             │           <span style=\"color: #00af00; text-decoration-color: #00af00\">650</span> │\n",
       "└─────────────────────────────────┴────────────────────────┴───────────────┘\n",
       "</pre>\n"
      ],
      "text/plain": [
       "┏━━━━━━━━━━━━━━━━━━━━━━━━━━━━━━━━━┳━━━━━━━━━━━━━━━━━━━━━━━━┳━━━━━━━━━━━━━━━┓\n",
       "┃\u001b[1m \u001b[0m\u001b[1mLayer (type)                   \u001b[0m\u001b[1m \u001b[0m┃\u001b[1m \u001b[0m\u001b[1mOutput Shape          \u001b[0m\u001b[1m \u001b[0m┃\u001b[1m \u001b[0m\u001b[1m      Param #\u001b[0m\u001b[1m \u001b[0m┃\n",
       "┡━━━━━━━━━━━━━━━━━━━━━━━━━━━━━━━━━╇━━━━━━━━━━━━━━━━━━━━━━━━╇━━━━━━━━━━━━━━━┩\n",
       "│ dense (\u001b[38;5;33mDense\u001b[0m)                   │ (\u001b[38;5;45mNone\u001b[0m, \u001b[38;5;34m128\u001b[0m)            │       \u001b[38;5;34m100,480\u001b[0m │\n",
       "├─────────────────────────────────┼────────────────────────┼───────────────┤\n",
       "│ dense_1 (\u001b[38;5;33mDense\u001b[0m)                 │ (\u001b[38;5;45mNone\u001b[0m, \u001b[38;5;34m64\u001b[0m)             │         \u001b[38;5;34m8,256\u001b[0m │\n",
       "├─────────────────────────────────┼────────────────────────┼───────────────┤\n",
       "│ dense_2 (\u001b[38;5;33mDense\u001b[0m)                 │ (\u001b[38;5;45mNone\u001b[0m, \u001b[38;5;34m10\u001b[0m)             │           \u001b[38;5;34m650\u001b[0m │\n",
       "└─────────────────────────────────┴────────────────────────┴───────────────┘\n"
      ]
     },
     "metadata": {},
     "output_type": "display_data"
    },
    {
     "data": {
      "text/html": [
       "<pre style=\"white-space:pre;overflow-x:auto;line-height:normal;font-family:Menlo,'DejaVu Sans Mono',consolas,'Courier New',monospace\"><span style=\"font-weight: bold\"> Total params: </span><span style=\"color: #00af00; text-decoration-color: #00af00\">109,386</span> (427.29 KB)\n",
       "</pre>\n"
      ],
      "text/plain": [
       "\u001b[1m Total params: \u001b[0m\u001b[38;5;34m109,386\u001b[0m (427.29 KB)\n"
      ]
     },
     "metadata": {},
     "output_type": "display_data"
    },
    {
     "data": {
      "text/html": [
       "<pre style=\"white-space:pre;overflow-x:auto;line-height:normal;font-family:Menlo,'DejaVu Sans Mono',consolas,'Courier New',monospace\"><span style=\"font-weight: bold\"> Trainable params: </span><span style=\"color: #00af00; text-decoration-color: #00af00\">109,386</span> (427.29 KB)\n",
       "</pre>\n"
      ],
      "text/plain": [
       "\u001b[1m Trainable params: \u001b[0m\u001b[38;5;34m109,386\u001b[0m (427.29 KB)\n"
      ]
     },
     "metadata": {},
     "output_type": "display_data"
    },
    {
     "data": {
      "text/html": [
       "<pre style=\"white-space:pre;overflow-x:auto;line-height:normal;font-family:Menlo,'DejaVu Sans Mono',consolas,'Courier New',monospace\"><span style=\"font-weight: bold\"> Non-trainable params: </span><span style=\"color: #00af00; text-decoration-color: #00af00\">0</span> (0.00 B)\n",
       "</pre>\n"
      ],
      "text/plain": [
       "\u001b[1m Non-trainable params: \u001b[0m\u001b[38;5;34m0\u001b[0m (0.00 B)\n"
      ]
     },
     "metadata": {},
     "output_type": "display_data"
    }
   ],
   "source": [
    "from tensorflow.keras.models import Sequential\n",
    "from tensorflow.keras.layers import Dense\n",
    "\n",
    "model = Sequential([\n",
    "    Dense(128, activation='relu', input_shape=(784,)),\n",
    "    Dense(64, activation='relu'),\n",
    "    Dense(10, activation='softmax')\n",
    "])\n",
    "\n",
    "model.summary()"
   ]
  },
  {
   "cell_type": "markdown",
   "id": "d917aaa5",
   "metadata": {
    "papermill": {
     "duration": 0.014253,
     "end_time": "2024-05-26T17:59:10.476752",
     "exception": false,
     "start_time": "2024-05-26T17:59:10.462499",
     "status": "completed"
    },
    "tags": []
   },
   "source": [
    "<a id=\"4.2\"></a>\n",
    "<h2 style=\"display:inline-block;padding:5px 20px;background-color:rgb(152, 255, 152);opacity:0.8;margin:0;color:black;font-family:courier;font-size:150%;text-align:center;border-radius:15px 25px;overflow:hidden;font-weight:500\">4.2.Functional API</h2>\n"
   ]
  },
  {
   "cell_type": "markdown",
   "id": "f4635b7c",
   "metadata": {
    "papermill": {
     "duration": 0.014296,
     "end_time": "2024-05-26T17:59:10.507217",
     "exception": false,
     "start_time": "2024-05-26T17:59:10.492921",
     "status": "completed"
    },
    "tags": []
   },
   "source": [
    "<b>Functional API:</b><br>\n",
    "The Functional API provides a more flexible way to build models, allowing for the creation of complex architectures such as multi-input, multi-output models, directed acyclic graphs, and models with shared layers.<br>\n",
    "\n",
    "<b>Key Points:</b><br>\n",
    "* Flexibility: Can handle complex model architectures.<br>\n",
    "* Graph-like construction: Models are built as a graph of layers.<br>\n",
    "* Reusability: Layers can be reused multiple times."
   ]
  },
  {
   "cell_type": "code",
   "execution_count": 5,
   "id": "874debe3",
   "metadata": {
    "execution": {
     "iopub.execute_input": "2024-05-26T17:59:10.538749Z",
     "iopub.status.busy": "2024-05-26T17:59:10.537889Z",
     "iopub.status.idle": "2024-05-26T17:59:10.593213Z",
     "shell.execute_reply": "2024-05-26T17:59:10.591864Z"
    },
    "papermill": {
     "duration": 0.074712,
     "end_time": "2024-05-26T17:59:10.596376",
     "exception": false,
     "start_time": "2024-05-26T17:59:10.521664",
     "status": "completed"
    },
    "tags": []
   },
   "outputs": [
    {
     "data": {
      "text/html": [
       "<pre style=\"white-space:pre;overflow-x:auto;line-height:normal;font-family:Menlo,'DejaVu Sans Mono',consolas,'Courier New',monospace\"><span style=\"font-weight: bold\">Model: \"functional_2\"</span>\n",
       "</pre>\n"
      ],
      "text/plain": [
       "\u001b[1mModel: \"functional_2\"\u001b[0m\n"
      ]
     },
     "metadata": {},
     "output_type": "display_data"
    },
    {
     "data": {
      "text/html": [
       "<pre style=\"white-space:pre;overflow-x:auto;line-height:normal;font-family:Menlo,'DejaVu Sans Mono',consolas,'Courier New',monospace\">┏━━━━━━━━━━━━━━━━━━━━━━━━━━━━━━━━━┳━━━━━━━━━━━━━━━━━━━━━━━━┳━━━━━━━━━━━━━━━┓\n",
       "┃<span style=\"font-weight: bold\"> Layer (type)                    </span>┃<span style=\"font-weight: bold\"> Output Shape           </span>┃<span style=\"font-weight: bold\">       Param # </span>┃\n",
       "┡━━━━━━━━━━━━━━━━━━━━━━━━━━━━━━━━━╇━━━━━━━━━━━━━━━━━━━━━━━━╇━━━━━━━━━━━━━━━┩\n",
       "│ input_layer_1 (<span style=\"color: #0087ff; text-decoration-color: #0087ff\">InputLayer</span>)      │ (<span style=\"color: #00d7ff; text-decoration-color: #00d7ff\">None</span>, <span style=\"color: #00af00; text-decoration-color: #00af00\">784</span>)            │             <span style=\"color: #00af00; text-decoration-color: #00af00\">0</span> │\n",
       "├─────────────────────────────────┼────────────────────────┼───────────────┤\n",
       "│ dense_3 (<span style=\"color: #0087ff; text-decoration-color: #0087ff\">Dense</span>)                 │ (<span style=\"color: #00d7ff; text-decoration-color: #00d7ff\">None</span>, <span style=\"color: #00af00; text-decoration-color: #00af00\">128</span>)            │       <span style=\"color: #00af00; text-decoration-color: #00af00\">100,480</span> │\n",
       "├─────────────────────────────────┼────────────────────────┼───────────────┤\n",
       "│ dense_4 (<span style=\"color: #0087ff; text-decoration-color: #0087ff\">Dense</span>)                 │ (<span style=\"color: #00d7ff; text-decoration-color: #00d7ff\">None</span>, <span style=\"color: #00af00; text-decoration-color: #00af00\">64</span>)             │         <span style=\"color: #00af00; text-decoration-color: #00af00\">8,256</span> │\n",
       "├─────────────────────────────────┼────────────────────────┼───────────────┤\n",
       "│ dense_5 (<span style=\"color: #0087ff; text-decoration-color: #0087ff\">Dense</span>)                 │ (<span style=\"color: #00d7ff; text-decoration-color: #00d7ff\">None</span>, <span style=\"color: #00af00; text-decoration-color: #00af00\">10</span>)             │           <span style=\"color: #00af00; text-decoration-color: #00af00\">650</span> │\n",
       "└─────────────────────────────────┴────────────────────────┴───────────────┘\n",
       "</pre>\n"
      ],
      "text/plain": [
       "┏━━━━━━━━━━━━━━━━━━━━━━━━━━━━━━━━━┳━━━━━━━━━━━━━━━━━━━━━━━━┳━━━━━━━━━━━━━━━┓\n",
       "┃\u001b[1m \u001b[0m\u001b[1mLayer (type)                   \u001b[0m\u001b[1m \u001b[0m┃\u001b[1m \u001b[0m\u001b[1mOutput Shape          \u001b[0m\u001b[1m \u001b[0m┃\u001b[1m \u001b[0m\u001b[1m      Param #\u001b[0m\u001b[1m \u001b[0m┃\n",
       "┡━━━━━━━━━━━━━━━━━━━━━━━━━━━━━━━━━╇━━━━━━━━━━━━━━━━━━━━━━━━╇━━━━━━━━━━━━━━━┩\n",
       "│ input_layer_1 (\u001b[38;5;33mInputLayer\u001b[0m)      │ (\u001b[38;5;45mNone\u001b[0m, \u001b[38;5;34m784\u001b[0m)            │             \u001b[38;5;34m0\u001b[0m │\n",
       "├─────────────────────────────────┼────────────────────────┼───────────────┤\n",
       "│ dense_3 (\u001b[38;5;33mDense\u001b[0m)                 │ (\u001b[38;5;45mNone\u001b[0m, \u001b[38;5;34m128\u001b[0m)            │       \u001b[38;5;34m100,480\u001b[0m │\n",
       "├─────────────────────────────────┼────────────────────────┼───────────────┤\n",
       "│ dense_4 (\u001b[38;5;33mDense\u001b[0m)                 │ (\u001b[38;5;45mNone\u001b[0m, \u001b[38;5;34m64\u001b[0m)             │         \u001b[38;5;34m8,256\u001b[0m │\n",
       "├─────────────────────────────────┼────────────────────────┼───────────────┤\n",
       "│ dense_5 (\u001b[38;5;33mDense\u001b[0m)                 │ (\u001b[38;5;45mNone\u001b[0m, \u001b[38;5;34m10\u001b[0m)             │           \u001b[38;5;34m650\u001b[0m │\n",
       "└─────────────────────────────────┴────────────────────────┴───────────────┘\n"
      ]
     },
     "metadata": {},
     "output_type": "display_data"
    },
    {
     "data": {
      "text/html": [
       "<pre style=\"white-space:pre;overflow-x:auto;line-height:normal;font-family:Menlo,'DejaVu Sans Mono',consolas,'Courier New',monospace\"><span style=\"font-weight: bold\"> Total params: </span><span style=\"color: #00af00; text-decoration-color: #00af00\">109,386</span> (427.29 KB)\n",
       "</pre>\n"
      ],
      "text/plain": [
       "\u001b[1m Total params: \u001b[0m\u001b[38;5;34m109,386\u001b[0m (427.29 KB)\n"
      ]
     },
     "metadata": {},
     "output_type": "display_data"
    },
    {
     "data": {
      "text/html": [
       "<pre style=\"white-space:pre;overflow-x:auto;line-height:normal;font-family:Menlo,'DejaVu Sans Mono',consolas,'Courier New',monospace\"><span style=\"font-weight: bold\"> Trainable params: </span><span style=\"color: #00af00; text-decoration-color: #00af00\">109,386</span> (427.29 KB)\n",
       "</pre>\n"
      ],
      "text/plain": [
       "\u001b[1m Trainable params: \u001b[0m\u001b[38;5;34m109,386\u001b[0m (427.29 KB)\n"
      ]
     },
     "metadata": {},
     "output_type": "display_data"
    },
    {
     "data": {
      "text/html": [
       "<pre style=\"white-space:pre;overflow-x:auto;line-height:normal;font-family:Menlo,'DejaVu Sans Mono',consolas,'Courier New',monospace\"><span style=\"font-weight: bold\"> Non-trainable params: </span><span style=\"color: #00af00; text-decoration-color: #00af00\">0</span> (0.00 B)\n",
       "</pre>\n"
      ],
      "text/plain": [
       "\u001b[1m Non-trainable params: \u001b[0m\u001b[38;5;34m0\u001b[0m (0.00 B)\n"
      ]
     },
     "metadata": {},
     "output_type": "display_data"
    }
   ],
   "source": [
    "from tensorflow.keras.models import Model\n",
    "from tensorflow.keras.layers import Input, Dense\n",
    "\n",
    "inputs = Input(shape=(784,))\n",
    "x = Dense(128, activation='relu')(inputs)\n",
    "x = Dense(64, activation='relu')(x)\n",
    "outputs = Dense(10, activation='softmax')(x)\n",
    "\n",
    "model = Model(inputs, outputs)\n",
    "model.summary()"
   ]
  },
  {
   "cell_type": "markdown",
   "id": "85df568b",
   "metadata": {
    "papermill": {
     "duration": 0.015693,
     "end_time": "2024-05-26T17:59:10.628285",
     "exception": false,
     "start_time": "2024-05-26T17:59:10.612592",
     "status": "completed"
    },
    "tags": []
   },
   "source": [
    "<a id = \"5\"></a>\n",
    "<h1 style=\"padding:10px;background-color:rgb(152, 255, 152);opacity: 0.8;margin:0;color:black;font-family:courier; font-size:200%;text-align:center;border-radius: 30px 50px;overflow:hidden;font-weight:500\">5.Training and Evaluation</h1>"
   ]
  },
  {
   "cell_type": "markdown",
   "id": "3bc4ce61",
   "metadata": {
    "papermill": {
     "duration": 0.015739,
     "end_time": "2024-05-26T17:59:10.660048",
     "exception": false,
     "start_time": "2024-05-26T17:59:10.644309",
     "status": "completed"
    },
    "tags": []
   },
   "source": [
    "<a id=\"5.1\"></a>\n",
    "<h2 style=\"display:inline-block;padding:5px 20px;background-color:rgb(152, 255, 152);opacity:0.8;margin:0;color:black;font-family:courier;font-size:150%;text-align:center;border-radius:15px 25px;overflow:hidden;font-weight:500\">5.1. Compiling Models</h2>\n"
   ]
  },
  {
   "cell_type": "markdown",
   "id": "8ec8f576",
   "metadata": {
    "papermill": {
     "duration": 0.015633,
     "end_time": "2024-05-26T17:59:10.691731",
     "exception": false,
     "start_time": "2024-05-26T17:59:10.676098",
     "status": "completed"
    },
    "tags": []
   },
   "source": [
    "Before training, you need to compile the model, specifying the optimizer, loss function, and metrics."
   ]
  },
  {
   "cell_type": "code",
   "execution_count": 6,
   "id": "aa95b530",
   "metadata": {
    "execution": {
     "iopub.execute_input": "2024-05-26T17:59:10.728635Z",
     "iopub.status.busy": "2024-05-26T17:59:10.727182Z",
     "iopub.status.idle": "2024-05-26T17:59:10.746309Z",
     "shell.execute_reply": "2024-05-26T17:59:10.745240Z"
    },
    "papermill": {
     "duration": 0.04089,
     "end_time": "2024-05-26T17:59:10.749074",
     "exception": false,
     "start_time": "2024-05-26T17:59:10.708184",
     "status": "completed"
    },
    "tags": []
   },
   "outputs": [],
   "source": [
    "model.compile(optimizer='adam', loss='sparse_categorical_crossentropy', metrics=['accuracy'])"
   ]
  },
  {
   "cell_type": "code",
   "execution_count": 7,
   "id": "2c9ac546",
   "metadata": {
    "execution": {
     "iopub.execute_input": "2024-05-26T17:59:10.783252Z",
     "iopub.status.busy": "2024-05-26T17:59:10.782455Z",
     "iopub.status.idle": "2024-05-26T17:59:11.675326Z",
     "shell.execute_reply": "2024-05-26T17:59:11.673884Z"
    },
    "papermill": {
     "duration": 0.91395,
     "end_time": "2024-05-26T17:59:11.678625",
     "exception": false,
     "start_time": "2024-05-26T17:59:10.764675",
     "status": "completed"
    },
    "tags": []
   },
   "outputs": [
    {
     "name": "stdout",
     "output_type": "stream",
     "text": [
      "Downloading data from https://storage.googleapis.com/tensorflow/tf-keras-datasets/mnist.npz\n",
      "\u001b[1m11490434/11490434\u001b[0m \u001b[32m━━━━━━━━━━━━━━━━━━━━\u001b[0m\u001b[37m\u001b[0m \u001b[1m0s\u001b[0m 0us/step\n"
     ]
    },
    {
     "name": "stderr",
     "output_type": "stream",
     "text": [
      "/opt/conda/lib/python3.10/site-packages/keras/src/layers/reshaping/flatten.py:37: UserWarning: Do not pass an `input_shape`/`input_dim` argument to a layer. When using Sequential models, prefer using an `Input(shape)` object as the first layer in the model instead.\n",
      "  super().__init__(**kwargs)\n"
     ]
    }
   ],
   "source": [
    "# An ANN example of MNIST digit for showing the fit method\n",
    "(x_train, y_train), (x_test, y_test) = tf.keras.datasets.mnist.load_data()\n",
    "x_train, x_test = x_train / 255.0, x_test / 255.0\n",
    "\n",
    "# Define model\n",
    "model = Sequential([\n",
    "    tf.keras.layers.Flatten(input_shape=(28, 28)),\n",
    "    Dense(128, activation='relu'),\n",
    "    Dense(10, activation='softmax')\n",
    "])\n",
    "\n",
    "# Compile and train model\n",
    "model.compile(optimizer='adam', loss='sparse_categorical_crossentropy', metrics=['accuracy'])"
   ]
  },
  {
   "cell_type": "markdown",
   "id": "d8deec02",
   "metadata": {
    "papermill": {
     "duration": 0.10896,
     "end_time": "2024-05-26T17:59:11.804999",
     "exception": false,
     "start_time": "2024-05-26T17:59:11.696039",
     "status": "completed"
    },
    "tags": []
   },
   "source": [
    "<a id=\"5.2\"></a>\n",
    "<h2 style=\"display:inline-block;padding:5px 20px;background-color:rgb(152, 255, 152);opacity:0.8;margin:0;color:black;font-family:courier;font-size:150%;text-align:center;border-radius:15px 25px;overflow:hidden;font-weight:500\">5.2. Training Models</h2>\n"
   ]
  },
  {
   "cell_type": "markdown",
   "id": "d9ad36df",
   "metadata": {
    "papermill": {
     "duration": 0.01701,
     "end_time": "2024-05-26T17:59:11.839189",
     "exception": false,
     "start_time": "2024-05-26T17:59:11.822179",
     "status": "completed"
    },
    "tags": []
   },
   "source": [
    "You can train the model using the fit method."
   ]
  },
  {
   "cell_type": "code",
   "execution_count": 8,
   "id": "fb023862",
   "metadata": {
    "execution": {
     "iopub.execute_input": "2024-05-26T17:59:11.875045Z",
     "iopub.status.busy": "2024-05-26T17:59:11.874549Z",
     "iopub.status.idle": "2024-05-26T18:00:27.997510Z",
     "shell.execute_reply": "2024-05-26T18:00:27.996318Z"
    },
    "papermill": {
     "duration": 76.14529,
     "end_time": "2024-05-26T18:00:28.001258",
     "exception": false,
     "start_time": "2024-05-26T17:59:11.855968",
     "status": "completed"
    },
    "tags": []
   },
   "outputs": [
    {
     "name": "stdout",
     "output_type": "stream",
     "text": [
      "Epoch 1/10\n",
      "\u001b[1m1500/1500\u001b[0m \u001b[32m━━━━━━━━━━━━━━━━━━━━\u001b[0m\u001b[37m\u001b[0m \u001b[1m8s\u001b[0m 4ms/step - accuracy: 0.8608 - loss: 0.4813 - val_accuracy: 0.9559 - val_loss: 0.1568\n",
      "Epoch 2/10\n",
      "\u001b[1m1500/1500\u001b[0m \u001b[32m━━━━━━━━━━━━━━━━━━━━\u001b[0m\u001b[37m\u001b[0m \u001b[1m6s\u001b[0m 4ms/step - accuracy: 0.9596 - loss: 0.1361 - val_accuracy: 0.9667 - val_loss: 0.1172\n",
      "Epoch 3/10\n",
      "\u001b[1m1500/1500\u001b[0m \u001b[32m━━━━━━━━━━━━━━━━━━━━\u001b[0m\u001b[37m\u001b[0m \u001b[1m6s\u001b[0m 4ms/step - accuracy: 0.9759 - loss: 0.0831 - val_accuracy: 0.9707 - val_loss: 0.0979\n",
      "Epoch 4/10\n",
      "\u001b[1m1500/1500\u001b[0m \u001b[32m━━━━━━━━━━━━━━━━━━━━\u001b[0m\u001b[37m\u001b[0m \u001b[1m6s\u001b[0m 4ms/step - accuracy: 0.9809 - loss: 0.0628 - val_accuracy: 0.9678 - val_loss: 0.1025\n",
      "Epoch 5/10\n",
      "\u001b[1m1500/1500\u001b[0m \u001b[32m━━━━━━━━━━━━━━━━━━━━\u001b[0m\u001b[37m\u001b[0m \u001b[1m10s\u001b[0m 4ms/step - accuracy: 0.9857 - loss: 0.0459 - val_accuracy: 0.9745 - val_loss: 0.0856\n",
      "Epoch 6/10\n",
      "\u001b[1m1500/1500\u001b[0m \u001b[32m━━━━━━━━━━━━━━━━━━━━\u001b[0m\u001b[37m\u001b[0m \u001b[1m6s\u001b[0m 4ms/step - accuracy: 0.9894 - loss: 0.0367 - val_accuracy: 0.9768 - val_loss: 0.0822\n",
      "Epoch 7/10\n",
      "\u001b[1m1500/1500\u001b[0m \u001b[32m━━━━━━━━━━━━━━━━━━━━\u001b[0m\u001b[37m\u001b[0m \u001b[1m11s\u001b[0m 4ms/step - accuracy: 0.9923 - loss: 0.0277 - val_accuracy: 0.9743 - val_loss: 0.0918\n",
      "Epoch 8/10\n",
      "\u001b[1m1500/1500\u001b[0m \u001b[32m━━━━━━━━━━━━━━━━━━━━\u001b[0m\u001b[37m\u001b[0m \u001b[1m6s\u001b[0m 4ms/step - accuracy: 0.9940 - loss: 0.0219 - val_accuracy: 0.9769 - val_loss: 0.0851\n",
      "Epoch 9/10\n",
      "\u001b[1m1500/1500\u001b[0m \u001b[32m━━━━━━━━━━━━━━━━━━━━\u001b[0m\u001b[37m\u001b[0m \u001b[1m6s\u001b[0m 4ms/step - accuracy: 0.9948 - loss: 0.0178 - val_accuracy: 0.9762 - val_loss: 0.0863\n",
      "Epoch 10/10\n",
      "\u001b[1m1500/1500\u001b[0m \u001b[32m━━━━━━━━━━━━━━━━━━━━\u001b[0m\u001b[37m\u001b[0m \u001b[1m10s\u001b[0m 4ms/step - accuracy: 0.9957 - loss: 0.0145 - val_accuracy: 0.9700 - val_loss: 0.1111\n"
     ]
    }
   ],
   "source": [
    " history = model.fit(x_train, y_train, epochs=10, batch_size=32, validation_split=0.2)"
   ]
  },
  {
   "cell_type": "markdown",
   "id": "0d1a8449",
   "metadata": {
    "papermill": {
     "duration": 0.123425,
     "end_time": "2024-05-26T18:00:28.247154",
     "exception": false,
     "start_time": "2024-05-26T18:00:28.123729",
     "status": "completed"
    },
    "tags": []
   },
   "source": [
    "<a id=\"5.3\"></a>\n",
    "<h2 style=\"display:inline-block;padding:5px 20px;background-color:rgb(152, 255, 152);opacity:0.8;margin:0;color:black;font-family:courier;font-size:150%;text-align:center;border-radius:15px 25px;overflow:hidden;font-weight:500\">5.3. Evaluating Models</h2>\n"
   ]
  },
  {
   "cell_type": "markdown",
   "id": "7143dc9c",
   "metadata": {
    "papermill": {
     "duration": 0.122208,
     "end_time": "2024-05-26T18:00:28.490024",
     "exception": false,
     "start_time": "2024-05-26T18:00:28.367816",
     "status": "completed"
    },
    "tags": []
   },
   "source": [
    "Evaluate the model on test data using the evaluate method."
   ]
  },
  {
   "cell_type": "code",
   "execution_count": 9,
   "id": "a597ec07",
   "metadata": {
    "execution": {
     "iopub.execute_input": "2024-05-26T18:00:28.758513Z",
     "iopub.status.busy": "2024-05-26T18:00:28.758069Z",
     "iopub.status.idle": "2024-05-26T18:00:29.617513Z",
     "shell.execute_reply": "2024-05-26T18:00:29.615736Z"
    },
    "papermill": {
     "duration": 0.991168,
     "end_time": "2024-05-26T18:00:29.620573",
     "exception": false,
     "start_time": "2024-05-26T18:00:28.629405",
     "status": "completed"
    },
    "tags": []
   },
   "outputs": [
    {
     "name": "stdout",
     "output_type": "stream",
     "text": [
      "\u001b[1m313/313\u001b[0m \u001b[32m━━━━━━━━━━━━━━━━━━━━\u001b[0m\u001b[37m\u001b[0m \u001b[1m1s\u001b[0m 2ms/step - accuracy: 0.9674 - loss: 0.1160\n",
      "Test loss: 0.10018974542617798\n"
     ]
    }
   ],
   "source": [
    "# Assuming x_test, y_test are your test data and labels\n",
    "test_loss, test_accuracy = model.evaluate(x_test, y_test)\n",
    "print(f\"Test loss: {test_loss}\")"
   ]
  },
  {
   "cell_type": "markdown",
   "id": "2831e28f",
   "metadata": {
    "papermill": {
     "duration": 0.121892,
     "end_time": "2024-05-26T18:00:29.866263",
     "exception": false,
     "start_time": "2024-05-26T18:00:29.744371",
     "status": "completed"
    },
    "tags": []
   },
   "source": [
    "<a id = \"6\"></a>\n",
    "<h1 style=\"padding:10px;background-color:rgb(152, 255, 152);opacity: 0.8;margin:0;color:black;font-family:courier; font-size:200%;text-align:center;border-radius: 30px 50px;overflow:hidden;font-weight:500\">6.Advanced Topics</h1>"
   ]
  },
  {
   "cell_type": "markdown",
   "id": "10af1fa4",
   "metadata": {
    "papermill": {
     "duration": 0.123587,
     "end_time": "2024-05-26T18:00:30.115236",
     "exception": false,
     "start_time": "2024-05-26T18:00:29.991649",
     "status": "completed"
    },
    "tags": []
   },
   "source": [
    "<a id=\"6.1\"></a>\n",
    "<h2 style=\"display:inline-block;padding:5px 20px;background-color:rgb(152, 255, 152);opacity:0.8;margin:0;color:black;font-family:courier;font-size:150%;text-align:center;border-radius:15px 25px;overflow:hidden;font-weight:500\">6.1. Custom Layers and Models</h2>\n"
   ]
  },
  {
   "cell_type": "markdown",
   "id": "66dee4b8",
   "metadata": {
    "papermill": {
     "duration": 0.120826,
     "end_time": "2024-05-26T18:00:30.361250",
     "exception": false,
     "start_time": "2024-05-26T18:00:30.240424",
     "status": "completed"
    },
    "tags": []
   },
   "source": [
    "You can create custom layers and models by subclassing tf.keras.layers.Layer and tf.keras.Model."
   ]
  },
  {
   "cell_type": "code",
   "execution_count": 10,
   "id": "ce257a0b",
   "metadata": {
    "execution": {
     "iopub.execute_input": "2024-05-26T18:00:30.606670Z",
     "iopub.status.busy": "2024-05-26T18:00:30.606223Z",
     "iopub.status.idle": "2024-05-26T18:00:30.629360Z",
     "shell.execute_reply": "2024-05-26T18:00:30.628014Z"
    },
    "papermill": {
     "duration": 0.149328,
     "end_time": "2024-05-26T18:00:30.632425",
     "exception": false,
     "start_time": "2024-05-26T18:00:30.483097",
     "status": "completed"
    },
    "tags": []
   },
   "outputs": [],
   "source": [
    "class CustomLayer(tf.keras.layers.Layer):\n",
    "    def __init__(self, units=32):\n",
    "        super(CustomLayer, self).__init__()\n",
    "        self.units = units\n",
    "\n",
    "    def build(self, input_shape):\n",
    "        self.w = self.add_weight(shape=(input_shape[-1], self.units), initializer='random_normal', trainable=True)\n",
    "        self.b = self.add_weight(shape=(self.units,), initializer='zeros', trainable=True)\n",
    "\n",
    "    def call(self, inputs):\n",
    "        return tf.matmul(inputs, self.w) + self.b\n",
    "\n",
    "class CustomModel(tf.keras.Model):\n",
    "    def __init__(self):\n",
    "        super(CustomModel, self).__init__()\n",
    "        self.dense1 = CustomLayer(128)\n",
    "        self.dense2 = CustomLayer(64)\n",
    "        self.dense3 = tf.keras.layers.Dense(10, activation='softmax')\n",
    "\n",
    "    def call(self, inputs):\n",
    "        x = self.dense1(inputs)\n",
    "        x = self.dense2(x)\n",
    "        return self.dense3(x)\n",
    "\n",
    "model = CustomModel()\n",
    "model.compile(optimizer='adam', loss='sparse_categorical_crossentropy', metrics=['accuracy'])"
   ]
  },
  {
   "cell_type": "markdown",
   "id": "fa8ddd67",
   "metadata": {
    "papermill": {
     "duration": 0.121082,
     "end_time": "2024-05-26T18:00:30.875006",
     "exception": false,
     "start_time": "2024-05-26T18:00:30.753924",
     "status": "completed"
    },
    "tags": []
   },
   "source": [
    "<a id=\"6.2\"></a>\n",
    "<h2 style=\"display:inline-block;padding:5px 20px;background-color:rgb(152, 255, 152);opacity:0.8;margin:0;color:black;font-family:courier;font-size:150%;text-align:center;border-radius:15px 25px;overflow:hidden;font-weight:500\">6.2. Callbacks</h2>\n"
   ]
  },
  {
   "cell_type": "markdown",
   "id": "934b4da9",
   "metadata": {
    "papermill": {
     "duration": 0.121123,
     "end_time": "2024-05-26T18:00:31.119040",
     "exception": false,
     "start_time": "2024-05-26T18:00:30.997917",
     "status": "completed"
    },
    "tags": []
   },
   "source": [
    "Callbacks can be used to customize the training process."
   ]
  },
  {
   "cell_type": "code",
   "execution_count": 11,
   "id": "9801d771",
   "metadata": {
    "execution": {
     "iopub.execute_input": "2024-05-26T18:00:31.363175Z",
     "iopub.status.busy": "2024-05-26T18:00:31.362782Z",
     "iopub.status.idle": "2024-05-26T18:00:31.399337Z",
     "shell.execute_reply": "2024-05-26T18:00:31.398175Z"
    },
    "papermill": {
     "duration": 0.161991,
     "end_time": "2024-05-26T18:00:31.402140",
     "exception": false,
     "start_time": "2024-05-26T18:00:31.240149",
     "status": "completed"
    },
    "tags": []
   },
   "outputs": [],
   "source": [
    "model = Sequential([\n",
    "    tf.keras.layers.Flatten(input_shape=(28, 28)),\n",
    "    Dense(128, activation='relu'),\n",
    "    Dense(10, activation='softmax')\n",
    "])\n",
    "\n",
    "# Compile and train model\n",
    "model.compile(optimizer='adam', loss='sparse_categorical_crossentropy', metrics=['accuracy'])"
   ]
  },
  {
   "cell_type": "code",
   "execution_count": 12,
   "id": "6529dead",
   "metadata": {
    "execution": {
     "iopub.execute_input": "2024-05-26T18:00:31.643909Z",
     "iopub.status.busy": "2024-05-26T18:00:31.643492Z",
     "iopub.status.idle": "2024-05-26T18:01:39.517404Z",
     "shell.execute_reply": "2024-05-26T18:01:39.515786Z"
    },
    "papermill": {
     "duration": 67.998327,
     "end_time": "2024-05-26T18:01:39.520320",
     "exception": false,
     "start_time": "2024-05-26T18:00:31.521993",
     "status": "completed"
    },
    "tags": []
   },
   "outputs": [
    {
     "name": "stdout",
     "output_type": "stream",
     "text": [
      "Epoch 1/50\n",
      "\u001b[1m1500/1500\u001b[0m \u001b[32m━━━━━━━━━━━━━━━━━━━━\u001b[0m\u001b[37m\u001b[0m \u001b[1m7s\u001b[0m 4ms/step - accuracy: 0.8658 - loss: 0.4820 - val_accuracy: 0.9543 - val_loss: 0.1596\n",
      "Epoch 2/50\n",
      "\u001b[1m1500/1500\u001b[0m \u001b[32m━━━━━━━━━━━━━━━━━━━━\u001b[0m\u001b[37m\u001b[0m \u001b[1m10s\u001b[0m 4ms/step - accuracy: 0.9595 - loss: 0.1400 - val_accuracy: 0.9647 - val_loss: 0.1185\n",
      "Epoch 3/50\n",
      "\u001b[1m1500/1500\u001b[0m \u001b[32m━━━━━━━━━━━━━━━━━━━━\u001b[0m\u001b[37m\u001b[0m \u001b[1m6s\u001b[0m 4ms/step - accuracy: 0.9729 - loss: 0.0907 - val_accuracy: 0.9704 - val_loss: 0.1004\n",
      "Epoch 4/50\n",
      "\u001b[1m1500/1500\u001b[0m \u001b[32m━━━━━━━━━━━━━━━━━━━━\u001b[0m\u001b[37m\u001b[0m \u001b[1m6s\u001b[0m 4ms/step - accuracy: 0.9802 - loss: 0.0650 - val_accuracy: 0.9747 - val_loss: 0.0881\n",
      "Epoch 5/50\n",
      "\u001b[1m1500/1500\u001b[0m \u001b[32m━━━━━━━━━━━━━━━━━━━━\u001b[0m\u001b[37m\u001b[0m \u001b[1m6s\u001b[0m 4ms/step - accuracy: 0.9850 - loss: 0.0498 - val_accuracy: 0.9743 - val_loss: 0.0909\n",
      "Epoch 6/50\n",
      "\u001b[1m1500/1500\u001b[0m \u001b[32m━━━━━━━━━━━━━━━━━━━━\u001b[0m\u001b[37m\u001b[0m \u001b[1m6s\u001b[0m 4ms/step - accuracy: 0.9877 - loss: 0.0386 - val_accuracy: 0.9762 - val_loss: 0.0866\n",
      "Epoch 7/50\n",
      "\u001b[1m1500/1500\u001b[0m \u001b[32m━━━━━━━━━━━━━━━━━━━━\u001b[0m\u001b[37m\u001b[0m \u001b[1m6s\u001b[0m 4ms/step - accuracy: 0.9905 - loss: 0.0305 - val_accuracy: 0.9747 - val_loss: 0.0899\n",
      "Epoch 8/50\n",
      "\u001b[1m1500/1500\u001b[0m \u001b[32m━━━━━━━━━━━━━━━━━━━━\u001b[0m\u001b[37m\u001b[0m \u001b[1m10s\u001b[0m 4ms/step - accuracy: 0.9930 - loss: 0.0229 - val_accuracy: 0.9757 - val_loss: 0.0939\n",
      "Epoch 9/50\n",
      "\u001b[1m1500/1500\u001b[0m \u001b[32m━━━━━━━━━━━━━━━━━━━━\u001b[0m\u001b[37m\u001b[0m \u001b[1m6s\u001b[0m 4ms/step - accuracy: 0.9948 - loss: 0.0180 - val_accuracy: 0.9731 - val_loss: 0.0963\n"
     ]
    }
   ],
   "source": [
    "from tensorflow.keras.callbacks import EarlyStopping\n",
    "\n",
    "early_stopping = EarlyStopping(monitor='val_loss', patience=3)\n",
    "\n",
    "history = model.fit(x_train, y_train, epochs=50, batch_size=32, validation_split=0.2, callbacks=[early_stopping])"
   ]
  },
  {
   "cell_type": "markdown",
   "id": "9c7581fc",
   "metadata": {
    "papermill": {
     "duration": 0.310751,
     "end_time": "2024-05-26T18:01:40.049268",
     "exception": false,
     "start_time": "2024-05-26T18:01:39.738517",
     "status": "completed"
    },
    "tags": []
   },
   "source": [
    "<a id = \"7\"></a>\n",
    "<h1 style=\"padding:10px;background-color:rgb(152, 255, 152);opacity: 0.8;margin:0;color:black;font-family:courier; font-size:200%;text-align:center;border-radius: 30px 50px;overflow:hidden;font-weight:500\">7.Practical Kaggle Projects</h1>"
   ]
  },
  {
   "cell_type": "markdown",
   "id": "f43be286",
   "metadata": {
    "papermill": {
     "duration": 0.216248,
     "end_time": "2024-05-26T18:01:40.484110",
     "exception": false,
     "start_time": "2024-05-26T18:01:40.267862",
     "status": "completed"
    },
    "tags": []
   },
   "source": [
    "<a id=\"7.1\"></a>\n",
    "<h2 style=\"display:inline-block;padding:5px 20px;background-color:rgb(152, 255, 152);opacity:0.8;margin:0;color:black;font-family:courier;font-size:150%;text-align:center;border-radius:15px 25px;overflow:hidden;font-weight:500\">7.1. Project 1: Image Classification</h2>\n"
   ]
  },
  {
   "cell_type": "markdown",
   "id": "6f0e8e9c",
   "metadata": {
    "papermill": {
     "duration": 0.212487,
     "end_time": "2024-05-26T18:01:40.911140",
     "exception": false,
     "start_time": "2024-05-26T18:01:40.698653",
     "status": "completed"
    },
    "tags": []
   },
   "source": [
    "In this project, we will build a model to classify images from the MNIST dataset.<br>\n",
    "To create a Convolutional Neural Network (CNN) for image classification using the MNIST dataset, we'll replace the Flatten layer with convolutional and pooling layers. Here's the updated code:"
   ]
  },
  {
   "cell_type": "code",
   "execution_count": 13,
   "id": "3ff24d94",
   "metadata": {
    "execution": {
     "iopub.execute_input": "2024-05-26T18:01:41.337734Z",
     "iopub.status.busy": "2024-05-26T18:01:41.336393Z",
     "iopub.status.idle": "2024-05-26T18:04:34.448640Z",
     "shell.execute_reply": "2024-05-26T18:04:34.446867Z"
    },
    "papermill": {
     "duration": 173.32964,
     "end_time": "2024-05-26T18:04:34.451479",
     "exception": false,
     "start_time": "2024-05-26T18:01:41.121839",
     "status": "completed"
    },
    "tags": []
   },
   "outputs": [
    {
     "name": "stderr",
     "output_type": "stream",
     "text": [
      "/opt/conda/lib/python3.10/site-packages/keras/src/layers/convolutional/base_conv.py:99: UserWarning: Do not pass an `input_shape`/`input_dim` argument to a layer. When using Sequential models, prefer using an `Input(shape)` object as the first layer in the model instead.\n",
      "  super().__init__(\n"
     ]
    },
    {
     "name": "stdout",
     "output_type": "stream",
     "text": [
      "Epoch 1/5\n",
      "\u001b[1m1875/1875\u001b[0m \u001b[32m━━━━━━━━━━━━━━━━━━━━\u001b[0m\u001b[37m\u001b[0m \u001b[1m31s\u001b[0m 15ms/step - accuracy: 0.8621 - loss: 0.4491\n",
      "Epoch 2/5\n",
      "\u001b[1m1875/1875\u001b[0m \u001b[32m━━━━━━━━━━━━━━━━━━━━\u001b[0m\u001b[37m\u001b[0m \u001b[1m29s\u001b[0m 15ms/step - accuracy: 0.9651 - loss: 0.1167\n",
      "Epoch 3/5\n",
      "\u001b[1m1875/1875\u001b[0m \u001b[32m━━━━━━━━━━━━━━━━━━━━\u001b[0m\u001b[37m\u001b[0m \u001b[1m41s\u001b[0m 15ms/step - accuracy: 0.9739 - loss: 0.0846\n",
      "Epoch 4/5\n",
      "\u001b[1m1875/1875\u001b[0m \u001b[32m━━━━━━━━━━━━━━━━━━━━\u001b[0m\u001b[37m\u001b[0m \u001b[1m41s\u001b[0m 15ms/step - accuracy: 0.9792 - loss: 0.0689\n",
      "Epoch 5/5\n",
      "\u001b[1m1875/1875\u001b[0m \u001b[32m━━━━━━━━━━━━━━━━━━━━\u001b[0m\u001b[37m\u001b[0m \u001b[1m29s\u001b[0m 15ms/step - accuracy: 0.9827 - loss: 0.0553\n",
      "\u001b[1m313/313\u001b[0m \u001b[32m━━━━━━━━━━━━━━━━━━━━\u001b[0m\u001b[37m\u001b[0m \u001b[1m2s\u001b[0m 5ms/step - accuracy: 0.9832 - loss: 0.0518\n",
      "[0.04257749766111374, 0.9861999750137329]\n"
     ]
    }
   ],
   "source": [
    "import tensorflow as tf\n",
    "\n",
    "# Load data\n",
    "(x_train, y_train), (x_test, y_test) = tf.keras.datasets.mnist.load_data()\n",
    "x_train, x_test = x_train / 255.0, x_test / 255.0\n",
    "\n",
    "# Reshape the data to fit the CNN input shape\n",
    "x_train = x_train.reshape(x_train.shape[0], 28, 28, 1)\n",
    "x_test = x_test.reshape(x_test.shape[0], 28, 28, 1)\n",
    "\n",
    "# Define model\n",
    "model = tf.keras.models.Sequential([\n",
    "    tf.keras.layers.Conv2D(32, (3, 3), activation='relu', input_shape=(28, 28, 1)),\n",
    "    tf.keras.layers.MaxPooling2D((2, 2)),\n",
    "    tf.keras.layers.Flatten(),\n",
    "    tf.keras.layers.Dense(128, activation='relu'),\n",
    "    tf.keras.layers.Dropout(0.5),  # Adding Dropout for regularization\n",
    "    tf.keras.layers.Dense(10, activation='softmax')\n",
    "])\n",
    "\n",
    "# Compile and train model\n",
    "model.compile(optimizer='adam', loss='sparse_categorical_crossentropy', metrics=['accuracy'])\n",
    "model.fit(x_train, y_train, epochs=5)\n",
    "\n",
    "# Evaluate model\n",
    "print(model.evaluate(x_test, y_test))"
   ]
  },
  {
   "cell_type": "markdown",
   "id": "24a1168e",
   "metadata": {
    "papermill": {
     "duration": 0.468774,
     "end_time": "2024-05-26T18:04:35.380427",
     "exception": false,
     "start_time": "2024-05-26T18:04:34.911653",
     "status": "completed"
    },
    "tags": []
   },
   "source": [
    "<a id=\"7.2\"></a>\n",
    "<h2 style=\"display:inline-block;padding:5px 20px;background-color:rgb(152, 255, 152);opacity:0.8;margin:0;color:black;font-family:courier;font-size:150%;text-align:center;border-radius:15px 25px;overflow:hidden;font-weight:500\">7.2. Project 2: Text Classification</h2>\n"
   ]
  },
  {
   "cell_type": "markdown",
   "id": "6fb0418a",
   "metadata": {
    "papermill": {
     "duration": 0.457047,
     "end_time": "2024-05-26T18:04:36.292936",
     "exception": false,
     "start_time": "2024-05-26T18:04:35.835889",
     "status": "completed"
    },
    "tags": []
   },
   "source": [
    "In this project, we will build a model to classify text data from the IMDB datase"
   ]
  },
  {
   "cell_type": "code",
   "execution_count": 14,
   "id": "7e8f041a",
   "metadata": {
    "execution": {
     "iopub.execute_input": "2024-05-26T18:04:37.309612Z",
     "iopub.status.busy": "2024-05-26T18:04:37.308666Z",
     "iopub.status.idle": "2024-05-26T18:04:59.366567Z",
     "shell.execute_reply": "2024-05-26T18:04:59.365241Z"
    },
    "papermill": {
     "duration": 22.516666,
     "end_time": "2024-05-26T18:04:59.369753",
     "exception": false,
     "start_time": "2024-05-26T18:04:36.853087",
     "status": "completed"
    },
    "tags": []
   },
   "outputs": [
    {
     "name": "stdout",
     "output_type": "stream",
     "text": [
      "Downloading data from https://storage.googleapis.com/tensorflow/tf-keras-datasets/imdb.npz\n",
      "\u001b[1m17464789/17464789\u001b[0m \u001b[32m━━━━━━━━━━━━━━━━━━━━\u001b[0m\u001b[37m\u001b[0m \u001b[1m0s\u001b[0m 0us/step\n"
     ]
    },
    {
     "data": {
      "text/html": [
       "<pre style=\"white-space:pre;overflow-x:auto;line-height:normal;font-family:Menlo,'DejaVu Sans Mono',consolas,'Courier New',monospace\"><span style=\"font-weight: bold\">Model: \"sequential_4\"</span>\n",
       "</pre>\n"
      ],
      "text/plain": [
       "\u001b[1mModel: \"sequential_4\"\u001b[0m\n"
      ]
     },
     "metadata": {},
     "output_type": "display_data"
    },
    {
     "data": {
      "text/html": [
       "<pre style=\"white-space:pre;overflow-x:auto;line-height:normal;font-family:Menlo,'DejaVu Sans Mono',consolas,'Courier New',monospace\">┏━━━━━━━━━━━━━━━━━━━━━━━━━━━━━━━━━┳━━━━━━━━━━━━━━━━━━━━━━━━┳━━━━━━━━━━━━━━━┓\n",
       "┃<span style=\"font-weight: bold\"> Layer (type)                    </span>┃<span style=\"font-weight: bold\"> Output Shape           </span>┃<span style=\"font-weight: bold\">       Param # </span>┃\n",
       "┡━━━━━━━━━━━━━━━━━━━━━━━━━━━━━━━━━╇━━━━━━━━━━━━━━━━━━━━━━━━╇━━━━━━━━━━━━━━━┩\n",
       "│ embedding (<span style=\"color: #0087ff; text-decoration-color: #0087ff\">Embedding</span>)           │ ?                      │   <span style=\"color: #00af00; text-decoration-color: #00af00\">0</span> (unbuilt) │\n",
       "├─────────────────────────────────┼────────────────────────┼───────────────┤\n",
       "│ global_average_pooling1d        │ ?                      │   <span style=\"color: #00af00; text-decoration-color: #00af00\">0</span> (unbuilt) │\n",
       "│ (<span style=\"color: #0087ff; text-decoration-color: #0087ff\">GlobalAveragePooling1D</span>)        │                        │               │\n",
       "├─────────────────────────────────┼────────────────────────┼───────────────┤\n",
       "│ dense_13 (<span style=\"color: #0087ff; text-decoration-color: #0087ff\">Dense</span>)                │ ?                      │   <span style=\"color: #00af00; text-decoration-color: #00af00\">0</span> (unbuilt) │\n",
       "├─────────────────────────────────┼────────────────────────┼───────────────┤\n",
       "│ dropout_1 (<span style=\"color: #0087ff; text-decoration-color: #0087ff\">Dropout</span>)             │ ?                      │             <span style=\"color: #00af00; text-decoration-color: #00af00\">0</span> │\n",
       "├─────────────────────────────────┼────────────────────────┼───────────────┤\n",
       "│ dense_14 (<span style=\"color: #0087ff; text-decoration-color: #0087ff\">Dense</span>)                │ ?                      │   <span style=\"color: #00af00; text-decoration-color: #00af00\">0</span> (unbuilt) │\n",
       "└─────────────────────────────────┴────────────────────────┴───────────────┘\n",
       "</pre>\n"
      ],
      "text/plain": [
       "┏━━━━━━━━━━━━━━━━━━━━━━━━━━━━━━━━━┳━━━━━━━━━━━━━━━━━━━━━━━━┳━━━━━━━━━━━━━━━┓\n",
       "┃\u001b[1m \u001b[0m\u001b[1mLayer (type)                   \u001b[0m\u001b[1m \u001b[0m┃\u001b[1m \u001b[0m\u001b[1mOutput Shape          \u001b[0m\u001b[1m \u001b[0m┃\u001b[1m \u001b[0m\u001b[1m      Param #\u001b[0m\u001b[1m \u001b[0m┃\n",
       "┡━━━━━━━━━━━━━━━━━━━━━━━━━━━━━━━━━╇━━━━━━━━━━━━━━━━━━━━━━━━╇━━━━━━━━━━━━━━━┩\n",
       "│ embedding (\u001b[38;5;33mEmbedding\u001b[0m)           │ ?                      │   \u001b[38;5;34m0\u001b[0m (unbuilt) │\n",
       "├─────────────────────────────────┼────────────────────────┼───────────────┤\n",
       "│ global_average_pooling1d        │ ?                      │   \u001b[38;5;34m0\u001b[0m (unbuilt) │\n",
       "│ (\u001b[38;5;33mGlobalAveragePooling1D\u001b[0m)        │                        │               │\n",
       "├─────────────────────────────────┼────────────────────────┼───────────────┤\n",
       "│ dense_13 (\u001b[38;5;33mDense\u001b[0m)                │ ?                      │   \u001b[38;5;34m0\u001b[0m (unbuilt) │\n",
       "├─────────────────────────────────┼────────────────────────┼───────────────┤\n",
       "│ dropout_1 (\u001b[38;5;33mDropout\u001b[0m)             │ ?                      │             \u001b[38;5;34m0\u001b[0m │\n",
       "├─────────────────────────────────┼────────────────────────┼───────────────┤\n",
       "│ dense_14 (\u001b[38;5;33mDense\u001b[0m)                │ ?                      │   \u001b[38;5;34m0\u001b[0m (unbuilt) │\n",
       "└─────────────────────────────────┴────────────────────────┴───────────────┘\n"
      ]
     },
     "metadata": {},
     "output_type": "display_data"
    },
    {
     "data": {
      "text/html": [
       "<pre style=\"white-space:pre;overflow-x:auto;line-height:normal;font-family:Menlo,'DejaVu Sans Mono',consolas,'Courier New',monospace\"><span style=\"font-weight: bold\"> Total params: </span><span style=\"color: #00af00; text-decoration-color: #00af00\">0</span> (0.00 B)\n",
       "</pre>\n"
      ],
      "text/plain": [
       "\u001b[1m Total params: \u001b[0m\u001b[38;5;34m0\u001b[0m (0.00 B)\n"
      ]
     },
     "metadata": {},
     "output_type": "display_data"
    },
    {
     "data": {
      "text/html": [
       "<pre style=\"white-space:pre;overflow-x:auto;line-height:normal;font-family:Menlo,'DejaVu Sans Mono',consolas,'Courier New',monospace\"><span style=\"font-weight: bold\"> Trainable params: </span><span style=\"color: #00af00; text-decoration-color: #00af00\">0</span> (0.00 B)\n",
       "</pre>\n"
      ],
      "text/plain": [
       "\u001b[1m Trainable params: \u001b[0m\u001b[38;5;34m0\u001b[0m (0.00 B)\n"
      ]
     },
     "metadata": {},
     "output_type": "display_data"
    },
    {
     "data": {
      "text/html": [
       "<pre style=\"white-space:pre;overflow-x:auto;line-height:normal;font-family:Menlo,'DejaVu Sans Mono',consolas,'Courier New',monospace\"><span style=\"font-weight: bold\"> Non-trainable params: </span><span style=\"color: #00af00; text-decoration-color: #00af00\">0</span> (0.00 B)\n",
       "</pre>\n"
      ],
      "text/plain": [
       "\u001b[1m Non-trainable params: \u001b[0m\u001b[38;5;34m0\u001b[0m (0.00 B)\n"
      ]
     },
     "metadata": {},
     "output_type": "display_data"
    },
    {
     "name": "stdout",
     "output_type": "stream",
     "text": [
      "Epoch 1/10\n",
      "\u001b[1m40/40\u001b[0m \u001b[32m━━━━━━━━━━━━━━━━━━━━\u001b[0m\u001b[37m\u001b[0m \u001b[1m2s\u001b[0m 23ms/step - accuracy: 0.5225 - loss: 0.6925 - val_accuracy: 0.6930 - val_loss: 0.6876\n",
      "Epoch 2/10\n",
      "\u001b[1m40/40\u001b[0m \u001b[32m━━━━━━━━━━━━━━━━━━━━\u001b[0m\u001b[37m\u001b[0m \u001b[1m1s\u001b[0m 19ms/step - accuracy: 0.6135 - loss: 0.6852 - val_accuracy: 0.7258 - val_loss: 0.6731\n",
      "Epoch 3/10\n",
      "\u001b[1m40/40\u001b[0m \u001b[32m━━━━━━━━━━━━━━━━━━━━\u001b[0m\u001b[37m\u001b[0m \u001b[1m1s\u001b[0m 18ms/step - accuracy: 0.6644 - loss: 0.6679 - val_accuracy: 0.7674 - val_loss: 0.6444\n",
      "Epoch 4/10\n",
      "\u001b[1m40/40\u001b[0m \u001b[32m━━━━━━━━━━━━━━━━━━━━\u001b[0m\u001b[37m\u001b[0m \u001b[1m1s\u001b[0m 18ms/step - accuracy: 0.7040 - loss: 0.6381 - val_accuracy: 0.7790 - val_loss: 0.6016\n",
      "Epoch 5/10\n",
      "\u001b[1m40/40\u001b[0m \u001b[32m━━━━━━━━━━━━━━━━━━━━\u001b[0m\u001b[37m\u001b[0m \u001b[1m1s\u001b[0m 18ms/step - accuracy: 0.7431 - loss: 0.5954 - val_accuracy: 0.8014 - val_loss: 0.5497\n",
      "Epoch 6/10\n",
      "\u001b[1m40/40\u001b[0m \u001b[32m━━━━━━━━━━━━━━━━━━━━\u001b[0m\u001b[37m\u001b[0m \u001b[1m1s\u001b[0m 18ms/step - accuracy: 0.7765 - loss: 0.5429 - val_accuracy: 0.8188 - val_loss: 0.4976\n",
      "Epoch 7/10\n",
      "\u001b[1m40/40\u001b[0m \u001b[32m━━━━━━━━━━━━━━━━━━━━\u001b[0m\u001b[37m\u001b[0m \u001b[1m1s\u001b[0m 18ms/step - accuracy: 0.8019 - loss: 0.4940 - val_accuracy: 0.8328 - val_loss: 0.4534\n",
      "Epoch 8/10\n",
      "\u001b[1m40/40\u001b[0m \u001b[32m━━━━━━━━━━━━━━━━━━━━\u001b[0m\u001b[37m\u001b[0m \u001b[1m1s\u001b[0m 18ms/step - accuracy: 0.8212 - loss: 0.4558 - val_accuracy: 0.8524 - val_loss: 0.4154\n",
      "Epoch 9/10\n",
      "\u001b[1m40/40\u001b[0m \u001b[32m━━━━━━━━━━━━━━━━━━━━\u001b[0m\u001b[37m\u001b[0m \u001b[1m1s\u001b[0m 18ms/step - accuracy: 0.8302 - loss: 0.4229 - val_accuracy: 0.8572 - val_loss: 0.3883\n",
      "Epoch 10/10\n",
      "\u001b[1m40/40\u001b[0m \u001b[32m━━━━━━━━━━━━━━━━━━━━\u001b[0m\u001b[37m\u001b[0m \u001b[1m1s\u001b[0m 19ms/step - accuracy: 0.8442 - loss: 0.3974 - val_accuracy: 0.8380 - val_loss: 0.3815\n",
      "\u001b[1m782/782\u001b[0m \u001b[32m━━━━━━━━━━━━━━━━━━━━\u001b[0m\u001b[37m\u001b[0m \u001b[1m1s\u001b[0m 2ms/step - accuracy: 0.8352 - loss: 0.3867\n",
      "Model Evaluation:  [0.39014384150505066, 0.8345999717712402]\n"
     ]
    }
   ],
   "source": [
    "import tensorflow as tf\n",
    "from tensorflow.keras import Sequential\n",
    "from tensorflow.keras.layers import Dense, Embedding, GlobalAveragePooling1D, Dropout\n",
    "\n",
    "# Load data\n",
    "(x_train, y_train), (x_test, y_test) = tf.keras.datasets.imdb.load_data(num_words=10000)\n",
    "\n",
    "# Preprocess data\n",
    "maxlen = 256\n",
    "x_train = tf.keras.preprocessing.sequence.pad_sequences(x_train, maxlen=maxlen)\n",
    "x_test = tf.keras.preprocessing.sequence.pad_sequences(x_test, maxlen=maxlen)\n",
    "\n",
    "# Define model\n",
    "model = Sequential([\n",
    "    Embedding(input_dim=10000, output_dim=16),\n",
    "    GlobalAveragePooling1D(),\n",
    "    Dense(16, activation='relu'),\n",
    "    Dropout(0.5),  # Adding dropout for regularization\n",
    "    Dense(1, activation='sigmoid')\n",
    "])\n",
    "\n",
    "# Print model summary\n",
    "model.summary()\n",
    "\n",
    "# Compile and train model\n",
    "model.compile(optimizer='adam', loss='binary_crossentropy', metrics=['accuracy'])\n",
    "model.fit(x_train, y_train, epochs=10, batch_size=512, validation_split=0.2)\n",
    "\n",
    "# Evaluate model\n",
    "print(\"Model Evaluation: \",model.evaluate(x_test, y_test))\n"
   ]
  },
  {
   "cell_type": "markdown",
   "id": "ff3895a2",
   "metadata": {
    "papermill": {
     "duration": 0.467226,
     "end_time": "2024-05-26T18:05:00.307021",
     "exception": false,
     "start_time": "2024-05-26T18:04:59.839795",
     "status": "completed"
    },
    "tags": []
   },
   "source": [
    "<a id = \"8\"></a>\n",
    "<h1 style=\"padding:10px;background-color:rgb(152, 255, 152);opacity: 0.8;margin:0;color:black;font-family:courier; font-size:200%;text-align:center;border-radius: 30px 50px;overflow:hidden;font-weight:500\">8.Conclusion and Next Steps</h1>"
   ]
  },
  {
   "cell_type": "markdown",
   "id": "f4df8cc9",
   "metadata": {
    "papermill": {
     "duration": 0.578824,
     "end_time": "2024-05-26T18:05:01.358483",
     "exception": false,
     "start_time": "2024-05-26T18:05:00.779659",
     "status": "completed"
    },
    "tags": []
   },
   "source": [
    "Congratulations on completing this TensorFlow guide! You've learned the fundamentals of TensorFlow and how to apply them effectively. From basic concepts to advanced techniques, you've gained valuable insights that will help you in your machine learning journey.\n",
    "\n",
    "Remember, practice makes perfect. Keep experimenting with different models, datasets, and techniques. Kaggle projects, competitions are a great way to apply what you've learned and challenge yourself further.\n",
    "\n",
    "If you found this guide helpful, please consider upvoting it on Kaggle to support the author and help others discover it.\n",
    "\n",
    "Thank you for reading, and happy coding!"
   ]
  }
 ],
 "metadata": {
  "kaggle": {
   "accelerator": "none",
   "dataSources": [],
   "dockerImageVersionId": 30698,
   "isGpuEnabled": false,
   "isInternetEnabled": true,
   "language": "python",
   "sourceType": "notebook"
  },
  "kernelspec": {
   "display_name": "Python 3",
   "language": "python",
   "name": "python3"
  },
  "language_info": {
   "codemirror_mode": {
    "name": "ipython",
    "version": 3
   },
   "file_extension": ".py",
   "mimetype": "text/x-python",
   "name": "python",
   "nbconvert_exporter": "python",
   "pygments_lexer": "ipython3",
   "version": "3.10.13"
  },
  "papermill": {
   "default_parameters": {},
   "duration": 374.611381,
   "end_time": "2024-05-26T18:05:04.530365",
   "environment_variables": {},
   "exception": null,
   "input_path": "__notebook__.ipynb",
   "output_path": "__notebook__.ipynb",
   "parameters": {},
   "start_time": "2024-05-26T17:58:49.918984",
   "version": "2.5.0"
  }
 },
 "nbformat": 4,
 "nbformat_minor": 5
}
