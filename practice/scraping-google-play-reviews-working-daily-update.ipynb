{
 "cells": [
  {
   "cell_type": "code",
   "execution_count": 1,
   "id": "f2b5c397",
   "metadata": {
    "_cell_guid": "b1076dfc-b9ad-4769-8c92-a6c4dae69d19",
    "_kg_hide-input": true,
    "_uuid": "8f2839f25d086af736a60e9eeb907d3b93b6e0e5",
    "execution": {
     "iopub.execute_input": "2024-04-20T17:07:43.027157Z",
     "iopub.status.busy": "2024-04-20T17:07:43.026716Z",
     "iopub.status.idle": "2024-04-20T17:07:43.042218Z",
     "shell.execute_reply": "2024-04-20T17:07:43.041314Z"
    },
    "papermill": {
     "duration": 0.025677,
     "end_time": "2024-04-20T17:07:43.044451",
     "exception": false,
     "start_time": "2024-04-20T17:07:43.018774",
     "status": "completed"
    },
    "tags": []
   },
   "outputs": [],
   "source": [
    "## This one is just to customise the appearnce of the dataframes , can be omitted\n",
    "from IPython.display import display, Markdown\n",
    "import numpy as np\n",
    "def set_frame_style(df, caption=\"\", font_size ='20px' ):\n",
    "    random_list = ['Greys', 'Purples', 'Blues', 'Greens', 'Oranges', 'Reds',\n",
    "                      'YlOrBr', 'YlOrRd', 'OrRd', 'PuRd', 'RdPu', 'BuPu',\n",
    "                      'GnBu', 'PuBu', 'YlGnBu', 'PuBuGn', 'BuGn', 'YlGn']\n",
    "    \"\"\"Helper function to set dataframe presentation style.\n",
    "    \"\"\"\n",
    "    return df.style.background_gradient(cmap=random_list[np.random.randint(1,17)]).set_caption(caption).set_table_styles([{\n",
    "    'selector': 'caption',\n",
    "    'props': [\n",
    "        ('color', 'Brown'),\n",
    "        ('font-size', font_size),\n",
    "        ('font-weight','bold')\n",
    "    ]}])"
   ]
  },
  {
   "cell_type": "markdown",
   "id": "174ada75",
   "metadata": {
    "papermill": {
     "duration": 0.005408,
     "end_time": "2024-04-20T17:07:43.055917",
     "exception": false,
     "start_time": "2024-04-20T17:07:43.050509",
     "status": "completed"
    },
    "tags": []
   },
   "source": [
    "<div class=\"anchor\" id=\"top\" style=\"\n",
    "    margin-right: auto; \n",
    "    margin-left: auto;\n",
    "    padding: 10px;\n",
    "   font-size : 15px;\n",
    "    border-radius: 10px;\n",
    "    font-color :  #581845  ;        \n",
    "    border: 2px solid #581845;\">\n",
    "\n",
    "- The python based google-play-scraper is currently failing to scrape reviews of any app on Google Play Store\n",
    "- But it is possible to fetch 10k-20k reviews based on some tweaks, what some awesome people on Github came through.\n",
    "- I'm sharing a woring example of how to do that based on the inputs from their Github Repository"
   ]
  },
  {
   "cell_type": "code",
   "execution_count": 2,
   "id": "a66a7da3",
   "metadata": {
    "execution": {
     "iopub.execute_input": "2024-04-20T17:07:43.070181Z",
     "iopub.status.busy": "2024-04-20T17:07:43.069063Z",
     "iopub.status.idle": "2024-04-20T17:07:58.875166Z",
     "shell.execute_reply": "2024-04-20T17:07:58.874146Z"
    },
    "papermill": {
     "duration": 15.816426,
     "end_time": "2024-04-20T17:07:58.877919",
     "exception": false,
     "start_time": "2024-04-20T17:07:43.061493",
     "status": "completed"
    },
    "tags": []
   },
   "outputs": [
    {
     "name": "stdout",
     "output_type": "stream",
     "text": [
      "Collecting google-play-scraper\r\n",
      "  Downloading google_play_scraper-1.2.6-py3-none-any.whl.metadata (50 kB)\r\n",
      "\u001b[2K     \u001b[90m━━━━━━━━━━━━━━━━━━━━━━━━━━━━━━━━━━━━━━━━\u001b[0m \u001b[32m50.2/50.2 kB\u001b[0m \u001b[31m2.4 MB/s\u001b[0m eta \u001b[36m0:00:00\u001b[0m\r\n",
      "\u001b[?25hDownloading google_play_scraper-1.2.6-py3-none-any.whl (28 kB)\r\n",
      "Installing collected packages: google-play-scraper\r\n",
      "Successfully installed google-play-scraper-1.2.6\r\n"
     ]
    }
   ],
   "source": [
    "!pip install google-play-scraper"
   ]
  },
  {
   "cell_type": "code",
   "execution_count": 3,
   "id": "77bb4ffb",
   "metadata": {
    "execution": {
     "iopub.execute_input": "2024-04-20T17:07:58.893041Z",
     "iopub.status.busy": "2024-04-20T17:07:58.892671Z",
     "iopub.status.idle": "2024-04-20T17:07:58.907861Z",
     "shell.execute_reply": "2024-04-20T17:07:58.906908Z"
    },
    "papermill": {
     "duration": 0.026034,
     "end_time": "2024-04-20T17:07:58.910506",
     "exception": false,
     "start_time": "2024-04-20T17:07:58.884472",
     "status": "completed"
    },
    "tags": []
   },
   "outputs": [],
   "source": [
    "import google_play_scraper"
   ]
  },
  {
   "cell_type": "markdown",
   "id": "0103e814",
   "metadata": {
    "papermill": {
     "duration": 0.006235,
     "end_time": "2024-04-20T17:07:58.923266",
     "exception": false,
     "start_time": "2024-04-20T17:07:58.917031",
     "status": "completed"
    },
    "tags": []
   },
   "source": [
    "<div class=\"anchor\" id=\"top\" style=\"\n",
    "    margin-right: auto; \n",
    "    margin-left: auto;\n",
    "    padding: 10px;\n",
    "   font-size : 15px;\n",
    "    border-radius: 10px;\n",
    "    font-color :  #581845  ;        \n",
    "    border: 2px solid #581845;\">\n",
    "\n",
    "### Get the app id of the Application from Playstore you want to fetch the reviews of.\n",
    "\n",
    "- e.g. For Facebook app, the link on the Google Play Store is : https://play.google.com/store/apps/details/Facebook?id=com.facebook.katana&hl=en_ZA\n",
    "\n",
    "- So the app id for Facebook is `com.facebook.katana`"
   ]
  },
  {
   "cell_type": "code",
   "execution_count": 4,
   "id": "87991227",
   "metadata": {
    "execution": {
     "iopub.execute_input": "2024-04-20T17:07:58.937829Z",
     "iopub.status.busy": "2024-04-20T17:07:58.937471Z",
     "iopub.status.idle": "2024-04-20T17:07:58.941973Z",
     "shell.execute_reply": "2024-04-20T17:07:58.940869Z"
    },
    "papermill": {
     "duration": 0.014528,
     "end_time": "2024-04-20T17:07:58.944224",
     "exception": false,
     "start_time": "2024-04-20T17:07:58.929696",
     "status": "completed"
    },
    "tags": []
   },
   "outputs": [],
   "source": [
    "app_id = 'com.facebook.katana'"
   ]
  },
  {
   "cell_type": "markdown",
   "id": "3e657abf",
   "metadata": {
    "papermill": {
     "duration": 0.006362,
     "end_time": "2024-04-20T17:07:58.956979",
     "exception": false,
     "start_time": "2024-04-20T17:07:58.950617",
     "status": "completed"
    },
    "tags": []
   },
   "source": [
    "<div class=\"anchor\" id=\"top\" style=\"\n",
    "    margin-right: auto; \n",
    "    margin-left: auto;\n",
    "    padding: 10px;\n",
    "   font-size : 15px;\n",
    "    border-radius: 10px;\n",
    "    font-color :  #581845  ;        \n",
    "    border: 2px solid #581845;\">\n",
    "\n",
    "### Some tweaks in the library files [Run as it is, no change needed in this]"
   ]
  },
  {
   "cell_type": "code",
   "execution_count": 5,
   "id": "9ca56f01",
   "metadata": {
    "execution": {
     "iopub.execute_input": "2024-04-20T17:07:58.971251Z",
     "iopub.status.busy": "2024-04-20T17:07:58.970832Z",
     "iopub.status.idle": "2024-04-20T17:07:59.932333Z",
     "shell.execute_reply": "2024-04-20T17:07:59.931221Z"
    },
    "papermill": {
     "duration": 0.971922,
     "end_time": "2024-04-20T17:07:59.935232",
     "exception": false,
     "start_time": "2024-04-20T17:07:58.963310",
     "status": "completed"
    },
    "tags": []
   },
   "outputs": [],
   "source": [
    "from google_play_scraper import Sort\n",
    "from google_play_scraper.constants.element import ElementSpecs\n",
    "from google_play_scraper.constants.regex import Regex\n",
    "from google_play_scraper.constants.request import Formats\n",
    "from google_play_scraper.utils.request import post\n",
    "\n",
    "import pandas as pd\n",
    "from datetime import datetime\n",
    "from tqdm import tqdm\n",
    "import time\n",
    "import json\n",
    "from time import sleep\n",
    "from typing import List, Optional, Tuple"
   ]
  },
  {
   "cell_type": "code",
   "execution_count": 6,
   "id": "f5b00913",
   "metadata": {
    "execution": {
     "iopub.execute_input": "2024-04-20T17:07:59.950807Z",
     "iopub.status.busy": "2024-04-20T17:07:59.950127Z",
     "iopub.status.idle": "2024-04-20T17:07:59.980287Z",
     "shell.execute_reply": "2024-04-20T17:07:59.979460Z"
    },
    "papermill": {
     "duration": 0.041235,
     "end_time": "2024-04-20T17:07:59.982975",
     "exception": false,
     "start_time": "2024-04-20T17:07:59.941740",
     "status": "completed"
    },
    "tags": []
   },
   "outputs": [],
   "source": [
    "\n",
    "\n",
    "MAX_COUNT_EACH_FETCH = 199\n",
    "\n",
    "\n",
    "class _ContinuationToken:\n",
    "    __slots__ = (\n",
    "        \"token\",\n",
    "        \"lang\",\n",
    "        \"country\",\n",
    "        \"sort\",\n",
    "        \"count\",\n",
    "        \"filter_score_with\",\n",
    "        \"filter_device_with\",\n",
    "    )\n",
    "\n",
    "    def __init__(\n",
    "        self, token, lang, country, sort, count, filter_score_with, filter_device_with\n",
    "    ):\n",
    "        self.token = token\n",
    "        self.lang = lang\n",
    "        self.country = country\n",
    "        self.sort = sort\n",
    "        self.count = count\n",
    "        self.filter_score_with = filter_score_with\n",
    "        self.filter_device_with = filter_device_with\n",
    "\n",
    "\n",
    "def _fetch_review_items(\n",
    "    url: str,\n",
    "    app_id: str,\n",
    "    sort: int,\n",
    "    count: int,\n",
    "    filter_score_with: Optional[int],\n",
    "    filter_device_with: Optional[int],\n",
    "    pagination_token: Optional[str],\n",
    "):\n",
    "    dom = post(\n",
    "        url,\n",
    "        Formats.Reviews.build_body(\n",
    "            app_id,\n",
    "            sort,\n",
    "            count,\n",
    "            \"null\" if filter_score_with is None else filter_score_with,\n",
    "            \"null\" if filter_device_with is None else filter_device_with,\n",
    "            pagination_token,\n",
    "        ),\n",
    "        {\"content-type\": \"application/x-www-form-urlencoded\"},\n",
    "    )\n",
    "    match = json.loads(Regex.REVIEWS.findall(dom)[0])\n",
    "\n",
    "    return json.loads(match[0][2])[0], json.loads(match[0][2])[-2][-1]\n",
    "\n",
    "\n",
    "def reviews(\n",
    "    app_id: str,\n",
    "    lang: str = \"en\",\n",
    "    country: str = \"us\",\n",
    "    sort: Sort = Sort.MOST_RELEVANT,\n",
    "    count: int = 100,\n",
    "    filter_score_with: int = None,\n",
    "    filter_device_with: int = None,\n",
    "    continuation_token: _ContinuationToken = None,\n",
    ") -> Tuple[List[dict], _ContinuationToken]:\n",
    "    sort = sort.value\n",
    "\n",
    "    if continuation_token is not None:\n",
    "        token = continuation_token.token\n",
    "\n",
    "        if token is None:\n",
    "            return (\n",
    "                [],\n",
    "                continuation_token,\n",
    "            )\n",
    "\n",
    "        lang = continuation_token.lang\n",
    "        country = continuation_token.country\n",
    "        sort = continuation_token.sort\n",
    "        count = continuation_token.count\n",
    "        filter_score_with = continuation_token.filter_score_with\n",
    "        filter_device_with = continuation_token.filter_device_with\n",
    "    else:\n",
    "        token = None\n",
    "\n",
    "    url = Formats.Reviews.build(lang=lang, country=country)\n",
    "\n",
    "    _fetch_count = count\n",
    "\n",
    "    result = []\n",
    "\n",
    "    while True:\n",
    "        if _fetch_count == 0:\n",
    "            break\n",
    "\n",
    "        if _fetch_count > MAX_COUNT_EACH_FETCH:\n",
    "            _fetch_count = MAX_COUNT_EACH_FETCH\n",
    "\n",
    "        try:\n",
    "            review_items, token = _fetch_review_items(\n",
    "                url,\n",
    "                app_id,\n",
    "                sort,\n",
    "                _fetch_count,\n",
    "                filter_score_with,\n",
    "                filter_device_with,\n",
    "                token,\n",
    "            )\n",
    "        except (TypeError, IndexError):\n",
    "            #funnan MOD start\n",
    "            token = continuation_token.token\n",
    "            continue\n",
    "            #MOD end\n",
    "\n",
    "        for review in review_items:\n",
    "            result.append(\n",
    "                {\n",
    "                    k: spec.extract_content(review)\n",
    "                    for k, spec in ElementSpecs.Review.items()\n",
    "                }\n",
    "            )\n",
    "\n",
    "        _fetch_count = count - len(result)\n",
    "\n",
    "        if isinstance(token, list):\n",
    "            token = None\n",
    "            break\n",
    "\n",
    "    return (\n",
    "        result,\n",
    "        _ContinuationToken(\n",
    "            token, lang, country, sort, count, filter_score_with, filter_device_with\n",
    "        ),\n",
    "    )\n",
    "\n",
    "\n",
    "def reviews_all(app_id: str, sleep_milliseconds: int = 0, **kwargs) -> list:\n",
    "    kwargs.pop(\"count\", None)\n",
    "    kwargs.pop(\"continuation_token\", None)\n",
    "\n",
    "    continuation_token = None\n",
    "\n",
    "    result = []\n",
    "\n",
    "    while True:\n",
    "        _result, continuation_token = reviews(\n",
    "            app_id,\n",
    "            count=MAX_COUNT_EACH_FETCH,\n",
    "            continuation_token=continuation_token,\n",
    "            **kwargs\n",
    "        )\n",
    "\n",
    "        result += _result\n",
    "\n",
    "        if continuation_token.token is None:\n",
    "            break\n",
    "\n",
    "        if sleep_milliseconds:\n",
    "            sleep(sleep_milliseconds / 1000)\n",
    "\n",
    "    return result"
   ]
  },
  {
   "cell_type": "markdown",
   "id": "94900576",
   "metadata": {
    "papermill": {
     "duration": 0.006143,
     "end_time": "2024-04-20T17:07:59.995681",
     "exception": false,
     "start_time": "2024-04-20T17:07:59.989538",
     "status": "completed"
    },
    "tags": []
   },
   "source": [
    "<div class=\"anchor\" id=\"top\" style=\"\n",
    "    margin-right: auto; \n",
    "    margin-left: auto;\n",
    "    padding: 10px;\n",
    "   font-size : 15px;\n",
    "    border-radius: 10px;\n",
    "    font-color :  #581845  ;        \n",
    "    border: 2px solid #581845;\">\n",
    "\n",
    "Set the number of reviews you want to scrape for"
   ]
  },
  {
   "cell_type": "code",
   "execution_count": 7,
   "id": "51982654",
   "metadata": {
    "execution": {
     "iopub.execute_input": "2024-04-20T17:08:00.012493Z",
     "iopub.status.busy": "2024-04-20T17:08:00.012107Z",
     "iopub.status.idle": "2024-04-20T17:08:00.016272Z",
     "shell.execute_reply": "2024-04-20T17:08:00.015198Z"
    },
    "papermill": {
     "duration": 0.016919,
     "end_time": "2024-04-20T17:08:00.018948",
     "exception": false,
     "start_time": "2024-04-20T17:08:00.002029",
     "status": "completed"
    },
    "tags": []
   },
   "outputs": [],
   "source": [
    "reviews_count = 25000"
   ]
  },
  {
   "cell_type": "code",
   "execution_count": 8,
   "id": "154d5010",
   "metadata": {
    "execution": {
     "iopub.execute_input": "2024-04-20T17:08:00.035207Z",
     "iopub.status.busy": "2024-04-20T17:08:00.034419Z",
     "iopub.status.idle": "2024-04-20T17:09:04.391041Z",
     "shell.execute_reply": "2024-04-20T17:09:04.389892Z"
    },
    "papermill": {
     "duration": 64.368214,
     "end_time": "2024-04-20T17:09:04.393682",
     "exception": false,
     "start_time": "2024-04-20T17:08:00.025468",
     "status": "completed"
    },
    "tags": []
   },
   "outputs": [
    {
     "name": "stderr",
     "output_type": "stream",
     "text": [
      "25074it [01:04, 389.71it/s]\n"
     ]
    }
   ],
   "source": [
    "result = []\n",
    "continuation_token = None\n",
    "\n",
    "\n",
    "with tqdm(total=reviews_count, position=0, leave=True) as pbar:\n",
    "    while len(result) < reviews_count:\n",
    "        new_result, continuation_token = reviews(\n",
    "            app_id,\n",
    "            continuation_token=continuation_token,\n",
    "            lang='en', #The language of review\n",
    "            country='in', #Country for which you want to scrape \n",
    "            sort=Sort.MOST_RELEVANT,\n",
    "            filter_score_with=None,\n",
    "            count=199 #No need to change this\n",
    "        )\n",
    "        if not new_result:\n",
    "            break\n",
    "        result.extend(new_result)\n",
    "        pbar.update(len(new_result))"
   ]
  },
  {
   "cell_type": "markdown",
   "id": "a3fbb986",
   "metadata": {
    "papermill": {
     "duration": 0.017756,
     "end_time": "2024-04-20T17:09:04.429380",
     "exception": false,
     "start_time": "2024-04-20T17:09:04.411624",
     "status": "completed"
    },
    "tags": []
   },
   "source": [
    "<div class=\"anchor\" id=\"top\" style=\"\n",
    "    margin-right: auto; \n",
    "    margin-left: auto;\n",
    "    padding: 10px;\n",
    "   font-size : 15px;\n",
    "    border-radius: 10px;\n",
    "    font-color :  #581845  ;        \n",
    "    border: 2px solid #581845;\">\n",
    "\n",
    "And we scraped almost 25k reviews!"
   ]
  },
  {
   "cell_type": "markdown",
   "id": "4f30b75f",
   "metadata": {
    "papermill": {
     "duration": 0.017845,
     "end_time": "2024-04-20T17:09:04.465353",
     "exception": false,
     "start_time": "2024-04-20T17:09:04.447508",
     "status": "completed"
    },
    "tags": []
   },
   "source": [
    "<div class=\"anchor\" id=\"top\" style=\"\n",
    "    margin-right: auto; \n",
    "    margin-left: auto;\n",
    "    padding: 10px;\n",
    "   font-size : 15px;\n",
    "    border-radius: 10px;\n",
    "    font-color :  #581845  ;        \n",
    "    border: 2px solid #581845;\">\n",
    "\n",
    "Sometimes the bar may stuck in between for some apps. It may mean that the number of reviews (not ratings) are almost the same as the iteration at which it stuck. Otherwise it may be the limitation of the library itself"
   ]
  },
  {
   "cell_type": "markdown",
   "id": "bf6c1349",
   "metadata": {
    "papermill": {
     "duration": 0.017472,
     "end_time": "2024-04-20T17:09:04.500722",
     "exception": false,
     "start_time": "2024-04-20T17:09:04.483250",
     "status": "completed"
    },
    "tags": []
   },
   "source": [
    "<div class=\"anchor\" id=\"top\" style=\"\n",
    "    margin-right: auto; \n",
    "    margin-left: auto;\n",
    "    padding: 10px;\n",
    "   font-size : 15px;\n",
    "    border-radius: 10px;\n",
    "    font-color :  #581845  ;        \n",
    "    border: 2px solid #581845;\">\n",
    "    \n",
    "Convert it to a Pandas Dataframe"
   ]
  },
  {
   "cell_type": "code",
   "execution_count": 9,
   "id": "36f144ca",
   "metadata": {
    "execution": {
     "iopub.execute_input": "2024-04-20T17:09:04.538328Z",
     "iopub.status.busy": "2024-04-20T17:09:04.537934Z",
     "iopub.status.idle": "2024-04-20T17:09:04.798907Z",
     "shell.execute_reply": "2024-04-20T17:09:04.797793Z"
    },
    "papermill": {
     "duration": 0.282591,
     "end_time": "2024-04-20T17:09:04.801250",
     "exception": false,
     "start_time": "2024-04-20T17:09:04.518659",
     "status": "completed"
    },
    "tags": []
   },
   "outputs": [
    {
     "data": {
      "text/html": [
       "<style type=\"text/css\">\n",
       "#T_8170c caption {\n",
       "  color: Brown;\n",
       "  font-size: 20px;\n",
       "  font-weight: bold;\n",
       "}\n",
       "#T_8170c_row0_col4, #T_8170c_row2_col4, #T_8170c_row2_col5 {\n",
       "  background-color: #67001f;\n",
       "  color: #f1f1f1;\n",
       "}\n",
       "#T_8170c_row0_col5, #T_8170c_row1_col4, #T_8170c_row3_col4, #T_8170c_row3_col5, #T_8170c_row4_col4, #T_8170c_row4_col5 {\n",
       "  background-color: #f7f4f9;\n",
       "  color: #000000;\n",
       "}\n",
       "#T_8170c_row1_col5 {\n",
       "  background-color: #f3eff6;\n",
       "  color: #000000;\n",
       "}\n",
       "</style>\n",
       "<table id=\"T_8170c\">\n",
       "  <thead>\n",
       "    <tr>\n",
       "      <th class=\"blank level0\" >&nbsp;</th>\n",
       "      <th id=\"T_8170c_level0_col0\" class=\"col_heading level0 col0\" >reviewId</th>\n",
       "      <th id=\"T_8170c_level0_col1\" class=\"col_heading level0 col1\" >userName</th>\n",
       "      <th id=\"T_8170c_level0_col2\" class=\"col_heading level0 col2\" >userImage</th>\n",
       "      <th id=\"T_8170c_level0_col3\" class=\"col_heading level0 col3\" >content</th>\n",
       "      <th id=\"T_8170c_level0_col4\" class=\"col_heading level0 col4\" >score</th>\n",
       "      <th id=\"T_8170c_level0_col5\" class=\"col_heading level0 col5\" >thumbsUpCount</th>\n",
       "      <th id=\"T_8170c_level0_col6\" class=\"col_heading level0 col6\" >reviewCreatedVersion</th>\n",
       "      <th id=\"T_8170c_level0_col7\" class=\"col_heading level0 col7\" >at</th>\n",
       "      <th id=\"T_8170c_level0_col8\" class=\"col_heading level0 col8\" >replyContent</th>\n",
       "      <th id=\"T_8170c_level0_col9\" class=\"col_heading level0 col9\" >repliedAt</th>\n",
       "      <th id=\"T_8170c_level0_col10\" class=\"col_heading level0 col10\" >appVersion</th>\n",
       "    </tr>\n",
       "  </thead>\n",
       "  <tbody>\n",
       "    <tr>\n",
       "      <th id=\"T_8170c_level0_row0\" class=\"row_heading level0 row0\" >25069</th>\n",
       "      <td id=\"T_8170c_row0_col0\" class=\"data row0 col0\" >222d4183-584a-4daf-a8d1-72c5f998a6db</td>\n",
       "      <td id=\"T_8170c_row0_col1\" class=\"data row0 col1\" >Charlotte Hajek</td>\n",
       "      <td id=\"T_8170c_row0_col2\" class=\"data row0 col2\" >https://play-lh.googleusercontent.com/a/ACg8ocI9Vdh4ADNnMTHFp35bcC8Dxt21NjlnRpWUWZ-Pw0Ij1Nu0nQ=mo</td>\n",
       "      <td id=\"T_8170c_row0_col3\" class=\"data row0 col3\" >Having problems with the app not working, not even loading and when it does work its forcing itself shut when I've been looking on the market or on my feed. I think it might have been since the last update. Having to keep uninstalling the updates and then updating it again over and over to get it to let me do anything on it.</td>\n",
       "      <td id=\"T_8170c_row0_col4\" class=\"data row0 col4\" >3</td>\n",
       "      <td id=\"T_8170c_row0_col5\" class=\"data row0 col5\" >1</td>\n",
       "      <td id=\"T_8170c_row0_col6\" class=\"data row0 col6\" >274.0.0.46.119</td>\n",
       "      <td id=\"T_8170c_row0_col7\" class=\"data row0 col7\" >2020-07-08 17:00:22</td>\n",
       "      <td id=\"T_8170c_row0_col8\" class=\"data row0 col8\" >None</td>\n",
       "      <td id=\"T_8170c_row0_col9\" class=\"data row0 col9\" >None</td>\n",
       "      <td id=\"T_8170c_row0_col10\" class=\"data row0 col10\" >274.0.0.46.119</td>\n",
       "    </tr>\n",
       "    <tr>\n",
       "      <th id=\"T_8170c_level0_row1\" class=\"row_heading level0 row1\" >25070</th>\n",
       "      <td id=\"T_8170c_row1_col0\" class=\"data row1 col0\" >4c0eba2d-7ce3-4d5b-8c52-b86eb93a36bf</td>\n",
       "      <td id=\"T_8170c_row1_col1\" class=\"data row1 col1\" >Lelon Gilbert</td>\n",
       "      <td id=\"T_8170c_row1_col2\" class=\"data row1 col2\" >https://play-lh.googleusercontent.com/a-/ALV-UjV8ZEZwVae-FzqdIv_WaV6setWlocYeLQoMD9-rrJjh8qAkXGEY</td>\n",
       "      <td id=\"T_8170c_row1_col3\" class=\"data row1 col3\" >Overall it's a great app if use for a phew years even made new freinds but I loved scrolling through market place but it seems yall have did away with it I whould love to have market place back</td>\n",
       "      <td id=\"T_8170c_row1_col4\" class=\"data row1 col4\" >2</td>\n",
       "      <td id=\"T_8170c_row1_col5\" class=\"data row1 col5\" >8</td>\n",
       "      <td id=\"T_8170c_row1_col6\" class=\"data row1 col6\" >446.0.0.27.352</td>\n",
       "      <td id=\"T_8170c_row1_col7\" class=\"data row1 col7\" >2024-01-19 01:35:49</td>\n",
       "      <td id=\"T_8170c_row1_col8\" class=\"data row1 col8\" >None</td>\n",
       "      <td id=\"T_8170c_row1_col9\" class=\"data row1 col9\" >None</td>\n",
       "      <td id=\"T_8170c_row1_col10\" class=\"data row1 col10\" >446.0.0.27.352</td>\n",
       "    </tr>\n",
       "    <tr>\n",
       "      <th id=\"T_8170c_level0_row2\" class=\"row_heading level0 row2\" >25071</th>\n",
       "      <td id=\"T_8170c_row2_col0\" class=\"data row2 col0\" >b293c638-cfa4-470b-884f-38e243a63ad7</td>\n",
       "      <td id=\"T_8170c_row2_col1\" class=\"data row2 col1\" >Lattra Slayton</td>\n",
       "      <td id=\"T_8170c_row2_col2\" class=\"data row2 col2\" >https://play-lh.googleusercontent.com/a-/ALV-UjU-M5J4xsXSewprTD_EKTz7vb9fYLNZlC4DrUrlvpsiMaf3M6Qx</td>\n",
       "      <td id=\"T_8170c_row2_col3\" class=\"data row2 col3\" >It's a lot different and more difficult to use than when I first downloaded it several years ago! AND that go's for sharing and uploading videos too!! Thanks for allowing it to be free though!😁😉💋🦹‍♀️💃🏼 Now it also has a glitch and won't stay open ever since it made me sign in again to put my password in, it started doing it so I'm going to try and Uninstall it and reinstall it to see if that works...</td>\n",
       "      <td id=\"T_8170c_row2_col4\" class=\"data row2 col4\" >3</td>\n",
       "      <td id=\"T_8170c_row2_col5\" class=\"data row2 col5\" >219</td>\n",
       "      <td id=\"T_8170c_row2_col6\" class=\"data row2 col6\" >380.0.0.29.109</td>\n",
       "      <td id=\"T_8170c_row2_col7\" class=\"data row2 col7\" >2022-08-20 05:48:41</td>\n",
       "      <td id=\"T_8170c_row2_col8\" class=\"data row2 col8\" >None</td>\n",
       "      <td id=\"T_8170c_row2_col9\" class=\"data row2 col9\" >None</td>\n",
       "      <td id=\"T_8170c_row2_col10\" class=\"data row2 col10\" >380.0.0.29.109</td>\n",
       "    </tr>\n",
       "    <tr>\n",
       "      <th id=\"T_8170c_level0_row3\" class=\"row_heading level0 row3\" >25072</th>\n",
       "      <td id=\"T_8170c_row3_col0\" class=\"data row3 col0\" >f6c2353b-ce43-42f3-8e39-ea760294283b</td>\n",
       "      <td id=\"T_8170c_row3_col1\" class=\"data row3 col1\" >Lizz L</td>\n",
       "      <td id=\"T_8170c_row3_col2\" class=\"data row3 col2\" >https://play-lh.googleusercontent.com/a/ACg8ocJGNidw-m6Rwucgtx4Ru1SYbaJGx0icqK1ljee4xktQsREcRg=mo</td>\n",
       "      <td id=\"T_8170c_row3_col3\" class=\"data row3 col3\" >Was working fine until marketplace stopped showing up I can't access it .</td>\n",
       "      <td id=\"T_8170c_row3_col4\" class=\"data row3 col4\" >2</td>\n",
       "      <td id=\"T_8170c_row3_col5\" class=\"data row3 col5\" >1</td>\n",
       "      <td id=\"T_8170c_row3_col6\" class=\"data row3 col6\" >448.0.0.30.115</td>\n",
       "      <td id=\"T_8170c_row3_col7\" class=\"data row3 col7\" >2024-02-01 03:18:00</td>\n",
       "      <td id=\"T_8170c_row3_col8\" class=\"data row3 col8\" >None</td>\n",
       "      <td id=\"T_8170c_row3_col9\" class=\"data row3 col9\" >None</td>\n",
       "      <td id=\"T_8170c_row3_col10\" class=\"data row3 col10\" >448.0.0.30.115</td>\n",
       "    </tr>\n",
       "    <tr>\n",
       "      <th id=\"T_8170c_level0_row4\" class=\"row_heading level0 row4\" >25073</th>\n",
       "      <td id=\"T_8170c_row4_col0\" class=\"data row4 col0\" >26773d4f-6acc-4786-af2c-2f104d716c95</td>\n",
       "      <td id=\"T_8170c_row4_col1\" class=\"data row4 col1\" >nagaraj phy</td>\n",
       "      <td id=\"T_8170c_row4_col2\" class=\"data row4 col2\" >https://play-lh.googleusercontent.com/a/ACg8ocK0kzURIXV5mqecDYAahDugZ1ssnZQ2yTTtDzENHJZrAmyoiA=mo</td>\n",
       "      <td id=\"T_8170c_row4_col3\" class=\"data row4 col3\" >Like add per minute 10 times coming. It is like irritating. Please don't send me like adds.It is my humble request</td>\n",
       "      <td id=\"T_8170c_row4_col4\" class=\"data row4 col4\" >2</td>\n",
       "      <td id=\"T_8170c_row4_col5\" class=\"data row4 col5\" >1</td>\n",
       "      <td id=\"T_8170c_row4_col6\" class=\"data row4 col6\" >440.0.0.31.105</td>\n",
       "      <td id=\"T_8170c_row4_col7\" class=\"data row4 col7\" >2023-11-08 17:30:02</td>\n",
       "      <td id=\"T_8170c_row4_col8\" class=\"data row4 col8\" >None</td>\n",
       "      <td id=\"T_8170c_row4_col9\" class=\"data row4 col9\" >None</td>\n",
       "      <td id=\"T_8170c_row4_col10\" class=\"data row4 col10\" >440.0.0.31.105</td>\n",
       "    </tr>\n",
       "  </tbody>\n",
       "</table>\n"
      ],
      "text/plain": [
       "<pandas.io.formats.style.Styler at 0x7f9157f2e5f0>"
      ]
     },
     "execution_count": 9,
     "metadata": {},
     "output_type": "execute_result"
    }
   ],
   "source": [
    "df = pd.DataFrame(result)\n",
    "\n",
    "set_frame_style(df.tail())"
   ]
  },
  {
   "cell_type": "markdown",
   "id": "15039486",
   "metadata": {
    "papermill": {
     "duration": 0.018366,
     "end_time": "2024-04-20T17:09:04.838601",
     "exception": false,
     "start_time": "2024-04-20T17:09:04.820235",
     "status": "completed"
    },
    "tags": []
   },
   "source": [
    "<div class=\"anchor\" id=\"top\" style=\"\n",
    "    margin-right: auto; \n",
    "    margin-left: auto;\n",
    "    padding: 10px;\n",
    "   font-size : 15px;\n",
    "    border-radius: 10px;\n",
    "    font-color :  #581845  ;        \n",
    "    border: 2px solid #581845;\">\n",
    "\n",
    "The Dataset is ready! Now, you can do whatever you want, from Sentiment Analysis to Facebook-specific NER to anything!"
   ]
  }
 ],
 "metadata": {
  "kaggle": {
   "accelerator": "none",
   "dataSources": [],
   "dockerImageVersionId": 30702,
   "isGpuEnabled": false,
   "isInternetEnabled": true,
   "language": "python",
   "sourceType": "notebook"
  },
  "kernelspec": {
   "display_name": "Python 3",
   "language": "python",
   "name": "python3"
  },
  "language_info": {
   "codemirror_mode": {
    "name": "ipython",
    "version": 3
   },
   "file_extension": ".py",
   "mimetype": "text/x-python",
   "name": "python",
   "nbconvert_exporter": "python",
   "pygments_lexer": "ipython3",
   "version": "3.10.13"
  },
  "papermill": {
   "default_parameters": {},
   "duration": 85.312092,
   "end_time": "2024-04-20T17:09:05.377960",
   "environment_variables": {},
   "exception": null,
   "input_path": "__notebook__.ipynb",
   "output_path": "__notebook__.ipynb",
   "parameters": {},
   "start_time": "2024-04-20T17:07:40.065868",
   "version": "2.5.0"
  }
 },
 "nbformat": 4,
 "nbformat_minor": 5
}
