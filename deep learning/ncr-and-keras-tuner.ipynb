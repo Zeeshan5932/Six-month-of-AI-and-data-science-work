{
 "cells": [
  {
   "cell_type": "code",
   "execution_count": 1,
   "id": "85db642a",
   "metadata": {
    "_cell_guid": "b1076dfc-b9ad-4769-8c92-a6c4dae69d19",
    "_uuid": "8f2839f25d086af736a60e9eeb907d3b93b6e0e5",
    "execution": {
     "iopub.execute_input": "2024-02-12T11:52:31.283696Z",
     "iopub.status.busy": "2024-02-12T11:52:31.283301Z",
     "iopub.status.idle": "2024-02-12T11:52:32.349997Z",
     "shell.execute_reply": "2024-02-12T11:52:32.348473Z"
    },
    "papermill": {
     "duration": 1.079629,
     "end_time": "2024-02-12T11:52:32.352678",
     "exception": false,
     "start_time": "2024-02-12T11:52:31.273049",
     "status": "completed"
    },
    "tags": []
   },
   "outputs": [
    {
     "name": "stdout",
     "output_type": "stream",
     "text": [
      "/kaggle/input/ncr/sample_submission.csv\n",
      "/kaggle/input/ncr/train.csv\n",
      "/kaggle/input/ncr/test.csv\n"
     ]
    }
   ],
   "source": [
    "# This Python 3 environment comes with many helpful analytics libraries installed\n",
    "# It is defined by the kaggle/python Docker image: https://github.com/kaggle/docker-python\n",
    "# For example, here's several helpful packages to load\n",
    "\n",
    "import numpy as np # linear algebra\n",
    "import pandas as pd # data processing, CSV file I/O (e.g. pd.read_csv)\n",
    "\n",
    "# Input data files are available in the read-only \"../input/\" directory\n",
    "# For example, running this (by clicking run or pressing Shift+Enter) will list all files under the input directory\n",
    "\n",
    "import os\n",
    "for dirname, _, filenames in os.walk('/kaggle/input'):\n",
    "    for filename in filenames:\n",
    "        print(os.path.join(dirname, filename))\n",
    "\n",
    "# You can write up to 20GB to the current directory (/kaggle/working/) that gets preserved as output when you create a version using \"Save & Run All\" \n",
    "# You can also write temporary files to /kaggle/temp/, but they won't be saved outside of the current session"
   ]
  },
  {
   "cell_type": "code",
   "execution_count": 2,
   "id": "710eeab8",
   "metadata": {
    "execution": {
     "iopub.execute_input": "2024-02-12T11:52:32.370382Z",
     "iopub.status.busy": "2024-02-12T11:52:32.369788Z",
     "iopub.status.idle": "2024-02-12T11:52:39.013396Z",
     "shell.execute_reply": "2024-02-12T11:52:39.011952Z"
    },
    "papermill": {
     "duration": 6.655572,
     "end_time": "2024-02-12T11:52:39.016196",
     "exception": false,
     "start_time": "2024-02-12T11:52:32.360624",
     "status": "completed"
    },
    "tags": []
   },
   "outputs": [],
   "source": [
    "x_train = pd.read_csv('/kaggle/input/ncr/train.csv')\n",
    "x_test = pd.read_csv('/kaggle/input/ncr/test.csv')\n",
    "submit = pd.read_csv('/kaggle/input/ncr/sample_submission.csv')"
   ]
  },
  {
   "cell_type": "code",
   "execution_count": 3,
   "id": "c329b414",
   "metadata": {
    "execution": {
     "iopub.execute_input": "2024-02-12T11:52:39.033555Z",
     "iopub.status.busy": "2024-02-12T11:52:39.033180Z",
     "iopub.status.idle": "2024-02-12T11:52:39.155517Z",
     "shell.execute_reply": "2024-02-12T11:52:39.154073Z"
    },
    "papermill": {
     "duration": 0.134333,
     "end_time": "2024-02-12T11:52:39.158402",
     "exception": false,
     "start_time": "2024-02-12T11:52:39.024069",
     "status": "completed"
    },
    "tags": []
   },
   "outputs": [],
   "source": [
    "y_train = x_train.label\n",
    "x_train = x_train.drop('label',axis=1)"
   ]
  },
  {
   "cell_type": "code",
   "execution_count": 4,
   "id": "5061a6a7",
   "metadata": {
    "execution": {
     "iopub.execute_input": "2024-02-12T11:52:39.176346Z",
     "iopub.status.busy": "2024-02-12T11:52:39.175911Z",
     "iopub.status.idle": "2024-02-12T11:52:39.181764Z",
     "shell.execute_reply": "2024-02-12T11:52:39.180394Z"
    },
    "papermill": {
     "duration": 0.01808,
     "end_time": "2024-02-12T11:52:39.184364",
     "exception": false,
     "start_time": "2024-02-12T11:52:39.166284",
     "status": "completed"
    },
    "tags": []
   },
   "outputs": [],
   "source": [
    "lst = x_train.columns.tolist()"
   ]
  },
  {
   "cell_type": "code",
   "execution_count": 5,
   "id": "cabe4ca3",
   "metadata": {
    "execution": {
     "iopub.execute_input": "2024-02-12T11:52:39.202920Z",
     "iopub.status.busy": "2024-02-12T11:52:39.201954Z",
     "iopub.status.idle": "2024-02-12T11:52:39.545916Z",
     "shell.execute_reply": "2024-02-12T11:52:39.544127Z"
    },
    "papermill": {
     "duration": 0.356968,
     "end_time": "2024-02-12T11:52:39.549306",
     "exception": false,
     "start_time": "2024-02-12T11:52:39.192338",
     "status": "completed"
    },
    "tags": []
   },
   "outputs": [
    {
     "data": {
      "text/plain": [
       "<matplotlib.image.AxesImage at 0x79f1eb88b550>"
      ]
     },
     "execution_count": 5,
     "metadata": {},
     "output_type": "execute_result"
    },
    {
     "data": {
      "image/png": "[encoded data removed]",
      "text/plain": [
       "<Figure size 400x800 with 2 Axes>"
      ]
     },
     "metadata": {},
     "output_type": "display_data"
    }
   ],
   "source": [
    "import matplotlib.pyplot as plt\n",
    "\n",
    "train_0 = np.array(x_train.loc[0,lst])\n",
    "train_1 = np.array(x_train.loc[1,lst])\n",
    "train_image_0 = np.reshape(train_0,(28,28,1))\n",
    "train_image_1 = np.reshape(train_1,(28,28,1))\n",
    "fig,ax = plt.subplots(nrows=1, ncols=2, figsize=(4, 8))\n",
    "ax[0].imshow(train_image_0, cmap='gray')\n",
    "ax[1].imshow(train_image_1, cmap='gray')"
   ]
  },
  {
   "cell_type": "code",
   "execution_count": 6,
   "id": "5481b38d",
   "metadata": {
    "execution": {
     "iopub.execute_input": "2024-02-12T11:52:39.568665Z",
     "iopub.status.busy": "2024-02-12T11:52:39.568269Z",
     "iopub.status.idle": "2024-02-12T11:52:39.870265Z",
     "shell.execute_reply": "2024-02-12T11:52:39.868974Z"
    },
    "papermill": {
     "duration": 0.315466,
     "end_time": "2024-02-12T11:52:39.872968",
     "exception": false,
     "start_time": "2024-02-12T11:52:39.557502",
     "status": "completed"
    },
    "tags": []
   },
   "outputs": [
    {
     "data": {
      "text/plain": [
       "<matplotlib.image.AxesImage at 0x79f1eb52b310>"
      ]
     },
     "execution_count": 6,
     "metadata": {},
     "output_type": "execute_result"
    },
    {
     "data": {
      "image/png": "[encoded data removed]",
      "text/plain": [
       "<Figure size 400x800 with 2 Axes>"
      ]
     },
     "metadata": {},
     "output_type": "display_data"
    }
   ],
   "source": [
    "test_0 = np.array(x_test.loc[0,lst])\n",
    "test_1 = np.array(x_test.loc[1,lst])\n",
    "test_image_0 = np.reshape(test_0,(28,28,1))\n",
    "test_image_1 = np.reshape(test_1,(28,28,1))\n",
    "fig,ax = plt.subplots(nrows=1, ncols=2, figsize=(4, 8))\n",
    "ax[0].imshow(test_image_0, cmap='gray')\n",
    "ax[1].imshow(test_image_1, cmap='gray')"
   ]
  },
  {
   "cell_type": "code",
   "execution_count": 7,
   "id": "693dc034",
   "metadata": {
    "execution": {
     "iopub.execute_input": "2024-02-12T11:52:39.893215Z",
     "iopub.status.busy": "2024-02-12T11:52:39.892059Z",
     "iopub.status.idle": "2024-02-12T11:52:39.898608Z",
     "shell.execute_reply": "2024-02-12T11:52:39.897558Z"
    },
    "papermill": {
     "duration": 0.019837,
     "end_time": "2024-02-12T11:52:39.901580",
     "exception": false,
     "start_time": "2024-02-12T11:52:39.881743",
     "status": "completed"
    },
    "tags": []
   },
   "outputs": [],
   "source": [
    "def data_prep(raw):\n",
    "    num_images = raw.shape[0]\n",
    "    x_as_array = raw.values[:,:]\n",
    "    x_shaped_array = x_as_array.reshape(num_images, 28, 28, 1)\n",
    "    out_x = x_shaped_array / 255\n",
    "    return out_x"
   ]
  },
  {
   "cell_type": "code",
   "execution_count": 8,
   "id": "0e299994",
   "metadata": {
    "execution": {
     "iopub.execute_input": "2024-02-12T11:52:39.920324Z",
     "iopub.status.busy": "2024-02-12T11:52:39.919884Z",
     "iopub.status.idle": "2024-02-12T11:52:40.064791Z",
     "shell.execute_reply": "2024-02-12T11:52:40.063468Z"
    },
    "papermill": {
     "duration": 0.15764,
     "end_time": "2024-02-12T11:52:40.067670",
     "exception": false,
     "start_time": "2024-02-12T11:52:39.910030",
     "status": "completed"
    },
    "tags": []
   },
   "outputs": [],
   "source": [
    "x = data_prep(x_train)\n",
    "y = pd.get_dummies(y_train)"
   ]
  },
  {
   "cell_type": "code",
   "execution_count": 9,
   "id": "8d592632",
   "metadata": {
    "execution": {
     "iopub.execute_input": "2024-02-12T11:52:40.087643Z",
     "iopub.status.busy": "2024-02-12T11:52:40.086745Z",
     "iopub.status.idle": "2024-02-12T11:52:57.961106Z",
     "shell.execute_reply": "2024-02-12T11:52:57.959708Z"
    },
    "papermill": {
     "duration": 17.887345,
     "end_time": "2024-02-12T11:52:57.964054",
     "exception": false,
     "start_time": "2024-02-12T11:52:40.076709",
     "status": "completed"
    },
    "tags": []
   },
   "outputs": [
    {
     "name": "stderr",
     "output_type": "stream",
     "text": [
      "2024-02-12 11:52:42.530778: E external/local_xla/xla/stream_executor/cuda/cuda_dnn.cc:9261] Unable to register cuDNN factory: Attempting to register factory for plugin cuDNN when one has already been registered\n",
      "2024-02-12 11:52:42.530925: E external/local_xla/xla/stream_executor/cuda/cuda_fft.cc:607] Unable to register cuFFT factory: Attempting to register factory for plugin cuFFT when one has already been registered\n",
      "2024-02-12 11:52:42.731246: E external/local_xla/xla/stream_executor/cuda/cuda_blas.cc:1515] Unable to register cuBLAS factory: Attempting to register factory for plugin cuBLAS when one has already been registered\n"
     ]
    }
   ],
   "source": [
    "import tensorflow as tf\n",
    "from tensorflow import keras\n",
    "from keras.models import Sequential\n",
    "from keras.layers import Dense, Input, Conv2D, MaxPooling2D, Flatten, Dropout\n",
    "import keras_tuner as kt\n",
    "\n",
    "def build_model(hp):\n",
    "    model = Sequential([\n",
    "         Conv2D(32, kernel_size=(3, 3), padding='same', activation='relu', input_shape=(28, 28, 1)),\n",
    "         MaxPooling2D(2, 2),\n",
    "         Conv2D(128, kernel_size=(3, 3), padding='same', activation='relu'),\n",
    "         MaxPooling2D(2, 2),\n",
    "         Dropout(hp.Choice('drop', values=[0.5])),\n",
    "         Flatten(),\n",
    "         Dense(32, activation='relu'),\n",
    "         Dense(10, activation=hp.Choice('output_activation', values=['sigmoid']))\n",
    "    ])\n",
    "    model.compile(optimizer=keras.optimizers.Adam(learning_rate=hp.Choice('learning_rate', values=[0.001])), loss = hp.Choice('losses_set', values=['categorical_crossentropy']), metrics=[\"accuracy\"])\n",
    "    return model    "
   ]
  },
  {
   "cell_type": "code",
   "execution_count": 10,
   "id": "4728fe9f",
   "metadata": {
    "execution": {
     "iopub.execute_input": "2024-02-12T11:52:57.985626Z",
     "iopub.status.busy": "2024-02-12T11:52:57.984855Z",
     "iopub.status.idle": "2024-02-12T11:52:58.182751Z",
     "shell.execute_reply": "2024-02-12T11:52:58.181449Z"
    },
    "papermill": {
     "duration": 0.212111,
     "end_time": "2024-02-12T11:52:58.185756",
     "exception": false,
     "start_time": "2024-02-12T11:52:57.973645",
     "status": "completed"
    },
    "tags": []
   },
   "outputs": [],
   "source": [
    "tuner = kt.RandomSearch(\n",
    "    build_model,\n",
    "    objective = 'val_accuracy',\n",
    "    max_trials = 1,\n",
    "    directory ='test'\n",
    ")"
   ]
  },
  {
   "cell_type": "code",
   "execution_count": 11,
   "id": "76bba975",
   "metadata": {
    "execution": {
     "iopub.execute_input": "2024-02-12T11:52:58.205740Z",
     "iopub.status.busy": "2024-02-12T11:52:58.205310Z",
     "iopub.status.idle": "2024-02-12T12:01:06.382716Z",
     "shell.execute_reply": "2024-02-12T12:01:06.381372Z"
    },
    "papermill": {
     "duration": 488.191777,
     "end_time": "2024-02-12T12:01:06.386065",
     "exception": false,
     "start_time": "2024-02-12T11:52:58.194288",
     "status": "completed"
    },
    "tags": []
   },
   "outputs": [
    {
     "name": "stdout",
     "output_type": "stream",
     "text": [
      "Trial 1 Complete [00h 08m 08s]\n",
      "val_accuracy: 0.990318238735199\n",
      "\n",
      "Best val_accuracy So Far: 0.990318238735199\n",
      "Total elapsed time: 00h 08m 08s\n"
     ]
    }
   ],
   "source": [
    "tuner.search(x, y, batch_size=128, epochs=20, validation_split = 0.3)"
   ]
  },
  {
   "cell_type": "code",
   "execution_count": 12,
   "id": "d9f49252",
   "metadata": {
    "execution": {
     "iopub.execute_input": "2024-02-12T12:01:06.406180Z",
     "iopub.status.busy": "2024-02-12T12:01:06.405745Z",
     "iopub.status.idle": "2024-02-12T12:01:06.811947Z",
     "shell.execute_reply": "2024-02-12T12:01:06.810684Z"
    },
    "papermill": {
     "duration": 0.419261,
     "end_time": "2024-02-12T12:01:06.814844",
     "exception": false,
     "start_time": "2024-02-12T12:01:06.395583",
     "status": "completed"
    },
    "tags": []
   },
   "outputs": [],
   "source": [
    "models = tuner.get_best_models(1)"
   ]
  },
  {
   "cell_type": "code",
   "execution_count": 13,
   "id": "283b1406",
   "metadata": {
    "execution": {
     "iopub.execute_input": "2024-02-12T12:01:06.834175Z",
     "iopub.status.busy": "2024-02-12T12:01:06.833713Z",
     "iopub.status.idle": "2024-02-12T12:01:06.877482Z",
     "shell.execute_reply": "2024-02-12T12:01:06.876077Z"
    },
    "papermill": {
     "duration": 0.06042,
     "end_time": "2024-02-12T12:01:06.883922",
     "exception": false,
     "start_time": "2024-02-12T12:01:06.823502",
     "status": "completed"
    },
    "tags": []
   },
   "outputs": [
    {
     "name": "stdout",
     "output_type": "stream",
     "text": [
      "Model: \"sequential\"\n",
      "_________________________________________________________________\n",
      " Layer (type)                Output Shape              Param #   \n",
      "=================================================================\n",
      " conv2d (Conv2D)             (None, 28, 28, 32)        320       \n",
      "                                                                 \n",
      " max_pooling2d (MaxPooling2  (None, 14, 14, 32)        0         \n",
      " D)                                                              \n",
      "                                                                 \n",
      " conv2d_1 (Conv2D)           (None, 14, 14, 128)       36992     \n",
      "                                                                 \n",
      " max_pooling2d_1 (MaxPoolin  (None, 7, 7, 128)         0         \n",
      " g2D)                                                            \n",
      "                                                                 \n",
      " dropout (Dropout)           (None, 7, 7, 128)         0         \n",
      "                                                                 \n",
      " flatten (Flatten)           (None, 6272)              0         \n",
      "                                                                 \n",
      " dense (Dense)               (None, 32)                200736    \n",
      "                                                                 \n",
      " dense_1 (Dense)             (None, 10)                330       \n",
      "                                                                 \n",
      "=================================================================\n",
      "Total params: 238378 (931.16 KB)\n",
      "Trainable params: 238378 (931.16 KB)\n",
      "Non-trainable params: 0 (0.00 Byte)\n",
      "_________________________________________________________________\n"
     ]
    }
   ],
   "source": [
    "models[0].summary()"
   ]
  },
  {
   "cell_type": "code",
   "execution_count": 14,
   "id": "0b9cd966",
   "metadata": {
    "execution": {
     "iopub.execute_input": "2024-02-12T12:01:06.908463Z",
     "iopub.status.busy": "2024-02-12T12:01:06.908024Z",
     "iopub.status.idle": "2024-02-12T12:01:49.344138Z",
     "shell.execute_reply": "2024-02-12T12:01:49.343186Z"
    },
    "papermill": {
     "duration": 42.451402,
     "end_time": "2024-02-12T12:01:49.346689",
     "exception": false,
     "start_time": "2024-02-12T12:01:06.895287",
     "status": "completed"
    },
    "tags": []
   },
   "outputs": [
    {
     "name": "stdout",
     "output_type": "stream",
     "text": [
      "1313/1313 [==============================] - 38s 28ms/step - loss: 0.0452 - accuracy: 0.9856\n"
     ]
    },
    {
     "data": {
      "text/plain": [
       "<keras.src.callbacks.History at 0x79f14872b670>"
      ]
     },
     "execution_count": 14,
     "metadata": {},
     "output_type": "execute_result"
    }
   ],
   "source": [
    "models[0].fit(x, y)"
   ]
  },
  {
   "cell_type": "code",
   "execution_count": 15,
   "id": "4734c034",
   "metadata": {
    "execution": {
     "iopub.execute_input": "2024-02-12T12:01:49.498375Z",
     "iopub.status.busy": "2024-02-12T12:01:49.497650Z",
     "iopub.status.idle": "2024-02-12T12:01:49.572784Z",
     "shell.execute_reply": "2024-02-12T12:01:49.571719Z"
    },
    "papermill": {
     "duration": 0.155132,
     "end_time": "2024-02-12T12:01:49.575449",
     "exception": false,
     "start_time": "2024-02-12T12:01:49.420317",
     "status": "completed"
    },
    "tags": []
   },
   "outputs": [],
   "source": [
    "xt = data_prep(x_test)"
   ]
  },
  {
   "cell_type": "code",
   "execution_count": 16,
   "id": "e6cdbe21",
   "metadata": {
    "execution": {
     "iopub.execute_input": "2024-02-12T12:01:49.725918Z",
     "iopub.status.busy": "2024-02-12T12:01:49.725468Z",
     "iopub.status.idle": "2024-02-12T12:02:00.348973Z",
     "shell.execute_reply": "2024-02-12T12:02:00.347607Z"
    },
    "papermill": {
     "duration": 10.702009,
     "end_time": "2024-02-12T12:02:00.351875",
     "exception": false,
     "start_time": "2024-02-12T12:01:49.649866",
     "status": "completed"
    },
    "tags": []
   },
   "outputs": [
    {
     "name": "stdout",
     "output_type": "stream",
     "text": [
      "875/875 [==============================] - 8s 10ms/step\n"
     ]
    }
   ],
   "source": [
    "y_pred = models[0].predict(xt)"
   ]
  },
  {
   "cell_type": "code",
   "execution_count": 17,
   "id": "3981c7c8",
   "metadata": {
    "execution": {
     "iopub.execute_input": "2024-02-12T12:02:00.533071Z",
     "iopub.status.busy": "2024-02-12T12:02:00.532123Z",
     "iopub.status.idle": "2024-02-12T12:02:00.537694Z",
     "shell.execute_reply": "2024-02-12T12:02:00.536686Z"
    },
    "papermill": {
     "duration": 0.098664,
     "end_time": "2024-02-12T12:02:00.540122",
     "exception": false,
     "start_time": "2024-02-12T12:02:00.441458",
     "status": "completed"
    },
    "tags": []
   },
   "outputs": [],
   "source": [
    "df = pd.DataFrame(data=y_pred)"
   ]
  },
  {
   "cell_type": "code",
   "execution_count": 18,
   "id": "d17b84d1",
   "metadata": {
    "execution": {
     "iopub.execute_input": "2024-02-12T12:02:00.719006Z",
     "iopub.status.busy": "2024-02-12T12:02:00.718237Z",
     "iopub.status.idle": "2024-02-12T12:02:00.732973Z",
     "shell.execute_reply": "2024-02-12T12:02:00.731508Z"
    },
    "papermill": {
     "duration": 0.106193,
     "end_time": "2024-02-12T12:02:00.735896",
     "exception": false,
     "start_time": "2024-02-12T12:02:00.629703",
     "status": "completed"
    },
    "tags": []
   },
   "outputs": [],
   "source": [
    "dx = df.idxmax(axis=1)"
   ]
  },
  {
   "cell_type": "code",
   "execution_count": 19,
   "id": "09c00313",
   "metadata": {
    "execution": {
     "iopub.execute_input": "2024-02-12T12:02:00.935442Z",
     "iopub.status.busy": "2024-02-12T12:02:00.934273Z",
     "iopub.status.idle": "2024-02-12T12:02:00.942119Z",
     "shell.execute_reply": "2024-02-12T12:02:00.940584Z"
    },
    "papermill": {
     "duration": 0.104818,
     "end_time": "2024-02-12T12:02:00.944794",
     "exception": false,
     "start_time": "2024-02-12T12:02:00.839976",
     "status": "completed"
    },
    "tags": []
   },
   "outputs": [],
   "source": [
    "submit['Label'] = np.array(dx)"
   ]
  },
  {
   "cell_type": "code",
   "execution_count": 20,
   "id": "c4cd2669",
   "metadata": {
    "execution": {
     "iopub.execute_input": "2024-02-12T12:02:01.137054Z",
     "iopub.status.busy": "2024-02-12T12:02:01.136210Z",
     "iopub.status.idle": "2024-02-12T12:02:01.152233Z",
     "shell.execute_reply": "2024-02-12T12:02:01.150863Z"
    },
    "papermill": {
     "duration": 0.111208,
     "end_time": "2024-02-12T12:02:01.154766",
     "exception": false,
     "start_time": "2024-02-12T12:02:01.043558",
     "status": "completed"
    },
    "tags": []
   },
   "outputs": [
    {
     "data": {
      "text/html": [
       "<div>\n",
       "<style scoped>\n",
       "    .dataframe tbody tr th:only-of-type {\n",
       "        vertical-align: middle;\n",
       "    }\n",
       "\n",
       "    .dataframe tbody tr th {\n",
       "        vertical-align: top;\n",
       "    }\n",
       "\n",
       "    .dataframe thead th {\n",
       "        text-align: right;\n",
       "    }\n",
       "</style>\n",
       "<table border=\"1\" class=\"dataframe\">\n",
       "  <thead>\n",
       "    <tr style=\"text-align: right;\">\n",
       "      <th></th>\n",
       "      <th>ImageId</th>\n",
       "      <th>Label</th>\n",
       "    </tr>\n",
       "  </thead>\n",
       "  <tbody>\n",
       "    <tr>\n",
       "      <th>0</th>\n",
       "      <td>1</td>\n",
       "      <td>2</td>\n",
       "    </tr>\n",
       "    <tr>\n",
       "      <th>1</th>\n",
       "      <td>2</td>\n",
       "      <td>0</td>\n",
       "    </tr>\n",
       "    <tr>\n",
       "      <th>2</th>\n",
       "      <td>3</td>\n",
       "      <td>9</td>\n",
       "    </tr>\n",
       "    <tr>\n",
       "      <th>3</th>\n",
       "      <td>4</td>\n",
       "      <td>9</td>\n",
       "    </tr>\n",
       "    <tr>\n",
       "      <th>4</th>\n",
       "      <td>5</td>\n",
       "      <td>3</td>\n",
       "    </tr>\n",
       "    <tr>\n",
       "      <th>...</th>\n",
       "      <td>...</td>\n",
       "      <td>...</td>\n",
       "    </tr>\n",
       "    <tr>\n",
       "      <th>27995</th>\n",
       "      <td>27996</td>\n",
       "      <td>9</td>\n",
       "    </tr>\n",
       "    <tr>\n",
       "      <th>27996</th>\n",
       "      <td>27997</td>\n",
       "      <td>7</td>\n",
       "    </tr>\n",
       "    <tr>\n",
       "      <th>27997</th>\n",
       "      <td>27998</td>\n",
       "      <td>3</td>\n",
       "    </tr>\n",
       "    <tr>\n",
       "      <th>27998</th>\n",
       "      <td>27999</td>\n",
       "      <td>9</td>\n",
       "    </tr>\n",
       "    <tr>\n",
       "      <th>27999</th>\n",
       "      <td>28000</td>\n",
       "      <td>2</td>\n",
       "    </tr>\n",
       "  </tbody>\n",
       "</table>\n",
       "<p>28000 rows × 2 columns</p>\n",
       "</div>"
      ],
      "text/plain": [
       "       ImageId  Label\n",
       "0            1      2\n",
       "1            2      0\n",
       "2            3      9\n",
       "3            4      9\n",
       "4            5      3\n",
       "...        ...    ...\n",
       "27995    27996      9\n",
       "27996    27997      7\n",
       "27997    27998      3\n",
       "27998    27999      9\n",
       "27999    28000      2\n",
       "\n",
       "[28000 rows x 2 columns]"
      ]
     },
     "execution_count": 20,
     "metadata": {},
     "output_type": "execute_result"
    }
   ],
   "source": [
    "submit"
   ]
  },
  {
   "cell_type": "code",
   "execution_count": 21,
   "id": "daeb88d2",
   "metadata": {
    "execution": {
     "iopub.execute_input": "2024-02-12T12:02:01.413064Z",
     "iopub.status.busy": "2024-02-12T12:02:01.412085Z",
     "iopub.status.idle": "2024-02-12T12:02:01.463830Z",
     "shell.execute_reply": "2024-02-12T12:02:01.462694Z"
    },
    "papermill": {
     "duration": 0.145646,
     "end_time": "2024-02-12T12:02:01.466511",
     "exception": false,
     "start_time": "2024-02-12T12:02:01.320865",
     "status": "completed"
    },
    "tags": []
   },
   "outputs": [],
   "source": [
    "submit.to_csv('submission.csv',index=False)"
   ]
  }
 ],
 "metadata": {
  "kaggle": {
   "accelerator": "none",
   "dataSources": [
    {
     "databundleVersionId": 7702623,
     "sourceId": 70387,
     "sourceType": "competition"
    }
   ],
   "dockerImageVersionId": 30646,
   "isGpuEnabled": false,
   "isInternetEnabled": true,
   "language": "python",
   "sourceType": "notebook"
  },
  "kernelspec": {
   "display_name": "Python 3",
   "language": "python",
   "name": "python3"
  },
  "language_info": {
   "codemirror_mode": {
    "name": "ipython",
    "version": 3
   },
   "file_extension": ".py",
   "mimetype": "text/x-python",
   "name": "python",
   "nbconvert_exporter": "python",
   "pygments_lexer": "ipython3",
   "version": "3.10.13"
  },
  "papermill": {
   "default_parameters": {},
   "duration": 575.397938,
   "end_time": "2024-02-12T12:02:03.387327",
   "environment_variables": {},
   "exception": null,
   "input_path": "__notebook__.ipynb",
   "output_path": "__notebook__.ipynb",
   "parameters": {},
   "start_time": "2024-02-12T11:52:27.989389",
   "version": "2.5.0"
  }
 },
 "nbformat": 4,
 "nbformat_minor": 5
}
