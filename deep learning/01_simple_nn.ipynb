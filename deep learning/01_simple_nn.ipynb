{
 "cells": [
  {
   "cell_type": "markdown",
   "metadata": {},
   "source": [
    "# Simple Neural Network in Python using TensorFlow"
   ]
  },
  {
   "cell_type": "markdown",
   "metadata": {},
   "source": [
    "### Defination:\n",
    "\n",
    "A simple neural network is a computational model inspired by the human brain that's used for tasks like pattern recognition and decision-making. It consists of layers of interconnected nodes, or artificial neurons, each processing information and contributing to the network's output\n",
    "\n",
    "### Example:\n",
    "\n",
    "Imagine a simple neural network for predicting if you should carry an umbrella. Inputs are rain probability and temperature. Hidden layer processes, and output says \"Take Umbrella\" if high chance of rain. Training refines it based on past data    \n",
    "   \n",
    "## Mathematics :\n",
    "\n",
    "### Inputs, Weights, and Bias\n",
    "\n",
    "- Inputs: \\(x_1, x_2, ..., x_n\\)\n",
    "- Weights: \\(w_1, w_2, ..., w_n\\)\n",
    "- Bias: \\(b\\)\n",
    "\n",
    "### Weighted Sum of Inputs\n",
    "\n",
    "The weighted sum of inputs, \\(z\\), is calculated as:\n",
    "\n",
    "\\[ z = \\sum_{i=1}^{n} (x_i \\cdot w_i) + b \\]\n",
    "\n",
    "### Activation Function\n",
    "\n",
    "Let's use the sigmoid activation function:\n",
    "\n",
    "\\[ \\text{Output} = \\frac{1}{1 + e^{-z}} \\]"
   ]
  },
  {
   "cell_type": "markdown",
   "metadata": {},
   "source": [
    "## Prons and cons of Neural Network\n",
    "\n",
    "**Pros of Neural Networks:**\n",
    "\n",
    "1. **Versatility:** Neural networks can handle a wide range of tasks, from image and speech recognition to language processing.\n",
    "\n",
    "2. **Adaptability:** They can learn and adapt to new information, improving performance over time.\n",
    "\n",
    "3. **Parallel Processing:** Neural networks can process multiple inputs simultaneously, making them efficient for certain tasks.\n",
    "\n",
    "4. **Feature Learning:** Neural networks can automatically learn relevant features from raw data, reducing the need for manual feature engineering.\n",
    "\n",
    "5. **Non-Linearity:** The use of activation functions allows neural networks to capture complex, non-linear relationships in data.\n",
    "\n",
    "**Cons of Neural Networks:**\n",
    "\n",
    "1. **Complexity:** Designing, training, and fine-tuning neural networks can be complex and computationally expensive.\n",
    "\n",
    "2. **Data Requirements:** Neural networks often require large amounts of labeled data for effective training.\n",
    "\n",
    "3. **Black Box Nature:** Understanding the decision-making process of neural networks can be challenging due to their complex, non-linear structure.\n",
    "\n",
    "4. **Overfitting:** Neural networks may memorize training data instead of learning general patterns, leading to poor performance on new, unseen data.\n",
    "\n",
    "5. **Computational Resources:** Training deep neural networks may demand significant computational resources, limiting their accessibility for some applications.\n"
   ]
  },
  {
   "cell_type": "markdown",
   "metadata": {},
   "source": [
    "## 📚 Introduction:\n",
    "In this notebook, we aim to elucidate the intricacies of neural networks, breaking down both the conceptual understanding and the practical coding steps. Our goal is to provide a comprehensive guide accessible to beginners.\n",
    "\n",
    "## 🧠 Neural Network Overview:\n",
    "A neural network is a computational model inspired by the human brain. It comprises interconnected layers of nodes, each layer contributing to the network's ability to learn patterns and make predictions."
   ]
  },
  {
   "cell_type": "markdown",
   "metadata": {},
   "source": [
    "# Coding in simple Neural network"
   ]
  },
  {
   "cell_type": "markdown",
   "metadata": {},
   "source": [
    "**👩‍💻 Coding Steps:**\n",
    "\n",
    "The core of our notebook lies in the coding steps. We leverage the powerful tool of neural networks through Python and a popular deep learning library. Below are key functions utilized in our code:"
   ]
  },
  {
   "cell_type": "markdown",
   "metadata": {},
   "source": [
    "### 01- Import Libraries"
   ]
  },
  {
   "cell_type": "code",
   "execution_count": 1,
   "metadata": {},
   "outputs": [],
   "source": [
    "import pandas as pd\n",
    "import seaborn as sns\n",
    "from sklearn.model_selection import train_test_split\n",
    "from sklearn.preprocessing import StandardScaler\n",
    "import tensorflow as tf"
   ]
  },
  {
   "cell_type": "markdown",
   "metadata": {},
   "source": [
    "## Steps before Creating a Neural Network (Preprocess the Data)"
   ]
  },
  {
   "cell_type": "code",
   "execution_count": 29,
   "metadata": {},
   "outputs": [],
   "source": [
    "#remove warnings\n",
    "import warnings\n",
    "warnings.filterwarnings('ignore')\n",
    "\n",
    "# Load Titanic dataset\n",
    "titanic = sns.load_dataset('titanic')\n",
    "\n",
    "# Preprocessing\n",
    "# Dropping rows with missing 'age' and 'embarked' values\n",
    "titanic.dropna(subset=['age', 'embarked'], inplace=True)\n",
    "\n",
    "# Converting categorical variables to dummy variables\n",
    "titanic = pd.get_dummies(titanic, columns=['sex', 'embarked', 'class', 'who', 'deck'], drop_first=True)\n",
    "\n",
    "# Selecting features and target\n",
    "X = titanic.drop(['survived', 'alive', 'embark_town', 'adult_male', 'alone'], axis=1)\n",
    "y = titanic['survived']\n",
    "\n",
    "# Splitting the dataset\n",
    "X_train, X_test, y_train, y_test = train_test_split(X, y, test_size=0.2, random_state=42)\n",
    "\n",
    "# Standardizing the data\n",
    "scaler = StandardScaler()\n",
    "X_train = scaler.fit_transform(X_train)\n",
    "X_test = scaler.transform(X_test)"
   ]
  },
  {
   "cell_type": "code",
   "execution_count": 30,
   "metadata": {},
   "outputs": [
    {
     "data": {
      "text/plain": [
       "18"
      ]
     },
     "execution_count": 30,
     "metadata": {},
     "output_type": "execute_result"
    }
   ],
   "source": [
    "X_train.shape[1]"
   ]
  },
  {
   "cell_type": "markdown",
   "metadata": {},
   "source": [
    "# Explain Code:\n",
    "\n",
    "***Input layers***\n",
    "\n",
    "🔍Filter size : 10\n",
    "\n",
    "🤖Activation function : relu\n",
    "\n",
    "***Output layer***\n",
    "\n",
    "🔍Filter size : 1\n",
    "\n",
    "🤖Activation function : sigmoid"
   ]
  },
  {
   "cell_type": "code",
   "execution_count": 31,
   "metadata": {},
   "outputs": [],
   "source": [
    "# Building the model\n",
    "\n",
    "# define the layers of the model\n",
    "input_layer = tf.keras.layers.Dense(10, activation='relu', input_shape=(X_train.shape[1],)) # input layer\n",
    "# hidden_layer = tf.keras.layers.Dense(10, activation='relu') # hidden layer\n",
    "output_layer = tf.keras.layers.Dense(1, activation='sigmoid') # output layer\n",
    "\n",
    "# combine the layers into a model\n",
    "model = tf.keras.models.Sequential([input_layer, \n",
    "                                    # hidden_layer, \n",
    "                                    output_layer])\n",
    "\n",
    "# Compile the model\n",
    "model.compile(optimizer='adam', \n",
    "              loss='binary_crossentropy', \n",
    "              metrics=['accuracy'])"
   ]
  },
  {
   "cell_type": "markdown",
   "metadata": {},
   "source": [
    "Sure, let's break it down in a beginner-friendly way:\n",
    "\n",
    "1. **📘Epochs:**\n",
    "   - Think of epochs as the number of times the entire dataset is processed by the model during training.\n",
    "   - Imagine you're learning a new skill, and each time you go through all your learning materials is an epoch.\n",
    "\n",
    "2. **📦Batch Size:**\n",
    "   - Consider your dataset as a big book, and the batch size as the number of pages you read at once before updating what you've learned.\n",
    "   - It's like reading a book in chunks. Smaller batches may make learning more manageable.\n",
    "\n",
    "3. **🔊Verbose:**\n",
    "   - In simple terms, verbose is like setting the 'talkativeness' of the training process.\n",
    "   - If verbose is set to 1, the training process will show you progress and information for each epoch.\n",
    "   - If verbose is set to 0, it will run silently, without showing the progress. It's like learning without constant updates.\n"
   ]
  },
  {
   "cell_type": "code",
   "execution_count": 32,
   "metadata": {},
   "outputs": [
    {
     "name": "stdout",
     "output_type": "stream",
     "text": [
      "Epoch 1/100\n",
      "18/18 [==============================] - 1s 2ms/step - loss: 0.9504 - accuracy: 0.3620\n",
      "Epoch 2/100\n",
      "18/18 [==============================] - 0s 2ms/step - loss: 0.8487 - accuracy: 0.4042\n",
      "Epoch 3/100\n",
      "18/18 [==============================] - 0s 2ms/step - loss: 0.7686 - accuracy: 0.5343\n",
      "Epoch 4/100\n",
      "18/18 [==============================] - 0s 3ms/step - loss: 0.7068 - accuracy: 0.6380\n",
      "Epoch 5/100\n",
      "18/18 [==============================] - 0s 3ms/step - loss: 0.6593 - accuracy: 0.6696\n",
      "Epoch 6/100\n",
      "18/18 [==============================] - 0s 2ms/step - loss: 0.6191 - accuracy: 0.6942\n",
      "Epoch 7/100\n",
      "18/18 [==============================] - 0s 2ms/step - loss: 0.5882 - accuracy: 0.7311\n",
      "Epoch 8/100\n",
      "18/18 [==============================] - 0s 1ms/step - loss: 0.5625 - accuracy: 0.7610\n",
      "Epoch 9/100\n",
      "18/18 [==============================] - 0s 1ms/step - loss: 0.5419 - accuracy: 0.7750\n",
      "Epoch 10/100\n",
      "18/18 [==============================] - 0s 1ms/step - loss: 0.5238 - accuracy: 0.7768\n",
      "Epoch 11/100\n",
      "18/18 [==============================] - 0s 1ms/step - loss: 0.5090 - accuracy: 0.7786\n",
      "Epoch 12/100\n",
      "18/18 [==============================] - 0s 1ms/step - loss: 0.4959 - accuracy: 0.7856\n",
      "Epoch 13/100\n",
      "18/18 [==============================] - 0s 1ms/step - loss: 0.4851 - accuracy: 0.7891\n",
      "Epoch 14/100\n",
      "18/18 [==============================] - 0s 1ms/step - loss: 0.4754 - accuracy: 0.7873\n",
      "Epoch 15/100\n",
      "18/18 [==============================] - 0s 1ms/step - loss: 0.4676 - accuracy: 0.7926\n",
      "Epoch 16/100\n",
      "18/18 [==============================] - 0s 2ms/step - loss: 0.4603 - accuracy: 0.8014\n",
      "Epoch 17/100\n",
      "18/18 [==============================] - 0s 2ms/step - loss: 0.4537 - accuracy: 0.8049\n",
      "Epoch 18/100\n",
      "18/18 [==============================] - 0s 2ms/step - loss: 0.4479 - accuracy: 0.8049\n",
      "Epoch 19/100\n",
      "18/18 [==============================] - 0s 2ms/step - loss: 0.4425 - accuracy: 0.8067\n",
      "Epoch 20/100\n",
      "18/18 [==============================] - 0s 2ms/step - loss: 0.4378 - accuracy: 0.8067\n",
      "Epoch 21/100\n",
      "18/18 [==============================] - 0s 2ms/step - loss: 0.4338 - accuracy: 0.8067\n",
      "Epoch 22/100\n",
      "18/18 [==============================] - 0s 2ms/step - loss: 0.4296 - accuracy: 0.8049\n",
      "Epoch 23/100\n",
      "18/18 [==============================] - 0s 2ms/step - loss: 0.4258 - accuracy: 0.8049\n",
      "Epoch 24/100\n",
      "18/18 [==============================] - 0s 2ms/step - loss: 0.4221 - accuracy: 0.8067\n",
      "Epoch 25/100\n",
      "18/18 [==============================] - 0s 470us/step - loss: 0.4185 - accuracy: 0.8067\n",
      "Epoch 26/100\n",
      "18/18 [==============================] - 0s 3ms/step - loss: 0.4156 - accuracy: 0.8067\n",
      "Epoch 27/100\n",
      "18/18 [==============================] - 0s 2ms/step - loss: 0.4126 - accuracy: 0.8102\n",
      "Epoch 28/100\n",
      "18/18 [==============================] - 0s 1ms/step - loss: 0.4097 - accuracy: 0.8102\n",
      "Epoch 29/100\n",
      "18/18 [==============================] - 0s 735us/step - loss: 0.4073 - accuracy: 0.8102\n",
      "Epoch 30/100\n",
      "18/18 [==============================] - 0s 2ms/step - loss: 0.4048 - accuracy: 0.8102\n",
      "Epoch 31/100\n",
      "18/18 [==============================] - 0s 2ms/step - loss: 0.4029 - accuracy: 0.8120\n",
      "Epoch 32/100\n",
      "18/18 [==============================] - 0s 1ms/step - loss: 0.4008 - accuracy: 0.8120\n",
      "Epoch 33/100\n",
      "18/18 [==============================] - 0s 2ms/step - loss: 0.3988 - accuracy: 0.8137\n",
      "Epoch 34/100\n",
      "18/18 [==============================] - 0s 2ms/step - loss: 0.3968 - accuracy: 0.8120\n",
      "Epoch 35/100\n",
      "18/18 [==============================] - 0s 1ms/step - loss: 0.3950 - accuracy: 0.8137\n",
      "Epoch 36/100\n",
      "18/18 [==============================] - 0s 2ms/step - loss: 0.3935 - accuracy: 0.8172\n",
      "Epoch 37/100\n",
      "18/18 [==============================] - 0s 1ms/step - loss: 0.3922 - accuracy: 0.8207\n",
      "Epoch 38/100\n",
      "18/18 [==============================] - 0s 2ms/step - loss: 0.3906 - accuracy: 0.8207\n",
      "Epoch 39/100\n",
      "18/18 [==============================] - 0s 2ms/step - loss: 0.3891 - accuracy: 0.8190\n",
      "Epoch 40/100\n",
      "18/18 [==============================] - 0s 2ms/step - loss: 0.3878 - accuracy: 0.8225\n",
      "Epoch 41/100\n",
      "18/18 [==============================] - 0s 2ms/step - loss: 0.3866 - accuracy: 0.8207\n",
      "Epoch 42/100\n",
      "18/18 [==============================] - 0s 1ms/step - loss: 0.3852 - accuracy: 0.8225\n",
      "Epoch 43/100\n",
      "18/18 [==============================] - 0s 2ms/step - loss: 0.3838 - accuracy: 0.8225\n",
      "Epoch 44/100\n",
      "18/18 [==============================] - 0s 2ms/step - loss: 0.3828 - accuracy: 0.8295\n",
      "Epoch 45/100\n",
      "18/18 [==============================] - 0s 2ms/step - loss: 0.3815 - accuracy: 0.8295\n",
      "Epoch 46/100\n",
      "18/18 [==============================] - 0s 2ms/step - loss: 0.3806 - accuracy: 0.8278\n",
      "Epoch 47/100\n",
      "18/18 [==============================] - 0s 1ms/step - loss: 0.3795 - accuracy: 0.8313\n",
      "Epoch 48/100\n",
      "18/18 [==============================] - 0s 2ms/step - loss: 0.3785 - accuracy: 0.8313\n",
      "Epoch 49/100\n",
      "18/18 [==============================] - 0s 2ms/step - loss: 0.3773 - accuracy: 0.8330\n",
      "Epoch 50/100\n",
      "18/18 [==============================] - 0s 1ms/step - loss: 0.3764 - accuracy: 0.8330\n",
      "Epoch 51/100\n",
      "18/18 [==============================] - 0s 2ms/step - loss: 0.3755 - accuracy: 0.8348\n",
      "Epoch 52/100\n",
      "18/18 [==============================] - 0s 2ms/step - loss: 0.3746 - accuracy: 0.8330\n",
      "Epoch 53/100\n",
      "18/18 [==============================] - 0s 2ms/step - loss: 0.3736 - accuracy: 0.8330\n",
      "Epoch 54/100\n",
      "18/18 [==============================] - 0s 2ms/step - loss: 0.3727 - accuracy: 0.8330\n",
      "Epoch 55/100\n",
      "18/18 [==============================] - 0s 2ms/step - loss: 0.3719 - accuracy: 0.8330\n",
      "Epoch 56/100\n",
      "18/18 [==============================] - 0s 999us/step - loss: 0.3707 - accuracy: 0.8348\n",
      "Epoch 57/100\n",
      "18/18 [==============================] - 0s 2ms/step - loss: 0.3706 - accuracy: 0.8348\n",
      "Epoch 58/100\n",
      "18/18 [==============================] - 0s 2ms/step - loss: 0.3695 - accuracy: 0.8348\n",
      "Epoch 59/100\n",
      "18/18 [==============================] - 0s 2ms/step - loss: 0.3682 - accuracy: 0.8383\n",
      "Epoch 60/100\n",
      "18/18 [==============================] - 0s 2ms/step - loss: 0.3678 - accuracy: 0.8366\n",
      "Epoch 61/100\n",
      "18/18 [==============================] - 0s 2ms/step - loss: 0.3668 - accuracy: 0.8348\n",
      "Epoch 62/100\n",
      "18/18 [==============================] - 0s 2ms/step - loss: 0.3662 - accuracy: 0.8366\n",
      "Epoch 63/100\n",
      "18/18 [==============================] - 0s 1ms/step - loss: 0.3659 - accuracy: 0.8366\n",
      "Epoch 64/100\n",
      "18/18 [==============================] - 0s 2ms/step - loss: 0.3650 - accuracy: 0.8418\n",
      "Epoch 65/100\n",
      "18/18 [==============================] - 0s 2ms/step - loss: 0.3638 - accuracy: 0.8401\n",
      "Epoch 66/100\n",
      "18/18 [==============================] - 0s 1ms/step - loss: 0.3634 - accuracy: 0.8401\n",
      "Epoch 67/100\n",
      "18/18 [==============================] - 0s 2ms/step - loss: 0.3626 - accuracy: 0.8453\n",
      "Epoch 68/100\n",
      "18/18 [==============================] - 0s 2ms/step - loss: 0.3620 - accuracy: 0.8418\n",
      "Epoch 69/100\n",
      "18/18 [==============================] - 0s 1ms/step - loss: 0.3616 - accuracy: 0.8401\n",
      "Epoch 70/100\n",
      "18/18 [==============================] - 0s 2ms/step - loss: 0.3610 - accuracy: 0.8401\n",
      "Epoch 71/100\n",
      "18/18 [==============================] - 0s 2ms/step - loss: 0.3601 - accuracy: 0.8471\n",
      "Epoch 72/100\n",
      "18/18 [==============================] - 0s 1ms/step - loss: 0.3595 - accuracy: 0.8489\n",
      "Epoch 73/100\n",
      "18/18 [==============================] - 0s 2ms/step - loss: 0.3590 - accuracy: 0.8436\n",
      "Epoch 74/100\n",
      "18/18 [==============================] - 0s 2ms/step - loss: 0.3589 - accuracy: 0.8489\n",
      "Epoch 75/100\n",
      "18/18 [==============================] - 0s 1ms/step - loss: 0.3577 - accuracy: 0.8471\n",
      "Epoch 76/100\n",
      "18/18 [==============================] - 0s 2ms/step - loss: 0.3573 - accuracy: 0.8436\n",
      "Epoch 77/100\n",
      "18/18 [==============================] - 0s 2ms/step - loss: 0.3570 - accuracy: 0.8401\n",
      "Epoch 78/100\n",
      "18/18 [==============================] - 0s 1ms/step - loss: 0.3565 - accuracy: 0.8453\n",
      "Epoch 79/100\n",
      "18/18 [==============================] - 0s 2ms/step - loss: 0.3556 - accuracy: 0.8418\n",
      "Epoch 80/100\n",
      "18/18 [==============================] - 0s 653us/step - loss: 0.3556 - accuracy: 0.8418\n",
      "Epoch 81/100\n",
      "18/18 [==============================] - 0s 1ms/step - loss: 0.3549 - accuracy: 0.8418\n",
      "Epoch 82/100\n",
      "18/18 [==============================] - 0s 2ms/step - loss: 0.3545 - accuracy: 0.8453\n",
      "Epoch 83/100\n",
      "18/18 [==============================] - 0s 648us/step - loss: 0.3539 - accuracy: 0.8471\n",
      "Epoch 84/100\n",
      "18/18 [==============================] - 0s 2ms/step - loss: 0.3539 - accuracy: 0.8471\n",
      "Epoch 85/100\n",
      "18/18 [==============================] - 0s 642us/step - loss: 0.3528 - accuracy: 0.8471\n",
      "Epoch 86/100\n",
      "18/18 [==============================] - 0s 1ms/step - loss: 0.3528 - accuracy: 0.8489\n",
      "Epoch 87/100\n",
      "18/18 [==============================] - 0s 2ms/step - loss: 0.3525 - accuracy: 0.8471\n",
      "Epoch 88/100\n",
      "18/18 [==============================] - 0s 2ms/step - loss: 0.3519 - accuracy: 0.8524\n",
      "Epoch 89/100\n",
      "18/18 [==============================] - 0s 599us/step - loss: 0.3515 - accuracy: 0.8489\n",
      "Epoch 90/100\n",
      "18/18 [==============================] - 0s 1ms/step - loss: 0.3509 - accuracy: 0.8541\n",
      "Epoch 91/100\n",
      "18/18 [==============================] - 0s 654us/step - loss: 0.3501 - accuracy: 0.8541\n",
      "Epoch 92/100\n",
      "18/18 [==============================] - 0s 1ms/step - loss: 0.3500 - accuracy: 0.8524\n",
      "Epoch 93/100\n",
      "18/18 [==============================] - 0s 783us/step - loss: 0.3493 - accuracy: 0.8524\n",
      "Epoch 94/100\n",
      "18/18 [==============================] - 0s 2ms/step - loss: 0.3487 - accuracy: 0.8541\n",
      "Epoch 95/100\n",
      "18/18 [==============================] - 0s 1ms/step - loss: 0.3480 - accuracy: 0.8559\n",
      "Epoch 96/100\n",
      "18/18 [==============================] - 0s 879us/step - loss: 0.3480 - accuracy: 0.8541\n",
      "Epoch 97/100\n",
      "18/18 [==============================] - 0s 2ms/step - loss: 0.3470 - accuracy: 0.8541\n",
      "Epoch 98/100\n",
      "18/18 [==============================] - 0s 986us/step - loss: 0.3467 - accuracy: 0.8541\n",
      "Epoch 99/100\n",
      "18/18 [==============================] - 0s 2ms/step - loss: 0.3465 - accuracy: 0.8594\n",
      "Epoch 100/100\n",
      "18/18 [==============================] - 0s 2ms/step - loss: 0.3460 - accuracy: 0.8629\n",
      "CPU times: total: 4.39 s\n",
      "Wall time: 4.13 s\n"
     ]
    }
   ],
   "source": [
    "%%time\n",
    "# Training the model\n",
    "history= model.fit(X_train, y_train, epochs=100, batch_size=32, verbose=1)"
   ]
  },
  {
   "cell_type": "markdown",
   "metadata": {},
   "source": [
    "\n",
    "  \n",
    "Certainly! Here's the training loss and accuracy based on the provided training history:\n",
    "\n",
    "- **Training Loss:** 0.3460\n",
    "- **Training Accuracy:** 86.29%\n",
    "\n",
    "🌟 **Summary:**\n",
    "\n",
    "This means that after 100 training epochs, the model achieved a `training loss of 0.3460` and a `training accuracy of 86.29%`. The training loss is a measure of how well the model is performing, with lower values indicating better performance. The training accuracy represents the percentage of correctly classified samples during training. In this case, the model correctly classified approximately 86.29% of the training data. 📊🚀\n",
    "\n",
    "__________"
   ]
  },
  {
   "cell_type": "markdown",
   "metadata": {},
   "source": [
    "> __Understanding__:\n",
    "\n",
    "It means you're teaching your model on the 📚 X_train data with corresponding labels 🎓 y_train for 100 cycles (epochs), updating its understanding after reading 32 pages at a time (batch size), and you want to see the progress updates during this learning process (verbose=1). 🧠✨🚀"
   ]
  },
  {
   "cell_type": "code",
   "execution_count": 33,
   "metadata": {},
   "outputs": [
    {
     "name": "stdout",
     "output_type": "stream",
     "text": [
      "5/5 [==============================] - 0s 0s/step - loss: 0.5150 - accuracy: 0.7762\n",
      "Test Accuracy: 0.7762237787246704\n",
      "Test Loss: 0.5149949789047241\n"
     ]
    }
   ],
   "source": [
    "# Evaluating the model\n",
    "loss, accuracy = model.evaluate(X_test, y_test, verbose=1)\n",
    "print(f\"Test Accuracy: {accuracy}\")\n",
    "print(f\"Test Loss: {loss}\")"
   ]
  },
  {
   "cell_type": "markdown",
   "metadata": {},
   "source": [
    "Certainly! Here's the test performance of your model:\n",
    "\n",
    "🔍 **Test Metrics:**\n",
    "\n",
    "- **Test Loss:** 0.515\n",
    "- **Test Accuracy:** 77.62%\n",
    "\n",
    "🌟 **Summary:**\n",
    "\n",
    "After training and evaluating your model on the test dataset, it achieved a test loss of 0.515 and a test accuracy of 77.62%. This means that the model, when presented with new, unseen data, correctly predicted the outcomes approximately 77.62% of the time. 🎉🚀"
   ]
  },
  {
   "cell_type": "code",
   "execution_count": 34,
   "metadata": {},
   "outputs": [
    {
     "data": {
      "image/png": "[encoded data removed]",
      "text/plain": [
       "<Figure size 640x480 with 1 Axes>"
      ]
     },
     "metadata": {},
     "output_type": "display_data"
    }
   ],
   "source": [
    "# Plotting the training and testing loss\n",
    "import matplotlib.pyplot as plt\n",
    "plt.plot(history.history['accuracy'])\n",
    "plt.plot(history.history['loss'])\n",
    "plt.title('Model loss')\n",
    "plt.ylabel('accuracy')\n",
    "plt.xlabel('Epoch')\n",
    "plt.legend(['Train', 'Validation'], loc='upper right')\n",
    "plt.show()\n"
   ]
  },
  {
   "cell_type": "markdown",
   "metadata": {},
   "source": [
    "---"
   ]
  },
  {
   "cell_type": "markdown",
   "metadata": {},
   "source": [
    "**🚀 Conclusion:**\n",
    "\n",
    "In conclusion, this notebook offers a beginner-friendly journey through neural networks, combining theoretical understanding with practical coding steps. The achieved test accuracy of 77.62% demonstrates the model's proficiency in making accurate predictions on unseen data. 🌟"
   ]
  }
 ],
 "metadata": {
  "kernelspec": {
   "display_name": "tf_env",
   "language": "python",
   "name": "python3"
  },
  "language_info": {
   "codemirror_mode": {
    "name": "ipython",
    "version": 3
   },
   "file_extension": ".py",
   "mimetype": "text/x-python",
   "name": "python",
   "nbconvert_exporter": "python",
   "pygments_lexer": "ipython3",
   "version": "3.9.0"
  }
 },
 "nbformat": 4,
 "nbformat_minor": 2
}
