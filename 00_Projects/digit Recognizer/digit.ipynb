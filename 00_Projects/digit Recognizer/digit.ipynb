{
 "cells": [
  {
   "cell_type": "markdown",
   "metadata": {},
   "source": [
    "\n",
    "# <p style=\"font-family:newtimeroman;font-size:150%;text-align:center;color:#f20c0f;\"> 🔍 DigitDetect Pro using CNN |  99% </p>"
   ]
  },
  {
   "cell_type": "markdown",
   "metadata": {},
   "source": [
    "<img src=\"digit.jpg\" alt=\"digit\">\n"
   ]
  },
  {
   "cell_type": "markdown",
   "metadata": {},
   "source": [
    "# <p style=\"font-family:newtimeroman;font-size:150%;text-align:center;color:#f20c0f;\">About Author</p>\n",
    "\n",
    "**Hi Everyone! Welcome to my notebook.**\n",
    "<p>Greetings! I'm delighted to invite you into my realm of data science exploration and innovation. I'm <b > Zeeshan younas <b>, a dedicated data scientist with a fervent commitment to unraveling the mysteries concealed within datasets. I leverage the power of machine learning to extract meaningful insights and devise impactful solutions.<p>\n",
    "\n",
    "\n",
    "\n",
    "\n",
    "\n",
    "\n",
    "<div style=\"text-align: left;\">\n",
    "    <table>\n",
    "        <tr>\n",
    "            <th><b>Website</b></th>\n",
    "            <th><b>Links</b></th>\n",
    "        </tr>\n",
    "        <tr>\n",
    "        </tr>\n",
    "        <tr>\n",
    "            <td>GitHub</td>\n",
    "            <td><a href=\"https://github.com/Zeeshan5932/Six-month-of-AI-and-data-science-work\"><img src=\"https://img.shields.io/badge/GitHub-Profile-blue?style=for-the-badge&logo=github\" alt=\"GitHub\"/></a></td>\n",
    "        </tr>\n",
    "        <tr>\n",
    "            <td>LinkedIn</td>\n",
    "            <td><a href=\"https://www.linkedin.com/in/zeeshan-younas-919a09253/\"><img src=\"https://img.shields.io/badge/LinkedIn-Profile-blue?style=for-the-badge&logo=linkedin\" alt=\"LinkedIn\"/></a></td>\n",
    "        </tr>\n",
    "        <tr>\n",
    "        </tr>\n",
    "        <tr>\n",
    "            <td>Facebook</td>\n",
    "            <td><a href=\"https://www.facebook.com/zeeshan.younas.2024?mibextid=ZbWKwL\"><img src=\"https://img.shields.io/badge/Facebook-Profile-blue?style=for-the-badge&logo=facebook\" alt=\"Facebook\"/></a></td>\n",
    "        </tr>\n",
    "        <tr>\n",
    "            <td>Gmail</td>\n",
    "            <td><a href=\"mailto:zeeshanoffical01@gmail.com\"><img src=\"https://img.shields.io/badge/Gmail-Contact%20Me-red?style=for-the-badge&logo=gmail\" alt=\"Gmail\"/></a></td>\n",
    "        </tr>\n",
    "    </table>\n",
    "</div>\n"
   ]
  },
  {
   "cell_type": "markdown",
   "metadata": {},
   "source": [
    "# <p style=\"font-family:newtimeroman;font-size:150%;text-align:center;color:#f20c0f;\">Data Description</p>\n",
    "\n",
    "`Competition Description`\n",
    "\n",
    "MNIST (\"Modified National Institute of Standards and Technology\") is the de facto “hello world” dataset of computer vision. Since its release in 1999, this classic dataset of handwritten images has served as the basis for benchmarking classification algorithms. As new machine learning techniques emerge, MNIST remains a reliable resource for researchers and learners alike.\n",
    "\n",
    "In this competition, your goal is to correctly identify digits from a dataset of tens of thousands of handwritten images. We’ve curated a set of tutorial-style kernels which cover everything from regression to neural networks. We encourage you to experiment with different algorithms to learn first-hand what works well and how techniques compare.\n",
    "\n",
    "`Practice Skills`\n",
    "\n",
    "Computer vision fundamentals including simple neural networks\n",
    "\n",
    "Classification methods such as SVM and K-nearest neighbors\n",
    "\n",
    "`Acknowledgements`\n",
    "\n",
    "More details about the dataset, including algorithms that have been tried on it and their levels of success, can be found at http://yann.lecun.com/exdb/mnist/index.html. The dataset is made available under a Creative Commons Attribution-Share Alike 3.0 license.\n",
    "\n",
    "## Evaluation\n",
    "\n",
    "**Goal**\n",
    "\n",
    "The goal in this competition is to take an image of a handwritten single digit, and determine what that digit is.\n",
    "For every in the test set, you should predict the correct label.\n",
    "\n",
    "**Metric**\n",
    "\n",
    "This competition is evaluated on the categorization accuracy of your predictions (the percentage of images you get correct)."
   ]
  },
  {
   "cell_type": "markdown",
   "metadata": {},
   "source": [
    "## Step-1 | import libraries"
   ]
  },
  {
   "cell_type": "code",
   "execution_count": 115,
   "metadata": {},
   "outputs": [],
   "source": [
    "# import libraries\n",
    "import pandas as pd\n",
    "import numpy as np\n",
    "import matplotlib.pyplot as plt\n",
    "import seaborn as sns\n",
    "import tensorflow as tf"
   ]
  },
  {
   "cell_type": "markdown",
   "metadata": {},
   "source": [
    "# Step 2 | Load Data set"
   ]
  },
  {
   "cell_type": "code",
   "execution_count": 116,
   "metadata": {},
   "outputs": [],
   "source": [
    "# load data\n",
    "train = pd.read_csv(\"./data/train.csv\")\n",
    "test = pd.read_csv(\"./data/test.csv\")"
   ]
  },
  {
   "cell_type": "code",
   "execution_count": 117,
   "metadata": {},
   "outputs": [
    {
     "name": "stdout",
     "output_type": "stream",
     "text": [
      "train (42000, 785)\n",
      "test (28000, 784)\n"
     ]
    }
   ],
   "source": [
    "# check the data\n",
    "print(\"train\", train.shape)\n",
    "print(\"test\", test.shape)"
   ]
  },
  {
   "cell_type": "markdown",
   "metadata": {},
   "source": [
    "<!DOCTYPE html>\n",
    "<html>\n",
    "\n",
    "<head>\n",
    "  <style>\n",
    "    table {\n",
    "      font-family: Arial, sans-serif;\n",
    "      border-collapse: collapse;\n",
    "      width: 100%;\n",
    "    }\n",
    "\n",
    "    th, td {\n",
    "      border: 1px solid #dddddd;\n",
    "      text-align: left;\n",
    "      padding: 8px;\n",
    "    }\n",
    "\n",
    "    th {\n",
    "      background-color: #198ec4;\n",
    "    }\n",
    "  </style>\n",
    "</head>\n",
    "\n",
    "<body>\n",
    "\n",
    "  <h2>Training Dataset: (42000, 785)</h2>\n",
    "\n",
    "  <table>\n",
    "    <tr>\n",
    "      <th>Description</th>\n",
    "      <th>Details</th>\n",
    "    </tr>\n",
    "    <tr>\n",
    "      <td>Number of Samples</td>\n",
    "      <td>42,000</td>\n",
    "    </tr>\n",
    "    <tr>\n",
    "      <td>Columns per Sample</td>\n",
    "      <td>785</td>\n",
    "    </tr>\n",
    "    <tr>\n",
    "      <td>Pixel Representation</td>\n",
    "      <td>First 784 columns (28x28 pixels for images)</td>\n",
    "    </tr>\n",
    "    <tr>\n",
    "      <td>Label/Class Column</td>\n",
    "      <td>Last column</td>\n",
    "    </tr>\n",
    "  </table>\n",
    "\n",
    "  <h2>Test Dataset: (28000, 784)</h2>\n",
    "\n",
    "  <table>\n",
    "    <tr>\n",
    "      <th>Description</th>\n",
    "      <th>Details</th>\n",
    "    </tr>\n",
    "    <tr>\n",
    "      <td>Number of Samples</td>\n",
    "      <td>28,000</td>\n",
    "    </tr>\n",
    "    <tr>\n",
    "      <td>Columns per Sample</td>\n",
    "      <td>784</td>\n",
    "    </tr>\n",
    "    <tr>\n",
    "      <td>Pixel Representation</td>\n",
    "      <td>For images</td>\n",
    "    </tr>\n",
    "    <tr>\n",
    "      <td>Label/Class Column</td>\n",
    "      <td>Not present (used for predictions)</td>\n",
    "    </tr>\n",
    "  </table>\n",
    "\n",
    "</body>\n",
    "\n",
    "</html>\n"
   ]
  },
  {
   "cell_type": "code",
   "execution_count": 118,
   "metadata": {},
   "outputs": [
    {
     "name": "stdout",
     "output_type": "stream",
     "text": [
      "x_train shape:  (42000, 784)\n",
      "y_train shape:  (42000, 1)\n",
      "x_test shape:  (28000, 784)\n"
     ]
    }
   ],
   "source": [
    "y_train = train.iloc[:,:1]\n",
    "x_train = train.iloc[:,1:]\n",
    "x_test = test\n",
    "print(\"x_train shape: \", x_train.shape)\n",
    "print(\"y_train shape: \", y_train.shape)\n",
    "print(\"x_test shape: \", x_test.shape)"
   ]
  },
  {
   "cell_type": "code",
   "execution_count": 119,
   "metadata": {},
   "outputs": [
    {
     "data": {
      "image/png": "[encoded data removed]",
      "text/plain": [
       "<Figure size 1000x1000 with 15 Axes>"
      ]
     },
     "metadata": {},
     "output_type": "display_data"
    }
   ],
   "source": [
    "# display the some images\n",
    "plt.figure(figsize=(10, 10))\n",
    "for i in range(15):\n",
    "    plt.subplot(5, 5, i + 1)\n",
    "    plt.imshow(train.iloc[i, 1:].values.reshape(28, 28), cmap=\"gray\")\n",
    "    plt.title(train.iloc[i, 0])\n",
    "    plt.axis(\"off\")"
   ]
  },
  {
   "cell_type": "code",
   "execution_count": 120,
   "metadata": {},
   "outputs": [
    {
     "name": "stdout",
     "output_type": "stream",
     "text": [
      "We have 42000 images in the training set and 28000 images in the test set.\n",
      "The images are 28 x 28 pixels and have 784 features.\n"
     ]
    }
   ],
   "source": [
    "# explore the data\n",
    "print(f\"We have {len(train)} images in the training set and {len(test)} images in the test set.\")\n",
    "print(f\"The images are {28} x {28} pixels and have {len(train.columns) - 1} features.\")\n"
   ]
  },
  {
   "cell_type": "code",
   "execution_count": 121,
   "metadata": {},
   "outputs": [
    {
     "data": {
      "text/plain": [
       "((42000, 784), (42000, 1), (28000, 784))"
      ]
     },
     "execution_count": 121,
     "metadata": {},
     "output_type": "execute_result"
    }
   ],
   "source": [
    "x_train.shape, y_train.shape, x_test.shape"
   ]
  },
  {
   "cell_type": "markdown",
   "metadata": {},
   "source": [
    "# Each time random image"
   ]
  },
  {
   "cell_type": "code",
   "execution_count": 122,
   "metadata": {},
   "outputs": [
    {
     "data": {
      "image/png": "[encoded data removed]",
      "text/plain": [
       "<Figure size 1000x1000 with 2 Axes>"
      ]
     },
     "metadata": {},
     "output_type": "display_data"
    }
   ],
   "source": [
    "# select random images\n",
    "import random\n",
    "random_images = random.sample(range(0, len(train)), 2)\n",
    "\n",
    "# plot the random images\n",
    "plt.figure(figsize=(10, 10))\n",
    "for i, image in enumerate(random_images):\n",
    "    plt.subplot(2, 2, i + 1)\n",
    "    plt.imshow(train.iloc[image, 1:].values.reshape(28, 28), cmap=\"gray\")\n",
    "    plt.title(train.iloc[image, 0])\n",
    "    plt.axis(\"off\")\n"
   ]
  },
  {
   "cell_type": "markdown",
   "metadata": {},
   "source": [
    "# Step 3 | Reshape"
   ]
  },
  {
   "cell_type": "markdown",
   "metadata": {},
   "source": [
    "**Reshaping in Images:** We use reshape to convert the 2D grid of image pixels into a 1D vector, ensuring compatibility with neural network layers. This transformation, often called flattening, allows the model to process image data effectively, transitioning from convolutional layers to densely connected layers. 📸🔄🤖"
   ]
  },
  {
   "cell_type": "code",
   "execution_count": 123,
   "metadata": {},
   "outputs": [
    {
     "name": "stdout",
     "output_type": "stream",
     "text": [
      "[1 0 4 7 3 5 8 9 2 6]\n",
      "10\n"
     ]
    }
   ],
   "source": [
    "print(train['label'].unique())\n",
    "print(train['label'].nunique())"
   ]
  },
  {
   "cell_type": "code",
   "execution_count": 124,
   "metadata": {},
   "outputs": [],
   "source": [
    "# reshape the data\n",
    "x_train = x_train.values.reshape(-1, 28, 28, 1)\n",
    "x_test = x_test.values.reshape(-1, 28, 28, 1)\n"
   ]
  },
  {
   "cell_type": "code",
   "execution_count": 125,
   "metadata": {},
   "outputs": [
    {
     "data": {
      "image/png": "[encoded data removed]",
      "text/plain": [
       "<Figure size 640x480 with 1 Axes>"
      ]
     },
     "metadata": {},
     "output_type": "display_data"
    },
    {
     "name": "stdout",
     "output_type": "stream",
     "text": [
      "Pixel values:\n",
      "  0   0   0   0   0   0   0   0   0   0   0   0   0   0   0   0   0   0   0   0   0   0   0   0   0   0   0   0 \n",
      "  0   0   0   0   0   0   0   0   0   0   0   0   0   0   0   0   0   0   0   0   0   0   0   0   0   0   0   0 \n",
      "  0   0   0   0   0   0   0   0   0   0   0   0   0   0   0   0   0   0   0   0   0   0   0   0   0   0   0   0 \n",
      "  0   0   0   0   0   0   0   0   0   0   0   0   0   0   0   0   0   0   0   0   0   0   0   0   0   0   0   0 \n",
      "  0   0   0   0   0   0   0   0   0   0   0   0   0   0   0   0   0   0   0   0 188 255  94   0   0   0   0   0 \n",
      "  0   0   0   0   0   0   0   0   0   0   0   0   0   0   0   0   0   0   0 191 250 253  93   0   0   0   0   0 \n",
      "  0   0   0   0   0   0   0   0   0   0   0   0   0   0   0   0   0   0 123 248 253 167  10   0   0   0   0   0 \n",
      "  0   0   0   0   0   0   0   0   0   0   0   0   0   0   0   0   0  80 247 253 208  13   0   0   0   0   0   0 \n",
      "  0   0   0   0   0   0   0   0   0   0   0   0   0   0   0   0  29 207 253 235  77   0   0   0   0   0   0   0 \n",
      "  0   0   0   0   0   0   0   0   0   0   0   0   0   0   0  54 209 253 253  88   0   0   0   0   0   0   0   0 \n",
      "  0   0   0   0   0   0   0   0   0   0   0   0   0   0  93 254 253 238 170  17   0   0   0   0   0   0   0   0 \n",
      "  0   0   0   0   0   0   0   0   0   0   0   0   0  23 210 254 253 159   0   0   0   0   0   0   0   0   0   0 \n",
      "  0   0   0   0   0   0   0   0   0   0   0   0  16 209 253 254 240  81   0   0   0   0   0   0   0   0   0   0 \n",
      "  0   0   0   0   0   0   0   0   0   0   0   0  27 253 253 254  13   0   0   0   0   0   0   0   0   0   0   0 \n",
      "  0   0   0   0   0   0   0   0   0   0   0  20 206 254 254 198   7   0   0   0   0   0   0   0   0   0   0   0 \n",
      "  0   0   0   0   0   0   0   0   0   0   0 168 253 253 196   7   0   0   0   0   0   0   0   0   0   0   0   0 \n",
      "  0   0   0   0   0   0   0   0   0   0  20 203 253 248  76   0   0   0   0   0   0   0   0   0   0   0   0   0 \n",
      "  0   0   0   0   0   0   0   0   0  22 188 253 245  93   0   0   0   0   0   0   0   0   0   0   0   0   0   0 \n",
      "  0   0   0   0   0   0   0   0   0 103 253 253 191   0   0   0   0   0   0   0   0   0   0   0   0   0   0   0 \n",
      "  0   0   0   0   0   0   0   0  89 240 253 195  25   0   0   0   0   0   0   0   0   0   0   0   0   0   0   0 \n",
      "  0   0   0   0   0   0   0  15 220 253 253  80   0   0   0   0   0   0   0   0   0   0   0   0   0   0   0   0 \n",
      "  0   0   0   0   0   0   0  94 253 253 253  94   0   0   0   0   0   0   0   0   0   0   0   0   0   0   0   0 \n",
      "  0   0   0   0   0   0   0  89 251 253 250 131   0   0   0   0   0   0   0   0   0   0   0   0   0   0   0   0 \n",
      "  0   0   0   0   0   0   0   0 214 218  95   0   0   0   0   0   0   0   0   0   0   0   0   0   0   0   0   0 \n",
      "  0   0   0   0   0   0   0   0   0   0   0   0   0   0   0   0   0   0   0   0   0   0   0   0   0   0   0   0 \n",
      "  0   0   0   0   0   0   0   0   0   0   0   0   0   0   0   0   0   0   0   0   0   0   0   0   0   0   0   0 \n",
      "  0   0   0   0   0   0   0   0   0   0   0   0   0   0   0   0   0   0   0   0   0   0   0   0   0   0   0   0 \n",
      "  0   0   0   0   0   0   0   0   0   0   0   0   0   0   0   0   0   0   0   0   0   0   0   0   0   0   0   0 \n"
     ]
    },
    {
     "name": "stderr",
     "output_type": "stream",
     "text": [
      "C:\\Users\\zeesh\\AppData\\Local\\Temp\\ipykernel_9400\\1737790373.py:12: DeprecationWarning: Conversion of an array with ndim > 0 to a scalar is deprecated, and will error in future. Ensure you extract a single element from your array before performing this operation. (Deprecated NumPy 1.25.)\n",
      "  print(\"{:3}\".format(int(pixel)), end=\" \")\n"
     ]
    }
   ],
   "source": [
    "# Display the first image in the dataset as a data matrix\n",
    "plt.imshow(x_train[0], cmap=\"gray\")\n",
    "plt.xticks([])\n",
    "plt.yticks([])\n",
    "plt.grid(False)\n",
    "plt.show()\n",
    "\n",
    "# Display the values of each pixel in the image\n",
    "print(\"Pixel values:\")\n",
    "for row in x_train[0]:\n",
    "    for pixel in row:\n",
    "        print(\"{:3}\".format(int(pixel)), end=\" \")\n",
    "    print()"
   ]
  },
  {
   "cell_type": "markdown",
   "metadata": {},
   "source": [
    "# Step-4 | Normlization\n"
   ]
  },
  {
   "cell_type": "markdown",
   "metadata": {},
   "source": [
    "\n",
    "**Normalization on Images**: It's like fine-tuning the colors and brightness in a photo, ensuring all pixels are on the same page. This helps machine learning models by providing balanced input signals. 📸🔧✨\n"
   ]
  },
  {
   "cell_type": "code",
   "execution_count": 126,
   "metadata": {},
   "outputs": [],
   "source": [
    "# normalize the data\n",
    "x_train = x_train / 255.0\n",
    "x_test = x_test / 255.0\n",
    "\n"
   ]
  },
  {
   "cell_type": "code",
   "execution_count": 127,
   "metadata": {},
   "outputs": [
    {
     "data": {
      "text/plain": [
       "((42000, 28, 28, 1), (28000, 28, 28, 1))"
      ]
     },
     "execution_count": 127,
     "metadata": {},
     "output_type": "execute_result"
    }
   ],
   "source": [
    "x_train.shape,  x_test.shape"
   ]
  },
  {
   "cell_type": "code",
   "execution_count": 128,
   "metadata": {},
   "outputs": [
    {
     "name": "stdout",
     "output_type": "stream",
     "text": [
      "Pixel values:\n",
      "0.00 0.00 0.00 0.00 0.00 0.00 0.00 0.00 0.00 0.00 0.00 0.00 0.00 0.00 0.00 0.00 0.00 0.00 0.00 0.00 0.00 0.00 0.00 0.00 0.00 0.00 0.00 0.00 \n",
      "0.00 0.00 0.00 0.00 0.00 0.00 0.00 0.00 0.00 0.00 0.00 0.00 0.00 0.00 0.00 0.00 0.00 0.00 0.00 0.00 0.00 0.00 0.00 0.00 0.00 0.00 0.00 0.00 \n",
      "0.00 0.00 0.00 0.00 0.00 0.00 0.00 0.00 0.00 0.00 0.00 0.00 0.00 0.00 0.00 0.00 0.00 0.00 0.00 0.00 0.00 0.00 0.00 0.00 0.00 0.00 0.00 0.00 \n",
      "0.00 0.00 0.00 0.00 0.00 0.00 0.00 0.00 0.00 0.00 0.00 0.00 0.00 0.00 0.00 0.00 0.00 0.00 0.00 0.00 0.00 0.00 0.00 0.00 0.00 0.00 0.00 0.00 \n",
      "0.00 0.00 0.00 0.00 0.00 0.00 0.00 0.00 0.00 0.00 0.00 0.00 0.00 0.00 0.00 0.00 0.00 0.00 0.00 0.00 0.74 1.00 0.37 0.00 0.00 0.00 0.00 0.00 \n",
      "0.00 0.00 0.00 0.00 0.00 0.00 0.00 0.00 0.00 0.00 0.00 0.00 0.00 0.00 0.00 0.00 0.00 0.00 0.00 0.75 0.98 0.99 0.36 0.00 0.00 0.00 0.00 0.00 \n",
      "0.00 0.00 0.00 0.00 0.00 0.00 0.00 0.00 0.00 0.00 0.00 0.00 0.00 0.00 0.00 0.00 0.00 0.00 0.48 0.97 0.99 0.65 0.04 0.00 0.00 0.00 0.00 0.00 \n",
      "0.00 0.00 0.00 0.00 0.00 0.00 0.00 0.00 0.00 0.00 0.00 0.00 0.00 0.00 0.00 0.00 0.00 0.31 0.97 0.99 0.82 0.05 0.00 0.00 0.00 0.00 0.00 0.00 \n",
      "0.00 0.00 0.00 0.00 0.00 0.00 0.00 0.00 0.00 0.00 0.00 0.00 0.00 0.00 0.00 0.00 0.11 0.81 0.99 0.92 0.30 0.00 0.00 0.00 0.00 0.00 0.00 0.00 \n",
      "0.00 0.00 0.00 0.00 0.00 0.00 0.00 0.00 0.00 0.00 0.00 0.00 0.00 0.00 0.00 0.21 0.82 0.99 0.99 0.35 0.00 0.00 0.00 0.00 0.00 0.00 0.00 0.00 \n",
      "0.00 0.00 0.00 0.00 0.00 0.00 0.00 0.00 0.00 0.00 0.00 0.00 0.00 0.00 0.36 1.00 0.99 0.93 0.67 0.07 0.00 0.00 0.00 0.00 0.00 0.00 0.00 0.00 \n",
      "0.00 0.00 0.00 0.00 0.00 0.00 0.00 0.00 0.00 0.00 0.00 0.00 0.00 0.09 0.82 1.00 0.99 0.62 0.00 0.00 0.00 0.00 0.00 0.00 0.00 0.00 0.00 0.00 \n",
      "0.00 0.00 0.00 0.00 0.00 0.00 0.00 0.00 0.00 0.00 0.00 0.00 0.06 0.82 0.99 1.00 0.94 0.32 0.00 0.00 0.00 0.00 0.00 0.00 0.00 0.00 0.00 0.00 \n",
      "0.00 0.00 0.00 0.00 0.00 0.00 0.00 0.00 0.00 0.00 0.00 0.00 0.11 0.99 0.99 1.00 0.05 0.00 0.00 0.00 0.00 0.00 0.00 0.00 0.00 0.00 0.00 0.00 \n",
      "0.00 0.00 0.00 0.00 0.00 0.00 0.00 0.00 0.00 0.00 0.00 0.08 0.81 1.00 1.00 0.78 0.03 0.00 0.00 0.00 0.00 0.00 0.00 0.00 0.00 0.00 0.00 0.00 \n",
      "0.00 0.00 0.00 0.00 0.00 0.00 0.00 0.00 0.00 0.00 0.00 0.66 0.99 0.99 0.77 0.03 0.00 0.00 0.00 0.00 0.00 0.00 0.00 0.00 0.00 0.00 0.00 0.00 \n",
      "0.00 0.00 0.00 0.00 0.00 0.00 0.00 0.00 0.00 0.00 0.08 0.80 0.99 0.97 0.30 0.00 0.00 0.00 0.00 0.00 0.00 0.00 0.00 0.00 0.00 0.00 0.00 0.00 \n",
      "0.00 0.00 0.00 0.00 0.00 0.00 0.00 0.00 0.00 0.09 0.74 0.99 0.96 0.36 0.00 0.00 0.00 0.00 0.00 0.00 0.00 0.00 0.00 0.00 0.00 0.00 0.00 0.00 \n",
      "0.00 0.00 0.00 0.00 0.00 0.00 0.00 0.00 0.00 0.40 0.99 0.99 0.75 0.00 0.00 0.00 0.00 0.00 0.00 0.00 0.00 0.00 0.00 0.00 0.00 0.00 0.00 0.00 \n",
      "0.00 0.00 0.00 0.00 0.00 0.00 0.00 0.00 0.35 0.94 0.99 0.76 0.10 0.00 0.00 0.00 0.00 0.00 0.00 0.00 0.00 0.00 0.00 0.00 0.00 0.00 0.00 0.00 \n",
      "0.00 0.00 0.00 0.00 0.00 0.00 0.00 0.06 0.86 0.99 0.99 0.31 0.00 0.00 0.00 0.00 0.00 0.00 0.00 0.00 0.00 0.00 0.00 0.00 0.00 0.00 0.00 0.00 \n",
      "0.00 0.00 0.00 0.00 0.00 0.00 0.00 0.37 0.99 0.99 0.99 0.37 0.00 0.00 0.00 0.00 0.00 0.00 0.00 0.00 0.00 0.00 0.00 0.00 0.00 0.00 0.00 0.00 \n",
      "0.00 0.00 0.00 0.00 0.00 0.00 0.00 0.35 0.98 0.99 0.98 0.51 0.00 0.00 0.00 0.00 0.00 0.00 0.00 0.00 0.00 0.00 0.00 0.00 0.00 0.00 0.00 0.00 \n",
      "0.00 0.00 0.00 0.00 0.00 0.00 0.00 0.00 0.84 0.85 0.37 0.00 0.00 0.00 0.00 0.00 0.00 0.00 0.00 0.00 0.00 0.00 0.00 0.00 0.00 0.00 0.00 0.00 \n",
      "0.00 0.00 0.00 0.00 0.00 0.00 0.00 0.00 0.00 0.00 0.00 0.00 0.00 0.00 0.00 0.00 0.00 0.00 0.00 0.00 0.00 0.00 0.00 0.00 0.00 0.00 0.00 0.00 \n",
      "0.00 0.00 0.00 0.00 0.00 0.00 0.00 0.00 0.00 0.00 0.00 0.00 0.00 0.00 0.00 0.00 0.00 0.00 0.00 0.00 0.00 0.00 0.00 0.00 0.00 0.00 0.00 0.00 \n",
      "0.00 0.00 0.00 0.00 0.00 0.00 0.00 0.00 0.00 0.00 0.00 0.00 0.00 0.00 0.00 0.00 0.00 0.00 0.00 0.00 0.00 0.00 0.00 0.00 0.00 0.00 0.00 0.00 \n",
      "0.00 0.00 0.00 0.00 0.00 0.00 0.00 0.00 0.00 0.00 0.00 0.00 0.00 0.00 0.00 0.00 0.00 0.00 0.00 0.00 0.00 0.00 0.00 0.00 0.00 0.00 0.00 0.00 \n"
     ]
    },
    {
     "name": "stderr",
     "output_type": "stream",
     "text": [
      "C:\\Users\\zeesh\\AppData\\Local\\Temp\\ipykernel_9400\\1561488828.py:5: DeprecationWarning: Conversion of an array with ndim > 0 to a scalar is deprecated, and will error in future. Ensure you extract a single element from your array before performing this operation. (Deprecated NumPy 1.25.)\n",
      "  print(\"{:.2f}\".format(float(pixel)), end=\" \")\n"
     ]
    }
   ],
   "source": [
    "# After normalizing the data, the pixel values are now between 0 and 1\n",
    "print(\"Pixel values:\")\n",
    "for row in x_train[0]:\n",
    "    for pixel in row:\n",
    "        print(\"{:.2f}\".format(float(pixel)), end=\" \")\n",
    "    print()\n",
    "    "
   ]
  },
  {
   "cell_type": "markdown",
   "metadata": {},
   "source": [
    ">__Note__:\n",
    "> \n",
    "Normalization is commonly applied to pixel values in image datasets. For each pixel, normalization is typically performed by scaling the pixel values to fall within a specific range, such as [0, 1] or [-1, 1]. This process helps the model converge faster during training and ensures that the neural network is more robust to variations in input data"
   ]
  },
  {
   "cell_type": "markdown",
   "metadata": {},
   "source": [
    "# Step 4 | Build the Model"
   ]
  },
  {
   "cell_type": "code",
   "execution_count": 129,
   "metadata": {},
   "outputs": [],
   "source": [
    "model = tf.keras.models.Sequential([\n",
    "  tf.keras.layers.Conv2D(32,(3,3),activation = 'relu', input_shape=(28,28,1)),\n",
    "  tf.keras.layers.Conv2D(32,(3,3),activation = 'relu'),\n",
    "  tf.keras.layers.MaxPooling2D(2,2),\n",
    "  tf.keras.layers.Conv2D(64,(3,3),activation = 'relu',padding = 'Same'),\n",
    "  tf.keras.layers.Conv2D(64,(3,3),activation = 'relu',padding = 'Same'),\n",
    "  tf.keras.layers.MaxPooling2D(pool_size = (2,2), strides = (2,2)),\n",
    "  tf.keras.layers.Dropout(0.25),\n",
    "  tf.keras.layers.Conv2D(64,(3,3),activation = 'relu',padding = 'Same'),\n",
    "  tf.keras.layers.Conv2D(64,(3,3),activation = 'relu',padding = 'Same'),\n",
    "  tf.keras.layers.MaxPooling2D(pool_size = (2,2), strides = (2,2)),\n",
    "  tf.keras.layers.Dropout(0.25),\n",
    "  tf.keras.layers.Flatten(),\n",
    "  tf.keras.layers.Dense(256, activation='relu'),\n",
    "  #tf.keras.layers.Dropout(0.50),\n",
    "  tf.keras.layers.Dense(256, activation='relu'),\n",
    "  tf.keras.layers.Dropout(0.50),\n",
    "  tf.keras.layers.Dense(10, activation='softmax')\n",
    "])"
   ]
  },
  {
   "cell_type": "code",
   "execution_count": 130,
   "metadata": {},
   "outputs": [],
   "source": [
    "model.compile(optimizer=\"adam\", loss=\"sparse_categorical_crossentropy\", metrics=[\"accuracy\"])"
   ]
  },
  {
   "cell_type": "code",
   "execution_count": 131,
   "metadata": {},
   "outputs": [
    {
     "name": "stdout",
     "output_type": "stream",
     "text": [
      "Model: \"sequential_5\"\n",
      "_________________________________________________________________\n",
      " Layer (type)                Output Shape              Param #   \n",
      "=================================================================\n",
      " conv2d_24 (Conv2D)          (None, 26, 26, 32)        320       \n",
      "                                                                 \n",
      " conv2d_25 (Conv2D)          (None, 24, 24, 32)        9248      \n",
      "                                                                 \n",
      " max_pooling2d_15 (MaxPoolin  (None, 12, 12, 32)       0         \n",
      " g2D)                                                            \n",
      "                                                                 \n",
      " conv2d_26 (Conv2D)          (None, 12, 12, 64)        18496     \n",
      "                                                                 \n",
      " conv2d_27 (Conv2D)          (None, 12, 12, 64)        36928     \n",
      "                                                                 \n",
      " max_pooling2d_16 (MaxPoolin  (None, 6, 6, 64)         0         \n",
      " g2D)                                                            \n",
      "                                                                 \n",
      " dropout_9 (Dropout)         (None, 6, 6, 64)          0         \n",
      "                                                                 \n",
      " conv2d_28 (Conv2D)          (None, 6, 6, 64)          36928     \n",
      "                                                                 \n",
      " conv2d_29 (Conv2D)          (None, 6, 6, 64)          36928     \n",
      "                                                                 \n",
      " max_pooling2d_17 (MaxPoolin  (None, 3, 3, 64)         0         \n",
      " g2D)                                                            \n",
      "                                                                 \n",
      " dropout_10 (Dropout)        (None, 3, 3, 64)          0         \n",
      "                                                                 \n",
      " flatten_5 (Flatten)         (None, 576)               0         \n",
      "                                                                 \n",
      " dense_13 (Dense)            (None, 256)               147712    \n",
      "                                                                 \n",
      " dense_14 (Dense)            (None, 256)               65792     \n",
      "                                                                 \n",
      " dropout_11 (Dropout)        (None, 256)               0         \n",
      "                                                                 \n",
      " dense_15 (Dense)            (None, 10)                2570      \n",
      "                                                                 \n",
      "=================================================================\n",
      "Total params: 354,922\n",
      "Trainable params: 354,922\n",
      "Non-trainable params: 0\n",
      "_________________________________________________________________\n"
     ]
    }
   ],
   "source": [
    "model.summary()"
   ]
  },
  {
   "cell_type": "markdown",
   "metadata": {},
   "source": [
    "| Layer (type)            | Output Shape        | Param #   |\n",
    "|-------------------------|---------------------|-----------|\n",
    "| Conv2D_1                | (None, 26, 26, 32)  | 320       |\n",
    "| MaxPooling2D_1          | (None, 13, 13, 32)  | 0         |\n",
    "| Conv2D_2                | (None, 13, 13, 64)  | 18,496    |\n",
    "| MaxPooling2D_2          | (None, 6, 6, 64)    | 0         |\n",
    "| Conv2D_3                | (None, 6, 6, 128)   | 73,856    |\n",
    "| MaxPooling2D_3          | (None, 3, 3, 128)   | 0         |\n",
    "| Flatten                 | (None, 1152)        | 0         |\n",
    "| Dense_1                 | (None, 256)         | 295,168   |\n",
    "| Dense_2                 | (None, 10)          | 2,570     |\n"
   ]
  },
  {
   "cell_type": "markdown",
   "metadata": {},
   "source": [
    "\n",
    "\n",
    "Here's a brief explanation of each layer:\n",
    "\n",
    "1. **Conv2D Layers:** These layers apply convolutional operations to the input. They learn features from the images, with the number of filters specified in each layer (32, 64, 128).\n",
    "\n",
    "2. **MaxPooling2D Layers:** These layers perform max-pooling, reducing the spatial dimensions of the previous layer's output. It helps retain essential information and reduces computational complexity.\n",
    "\n",
    "3. **Flatten Layer:** This layer converts the 3D output to a 1D array, preparing it for the fully connected layers.\n",
    "\n",
    "4. **Dense Layers:** Fully connected layers where the first dense layer has 256 neurons, and the final layer has 10 neurons, representing the output classes (assuming it's a classification task)."
   ]
  },
  {
   "cell_type": "code",
   "execution_count": 132,
   "metadata": {},
   "outputs": [],
   "source": [
    "# Define callbacks function\n",
    "class myCallback(tf.keras.callbacks.Callback):\n",
    "    def on_epoch_end(self, epoch, logs={}):\n",
    "        if logs.get('accuracy') > 0.99:\n",
    "            print(\"\\nReached 99% accuracy so cancelling training!\")\n",
    "            self.model.stop_training = True\n",
    "            \n",
    "back = myCallback()           "
   ]
  },
  {
   "cell_type": "code",
   "execution_count": 133,
   "metadata": {},
   "outputs": [
    {
     "name": "stdout",
     "output_type": "stream",
     "text": [
      "Epoch 1/20\n",
      "1050/1050 [==============================] - 36s 33ms/step - loss: 0.2754 - accuracy: 0.9112 - val_loss: 0.0672 - val_accuracy: 0.9794\n",
      "Epoch 2/20\n",
      "1050/1050 [==============================] - 31s 30ms/step - loss: 0.0854 - accuracy: 0.9768 - val_loss: 0.0460 - val_accuracy: 0.9849\n",
      "Epoch 3/20\n",
      "1050/1050 [==============================] - 34s 32ms/step - loss: 0.0679 - accuracy: 0.9806 - val_loss: 0.0396 - val_accuracy: 0.9886\n",
      "Epoch 4/20\n",
      "1050/1050 [==============================] - 35s 33ms/step - loss: 0.0568 - accuracy: 0.9844 - val_loss: 0.0360 - val_accuracy: 0.9895\n",
      "Epoch 5/20\n",
      "1050/1050 [==============================] - 41s 39ms/step - loss: 0.0481 - accuracy: 0.9868 - val_loss: 0.0372 - val_accuracy: 0.9895\n",
      "Epoch 6/20\n",
      "1050/1050 [==============================] - 37s 35ms/step - loss: 0.0465 - accuracy: 0.9869 - val_loss: 0.0362 - val_accuracy: 0.9914\n",
      "Epoch 7/20\n",
      "1050/1050 [==============================] - 36s 34ms/step - loss: 0.0351 - accuracy: 0.9896 - val_loss: 0.0576 - val_accuracy: 0.9852\n",
      "Epoch 8/20\n",
      "1050/1050 [==============================] - 35s 33ms/step - loss: 0.0381 - accuracy: 0.9895 - val_loss: 0.0292 - val_accuracy: 0.9925\n",
      "Epoch 9/20\n",
      "1049/1050 [============================>.] - ETA: 0s - loss: 0.0328 - accuracy: 0.9908\n",
      "Reached 99% accuracy so cancelling training!\n",
      "1050/1050 [==============================] - 35s 33ms/step - loss: 0.0328 - accuracy: 0.9908 - val_loss: 0.0370 - val_accuracy: 0.9914\n"
     ]
    }
   ],
   "source": [
    "history = model.fit(x_train, y_train, epochs=20, batch_size=32, validation_split=0.2, verbose=1, callbacks=[back])"
   ]
  },
  {
   "cell_type": "markdown",
   "metadata": {},
   "source": [
    "<!DOCTYPE html>\n",
    "<html>\n",
    "\n",
    "<head>\n",
    "  <style>\n",
    "    table {\n",
    "      font-family: Arial, sans-serif;\n",
    "      border-collapse: collapse;\n",
    "      width: 60%;\n",
    "      margin: 20px 0;\n",
    "    }\n",
    "\n",
    "    th, td {\n",
    "      border: 1px solid #dddddd;\n",
    "      text-align: center;\n",
    "      padding: 8px;\n",
    "    }\n",
    "\n",
    "    th {\n",
    "      background-color: #097bed;\n",
    "    }\n",
    "\n",
    "    .highlight {\n",
    "      font-weight: bold;\n",
    "      color: #008000;\n",
    "    }\n",
    "  </style>\n",
    "</head>\n",
    "\n",
    "<body>\n",
    "\n",
    "  <h2>Training Progress</h2>\n",
    "\n",
    "  <table>\n",
    "    <tr>\n",
    "      <th>Epoch</th>\n",
    "      <th>Duration</th>\n",
    "      <th>Loss</th>\n",
    "      <th>Accuracy</th>\n",
    "      <th>Validation Loss</th>\n",
    "      <th>Validation Accuracy</th>\n",
    "    </tr>\n",
    "    <tr>\n",
    "      <td>1/20</td>\n",
    "      <td>36s</td>\n",
    "      <td>0.2754</td>\n",
    "      <td>0.9112</td>\n",
    "      <td>0.0672</td>\n",
    "      <td class=\"highlight\">0.9794</td>\n",
    "    </tr>\n",
    "    <tr>\n",
    "      <td>2/20</td>\n",
    "      <td>31s</td>\n",
    "      <td>0.0854</td>\n",
    "      <td>0.9768</td>\n",
    "      <td>0.0460</td>\n",
    "      <td class=\"highlight\">0.9849</td>\n",
    "    </tr>\n",
    "    <!-- ... (continue for each epoch) ... -->\n",
    "    <tr>\n",
    "      <td>9/20</td>\n",
    "      <td>35s</td>\n",
    "      <td class=\"highlight\">0.0328</td>\n",
    "      <td class=\"highlight\">0.9908</td>\n",
    "      <td>0.0370</td>\n",
    "      <td>0.9925</td>\n",
    "    </tr>\n",
    "  </table>\n",
    "\n",
    "  <p><span class=\"highlight\">Reached 99% accuracy so cancelling training!</span></p>\n",
    "\n",
    "</body>\n",
    "\n",
    "</html>\n"
   ]
  },
  {
   "cell_type": "code",
   "execution_count": 134,
   "metadata": {},
   "outputs": [
    {
     "data": {
      "image/png": "[encoded data removed]",
      "text/plain": [
       "<Figure size 1000x500 with 1 Axes>"
      ]
     },
     "metadata": {},
     "output_type": "display_data"
    }
   ],
   "source": [
    "# plot the accuracy and loss\n",
    "plt.figure(figsize=(10, 5))\n",
    "plt.subplot(1, 2, 1)\n",
    "plt.plot(history.history[\"accuracy\"], label=\"accuracy\")\n",
    "plt.plot(history.history[\"val_accuracy\"], label=\"val_accuracy\")\n",
    "plt.xlabel(\"Epoch\")\n",
    "plt.ylabel(\"Accuracy\")\n",
    "plt.legend()\n",
    "plt.title(\"Accuracy\")\n",
    "plt.show()"
   ]
  },
  {
   "cell_type": "code",
   "execution_count": 135,
   "metadata": {},
   "outputs": [
    {
     "data": {
      "image/png": "[encoded data removed]",
      "text/plain": [
       "<Figure size 1000x500 with 1 Axes>"
      ]
     },
     "metadata": {},
     "output_type": "display_data"
    }
   ],
   "source": [
    "# model loss\n",
    "plt.figure(figsize=(10, 5))\n",
    "plt.subplot(1, 2, 2)\n",
    "plt.plot(history.history[\"loss\"], label=\"loss\")\n",
    "plt.plot(history.history[\"val_loss\"], label=\"val_loss\")\n",
    "plt.xlabel(\"Epoch\")\n",
    "plt.ylabel(\"Loss\")\n",
    "plt.legend()\n",
    "plt.title(\"Loss\")\n",
    "plt.show()\n"
   ]
  },
  {
   "cell_type": "code",
   "execution_count": 139,
   "metadata": {},
   "outputs": [
    {
     "name": "stdout",
     "output_type": "stream",
     "text": [
      "140/140 [==============================] - 6s 40ms/step\n"
     ]
    },
    {
     "data": {
      "text/html": [
       "<div>\n",
       "<style scoped>\n",
       "    .dataframe tbody tr th:only-of-type {\n",
       "        vertical-align: middle;\n",
       "    }\n",
       "\n",
       "    .dataframe tbody tr th {\n",
       "        vertical-align: top;\n",
       "    }\n",
       "\n",
       "    .dataframe thead th {\n",
       "        text-align: right;\n",
       "    }\n",
       "</style>\n",
       "<table border=\"1\" class=\"dataframe\">\n",
       "  <thead>\n",
       "    <tr style=\"text-align: right;\">\n",
       "      <th></th>\n",
       "      <th>ImageId</th>\n",
       "      <th>Label</th>\n",
       "    </tr>\n",
       "  </thead>\n",
       "  <tbody>\n",
       "    <tr>\n",
       "      <th>0</th>\n",
       "      <td>1</td>\n",
       "      <td>2</td>\n",
       "    </tr>\n",
       "    <tr>\n",
       "      <th>1</th>\n",
       "      <td>2</td>\n",
       "      <td>0</td>\n",
       "    </tr>\n",
       "    <tr>\n",
       "      <th>2</th>\n",
       "      <td>3</td>\n",
       "      <td>9</td>\n",
       "    </tr>\n",
       "    <tr>\n",
       "      <th>3</th>\n",
       "      <td>4</td>\n",
       "      <td>0</td>\n",
       "    </tr>\n",
       "    <tr>\n",
       "      <th>4</th>\n",
       "      <td>5</td>\n",
       "      <td>3</td>\n",
       "    </tr>\n",
       "  </tbody>\n",
       "</table>\n",
       "</div>"
      ],
      "text/plain": [
       "   ImageId  Label\n",
       "0        1      2\n",
       "1        2      0\n",
       "2        3      9\n",
       "3        4      0\n",
       "4        5      3"
      ]
     },
     "execution_count": 139,
     "metadata": {},
     "output_type": "execute_result"
    }
   ],
   "source": [
    "# reshape the test data\n",
    "test = test.values.reshape(-1, 28, 28, 1)\n",
    "\n",
    "# make predictions\n",
    "y_cap = pd.DataFrame(model.predict(test, batch_size=200))\n",
    "y_cap = pd.DataFrame(y_cap.idxmax(axis=1))\n",
    "y_cap.index.name = 'ImageId'\n",
    "y_cap = y_cap.rename(columns={0: 'Label'}).reset_index()\n",
    "y_cap['ImageId'] = y_cap['ImageId'] + 1\n",
    "y_cap.head()"
   ]
  },
  {
   "cell_type": "code",
   "execution_count": null,
   "metadata": {},
   "outputs": [],
   "source": [
    "# save the predictions\n",
    "y_cap.to_csv(\"submission.csv\", index=False)\n"
   ]
  }
 ],
 "metadata": {
  "kernelspec": {
   "display_name": "tf_env",
   "language": "python",
   "name": "python3"
  },
  "language_info": {
   "codemirror_mode": {
    "name": "ipython",
    "version": 3
   },
   "file_extension": ".py",
   "mimetype": "text/x-python",
   "name": "python",
   "nbconvert_exporter": "python",
   "pygments_lexer": "ipython3",
   "version": "3.9.0"
  }
 },
 "nbformat": 4,
 "nbformat_minor": 2
}
