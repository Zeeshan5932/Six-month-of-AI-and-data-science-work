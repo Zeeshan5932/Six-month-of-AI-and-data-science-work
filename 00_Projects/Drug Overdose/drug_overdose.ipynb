{
 "cells": [
  {
   "cell_type": "markdown",
   "metadata": {},
   "source": [
    "# Project Title: Drug Overdose Additiction"
   ]
  },
  {
   "cell_type": "markdown",
   "metadata": {},
   "source": [
    "## Dataset Discription\n",
    "This dataset contains information on drug overdose death rates in the United States.\n",
    "\n",
    "1. **Entity:** Name of the entity.\n",
    "2. **Code:** Entity code.\n",
    "3. **Year:** Year of the data.\n",
    "4. **Any opioid death rates (CDC WONDER):** Death rates related to any opioids (CDC WONDER).\n",
    "5. **Cocaine overdose death rates (CDC WONDER):** Death rates related to cocaine overdose (CDC WONDER).\n",
    "6. **Heroin overdose death rates (CDC WONDER):** Death rates related to heroin overdose (CDC WONDER).\n",
    "7. **Synthetic opioids death rates (CDC WONDER):** Death rates related to synthetic opioids (CDC WONDER).\n",
    "8. **Prescription Opioids death rates (US CDC WONDER):** Death rates related to prescription opioids (US CDC WONDER).\n",
    "\n"
   ]
  },
  {
   "cell_type": "code",
   "execution_count": 6,
   "metadata": {},
   "outputs": [],
   "source": [
    "# Import Libraries\n",
    "import numpy as np\n",
    "import pandas as pd\n",
    "import matplotlib.pyplot as plt\n",
    "import seaborn as sns\n",
    "\n",
    "# Import warnings\n",
    "import warnings\n",
    "warnings.filterwarnings('ignore')\n"
   ]
  },
  {
   "cell_type": "code",
   "execution_count": 7,
   "metadata": {},
   "outputs": [],
   "source": [
    "# print heading - for display purposes only\n",
    "def heading(heading):\n",
    "    print('-' * 50)\n",
    "    print(heading.upper())\n",
    "    print('-' * 50)"
   ]
  },
  {
   "cell_type": "code",
   "execution_count": 18,
   "metadata": {},
   "outputs": [
    {
     "data": {
      "text/html": [
       "<div>\n",
       "<style scoped>\n",
       "    .dataframe tbody tr th:only-of-type {\n",
       "        vertical-align: middle;\n",
       "    }\n",
       "\n",
       "    .dataframe tbody tr th {\n",
       "        vertical-align: top;\n",
       "    }\n",
       "\n",
       "    .dataframe thead th {\n",
       "        text-align: right;\n",
       "    }\n",
       "</style>\n",
       "<table border=\"1\" class=\"dataframe\">\n",
       "  <thead>\n",
       "    <tr style=\"text-align: right;\">\n",
       "      <th></th>\n",
       "      <th>Entity</th>\n",
       "      <th>Code</th>\n",
       "      <th>Year</th>\n",
       "      <th>Any opioid death rates (CDC WONDER)</th>\n",
       "      <th>Cocaine overdose death rates (CDC WONDER)</th>\n",
       "      <th>Heroin overdose death rates (CDC WONDER)</th>\n",
       "      <th>Synthetic opioids death rates (CDC WONDER)</th>\n",
       "      <th>Prescription Opioids death rates (US CDC WONDER)</th>\n",
       "    </tr>\n",
       "  </thead>\n",
       "  <tbody>\n",
       "    <tr>\n",
       "      <th>0</th>\n",
       "      <td>United States</td>\n",
       "      <td>USA</td>\n",
       "      <td>1999</td>\n",
       "      <td>2.9</td>\n",
       "      <td>1.4</td>\n",
       "      <td>0.7</td>\n",
       "      <td>0.3</td>\n",
       "      <td>1.2</td>\n",
       "    </tr>\n",
       "    <tr>\n",
       "      <th>1</th>\n",
       "      <td>United States</td>\n",
       "      <td>USA</td>\n",
       "      <td>2000</td>\n",
       "      <td>3.0</td>\n",
       "      <td>1.3</td>\n",
       "      <td>0.7</td>\n",
       "      <td>0.3</td>\n",
       "      <td>1.3</td>\n",
       "    </tr>\n",
       "    <tr>\n",
       "      <th>2</th>\n",
       "      <td>United States</td>\n",
       "      <td>USA</td>\n",
       "      <td>2001</td>\n",
       "      <td>3.3</td>\n",
       "      <td>1.3</td>\n",
       "      <td>0.6</td>\n",
       "      <td>0.3</td>\n",
       "      <td>1.7</td>\n",
       "    </tr>\n",
       "    <tr>\n",
       "      <th>3</th>\n",
       "      <td>United States</td>\n",
       "      <td>USA</td>\n",
       "      <td>2002</td>\n",
       "      <td>4.1</td>\n",
       "      <td>1.6</td>\n",
       "      <td>0.7</td>\n",
       "      <td>0.4</td>\n",
       "      <td>2.3</td>\n",
       "    </tr>\n",
       "    <tr>\n",
       "      <th>4</th>\n",
       "      <td>United States</td>\n",
       "      <td>USA</td>\n",
       "      <td>2003</td>\n",
       "      <td>4.5</td>\n",
       "      <td>1.8</td>\n",
       "      <td>0.7</td>\n",
       "      <td>0.5</td>\n",
       "      <td>2.6</td>\n",
       "    </tr>\n",
       "  </tbody>\n",
       "</table>\n",
       "</div>"
      ],
      "text/plain": [
       "          Entity Code  Year  Any opioid death rates (CDC WONDER)  \\\n",
       "0  United States  USA  1999                                  2.9   \n",
       "1  United States  USA  2000                                  3.0   \n",
       "2  United States  USA  2001                                  3.3   \n",
       "3  United States  USA  2002                                  4.1   \n",
       "4  United States  USA  2003                                  4.5   \n",
       "\n",
       "   Cocaine overdose death rates (CDC WONDER)  \\\n",
       "0                                        1.4   \n",
       "1                                        1.3   \n",
       "2                                        1.3   \n",
       "3                                        1.6   \n",
       "4                                        1.8   \n",
       "\n",
       "   Heroin overdose death rates (CDC WONDER)  \\\n",
       "0                                       0.7   \n",
       "1                                       0.7   \n",
       "2                                       0.6   \n",
       "3                                       0.7   \n",
       "4                                       0.7   \n",
       "\n",
       "   Synthetic opioids death rates (CDC WONDER)  \\\n",
       "0                                         0.3   \n",
       "1                                         0.3   \n",
       "2                                         0.3   \n",
       "3                                         0.4   \n",
       "4                                         0.5   \n",
       "\n",
       "   Prescription Opioids death rates (US CDC WONDER)  \n",
       "0                                               1.2  \n",
       "1                                               1.3  \n",
       "2                                               1.7  \n",
       "3                                               2.3  \n",
       "4                                               2.6  "
      ]
     },
     "execution_count": 18,
     "metadata": {},
     "output_type": "execute_result"
    }
   ],
   "source": [
    "# load data set from kaggle\n",
    "df = pd.read_csv('drug-overdose-death-rates new.csv')\n",
    "df.head()"
   ]
  },
  {
   "cell_type": "code",
   "execution_count": 20,
   "metadata": {},
   "outputs": [],
   "source": [
    "import pandas as pd\n",
    "\n",
    "# Assuming df is your DataFrame and it's already defined\n",
    "# df = pd.read_csv('your_data.csv')\n",
    "\n",
    "df_1 = df.rename(columns={\n",
    "    'Any opioid death rates (CDC WONDER)': 'Opioid',\n",
    "    'Cocaine overdose death rates (CDC WONDER)': 'Cocaine',\n",
    "    'Heroin overdose death rates (CDC WONDER)': 'Heroin',\n",
    "    'Synthetic opioids death rates (CDC WONDER)': 'Synthetic opioids',\n",
    "    'Prescription Opioids death rates (US CDC WONDER)': 'Prescription Opioids',})"
   ]
  },
  {
   "cell_type": "code",
   "execution_count": 21,
   "metadata": {},
   "outputs": [
    {
     "data": {
      "text/html": [
       "<div>\n",
       "<style scoped>\n",
       "    .dataframe tbody tr th:only-of-type {\n",
       "        vertical-align: middle;\n",
       "    }\n",
       "\n",
       "    .dataframe tbody tr th {\n",
       "        vertical-align: top;\n",
       "    }\n",
       "\n",
       "    .dataframe thead th {\n",
       "        text-align: right;\n",
       "    }\n",
       "</style>\n",
       "<table border=\"1\" class=\"dataframe\">\n",
       "  <thead>\n",
       "    <tr style=\"text-align: right;\">\n",
       "      <th></th>\n",
       "      <th>Entity</th>\n",
       "      <th>Code</th>\n",
       "      <th>Year</th>\n",
       "      <th>Opioid</th>\n",
       "      <th>Cocaine</th>\n",
       "      <th>Heroin</th>\n",
       "      <th>Synthetic opioids</th>\n",
       "      <th>Prescription Opioids</th>\n",
       "    </tr>\n",
       "  </thead>\n",
       "  <tbody>\n",
       "    <tr>\n",
       "      <th>0</th>\n",
       "      <td>United States</td>\n",
       "      <td>USA</td>\n",
       "      <td>1999</td>\n",
       "      <td>2.9</td>\n",
       "      <td>1.4</td>\n",
       "      <td>0.7</td>\n",
       "      <td>0.3</td>\n",
       "      <td>1.2</td>\n",
       "    </tr>\n",
       "    <tr>\n",
       "      <th>1</th>\n",
       "      <td>United States</td>\n",
       "      <td>USA</td>\n",
       "      <td>2000</td>\n",
       "      <td>3.0</td>\n",
       "      <td>1.3</td>\n",
       "      <td>0.7</td>\n",
       "      <td>0.3</td>\n",
       "      <td>1.3</td>\n",
       "    </tr>\n",
       "    <tr>\n",
       "      <th>2</th>\n",
       "      <td>United States</td>\n",
       "      <td>USA</td>\n",
       "      <td>2001</td>\n",
       "      <td>3.3</td>\n",
       "      <td>1.3</td>\n",
       "      <td>0.6</td>\n",
       "      <td>0.3</td>\n",
       "      <td>1.7</td>\n",
       "    </tr>\n",
       "    <tr>\n",
       "      <th>3</th>\n",
       "      <td>United States</td>\n",
       "      <td>USA</td>\n",
       "      <td>2002</td>\n",
       "      <td>4.1</td>\n",
       "      <td>1.6</td>\n",
       "      <td>0.7</td>\n",
       "      <td>0.4</td>\n",
       "      <td>2.3</td>\n",
       "    </tr>\n",
       "    <tr>\n",
       "      <th>4</th>\n",
       "      <td>United States</td>\n",
       "      <td>USA</td>\n",
       "      <td>2003</td>\n",
       "      <td>4.5</td>\n",
       "      <td>1.8</td>\n",
       "      <td>0.7</td>\n",
       "      <td>0.5</td>\n",
       "      <td>2.6</td>\n",
       "    </tr>\n",
       "  </tbody>\n",
       "</table>\n",
       "</div>"
      ],
      "text/plain": [
       "          Entity Code  Year  Opioid  Cocaine  Heroin  Synthetic opioids  \\\n",
       "0  United States  USA  1999     2.9      1.4     0.7                0.3   \n",
       "1  United States  USA  2000     3.0      1.3     0.7                0.3   \n",
       "2  United States  USA  2001     3.3      1.3     0.6                0.3   \n",
       "3  United States  USA  2002     4.1      1.6     0.7                0.4   \n",
       "4  United States  USA  2003     4.5      1.8     0.7                0.5   \n",
       "\n",
       "   Prescription Opioids  \n",
       "0                   1.2  \n",
       "1                   1.3  \n",
       "2                   1.7  \n",
       "3                   2.3  \n",
       "4                   2.6  "
      ]
     },
     "execution_count": 21,
     "metadata": {},
     "output_type": "execute_result"
    }
   ],
   "source": [
    "df_1.head()"
   ]
  },
  {
   "cell_type": "code",
   "execution_count": null,
   "metadata": {},
   "outputs": [],
   "source": [
    "# Replace the column names\n",
    "df.columns = ['']"
   ]
  },
  {
   "cell_type": "code",
   "execution_count": 12,
   "metadata": {},
   "outputs": [
    {
     "data": {
      "image/png": "[encoded data removed]",
      "text/plain": [
       "<Figure size 1000x500 with 1 Axes>"
      ]
     },
     "metadata": {},
     "output_type": "display_data"
    }
   ],
   "source": [
    "plt.figure(figsize=(10, 5))\n",
    "plt.text(0.5, 0.5, \"Drug overdose death\", color='brown', fontsize=32, ha='center', va='center', fontweight='bold')\n",
    "plt.axis('off')\n",
    "plt.savefig('drug_overdose_death.png', bbox_inches='tight', pad_inches=0.1, dpi=300, transparent=True)\n",
    "plt.show()"
   ]
  },
  {
   "cell_type": "markdown",
   "metadata": {},
   "source": [
    "# Dataset Overview"
   ]
  },
  {
   "cell_type": "code",
   "execution_count": 10,
   "metadata": {},
   "outputs": [
    {
     "name": "stdout",
     "output_type": "stream",
     "text": [
      "--------------------------------------------------\n",
      "INFORMATION OF DATASET\n",
      "--------------------------------------------------\n",
      "<class 'pandas.core.frame.DataFrame'>\n",
      "RangeIndex: 22 entries, 0 to 21\n",
      "Data columns (total 8 columns):\n",
      " #   Column                                            Non-Null Count  Dtype  \n",
      "---  ------                                            --------------  -----  \n",
      " 0   Entity                                            22 non-null     object \n",
      " 1   Code                                              22 non-null     object \n",
      " 2   Year                                              22 non-null     int64  \n",
      " 3   Any opioid death rates (CDC WONDER)               22 non-null     float64\n",
      " 4   Cocaine overdose death rates (CDC WONDER)         22 non-null     float64\n",
      " 5   Heroin overdose death rates (CDC WONDER)          22 non-null     float64\n",
      " 6   Synthetic opioids death rates (CDC WONDER)        22 non-null     float64\n",
      " 7   Prescription Opioids death rates (US CDC WONDER)  22 non-null     float64\n",
      "dtypes: float64(5), int64(1), object(2)\n",
      "memory usage: 1.5+ KB\n"
     ]
    }
   ],
   "source": [
    "heading('Information of dataset')\n",
    "df.info()"
   ]
  },
  {
   "cell_type": "code",
   "execution_count": 24,
   "metadata": {},
   "outputs": [
    {
     "name": "stdout",
     "output_type": "stream",
     "text": [
      "--------------------------------------------------\n",
      "DESCRIPTION OF DATASET\n",
      "--------------------------------------------------\n"
     ]
    },
    {
     "data": {
      "text/html": [
       "<div>\n",
       "<style scoped>\n",
       "    .dataframe tbody tr th:only-of-type {\n",
       "        vertical-align: middle;\n",
       "    }\n",
       "\n",
       "    .dataframe tbody tr th {\n",
       "        vertical-align: top;\n",
       "    }\n",
       "\n",
       "    .dataframe thead th {\n",
       "        text-align: right;\n",
       "    }\n",
       "</style>\n",
       "<table border=\"1\" class=\"dataframe\">\n",
       "  <thead>\n",
       "    <tr style=\"text-align: right;\">\n",
       "      <th></th>\n",
       "      <th>Year</th>\n",
       "      <th>Opioid</th>\n",
       "      <th>Cocaine</th>\n",
       "      <th>Heroin</th>\n",
       "      <th>Synthetic opioids</th>\n",
       "      <th>Prescription Opioids</th>\n",
       "    </tr>\n",
       "  </thead>\n",
       "  <tbody>\n",
       "    <tr>\n",
       "      <th>count</th>\n",
       "      <td>22.000000</td>\n",
       "      <td>22.000000</td>\n",
       "      <td>22.000000</td>\n",
       "      <td>22.000000</td>\n",
       "      <td>22.000000</td>\n",
       "      <td>22.000000</td>\n",
       "    </tr>\n",
       "    <tr>\n",
       "      <th>mean</th>\n",
       "      <td>2009.500000</td>\n",
       "      <td>8.231818</td>\n",
       "      <td>2.350000</td>\n",
       "      <td>2.081818</td>\n",
       "      <td>3.145455</td>\n",
       "      <td>3.809091</td>\n",
       "    </tr>\n",
       "    <tr>\n",
       "      <th>std</th>\n",
       "      <td>6.493587</td>\n",
       "      <td>4.856747</td>\n",
       "      <td>1.351454</td>\n",
       "      <td>1.685692</td>\n",
       "      <td>4.716004</td>\n",
       "      <td>1.256567</td>\n",
       "    </tr>\n",
       "    <tr>\n",
       "      <th>min</th>\n",
       "      <td>1999.000000</td>\n",
       "      <td>2.900000</td>\n",
       "      <td>1.300000</td>\n",
       "      <td>0.600000</td>\n",
       "      <td>0.300000</td>\n",
       "      <td>1.200000</td>\n",
       "    </tr>\n",
       "    <tr>\n",
       "      <th>25%</th>\n",
       "      <td>2004.250000</td>\n",
       "      <td>4.800000</td>\n",
       "      <td>1.425000</td>\n",
       "      <td>0.700000</td>\n",
       "      <td>0.600000</td>\n",
       "      <td>2.975000</td>\n",
       "    </tr>\n",
       "    <tr>\n",
       "      <th>50%</th>\n",
       "      <td>2009.500000</td>\n",
       "      <td>6.700000</td>\n",
       "      <td>1.750000</td>\n",
       "      <td>1.050000</td>\n",
       "      <td>0.850000</td>\n",
       "      <td>4.350000</td>\n",
       "    </tr>\n",
       "    <tr>\n",
       "      <th>75%</th>\n",
       "      <td>2014.750000</td>\n",
       "      <td>10.050000</td>\n",
       "      <td>2.425000</td>\n",
       "      <td>3.925000</td>\n",
       "      <td>2.775000</td>\n",
       "      <td>4.675000</td>\n",
       "    </tr>\n",
       "    <tr>\n",
       "      <th>max</th>\n",
       "      <td>2020.000000</td>\n",
       "      <td>21.400000</td>\n",
       "      <td>6.000000</td>\n",
       "      <td>4.900000</td>\n",
       "      <td>17.800000</td>\n",
       "      <td>5.200000</td>\n",
       "    </tr>\n",
       "  </tbody>\n",
       "</table>\n",
       "</div>"
      ],
      "text/plain": [
       "              Year     Opioid    Cocaine     Heroin  Synthetic opioids  \\\n",
       "count    22.000000  22.000000  22.000000  22.000000          22.000000   \n",
       "mean   2009.500000   8.231818   2.350000   2.081818           3.145455   \n",
       "std       6.493587   4.856747   1.351454   1.685692           4.716004   \n",
       "min    1999.000000   2.900000   1.300000   0.600000           0.300000   \n",
       "25%    2004.250000   4.800000   1.425000   0.700000           0.600000   \n",
       "50%    2009.500000   6.700000   1.750000   1.050000           0.850000   \n",
       "75%    2014.750000  10.050000   2.425000   3.925000           2.775000   \n",
       "max    2020.000000  21.400000   6.000000   4.900000          17.800000   \n",
       "\n",
       "       Prescription Opioids  \n",
       "count             22.000000  \n",
       "mean               3.809091  \n",
       "std                1.256567  \n",
       "min                1.200000  \n",
       "25%                2.975000  \n",
       "50%                4.350000  \n",
       "75%                4.675000  \n",
       "max                5.200000  "
      ]
     },
     "execution_count": 24,
     "metadata": {},
     "output_type": "execute_result"
    }
   ],
   "source": [
    "heading('Description of dataset')\n",
    "df_1.describe()"
   ]
  },
  {
   "cell_type": "code",
   "execution_count": 13,
   "metadata": {},
   "outputs": [
    {
     "name": "stdout",
     "output_type": "stream",
     "text": [
      "--------------------------------------------------\n",
      "MISSING VALUES\n",
      "--------------------------------------------------\n"
     ]
    },
    {
     "data": {
      "text/plain": [
       "Entity                                              0\n",
       "Code                                                0\n",
       "Year                                                0\n",
       "Any opioid death rates (CDC WONDER)                 0\n",
       "Cocaine overdose death rates (CDC WONDER)           0\n",
       "Heroin overdose death rates (CDC WONDER)            0\n",
       "Synthetic opioids death rates (CDC WONDER)          0\n",
       "Prescription Opioids death rates (US CDC WONDER)    0\n",
       "dtype: int64"
      ]
     },
     "execution_count": 13,
     "metadata": {},
     "output_type": "execute_result"
    }
   ],
   "source": [
    "# check for missing values\n",
    "heading('Missing Values')\n",
    "df.isnull().sum().sort_values(ascending=False)"
   ]
  },
  {
   "cell_type": "markdown",
   "metadata": {},
   "source": [
    "- We have no Missing values lets Dive into other operation"
   ]
  },
  {
   "cell_type": "code",
   "execution_count": 14,
   "metadata": {},
   "outputs": [
    {
     "name": "stdout",
     "output_type": "stream",
     "text": [
      "--------------------------------------------------\n",
      "UNIVARIATE ANALYSIS\n",
      "--------------------------------------------------\n"
     ]
    },
    {
     "data": {
      "image/png": "[encoded data removed]",
      "text/plain": [
       "<Figure size 1000x500 with 1 Axes>"
      ]
     },
     "metadata": {},
     "output_type": "display_data"
    }
   ],
   "source": [
    "# Make univariate analysis\n",
    "heading('Univariate Analysis')\n",
    "# plot histogram\n",
    "plt.figure(figsize=(10, 5))\n",
    "sns.histplot(df['Year'], kde=True, color='brown')\n",
    "plt.title('Year Distribution')\n",
    "plt.savefig('year_distribution.png', bbox_inches='tight', pad_inches=0.1, dpi=300, transparent=True)\n",
    "plt.show()"
   ]
  },
  {
   "cell_type": "markdown",
   "metadata": {},
   "source": [
    "# Explore the Features"
   ]
  },
  {
   "cell_type": "code",
   "execution_count": null,
   "metadata": {},
   "outputs": [],
   "source": [
    "# Check relationship using multi variate analysis using loop"
   ]
  }
 ],
 "metadata": {
  "kernelspec": {
   "display_name": "python_ml",
   "language": "python",
   "name": "python3"
  },
  "language_info": {
   "codemirror_mode": {
    "name": "ipython",
    "version": 3
   },
   "file_extension": ".py",
   "mimetype": "text/x-python",
   "name": "python",
   "nbconvert_exporter": "python",
   "pygments_lexer": "ipython3",
   "version": "3.9.0"
  }
 },
 "nbformat": 4,
 "nbformat_minor": 2
}
